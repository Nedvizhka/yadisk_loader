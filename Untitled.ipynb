{
 "cells": [
  {
   "cell_type": "code",
   "execution_count": 2,
   "id": "a98a9568",
   "metadata": {},
   "outputs": [],
   "source": [
    "import requests, zipfile\n",
    "from io import StringIO\n",
    "# r = requests.get(zip_file_url, stream=True)\n",
    "# z = zipfile.ZipFile(StringIO.StringIO(r.content))\n",
    "# z.extractall()"
   ]
  },
  {
   "cell_type": "code",
   "execution_count": 3,
   "id": "aeed8eb7",
   "metadata": {},
   "outputs": [],
   "source": [
    "import requests\n",
    "\n",
    "ya_api = 'https://cloud-api.yandex.net/v1/disk/public/resources/download?public_key={}'\n",
    "\n",
    "def get_direct_link(sharing_link):\n",
    "    pk_request = requests.get(ya_api.format(sharing_link))\n",
    "    # None если не удается преоброазовать ссылку\n",
    "    return pk_request.json().get('href')\n",
    "\n",
    "def download_yadisk_link(sharing_link, filename):\n",
    "    direct_link = get_direct_link(sharing_link)\n",
    "    if direct_link:        \n",
    "        download = requests.get(direct_link)\n",
    "        with open(filename, 'wb') as out_file:\n",
    "            out_file.write(download.content)\n",
    "        print('Succesfully downloaded \"{}\" to \"{}\"'.format(sharing_link, filename))\n",
    "    else:\n",
    "        print('Failed to download \"{}\"'.format(sharing_link))"
   ]
  },
  {
   "cell_type": "code",
   "execution_count": 5,
   "id": "c1b5a01e",
   "metadata": {},
   "outputs": [
    {
     "name": "stdout",
     "output_type": "stream",
     "text": [
      "Downloaded \"https://disk.yandex.ru/d/sVgz0GiqjhCsNg\" to \"ya_csvs.zip\"\n"
     ]
    }
   ],
   "source": [
    "download_yadisk_link('https://disk.yandex.ru/d/sVgz0GiqjhCsNg', 'ya_csvs.zip')"
   ]
  },
  {
   "cell_type": "code",
   "execution_count": 6,
   "id": "9bc2f7be",
   "metadata": {},
   "outputs": [],
   "source": [
    "def _get_real_direct_link(sharing_link):\n",
    "    pk_request = requests.get(ya_api.format(sharing_link))\n",
    "    \n",
    "    # Returns None if the link cannot be \"converted\"\n",
    "    return pk_request.json().get('href')"
   ]
  },
  {
   "cell_type": "code",
   "execution_count": 7,
   "id": "5b599d9d",
   "metadata": {},
   "outputs": [],
   "source": [
    "a = _get_real_direct_link('https://disk.yandex.ru/d/sVgz0GiqjhCsNg')"
   ]
  },
  {
   "cell_type": "code",
   "execution_count": 8,
   "id": "c55ee74d",
   "metadata": {},
   "outputs": [],
   "source": [
    "download = requests.get(a)"
   ]
  },
  {
   "cell_type": "code",
   "execution_count": 9,
   "id": "302ec391",
   "metadata": {},
   "outputs": [],
   "source": [
    "import requests, zipfile, io\n",
    "z = zipfile.ZipFile(io.BytesIO(download.content))"
   ]
  },
  {
   "cell_type": "code",
   "execution_count": 10,
   "id": "f40181a8",
   "metadata": {},
   "outputs": [
    {
     "data": {
      "text/plain": [
       "[<ZipInfo filename='авито-недвижимость/07-02-2023.csv' compress_type=deflate file_size=11576757 compress_size=2002904>,\n",
       " <ZipInfo filename='авито-недвижимость/07-02-23 (без дублей).csv' compress_type=deflate file_size=8963730 compress_size=1684354>,\n",
       " <ZipInfo filename='авито-недвижимость/08-02-23 (без дублей).csv' compress_type=deflate file_size=9175174 compress_size=1701610>,\n",
       " <ZipInfo filename='авито-недвижимость/09-02-23 (без дублей) 2.csv' compress_type=deflate file_size=9218297 compress_size=1746578>,\n",
       " <ZipInfo filename='авито-недвижимость/09-02-23 (без дублей).csv' compress_type=deflate file_size=9202177 compress_size=1741572>,\n",
       " <ZipInfo filename='авито-недвижимость/10-02-23 (без дублей).csv' compress_type=deflate file_size=9428903 compress_size=1707088>,\n",
       " <ZipInfo filename='авито-недвижимость/11-02-23 (без дублей).csv' compress_type=deflate file_size=9737136 compress_size=1791292>,\n",
       " <ZipInfo filename='авито-недвижимость/12-02-23 (без дублей).csv' compress_type=deflate file_size=9560006 compress_size=1806400>,\n",
       " <ZipInfo filename='авито-недвижимость/' compress_type=deflate compress_size=2>]"
      ]
     },
     "execution_count": 10,
     "metadata": {},
     "output_type": "execute_result"
    }
   ],
   "source": [
    "z.filelist"
   ]
  },
  {
   "cell_type": "code",
   "execution_count": 11,
   "id": "5e463942",
   "metadata": {},
   "outputs": [],
   "source": [
    "from pathlib import Path"
   ]
  },
  {
   "cell_type": "code",
   "execution_count": 15,
   "id": "6a68ce6e",
   "metadata": {},
   "outputs": [
    {
     "data": {
      "text/plain": [
       "'C:/Users/pnknv/Documents/projects/8_load_ya_to_sql/here'"
      ]
     },
     "execution_count": 15,
     "metadata": {},
     "output_type": "execute_result"
    }
   ],
   "source": [
    "(Path.cwd()/'here').as_posix()"
   ]
  },
  {
   "cell_type": "code",
   "execution_count": 16,
   "id": "4f950fd7",
   "metadata": {},
   "outputs": [],
   "source": [
    "z.extractall((Path.cwd()/'here').as_posix())"
   ]
  },
  {
   "cell_type": "code",
   "execution_count": 1,
   "id": "c7158ec5",
   "metadata": {},
   "outputs": [],
   "source": [
    "import yadisk"
   ]
  },
  {
   "cell_type": "code",
   "execution_count": 4,
   "id": "6e5db53b",
   "metadata": {},
   "outputs": [],
   "source": [
    "token=\"y0_AgAAAAA0vhCMAAkhvwAAAADcJt3m9RWZfV9cR52r2dHf3O2daoQ4Bxo\""
   ]
  },
  {
   "cell_type": "code",
   "execution_count": 5,
   "id": "2d4e707a",
   "metadata": {},
   "outputs": [
    {
     "name": "stdout",
     "output_type": "stream",
     "text": [
      "токен валидный\n"
     ]
    }
   ],
   "source": [
    "if yadisk.YaDisk(token=token).check_token():\n",
    "    print('токен валидный')\n",
    "else:\n",
    "    print('проверьте токен')"
   ]
  },
  {
   "cell_type": "code",
   "execution_count": 6,
   "id": "4a5c3d6b",
   "metadata": {},
   "outputs": [],
   "source": [
    "y = yadisk.YaDisk(token=token)"
   ]
  },
  {
   "cell_type": "code",
   "execution_count": null,
   "id": "6e4dcbd5",
   "metadata": {},
   "outputs": [],
   "source": []
  },
  {
   "cell_type": "code",
   "execution_count": null,
   "id": "4ed8c75a",
   "metadata": {},
   "outputs": [],
   "source": []
  },
  {
   "cell_type": "code",
   "execution_count": 9,
   "id": "2cc34e71",
   "metadata": {},
   "outputs": [],
   "source": [
    "import requests\n",
    "from urllib.parse import urlencode\n",
    "import json\n",
    "import urllib"
   ]
  },
  {
   "cell_type": "code",
   "execution_count": 10,
   "id": "2028df5d",
   "metadata": {},
   "outputs": [],
   "source": [
    "base_url = 'https://cloud-api.yandex.net/v1/disk/public/resources/download?'\n",
    "public_key = 'https://disk.yandex.ru/d/sVgz0GiqjhCsNg'  # Сюда вписываете вашу ссылку"
   ]
  },
  {
   "cell_type": "code",
   "execution_count": 11,
   "id": "d2215e05",
   "metadata": {},
   "outputs": [],
   "source": [
    "final_url = base_url + urlencode(dict(public_key=public_key))"
   ]
  },
  {
   "cell_type": "code",
   "execution_count": 12,
   "id": "cbf35013",
   "metadata": {},
   "outputs": [
    {
     "data": {
      "text/plain": [
       "'https://cloud-api.yandex.net/v1/disk/public/resources/download?public_key=https%3A%2F%2Fdisk.yandex.ru%2Fd%2FsVgz0GiqjhCsNg'"
      ]
     },
     "execution_count": 12,
     "metadata": {},
     "output_type": "execute_result"
    }
   ],
   "source": [
    "final_url"
   ]
  },
  {
   "cell_type": "code",
   "execution_count": 13,
   "id": "acaf5b72",
   "metadata": {},
   "outputs": [],
   "source": [
    "# Получаем загрузочную ссылку\n",
    "final_url = base_url + urlencode(dict(public_key=public_key))\n",
    "response = requests.get(final_url)\n",
    "download_url = response.json()['href']"
   ]
  },
  {
   "cell_type": "code",
   "execution_count": 4,
   "id": "3bfd72c2",
   "metadata": {},
   "outputs": [],
   "source": [
    "r = requests.get(download_url)"
   ]
  },
  {
   "cell_type": "code",
   "execution_count": 5,
   "id": "cde31fd3",
   "metadata": {},
   "outputs": [
    {
     "data": {
      "text/plain": [
       "<Response [200]>"
      ]
     },
     "execution_count": 5,
     "metadata": {},
     "output_type": "execute_result"
    }
   ],
   "source": [
    "r"
   ]
  },
  {
   "cell_type": "code",
   "execution_count": 6,
   "id": "1f1fd0fe",
   "metadata": {},
   "outputs": [
    {
     "ename": "JSONDecodeError",
     "evalue": "Expecting value: line 1 column 1 (char 0)",
     "output_type": "error",
     "traceback": [
      "\u001b[1;31m---------------------------------------------------------------------------\u001b[0m",
      "\u001b[1;31mJSONDecodeError\u001b[0m                           Traceback (most recent call last)",
      "Cell \u001b[1;32mIn[6], line 1\u001b[0m\n\u001b[1;32m----> 1\u001b[0m h \u001b[38;5;241m=\u001b[39m \u001b[43mjson\u001b[49m\u001b[38;5;241;43m.\u001b[39;49m\u001b[43mloads\u001b[49m\u001b[43m(\u001b[49m\u001b[43mr\u001b[49m\u001b[38;5;241;43m.\u001b[39;49m\u001b[43mtext\u001b[49m\u001b[43m)\u001b[49m\n",
      "File \u001b[1;32mC:\\Python311\\Lib\\json\\__init__.py:346\u001b[0m, in \u001b[0;36mloads\u001b[1;34m(s, cls, object_hook, parse_float, parse_int, parse_constant, object_pairs_hook, **kw)\u001b[0m\n\u001b[0;32m    341\u001b[0m     s \u001b[38;5;241m=\u001b[39m s\u001b[38;5;241m.\u001b[39mdecode(detect_encoding(s), \u001b[38;5;124m'\u001b[39m\u001b[38;5;124msurrogatepass\u001b[39m\u001b[38;5;124m'\u001b[39m)\n\u001b[0;32m    343\u001b[0m \u001b[38;5;28;01mif\u001b[39;00m (\u001b[38;5;28mcls\u001b[39m \u001b[38;5;129;01mis\u001b[39;00m \u001b[38;5;28;01mNone\u001b[39;00m \u001b[38;5;129;01mand\u001b[39;00m object_hook \u001b[38;5;129;01mis\u001b[39;00m \u001b[38;5;28;01mNone\u001b[39;00m \u001b[38;5;129;01mand\u001b[39;00m\n\u001b[0;32m    344\u001b[0m         parse_int \u001b[38;5;129;01mis\u001b[39;00m \u001b[38;5;28;01mNone\u001b[39;00m \u001b[38;5;129;01mand\u001b[39;00m parse_float \u001b[38;5;129;01mis\u001b[39;00m \u001b[38;5;28;01mNone\u001b[39;00m \u001b[38;5;129;01mand\u001b[39;00m\n\u001b[0;32m    345\u001b[0m         parse_constant \u001b[38;5;129;01mis\u001b[39;00m \u001b[38;5;28;01mNone\u001b[39;00m \u001b[38;5;129;01mand\u001b[39;00m object_pairs_hook \u001b[38;5;129;01mis\u001b[39;00m \u001b[38;5;28;01mNone\u001b[39;00m \u001b[38;5;129;01mand\u001b[39;00m \u001b[38;5;129;01mnot\u001b[39;00m kw):\n\u001b[1;32m--> 346\u001b[0m     \u001b[38;5;28;01mreturn\u001b[39;00m \u001b[43m_default_decoder\u001b[49m\u001b[38;5;241;43m.\u001b[39;49m\u001b[43mdecode\u001b[49m\u001b[43m(\u001b[49m\u001b[43ms\u001b[49m\u001b[43m)\u001b[49m\n\u001b[0;32m    347\u001b[0m \u001b[38;5;28;01mif\u001b[39;00m \u001b[38;5;28mcls\u001b[39m \u001b[38;5;129;01mis\u001b[39;00m \u001b[38;5;28;01mNone\u001b[39;00m:\n\u001b[0;32m    348\u001b[0m     \u001b[38;5;28mcls\u001b[39m \u001b[38;5;241m=\u001b[39m JSONDecoder\n",
      "File \u001b[1;32mC:\\Python311\\Lib\\json\\decoder.py:337\u001b[0m, in \u001b[0;36mJSONDecoder.decode\u001b[1;34m(self, s, _w)\u001b[0m\n\u001b[0;32m    332\u001b[0m \u001b[38;5;28;01mdef\u001b[39;00m \u001b[38;5;21mdecode\u001b[39m(\u001b[38;5;28mself\u001b[39m, s, _w\u001b[38;5;241m=\u001b[39mWHITESPACE\u001b[38;5;241m.\u001b[39mmatch):\n\u001b[0;32m    333\u001b[0m     \u001b[38;5;124;03m\"\"\"Return the Python representation of ``s`` (a ``str`` instance\u001b[39;00m\n\u001b[0;32m    334\u001b[0m \u001b[38;5;124;03m    containing a JSON document).\u001b[39;00m\n\u001b[0;32m    335\u001b[0m \n\u001b[0;32m    336\u001b[0m \u001b[38;5;124;03m    \"\"\"\u001b[39;00m\n\u001b[1;32m--> 337\u001b[0m     obj, end \u001b[38;5;241m=\u001b[39m \u001b[38;5;28;43mself\u001b[39;49m\u001b[38;5;241;43m.\u001b[39;49m\u001b[43mraw_decode\u001b[49m\u001b[43m(\u001b[49m\u001b[43ms\u001b[49m\u001b[43m,\u001b[49m\u001b[43m \u001b[49m\u001b[43midx\u001b[49m\u001b[38;5;241;43m=\u001b[39;49m\u001b[43m_w\u001b[49m\u001b[43m(\u001b[49m\u001b[43ms\u001b[49m\u001b[43m,\u001b[49m\u001b[43m \u001b[49m\u001b[38;5;241;43m0\u001b[39;49m\u001b[43m)\u001b[49m\u001b[38;5;241;43m.\u001b[39;49m\u001b[43mend\u001b[49m\u001b[43m(\u001b[49m\u001b[43m)\u001b[49m\u001b[43m)\u001b[49m\n\u001b[0;32m    338\u001b[0m     end \u001b[38;5;241m=\u001b[39m _w(s, end)\u001b[38;5;241m.\u001b[39mend()\n\u001b[0;32m    339\u001b[0m     \u001b[38;5;28;01mif\u001b[39;00m end \u001b[38;5;241m!=\u001b[39m \u001b[38;5;28mlen\u001b[39m(s):\n",
      "File \u001b[1;32mC:\\Python311\\Lib\\json\\decoder.py:355\u001b[0m, in \u001b[0;36mJSONDecoder.raw_decode\u001b[1;34m(self, s, idx)\u001b[0m\n\u001b[0;32m    353\u001b[0m     obj, end \u001b[38;5;241m=\u001b[39m \u001b[38;5;28mself\u001b[39m\u001b[38;5;241m.\u001b[39mscan_once(s, idx)\n\u001b[0;32m    354\u001b[0m \u001b[38;5;28;01mexcept\u001b[39;00m \u001b[38;5;167;01mStopIteration\u001b[39;00m \u001b[38;5;28;01mas\u001b[39;00m err:\n\u001b[1;32m--> 355\u001b[0m     \u001b[38;5;28;01mraise\u001b[39;00m JSONDecodeError(\u001b[38;5;124m\"\u001b[39m\u001b[38;5;124mExpecting value\u001b[39m\u001b[38;5;124m\"\u001b[39m, s, err\u001b[38;5;241m.\u001b[39mvalue) \u001b[38;5;28;01mfrom\u001b[39;00m \u001b[38;5;28mNone\u001b[39m\n\u001b[0;32m    356\u001b[0m \u001b[38;5;28;01mreturn\u001b[39;00m obj, end\n",
      "\u001b[1;31mJSONDecodeError\u001b[0m: Expecting value: line 1 column 1 (char 0)"
     ]
    }
   ],
   "source": [
    "h = json.loads(r.text)"
   ]
  },
  {
   "cell_type": "code",
   "execution_count": null,
   "id": "17d3f41b",
   "metadata": {},
   "outputs": [],
   "source": [
    "df = pd.read_csv(h, sep=';', encoding='cp1251')"
   ]
  },
  {
   "cell_type": "code",
   "execution_count": null,
   "id": "47d5da68",
   "metadata": {},
   "outputs": [],
   "source": [
    "import pandas as pd"
   ]
  },
  {
   "cell_type": "code",
   "execution_count": null,
   "id": "ad73f0f8",
   "metadata": {},
   "outputs": [],
   "source": [
    "df = pd.read_csv(h, sep=';', encoding='cp1251')"
   ]
  },
  {
   "cell_type": "code",
   "execution_count": null,
   "id": "039a4951",
   "metadata": {},
   "outputs": [],
   "source": []
  }
 ],
 "metadata": {
  "kernelspec": {
   "display_name": "Python 3 (ipykernel)",
   "language": "python",
   "name": "python3"
  },
  "language_info": {
   "codemirror_mode": {
    "name": "ipython",
    "version": 3
   },
   "file_extension": ".py",
   "mimetype": "text/x-python",
   "name": "python",
   "nbconvert_exporter": "python",
   "pygments_lexer": "ipython3",
   "version": "3.11.1"
  }
 },
 "nbformat": 4,
 "nbformat_minor": 5
}
