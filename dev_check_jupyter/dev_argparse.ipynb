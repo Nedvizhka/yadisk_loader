{
 "cells": [
  {
   "cell_type": "code",
   "execution_count": 4,
   "id": "94752c15",
   "metadata": {},
   "outputs": [],
   "source": [
    "env_value = None"
   ]
  },
  {
   "cell_type": "code",
   "execution_count": 5,
   "id": "df91150a",
   "metadata": {},
   "outputs": [
    {
     "data": {
      "text/plain": [
       "'ya_loader.log'"
      ]
     },
     "execution_count": 5,
     "metadata": {},
     "output_type": "execute_result"
    }
   ],
   "source": [
    "f'ya_loader{\"_\"+env_value if env_value != None else \"\"}.log'"
   ]
  },
  {
   "cell_type": "code",
   "execution_count": null,
   "id": "5cfe6eb4",
   "metadata": {},
   "outputs": [],
   "source": []
  }
 ],
 "metadata": {
  "kernelspec": {
   "display_name": "Python 3 (ipykernel)",
   "language": "python",
   "name": "python3"
  },
  "language_info": {
   "codemirror_mode": {
    "name": "ipython",
    "version": 3
   },
   "file_extension": ".py",
   "mimetype": "text/x-python",
   "name": "python",
   "nbconvert_exporter": "python",
   "pygments_lexer": "ipython3",
   "version": "3.10.4"
  }
 },
 "nbformat": 4,
 "nbformat_minor": 5
}
