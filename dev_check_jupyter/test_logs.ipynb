{
 "cells": [
  {
   "cell_type": "code",
   "execution_count": 1,
   "id": "031d89bf",
   "metadata": {},
   "outputs": [],
   "source": [
    "import pandas as pd"
   ]
  },
  {
   "cell_type": "code",
   "execution_count": 6,
   "id": "ffa03183",
   "metadata": {},
   "outputs": [],
   "source": [
    "a = pd.read_csv('saved_data_csv/avito_dadata_request_2023_04_28.csv', encoding='cp1251', index_col=0)"
   ]
  },
  {
   "cell_type": "code",
   "execution_count": 10,
   "id": "500a9e95",
   "metadata": {},
   "outputs": [
    {
     "data": {
      "text/html": [
       "<div>\n",
       "<style scoped>\n",
       "    .dataframe tbody tr th:only-of-type {\n",
       "        vertical-align: middle;\n",
       "    }\n",
       "\n",
       "    .dataframe tbody tr th {\n",
       "        vertical-align: top;\n",
       "    }\n",
       "\n",
       "    .dataframe thead th {\n",
       "        text-align: right;\n",
       "    }\n",
       "</style>\n",
       "<table border=\"1\" class=\"dataframe\">\n",
       "  <thead>\n",
       "    <tr style=\"text-align: right;\">\n",
       "      <th></th>\n",
       "      <th>house_fias_id</th>\n",
       "      <th>data</th>\n",
       "      <th>geo_lat</th>\n",
       "      <th>geo_lon</th>\n",
       "      <th>street</th>\n",
       "      <th>house</th>\n",
       "      <th>qc</th>\n",
       "      <th>result</th>\n",
       "      <th>qc_geo</th>\n",
       "      <th>ad_id</th>\n",
       "    </tr>\n",
       "  </thead>\n",
       "  <tbody>\n",
       "    <tr>\n",
       "      <th>0</th>\n",
       "      <td>6588a060-63e9-47fd-9e72-7a0236f668a1</td>\n",
       "      <td>{'source': 'Казань; Ботаническая ул.; 9', 'res...</td>\n",
       "      <td>55.766624</td>\n",
       "      <td>49.139143</td>\n",
       "      <td>Ботаническая</td>\n",
       "      <td>9</td>\n",
       "      <td>0</td>\n",
       "      <td>г Казань, ул Ботаническая, д 9</td>\n",
       "      <td>0</td>\n",
       "      <td>2510901675</td>\n",
       "    </tr>\n",
       "    <tr>\n",
       "      <th>1</th>\n",
       "      <td>8e8296d8-f3e1-4478-961f-b50781bae779</td>\n",
       "      <td>{'source': 'Казань; р-н Кировский; ул. Айрата ...</td>\n",
       "      <td>55.866713</td>\n",
       "      <td>48.882206</td>\n",
       "      <td>Айрата Арсланова</td>\n",
       "      <td>6А</td>\n",
       "      <td>0</td>\n",
       "      <td>г Казань, ул Айрата Арсланова, д 6А</td>\n",
       "      <td>0</td>\n",
       "      <td>2878344292</td>\n",
       "    </tr>\n",
       "  </tbody>\n",
       "</table>\n",
       "</div>"
      ],
      "text/plain": [
       "                          house_fias_id  \\\n",
       "0  6588a060-63e9-47fd-9e72-7a0236f668a1   \n",
       "1  8e8296d8-f3e1-4478-961f-b50781bae779   \n",
       "\n",
       "                                                data    geo_lat    geo_lon  \\\n",
       "0  {'source': 'Казань; Ботаническая ул.; 9', 'res...  55.766624  49.139143   \n",
       "1  {'source': 'Казань; р-н Кировский; ул. Айрата ...  55.866713  48.882206   \n",
       "\n",
       "             street house  qc                               result  qc_geo  \\\n",
       "0      Ботаническая     9   0       г Казань, ул Ботаническая, д 9       0   \n",
       "1  Айрата Арсланова    6А   0  г Казань, ул Айрата Арсланова, д 6А       0   \n",
       "\n",
       "        ad_id  \n",
       "0  2510901675  \n",
       "1  2878344292  "
      ]
     },
     "execution_count": 10,
     "metadata": {},
     "output_type": "execute_result"
    }
   ],
   "source": [
    "a.head(2)"
   ]
  },
  {
   "cell_type": "code",
   "execution_count": 11,
   "id": "8cc82094",
   "metadata": {},
   "outputs": [
    {
     "data": {
      "text/plain": [
       "17525"
      ]
     },
     "execution_count": 11,
     "metadata": {},
     "output_type": "execute_result"
    }
   ],
   "source": [
    "len(a)"
   ]
  },
  {
   "cell_type": "code",
   "execution_count": 13,
   "id": "b67ccbed",
   "metadata": {},
   "outputs": [
    {
     "data": {
      "text/plain": [
       "4288"
      ]
     },
     "execution_count": 13,
     "metadata": {},
     "output_type": "execute_result"
    }
   ],
   "source": [
    "# не определен fias\n",
    "len(a[a.house_fias_id.isna()])"
   ]
  },
  {
   "cell_type": "code",
   "execution_count": 15,
   "id": "01c8bd8b",
   "metadata": {},
   "outputs": [
    {
     "data": {
      "text/plain": [
       "24.4679029957204"
      ]
     },
     "execution_count": 15,
     "metadata": {},
     "output_type": "execute_result"
    }
   ],
   "source": [
    "len(a[a.house_fias_id.isna()])/len(a) * 100"
   ]
  },
  {
   "cell_type": "code",
   "execution_count": null,
   "id": "a06d1ce0",
   "metadata": {},
   "outputs": [],
   "source": []
  },
  {
   "cell_type": "code",
   "execution_count": 10,
   "id": "530c6583",
   "metadata": {},
   "outputs": [],
   "source": [
    "import yadisk\n",
    "from pathlib import Path"
   ]
  },
  {
   "cell_type": "code",
   "execution_count": 2,
   "id": "a5cf2933",
   "metadata": {},
   "outputs": [],
   "source": [
    "yandex_api_token = 'y0_AgAAAABpLHgnAAnWZgAAAADiGgk39fnclE8RSGKkipbS2to50x69adU'"
   ]
  },
  {
   "cell_type": "code",
   "execution_count": 3,
   "id": "877171f2",
   "metadata": {},
   "outputs": [],
   "source": [
    "y = yadisk.YaDisk(token=yandex_api_token)"
   ]
  },
  {
   "cell_type": "code",
   "execution_count": 4,
   "id": "625c3880",
   "metadata": {},
   "outputs": [
    {
     "data": {
      "text/plain": [
       "True"
      ]
     },
     "execution_count": 4,
     "metadata": {},
     "output_type": "execute_result"
    }
   ],
   "source": [
    "y.check_token()"
   ]
  },
  {
   "cell_type": "code",
   "execution_count": 6,
   "id": "76cdef65",
   "metadata": {},
   "outputs": [],
   "source": [
    "disk_files_info = list(y.listdir(\"/avito-cian\"))"
   ]
  },
  {
   "cell_type": "code",
   "execution_count": 8,
   "id": "382b8a18",
   "metadata": {},
   "outputs": [],
   "source": [
    "disk_files_routes = [disk_files_info[i].path for i in range(len(disk_files_info))]"
   ]
  },
  {
   "cell_type": "code",
   "execution_count": 9,
   "id": "c514ff26",
   "metadata": {},
   "outputs": [
    {
     "data": {
      "text/plain": [
       "['disk:/avito-cian/25-04-23 (без дублей).csv',\n",
       " 'disk:/avito-cian/26-04-23 (без дублей).csv',\n",
       " 'disk:/avito-cian/27-04-23 (без дублей).csv',\n",
       " 'disk:/avito-cian/28-04-23 (без дублей).csv',\n",
       " 'disk:/avito-cian/29-04-23 (без дублей).csv',\n",
       " 'disk:/avito-cian/30-04-23 (без дублей).csv',\n",
       " 'disk:/avito-cian/циан 25-04-23 (без дублей).csv',\n",
       " 'disk:/avito-cian/циан 26-04-23 (без дублей).csv',\n",
       " 'disk:/avito-cian/циан 27-04-23 (без дублей).csv',\n",
       " 'disk:/avito-cian/циан 28-04-23 (без дублей).csv',\n",
       " 'disk:/avito-cian/циан 29-04-23 (без дублей).csv',\n",
       " 'disk:/avito-cian/циан 30-04-23 (без дублей).csv']"
      ]
     },
     "execution_count": 9,
     "metadata": {},
     "output_type": "execute_result"
    }
   ],
   "source": [
    "disk_files_routes"
   ]
  },
  {
   "cell_type": "code",
   "execution_count": 11,
   "id": "13aa35fc",
   "metadata": {},
   "outputs": [
    {
     "data": {
      "text/plain": [
       "'25-04-23 (без дублей)'"
      ]
     },
     "execution_count": 11,
     "metadata": {},
     "output_type": "execute_result"
    }
   ],
   "source": [
    "Path(disk_files_routes[0]).stem"
   ]
  },
  {
   "cell_type": "code",
   "execution_count": null,
   "id": "022d806a",
   "metadata": {},
   "outputs": [],
   "source": [
    "[]"
   ]
  }
 ],
 "metadata": {
  "kernelspec": {
   "display_name": "Python 3 (ipykernel)",
   "language": "python",
   "name": "python3"
  },
  "language_info": {
   "codemirror_mode": {
    "name": "ipython",
    "version": 3
   },
   "file_extension": ".py",
   "mimetype": "text/x-python",
   "name": "python",
   "nbconvert_exporter": "python",
   "pygments_lexer": "ipython3",
   "version": "3.10.4"
  }
 },
 "nbformat": 4,
 "nbformat_minor": 5
}
