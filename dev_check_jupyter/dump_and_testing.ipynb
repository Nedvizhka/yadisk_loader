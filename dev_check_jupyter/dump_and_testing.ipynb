{
 "cells": [
  {
   "cell_type": "markdown",
   "id": "d2a7e52e",
   "metadata": {},
   "source": [
    "# use yadisk"
   ]
  },
  {
   "cell_type": "markdown",
   "id": "310c9c6e",
   "metadata": {},
   "source": [
    "# imports"
   ]
  },
  {
   "cell_type": "code",
   "execution_count": 1,
   "id": "311f34ab",
   "metadata": {
    "ExecuteTime": {
     "end_time": "2023-03-22T06:33:52.357446Z",
     "start_time": "2023-03-22T06:33:52.259153Z"
    }
   },
   "outputs": [],
   "source": [
    "from pathlib import Path\n",
    "import yadisk"
   ]
  },
  {
   "cell_type": "code",
   "execution_count": 2,
   "id": "d3045904",
   "metadata": {
    "ExecuteTime": {
     "end_time": "2023-03-22T06:33:52.596185Z",
     "start_time": "2023-03-22T06:33:52.591293Z"
    }
   },
   "outputs": [],
   "source": [
    "import configparser\n",
    "config = configparser.ConfigParser()\n",
    "config.read('config.ini')\n",
    "ya_token = config['yandex']['ya_token']"
   ]
  },
  {
   "cell_type": "code",
   "execution_count": 3,
   "id": "892b0add",
   "metadata": {
    "ExecuteTime": {
     "end_time": "2023-03-22T06:33:52.992841Z",
     "start_time": "2023-03-22T06:33:52.987449Z"
    }
   },
   "outputs": [
    {
     "data": {
      "text/plain": [
       "'y0_AgAAAABo705rAAkzLwAAAADdWdXbk1ZPx999SpaBrBZoo9Agy2g-JYA'"
      ]
     },
     "execution_count": 3,
     "metadata": {},
     "output_type": "execute_result"
    }
   ],
   "source": [
    "ya_token"
   ]
  },
  {
   "cell_type": "code",
   "execution_count": 4,
   "id": "11d50a80",
   "metadata": {
    "ExecuteTime": {
     "end_time": "2023-03-22T06:33:53.436296Z",
     "start_time": "2023-03-22T06:33:53.433364Z"
    }
   },
   "outputs": [],
   "source": [
    "def create_load_save_dir(source):\n",
    "    try:\n",
    "        Path.mkdir(Path.cwd() / f'saved_{source}_csv')\n",
    "    except:\n",
    "        pass\n",
    "    save_dir = (Path.cwd() / f'saved_{source}_csv').as_posix()\n",
    "    return save_dir"
   ]
  },
  {
   "cell_type": "code",
   "execution_count": 5,
   "id": "2a1fc312",
   "metadata": {
    "ExecuteTime": {
     "end_time": "2023-03-22T06:33:53.775443Z",
     "start_time": "2023-03-22T06:33:53.771699Z"
    }
   },
   "outputs": [],
   "source": [
    "def get_saved_files_names(source):\n",
    "    try:\n",
    "        with open(f'uploaded_files_{source}.txt', 'r') as uploaded_txt:\n",
    "            list_loaded_files = uploaded_txt.read()\n",
    "        uploaded_txt.close()\n",
    "        list_loaded_files = list_loaded_files.split('\\n')[:-1]\n",
    "    except:\n",
    "        list_loaded_files = []\n",
    "    return list_loaded_files"
   ]
  },
  {
   "cell_type": "code",
   "execution_count": 18,
   "id": "3278575d",
   "metadata": {
    "ExecuteTime": {
     "end_time": "2023-03-22T06:35:15.596869Z",
     "start_time": "2023-03-22T06:35:15.591449Z"
    }
   },
   "outputs": [],
   "source": [
    "def download_local_yadisk_files(yandex_api_token, handled_files, save_dir):\n",
    "    y = yadisk.YaDisk(token=yandex_api_token)\n",
    "    if y.check_token():\n",
    "        print('yandex token valid')\n",
    "        disk_files_info = list(y.listdir(\"/cian\"))\n",
    "        disk_files_routes = [disk_files_info[i].path for i in range(len(disk_files_info))]\n",
    "        saved_files = []\n",
    "        cnt = 0\n",
    "        for file in disk_files_routes:\n",
    "            if Path(file).name not in handled_files:\n",
    "                y.download(file, save_dir + '/' + Path(file).name)\n",
    "                saved_files.append(Path(file).name)\n",
    "                cnt += 1\n",
    "        print('Успешно загружено {} файлов с личного диска: {}'.format(cnt, saved_files))\n",
    "        is_error = False\n",
    "        return saved_files, is_error\n",
    "    else:\n",
    "        print('yandex token invalid')\n",
    "        print('перейдите по ссылке: https://oauth.yandex.ru/authorize?response_type=token&client_id=<> вставив свой айди приложения')\n",
    "        print('id приложения можно получить в: https://oauth.yandex.ru/ - пользователь yanedvizhkatop')\n",
    "        print('мануал: https://ramziv.com/article/8')\n",
    "        saved_files = []\n",
    "        is_error = False\n",
    "        return saved_files, is_error"
   ]
  },
  {
   "cell_type": "code",
   "execution_count": 15,
   "id": "224772f1",
   "metadata": {
    "ExecuteTime": {
     "end_time": "2023-03-22T06:34:46.886356Z",
     "start_time": "2023-03-22T06:34:46.882282Z"
    }
   },
   "outputs": [],
   "source": [
    "local_save_dir_cian = create_load_save_dir('cian')"
   ]
  },
  {
   "cell_type": "code",
   "execution_count": 16,
   "id": "4cdad137",
   "metadata": {
    "ExecuteTime": {
     "end_time": "2023-03-22T06:34:47.051373Z",
     "start_time": "2023-03-22T06:34:47.047970Z"
    }
   },
   "outputs": [],
   "source": [
    "handled_files_cian = get_saved_files_names('cian')"
   ]
  },
  {
   "cell_type": "code",
   "execution_count": 19,
   "id": "a5d8b9cf",
   "metadata": {
    "ExecuteTime": {
     "end_time": "2023-03-22T06:36:36.531195Z",
     "start_time": "2023-03-22T06:35:17.744681Z"
    }
   },
   "outputs": [
    {
     "name": "stdout",
     "output_type": "stream",
     "text": [
      "yandex token valid\n",
      "Успешно загружено 2 файлов с личного диска\n"
     ]
    }
   ],
   "source": [
    "files_to_process_cian, error_file_loading_cian = download_local_yadisk_files(ya_token, handled_files_cian, local_save_dir_cian)"
   ]
  },
  {
   "cell_type": "code",
   "execution_count": 20,
   "id": "c642433b",
   "metadata": {
    "ExecuteTime": {
     "end_time": "2023-03-22T06:37:18.566907Z",
     "start_time": "2023-03-22T06:37:18.562160Z"
    }
   },
   "outputs": [
    {
     "data": {
      "text/plain": [
       "['20-03-23.csv', '21-03-23.csv']"
      ]
     },
     "execution_count": 20,
     "metadata": {},
     "output_type": "execute_result"
    }
   ],
   "source": [
    "files_to_process_cian"
   ]
  },
  {
   "cell_type": "code",
   "execution_count": 21,
   "id": "30e5d5cc",
   "metadata": {
    "ExecuteTime": {
     "end_time": "2023-03-22T06:37:24.291268Z",
     "start_time": "2023-03-22T06:37:24.286737Z"
    }
   },
   "outputs": [
    {
     "data": {
      "text/plain": [
       "False"
      ]
     },
     "execution_count": 21,
     "metadata": {},
     "output_type": "execute_result"
    }
   ],
   "source": [
    "error_file_loading_cian"
   ]
  },
  {
   "cell_type": "code",
   "execution_count": null,
   "id": "cbc0d083",
   "metadata": {},
   "outputs": [],
   "source": []
  },
  {
   "cell_type": "code",
   "execution_count": null,
   "id": "34374590",
   "metadata": {},
   "outputs": [],
   "source": []
  },
  {
   "cell_type": "code",
   "execution_count": null,
   "id": "48e54a30",
   "metadata": {},
   "outputs": [],
   "source": []
  },
  {
   "cell_type": "code",
   "execution_count": null,
   "id": "09f7a9c4",
   "metadata": {},
   "outputs": [],
   "source": []
  },
  {
   "cell_type": "code",
   "execution_count": null,
   "id": "ab08925b",
   "metadata": {},
   "outputs": [],
   "source": []
  },
  {
   "cell_type": "code",
   "execution_count": null,
   "id": "15f905e5",
   "metadata": {},
   "outputs": [],
   "source": []
  },
  {
   "cell_type": "code",
   "execution_count": null,
   "id": "43015f9a",
   "metadata": {},
   "outputs": [],
   "source": []
  },
  {
   "cell_type": "code",
   "execution_count": 1,
   "id": "d929c0d2",
   "metadata": {
    "ExecuteTime": {
     "end_time": "2023-03-22T06:12:52.771767Z",
     "start_time": "2023-03-22T06:12:52.649496Z"
    }
   },
   "outputs": [],
   "source": [
    "\n",
    "\n",
    "y = yadisk.YaDisk(token=\"y0_AgAAAABo705rAAkzLwAAAADdWdXbk1ZPx999SpaBrBZoo9Agy2g-JYA\")"
   ]
  },
  {
   "cell_type": "code",
   "execution_count": 2,
   "id": "3fa13c2c",
   "metadata": {
    "ExecuteTime": {
     "end_time": "2023-03-22T06:12:54.113401Z",
     "start_time": "2023-03-22T06:12:53.208454Z"
    }
   },
   "outputs": [
    {
     "name": "stdout",
     "output_type": "stream",
     "text": [
      "token valid\n"
     ]
    }
   ],
   "source": [
    "if y.check_token():\n",
    "    print('token valid')\n",
    "else:\n",
    "    print('token invalid')\n",
    "    print('перейдите по ссылке: https://oauth.yandex.ru/authorize?response_type=token&client_id=<> вставив свой айди приложения')\n",
    "    print('id приложения можно получить в: https://oauth.yandex.ru/ - пользователь yanedvizhkatop')\n",
    "    print('мануал: https://ramziv.com/article/8')"
   ]
  },
  {
   "cell_type": "code",
   "execution_count": 4,
   "id": "6baed7e0",
   "metadata": {},
   "outputs": [
    {
     "name": "stdout",
     "output_type": "stream",
     "text": [
      "<DiskInfoObject{'max_file_size': 1073741824, 'paid_max_file_size': 53687091200, 'unlimited_autoupload_enabled': False, 'total_space': 5368709120, 'trash_size': 23721, 'is_paid': False, 'used_space': 639206018, 'system_folders': <SystemFoldersObject{'odnoklassniki': 'disk:/Социальные сети/Одноклассники', 'google': 'disk:/Социальные сети/Google+', 'instagram': 'disk:/Социальные сети/Instagram', 'vkontakte': 'disk:/Социальные сети/ВКонтакте', 'attach': 'disk:/Почтовые вложения', 'mailru': 'disk:/Социальные сети/Мой Мир', 'downloads': 'disk:/Загрузки/', 'applications': 'disk:/Приложения', 'facebook': 'disk:/Социальные сети/Facebook', 'social': 'disk:/Социальные сети/', 'messenger': 'disk:/Файлы Мессенджера', 'calendar': 'disk:/Материалы встреч', 'photostream': 'disk:/Фотокамера/', 'screenshots': 'disk:/Скриншоты/', 'scans': 'disk:/Сканы'}>, 'user': <UserObject{'country': 'ru', 'login': 'yanedvizhkatop', 'display_name': 'yanedvizhkatop', 'uid': '1760513643'}>, 'revision': 1679062253298501}>\n"
     ]
    }
   ],
   "source": [
    "print(y.get_disk_info())"
   ]
  },
  {
   "cell_type": "code",
   "execution_count": 3,
   "id": "dc165288",
   "metadata": {
    "ExecuteTime": {
     "end_time": "2023-03-22T06:12:56.575913Z",
     "start_time": "2023-03-22T06:12:56.045964Z"
    }
   },
   "outputs": [],
   "source": [
    "disk_files = list(y.listdir(\"/cian\"))"
   ]
  },
  {
   "cell_type": "code",
   "execution_count": 8,
   "id": "fa71bb5e",
   "metadata": {
    "ExecuteTime": {
     "end_time": "2023-03-22T06:13:39.742075Z",
     "start_time": "2023-03-22T06:13:39.737372Z"
    }
   },
   "outputs": [
    {
     "data": {
      "text/plain": [
       "[<ResourceObject{'antivirus_status': 'clean', 'file': 'https://downloader.disk.yandex.ru/disk/39de7233105f1f00b458744b59d13e658eb4c737b72b5f16f98dda74f7f593ba/641ad4a9/fKqInKw3d7bLFOeFnMGnhO2d6wXtqb47CZAy0aCn6iPkAn-iNhE7sYzdsTBVU9ru5QvGkrY_u7MzQjLBwDkr96EgWh5cjDOHrq21MFVDEDir8npumZHI4midPdWhecNq?uid=1760513643&filename=17-03-23.csv&disposition=attachment&hash=&limit=0&content_type=text%2Fplain&owner_uid=1760513643&fsize=24743242&hid=bc62cfd48a16034d5399301b378a1288&media_type=spreadsheet&tknv=v2&etag=5904855a9658933abcc61d4c902977be', 'size': 24743242, 'public_key': None, 'sha256': '731c291f4423366a1acae9ba468dd5835347867a3358418feebf6cbc79f2165a', 'embedded': None, 'name': '17-03-23.csv', 'exif': <EXIFObject{'date_time': None}>, 'resource_id': '1760513643:1a2b447035de893562bc42ba3f871836c35378ae04d0fc9e5a0cbd78a33b508b', 'custom_properties': None, 'public_url': None, 'share': <ShareInfoObject{'is_root': False, 'is_owned': True, 'rights': 'rw'}>, 'modified': datetime.datetime(2023, 3, 17, 14, 10, 51, tzinfo=datetime.timezone.utc), 'created': datetime.datetime(2023, 3, 17, 14, 10, 51, tzinfo=datetime.timezone.utc), 'photoslice_time': None, 'mime_type': 'text/plain', 'path': 'disk:/cian/17-03-23.csv', 'preview': None, 'comment_ids': <CommentIDsObject{'private_resource': '1760513643:1a2b447035de893562bc42ba3f871836c35378ae04d0fc9e5a0cbd78a33b508b', 'public_resource': '1760513643:1a2b447035de893562bc42ba3f871836c35378ae04d0fc9e5a0cbd78a33b508b'}>, 'type': 'file', 'media_type': 'spreadsheet', 'md5': '5904855a9658933abcc61d4c902977be', 'revision': 1679062253298501}>,\n",
       " <ResourceObject{'antivirus_status': 'clean', 'file': 'https://downloader.disk.yandex.ru/disk/d8deb6f679fcceabf5129f6fefb3935dd2486a966f7136bd635b690d287cd6be/641ad4a9/fKqInKw3d7bLFOeFnMGnhLRPlWdRH4CLWZPB0KybK3R2q4QWSKG1-Wk5AwqNc6RaivlHbdxu_QKUbyGaBMhD2I57cI_Xv4H0OygTxpmZjHGr8npumZHI4midPdWhecNq?uid=1760513643&filename=18-03-23.csv&disposition=attachment&hash=&limit=0&content_type=text%2Fplain&owner_uid=1760513643&fsize=24600183&hid=d1da1925b7ab63eb842ffdc2f0f4fbf8&media_type=spreadsheet&tknv=v2&etag=69809df87598d82e5c6b7b23f43ddd83', 'size': 24600183, 'public_key': None, 'sha256': '0b002fedffd3bccf6d31a9cdd27d88ba572ce5c4f56389b7212fb1e5927b5485', 'embedded': None, 'name': '18-03-23.csv', 'exif': <EXIFObject{'date_time': None}>, 'resource_id': '1760513643:6f32ed0ada0efe2b94c2fd398f815d55c107beeda40dcbd6a892fc2e87f4186b', 'custom_properties': None, 'public_url': None, 'share': <ShareInfoObject{'is_root': False, 'is_owned': True, 'rights': 'rw'}>, 'modified': datetime.datetime(2023, 3, 18, 17, 5, 45, tzinfo=datetime.timezone.utc), 'created': datetime.datetime(2023, 3, 18, 17, 5, 45, tzinfo=datetime.timezone.utc), 'photoslice_time': None, 'mime_type': 'text/plain', 'path': 'disk:/cian/18-03-23.csv', 'preview': None, 'comment_ids': <CommentIDsObject{'private_resource': '1760513643:6f32ed0ada0efe2b94c2fd398f815d55c107beeda40dcbd6a892fc2e87f4186b', 'public_resource': '1760513643:6f32ed0ada0efe2b94c2fd398f815d55c107beeda40dcbd6a892fc2e87f4186b'}>, 'type': 'file', 'media_type': 'spreadsheet', 'md5': '69809df87598d82e5c6b7b23f43ddd83', 'revision': 1679159147418371}>,\n",
       " <ResourceObject{'antivirus_status': 'clean', 'file': 'https://downloader.disk.yandex.ru/disk/b9d303a9b8718ef197e9129952f0df91c18c740bb418bdd8107a50943a9e412f/641ad4a9/fKqInKw3d7bLFOeFnMGnhLRPlWdRH4CLWZPB0KybK3TeVCwDy5oakZ_e_sXlZtJ9ix4PUCI0ZudiznGhTlFmDeROZgEBUmNQiM-Moc4459qr8npumZHI4midPdWhecNq?uid=1760513643&filename=20-03-23.csv&disposition=attachment&hash=&limit=0&content_type=text%2Fplain&owner_uid=1760513643&fsize=24702332&hid=237f40843c0c549c0e7e3a2900d89bf8&media_type=spreadsheet&tknv=v2&etag=ae1cefa4e2226cdf3c7656bbab82ffa4', 'size': 24702332, 'public_key': None, 'sha256': 'b0e655d0acc4f3a3b22b3609a0baf1e2b32822f7e0cb37e16c924627f0105bbf', 'embedded': None, 'name': '20-03-23.csv', 'exif': <EXIFObject{'date_time': None}>, 'resource_id': '1760513643:d8336108e66ad6dbbc4813b9ed69cda2db577097dbd7b7bc83a8d1ba70dac4fe', 'custom_properties': None, 'public_url': None, 'share': <ShareInfoObject{'is_root': False, 'is_owned': True, 'rights': 'rw'}>, 'modified': datetime.datetime(2023, 3, 20, 13, 8, 17, tzinfo=datetime.timezone.utc), 'created': datetime.datetime(2023, 3, 20, 13, 8, 17, tzinfo=datetime.timezone.utc), 'photoslice_time': None, 'mime_type': 'text/plain', 'path': 'disk:/cian/20-03-23.csv', 'preview': None, 'comment_ids': <CommentIDsObject{'private_resource': '1760513643:d8336108e66ad6dbbc4813b9ed69cda2db577097dbd7b7bc83a8d1ba70dac4fe', 'public_resource': '1760513643:d8336108e66ad6dbbc4813b9ed69cda2db577097dbd7b7bc83a8d1ba70dac4fe'}>, 'type': 'file', 'media_type': 'spreadsheet', 'md5': 'ae1cefa4e2226cdf3c7656bbab82ffa4', 'revision': 1679317699694571}>,\n",
       " <ResourceObject{'antivirus_status': 'clean', 'file': 'https://downloader.disk.yandex.ru/disk/2437f88e4d53b804f6ade24fe9635f1655f11dd2fab3ee3d81cc0cf4b1633ccb/641ad4a9/fKqInKw3d7bLFOeFnMGnhEDnQOs_aCg0w0mhUVdhM7RvYw7Z7XXNpAyDnL89ZTa2rF_pQboOdpoC08Sc3egtPG4RexMCtkaiHl-MqHQRDBOr8npumZHI4midPdWhecNq?uid=1760513643&filename=21-03-23.csv&disposition=attachment&hash=&limit=0&content_type=text%2Fplain&owner_uid=1760513643&fsize=24962852&hid=d7d51936939ad2be02016e2b983eb05f&media_type=spreadsheet&tknv=v2&etag=ad1295403591c9bb174fe457277d9648', 'size': 24962852, 'public_key': None, 'sha256': '9d0638baa37746368d406750787a4cbc1beaa3673b49ce7ab6b482abb8eebe06', 'embedded': None, 'name': '21-03-23.csv', 'exif': <EXIFObject{'date_time': None}>, 'resource_id': '1760513643:5861d1be8ba0f52a44a2176794f480c54e51a742a60df9a72c46a4a3d365047f', 'custom_properties': None, 'public_url': None, 'share': <ShareInfoObject{'is_root': False, 'is_owned': True, 'rights': 'rw'}>, 'modified': datetime.datetime(2023, 3, 21, 12, 0, 45, tzinfo=datetime.timezone.utc), 'created': datetime.datetime(2023, 3, 21, 12, 0, 45, tzinfo=datetime.timezone.utc), 'photoslice_time': None, 'mime_type': 'text/plain', 'path': 'disk:/cian/21-03-23.csv', 'preview': None, 'comment_ids': <CommentIDsObject{'private_resource': '1760513643:5861d1be8ba0f52a44a2176794f480c54e51a742a60df9a72c46a4a3d365047f', 'public_resource': '1760513643:5861d1be8ba0f52a44a2176794f480c54e51a742a60df9a72c46a4a3d365047f'}>, 'type': 'file', 'media_type': 'spreadsheet', 'md5': 'ad1295403591c9bb174fe457277d9648', 'revision': 1679400047535843}>]"
      ]
     },
     "execution_count": 8,
     "metadata": {},
     "output_type": "execute_result"
    }
   ],
   "source": [
    "disk_files"
   ]
  },
  {
   "cell_type": "code",
   "execution_count": 9,
   "id": "1ddbcb27",
   "metadata": {
    "ExecuteTime": {
     "end_time": "2023-03-22T06:14:01.121647Z",
     "start_time": "2023-03-22T06:14:01.117572Z"
    }
   },
   "outputs": [
    {
     "data": {
      "text/plain": [
       "4"
      ]
     },
     "execution_count": 9,
     "metadata": {},
     "output_type": "execute_result"
    }
   ],
   "source": [
    "len(disk_files)"
   ]
  },
  {
   "cell_type": "code",
   "execution_count": 12,
   "id": "dff42549",
   "metadata": {
    "ExecuteTime": {
     "end_time": "2023-03-22T06:16:08.313067Z",
     "start_time": "2023-03-22T06:16:08.310162Z"
    }
   },
   "outputs": [],
   "source": [
    "disk_files_routes = [disk_files[i].path for i in range(len(disk_files))]"
   ]
  },
  {
   "cell_type": "code",
   "execution_count": 18,
   "id": "0f984889",
   "metadata": {
    "ExecuteTime": {
     "end_time": "2023-03-22T06:18:21.091335Z",
     "start_time": "2023-03-22T06:18:21.088188Z"
    }
   },
   "outputs": [],
   "source": [
    "def get_saved_files_names(source):\n",
    "    try:\n",
    "        with open(f'uploaded_files_{source}.txt', 'r') as uploaded_txt:\n",
    "            list_loaded_files = uploaded_txt.read()\n",
    "        uploaded_txt.close()\n",
    "        list_loaded_files = list_loaded_files.split('\\n')[:-1]\n",
    "    except:\n",
    "        list_loaded_files = []\n",
    "    return list_loaded_files"
   ]
  },
  {
   "cell_type": "code",
   "execution_count": 19,
   "id": "d22d9884",
   "metadata": {
    "ExecuteTime": {
     "end_time": "2023-03-22T06:18:21.216959Z",
     "start_time": "2023-03-22T06:18:21.213300Z"
    }
   },
   "outputs": [],
   "source": [
    "handled_files_cian = get_saved_files_names('cian')"
   ]
  },
  {
   "cell_type": "code",
   "execution_count": 20,
   "id": "c650e0f1",
   "metadata": {
    "ExecuteTime": {
     "end_time": "2023-03-22T06:18:25.251619Z",
     "start_time": "2023-03-22T06:18:25.246802Z"
    }
   },
   "outputs": [
    {
     "data": {
      "text/plain": [
       "['17-03-23.csv', '18-03-23.csv']"
      ]
     },
     "execution_count": 20,
     "metadata": {},
     "output_type": "execute_result"
    }
   ],
   "source": [
    "handled_files_cian"
   ]
  },
  {
   "cell_type": "code",
   "execution_count": 21,
   "id": "00aa77a7",
   "metadata": {
    "ExecuteTime": {
     "end_time": "2023-03-22T06:21:26.555763Z",
     "start_time": "2023-03-22T06:21:26.552031Z"
    }
   },
   "outputs": [],
   "source": [
    "def create_load_save_dir(source):\n",
    "    try:\n",
    "        Path.mkdir(Path.cwd() / f'saved_{source}_csv')\n",
    "    except:\n",
    "        pass\n",
    "    save_dir = (Path.cwd() / f'saved_{source}_csv').as_posix()\n",
    "    return save_dir"
   ]
  },
  {
   "cell_type": "code",
   "execution_count": 22,
   "id": "c5e1bf1e",
   "metadata": {
    "ExecuteTime": {
     "end_time": "2023-03-22T06:21:26.678571Z",
     "start_time": "2023-03-22T06:21:26.675544Z"
    }
   },
   "outputs": [],
   "source": [
    "local_save_dir_cian = create_load_save_dir('cian')"
   ]
  },
  {
   "cell_type": "code",
   "execution_count": 24,
   "id": "24214810",
   "metadata": {
    "ExecuteTime": {
     "end_time": "2023-03-22T06:21:49.798143Z",
     "start_time": "2023-03-22T06:21:49.792807Z"
    }
   },
   "outputs": [
    {
     "data": {
      "text/plain": [
       "'C:/Users/pnknv/Documents/projects/yadisk_loader/saved_cian_csv'"
      ]
     },
     "execution_count": 24,
     "metadata": {},
     "output_type": "execute_result"
    }
   ],
   "source": [
    "local_save_dir_cian"
   ]
  },
  {
   "cell_type": "code",
   "execution_count": 29,
   "id": "71554d4e",
   "metadata": {
    "ExecuteTime": {
     "end_time": "2023-03-22T06:23:34.344257Z",
     "start_time": "2023-03-22T06:23:34.340249Z"
    }
   },
   "outputs": [
    {
     "data": {
      "text/plain": [
       "'C:/Users/pnknv/Documents/projects/yadisk_loader/saved_cian_csv/17-03-23.csv'"
      ]
     },
     "execution_count": 29,
     "metadata": {},
     "output_type": "execute_result"
    }
   ],
   "source": [
    "local_save_dir_cian + '/' + Path(disk_files[0].path).name"
   ]
  },
  {
   "cell_type": "code",
   "execution_count": 30,
   "id": "1178d835",
   "metadata": {
    "ExecuteTime": {
     "end_time": "2023-03-22T06:25:23.858717Z",
     "start_time": "2023-03-22T06:23:51.264525Z"
    }
   },
   "outputs": [],
   "source": [
    "saved_files = []\n",
    "cnt = 0\n",
    "for file in disk_files_routes:\n",
    "    if Path(file).name not in handled_files_cian:\n",
    "        y.download(disk_files[0].path, local_save_dir_cian + '/' + Path(file).name)\n",
    "        saved_files.append(Path(file).name)\n",
    "        cnt += 1"
   ]
  },
  {
   "cell_type": "code",
   "execution_count": 34,
   "id": "23f00852",
   "metadata": {
    "ExecuteTime": {
     "end_time": "2023-03-22T06:27:54.034546Z",
     "start_time": "2023-03-22T06:27:54.031242Z"
    }
   },
   "outputs": [],
   "source": [
    "is_err = False"
   ]
  },
  {
   "cell_type": "code",
   "execution_count": 35,
   "id": "3ccca1da",
   "metadata": {
    "ExecuteTime": {
     "end_time": "2023-03-22T06:27:54.318044Z",
     "start_time": "2023-03-22T06:27:54.314988Z"
    }
   },
   "outputs": [],
   "source": [
    "if is_err:\n",
    "    print(1)"
   ]
  },
  {
   "cell_type": "code",
   "execution_count": null,
   "id": "1dbb621d",
   "metadata": {},
   "outputs": [],
   "source": []
  },
  {
   "cell_type": "code",
   "execution_count": 13,
   "id": "22126aa3",
   "metadata": {},
   "outputs": [
    {
     "data": {
      "text/plain": [
       "'17-03-23.csv'"
      ]
     },
     "execution_count": 13,
     "metadata": {},
     "output_type": "execute_result"
    }
   ],
   "source": [
    "Path(disk_files[0].path).name"
   ]
  },
  {
   "cell_type": "code",
   "execution_count": 36,
   "id": "5daff12e",
   "metadata": {},
   "outputs": [
    {
     "data": {
      "text/plain": [
       "<bound method ResourceObjectMethodsMixin.download of <ResourceObject{'antivirus_status': 'clean', 'file': 'https://downloader.disk.yandex.ru/disk/0c383adc92c266d4ae0c8d27e37e3fa440f5ae5588e4741ebd53454fce8856a0/63fe1558/tgqWoXFKtDCcpwJyvyxomA58Nu5fC9MeCC6joRXwvJ85sTXn4saNX6Um_nyOkJr9mbhVWZ7iBbkMJC_Kwj14rg%3D%3D?uid=1760513643&filename=07-02-23%20%28%D0%B1%D0%B5%D0%B7%20%D0%B4%D1%83%D0%B1%D0%BB%D0%B5%D0%B9%29.csv&disposition=attachment&hash=&limit=0&content_type=text%2Fplain&owner_uid=1760513643&fsize=8963730&hid=de042d9cd8d64c832bbf540d112ddebd&media_type=spreadsheet&tknv=v2&etag=9c035feefa5af2d6c1ea3a65d11c4499', 'size': 8963730, 'public_key': None, 'sha256': '87b79be09547dc10917b51834554e6e6e954e53c39fd3a6e0e9f23c2c9bca8a4', 'embedded': None, 'name': '07-02-23 (без дублей).csv', 'exif': <EXIFObject{'date_time': None}>, 'resource_id': '1760513643:ae769f7131ebefaa2a0a2181411fef9d7758ca091366d36a58a82acdfbf700f6', 'custom_properties': None, 'public_url': None, 'share': None, 'modified': datetime.datetime(2023, 2, 28, 10, 49, 45, tzinfo=datetime.timezone.utc), 'created': datetime.datetime(2023, 2, 28, 10, 49, 45, tzinfo=datetime.timezone.utc), 'photoslice_time': None, 'mime_type': 'text/plain', 'path': 'disk:/авито-недвижимость/07-02-23 (без дублей).csv', 'preview': None, 'comment_ids': <CommentIDsObject{'private_resource': '1760513643:ae769f7131ebefaa2a0a2181411fef9d7758ca091366d36a58a82acdfbf700f6', 'public_resource': '1760513643:ae769f7131ebefaa2a0a2181411fef9d7758ca091366d36a58a82acdfbf700f6'}>, 'type': 'file', 'media_type': 'spreadsheet', 'md5': '9c035feefa5af2d6c1ea3a65d11c4499', 'revision': 1677581385206855}>>"
      ]
     },
     "execution_count": 36,
     "metadata": {},
     "output_type": "execute_result"
    }
   ],
   "source": [
    "disk_files[0].download()"
   ]
  },
  {
   "cell_type": "markdown",
   "id": "ca2ea254",
   "metadata": {
    "pycharm": {
     "name": "#%% md\n"
    }
   },
   "source": [
    "# define saving dir"
   ]
  },
  {
   "cell_type": "code",
   "execution_count": 33,
   "id": "e6d0b506",
   "metadata": {
    "pycharm": {
     "name": "#%%\n"
    },
    "scrolled": false
   },
   "outputs": [],
   "source": [
    "def create_load_save_dir():\n",
    "    try:\n",
    "        Path.mkdir(Path.cwd()/'saved_csv')\n",
    "    except:\n",
    "        pass\n",
    "    save_dir = (Path.cwd()/'saved_csv').as_posix()\n",
    "    return save_dir"
   ]
  },
  {
   "cell_type": "code",
   "execution_count": 34,
   "id": "64f4bf1f",
   "metadata": {
    "pycharm": {
     "name": "#%%\n"
    },
    "scrolled": false
   },
   "outputs": [],
   "source": [
    "local_save_dir = create_load_save_dir()"
   ]
  },
  {
   "cell_type": "code",
   "execution_count": 35,
   "id": "6ba6f05a",
   "metadata": {
    "pycharm": {
     "name": "#%%\n"
    },
    "scrolled": false
   },
   "outputs": [
    {
     "data": {
      "text/plain": [
       "'C:/Users/pnknv/Documents/GitHub/yadisk_loader/saved_csv'"
      ]
     },
     "execution_count": 35,
     "metadata": {},
     "output_type": "execute_result"
    }
   ],
   "source": [
    "local_save_dir"
   ]
  },
  {
   "cell_type": "markdown",
   "id": "69e916cf",
   "metadata": {},
   "source": [
    "# download"
   ]
  },
  {
   "cell_type": "code",
   "execution_count": null,
   "id": "17d1b831",
   "metadata": {},
   "outputs": [],
   "source": []
  },
  {
   "cell_type": "code",
   "execution_count": 32,
   "id": "e0648b31",
   "metadata": {},
   "outputs": [
    {
     "data": {
      "text/plain": [
       "<ResourceLinkObject{'href': 'https://cloud-api.yandex.net/v1/disk/resources?path=disk%3A%2F%D0%B0%D0%B2%D0%B8%D1%82%D0%BE-%D0%BD%D0%B5%D0%B4%D0%B2%D0%B8%D0%B6%D0%B8%D0%BC%D0%BE%D1%81%D1%82%D1%8C%2F07-02-23+%28%D0%B1%D0%B5%D0%B7+%D0%B4%D1%83%D0%B1%D0%BB%D0%B5%D0%B9%29.csv', 'method': 'GET', 'templated': False, 'path': 'disk:/авито-недвижимость/07-02-23 (без дублей).csv'}>"
      ]
     },
     "execution_count": 32,
     "metadata": {},
     "output_type": "execute_result"
    }
   ],
   "source": [
    "y.download(disk_files[0].path, Path(disk_files[0].path).name)"
   ]
  },
  {
   "cell_type": "markdown",
   "id": "01f16d43",
   "metadata": {},
   "source": [
    "# check parsed data"
   ]
  },
  {
   "cell_type": "code",
   "execution_count": 2,
   "id": "b3014e52",
   "metadata": {},
   "outputs": [],
   "source": [
    "import pandas as pd\n",
    "from pathlib import Path\n",
    "import random"
   ]
  },
  {
   "cell_type": "markdown",
   "id": "dad8260a",
   "metadata": {},
   "source": [
    "## cian"
   ]
  },
  {
   "cell_type": "code",
   "execution_count": 3,
   "id": "ce82a2c8",
   "metadata": {},
   "outputs": [],
   "source": [
    "сfile = pd.read_csv('24-02-23.csv', delimiter=';', encoding='utf8')"
   ]
  },
  {
   "cell_type": "code",
   "execution_count": 4,
   "id": "a4ab1f4e",
   "metadata": {},
   "outputs": [],
   "source": [
    "сfile['cian_distr'] = сfile.iloc[:,8].apply(lambda x: x.split(',')[2])"
   ]
  },
  {
   "cell_type": "code",
   "execution_count": 5,
   "id": "bd976580",
   "metadata": {},
   "outputs": [
    {
     "data": {
      "text/plain": [
       "0        Прикубанский\n",
       "1            Западный\n",
       "2            Западный\n",
       "3         Карасунский\n",
       "4         Карасунский\n",
       "            ...      \n",
       "6107         Западный\n",
       "6108         Западный\n",
       "6109     Прикубанский\n",
       "6110     Прикубанский\n",
       "6111      Карасунский\n",
       "Name: cian_distr, Length: 6112, dtype: object"
      ]
     },
     "execution_count": 5,
     "metadata": {},
     "output_type": "execute_result"
    }
   ],
   "source": [
    "сfile['cian_distr']"
   ]
  },
  {
   "cell_type": "code",
   "execution_count": 6,
   "id": "1f64842c",
   "metadata": {},
   "outputs": [
    {
     "data": {
      "text/plain": [
       "Index(['Ссылка', 'Заголовок', 'Комнат', 'Площадь', 'Этаж', 'Цена',\n",
       "       'Цена за м2', 'Название жк', 'Адрес', 'Дата публикации', 'Тип продавца',\n",
       "       'Продавец', 'cian_distr'],\n",
       "      dtype='object')"
      ]
     },
     "execution_count": 6,
     "metadata": {},
     "output_type": "execute_result"
    }
   ],
   "source": [
    "сfile.columns"
   ]
  },
  {
   "cell_type": "code",
   "execution_count": 10,
   "id": "aa8093f0",
   "metadata": {},
   "outputs": [
    {
     "data": {
      "text/plain": [
       "'https://krasnodar.cian.ru/sale/flat/278318359/'"
      ]
     },
     "execution_count": 10,
     "metadata": {},
     "output_type": "execute_result"
    }
   ],
   "source": [
    "сfile.iloc[0,0]"
   ]
  },
  {
   "cell_type": "code",
   "execution_count": 9,
   "id": "6b444de3",
   "metadata": {},
   "outputs": [
    {
     "data": {
      "text/html": [
       "<div>\n",
       "<style scoped>\n",
       "    .dataframe tbody tr th:only-of-type {\n",
       "        vertical-align: middle;\n",
       "    }\n",
       "\n",
       "    .dataframe tbody tr th {\n",
       "        vertical-align: top;\n",
       "    }\n",
       "\n",
       "    .dataframe thead th {\n",
       "        text-align: right;\n",
       "    }\n",
       "</style>\n",
       "<table border=\"1\" class=\"dataframe\">\n",
       "  <thead>\n",
       "    <tr style=\"text-align: right;\">\n",
       "      <th></th>\n",
       "      <th>Ссылка</th>\n",
       "      <th>Заголовок</th>\n",
       "      <th>Комнат</th>\n",
       "      <th>Площадь</th>\n",
       "      <th>Этаж</th>\n",
       "      <th>Цена</th>\n",
       "      <th>Цена за м2</th>\n",
       "      <th>Название жк</th>\n",
       "      <th>Адрес</th>\n",
       "      <th>Дата публикации</th>\n",
       "      <th>Тип продавца</th>\n",
       "      <th>Продавец</th>\n",
       "      <th>cian_distr</th>\n",
       "    </tr>\n",
       "  </thead>\n",
       "  <tbody>\n",
       "    <tr>\n",
       "      <th>0</th>\n",
       "      <td>https://krasnodar.cian.ru/sale/flat/278318359/</td>\n",
       "      <td>1-комн. кв., 26,4 м², 2/15 этаж</td>\n",
       "      <td>1-комн. кв.</td>\n",
       "      <td>26,4 м²</td>\n",
       "      <td>2/15 этаж</td>\n",
       "      <td>3619440</td>\n",
       "      <td>137100</td>\n",
       "      <td>ЖК «Зеленодар»</td>\n",
       "      <td>Краснодарский край, Краснодар, Прикубанский, у...</td>\n",
       "      <td>вчера (вчера, 21:40)</td>\n",
       "      <td>Застройщик</td>\n",
       "      <td>АСК</td>\n",
       "      <td>Прикубанский</td>\n",
       "    </tr>\n",
       "    <tr>\n",
       "      <th>1</th>\n",
       "      <td>https://krasnodar.cian.ru/sale/flat/278319080/</td>\n",
       "      <td>1-комн. кв., 91,1 м², 2/12 этаж</td>\n",
       "      <td>1-комн. кв.</td>\n",
       "      <td>91,1 м²</td>\n",
       "      <td>2/12 этаж</td>\n",
       "      <td>36350000</td>\n",
       "      <td>399012</td>\n",
       "      <td>ЖК «Role Clef»</td>\n",
       "      <td>Краснодарский край, Краснодар, Западный, мкр. ...</td>\n",
       "      <td>вчера (22 фев, 04:44)</td>\n",
       "      <td>Застройщик</td>\n",
       "      <td>АСК</td>\n",
       "      <td>Западный</td>\n",
       "    </tr>\n",
       "    <tr>\n",
       "      <th>2</th>\n",
       "      <td>https://krasnodar.cian.ru/sale/flat/284051499/</td>\n",
       "      <td>1-комн. кв., 47,57 м², 2/22 этаж</td>\n",
       "      <td>1-комн. кв.</td>\n",
       "      <td>47,57 м²</td>\n",
       "      <td>2/22 этаж</td>\n",
       "      <td>11692706</td>\n",
       "      <td>245800</td>\n",
       "      <td>ЖК «AVrorA»</td>\n",
       "      <td>Краснодарский край, Краснодар, Западный, мкр. ...</td>\n",
       "      <td>вчера (22 фев, 14:30)</td>\n",
       "      <td>Представитель застройщика</td>\n",
       "      <td>АСК</td>\n",
       "      <td>Западный</td>\n",
       "    </tr>\n",
       "    <tr>\n",
       "      <th>3</th>\n",
       "      <td>https://krasnodar.cian.ru/sale/flat/282990282/</td>\n",
       "      <td>1-комн. апарт., 21,6 м², 13/15 этаж</td>\n",
       "      <td>1-комн. апарт.</td>\n",
       "      <td>21,6 м²</td>\n",
       "      <td>13/15 этаж</td>\n",
       "      <td>5708880</td>\n",
       "      <td>264300</td>\n",
       "      <td>ЖК «The Grand Palace»</td>\n",
       "      <td>Краснодарский край, Краснодар, Карасунский, мк...</td>\n",
       "      <td>вчера (вчера, 04:53)</td>\n",
       "      <td>Застройщик</td>\n",
       "      <td>АСК</td>\n",
       "      <td>Карасунский</td>\n",
       "    </tr>\n",
       "    <tr>\n",
       "      <th>4</th>\n",
       "      <td>https://krasnodar.cian.ru/sale/flat/282565660/</td>\n",
       "      <td>1-комн. кв., 23,19 м², 16/23 этаж</td>\n",
       "      <td>1-комн. кв.</td>\n",
       "      <td>23,19 м²</td>\n",
       "      <td>16/23 этаж</td>\n",
       "      <td>4793373</td>\n",
       "      <td>206700</td>\n",
       "      <td>ЖК «URAL»</td>\n",
       "      <td>Краснодарский край, Краснодар, Карасунский, мк...</td>\n",
       "      <td>вчера (вчера, 21:26)</td>\n",
       "      <td>Застройщик</td>\n",
       "      <td>АСК</td>\n",
       "      <td>Карасунский</td>\n",
       "    </tr>\n",
       "    <tr>\n",
       "      <th>...</th>\n",
       "      <td>...</td>\n",
       "      <td>...</td>\n",
       "      <td>...</td>\n",
       "      <td>...</td>\n",
       "      <td>...</td>\n",
       "      <td>...</td>\n",
       "      <td>...</td>\n",
       "      <td>...</td>\n",
       "      <td>...</td>\n",
       "      <td>...</td>\n",
       "      <td>...</td>\n",
       "      <td>...</td>\n",
       "      <td>...</td>\n",
       "    </tr>\n",
       "    <tr>\n",
       "      <th>6107</th>\n",
       "      <td>https://krasnodar.cian.ru/sale/flat/276349263/</td>\n",
       "      <td>1 комната, 14 м², 2/2 этаж</td>\n",
       "      <td>1 комната</td>\n",
       "      <td>14 м²</td>\n",
       "      <td>2/2 этаж</td>\n",
       "      <td>1350000</td>\n",
       "      <td>96428</td>\n",
       "      <td>NaN</td>\n",
       "      <td>Краснодарский край, Краснодар, Западный, мкр. ...</td>\n",
       "      <td>шесть дней назад (17 фев, 18:45)</td>\n",
       "      <td>Риелтор</td>\n",
       "      <td>Нина Чернявская</td>\n",
       "      <td>Западный</td>\n",
       "    </tr>\n",
       "    <tr>\n",
       "      <th>6108</th>\n",
       "      <td>https://krasnodar.cian.ru/sale/flat/277538881/</td>\n",
       "      <td>1 комната, 14 м², 2/2 этаж</td>\n",
       "      <td>1 комната</td>\n",
       "      <td>14 м²</td>\n",
       "      <td>2/2 этаж</td>\n",
       "      <td>1500000</td>\n",
       "      <td>107142</td>\n",
       "      <td>NaN</td>\n",
       "      <td>Краснодарский край, Краснодар, Западный, мкр. ...</td>\n",
       "      <td>3 месяца назад (7 ноя, 11:20)</td>\n",
       "      <td>Риелтор</td>\n",
       "      <td>ID 3256498</td>\n",
       "      <td>Западный</td>\n",
       "    </tr>\n",
       "    <tr>\n",
       "      <th>6109</th>\n",
       "      <td>https://krasnodar.cian.ru/sale/flat/278411638/</td>\n",
       "      <td>1 комната, 14 м², 4/5 этаж</td>\n",
       "      <td>1 комната</td>\n",
       "      <td>14 м²</td>\n",
       "      <td>4/5 этаж</td>\n",
       "      <td>1500000</td>\n",
       "      <td>107142</td>\n",
       "      <td>NaN</td>\n",
       "      <td>Краснодарский край, Краснодар, Прикубанский, м...</td>\n",
       "      <td>4 месяца назад (25 сен, 18:20)</td>\n",
       "      <td>Собственник</td>\n",
       "      <td>ID 21191696</td>\n",
       "      <td>Прикубанский</td>\n",
       "    </tr>\n",
       "    <tr>\n",
       "      <th>6110</th>\n",
       "      <td>https://krasnodar.cian.ru/sale/flat/283460182/</td>\n",
       "      <td>1 комната, 18 м², 7/9 этаж</td>\n",
       "      <td>1 комната</td>\n",
       "      <td>18 м²</td>\n",
       "      <td>7/9 этаж</td>\n",
       "      <td>1550000</td>\n",
       "      <td>86111</td>\n",
       "      <td>NaN</td>\n",
       "      <td>Краснодарский край, Краснодар, Прикубанский, м...</td>\n",
       "      <td>2 недели назад (8 фев, 22:33)</td>\n",
       "      <td>Собственник</td>\n",
       "      <td>ID 80005967</td>\n",
       "      <td>Прикубанский</td>\n",
       "    </tr>\n",
       "    <tr>\n",
       "      <th>6111</th>\n",
       "      <td>https://krasnodar.cian.ru/sale/flat/211298741/</td>\n",
       "      <td>1 комната, 11,6 м², 5/9 этаж</td>\n",
       "      <td>1 комната</td>\n",
       "      <td>11,6 м²</td>\n",
       "      <td>5/9 этаж</td>\n",
       "      <td>1650000</td>\n",
       "      <td>142241</td>\n",
       "      <td>NaN</td>\n",
       "      <td>Краснодарский край, Краснодар, Карасунский, Со...</td>\n",
       "      <td>месяц назад (15 янв, 13:59)</td>\n",
       "      <td>Собственник</td>\n",
       "      <td>ID 31535151</td>\n",
       "      <td>Карасунский</td>\n",
       "    </tr>\n",
       "  </tbody>\n",
       "</table>\n",
       "<p>6112 rows × 13 columns</p>\n",
       "</div>"
      ],
      "text/plain": [
       "                                              Ссылка  \\\n",
       "0     https://krasnodar.cian.ru/sale/flat/278318359/   \n",
       "1     https://krasnodar.cian.ru/sale/flat/278319080/   \n",
       "2     https://krasnodar.cian.ru/sale/flat/284051499/   \n",
       "3     https://krasnodar.cian.ru/sale/flat/282990282/   \n",
       "4     https://krasnodar.cian.ru/sale/flat/282565660/   \n",
       "...                                              ...   \n",
       "6107  https://krasnodar.cian.ru/sale/flat/276349263/   \n",
       "6108  https://krasnodar.cian.ru/sale/flat/277538881/   \n",
       "6109  https://krasnodar.cian.ru/sale/flat/278411638/   \n",
       "6110  https://krasnodar.cian.ru/sale/flat/283460182/   \n",
       "6111  https://krasnodar.cian.ru/sale/flat/211298741/   \n",
       "\n",
       "                                Заголовок          Комнат   Площадь  \\\n",
       "0         1-комн. кв., 26,4 м², 2/15 этаж     1-комн. кв.   26,4 м²   \n",
       "1         1-комн. кв., 91,1 м², 2/12 этаж     1-комн. кв.   91,1 м²   \n",
       "2        1-комн. кв., 47,57 м², 2/22 этаж     1-комн. кв.  47,57 м²   \n",
       "3     1-комн. апарт., 21,6 м², 13/15 этаж  1-комн. апарт.   21,6 м²   \n",
       "4       1-комн. кв., 23,19 м², 16/23 этаж     1-комн. кв.  23,19 м²   \n",
       "...                                   ...             ...       ...   \n",
       "6107           1 комната, 14 м², 2/2 этаж       1 комната     14 м²   \n",
       "6108           1 комната, 14 м², 2/2 этаж       1 комната     14 м²   \n",
       "6109           1 комната, 14 м², 4/5 этаж       1 комната     14 м²   \n",
       "6110           1 комната, 18 м², 7/9 этаж       1 комната     18 м²   \n",
       "6111         1 комната, 11,6 м², 5/9 этаж       1 комната   11,6 м²   \n",
       "\n",
       "            Этаж      Цена  Цена за м2            Название жк  \\\n",
       "0      2/15 этаж   3619440      137100         ЖК «Зеленодар»   \n",
       "1      2/12 этаж  36350000      399012         ЖК «Role Clef»   \n",
       "2      2/22 этаж  11692706      245800            ЖК «AVrorA»   \n",
       "3     13/15 этаж   5708880      264300  ЖК «The Grand Palace»   \n",
       "4     16/23 этаж   4793373      206700              ЖК «URAL»   \n",
       "...          ...       ...         ...                    ...   \n",
       "6107    2/2 этаж   1350000       96428                    NaN   \n",
       "6108    2/2 этаж   1500000      107142                    NaN   \n",
       "6109    4/5 этаж   1500000      107142                    NaN   \n",
       "6110    7/9 этаж   1550000       86111                    NaN   \n",
       "6111    5/9 этаж   1650000      142241                    NaN   \n",
       "\n",
       "                                                  Адрес  \\\n",
       "0     Краснодарский край, Краснодар, Прикубанский, у...   \n",
       "1     Краснодарский край, Краснодар, Западный, мкр. ...   \n",
       "2     Краснодарский край, Краснодар, Западный, мкр. ...   \n",
       "3     Краснодарский край, Краснодар, Карасунский, мк...   \n",
       "4     Краснодарский край, Краснодар, Карасунский, мк...   \n",
       "...                                                 ...   \n",
       "6107  Краснодарский край, Краснодар, Западный, мкр. ...   \n",
       "6108  Краснодарский край, Краснодар, Западный, мкр. ...   \n",
       "6109  Краснодарский край, Краснодар, Прикубанский, м...   \n",
       "6110  Краснодарский край, Краснодар, Прикубанский, м...   \n",
       "6111  Краснодарский край, Краснодар, Карасунский, Со...   \n",
       "\n",
       "                       Дата публикации               Тип продавца  \\\n",
       "0                 вчера (вчера, 21:40)                 Застройщик   \n",
       "1                вчера (22 фев, 04:44)                 Застройщик   \n",
       "2                вчера (22 фев, 14:30)  Представитель застройщика   \n",
       "3                 вчера (вчера, 04:53)                 Застройщик   \n",
       "4                 вчера (вчера, 21:26)                 Застройщик   \n",
       "...                                ...                        ...   \n",
       "6107  шесть дней назад (17 фев, 18:45)                    Риелтор   \n",
       "6108     3 месяца назад (7 ноя, 11:20)                    Риелтор   \n",
       "6109    4 месяца назад (25 сен, 18:20)                Собственник   \n",
       "6110     2 недели назад (8 фев, 22:33)                Собственник   \n",
       "6111       месяц назад (15 янв, 13:59)                Собственник   \n",
       "\n",
       "             Продавец     cian_distr  \n",
       "0                 АСК   Прикубанский  \n",
       "1                 АСК       Западный  \n",
       "2                 АСК       Западный  \n",
       "3                 АСК    Карасунский  \n",
       "4                 АСК    Карасунский  \n",
       "...               ...            ...  \n",
       "6107  Нина Чернявская       Западный  \n",
       "6108       ID 3256498       Западный  \n",
       "6109      ID 21191696   Прикубанский  \n",
       "6110      ID 80005967   Прикубанский  \n",
       "6111      ID 31535151    Карасунский  \n",
       "\n",
       "[6112 rows x 13 columns]"
      ]
     },
     "execution_count": 9,
     "metadata": {},
     "output_type": "execute_result"
    }
   ],
   "source": [
    "сfile[~сfile.cian_distr.isna()]"
   ]
  },
  {
   "cell_type": "code",
   "execution_count": 133,
   "id": "0307d0e0",
   "metadata": {},
   "outputs": [
    {
     "data": {
      "text/html": [
       "<div>\n",
       "<style scoped>\n",
       "    .dataframe tbody tr th:only-of-type {\n",
       "        vertical-align: middle;\n",
       "    }\n",
       "\n",
       "    .dataframe tbody tr th {\n",
       "        vertical-align: top;\n",
       "    }\n",
       "\n",
       "    .dataframe thead th {\n",
       "        text-align: right;\n",
       "    }\n",
       "</style>\n",
       "<table border=\"1\" class=\"dataframe\">\n",
       "  <thead>\n",
       "    <tr style=\"text-align: right;\">\n",
       "      <th></th>\n",
       "      <th>Ссылка</th>\n",
       "      <th>Заголовок</th>\n",
       "      <th>Комнат</th>\n",
       "      <th>Площадь</th>\n",
       "      <th>Этаж</th>\n",
       "      <th>Цена</th>\n",
       "      <th>Цена за м2</th>\n",
       "      <th>Название жк</th>\n",
       "      <th>Адрес</th>\n",
       "      <th>Дата публикации</th>\n",
       "      <th>Тип продавца</th>\n",
       "      <th>Продавец</th>\n",
       "    </tr>\n",
       "  </thead>\n",
       "  <tbody>\n",
       "    <tr>\n",
       "      <th>0</th>\n",
       "      <td>https://krasnodar.cian.ru/sale/flat/278318359/</td>\n",
       "      <td>1-комн. кв., 26,4 м², 2/15 этаж</td>\n",
       "      <td>1-комн. кв.</td>\n",
       "      <td>26,4 м²</td>\n",
       "      <td>2/15 этаж</td>\n",
       "      <td>3619440</td>\n",
       "      <td>137100</td>\n",
       "      <td>ЖК «Зеленодар»</td>\n",
       "      <td>Краснодарский край, Краснодар, Прикубанский, у...</td>\n",
       "      <td>вчера (вчера, 21:40)</td>\n",
       "      <td>Застройщик</td>\n",
       "      <td>АСК</td>\n",
       "    </tr>\n",
       "    <tr>\n",
       "      <th>1</th>\n",
       "      <td>https://krasnodar.cian.ru/sale/flat/278319080/</td>\n",
       "      <td>1-комн. кв., 91,1 м², 2/12 этаж</td>\n",
       "      <td>1-комн. кв.</td>\n",
       "      <td>91,1 м²</td>\n",
       "      <td>2/12 этаж</td>\n",
       "      <td>36350000</td>\n",
       "      <td>399012</td>\n",
       "      <td>ЖК «Role Clef»</td>\n",
       "      <td>Краснодарский край, Краснодар, Западный, мкр. ...</td>\n",
       "      <td>вчера (22 фев, 04:44)</td>\n",
       "      <td>Застройщик</td>\n",
       "      <td>АСК</td>\n",
       "    </tr>\n",
       "  </tbody>\n",
       "</table>\n",
       "</div>"
      ],
      "text/plain": [
       "                                           Ссылка  \\\n",
       "0  https://krasnodar.cian.ru/sale/flat/278318359/   \n",
       "1  https://krasnodar.cian.ru/sale/flat/278319080/   \n",
       "\n",
       "                         Заголовок       Комнат  Площадь       Этаж      Цена  \\\n",
       "0  1-комн. кв., 26,4 м², 2/15 этаж  1-комн. кв.  26,4 м²  2/15 этаж   3619440   \n",
       "1  1-комн. кв., 91,1 м², 2/12 этаж  1-комн. кв.  91,1 м²  2/12 этаж  36350000   \n",
       "\n",
       "   Цена за м2     Название жк  \\\n",
       "0      137100  ЖК «Зеленодар»   \n",
       "1      399012  ЖК «Role Clef»   \n",
       "\n",
       "                                               Адрес        Дата публикации  \\\n",
       "0  Краснодарский край, Краснодар, Прикубанский, у...   вчера (вчера, 21:40)   \n",
       "1  Краснодарский край, Краснодар, Западный, мкр. ...  вчера (22 фев, 04:44)   \n",
       "\n",
       "  Тип продавца Продавец  \n",
       "0   Застройщик      АСК  \n",
       "1   Застройщик      АСК  "
      ]
     },
     "execution_count": 133,
     "metadata": {},
     "output_type": "execute_result"
    }
   ],
   "source": [
    "сfile.head(2)"
   ]
  },
  {
   "cell_type": "code",
   "execution_count": 134,
   "id": "5fc80f1d",
   "metadata": {},
   "outputs": [
    {
     "data": {
      "text/plain": [
       "'krasnodar'"
      ]
     },
     "execution_count": 134,
     "metadata": {},
     "output_type": "execute_result"
    }
   ],
   "source": [
    "сfile.iloc[0,0].split('/')[2].split('.')[0]"
   ]
  },
  {
   "cell_type": "code",
   "execution_count": 135,
   "id": "54980641",
   "metadata": {},
   "outputs": [],
   "source": [
    "сfile['city'] = сfile['Ссылка'].apply(lambda x: x.split('/')[2].split('.')[0])"
   ]
  },
  {
   "cell_type": "code",
   "execution_count": 136,
   "id": "68f3fd4d",
   "metadata": {},
   "outputs": [
    {
     "data": {
      "text/plain": [
       "krasnodar    5088\n",
       "maykop       1024\n",
       "Name: city, dtype: int64"
      ]
     },
     "execution_count": 136,
     "metadata": {},
     "output_type": "execute_result"
    }
   ],
   "source": [
    "сfile.city.value_counts()"
   ]
  },
  {
   "cell_type": "code",
   "execution_count": 137,
   "id": "61772482",
   "metadata": {},
   "outputs": [
    {
     "data": {
      "text/plain": [
       "118"
      ]
     },
     "execution_count": 137,
     "metadata": {},
     "output_type": "execute_result"
    }
   ],
   "source": [
    "# дублирующихся ссылок\n",
    "len(сfile[сfile.duplicated(subset=['Ссылка'], keep='last')])"
   ]
  },
  {
   "cell_type": "code",
   "execution_count": 138,
   "id": "db9a2b92",
   "metadata": {},
   "outputs": [],
   "source": [
    "# чистка дублей по ссылке\n",
    "сfile_uniq = сfile.drop_duplicates(subset=['Ссылка'], keep='last')\n",
    "сfile_uniq.reset_index(drop=True, inplace=True)"
   ]
  },
  {
   "cell_type": "code",
   "execution_count": 139,
   "id": "0f38c61d",
   "metadata": {},
   "outputs": [
    {
     "data": {
      "text/plain": [
       "krasnodar    4973\n",
       "maykop       1021\n",
       "Name: city, dtype: int64"
      ]
     },
     "execution_count": 139,
     "metadata": {},
     "output_type": "execute_result"
    }
   ],
   "source": [
    "сfile_uniq.city.value_counts()"
   ]
  },
  {
   "cell_type": "code",
   "execution_count": 149,
   "id": "cabb9314",
   "metadata": {},
   "outputs": [],
   "source": [
    "сfile_uniq_kr = сfile_uniq[сfile_uniq['city'] == 'krasnodar']"
   ]
  },
  {
   "cell_type": "code",
   "execution_count": 151,
   "id": "989f144c",
   "metadata": {},
   "outputs": [
    {
     "data": {
      "text/plain": [
       "32"
      ]
     },
     "execution_count": 151,
     "metadata": {},
     "output_type": "execute_result"
    }
   ],
   "source": [
    "len(сfile_uniq_kr[сfile_uniq_kr.iloc[:,8].apply(lambda x: 'Краснодар, ' not in x)])"
   ]
  },
  {
   "cell_type": "code",
   "execution_count": 148,
   "id": "f9879122",
   "metadata": {
    "scrolled": false
   },
   "outputs": [
    {
     "data": {
      "text/plain": [
       "['Краснодарский край, Краснодар муниципальное образование, пос. Березовый, Огурцы ЖК',\n",
       " 'Краснодарский край, Краснодар муниципальное образование, пос. Березовый, Огурцы ЖК',\n",
       " 'Краснодарский край, Краснодар муниципальное образование, Ленина хут., ДНТ Виктория тер., 81',\n",
       " 'Краснодарский край, Краснодар муниципальное образование, пос. Березовый, Огурцы ЖК',\n",
       " 'Краснодарский край, Краснодар муниципальное образование, пос. Березовый, Огурцы ЖК',\n",
       " 'Краснодарский край, Краснодар муниципальное образование, пос. Березовый, Огурцы ЖК',\n",
       " 'Краснодарский край, Краснодар муниципальное образование, пос. Березовый, Огурцы ЖК',\n",
       " 'Краснодарский край, Краснодар муниципальное образование, пос. Березовый, Огурцы ЖК',\n",
       " 'Краснодарский край, Краснодар муниципальное образование, пос. Березовый, Огурцы ЖК',\n",
       " 'Краснодарский край, Краснодар муниципальное образование, пос. Березовый, Огурцы ЖК',\n",
       " 'Краснодарский край, Краснодар муниципальное образование, Ленина хут., ДНТ Виктория тер., улица Прохладная, 131',\n",
       " 'Краснодарский край, Краснодар муниципальное образование, пос. Березовый, Огурцы ЖК',\n",
       " 'Краснодарский край, Краснодар муниципальное образование, пос. Березовый, Огурцы ЖК',\n",
       " 'Краснодарский край, Краснодар муниципальное образование, пос. Березовый, Огурцы ЖК',\n",
       " 'Краснодарский край, Краснодар муниципальное образование, пос. Березовый, Огурцы ЖК',\n",
       " 'Краснодарский край, Краснодар муниципальное образование, пос. Березовый, Огурцы ЖК',\n",
       " 'Краснодарский край, Краснодар муниципальное образование, пос. Пригородный, Алтайский мкр, улица Болгарская, 12',\n",
       " 'Краснодарский край, Краснодар муниципальное образование, Ленина хут., улица Наримановская, 20',\n",
       " 'Краснодарский край, Краснодар муниципальное образование, Ленина хут., улица Наримановская',\n",
       " 'Краснодарский край, Краснодар муниципальное образование, Ленина хут., улица Наримановская, 10к3',\n",
       " 'Краснодарский край, Краснодар муниципальное образование, пос. Березовый, Огурцы ЖК',\n",
       " 'Краснодарский край, Краснодар муниципальное образование, пос. Березовый, Огурцы ЖК',\n",
       " 'Краснодарский край, Краснодар муниципальное образование, пос. Березовый, Огурцы ЖК',\n",
       " 'Краснодарский край, Краснодар муниципальное образование, пос. Березовый, Огурцы ЖК',\n",
       " 'Краснодарский край, Краснодар муниципальное образование, пос. Березовый, Огурцы ЖК',\n",
       " 'Краснодарский край, Краснодар муниципальное образование, пос. Березовый, Огурцы ЖК',\n",
       " 'Краснодарский край, Краснодар муниципальное образование, пос. Березовый, Огурцы ЖК',\n",
       " 'Краснодарский край, Краснодар муниципальное образование, пос. Пригородный, Алтайский мкр, улица Болгарская, 12',\n",
       " 'Краснодарский край, Краснодар муниципальное образование, Ленина хут., Рублевский СНТ, улица Радужная',\n",
       " 'Краснодарский край, Краснодар муниципальное образование, Ленина хут., Рублевский СНТ, улица Радужная, 15/1',\n",
       " 'Краснодарский край, Северский район, Афипское городское поселение, Афипский пгт, улица Пушкина, 148',\n",
       " 'Краснодарский край, Краснодар муниципальное образование, пос. Пригородный, Алтайский мкр, улица Болгарская, 12/1']"
      ]
     },
     "execution_count": 148,
     "metadata": {},
     "output_type": "execute_result"
    }
   ],
   "source": [
    "сfile_uniq_kr[сfile_uniq_kr.iloc[:,8].apply(lambda x: 'Краснодар, ' not in x)].iloc[:,8].to_list()"
   ]
  },
  {
   "cell_type": "code",
   "execution_count": 152,
   "id": "64f21c85",
   "metadata": {},
   "outputs": [
    {
     "data": {
      "text/plain": [
       "['https://krasnodar.cian.ru/sale/flat/282631899/',\n",
       " 'https://krasnodar.cian.ru/sale/flat/282681572/',\n",
       " 'https://krasnodar.cian.ru/sale/flat/284016081/',\n",
       " 'https://krasnodar.cian.ru/sale/flat/269219401/',\n",
       " 'https://krasnodar.cian.ru/sale/flat/269220053/',\n",
       " 'https://krasnodar.cian.ru/sale/flat/269220149/',\n",
       " 'https://krasnodar.cian.ru/sale/flat/269220221/',\n",
       " 'https://krasnodar.cian.ru/sale/flat/269220318/',\n",
       " 'https://krasnodar.cian.ru/sale/flat/269219577/',\n",
       " 'https://krasnodar.cian.ru/sale/flat/269220018/',\n",
       " 'https://krasnodar.cian.ru/sale/flat/276544073/',\n",
       " 'https://krasnodar.cian.ru/sale/flat/269220322/',\n",
       " 'https://krasnodar.cian.ru/sale/flat/269220383/',\n",
       " 'https://krasnodar.cian.ru/sale/flat/269220454/',\n",
       " 'https://krasnodar.cian.ru/sale/flat/269220498/',\n",
       " 'https://krasnodar.cian.ru/sale/flat/269220543/',\n",
       " 'https://krasnodar.cian.ru/sale/flat/283352571/',\n",
       " 'https://krasnodar.cian.ru/sale/flat/283923001/',\n",
       " 'https://krasnodar.cian.ru/sale/flat/278856289/',\n",
       " 'https://krasnodar.cian.ru/sale/flat/279261157/',\n",
       " 'https://krasnodar.cian.ru/sale/flat/269219205/',\n",
       " 'https://krasnodar.cian.ru/sale/flat/269219366/',\n",
       " 'https://krasnodar.cian.ru/sale/flat/269219305/',\n",
       " 'https://krasnodar.cian.ru/sale/flat/269219209/',\n",
       " 'https://krasnodar.cian.ru/sale/flat/269219207/',\n",
       " 'https://krasnodar.cian.ru/sale/flat/269219352/',\n",
       " 'https://krasnodar.cian.ru/sale/flat/269219396/',\n",
       " 'https://krasnodar.cian.ru/sale/flat/278724351/',\n",
       " 'https://krasnodar.cian.ru/sale/flat/278480403/',\n",
       " 'https://krasnodar.cian.ru/sale/flat/274559196/',\n",
       " 'https://krasnodar.cian.ru/sale/flat/272814601/',\n",
       " 'https://krasnodar.cian.ru/sale/flat/274880937/']"
      ]
     },
     "execution_count": 152,
     "metadata": {},
     "output_type": "execute_result"
    }
   ],
   "source": [
    "сfile_uniq_kr[сfile_uniq_kr.iloc[:,8].apply(lambda x: 'Краснодар, ' not in x)].iloc[:,0].to_list()"
   ]
  },
  {
   "cell_type": "code",
   "execution_count": 15,
   "id": "edfee78f",
   "metadata": {},
   "outputs": [],
   "source": [
    "# случайные n индексов для показа\n",
    "random_index = [random.randint(1,1000) for i in range(10)]"
   ]
  },
  {
   "cell_type": "code",
   "execution_count": 16,
   "id": "db0d94cb",
   "metadata": {},
   "outputs": [
    {
     "data": {
      "text/plain": [
       "['Республика Адыгея, Тахтамукайский район, Яблоновский пгт, улица Гагарина, 148/4к2',\n",
       " 'Республика Адыгея, Тахтамукайский район, Старобжегокайское с/пос, Новая Адыгея аул, улица Бжегокайская, 90/2к13',\n",
       " 'Республика Адыгея, Тахтамукайский район, Яблоновский пгт, улица Тургеневское Шоссе, 33',\n",
       " 'Республика Адыгея, Тахтамукайский район, Старобжегокайское с/пос, Новая Адыгея аул, улица Бжегокайская, 25/1к9',\n",
       " 'Республика Адыгея, Тахтамукайский район, Яблоновский пгт, улица Гагарина, 148к4',\n",
       " 'Республика Адыгея, Тахтамукайский район, Яблоновский пгт, улица Тургеневское Шоссе',\n",
       " 'Республика Адыгея, Тахтамукайский район, Старобжегокайское с/пос, Новая Адыгея аул, улица Тургеневское шоссе, 33/1к27',\n",
       " 'Республика Адыгея, Тахтамукайский район, Старобжегокайское с/пос, Новая Адыгея аул, улица Тургеневское шоссе, 33/3к20',\n",
       " 'Республика Адыгея, Тахтамукайский район, Старобжегокайское с/пос, Новая Адыгея аул, улица Бжегокайская, 90/2к13',\n",
       " 'Республика Адыгея, Тахтамукайский район, Старобжегокайское с/пос, Новая Адыгея аул, улица Бжегокайская, 90/2к2']"
      ]
     },
     "execution_count": 16,
     "metadata": {},
     "output_type": "execute_result"
    }
   ],
   "source": [
    "# адреса для города майкоп\n",
    "сfile_uniq[сfile_uniq['city'] == 'maykop'].iloc[random_index, :]['Адрес'].to_list()"
   ]
  },
  {
   "cell_type": "code",
   "execution_count": 17,
   "id": "09a3522c",
   "metadata": {},
   "outputs": [
    {
     "data": {
      "text/plain": [
       "['https://maykop.cian.ru/sale/flat/265036601/',\n",
       " 'https://maykop.cian.ru/sale/flat/265191689/',\n",
       " 'https://maykop.cian.ru/sale/flat/283418979/',\n",
       " 'https://maykop.cian.ru/sale/flat/273899991/',\n",
       " 'https://maykop.cian.ru/sale/flat/277063938/',\n",
       " 'https://maykop.cian.ru/sale/flat/272981675/',\n",
       " 'https://maykop.cian.ru/sale/flat/255604520/',\n",
       " 'https://maykop.cian.ru/sale/flat/220043570/',\n",
       " 'https://maykop.cian.ru/sale/flat/265191870/',\n",
       " 'https://maykop.cian.ru/sale/flat/274091015/']"
      ]
     },
     "execution_count": 17,
     "metadata": {},
     "output_type": "execute_result"
    }
   ],
   "source": [
    "# ссылки для города майкоп (те-же индексы по порядку как и в адресах)\n",
    "сfile_uniq[сfile_uniq['city'] == 'maykop'].iloc[random_index, :]['Ссылка'].to_list()"
   ]
  },
  {
   "cell_type": "code",
   "execution_count": 28,
   "id": "68c5204a",
   "metadata": {},
   "outputs": [],
   "source": [
    "random_index_1 = [random.randint(100,5000) for i in range(5)]"
   ]
  },
  {
   "cell_type": "code",
   "execution_count": 29,
   "id": "be907cdf",
   "metadata": {},
   "outputs": [
    {
     "data": {
      "text/plain": [
       "['Республика Адыгея, Тахтамукайский район, Старобжегокайское с/пос, Новая Адыгея аул, улица Тургеневское шоссе, 33/1к32',\n",
       " 'Краснодарский край, Краснодар, Центральный, мкр. Покровка, улица Володарского, 66',\n",
       " 'Краснодарский край, Краснодар, Прикубанский, улица Героя Пешкова, 7',\n",
       " 'Краснодарский край, Краснодар, Прикубанский, улица Имени Героя Георгия Бочарникова, 4',\n",
       " 'Республика Адыгея, Тахтамукайский район, Старобжегокайское с/пос, Новая Адыгея аул, улица Тургеневское шоссе, 25/7Э']"
      ]
     },
     "execution_count": 29,
     "metadata": {},
     "output_type": "execute_result"
    }
   ],
   "source": [
    "# вид поля адрес\n",
    "сfile_uniq.iloc[random_index_1, 8].to_list()"
   ]
  },
  {
   "cell_type": "code",
   "execution_count": 18,
   "id": "9400a785",
   "metadata": {},
   "outputs": [
    {
     "data": {
      "text/plain": [
       "6    2471\n",
       "5    2311\n",
       "4     751\n",
       "7     384\n",
       "3      77\n",
       "Name: Адрес, dtype: int64"
      ]
     },
     "execution_count": 18,
     "metadata": {},
     "output_type": "execute_result"
    }
   ],
   "source": [
    "# в поле адрес есть 5 разных типов данных \n",
    "сfile_uniq.iloc[:,8].apply(lambda x: len(x.split(','))).value_counts()"
   ]
  },
  {
   "cell_type": "code",
   "execution_count": 54,
   "id": "bcbe452b",
   "metadata": {},
   "outputs": [
    {
     "data": {
      "text/plain": [
       "['Краснодарский край, Краснодар, Карасунский, мкр. КСК, Камвольно-суконный Комбинат мкр, улица Дежнева, 29/3',\n",
       " 'Краснодарский край, Краснодар, Карасунский, мкр. Гидростроителей, Почтовый мкр, проспект Имени писателя Знаменского, 32',\n",
       " 'Краснодарский край, Краснодар, Прикубанский, мкр. РИП, Имени Петра Метальникова мкр, улица Тополиная, 40/1к2',\n",
       " 'Краснодарский край, Краснодар, Прикубанский, мкр. РИП, Музыкальный мкр, улица Имени Мусоргского М.П., 3',\n",
       " 'Краснодарский край, Краснодар, Карасунский, мкр. Гидростроителей, Почтовый мкр, проспект Имени писателя Знаменского, 6',\n",
       " 'Краснодарский край, Краснодар, Прикубанский, мкр. РИП, Музыкальный мкр, улица Имени Мусоргского М.П., 8',\n",
       " 'Краснодарский край, Краснодар, Карасунский, мкр. ХБК, Хлопчато-бумажный Комбинат мкр, улица Алтайская, 4/1',\n",
       " 'Краснодарский край, Краснодар, Прикубанский, мкр. РИП, Музыкальный мкр, улица Имени Мусоргского М.П., 26к2',\n",
       " 'Краснодарский край, Краснодар, Карасунский, мкр. Гидростроителей, Почтовый мкр, проспект Имени писателя Знаменского, 34',\n",
       " 'Краснодарский край, Краснодар, Карасунский, мкр. КСК, ТЭЦ жилмассив, улица Краснодарская, 55']"
      ]
     },
     "execution_count": 54,
     "metadata": {},
     "output_type": "execute_result"
    }
   ],
   "source": [
    "random_index_7 = [random.randint(1,384) for i in range(10)]\n",
    "сfile_uniq[сfile_uniq.iloc[:,8].apply(lambda x: len(x.split(',')) == 7)].iloc[random_index_7, 8].to_list()"
   ]
  },
  {
   "cell_type": "code",
   "execution_count": 47,
   "id": "faa61e6d",
   "metadata": {},
   "outputs": [
    {
     "data": {
      "text/plain": [
       "['Краснодарский край, Краснодар, Прикубанский, мкр. Горхутор, улица Дзержинского, 110А',\n",
       " 'Республика Адыгея, Тахтамукайский район, Старобжегокайское с/пос, Новая Адыгея аул, улица Песочная, 1к4',\n",
       " 'Краснодарский край, Краснодар, Прикубанский, мкр. РИП, Музыкальный мкр, улица Имени Дунаевского И.И.',\n",
       " 'Республика Адыгея, Тахтамукайский район, Старобжегокайское с/пос, Новая Адыгея аул, улица Бжегокайская, 25/1к10',\n",
       " 'Республика Адыгея, Тахтамукайский район, Старобжегокайское с/пос, Новая Адыгея аул, улица Тургеневское шоссе, 33/2к26',\n",
       " 'Краснодарский край, Краснодар, Карасунский, мкр. Новознаменский, улица Войсковая, 4к6',\n",
       " 'Республика Адыгея, Тахтамукайский район, Старобжегокайское с/пос, Новая Адыгея аул, улица Бжегокайская, 23/1Ак4',\n",
       " 'Краснодарский край, Краснодар, Центральный, мкр. 40 лет Победы, улица Имени 40-летия Победы, 4',\n",
       " 'Краснодарский край, Краснодар, Карасунский, мкр. Черемушки, Ставропольская улица, 217/1',\n",
       " 'Краснодарский край, Краснодар, Прикубанский, мкр. РИП, Московская улица, 131к1']"
      ]
     },
     "execution_count": 47,
     "metadata": {},
     "output_type": "execute_result"
    }
   ],
   "source": [
    "random_index_6 = [random.randint(1,2471) for i in range(10)]\n",
    "сfile_uniq[сfile_uniq.iloc[:,8].apply(lambda x: len(x.split(',')) == 6)].iloc[random_index_6, 8].to_list()"
   ]
  },
  {
   "cell_type": "code",
   "execution_count": 46,
   "id": "cb7cc52d",
   "metadata": {},
   "outputs": [
    {
     "data": {
      "text/plain": [
       "['Краснодарский край, Краснодар, Прикубанский, мкр. Калинино, улица Имени Генерала Корнилова',\n",
       " 'Краснодарский край, Краснодар, Прикубанский, улица Имени Героя Ростовского, 8к1',\n",
       " 'Краснодарский край, Краснодар, Прикубанский, Российская улица, 74к2',\n",
       " 'Краснодарский край, Краснодар, Прикубанский, мкр. РИП, Музыкальный мкр',\n",
       " 'Краснодарский край, Краснодар, Прикубанский, улица Им. Сорока А.М., 7',\n",
       " 'Краснодарский край, Краснодар, Прикубанский, мкр. Калинино, Спортивная деревня ЖК',\n",
       " 'Краснодарский край, Краснодар, Прикубанский, мкр. Калинино, Народная улица',\n",
       " 'Краснодарский край, Краснодар, Прикубанский, мкр. Калинино, Спортивная деревня ЖК',\n",
       " 'Краснодарский край, Краснодар, Прикубанский, мкр. Авиагородок, улица Авиагородок',\n",
       " 'Республика Адыгея, Тахтамукайский район, Старобжегокайское с/пос, Новая Адыгея аул, улица Береговая']"
      ]
     },
     "execution_count": 46,
     "metadata": {},
     "output_type": "execute_result"
    }
   ],
   "source": [
    "random_index_5 = [random.randint(1,2311) for i in range(10)]\n",
    "сfile_uniq[сfile_uniq.iloc[:,8].apply(lambda x: len(x.split(',')) == 5)].iloc[random_index_5, 8].to_list()"
   ]
  },
  {
   "cell_type": "code",
   "execution_count": 72,
   "id": "df2b58a1",
   "metadata": {},
   "outputs": [
    {
     "data": {
      "text/plain": [
       "['Краснодарский край, Краснодар, Прикубанский, Молодежный мкр',\n",
       " 'Краснодарский край, Краснодар, Прикубанский, Европа-Сити ЖК',\n",
       " 'Краснодарский край, Краснодар, Карасунский, мкр. Черемушки',\n",
       " 'Краснодарский край, Краснодар, Прикубанский, Молодежный мкр',\n",
       " 'Краснодарский край, Краснодар, Прикубанский, Европа-Сити ЖК',\n",
       " 'Краснодарский край, Краснодар, Прикубанский, Португалия ЖК',\n",
       " 'Краснодарский край, Краснодар, Прикубанский, Самолет-6 ЖК',\n",
       " 'Краснодарский край, Краснодар, Центральный, улица Базовская Дамба',\n",
       " 'Краснодарский край, Краснодар, Прикубанский, улица Имени Героя Советского Союза Якова Кобзаря',\n",
       " 'Краснодарский край, Краснодар, Прикубанский, Европа-Сити ЖК']"
      ]
     },
     "execution_count": 72,
     "metadata": {},
     "output_type": "execute_result"
    }
   ],
   "source": [
    "random_index_4 = [random.randint(1,751) for i in range(10)]\n",
    "сfile_uniq[сfile_uniq.iloc[:,8].apply(lambda x: len(x.split(',')) == 4)].iloc[random_index_4, 8].to_list()"
   ]
  },
  {
   "cell_type": "code",
   "execution_count": 69,
   "id": "5ee2abca",
   "metadata": {},
   "outputs": [
    {
     "data": {
      "text/plain": [
       "['Краснодарский край, Краснодар, Центральный',\n",
       " 'Республика Адыгея, Тахтамукайский район, Яблоновский пгт',\n",
       " 'Краснодарский край, Краснодар, Центральный',\n",
       " 'Республика Адыгея, Тахтамукайский район, Яблоновский пгт',\n",
       " 'Краснодарский край, Краснодар, Центральный',\n",
       " 'Краснодарский край, Краснодар, Центральный',\n",
       " 'Краснодарский край, Краснодар, Центральный',\n",
       " 'Краснодарский край, Краснодар, Центральный',\n",
       " 'Краснодарский край, Краснодар, Центральный',\n",
       " 'Краснодарский край, Краснодар, Центральный']"
      ]
     },
     "execution_count": 69,
     "metadata": {},
     "output_type": "execute_result"
    }
   ],
   "source": [
    "random_index_3 = [random.randint(1,76) for i in range(10)]\n",
    "сfile_uniq[сfile_uniq.iloc[:,8].apply(lambda x: len(x.split(',')) == 3)].iloc[random_index_3, 8].to_list()"
   ]
  },
  {
   "cell_type": "code",
   "execution_count": 74,
   "id": "b7bb0636",
   "metadata": {},
   "outputs": [
    {
     "data": {
      "text/plain": [
       "['Краснодарский край, Краснодар, Прикубанский, 2-я Площадка мкр, улица Ветеранов, 40лит3',\n",
       " 'Краснодарский край, Краснодар, Прикубанский, мкр. Славянский, улица Красных Партизан',\n",
       " 'Республика Адыгея, Тахтамукайский район, Яблоновский пгт, улица Гагарина, 192к4',\n",
       " 'Краснодарский край, Краснодар, Прикубанский, 2-я Площадка мкр, улица Ветеранов, 85',\n",
       " 'Краснодарский край, Краснодар, Прикубанский, улица Героев-Разведчиков, 11/4',\n",
       " 'Краснодарский край, Краснодар, Прикубанский, улица Конгрессная, лит12',\n",
       " 'Краснодарский край, Краснодар, Карасунский, мкр. Гидростроителей, улица Трудовой Славы, 25',\n",
       " 'Краснодарский край, Краснодар, Прикубанский, мкр. Калинино, Западный Город ЖК, улица Крылатская',\n",
       " 'Краснодарский край, Краснодар, Прикубанский, улица Западный обход, 45к2',\n",
       " 'Краснодарский край, Краснодар, Прикубанский, улица Академика Лукьяненко',\n",
       " 'Краснодарский край, Краснодар, Центральный, мкр. Дубинка, Черемушки мкр, улица Вишняковой, 1/23к1',\n",
       " 'Краснодарский край, Краснодар, Центральный, мкр. Дубинка, Черемушки мкр, улица Вишняковой, 1/23к1',\n",
       " 'Краснодарский край, Краснодар, Западный, мкр. Центральный, Рашпилевская улица, 111',\n",
       " 'Республика Адыгея, Тахтамукайский район, Энем пгт, улица Фрунзе, 10',\n",
       " 'Краснодарский край, Краснодар, Прикубанский, улица Даниила Смоляна, 80',\n",
       " 'Краснодарский край, Краснодар, Прикубанский, мкр. Восточно-Кругликовский, улица Героев-Разведчиков, 26',\n",
       " 'Краснодарский край, Краснодар, Прикубанский, улица Конгрессная, 41к1',\n",
       " 'Республика Адыгея, Тахтамукайский район, Яблоновский пгт, Железнодорожная улица, 3',\n",
       " 'Краснодарский край, Краснодар, Прикубанский, мкр. РИП, Туркменская улица, 27',\n",
       " 'Краснодарский край, Краснодар, Прикубанский, улица Конгрессная, 41к1',\n",
       " 'Краснодарский край, Краснодар, Западный, мкр. Центральный, Рашпилевская улица, 119',\n",
       " 'Краснодарский край, Краснодар, Карасунский, мкр. КСК, Уральская улица, 87/7',\n",
       " 'Краснодарский край, Краснодар, Центральный, мкр. Табачная фабрика, Колхозная улица, 5к3',\n",
       " 'Республика Адыгея, Тахтамукайский район, Старобжегокайское с/пос, Новая Адыгея аул, улица Бжегокайская, 31/6к2',\n",
       " 'Краснодарский край, Краснодар, Прикубанский, мкр. РИП, улица Карельская, 51/4',\n",
       " 'Республика Адыгея, Тахтамукайский район, Яблоновский пгт, улица Теучежа, 20',\n",
       " 'Краснодарский край, Краснодар, Центральный, мкр. Покровка, улица Щорса, 49',\n",
       " 'Краснодарский край, Краснодар, Прикубанский, мкр. РИП, Российская улица, 267к4',\n",
       " 'Республика Адыгея, Тахтамукайский район, Яблоновский пгт, улица Гагарина, 159/1В',\n",
       " 'Краснодарский край, Краснодар, Карасунский, мкр. Новознаменский, улица Богатырская, 11лит10']"
      ]
     },
     "execution_count": 74,
     "metadata": {},
     "output_type": "execute_result"
    }
   ],
   "source": [
    "random_index_n = [random.randint(1,4000) for i in range(30)]\n",
    "сfile_uniq[сfile_uniq.iloc[:,8].apply(lambda x: 'ул' in x)].iloc[random_index_n, 8].to_list()"
   ]
  },
  {
   "cell_type": "code",
   "execution_count": null,
   "id": "839fb794",
   "metadata": {},
   "outputs": [],
   "source": []
  },
  {
   "cell_type": "markdown",
   "id": "08af1c13",
   "metadata": {},
   "source": [
    "# краснодар"
   ]
  },
  {
   "cell_type": "code",
   "execution_count": 112,
   "id": "35a736b8",
   "metadata": {},
   "outputs": [],
   "source": [
    "pfile_uniq = pd.read_csv('26-02-23 (без дублей).csv', delimiter=';', encoding='utf8')"
   ]
  },
  {
   "cell_type": "code",
   "execution_count": 113,
   "id": "2f889cdc",
   "metadata": {},
   "outputs": [],
   "source": [
    "pfile_uniq['city'] = pfile_uniq['Ссылка'].apply(lambda x: x.split('/')[3])"
   ]
  },
  {
   "cell_type": "code",
   "execution_count": 114,
   "id": "6bd85ee4",
   "metadata": {},
   "outputs": [
    {
     "data": {
      "text/html": [
       "<div>\n",
       "<style scoped>\n",
       "    .dataframe tbody tr th:only-of-type {\n",
       "        vertical-align: middle;\n",
       "    }\n",
       "\n",
       "    .dataframe tbody tr th {\n",
       "        vertical-align: top;\n",
       "    }\n",
       "\n",
       "    .dataframe thead th {\n",
       "        text-align: right;\n",
       "    }\n",
       "</style>\n",
       "<table border=\"1\" class=\"dataframe\">\n",
       "  <thead>\n",
       "    <tr style=\"text-align: right;\">\n",
       "      <th></th>\n",
       "      <th>Ссылка</th>\n",
       "      <th>Заголовок</th>\n",
       "      <th>Комнат</th>\n",
       "      <th>Площадь</th>\n",
       "      <th>Этаж</th>\n",
       "      <th>Цена</th>\n",
       "      <th>Цена за м2</th>\n",
       "      <th>Название жк</th>\n",
       "      <th>Район</th>\n",
       "      <th>Улица</th>\n",
       "      <th>Дата публикации</th>\n",
       "      <th>Тип продавца</th>\n",
       "      <th>Продавец</th>\n",
       "      <th>Ссылка на продавца</th>\n",
       "      <th>Завершённых объявлений</th>\n",
       "      <th>city</th>\n",
       "    </tr>\n",
       "  </thead>\n",
       "  <tbody>\n",
       "    <tr>\n",
       "      <th>51</th>\n",
       "      <td>https://www.avito.ru/tomsk/kvartiry/1-k._kvart...</td>\n",
       "      <td>1-к. квартира, 34 м², 5/17 эт.</td>\n",
       "      <td>1-к. квартира</td>\n",
       "      <td>34 м²</td>\n",
       "      <td>5/17 эт.</td>\n",
       "      <td>4550000</td>\n",
       "      <td>133824</td>\n",
       "      <td>NaN</td>\n",
       "      <td>NaN</td>\n",
       "      <td>д. Кисловка, микрорайон Северный, ул. Марины Ц...</td>\n",
       "      <td>51 минуту назад</td>\n",
       "      <td>Агентство</td>\n",
       "      <td>Перспектива24-Томск</td>\n",
       "      <td>https://www.avito.ru/user/b1f3c879b3fd07d3d782...</td>\n",
       "      <td>2819</td>\n",
       "      <td>tomsk</td>\n",
       "    </tr>\n",
       "    <tr>\n",
       "      <th>100</th>\n",
       "      <td>https://www.avito.ru/tomsk/kvartiry/1-k._kvart...</td>\n",
       "      <td>1-к. квартира, 37 м², 17/17 эт.</td>\n",
       "      <td>1-к. квартира</td>\n",
       "      <td>37 м²</td>\n",
       "      <td>17/17 эт.</td>\n",
       "      <td>3700000</td>\n",
       "      <td>100000</td>\n",
       "      <td>NaN</td>\n",
       "      <td>NaN</td>\n",
       "      <td>пос. Зональная Станция, микрорайон Южные Ворот...</td>\n",
       "      <td>14 минут назад</td>\n",
       "      <td>Частное лицо</td>\n",
       "      <td>NaN</td>\n",
       "      <td>NaN</td>\n",
       "      <td>NaN</td>\n",
       "      <td>tomsk</td>\n",
       "    </tr>\n",
       "    <tr>\n",
       "      <th>120</th>\n",
       "      <td>https://www.avito.ru/tomsk/kvartiry/2-k._kvart...</td>\n",
       "      <td>2-к. квартира, 41,5 м², 7/8 эт.</td>\n",
       "      <td>2-к. квартира</td>\n",
       "      <td>41,5 м²</td>\n",
       "      <td>7/8 эт.</td>\n",
       "      <td>5499000</td>\n",
       "      <td>132506</td>\n",
       "      <td>NaN</td>\n",
       "      <td>NaN</td>\n",
       "      <td>д. Кисловка, микрорайон Левобережный, ул. Леви...</td>\n",
       "      <td>4 дня назад</td>\n",
       "      <td>Частное лицо</td>\n",
       "      <td>NaN</td>\n",
       "      <td>NaN</td>\n",
       "      <td>NaN</td>\n",
       "      <td>tomsk</td>\n",
       "    </tr>\n",
       "    <tr>\n",
       "      <th>127</th>\n",
       "      <td>https://www.avito.ru/tomsk/kvartiry/2-k._kvart...</td>\n",
       "      <td>2-к. квартира, 44 м², 2/5 эт.</td>\n",
       "      <td>2-к. квартира</td>\n",
       "      <td>44 м²</td>\n",
       "      <td>2/5 эт.</td>\n",
       "      <td>2100000</td>\n",
       "      <td>47727</td>\n",
       "      <td>NaN</td>\n",
       "      <td>NaN</td>\n",
       "      <td>с. Рыбалово, Советская ул., 20</td>\n",
       "      <td>2 часа назад</td>\n",
       "      <td>Частное лицо</td>\n",
       "      <td>NaN</td>\n",
       "      <td>NaN</td>\n",
       "      <td>NaN</td>\n",
       "      <td>tomsk</td>\n",
       "    </tr>\n",
       "    <tr>\n",
       "      <th>183</th>\n",
       "      <td>https://www.avito.ru/tomsk/kvartiry/1-k._kvart...</td>\n",
       "      <td>1-к. квартира, 40,2 м², 1/4 эт.</td>\n",
       "      <td>1-к. квартира</td>\n",
       "      <td>40,2 м²</td>\n",
       "      <td>1/4 эт.</td>\n",
       "      <td>4590000</td>\n",
       "      <td>114179</td>\n",
       "      <td>NaN</td>\n",
       "      <td>NaN</td>\n",
       "      <td>д. Кисловка, микрорайон Северный, ул. Бориса П...</td>\n",
       "      <td>4 дня назад</td>\n",
       "      <td>Частное лицо</td>\n",
       "      <td>NaN</td>\n",
       "      <td>NaN</td>\n",
       "      <td>NaN</td>\n",
       "      <td>tomsk</td>\n",
       "    </tr>\n",
       "    <tr>\n",
       "      <th>...</th>\n",
       "      <td>...</td>\n",
       "      <td>...</td>\n",
       "      <td>...</td>\n",
       "      <td>...</td>\n",
       "      <td>...</td>\n",
       "      <td>...</td>\n",
       "      <td>...</td>\n",
       "      <td>...</td>\n",
       "      <td>...</td>\n",
       "      <td>...</td>\n",
       "      <td>...</td>\n",
       "      <td>...</td>\n",
       "      <td>...</td>\n",
       "      <td>...</td>\n",
       "      <td>...</td>\n",
       "      <td>...</td>\n",
       "    </tr>\n",
       "    <tr>\n",
       "      <th>117402</th>\n",
       "      <td>https://www.avito.ru/novorossiysk/kvartiry/3-k...</td>\n",
       "      <td>3-к. квартира, 74,6 м², 8/14 эт.</td>\n",
       "      <td>3-к. квартира</td>\n",
       "      <td>74,6 м²</td>\n",
       "      <td>8/14 эт.</td>\n",
       "      <td>7412000</td>\n",
       "      <td>99357</td>\n",
       "      <td>ООО \"СПЕЦИАЛИЗИРОВАННЫЙ ЗАСТРОЙЩИК ООО \"ВИТА-С...</td>\n",
       "      <td>NaN</td>\n",
       "      <td>с. Цемдолина, ул. Красина, д. 53, корп. 5</td>\n",
       "      <td>13 минут назад</td>\n",
       "      <td>Застройщик</td>\n",
       "      <td>ООО \"СПЕЦИАЛИЗИРОВАННЫЙ ЗАСТРОЙЩИК ООО \"ВИТА-С...</td>\n",
       "      <td>https://www.avito.ru/user/9c8028f7258286a96306...</td>\n",
       "      <td>608</td>\n",
       "      <td>novorossiysk</td>\n",
       "    </tr>\n",
       "    <tr>\n",
       "      <th>117403</th>\n",
       "      <td>https://www.avito.ru/novorossiysk/kvartiry/3-k...</td>\n",
       "      <td>3-к. квартира, 74,6 м², 11/14 эт.</td>\n",
       "      <td>3-к. квартира</td>\n",
       "      <td>74,6 м²</td>\n",
       "      <td>11/14 эт.</td>\n",
       "      <td>6712200</td>\n",
       "      <td>89976</td>\n",
       "      <td>ООО \"СПЕЦИАЛИЗИРОВАННЫЙ ЗАСТРОЙЩИК ООО \"ВИТА-С...</td>\n",
       "      <td>NaN</td>\n",
       "      <td>с. Цемдолина, ул. Красина, д. 53, корп. 5</td>\n",
       "      <td>13 минут назад</td>\n",
       "      <td>Застройщик</td>\n",
       "      <td>ООО \"СПЕЦИАЛИЗИРОВАННЫЙ ЗАСТРОЙЩИК ООО \"ВИТА-С...</td>\n",
       "      <td>https://www.avito.ru/user/9c8028f7258286a96306...</td>\n",
       "      <td>608</td>\n",
       "      <td>novorossiysk</td>\n",
       "    </tr>\n",
       "    <tr>\n",
       "      <th>117404</th>\n",
       "      <td>https://www.avito.ru/novorossiysk/kvartiry/3-k...</td>\n",
       "      <td>3-к. квартира, 74,6 м², 12/14 эт.</td>\n",
       "      <td>3-к. квартира</td>\n",
       "      <td>74,6 м²</td>\n",
       "      <td>12/14 эт.</td>\n",
       "      <td>6712200</td>\n",
       "      <td>89976</td>\n",
       "      <td>ООО \"СПЕЦИАЛИЗИРОВАННЫЙ ЗАСТРОЙЩИК ООО \"ВИТА-С...</td>\n",
       "      <td>NaN</td>\n",
       "      <td>с. Цемдолина, ул. Красина, д. 53, корп. 5</td>\n",
       "      <td>13 минут назад</td>\n",
       "      <td>Застройщик</td>\n",
       "      <td>ООО \"СПЕЦИАЛИЗИРОВАННЫЙ ЗАСТРОЙЩИК ООО \"ВИТА-С...</td>\n",
       "      <td>https://www.avito.ru/user/9c8028f7258286a96306...</td>\n",
       "      <td>608</td>\n",
       "      <td>novorossiysk</td>\n",
       "    </tr>\n",
       "    <tr>\n",
       "      <th>117405</th>\n",
       "      <td>https://www.avito.ru/novorossiysk/kvartiry/3-k...</td>\n",
       "      <td>3-к. квартира, 74,6 м², 10/14 эт.</td>\n",
       "      <td>3-к. квартира</td>\n",
       "      <td>74,6 м²</td>\n",
       "      <td>10/14 эт.</td>\n",
       "      <td>6712200</td>\n",
       "      <td>89976</td>\n",
       "      <td>ООО \"СПЕЦИАЛИЗИРОВАННЫЙ ЗАСТРОЙЩИК ООО \"ВИТА-С...</td>\n",
       "      <td>NaN</td>\n",
       "      <td>с. Цемдолина, ул. Красина, д. 53, корп. 5</td>\n",
       "      <td>13 минут назад</td>\n",
       "      <td>Застройщик</td>\n",
       "      <td>ООО \"СПЕЦИАЛИЗИРОВАННЫЙ ЗАСТРОЙЩИК ООО \"ВИТА-С...</td>\n",
       "      <td>https://www.avito.ru/user/9c8028f7258286a96306...</td>\n",
       "      <td>608</td>\n",
       "      <td>novorossiysk</td>\n",
       "    </tr>\n",
       "    <tr>\n",
       "      <th>117406</th>\n",
       "      <td>https://www.avito.ru/novorossiysk/kvartiry/3-k...</td>\n",
       "      <td>3-к. квартира, 74,6 м², 6/14 эт.</td>\n",
       "      <td>3-к. квартира</td>\n",
       "      <td>74,6 м²</td>\n",
       "      <td>6/14 эт.</td>\n",
       "      <td>7412000</td>\n",
       "      <td>99357</td>\n",
       "      <td>ООО \"СПЕЦИАЛИЗИРОВАННЫЙ ЗАСТРОЙЩИК ООО \"ВИТА-С...</td>\n",
       "      <td>NaN</td>\n",
       "      <td>с. Цемдолина, ул. Красина, д. 53, корп. 5</td>\n",
       "      <td>13 минут назад</td>\n",
       "      <td>Застройщик</td>\n",
       "      <td>ООО \"СПЕЦИАЛИЗИРОВАННЫЙ ЗАСТРОЙЩИК ООО \"ВИТА-С...</td>\n",
       "      <td>https://www.avito.ru/user/9c8028f7258286a96306...</td>\n",
       "      <td>608</td>\n",
       "      <td>novorossiysk</td>\n",
       "    </tr>\n",
       "  </tbody>\n",
       "</table>\n",
       "<p>25958 rows × 16 columns</p>\n",
       "</div>"
      ],
      "text/plain": [
       "                                                   Ссылка  \\\n",
       "51      https://www.avito.ru/tomsk/kvartiry/1-k._kvart...   \n",
       "100     https://www.avito.ru/tomsk/kvartiry/1-k._kvart...   \n",
       "120     https://www.avito.ru/tomsk/kvartiry/2-k._kvart...   \n",
       "127     https://www.avito.ru/tomsk/kvartiry/2-k._kvart...   \n",
       "183     https://www.avito.ru/tomsk/kvartiry/1-k._kvart...   \n",
       "...                                                   ...   \n",
       "117402  https://www.avito.ru/novorossiysk/kvartiry/3-k...   \n",
       "117403  https://www.avito.ru/novorossiysk/kvartiry/3-k...   \n",
       "117404  https://www.avito.ru/novorossiysk/kvartiry/3-k...   \n",
       "117405  https://www.avito.ru/novorossiysk/kvartiry/3-k...   \n",
       "117406  https://www.avito.ru/novorossiysk/kvartiry/3-k...   \n",
       "\n",
       "                                Заголовок         Комнат  Площадь       Этаж  \\\n",
       "51         1-к. квартира, 34 м², 5/17 эт.  1-к. квартира    34 м²   5/17 эт.   \n",
       "100       1-к. квартира, 37 м², 17/17 эт.  1-к. квартира    37 м²  17/17 эт.   \n",
       "120       2-к. квартира, 41,5 м², 7/8 эт.  2-к. квартира  41,5 м²    7/8 эт.   \n",
       "127         2-к. квартира, 44 м², 2/5 эт.  2-к. квартира    44 м²    2/5 эт.   \n",
       "183       1-к. квартира, 40,2 м², 1/4 эт.  1-к. квартира  40,2 м²    1/4 эт.   \n",
       "...                                   ...            ...      ...        ...   \n",
       "117402   3-к. квартира, 74,6 м², 8/14 эт.  3-к. квартира  74,6 м²   8/14 эт.   \n",
       "117403  3-к. квартира, 74,6 м², 11/14 эт.  3-к. квартира  74,6 м²  11/14 эт.   \n",
       "117404  3-к. квартира, 74,6 м², 12/14 эт.  3-к. квартира  74,6 м²  12/14 эт.   \n",
       "117405  3-к. квартира, 74,6 м², 10/14 эт.  3-к. квартира  74,6 м²  10/14 эт.   \n",
       "117406   3-к. квартира, 74,6 м², 6/14 эт.  3-к. квартира  74,6 м²   6/14 эт.   \n",
       "\n",
       "           Цена  Цена за м2  \\\n",
       "51      4550000      133824   \n",
       "100     3700000      100000   \n",
       "120     5499000      132506   \n",
       "127     2100000       47727   \n",
       "183     4590000      114179   \n",
       "...         ...         ...   \n",
       "117402  7412000       99357   \n",
       "117403  6712200       89976   \n",
       "117404  6712200       89976   \n",
       "117405  6712200       89976   \n",
       "117406  7412000       99357   \n",
       "\n",
       "                                              Название жк Район  \\\n",
       "51                                                    NaN   NaN   \n",
       "100                                                   NaN   NaN   \n",
       "120                                                   NaN   NaN   \n",
       "127                                                   NaN   NaN   \n",
       "183                                                   NaN   NaN   \n",
       "...                                                   ...   ...   \n",
       "117402  ООО \"СПЕЦИАЛИЗИРОВАННЫЙ ЗАСТРОЙЩИК ООО \"ВИТА-С...   NaN   \n",
       "117403  ООО \"СПЕЦИАЛИЗИРОВАННЫЙ ЗАСТРОЙЩИК ООО \"ВИТА-С...   NaN   \n",
       "117404  ООО \"СПЕЦИАЛИЗИРОВАННЫЙ ЗАСТРОЙЩИК ООО \"ВИТА-С...   NaN   \n",
       "117405  ООО \"СПЕЦИАЛИЗИРОВАННЫЙ ЗАСТРОЙЩИК ООО \"ВИТА-С...   NaN   \n",
       "117406  ООО \"СПЕЦИАЛИЗИРОВАННЫЙ ЗАСТРОЙЩИК ООО \"ВИТА-С...   NaN   \n",
       "\n",
       "                                                    Улица  Дата публикации  \\\n",
       "51      д. Кисловка, микрорайон Северный, ул. Марины Ц...  51 минуту назад   \n",
       "100     пос. Зональная Станция, микрорайон Южные Ворот...   14 минут назад   \n",
       "120     д. Кисловка, микрорайон Левобережный, ул. Леви...      4 дня назад   \n",
       "127                        с. Рыбалово, Советская ул., 20     2 часа назад   \n",
       "183     д. Кисловка, микрорайон Северный, ул. Бориса П...      4 дня назад   \n",
       "...                                                   ...              ...   \n",
       "117402          с. Цемдолина, ул. Красина, д. 53, корп. 5   13 минут назад   \n",
       "117403          с. Цемдолина, ул. Красина, д. 53, корп. 5   13 минут назад   \n",
       "117404          с. Цемдолина, ул. Красина, д. 53, корп. 5   13 минут назад   \n",
       "117405          с. Цемдолина, ул. Красина, д. 53, корп. 5   13 минут назад   \n",
       "117406          с. Цемдолина, ул. Красина, д. 53, корп. 5   13 минут назад   \n",
       "\n",
       "        Тип продавца                                           Продавец  \\\n",
       "51         Агентство                                Перспектива24-Томск   \n",
       "100     Частное лицо                                                NaN   \n",
       "120     Частное лицо                                                NaN   \n",
       "127     Частное лицо                                                NaN   \n",
       "183     Частное лицо                                                NaN   \n",
       "...              ...                                                ...   \n",
       "117402    Застройщик  ООО \"СПЕЦИАЛИЗИРОВАННЫЙ ЗАСТРОЙЩИК ООО \"ВИТА-С...   \n",
       "117403    Застройщик  ООО \"СПЕЦИАЛИЗИРОВАННЫЙ ЗАСТРОЙЩИК ООО \"ВИТА-С...   \n",
       "117404    Застройщик  ООО \"СПЕЦИАЛИЗИРОВАННЫЙ ЗАСТРОЙЩИК ООО \"ВИТА-С...   \n",
       "117405    Застройщик  ООО \"СПЕЦИАЛИЗИРОВАННЫЙ ЗАСТРОЙЩИК ООО \"ВИТА-С...   \n",
       "117406    Застройщик  ООО \"СПЕЦИАЛИЗИРОВАННЫЙ ЗАСТРОЙЩИК ООО \"ВИТА-С...   \n",
       "\n",
       "                                       Ссылка на продавца  \\\n",
       "51      https://www.avito.ru/user/b1f3c879b3fd07d3d782...   \n",
       "100                                                   NaN   \n",
       "120                                                   NaN   \n",
       "127                                                   NaN   \n",
       "183                                                   NaN   \n",
       "...                                                   ...   \n",
       "117402  https://www.avito.ru/user/9c8028f7258286a96306...   \n",
       "117403  https://www.avito.ru/user/9c8028f7258286a96306...   \n",
       "117404  https://www.avito.ru/user/9c8028f7258286a96306...   \n",
       "117405  https://www.avito.ru/user/9c8028f7258286a96306...   \n",
       "117406  https://www.avito.ru/user/9c8028f7258286a96306...   \n",
       "\n",
       "       Завершённых объявлений          city  \n",
       "51                       2819         tomsk  \n",
       "100                       NaN         tomsk  \n",
       "120                       NaN         tomsk  \n",
       "127                       NaN         tomsk  \n",
       "183                       NaN         tomsk  \n",
       "...                       ...           ...  \n",
       "117402                    608  novorossiysk  \n",
       "117403                    608  novorossiysk  \n",
       "117404                    608  novorossiysk  \n",
       "117405                    608  novorossiysk  \n",
       "117406                    608  novorossiysk  \n",
       "\n",
       "[25958 rows x 16 columns]"
      ]
     },
     "execution_count": 114,
     "metadata": {},
     "output_type": "execute_result"
    }
   ],
   "source": [
    "pfile_uniq[pfile_uniq.iloc[:, 8].isna()]"
   ]
  },
  {
   "cell_type": "code",
   "execution_count": 115,
   "id": "af625db3",
   "metadata": {},
   "outputs": [],
   "source": [
    "pfile_uniq_krsn = pfile_uniq[pfile_uniq.city == 'krasnodar'].reset_index(drop=True)"
   ]
  },
  {
   "cell_type": "code",
   "execution_count": 116,
   "id": "228d66cd",
   "metadata": {},
   "outputs": [
    {
     "data": {
      "text/html": [
       "<div>\n",
       "<style scoped>\n",
       "    .dataframe tbody tr th:only-of-type {\n",
       "        vertical-align: middle;\n",
       "    }\n",
       "\n",
       "    .dataframe tbody tr th {\n",
       "        vertical-align: top;\n",
       "    }\n",
       "\n",
       "    .dataframe thead th {\n",
       "        text-align: right;\n",
       "    }\n",
       "</style>\n",
       "<table border=\"1\" class=\"dataframe\">\n",
       "  <thead>\n",
       "    <tr style=\"text-align: right;\">\n",
       "      <th></th>\n",
       "      <th>Ссылка</th>\n",
       "      <th>Заголовок</th>\n",
       "      <th>Комнат</th>\n",
       "      <th>Площадь</th>\n",
       "      <th>Этаж</th>\n",
       "      <th>Цена</th>\n",
       "      <th>Цена за м2</th>\n",
       "      <th>Название жк</th>\n",
       "      <th>Район</th>\n",
       "      <th>Улица</th>\n",
       "      <th>Дата публикации</th>\n",
       "      <th>Тип продавца</th>\n",
       "      <th>Продавец</th>\n",
       "      <th>Ссылка на продавца</th>\n",
       "      <th>Завершённых объявлений</th>\n",
       "      <th>city</th>\n",
       "    </tr>\n",
       "  </thead>\n",
       "  <tbody>\n",
       "    <tr>\n",
       "      <th>0</th>\n",
       "      <td>https://www.avito.ru/krasnodar/kvartiry/3-k._k...</td>\n",
       "      <td>3-к. квартира, 61,6 м², 10/10 эт.</td>\n",
       "      <td>3-к. квартира</td>\n",
       "      <td>61,6 м²</td>\n",
       "      <td>10/10 эт.</td>\n",
       "      <td>6500000</td>\n",
       "      <td>105519</td>\n",
       "      <td>NaN</td>\n",
       "      <td>р-н Прикубанский</td>\n",
       "      <td>Краснодар, улица Героев-Разведчиков, 48</td>\n",
       "      <td>19 часов назад</td>\n",
       "      <td>Частное лицо</td>\n",
       "      <td>NaN</td>\n",
       "      <td>NaN</td>\n",
       "      <td>NaN</td>\n",
       "      <td>krasnodar</td>\n",
       "    </tr>\n",
       "    <tr>\n",
       "      <th>1</th>\n",
       "      <td>https://www.avito.ru/krasnodar/kvartiry/3-k._k...</td>\n",
       "      <td>3-к. квартира, 65 м², 15/17 эт.</td>\n",
       "      <td>3-к. квартира</td>\n",
       "      <td>65 м²</td>\n",
       "      <td>15/17 эт.</td>\n",
       "      <td>6100000</td>\n",
       "      <td>93846</td>\n",
       "      <td>NaN</td>\n",
       "      <td>р-н Прикубанский</td>\n",
       "      <td>Прикубанский внутригородской округ, микрорайон...</td>\n",
       "      <td>2 дня назад</td>\n",
       "      <td>Частное лицо</td>\n",
       "      <td>NaN</td>\n",
       "      <td>NaN</td>\n",
       "      <td>NaN</td>\n",
       "      <td>krasnodar</td>\n",
       "    </tr>\n",
       "    <tr>\n",
       "      <th>2</th>\n",
       "      <td>https://www.avito.ru/krasnodar/kvartiry/3-k._k...</td>\n",
       "      <td>3-к. квартира, 89,3 м², 14/14 эт.</td>\n",
       "      <td>3-к. квартира</td>\n",
       "      <td>89,3 м²</td>\n",
       "      <td>14/14 эт.</td>\n",
       "      <td>8930000</td>\n",
       "      <td>100000</td>\n",
       "      <td>NaN</td>\n",
       "      <td>р-н Прикубанский</td>\n",
       "      <td>Прикубанский внутригородской округ, микрорайон...</td>\n",
       "      <td>19 часов назад</td>\n",
       "      <td>Частное лицо</td>\n",
       "      <td>NaN</td>\n",
       "      <td>NaN</td>\n",
       "      <td>NaN</td>\n",
       "      <td>krasnodar</td>\n",
       "    </tr>\n",
       "  </tbody>\n",
       "</table>\n",
       "</div>"
      ],
      "text/plain": [
       "                                              Ссылка  \\\n",
       "0  https://www.avito.ru/krasnodar/kvartiry/3-k._k...   \n",
       "1  https://www.avito.ru/krasnodar/kvartiry/3-k._k...   \n",
       "2  https://www.avito.ru/krasnodar/kvartiry/3-k._k...   \n",
       "\n",
       "                           Заголовок         Комнат  Площадь       Этаж  \\\n",
       "0  3-к. квартира, 61,6 м², 10/10 эт.  3-к. квартира  61,6 м²  10/10 эт.   \n",
       "1    3-к. квартира, 65 м², 15/17 эт.  3-к. квартира    65 м²  15/17 эт.   \n",
       "2  3-к. квартира, 89,3 м², 14/14 эт.  3-к. квартира  89,3 м²  14/14 эт.   \n",
       "\n",
       "      Цена  Цена за м2 Название жк             Район  \\\n",
       "0  6500000      105519         NaN  р-н Прикубанский   \n",
       "1  6100000       93846         NaN  р-н Прикубанский   \n",
       "2  8930000      100000         NaN  р-н Прикубанский   \n",
       "\n",
       "                                               Улица Дата публикации  \\\n",
       "0            Краснодар, улица Героев-Разведчиков, 48  19 часов назад   \n",
       "1  Прикубанский внутригородской округ, микрорайон...     2 дня назад   \n",
       "2  Прикубанский внутригородской округ, микрорайон...  19 часов назад   \n",
       "\n",
       "   Тип продавца Продавец Ссылка на продавца Завершённых объявлений       city  \n",
       "0  Частное лицо      NaN                NaN                    NaN  krasnodar  \n",
       "1  Частное лицо      NaN                NaN                    NaN  krasnodar  \n",
       "2  Частное лицо      NaN                NaN                    NaN  krasnodar  "
      ]
     },
     "execution_count": 116,
     "metadata": {},
     "output_type": "execute_result"
    }
   ],
   "source": [
    "pfile_uniq_krsn.head(3)"
   ]
  },
  {
   "cell_type": "code",
   "execution_count": 117,
   "id": "a9eb846c",
   "metadata": {},
   "outputs": [
    {
     "data": {
      "text/html": [
       "<div>\n",
       "<style scoped>\n",
       "    .dataframe tbody tr th:only-of-type {\n",
       "        vertical-align: middle;\n",
       "    }\n",
       "\n",
       "    .dataframe tbody tr th {\n",
       "        vertical-align: top;\n",
       "    }\n",
       "\n",
       "    .dataframe thead th {\n",
       "        text-align: right;\n",
       "    }\n",
       "</style>\n",
       "<table border=\"1\" class=\"dataframe\">\n",
       "  <thead>\n",
       "    <tr style=\"text-align: right;\">\n",
       "      <th></th>\n",
       "      <th>Ссылка</th>\n",
       "      <th>Заголовок</th>\n",
       "      <th>Комнат</th>\n",
       "      <th>Площадь</th>\n",
       "      <th>Этаж</th>\n",
       "      <th>Цена</th>\n",
       "      <th>Цена за м2</th>\n",
       "      <th>Название жк</th>\n",
       "      <th>Район</th>\n",
       "      <th>Улица</th>\n",
       "      <th>Дата публикации</th>\n",
       "      <th>Тип продавца</th>\n",
       "      <th>Продавец</th>\n",
       "      <th>Ссылка на продавца</th>\n",
       "      <th>Завершённых объявлений</th>\n",
       "      <th>city</th>\n",
       "    </tr>\n",
       "  </thead>\n",
       "  <tbody>\n",
       "    <tr>\n",
       "      <th>68</th>\n",
       "      <td>https://www.avito.ru/krasnodar/kvartiry/kvarti...</td>\n",
       "      <td>Квартира-студия, 27 м², 3/6 эт.</td>\n",
       "      <td>Квартира-студия</td>\n",
       "      <td>27 м²</td>\n",
       "      <td>3/6 эт.</td>\n",
       "      <td>2900000</td>\n",
       "      <td>107407</td>\n",
       "      <td>NaN</td>\n",
       "      <td>NaN</td>\n",
       "      <td>аул Новая Адыгея, Бжегокайская ул., 25/1к10</td>\n",
       "      <td>1 неделю назад</td>\n",
       "      <td>Частное лицо</td>\n",
       "      <td>NaN</td>\n",
       "      <td>NaN</td>\n",
       "      <td>NaN</td>\n",
       "      <td>krasnodar</td>\n",
       "    </tr>\n",
       "    <tr>\n",
       "      <th>123</th>\n",
       "      <td>https://www.avito.ru/krasnodar/kvartiry/3-k._k...</td>\n",
       "      <td>3-к. квартира, 61,2 м², 3/5 эт.</td>\n",
       "      <td>3-к. квартира</td>\n",
       "      <td>61,2 м²</td>\n",
       "      <td>3/5 эт.</td>\n",
       "      <td>5500000</td>\n",
       "      <td>89869</td>\n",
       "      <td>NaN</td>\n",
       "      <td>NaN</td>\n",
       "      <td>аул Новая Адыгея, Бжегокайская ул., 31/6к1</td>\n",
       "      <td>5 дней назад</td>\n",
       "      <td>Частное лицо</td>\n",
       "      <td>NaN</td>\n",
       "      <td>NaN</td>\n",
       "      <td>NaN</td>\n",
       "      <td>krasnodar</td>\n",
       "    </tr>\n",
       "    <tr>\n",
       "      <th>229</th>\n",
       "      <td>https://www.avito.ru/krasnodar/kvartiry/kvarti...</td>\n",
       "      <td>Квартира-студия, 30 м², 1/4 эт.</td>\n",
       "      <td>Квартира-студия</td>\n",
       "      <td>30 м²</td>\n",
       "      <td>1/4 эт.</td>\n",
       "      <td>3000000</td>\n",
       "      <td>100000</td>\n",
       "      <td>NaN</td>\n",
       "      <td>NaN</td>\n",
       "      <td>аул Новая Адыгея, Бжегокайская ул., 21/2к1</td>\n",
       "      <td>2 дня назад</td>\n",
       "      <td>Частное лицо</td>\n",
       "      <td>NaN</td>\n",
       "      <td>NaN</td>\n",
       "      <td>NaN</td>\n",
       "      <td>krasnodar</td>\n",
       "    </tr>\n",
       "    <tr>\n",
       "      <th>245</th>\n",
       "      <td>https://www.avito.ru/krasnodar/kvartiry/kvarti...</td>\n",
       "      <td>Квартира-студия, 23 м², 2/4 эт.</td>\n",
       "      <td>Квартира-студия</td>\n",
       "      <td>23 м²</td>\n",
       "      <td>2/4 эт.</td>\n",
       "      <td>2900000</td>\n",
       "      <td>126087</td>\n",
       "      <td>NaN</td>\n",
       "      <td>NaN</td>\n",
       "      <td>аул Новая Адыгея, Бжегокайская ул., 21/2к2А</td>\n",
       "      <td>22 часа назад</td>\n",
       "      <td>Частное лицо</td>\n",
       "      <td>NaN</td>\n",
       "      <td>NaN</td>\n",
       "      <td>NaN</td>\n",
       "      <td>krasnodar</td>\n",
       "    </tr>\n",
       "    <tr>\n",
       "      <th>270</th>\n",
       "      <td>https://www.avito.ru/krasnodar/kvartiry/kvarti...</td>\n",
       "      <td>Квартира-студия, 26 м², 5/6 эт.</td>\n",
       "      <td>Квартира-студия</td>\n",
       "      <td>26 м²</td>\n",
       "      <td>5/6 эт.</td>\n",
       "      <td>2550000</td>\n",
       "      <td>98077</td>\n",
       "      <td>NaN</td>\n",
       "      <td>NaN</td>\n",
       "      <td>аул Новая Адыгея, ул. Бжегокайская, д. 25/1, к...</td>\n",
       "      <td>22 часа назад</td>\n",
       "      <td>Частное лицо</td>\n",
       "      <td>NaN</td>\n",
       "      <td>NaN</td>\n",
       "      <td>NaN</td>\n",
       "      <td>krasnodar</td>\n",
       "    </tr>\n",
       "    <tr>\n",
       "      <th>...</th>\n",
       "      <td>...</td>\n",
       "      <td>...</td>\n",
       "      <td>...</td>\n",
       "      <td>...</td>\n",
       "      <td>...</td>\n",
       "      <td>...</td>\n",
       "      <td>...</td>\n",
       "      <td>...</td>\n",
       "      <td>...</td>\n",
       "      <td>...</td>\n",
       "      <td>...</td>\n",
       "      <td>...</td>\n",
       "      <td>...</td>\n",
       "      <td>...</td>\n",
       "      <td>...</td>\n",
       "      <td>...</td>\n",
       "    </tr>\n",
       "    <tr>\n",
       "      <th>77551</th>\n",
       "      <td>https://www.avito.ru/krasnodar/kvartiry/3-k._k...</td>\n",
       "      <td>3-к. квартира, 91,8 м², 6/21 эт.</td>\n",
       "      <td>3-к. квартира</td>\n",
       "      <td>91,8 м²</td>\n",
       "      <td>6/21 эт.</td>\n",
       "      <td>13133120</td>\n",
       "      <td>143062</td>\n",
       "      <td>AVA Group Инвестиционно-строительный холдинг</td>\n",
       "      <td>NaN</td>\n",
       "      <td>ул. Уральская, д. 100/6</td>\n",
       "      <td>2 недели назад</td>\n",
       "      <td>Застройщик</td>\n",
       "      <td>AVA Group Инвестиционно-строительный холдинг</td>\n",
       "      <td>https://www.avito.ru/user/d832b08fa25c8604e7e8...</td>\n",
       "      <td>NaN</td>\n",
       "      <td>krasnodar</td>\n",
       "    </tr>\n",
       "    <tr>\n",
       "      <th>77552</th>\n",
       "      <td>https://www.avito.ru/krasnodar/kvartiry/3-k._k...</td>\n",
       "      <td>3-к. квартира, 91,8 м², 3/21 эт.</td>\n",
       "      <td>3-к. квартира</td>\n",
       "      <td>91,8 м²</td>\n",
       "      <td>3/21 эт.</td>\n",
       "      <td>13124540</td>\n",
       "      <td>142969</td>\n",
       "      <td>AVA Group Инвестиционно-строительный холдинг</td>\n",
       "      <td>NaN</td>\n",
       "      <td>ул. Уральская, д. 100/6</td>\n",
       "      <td>23 часа назад</td>\n",
       "      <td>Застройщик</td>\n",
       "      <td>AVA Group Инвестиционно-строительный холдинг</td>\n",
       "      <td>https://www.avito.ru/user/d832b08fa25c8604e7e8...</td>\n",
       "      <td>NaN</td>\n",
       "      <td>krasnodar</td>\n",
       "    </tr>\n",
       "    <tr>\n",
       "      <th>77553</th>\n",
       "      <td>https://www.avito.ru/krasnodar/kvartiry/3-k._k...</td>\n",
       "      <td>3-к. квартира, 91,8 м², 4/21 эт.</td>\n",
       "      <td>3-к. квартира</td>\n",
       "      <td>91,8 м²</td>\n",
       "      <td>4/21 эт.</td>\n",
       "      <td>13124540</td>\n",
       "      <td>142969</td>\n",
       "      <td>AVA Group Инвестиционно-строительный холдинг</td>\n",
       "      <td>NaN</td>\n",
       "      <td>ул. Уральская, д. 100/6</td>\n",
       "      <td>1 неделю назад</td>\n",
       "      <td>Застройщик</td>\n",
       "      <td>AVA Group Инвестиционно-строительный холдинг</td>\n",
       "      <td>https://www.avito.ru/user/d832b08fa25c8604e7e8...</td>\n",
       "      <td>NaN</td>\n",
       "      <td>krasnodar</td>\n",
       "    </tr>\n",
       "    <tr>\n",
       "      <th>77554</th>\n",
       "      <td>https://www.avito.ru/krasnodar/kvartiry/3-k._k...</td>\n",
       "      <td>3-к. квартира, 91,8 м², 6/21 эт.</td>\n",
       "      <td>3-к. квартира</td>\n",
       "      <td>91,8 м²</td>\n",
       "      <td>6/21 эт.</td>\n",
       "      <td>13124540</td>\n",
       "      <td>142969</td>\n",
       "      <td>AVA Group Инвестиционно-строительный холдинг</td>\n",
       "      <td>NaN</td>\n",
       "      <td>ул. Уральская, д. 100/6</td>\n",
       "      <td>1 неделю назад</td>\n",
       "      <td>Застройщик</td>\n",
       "      <td>AVA Group Инвестиционно-строительный холдинг</td>\n",
       "      <td>https://www.avito.ru/user/d832b08fa25c8604e7e8...</td>\n",
       "      <td>NaN</td>\n",
       "      <td>krasnodar</td>\n",
       "    </tr>\n",
       "    <tr>\n",
       "      <th>77555</th>\n",
       "      <td>https://www.avito.ru/krasnodar/kvartiry/3-k._k...</td>\n",
       "      <td>3-к. квартира, 91,8 м², 5/21 эт.</td>\n",
       "      <td>3-к. квартира</td>\n",
       "      <td>91,8 м²</td>\n",
       "      <td>5/21 эт.</td>\n",
       "      <td>13124540</td>\n",
       "      <td>142969</td>\n",
       "      <td>AVA Group Инвестиционно-строительный холдинг</td>\n",
       "      <td>NaN</td>\n",
       "      <td>ул. Уральская, д. 100/6</td>\n",
       "      <td>2 недели назад</td>\n",
       "      <td>Застройщик</td>\n",
       "      <td>AVA Group Инвестиционно-строительный холдинг</td>\n",
       "      <td>https://www.avito.ru/user/d832b08fa25c8604e7e8...</td>\n",
       "      <td>NaN</td>\n",
       "      <td>krasnodar</td>\n",
       "    </tr>\n",
       "  </tbody>\n",
       "</table>\n",
       "<p>896 rows × 16 columns</p>\n",
       "</div>"
      ],
      "text/plain": [
       "                                                  Ссылка  \\\n",
       "68     https://www.avito.ru/krasnodar/kvartiry/kvarti...   \n",
       "123    https://www.avito.ru/krasnodar/kvartiry/3-k._k...   \n",
       "229    https://www.avito.ru/krasnodar/kvartiry/kvarti...   \n",
       "245    https://www.avito.ru/krasnodar/kvartiry/kvarti...   \n",
       "270    https://www.avito.ru/krasnodar/kvartiry/kvarti...   \n",
       "...                                                  ...   \n",
       "77551  https://www.avito.ru/krasnodar/kvartiry/3-k._k...   \n",
       "77552  https://www.avito.ru/krasnodar/kvartiry/3-k._k...   \n",
       "77553  https://www.avito.ru/krasnodar/kvartiry/3-k._k...   \n",
       "77554  https://www.avito.ru/krasnodar/kvartiry/3-k._k...   \n",
       "77555  https://www.avito.ru/krasnodar/kvartiry/3-k._k...   \n",
       "\n",
       "                              Заголовок           Комнат  Площадь      Этаж  \\\n",
       "68      Квартира-студия, 27 м², 3/6 эт.  Квартира-студия    27 м²   3/6 эт.   \n",
       "123     3-к. квартира, 61,2 м², 3/5 эт.    3-к. квартира  61,2 м²   3/5 эт.   \n",
       "229     Квартира-студия, 30 м², 1/4 эт.  Квартира-студия    30 м²   1/4 эт.   \n",
       "245     Квартира-студия, 23 м², 2/4 эт.  Квартира-студия    23 м²   2/4 эт.   \n",
       "270     Квартира-студия, 26 м², 5/6 эт.  Квартира-студия    26 м²   5/6 эт.   \n",
       "...                                 ...              ...      ...       ...   \n",
       "77551  3-к. квартира, 91,8 м², 6/21 эт.    3-к. квартира  91,8 м²  6/21 эт.   \n",
       "77552  3-к. квартира, 91,8 м², 3/21 эт.    3-к. квартира  91,8 м²  3/21 эт.   \n",
       "77553  3-к. квартира, 91,8 м², 4/21 эт.    3-к. квартира  91,8 м²  4/21 эт.   \n",
       "77554  3-к. квартира, 91,8 м², 6/21 эт.    3-к. квартира  91,8 м²  6/21 эт.   \n",
       "77555  3-к. квартира, 91,8 м², 5/21 эт.    3-к. квартира  91,8 м²  5/21 эт.   \n",
       "\n",
       "           Цена  Цена за м2                                   Название жк  \\\n",
       "68      2900000      107407                                           NaN   \n",
       "123     5500000       89869                                           NaN   \n",
       "229     3000000      100000                                           NaN   \n",
       "245     2900000      126087                                           NaN   \n",
       "270     2550000       98077                                           NaN   \n",
       "...         ...         ...                                           ...   \n",
       "77551  13133120      143062  AVA Group Инвестиционно-строительный холдинг   \n",
       "77552  13124540      142969  AVA Group Инвестиционно-строительный холдинг   \n",
       "77553  13124540      142969  AVA Group Инвестиционно-строительный холдинг   \n",
       "77554  13124540      142969  AVA Group Инвестиционно-строительный холдинг   \n",
       "77555  13124540      142969  AVA Group Инвестиционно-строительный холдинг   \n",
       "\n",
       "      Район                                              Улица  \\\n",
       "68      NaN        аул Новая Адыгея, Бжегокайская ул., 25/1к10   \n",
       "123     NaN         аул Новая Адыгея, Бжегокайская ул., 31/6к1   \n",
       "229     NaN         аул Новая Адыгея, Бжегокайская ул., 21/2к1   \n",
       "245     NaN        аул Новая Адыгея, Бжегокайская ул., 21/2к2А   \n",
       "270     NaN  аул Новая Адыгея, ул. Бжегокайская, д. 25/1, к...   \n",
       "...     ...                                                ...   \n",
       "77551   NaN                            ул. Уральская, д. 100/6   \n",
       "77552   NaN                            ул. Уральская, д. 100/6   \n",
       "77553   NaN                            ул. Уральская, д. 100/6   \n",
       "77554   NaN                            ул. Уральская, д. 100/6   \n",
       "77555   NaN                            ул. Уральская, д. 100/6   \n",
       "\n",
       "      Дата публикации  Тип продавца  \\\n",
       "68     1 неделю назад  Частное лицо   \n",
       "123      5 дней назад  Частное лицо   \n",
       "229       2 дня назад  Частное лицо   \n",
       "245     22 часа назад  Частное лицо   \n",
       "270     22 часа назад  Частное лицо   \n",
       "...               ...           ...   \n",
       "77551  2 недели назад    Застройщик   \n",
       "77552   23 часа назад    Застройщик   \n",
       "77553  1 неделю назад    Застройщик   \n",
       "77554  1 неделю назад    Застройщик   \n",
       "77555  2 недели назад    Застройщик   \n",
       "\n",
       "                                           Продавец  \\\n",
       "68                                              NaN   \n",
       "123                                             NaN   \n",
       "229                                             NaN   \n",
       "245                                             NaN   \n",
       "270                                             NaN   \n",
       "...                                             ...   \n",
       "77551  AVA Group Инвестиционно-строительный холдинг   \n",
       "77552  AVA Group Инвестиционно-строительный холдинг   \n",
       "77553  AVA Group Инвестиционно-строительный холдинг   \n",
       "77554  AVA Group Инвестиционно-строительный холдинг   \n",
       "77555  AVA Group Инвестиционно-строительный холдинг   \n",
       "\n",
       "                                      Ссылка на продавца  \\\n",
       "68                                                   NaN   \n",
       "123                                                  NaN   \n",
       "229                                                  NaN   \n",
       "245                                                  NaN   \n",
       "270                                                  NaN   \n",
       "...                                                  ...   \n",
       "77551  https://www.avito.ru/user/d832b08fa25c8604e7e8...   \n",
       "77552  https://www.avito.ru/user/d832b08fa25c8604e7e8...   \n",
       "77553  https://www.avito.ru/user/d832b08fa25c8604e7e8...   \n",
       "77554  https://www.avito.ru/user/d832b08fa25c8604e7e8...   \n",
       "77555  https://www.avito.ru/user/d832b08fa25c8604e7e8...   \n",
       "\n",
       "      Завершённых объявлений       city  \n",
       "68                       NaN  krasnodar  \n",
       "123                      NaN  krasnodar  \n",
       "229                      NaN  krasnodar  \n",
       "245                      NaN  krasnodar  \n",
       "270                      NaN  krasnodar  \n",
       "...                      ...        ...  \n",
       "77551                    NaN  krasnodar  \n",
       "77552                    NaN  krasnodar  \n",
       "77553                    NaN  krasnodar  \n",
       "77554                    NaN  krasnodar  \n",
       "77555                    NaN  krasnodar  \n",
       "\n",
       "[896 rows x 16 columns]"
      ]
     },
     "execution_count": 117,
     "metadata": {},
     "output_type": "execute_result"
    }
   ],
   "source": [
    "pfile_uniq_krsn[pfile_uniq_krsn.iloc[:, 8].isna()]"
   ]
  },
  {
   "cell_type": "code",
   "execution_count": 101,
   "id": "f4f91fab",
   "metadata": {},
   "outputs": [
    {
     "data": {
      "text/html": [
       "<div>\n",
       "<style scoped>\n",
       "    .dataframe tbody tr th:only-of-type {\n",
       "        vertical-align: middle;\n",
       "    }\n",
       "\n",
       "    .dataframe tbody tr th {\n",
       "        vertical-align: top;\n",
       "    }\n",
       "\n",
       "    .dataframe thead th {\n",
       "        text-align: right;\n",
       "    }\n",
       "</style>\n",
       "<table border=\"1\" class=\"dataframe\">\n",
       "  <thead>\n",
       "    <tr style=\"text-align: right;\">\n",
       "      <th></th>\n",
       "      <th>Ссылка</th>\n",
       "      <th>Заголовок</th>\n",
       "      <th>Комнат</th>\n",
       "      <th>Площадь</th>\n",
       "      <th>Этаж</th>\n",
       "      <th>Цена</th>\n",
       "      <th>Цена за м2</th>\n",
       "      <th>Название жк</th>\n",
       "      <th>Район</th>\n",
       "      <th>Улица</th>\n",
       "      <th>Дата публикации</th>\n",
       "      <th>Тип продавца</th>\n",
       "      <th>Продавец</th>\n",
       "      <th>Ссылка на продавца</th>\n",
       "      <th>Завершённых объявлений</th>\n",
       "      <th>city</th>\n",
       "    </tr>\n",
       "  </thead>\n",
       "  <tbody>\n",
       "    <tr>\n",
       "      <th>49</th>\n",
       "      <td>https://www.avito.ru/krasnodar/kvartiry/kvarti...</td>\n",
       "      <td>Квартира-студия, 27 м², 3/6 эт.</td>\n",
       "      <td>Квартира-студия</td>\n",
       "      <td>27 м²</td>\n",
       "      <td>3/6 эт.</td>\n",
       "      <td>2900000</td>\n",
       "      <td>107407</td>\n",
       "      <td>NaN</td>\n",
       "      <td>NaN</td>\n",
       "      <td>аул Новая Адыгея, Бжегокайская ул., 25/1к10</td>\n",
       "      <td>1 неделю назад</td>\n",
       "      <td>Частное лицо</td>\n",
       "      <td>NaN</td>\n",
       "      <td>NaN</td>\n",
       "      <td>NaN</td>\n",
       "      <td>krasnodar</td>\n",
       "    </tr>\n",
       "    <tr>\n",
       "      <th>142</th>\n",
       "      <td>https://www.avito.ru/krasnodar/kvartiry/3-k._k...</td>\n",
       "      <td>3-к. квартира, 61,2 м², 3/5 эт.</td>\n",
       "      <td>3-к. квартира</td>\n",
       "      <td>61,2 м²</td>\n",
       "      <td>3/5 эт.</td>\n",
       "      <td>5500000</td>\n",
       "      <td>89869</td>\n",
       "      <td>NaN</td>\n",
       "      <td>NaN</td>\n",
       "      <td>аул Новая Адыгея, Бжегокайская ул., 31/6к1</td>\n",
       "      <td>3 дня назад</td>\n",
       "      <td>Частное лицо</td>\n",
       "      <td>NaN</td>\n",
       "      <td>NaN</td>\n",
       "      <td>NaN</td>\n",
       "      <td>krasnodar</td>\n",
       "    </tr>\n",
       "    <tr>\n",
       "      <th>301</th>\n",
       "      <td>https://www.avito.ru/krasnodar/kvartiry/kvarti...</td>\n",
       "      <td>Квартира-студия, 25 м², 4/4 эт.</td>\n",
       "      <td>Квартира-студия</td>\n",
       "      <td>25 м²</td>\n",
       "      <td>4/4 эт.</td>\n",
       "      <td>2950000</td>\n",
       "      <td>118000</td>\n",
       "      <td>NaN</td>\n",
       "      <td>NaN</td>\n",
       "      <td>аул Новая Адыгея, Бжегокайская ул., 21/2к2Б</td>\n",
       "      <td>1 день назад</td>\n",
       "      <td>Агентство</td>\n",
       "      <td>Мария</td>\n",
       "      <td>https://www.avito.ru/user/e20fd4fb08f2ea3fbc6a...</td>\n",
       "      <td>NaN</td>\n",
       "      <td>krasnodar</td>\n",
       "    </tr>\n",
       "    <tr>\n",
       "      <th>328</th>\n",
       "      <td>https://www.avito.ru/krasnodar/kvartiry/kvarti...</td>\n",
       "      <td>Квартира-студия, 30 м², 1/4 эт.</td>\n",
       "      <td>Квартира-студия</td>\n",
       "      <td>30 м²</td>\n",
       "      <td>1/4 эт.</td>\n",
       "      <td>3000000</td>\n",
       "      <td>100000</td>\n",
       "      <td>NaN</td>\n",
       "      <td>NaN</td>\n",
       "      <td>аул Новая Адыгея, Бжегокайская ул., 21/2к1</td>\n",
       "      <td>12 часов назад</td>\n",
       "      <td>Частное лицо</td>\n",
       "      <td>NaN</td>\n",
       "      <td>NaN</td>\n",
       "      <td>NaN</td>\n",
       "      <td>krasnodar</td>\n",
       "    </tr>\n",
       "    <tr>\n",
       "      <th>362</th>\n",
       "      <td>https://www.avito.ru/krasnodar/kvartiry/3-k._k...</td>\n",
       "      <td>3-к. квартира, 64,9 м², 2/3 эт.</td>\n",
       "      <td>3-к. квартира</td>\n",
       "      <td>64,9 м²</td>\n",
       "      <td>2/3 эт.</td>\n",
       "      <td>4500000</td>\n",
       "      <td>69337</td>\n",
       "      <td>NaN</td>\n",
       "      <td>NaN</td>\n",
       "      <td>аул Новая Адыгея, Западная ул., 7</td>\n",
       "      <td>3 дня назад</td>\n",
       "      <td>Частное лицо</td>\n",
       "      <td>NaN</td>\n",
       "      <td>NaN</td>\n",
       "      <td>NaN</td>\n",
       "      <td>krasnodar</td>\n",
       "    </tr>\n",
       "    <tr>\n",
       "      <th>...</th>\n",
       "      <td>...</td>\n",
       "      <td>...</td>\n",
       "      <td>...</td>\n",
       "      <td>...</td>\n",
       "      <td>...</td>\n",
       "      <td>...</td>\n",
       "      <td>...</td>\n",
       "      <td>...</td>\n",
       "      <td>...</td>\n",
       "      <td>...</td>\n",
       "      <td>...</td>\n",
       "      <td>...</td>\n",
       "      <td>...</td>\n",
       "      <td>...</td>\n",
       "      <td>...</td>\n",
       "      <td>...</td>\n",
       "    </tr>\n",
       "    <tr>\n",
       "      <th>73679</th>\n",
       "      <td>https://www.avito.ru/krasnodar/kvartiry/2-k._k...</td>\n",
       "      <td>2-к. квартира, 49,1 м², 2/18 эт.</td>\n",
       "      <td>2-к. квартира</td>\n",
       "      <td>49,1 м²</td>\n",
       "      <td>2/18 эт.</td>\n",
       "      <td>10213200</td>\n",
       "      <td>208008</td>\n",
       "      <td>ГК ТОЧНО</td>\n",
       "      <td>NaN</td>\n",
       "      <td>ул. им. Лизы Чайкиной/Сормовская/Старокубанска...</td>\n",
       "      <td>1 неделю назад</td>\n",
       "      <td>Застройщик</td>\n",
       "      <td>ГК ТОЧНО</td>\n",
       "      <td>https://www.avito.ru/user/8649074e3be0296abbef...</td>\n",
       "      <td>6666</td>\n",
       "      <td>krasnodar</td>\n",
       "    </tr>\n",
       "    <tr>\n",
       "      <th>73680</th>\n",
       "      <td>https://www.avito.ru/krasnodar/kvartiry/2-k._k...</td>\n",
       "      <td>2-к. квартира, 49,1 м², 2/18 эт.</td>\n",
       "      <td>2-к. квартира</td>\n",
       "      <td>49,1 м²</td>\n",
       "      <td>2/18 эт.</td>\n",
       "      <td>10213100</td>\n",
       "      <td>208006</td>\n",
       "      <td>ГК ТОЧНО</td>\n",
       "      <td>NaN</td>\n",
       "      <td>ул. им. Лизы Чайкиной/Сормовская/Старокубанска...</td>\n",
       "      <td>1 неделю назад</td>\n",
       "      <td>Застройщик</td>\n",
       "      <td>ГК ТОЧНО</td>\n",
       "      <td>https://www.avito.ru/user/8649074e3be0296abbef...</td>\n",
       "      <td>6666</td>\n",
       "      <td>krasnodar</td>\n",
       "    </tr>\n",
       "    <tr>\n",
       "      <th>73681</th>\n",
       "      <td>https://www.avito.ru/krasnodar/kvartiry/2-k._k...</td>\n",
       "      <td>2-к. квартира, 49,1 м², 2/18 эт.</td>\n",
       "      <td>2-к. квартира</td>\n",
       "      <td>49,1 м²</td>\n",
       "      <td>2/18 эт.</td>\n",
       "      <td>10213000</td>\n",
       "      <td>208004</td>\n",
       "      <td>ГК ТОЧНО</td>\n",
       "      <td>NaN</td>\n",
       "      <td>ул. им. Лизы Чайкиной/Сормовская/Старокубанска...</td>\n",
       "      <td>1 неделю назад</td>\n",
       "      <td>Застройщик</td>\n",
       "      <td>ГК ТОЧНО</td>\n",
       "      <td>https://www.avito.ru/user/8649074e3be0296abbef...</td>\n",
       "      <td>6666</td>\n",
       "      <td>krasnodar</td>\n",
       "    </tr>\n",
       "    <tr>\n",
       "      <th>73682</th>\n",
       "      <td>https://www.avito.ru/krasnodar/kvartiry/2-k._k...</td>\n",
       "      <td>2-к. квартира, 49,1 м², 2/18 эт.</td>\n",
       "      <td>2-к. квартира</td>\n",
       "      <td>49,1 м²</td>\n",
       "      <td>2/18 эт.</td>\n",
       "      <td>10212900</td>\n",
       "      <td>208002</td>\n",
       "      <td>ГК ТОЧНО</td>\n",
       "      <td>NaN</td>\n",
       "      <td>ул. им. Лизы Чайкиной/Сормовская/Старокубанска...</td>\n",
       "      <td>1 неделю назад</td>\n",
       "      <td>Застройщик</td>\n",
       "      <td>ГК ТОЧНО</td>\n",
       "      <td>https://www.avito.ru/user/8649074e3be0296abbef...</td>\n",
       "      <td>6666</td>\n",
       "      <td>krasnodar</td>\n",
       "    </tr>\n",
       "    <tr>\n",
       "      <th>73683</th>\n",
       "      <td>https://www.avito.ru/krasnodar/kvartiry/2-k._k...</td>\n",
       "      <td>2-к. квартира, 49,1 м², 2/18 эт.</td>\n",
       "      <td>2-к. квартира</td>\n",
       "      <td>49,1 м²</td>\n",
       "      <td>2/18 эт.</td>\n",
       "      <td>10212800</td>\n",
       "      <td>208000</td>\n",
       "      <td>ГК ТОЧНО</td>\n",
       "      <td>NaN</td>\n",
       "      <td>ул. им. Лизы Чайкиной/Сормовская/Старокубанска...</td>\n",
       "      <td>1 неделю назад</td>\n",
       "      <td>Застройщик</td>\n",
       "      <td>ГК ТОЧНО</td>\n",
       "      <td>https://www.avito.ru/user/8649074e3be0296abbef...</td>\n",
       "      <td>6666</td>\n",
       "      <td>krasnodar</td>\n",
       "    </tr>\n",
       "  </tbody>\n",
       "</table>\n",
       "<p>989 rows × 16 columns</p>\n",
       "</div>"
      ],
      "text/plain": [
       "                                                  Ссылка  \\\n",
       "49     https://www.avito.ru/krasnodar/kvartiry/kvarti...   \n",
       "142    https://www.avito.ru/krasnodar/kvartiry/3-k._k...   \n",
       "301    https://www.avito.ru/krasnodar/kvartiry/kvarti...   \n",
       "328    https://www.avito.ru/krasnodar/kvartiry/kvarti...   \n",
       "362    https://www.avito.ru/krasnodar/kvartiry/3-k._k...   \n",
       "...                                                  ...   \n",
       "73679  https://www.avito.ru/krasnodar/kvartiry/2-k._k...   \n",
       "73680  https://www.avito.ru/krasnodar/kvartiry/2-k._k...   \n",
       "73681  https://www.avito.ru/krasnodar/kvartiry/2-k._k...   \n",
       "73682  https://www.avito.ru/krasnodar/kvartiry/2-k._k...   \n",
       "73683  https://www.avito.ru/krasnodar/kvartiry/2-k._k...   \n",
       "\n",
       "                              Заголовок           Комнат  Площадь      Этаж  \\\n",
       "49      Квартира-студия, 27 м², 3/6 эт.  Квартира-студия    27 м²   3/6 эт.   \n",
       "142     3-к. квартира, 61,2 м², 3/5 эт.    3-к. квартира  61,2 м²   3/5 эт.   \n",
       "301     Квартира-студия, 25 м², 4/4 эт.  Квартира-студия    25 м²   4/4 эт.   \n",
       "328     Квартира-студия, 30 м², 1/4 эт.  Квартира-студия    30 м²   1/4 эт.   \n",
       "362     3-к. квартира, 64,9 м², 2/3 эт.    3-к. квартира  64,9 м²   2/3 эт.   \n",
       "...                                 ...              ...      ...       ...   \n",
       "73679  2-к. квартира, 49,1 м², 2/18 эт.    2-к. квартира  49,1 м²  2/18 эт.   \n",
       "73680  2-к. квартира, 49,1 м², 2/18 эт.    2-к. квартира  49,1 м²  2/18 эт.   \n",
       "73681  2-к. квартира, 49,1 м², 2/18 эт.    2-к. квартира  49,1 м²  2/18 эт.   \n",
       "73682  2-к. квартира, 49,1 м², 2/18 эт.    2-к. квартира  49,1 м²  2/18 эт.   \n",
       "73683  2-к. квартира, 49,1 м², 2/18 эт.    2-к. квартира  49,1 м²  2/18 эт.   \n",
       "\n",
       "           Цена  Цена за м2 Название жк Район  \\\n",
       "49      2900000      107407         NaN   NaN   \n",
       "142     5500000       89869         NaN   NaN   \n",
       "301     2950000      118000         NaN   NaN   \n",
       "328     3000000      100000         NaN   NaN   \n",
       "362     4500000       69337         NaN   NaN   \n",
       "...         ...         ...         ...   ...   \n",
       "73679  10213200      208008    ГК ТОЧНО   NaN   \n",
       "73680  10213100      208006    ГК ТОЧНО   NaN   \n",
       "73681  10213000      208004    ГК ТОЧНО   NaN   \n",
       "73682  10212900      208002    ГК ТОЧНО   NaN   \n",
       "73683  10212800      208000    ГК ТОЧНО   NaN   \n",
       "\n",
       "                                                   Улица Дата публикации  \\\n",
       "49           аул Новая Адыгея, Бжегокайская ул., 25/1к10  1 неделю назад   \n",
       "142           аул Новая Адыгея, Бжегокайская ул., 31/6к1     3 дня назад   \n",
       "301          аул Новая Адыгея, Бжегокайская ул., 21/2к2Б    1 день назад   \n",
       "328           аул Новая Адыгея, Бжегокайская ул., 21/2к1  12 часов назад   \n",
       "362                    аул Новая Адыгея, Западная ул., 7     3 дня назад   \n",
       "...                                                  ...             ...   \n",
       "73679  ул. им. Лизы Чайкиной/Сормовская/Старокубанска...  1 неделю назад   \n",
       "73680  ул. им. Лизы Чайкиной/Сормовская/Старокубанска...  1 неделю назад   \n",
       "73681  ул. им. Лизы Чайкиной/Сормовская/Старокубанска...  1 неделю назад   \n",
       "73682  ул. им. Лизы Чайкиной/Сормовская/Старокубанска...  1 неделю назад   \n",
       "73683  ул. им. Лизы Чайкиной/Сормовская/Старокубанска...  1 неделю назад   \n",
       "\n",
       "       Тип продавца  Продавец  \\\n",
       "49     Частное лицо       NaN   \n",
       "142    Частное лицо       NaN   \n",
       "301       Агентство     Мария   \n",
       "328    Частное лицо       NaN   \n",
       "362    Частное лицо       NaN   \n",
       "...             ...       ...   \n",
       "73679    Застройщик  ГК ТОЧНО   \n",
       "73680    Застройщик  ГК ТОЧНО   \n",
       "73681    Застройщик  ГК ТОЧНО   \n",
       "73682    Застройщик  ГК ТОЧНО   \n",
       "73683    Застройщик  ГК ТОЧНО   \n",
       "\n",
       "                                      Ссылка на продавца  \\\n",
       "49                                                   NaN   \n",
       "142                                                  NaN   \n",
       "301    https://www.avito.ru/user/e20fd4fb08f2ea3fbc6a...   \n",
       "328                                                  NaN   \n",
       "362                                                  NaN   \n",
       "...                                                  ...   \n",
       "73679  https://www.avito.ru/user/8649074e3be0296abbef...   \n",
       "73680  https://www.avito.ru/user/8649074e3be0296abbef...   \n",
       "73681  https://www.avito.ru/user/8649074e3be0296abbef...   \n",
       "73682  https://www.avito.ru/user/8649074e3be0296abbef...   \n",
       "73683  https://www.avito.ru/user/8649074e3be0296abbef...   \n",
       "\n",
       "      Завершённых объявлений       city  \n",
       "49                       NaN  krasnodar  \n",
       "142                      NaN  krasnodar  \n",
       "301                      NaN  krasnodar  \n",
       "328                      NaN  krasnodar  \n",
       "362                      NaN  krasnodar  \n",
       "...                      ...        ...  \n",
       "73679                   6666  krasnodar  \n",
       "73680                   6666  krasnodar  \n",
       "73681                   6666  krasnodar  \n",
       "73682                   6666  krasnodar  \n",
       "73683                   6666  krasnodar  \n",
       "\n",
       "[989 rows x 16 columns]"
      ]
     },
     "execution_count": 101,
     "metadata": {},
     "output_type": "execute_result"
    }
   ],
   "source": [
    "сfile_uniq[сfile_uniq.iloc[:,8].apply(lambda x: type(x) != str)]"
   ]
  },
  {
   "cell_type": "code",
   "execution_count": 92,
   "id": "8aeb22d9",
   "metadata": {},
   "outputs": [
    {
     "name": "stderr",
     "output_type": "stream",
     "text": [
      "C:\\Users\\pnknv\\AppData\\Local\\Temp\\ipykernel_1140\\1854916996.py:1: UserWarning: Boolean Series key will be reindexed to match DataFrame index.\n",
      "  сfile_uniq[сfile_uniq[:10].iloc[:,8].apply(lambda x: type(x) != str)]\n"
     ]
    },
    {
     "ename": "IndexingError",
     "evalue": "Unalignable boolean Series provided as indexer (index of the boolean Series and of the indexed object do not match).",
     "output_type": "error",
     "traceback": [
      "\u001b[1;31m---------------------------------------------------------------------------\u001b[0m",
      "\u001b[1;31mIndexingError\u001b[0m                             Traceback (most recent call last)",
      "Cell \u001b[1;32mIn [92], line 1\u001b[0m\n\u001b[1;32m----> 1\u001b[0m \u001b[43mсfile_uniq\u001b[49m\u001b[43m[\u001b[49m\u001b[43mсfile_uniq\u001b[49m\u001b[43m[\u001b[49m\u001b[43m:\u001b[49m\u001b[38;5;241;43m10\u001b[39;49m\u001b[43m]\u001b[49m\u001b[38;5;241;43m.\u001b[39;49m\u001b[43miloc\u001b[49m\u001b[43m[\u001b[49m\u001b[43m:\u001b[49m\u001b[43m,\u001b[49m\u001b[38;5;241;43m8\u001b[39;49m\u001b[43m]\u001b[49m\u001b[38;5;241;43m.\u001b[39;49m\u001b[43mapply\u001b[49m\u001b[43m(\u001b[49m\u001b[38;5;28;43;01mlambda\u001b[39;49;00m\u001b[43m \u001b[49m\u001b[43mx\u001b[49m\u001b[43m:\u001b[49m\u001b[43m \u001b[49m\u001b[38;5;28;43mtype\u001b[39;49m\u001b[43m(\u001b[49m\u001b[43mx\u001b[49m\u001b[43m)\u001b[49m\u001b[43m \u001b[49m\u001b[38;5;241;43m!=\u001b[39;49m\u001b[43m \u001b[49m\u001b[38;5;28;43mstr\u001b[39;49m\u001b[43m)\u001b[49m\u001b[43m]\u001b[49m\n",
      "File \u001b[1;32m~\\AppData\\Roaming\\Python\\Python310\\site-packages\\pandas\\core\\frame.py:3496\u001b[0m, in \u001b[0;36mDataFrame.__getitem__\u001b[1;34m(self, key)\u001b[0m\n\u001b[0;32m   3494\u001b[0m \u001b[38;5;66;03m# Do we have a (boolean) 1d indexer?\u001b[39;00m\n\u001b[0;32m   3495\u001b[0m \u001b[38;5;28;01mif\u001b[39;00m com\u001b[38;5;241m.\u001b[39mis_bool_indexer(key):\n\u001b[1;32m-> 3496\u001b[0m     \u001b[38;5;28;01mreturn\u001b[39;00m \u001b[38;5;28;43mself\u001b[39;49m\u001b[38;5;241;43m.\u001b[39;49m\u001b[43m_getitem_bool_array\u001b[49m\u001b[43m(\u001b[49m\u001b[43mkey\u001b[49m\u001b[43m)\u001b[49m\n\u001b[0;32m   3498\u001b[0m \u001b[38;5;66;03m# We are left with two options: a single key, and a collection of keys,\u001b[39;00m\n\u001b[0;32m   3499\u001b[0m \u001b[38;5;66;03m# We interpret tuples as collections only for non-MultiIndex\u001b[39;00m\n\u001b[0;32m   3500\u001b[0m is_single_key \u001b[38;5;241m=\u001b[39m \u001b[38;5;28misinstance\u001b[39m(key, \u001b[38;5;28mtuple\u001b[39m) \u001b[38;5;129;01mor\u001b[39;00m \u001b[38;5;129;01mnot\u001b[39;00m is_list_like(key)\n",
      "File \u001b[1;32m~\\AppData\\Roaming\\Python\\Python310\\site-packages\\pandas\\core\\frame.py:3549\u001b[0m, in \u001b[0;36mDataFrame._getitem_bool_array\u001b[1;34m(self, key)\u001b[0m\n\u001b[0;32m   3543\u001b[0m     \u001b[38;5;28;01mraise\u001b[39;00m \u001b[38;5;167;01mValueError\u001b[39;00m(\n\u001b[0;32m   3544\u001b[0m         \u001b[38;5;124mf\u001b[39m\u001b[38;5;124m\"\u001b[39m\u001b[38;5;124mItem wrong length \u001b[39m\u001b[38;5;132;01m{\u001b[39;00m\u001b[38;5;28mlen\u001b[39m(key)\u001b[38;5;132;01m}\u001b[39;00m\u001b[38;5;124m instead of \u001b[39m\u001b[38;5;132;01m{\u001b[39;00m\u001b[38;5;28mlen\u001b[39m(\u001b[38;5;28mself\u001b[39m\u001b[38;5;241m.\u001b[39mindex)\u001b[38;5;132;01m}\u001b[39;00m\u001b[38;5;124m.\u001b[39m\u001b[38;5;124m\"\u001b[39m\n\u001b[0;32m   3545\u001b[0m     )\n\u001b[0;32m   3547\u001b[0m \u001b[38;5;66;03m# check_bool_indexer will throw exception if Series key cannot\u001b[39;00m\n\u001b[0;32m   3548\u001b[0m \u001b[38;5;66;03m# be reindexed to match DataFrame rows\u001b[39;00m\n\u001b[1;32m-> 3549\u001b[0m key \u001b[38;5;241m=\u001b[39m \u001b[43mcheck_bool_indexer\u001b[49m\u001b[43m(\u001b[49m\u001b[38;5;28;43mself\u001b[39;49m\u001b[38;5;241;43m.\u001b[39;49m\u001b[43mindex\u001b[49m\u001b[43m,\u001b[49m\u001b[43m \u001b[49m\u001b[43mkey\u001b[49m\u001b[43m)\u001b[49m\n\u001b[0;32m   3550\u001b[0m indexer \u001b[38;5;241m=\u001b[39m key\u001b[38;5;241m.\u001b[39mnonzero()[\u001b[38;5;241m0\u001b[39m]\n\u001b[0;32m   3551\u001b[0m \u001b[38;5;28;01mreturn\u001b[39;00m \u001b[38;5;28mself\u001b[39m\u001b[38;5;241m.\u001b[39m_take_with_is_copy(indexer, axis\u001b[38;5;241m=\u001b[39m\u001b[38;5;241m0\u001b[39m)\n",
      "File \u001b[1;32m~\\AppData\\Roaming\\Python\\Python310\\site-packages\\pandas\\core\\indexing.py:2388\u001b[0m, in \u001b[0;36mcheck_bool_indexer\u001b[1;34m(index, key)\u001b[0m\n\u001b[0;32m   2386\u001b[0m     mask \u001b[38;5;241m=\u001b[39m isna(result\u001b[38;5;241m.\u001b[39m_values)\n\u001b[0;32m   2387\u001b[0m     \u001b[38;5;28;01mif\u001b[39;00m mask\u001b[38;5;241m.\u001b[39many():\n\u001b[1;32m-> 2388\u001b[0m         \u001b[38;5;28;01mraise\u001b[39;00m IndexingError(\n\u001b[0;32m   2389\u001b[0m             \u001b[38;5;124m\"\u001b[39m\u001b[38;5;124mUnalignable boolean Series provided as \u001b[39m\u001b[38;5;124m\"\u001b[39m\n\u001b[0;32m   2390\u001b[0m             \u001b[38;5;124m\"\u001b[39m\u001b[38;5;124mindexer (index of the boolean Series and of \u001b[39m\u001b[38;5;124m\"\u001b[39m\n\u001b[0;32m   2391\u001b[0m             \u001b[38;5;124m\"\u001b[39m\u001b[38;5;124mthe indexed object do not match).\u001b[39m\u001b[38;5;124m\"\u001b[39m\n\u001b[0;32m   2392\u001b[0m         )\n\u001b[0;32m   2393\u001b[0m     \u001b[38;5;28;01mreturn\u001b[39;00m result\u001b[38;5;241m.\u001b[39mastype(\u001b[38;5;28mbool\u001b[39m)\u001b[38;5;241m.\u001b[39m_values\n\u001b[0;32m   2394\u001b[0m \u001b[38;5;28;01mif\u001b[39;00m is_object_dtype(key):\n\u001b[0;32m   2395\u001b[0m     \u001b[38;5;66;03m# key might be object-dtype bool, check_array_indexer needs bool array\u001b[39;00m\n",
      "\u001b[1;31mIndexingError\u001b[0m: Unalignable boolean Series provided as indexer (index of the boolean Series and of the indexed object do not match)."
     ]
    }
   ],
   "source": [
    "сfile_uniq[сfile_uniq[:10].iloc[:,8].apply(lambda x: type(x) != str)]"
   ]
  },
  {
   "cell_type": "code",
   "execution_count": 86,
   "id": "25bd5108",
   "metadata": {},
   "outputs": [
    {
     "ename": "AttributeError",
     "evalue": "'float' object has no attribute 'split'",
     "output_type": "error",
     "traceback": [
      "\u001b[1;31m---------------------------------------------------------------------------\u001b[0m",
      "\u001b[1;31mAttributeError\u001b[0m                            Traceback (most recent call last)",
      "Cell \u001b[1;32mIn [86], line 2\u001b[0m\n\u001b[0;32m      1\u001b[0m \u001b[38;5;66;03m# в поле адрес есть 5 разных типов данных \u001b[39;00m\n\u001b[1;32m----> 2\u001b[0m \u001b[43mсfile_uniq\u001b[49m\u001b[38;5;241;43m.\u001b[39;49m\u001b[43miloc\u001b[49m\u001b[43m[\u001b[49m\u001b[43m:\u001b[49m\u001b[43m,\u001b[49m\u001b[38;5;241;43m8\u001b[39;49m\u001b[43m]\u001b[49m\u001b[38;5;241;43m.\u001b[39;49m\u001b[43mapply\u001b[49m\u001b[43m(\u001b[49m\u001b[38;5;28;43;01mlambda\u001b[39;49;00m\u001b[43m \u001b[49m\u001b[43mx\u001b[49m\u001b[43m:\u001b[49m\u001b[43m \u001b[49m\u001b[38;5;28;43mlen\u001b[39;49m\u001b[43m(\u001b[49m\u001b[43mx\u001b[49m\u001b[38;5;241;43m.\u001b[39;49m\u001b[43msplit\u001b[49m\u001b[43m(\u001b[49m\u001b[38;5;124;43m'\u001b[39;49m\u001b[38;5;124;43m,\u001b[39;49m\u001b[38;5;124;43m'\u001b[39;49m\u001b[43m)\u001b[49m\u001b[43m)\u001b[49m\u001b[43m)\u001b[49m\u001b[38;5;241m.\u001b[39mvalue_counts()\n",
      "File \u001b[1;32m~\\AppData\\Roaming\\Python\\Python310\\site-packages\\pandas\\core\\series.py:4433\u001b[0m, in \u001b[0;36mSeries.apply\u001b[1;34m(self, func, convert_dtype, args, **kwargs)\u001b[0m\n\u001b[0;32m   4323\u001b[0m \u001b[38;5;28;01mdef\u001b[39;00m \u001b[38;5;21mapply\u001b[39m(\n\u001b[0;32m   4324\u001b[0m     \u001b[38;5;28mself\u001b[39m,\n\u001b[0;32m   4325\u001b[0m     func: AggFuncType,\n\u001b[1;32m   (...)\u001b[0m\n\u001b[0;32m   4328\u001b[0m     \u001b[38;5;241m*\u001b[39m\u001b[38;5;241m*\u001b[39mkwargs,\n\u001b[0;32m   4329\u001b[0m ) \u001b[38;5;241m-\u001b[39m\u001b[38;5;241m>\u001b[39m DataFrame \u001b[38;5;241m|\u001b[39m Series:\n\u001b[0;32m   4330\u001b[0m     \u001b[38;5;124;03m\"\"\"\u001b[39;00m\n\u001b[0;32m   4331\u001b[0m \u001b[38;5;124;03m    Invoke function on values of Series.\u001b[39;00m\n\u001b[0;32m   4332\u001b[0m \n\u001b[1;32m   (...)\u001b[0m\n\u001b[0;32m   4431\u001b[0m \u001b[38;5;124;03m    dtype: float64\u001b[39;00m\n\u001b[0;32m   4432\u001b[0m \u001b[38;5;124;03m    \"\"\"\u001b[39;00m\n\u001b[1;32m-> 4433\u001b[0m     \u001b[38;5;28;01mreturn\u001b[39;00m \u001b[43mSeriesApply\u001b[49m\u001b[43m(\u001b[49m\u001b[38;5;28;43mself\u001b[39;49m\u001b[43m,\u001b[49m\u001b[43m \u001b[49m\u001b[43mfunc\u001b[49m\u001b[43m,\u001b[49m\u001b[43m \u001b[49m\u001b[43mconvert_dtype\u001b[49m\u001b[43m,\u001b[49m\u001b[43m \u001b[49m\u001b[43margs\u001b[49m\u001b[43m,\u001b[49m\u001b[43m \u001b[49m\u001b[43mkwargs\u001b[49m\u001b[43m)\u001b[49m\u001b[38;5;241;43m.\u001b[39;49m\u001b[43mapply\u001b[49m\u001b[43m(\u001b[49m\u001b[43m)\u001b[49m\n",
      "File \u001b[1;32m~\\AppData\\Roaming\\Python\\Python310\\site-packages\\pandas\\core\\apply.py:1088\u001b[0m, in \u001b[0;36mSeriesApply.apply\u001b[1;34m(self)\u001b[0m\n\u001b[0;32m   1084\u001b[0m \u001b[38;5;28;01mif\u001b[39;00m \u001b[38;5;28misinstance\u001b[39m(\u001b[38;5;28mself\u001b[39m\u001b[38;5;241m.\u001b[39mf, \u001b[38;5;28mstr\u001b[39m):\n\u001b[0;32m   1085\u001b[0m     \u001b[38;5;66;03m# if we are a string, try to dispatch\u001b[39;00m\n\u001b[0;32m   1086\u001b[0m     \u001b[38;5;28;01mreturn\u001b[39;00m \u001b[38;5;28mself\u001b[39m\u001b[38;5;241m.\u001b[39mapply_str()\n\u001b[1;32m-> 1088\u001b[0m \u001b[38;5;28;01mreturn\u001b[39;00m \u001b[38;5;28;43mself\u001b[39;49m\u001b[38;5;241;43m.\u001b[39;49m\u001b[43mapply_standard\u001b[49m\u001b[43m(\u001b[49m\u001b[43m)\u001b[49m\n",
      "File \u001b[1;32m~\\AppData\\Roaming\\Python\\Python310\\site-packages\\pandas\\core\\apply.py:1143\u001b[0m, in \u001b[0;36mSeriesApply.apply_standard\u001b[1;34m(self)\u001b[0m\n\u001b[0;32m   1137\u001b[0m         values \u001b[38;5;241m=\u001b[39m obj\u001b[38;5;241m.\u001b[39mastype(\u001b[38;5;28mobject\u001b[39m)\u001b[38;5;241m.\u001b[39m_values\n\u001b[0;32m   1138\u001b[0m         \u001b[38;5;66;03m# error: Argument 2 to \"map_infer\" has incompatible type\u001b[39;00m\n\u001b[0;32m   1139\u001b[0m         \u001b[38;5;66;03m# \"Union[Callable[..., Any], str, List[Union[Callable[..., Any], str]],\u001b[39;00m\n\u001b[0;32m   1140\u001b[0m         \u001b[38;5;66;03m# Dict[Hashable, Union[Union[Callable[..., Any], str],\u001b[39;00m\n\u001b[0;32m   1141\u001b[0m         \u001b[38;5;66;03m# List[Union[Callable[..., Any], str]]]]]\"; expected\u001b[39;00m\n\u001b[0;32m   1142\u001b[0m         \u001b[38;5;66;03m# \"Callable[[Any], Any]\"\u001b[39;00m\n\u001b[1;32m-> 1143\u001b[0m         mapped \u001b[38;5;241m=\u001b[39m \u001b[43mlib\u001b[49m\u001b[38;5;241;43m.\u001b[39;49m\u001b[43mmap_infer\u001b[49m\u001b[43m(\u001b[49m\n\u001b[0;32m   1144\u001b[0m \u001b[43m            \u001b[49m\u001b[43mvalues\u001b[49m\u001b[43m,\u001b[49m\n\u001b[0;32m   1145\u001b[0m \u001b[43m            \u001b[49m\u001b[43mf\u001b[49m\u001b[43m,\u001b[49m\u001b[43m  \u001b[49m\u001b[38;5;66;43;03m# type: ignore[arg-type]\u001b[39;49;00m\n\u001b[0;32m   1146\u001b[0m \u001b[43m            \u001b[49m\u001b[43mconvert\u001b[49m\u001b[38;5;241;43m=\u001b[39;49m\u001b[38;5;28;43mself\u001b[39;49m\u001b[38;5;241;43m.\u001b[39;49m\u001b[43mconvert_dtype\u001b[49m\u001b[43m,\u001b[49m\n\u001b[0;32m   1147\u001b[0m \u001b[43m        \u001b[49m\u001b[43m)\u001b[49m\n\u001b[0;32m   1149\u001b[0m \u001b[38;5;28;01mif\u001b[39;00m \u001b[38;5;28mlen\u001b[39m(mapped) \u001b[38;5;129;01mand\u001b[39;00m \u001b[38;5;28misinstance\u001b[39m(mapped[\u001b[38;5;241m0\u001b[39m], ABCSeries):\n\u001b[0;32m   1150\u001b[0m     \u001b[38;5;66;03m# GH#43986 Need to do list(mapped) in order to get treated as nested\u001b[39;00m\n\u001b[0;32m   1151\u001b[0m     \u001b[38;5;66;03m#  See also GH#25959 regarding EA support\u001b[39;00m\n\u001b[0;32m   1152\u001b[0m     \u001b[38;5;28;01mreturn\u001b[39;00m obj\u001b[38;5;241m.\u001b[39m_constructor_expanddim(\u001b[38;5;28mlist\u001b[39m(mapped), index\u001b[38;5;241m=\u001b[39mobj\u001b[38;5;241m.\u001b[39mindex)\n",
      "File \u001b[1;32m~\\AppData\\Roaming\\Python\\Python310\\site-packages\\pandas\\_libs\\lib.pyx:2870\u001b[0m, in \u001b[0;36mpandas._libs.lib.map_infer\u001b[1;34m()\u001b[0m\n",
      "Cell \u001b[1;32mIn [86], line 2\u001b[0m, in \u001b[0;36m<lambda>\u001b[1;34m(x)\u001b[0m\n\u001b[0;32m      1\u001b[0m \u001b[38;5;66;03m# в поле адрес есть 5 разных типов данных \u001b[39;00m\n\u001b[1;32m----> 2\u001b[0m сfile_uniq\u001b[38;5;241m.\u001b[39miloc[:,\u001b[38;5;241m8\u001b[39m]\u001b[38;5;241m.\u001b[39mapply(\u001b[38;5;28;01mlambda\u001b[39;00m x: \u001b[38;5;28mlen\u001b[39m(\u001b[43mx\u001b[49m\u001b[38;5;241;43m.\u001b[39;49m\u001b[43msplit\u001b[49m(\u001b[38;5;124m'\u001b[39m\u001b[38;5;124m,\u001b[39m\u001b[38;5;124m'\u001b[39m)))\u001b[38;5;241m.\u001b[39mvalue_counts()\n",
      "\u001b[1;31mAttributeError\u001b[0m: 'float' object has no attribute 'split'"
     ]
    }
   ],
   "source": [
    "# в поле адрес есть 5 разных типов данных \n",
    "сfile_uniq.iloc[:,8].apply(lambda x: len(x.split(','))).value_counts()"
   ]
  },
  {
   "cell_type": "code",
   "execution_count": 54,
   "id": "2afda744",
   "metadata": {},
   "outputs": [
    {
     "data": {
      "text/plain": [
       "['Краснодарский край, Краснодар, Карасунский, мкр. КСК, Камвольно-суконный Комбинат мкр, улица Дежнева, 29/3',\n",
       " 'Краснодарский край, Краснодар, Карасунский, мкр. Гидростроителей, Почтовый мкр, проспект Имени писателя Знаменского, 32',\n",
       " 'Краснодарский край, Краснодар, Прикубанский, мкр. РИП, Имени Петра Метальникова мкр, улица Тополиная, 40/1к2',\n",
       " 'Краснодарский край, Краснодар, Прикубанский, мкр. РИП, Музыкальный мкр, улица Имени Мусоргского М.П., 3',\n",
       " 'Краснодарский край, Краснодар, Карасунский, мкр. Гидростроителей, Почтовый мкр, проспект Имени писателя Знаменского, 6',\n",
       " 'Краснодарский край, Краснодар, Прикубанский, мкр. РИП, Музыкальный мкр, улица Имени Мусоргского М.П., 8',\n",
       " 'Краснодарский край, Краснодар, Карасунский, мкр. ХБК, Хлопчато-бумажный Комбинат мкр, улица Алтайская, 4/1',\n",
       " 'Краснодарский край, Краснодар, Прикубанский, мкр. РИП, Музыкальный мкр, улица Имени Мусоргского М.П., 26к2',\n",
       " 'Краснодарский край, Краснодар, Карасунский, мкр. Гидростроителей, Почтовый мкр, проспект Имени писателя Знаменского, 34',\n",
       " 'Краснодарский край, Краснодар, Карасунский, мкр. КСК, ТЭЦ жилмассив, улица Краснодарская, 55']"
      ]
     },
     "execution_count": 54,
     "metadata": {},
     "output_type": "execute_result"
    }
   ],
   "source": [
    "random_index_7 = [random.randint(1,384) for i in range(10)]\n",
    "сfile_uniq[сfile_uniq.iloc[:,8].apply(lambda x: len(x.split(',')) == 7)].iloc[random_index_7, 8].to_list()"
   ]
  },
  {
   "cell_type": "code",
   "execution_count": 47,
   "id": "0f8f9822",
   "metadata": {},
   "outputs": [
    {
     "data": {
      "text/plain": [
       "['Краснодарский край, Краснодар, Прикубанский, мкр. Горхутор, улица Дзержинского, 110А',\n",
       " 'Республика Адыгея, Тахтамукайский район, Старобжегокайское с/пос, Новая Адыгея аул, улица Песочная, 1к4',\n",
       " 'Краснодарский край, Краснодар, Прикубанский, мкр. РИП, Музыкальный мкр, улица Имени Дунаевского И.И.',\n",
       " 'Республика Адыгея, Тахтамукайский район, Старобжегокайское с/пос, Новая Адыгея аул, улица Бжегокайская, 25/1к10',\n",
       " 'Республика Адыгея, Тахтамукайский район, Старобжегокайское с/пос, Новая Адыгея аул, улица Тургеневское шоссе, 33/2к26',\n",
       " 'Краснодарский край, Краснодар, Карасунский, мкр. Новознаменский, улица Войсковая, 4к6',\n",
       " 'Республика Адыгея, Тахтамукайский район, Старобжегокайское с/пос, Новая Адыгея аул, улица Бжегокайская, 23/1Ак4',\n",
       " 'Краснодарский край, Краснодар, Центральный, мкр. 40 лет Победы, улица Имени 40-летия Победы, 4',\n",
       " 'Краснодарский край, Краснодар, Карасунский, мкр. Черемушки, Ставропольская улица, 217/1',\n",
       " 'Краснодарский край, Краснодар, Прикубанский, мкр. РИП, Московская улица, 131к1']"
      ]
     },
     "execution_count": 47,
     "metadata": {},
     "output_type": "execute_result"
    }
   ],
   "source": [
    "random_index_6 = [random.randint(1,2471) for i in range(10)]\n",
    "сfile_uniq[сfile_uniq.iloc[:,8].apply(lambda x: len(x.split(',')) == 6)].iloc[random_index_6, 8].to_list()"
   ]
  },
  {
   "cell_type": "code",
   "execution_count": 46,
   "id": "929e9289",
   "metadata": {},
   "outputs": [
    {
     "data": {
      "text/plain": [
       "['Краснодарский край, Краснодар, Прикубанский, мкр. Калинино, улица Имени Генерала Корнилова',\n",
       " 'Краснодарский край, Краснодар, Прикубанский, улица Имени Героя Ростовского, 8к1',\n",
       " 'Краснодарский край, Краснодар, Прикубанский, Российская улица, 74к2',\n",
       " 'Краснодарский край, Краснодар, Прикубанский, мкр. РИП, Музыкальный мкр',\n",
       " 'Краснодарский край, Краснодар, Прикубанский, улица Им. Сорока А.М., 7',\n",
       " 'Краснодарский край, Краснодар, Прикубанский, мкр. Калинино, Спортивная деревня ЖК',\n",
       " 'Краснодарский край, Краснодар, Прикубанский, мкр. Калинино, Народная улица',\n",
       " 'Краснодарский край, Краснодар, Прикубанский, мкр. Калинино, Спортивная деревня ЖК',\n",
       " 'Краснодарский край, Краснодар, Прикубанский, мкр. Авиагородок, улица Авиагородок',\n",
       " 'Республика Адыгея, Тахтамукайский район, Старобжегокайское с/пос, Новая Адыгея аул, улица Береговая']"
      ]
     },
     "execution_count": 46,
     "metadata": {},
     "output_type": "execute_result"
    }
   ],
   "source": [
    "random_index_5 = [random.randint(1,2311) for i in range(10)]\n",
    "сfile_uniq[сfile_uniq.iloc[:,8].apply(lambda x: len(x.split(',')) == 5)].iloc[random_index_5, 8].to_list()"
   ]
  },
  {
   "cell_type": "code",
   "execution_count": 72,
   "id": "a699e803",
   "metadata": {},
   "outputs": [
    {
     "data": {
      "text/plain": [
       "['Краснодарский край, Краснодар, Прикубанский, Молодежный мкр',\n",
       " 'Краснодарский край, Краснодар, Прикубанский, Европа-Сити ЖК',\n",
       " 'Краснодарский край, Краснодар, Карасунский, мкр. Черемушки',\n",
       " 'Краснодарский край, Краснодар, Прикубанский, Молодежный мкр',\n",
       " 'Краснодарский край, Краснодар, Прикубанский, Европа-Сити ЖК',\n",
       " 'Краснодарский край, Краснодар, Прикубанский, Португалия ЖК',\n",
       " 'Краснодарский край, Краснодар, Прикубанский, Самолет-6 ЖК',\n",
       " 'Краснодарский край, Краснодар, Центральный, улица Базовская Дамба',\n",
       " 'Краснодарский край, Краснодар, Прикубанский, улица Имени Героя Советского Союза Якова Кобзаря',\n",
       " 'Краснодарский край, Краснодар, Прикубанский, Европа-Сити ЖК']"
      ]
     },
     "execution_count": 72,
     "metadata": {},
     "output_type": "execute_result"
    }
   ],
   "source": [
    "random_index_4 = [random.randint(1,751) for i in range(10)]\n",
    "сfile_uniq[сfile_uniq.iloc[:,8].apply(lambda x: len(x.split(',')) == 4)].iloc[random_index_4, 8].to_list()"
   ]
  },
  {
   "cell_type": "code",
   "execution_count": 69,
   "id": "853ef75c",
   "metadata": {},
   "outputs": [
    {
     "data": {
      "text/plain": [
       "['Краснодарский край, Краснодар, Центральный',\n",
       " 'Республика Адыгея, Тахтамукайский район, Яблоновский пгт',\n",
       " 'Краснодарский край, Краснодар, Центральный',\n",
       " 'Республика Адыгея, Тахтамукайский район, Яблоновский пгт',\n",
       " 'Краснодарский край, Краснодар, Центральный',\n",
       " 'Краснодарский край, Краснодар, Центральный',\n",
       " 'Краснодарский край, Краснодар, Центральный',\n",
       " 'Краснодарский край, Краснодар, Центральный',\n",
       " 'Краснодарский край, Краснодар, Центральный',\n",
       " 'Краснодарский край, Краснодар, Центральный']"
      ]
     },
     "execution_count": 69,
     "metadata": {},
     "output_type": "execute_result"
    }
   ],
   "source": [
    "random_index_3 = [random.randint(1,76) for i in range(10)]\n",
    "сfile_uniq[сfile_uniq.iloc[:,8].apply(lambda x: len(x.split(',')) == 3)].iloc[random_index_3, 8].to_list()"
   ]
  },
  {
   "cell_type": "code",
   "execution_count": 74,
   "id": "95a4a469",
   "metadata": {},
   "outputs": [
    {
     "data": {
      "text/plain": [
       "['Краснодарский край, Краснодар, Прикубанский, 2-я Площадка мкр, улица Ветеранов, 40лит3',\n",
       " 'Краснодарский край, Краснодар, Прикубанский, мкр. Славянский, улица Красных Партизан',\n",
       " 'Республика Адыгея, Тахтамукайский район, Яблоновский пгт, улица Гагарина, 192к4',\n",
       " 'Краснодарский край, Краснодар, Прикубанский, 2-я Площадка мкр, улица Ветеранов, 85',\n",
       " 'Краснодарский край, Краснодар, Прикубанский, улица Героев-Разведчиков, 11/4',\n",
       " 'Краснодарский край, Краснодар, Прикубанский, улица Конгрессная, лит12',\n",
       " 'Краснодарский край, Краснодар, Карасунский, мкр. Гидростроителей, улица Трудовой Славы, 25',\n",
       " 'Краснодарский край, Краснодар, Прикубанский, мкр. Калинино, Западный Город ЖК, улица Крылатская',\n",
       " 'Краснодарский край, Краснодар, Прикубанский, улица Западный обход, 45к2',\n",
       " 'Краснодарский край, Краснодар, Прикубанский, улица Академика Лукьяненко',\n",
       " 'Краснодарский край, Краснодар, Центральный, мкр. Дубинка, Черемушки мкр, улица Вишняковой, 1/23к1',\n",
       " 'Краснодарский край, Краснодар, Центральный, мкр. Дубинка, Черемушки мкр, улица Вишняковой, 1/23к1',\n",
       " 'Краснодарский край, Краснодар, Западный, мкр. Центральный, Рашпилевская улица, 111',\n",
       " 'Республика Адыгея, Тахтамукайский район, Энем пгт, улица Фрунзе, 10',\n",
       " 'Краснодарский край, Краснодар, Прикубанский, улица Даниила Смоляна, 80',\n",
       " 'Краснодарский край, Краснодар, Прикубанский, мкр. Восточно-Кругликовский, улица Героев-Разведчиков, 26',\n",
       " 'Краснодарский край, Краснодар, Прикубанский, улица Конгрессная, 41к1',\n",
       " 'Республика Адыгея, Тахтамукайский район, Яблоновский пгт, Железнодорожная улица, 3',\n",
       " 'Краснодарский край, Краснодар, Прикубанский, мкр. РИП, Туркменская улица, 27',\n",
       " 'Краснодарский край, Краснодар, Прикубанский, улица Конгрессная, 41к1',\n",
       " 'Краснодарский край, Краснодар, Западный, мкр. Центральный, Рашпилевская улица, 119',\n",
       " 'Краснодарский край, Краснодар, Карасунский, мкр. КСК, Уральская улица, 87/7',\n",
       " 'Краснодарский край, Краснодар, Центральный, мкр. Табачная фабрика, Колхозная улица, 5к3',\n",
       " 'Республика Адыгея, Тахтамукайский район, Старобжегокайское с/пос, Новая Адыгея аул, улица Бжегокайская, 31/6к2',\n",
       " 'Краснодарский край, Краснодар, Прикубанский, мкр. РИП, улица Карельская, 51/4',\n",
       " 'Республика Адыгея, Тахтамукайский район, Яблоновский пгт, улица Теучежа, 20',\n",
       " 'Краснодарский край, Краснодар, Центральный, мкр. Покровка, улица Щорса, 49',\n",
       " 'Краснодарский край, Краснодар, Прикубанский, мкр. РИП, Российская улица, 267к4',\n",
       " 'Республика Адыгея, Тахтамукайский район, Яблоновский пгт, улица Гагарина, 159/1В',\n",
       " 'Краснодарский край, Краснодар, Карасунский, мкр. Новознаменский, улица Богатырская, 11лит10']"
      ]
     },
     "execution_count": 74,
     "metadata": {},
     "output_type": "execute_result"
    }
   ],
   "source": [
    "random_index_n = [random.randint(1,4000) for i in range(30)]\n",
    "сfile_uniq[сfile_uniq.iloc[:,8].apply(lambda x: 'ул' in x)].iloc[random_index_n, 8].to_list()"
   ]
  },
  {
   "cell_type": "markdown",
   "id": "b892591f",
   "metadata": {},
   "source": [
    "# test_parser"
   ]
  },
  {
   "cell_type": "markdown",
   "id": "470fed18",
   "metadata": {
    "pycharm": {
     "name": "#%% md\n"
    }
   },
   "source": [
    "# imports"
   ]
  },
  {
   "cell_type": "code",
   "execution_count": 1,
   "id": "a721ab80",
   "metadata": {
    "ExecuteTime": {
     "end_time": "2023-02-15T05:15:22.196581Z",
     "start_time": "2023-02-15T05:15:22.076142Z"
    },
    "pycharm": {
     "name": "#%%\n"
    },
    "scrolled": false
   },
   "outputs": [],
   "source": [
    "import requests\n",
    "import zipfile\n",
    "import io\n",
    "import os \n",
    "import shutil\n",
    "import pandas as pd\n",
    "import logging\n",
    "import configparser\n",
    "import shutil\n",
    "\n",
    "\n",
    "from pathlib import Path\n",
    "from datetime import datetime\n",
    "from sshtunnel import SSHTunnelForwarder\n",
    "from sqlalchemy import create_engine, text, NullPool\n",
    "\n",
    "import warnings\n",
    "warnings.filterwarnings(\"ignore\")"
   ]
  },
  {
   "cell_type": "code",
   "execution_count": 2,
   "id": "2b02eac1",
   "metadata": {
    "ExecuteTime": {
     "end_time": "2023-02-15T05:19:47.269431Z",
     "start_time": "2023-02-15T05:19:47.263804Z"
    },
    "pycharm": {
     "name": "#%%\n"
    },
    "scrolled": false
   },
   "outputs": [],
   "source": [
    "import configparser\n",
    "\n",
    "config = configparser.ConfigParser()\n",
    "config.read('config.ini')\n",
    "ssh_host = config['database']['ssh_host']\n",
    "ssh_port = int(config['database']['ssh_port'])\n",
    "ssh_username = config['database']['ssh_username']\n",
    "ssh_password = config['database']['ssh_password']\n",
    "database_username = config['database']['database_username']\n",
    "database_password = config['database']['database_password']\n",
    "database_name = config['database']['database_name']\n",
    "localhost = config['database']['localhost']\n",
    "localhost_port = int(config['database']['localhost_port'])\n",
    "table_name = config['database']['table_name']\n",
    "ya_api = config['yandex']['ya_api']\n",
    "ya_link = config['yandex']['ya_link']"
   ]
  },
  {
   "cell_type": "markdown",
   "id": "c18eb373",
   "metadata": {
    "pycharm": {
     "name": "#%% md\n"
    }
   },
   "source": [
    "# define saving dir"
   ]
  },
  {
   "cell_type": "code",
   "execution_count": 3,
   "id": "90075d0a",
   "metadata": {
    "pycharm": {
     "name": "#%%\n"
    },
    "scrolled": false
   },
   "outputs": [],
   "source": [
    "def create_load_save_dir():\n",
    "    try:\n",
    "        Path.mkdir(Path.cwd()/'saved_csv')\n",
    "    except:\n",
    "        pass\n",
    "    save_dir = (Path.cwd()/'saved_csv').as_posix()\n",
    "    return save_dir"
   ]
  },
  {
   "cell_type": "code",
   "execution_count": 4,
   "id": "78d36b63",
   "metadata": {
    "pycharm": {
     "name": "#%%\n"
    },
    "scrolled": false
   },
   "outputs": [],
   "source": [
    "local_save_dir = create_load_save_dir()"
   ]
  },
  {
   "cell_type": "code",
   "execution_count": 5,
   "id": "f7338a25",
   "metadata": {
    "pycharm": {
     "name": "#%%\n"
    },
    "scrolled": false
   },
   "outputs": [
    {
     "data": {
      "text/plain": [
       "'C:/Users/pnknv/Documents/GitHub/yadisk_loader/saved_csv'"
      ]
     },
     "execution_count": 5,
     "metadata": {},
     "output_type": "execute_result"
    }
   ],
   "source": [
    "local_save_dir"
   ]
  },
  {
   "cell_type": "markdown",
   "id": "abe6b81c",
   "metadata": {
    "pycharm": {
     "name": "#%% md\n"
    }
   },
   "source": [
    "# get list of files already in database table test_avito_parsed"
   ]
  },
  {
   "cell_type": "code",
   "execution_count": 17,
   "id": "1800650f",
   "metadata": {
    "pycharm": {
     "name": "#%%\n"
    },
    "scrolled": false
   },
   "outputs": [],
   "source": [
    "def get_today_date():\n",
    "    return datetime.strftime(datetime.today(), format = \"%d/%m/%Y, %H:%M:%S\")"
   ]
  },
  {
   "cell_type": "code",
   "execution_count": 18,
   "id": "0278e730",
   "metadata": {
    "pycharm": {
     "name": "#%%\n"
    },
    "scrolled": false
   },
   "outputs": [],
   "source": [
    "def get_sql_engine(ssh_host, ssh_port, ssh_username, ssh_password, localhost,\n",
    "                   localhost_port, database_username, database_password, database_name):\n",
    "    \n",
    "    sql_server = SSHTunnelForwarder(\n",
    "        (ssh_host, ssh_port),\n",
    "        ssh_username=ssh_username,\n",
    "        ssh_password=ssh_password,\n",
    "        remote_bind_address=(localhost, localhost_port)\n",
    "    )\n",
    "\n",
    "    sql_server.start()\n",
    "    local_port = str(sql_server.local_bind_port)\n",
    "    sql_engine = create_engine('mariadb+pymysql://{}:{}@{}:{}/{}'.format(database_username, database_password,\n",
    "                                                                         localhost, local_port, database_name), \n",
    "                               poolclass=NullPool)\n",
    "\n",
    "    return sql_server, sql_engine"
   ]
  },
  {
   "cell_type": "code",
   "execution_count": 9,
   "id": "8c7366a3",
   "metadata": {
    "pycharm": {
     "name": "#%%\n"
    },
    "scrolled": false
   },
   "outputs": [],
   "source": [
    "sql_server, sql_engine = get_sql_engine(ssh_host, ssh_port, ssh_username, ssh_password, localhost, \n",
    "                                        localhost_port, database_username, database_password, database_name)"
   ]
  },
  {
   "cell_type": "code",
   "execution_count": 10,
   "id": "2221ec1e",
   "metadata": {
    "pycharm": {
     "name": "#%%\n"
    },
    "scrolled": false
   },
   "outputs": [],
   "source": [
    "def get_db_saved_files(engine):\n",
    "    filenames_query='SELECT DISTINCT file_name FROM test_avito_parsed'\n",
    "    try:\n",
    "        con_obj=engine.connect()\n",
    "        filenames_list = pd.read_sql(sql=text(filenames_query), con=con_obj)\n",
    "        filenames_list = filenames_list.file_name.to_list()\n",
    "        con_obj.close()\n",
    "        exc_code = None\n",
    "    except Exception as exc:\n",
    "        if exc.code == 'f405':\n",
    "            print(exc)\n",
    "            print('\\nТаблица не существует и это нормально, она создастся при записи csv-файла!')\n",
    "            filenames_list = []\n",
    "            exc_code = None\n",
    "        else:\n",
    "            print(exc)\n",
    "            filenames_list = []\n",
    "            exc_code = exc.code\n",
    "    return filenames_list, exc_code"
   ]
  },
  {
   "cell_type": "code",
   "execution_count": 11,
   "id": "d2afa1a2",
   "metadata": {
    "pycharm": {
     "name": "#%%\n"
    },
    "scrolled": false
   },
   "outputs": [],
   "source": [
    "files_in_db, error_with_db_con = get_db_saved_files(sql_engine)"
   ]
  },
  {
   "cell_type": "code",
   "execution_count": 12,
   "id": "c3c996d9",
   "metadata": {
    "pycharm": {
     "name": "#%%\n"
    },
    "scrolled": false
   },
   "outputs": [
    {
     "data": {
      "text/plain": [
       "True"
      ]
     },
     "execution_count": 12,
     "metadata": {},
     "output_type": "execute_result"
    }
   ],
   "source": [
    "error_with_db_con is None"
   ]
  },
  {
   "cell_type": "code",
   "execution_count": 13,
   "id": "cd9ec90e",
   "metadata": {},
   "outputs": [
    {
     "data": {
      "text/plain": [
       "['07-02-2023',\n",
       " '07-02-23 (без дублей)',\n",
       " '08-02-23 (без дублей)',\n",
       " '09-02-23 (без дублей) 2',\n",
       " '09-02-23 (без дублей)',\n",
       " '10-02-23 (без дублей)',\n",
       " '11-02-23 (без дублей)',\n",
       " '12-02-23 (без дублей)',\n",
       " '13-02-23 (без дублей)',\n",
       " '14-02-23 (без дублей)',\n",
       " '16-02-23 (без дублей)',\n",
       " '15-02-23 (без дублей)']"
      ]
     },
     "execution_count": 13,
     "metadata": {},
     "output_type": "execute_result"
    }
   ],
   "source": [
    "files_in_db"
   ]
  },
  {
   "cell_type": "code",
   "execution_count": 14,
   "id": "e0ae641b",
   "metadata": {
    "pycharm": {
     "name": "#%%\n"
    },
    "scrolled": false
   },
   "outputs": [],
   "source": [
    "# sql_server.stop()\n",
    "# sql_engine.dispose()"
   ]
  },
  {
   "cell_type": "markdown",
   "id": "da2c671f",
   "metadata": {
    "pycharm": {
     "name": "#%% md\n"
    }
   },
   "source": [
    "# load files"
   ]
  },
  {
   "cell_type": "code",
   "execution_count": 19,
   "id": "c18d25e4",
   "metadata": {
    "pycharm": {
     "name": "#%%\n"
    },
    "scrolled": false
   },
   "outputs": [],
   "source": [
    "def get_direct_link(sharing_link):\n",
    "    pk_request = requests.get(ya_api.format(sharing_link))\n",
    "    # None если не удается преоброазовать ссылку\n",
    "    return pk_request.json().get('href')\n",
    "\n",
    "def download_yadisk_files(sharing_link, list_file_exist, save_dir):\n",
    "    direct_link = get_direct_link(sharing_link)\n",
    "    if direct_link:\n",
    "        download = requests.get(direct_link)\n",
    "        zips = zipfile.ZipFile(io.BytesIO(download.content))\n",
    "        cnt = 0\n",
    "        print(\"files loaded\")\n",
    "        for member in zips.namelist():\n",
    "            filename = os.path.basename(member)\n",
    "            if not filename or Path(filename).stem in list_file_exist:\n",
    "                continue\n",
    "            src = zips.open(member)\n",
    "            target = open(os.path.join(save_dir, filename), 'wb')\n",
    "            with src, target:\n",
    "                shutil.copyfileobj(src, target)\n",
    "                cnt += 1\n",
    "            target.close()\n",
    "        print('Succesfully downloaded {} files from \"{}\"'.format(cnt, sharing_link))\n",
    "        return None\n",
    "    else:\n",
    "        print('Failed to download files from \"{}\"'.format(sharing_link))\n",
    "        return 'error loading files'"
   ]
  },
  {
   "cell_type": "code",
   "execution_count": 20,
   "id": "e5225720",
   "metadata": {
    "pycharm": {
     "name": "#%%\n"
    },
    "scrolled": false
   },
   "outputs": [
    {
     "name": "stdout",
     "output_type": "stream",
     "text": [
      "CPU times: total: 0 ns\n",
      "Wall time: 0 ns\n",
      "files loaded\n",
      "Succesfully downloaded 24 files from \"https://disk.yandex.ru/d/sVgz0GiqjhCsNg\"\n"
     ]
    }
   ],
   "source": [
    "%time\n",
    "error_file_loading = download_yadisk_files(ya_link, [], local_save_dir)"
   ]
  },
  {
   "cell_type": "code",
   "execution_count": 20,
   "id": "4e16c303",
   "metadata": {
    "pycharm": {
     "name": "#%%\n"
    },
    "scrolled": false
   },
   "outputs": [
    {
     "data": {
      "text/plain": [
       "True"
      ]
     },
     "execution_count": 20,
     "metadata": {},
     "output_type": "execute_result"
    }
   ],
   "source": [
    "error_file_loading is None"
   ]
  },
  {
   "cell_type": "markdown",
   "id": "7a3c4925",
   "metadata": {
    "pycharm": {
     "name": "#%% md\n"
    }
   },
   "source": [
    "# upload files to database "
   ]
  },
  {
   "cell_type": "code",
   "execution_count": 6,
   "id": "afd8b553",
   "metadata": {
    "pycharm": {
     "name": "#%%\n"
    },
    "scrolled": false
   },
   "outputs": [],
   "source": [
    "def get_local_files(save_dir):\n",
    "    p = Path(save_dir).glob('**/*')\n",
    "    saved_files_list = [x.as_posix() for x in p if x.is_file()]\n",
    "    return saved_files_list\n",
    "\n",
    "def create_csv(save_directory):\n",
    "    saved_files = get_local_files(save_directory)\n",
    "    cnt_files = 0\n",
    "    for f_ind in range(len(saved_files)):\n",
    "        try:\n",
    "            saved_files_new = pd.read_csv(saved_files[f_ind], delimiter=';', encoding='utf8')\n",
    "            saved_files_new['file_name'] = Path(saved_files[f_ind]).stem\n",
    "            parsed_csv = parsed_csv.append(saved_files_new)\n",
    "        except:\n",
    "            parsed_csv = pd.read_csv(saved_files[f_ind], delimiter=';', encoding='utf8')\n",
    "            parsed_csv['file_name'] = Path(saved_files[f_ind]).stem\n",
    "        cnt_files += 1\n",
    "        \n",
    "    parsed_csv.reset_index(drop=True, inplace=True)\n",
    "    print('Succesfully opened {} files'.format(cnt_files))\n",
    "\n",
    "    return parsed_csv"
   ]
  },
  {
   "cell_type": "code",
   "execution_count": 7,
   "id": "139a9717",
   "metadata": {},
   "outputs": [],
   "source": [
    "flist = get_local_files(local_save_dir)"
   ]
  },
  {
   "cell_type": "code",
   "execution_count": 8,
   "id": "6dbbcd13",
   "metadata": {},
   "outputs": [],
   "source": [
    "def create_csv(saved_files):\n",
    "    cnt_files = 0\n",
    "    for f_ind in range(len(saved_files)):\n",
    "        try:\n",
    "            saved_files_new = pd.read_csv(saved_files[f_ind], delimiter=';', encoding='utf8')\n",
    "            saved_files_new['file_name'] = Path(saved_files[f_ind]).stem\n",
    "            parsed_csv = parsed_csv.append(saved_files_new)\n",
    "        except:\n",
    "            parsed_csv = pd.read_csv(saved_files[f_ind], delimiter=';', encoding='utf8')\n",
    "            parsed_csv['file_name'] = Path(saved_files[f_ind]).stem\n",
    "        cnt_files += 1\n",
    "    return parsed_csv"
   ]
  },
  {
   "cell_type": "code",
   "execution_count": 9,
   "id": "2d1bc7b1",
   "metadata": {},
   "outputs": [
    {
     "data": {
      "text/plain": [
       "['C:/Users/pnknv/Documents/GitHub/yadisk_loader/saved_csv/07-02-23 (без дублей).csv',\n",
       " 'C:/Users/pnknv/Documents/GitHub/yadisk_loader/saved_csv/08-02-23 (без дублей).csv',\n",
       " 'C:/Users/pnknv/Documents/GitHub/yadisk_loader/saved_csv/09-02-23 (без дублей).csv',\n",
       " 'C:/Users/pnknv/Documents/GitHub/yadisk_loader/saved_csv/10-02-23 (без дублей).csv',\n",
       " 'C:/Users/pnknv/Documents/GitHub/yadisk_loader/saved_csv/11-02-23 (без дублей).csv',\n",
       " 'C:/Users/pnknv/Documents/GitHub/yadisk_loader/saved_csv/12-02-23 (без дублей).csv',\n",
       " 'C:/Users/pnknv/Documents/GitHub/yadisk_loader/saved_csv/13-02-23 (без дублей).csv',\n",
       " 'C:/Users/pnknv/Documents/GitHub/yadisk_loader/saved_csv/14-02-23 (без дублей).csv',\n",
       " 'C:/Users/pnknv/Documents/GitHub/yadisk_loader/saved_csv/15-02-23 (без дублей).csv',\n",
       " 'C:/Users/pnknv/Documents/GitHub/yadisk_loader/saved_csv/16-02-23 (без дублей).csv',\n",
       " 'C:/Users/pnknv/Documents/GitHub/yadisk_loader/saved_csv/17-02-23 (без дублей).csv',\n",
       " 'C:/Users/pnknv/Documents/GitHub/yadisk_loader/saved_csv/18-02-23 (без дублей).csv',\n",
       " 'C:/Users/pnknv/Documents/GitHub/yadisk_loader/saved_csv/19-02-23 (без дублей).csv',\n",
       " 'C:/Users/pnknv/Documents/GitHub/yadisk_loader/saved_csv/20-02-23 (без дублей).csv',\n",
       " 'C:/Users/pnknv/Documents/GitHub/yadisk_loader/saved_csv/21-02-23 (без дублей).csv',\n",
       " 'C:/Users/pnknv/Documents/GitHub/yadisk_loader/saved_csv/22-02-23 (без дублей).csv',\n",
       " 'C:/Users/pnknv/Documents/GitHub/yadisk_loader/saved_csv/23-02-23 (без дублей).csv',\n",
       " 'C:/Users/pnknv/Documents/GitHub/yadisk_loader/saved_csv/24-02-23 (без дублей).csv',\n",
       " 'C:/Users/pnknv/Documents/GitHub/yadisk_loader/saved_csv/25-02-23 (без дублей).csv',\n",
       " 'C:/Users/pnknv/Documents/GitHub/yadisk_loader/saved_csv/26-02-23 (без дублей).csv',\n",
       " 'C:/Users/pnknv/Documents/GitHub/yadisk_loader/saved_csv/27-02-23 (без дублей).csv']"
      ]
     },
     "execution_count": 9,
     "metadata": {},
     "output_type": "execute_result"
    }
   ],
   "source": []
  },
  {
   "cell_type": "code",
   "execution_count": 11,
   "id": "3be75ce3",
   "metadata": {},
   "outputs": [
    {
     "data": {
      "text/plain": [
       "'C:/Users/pnknv/Documents/GitHub/yadisk_loader/saved_csv/27-02-23 (без дублей).csv'"
      ]
     },
     "execution_count": 11,
     "metadata": {},
     "output_type": "execute_result"
    }
   ],
   "source": [
    "flist[-1]"
   ]
  },
  {
   "cell_type": "code",
   "execution_count": 12,
   "id": "c3dbc2a7",
   "metadata": {},
   "outputs": [],
   "source": [
    "f24 = create_csv(flist[-2:-1])"
   ]
  },
  {
   "cell_type": "code",
   "execution_count": 16,
   "id": "43719710",
   "metadata": {},
   "outputs": [],
   "source": [
    "f24['city'] = f24['Ссылка'].apply(lambda x: x.split('/')[3])"
   ]
  },
  {
   "cell_type": "code",
   "execution_count": 18,
   "id": "d12acd3a",
   "metadata": {},
   "outputs": [
    {
     "data": {
      "text/plain": [
       "krasnodar       78487\n",
       "kazan           17374\n",
       "chelyabinsk      8792\n",
       "novorossiysk     4832\n",
       "anapa            3451\n",
       "tomsk            2800\n",
       "armavir          1671\n",
       "Name: city, dtype: int64"
      ]
     },
     "execution_count": 18,
     "metadata": {},
     "output_type": "execute_result"
    }
   ],
   "source": [
    "f24.city.value_counts()"
   ]
  },
  {
   "cell_type": "code",
   "execution_count": 28,
   "id": "3e6e7f5c",
   "metadata": {},
   "outputs": [
    {
     "data": {
      "text/plain": [
       "array(['р-н Советский', 'р-н Центральный', 'р-н Курчатовский',\n",
       "       'р-н Ленинский', nan, 'Челябинск', 'р-н Металлургический',\n",
       "       'р-н Калининский', 'р-н Тракторозаводский'], dtype=object)"
      ]
     },
     "execution_count": 28,
     "metadata": {},
     "output_type": "execute_result"
    }
   ],
   "source": [
    "f24[f24.city == 'chelyabinsk']['Район'].unique()"
   ]
  },
  {
   "cell_type": "code",
   "execution_count": 29,
   "id": "a8b23107",
   "metadata": {},
   "outputs": [
    {
     "data": {
      "text/plain": [
       "'https://www.avito.ru/tomsk/kvartiry/2-k._kvartira_534m_810et._2558058962'"
      ]
     },
     "execution_count": 29,
     "metadata": {},
     "output_type": "execute_result"
    }
   ],
   "source": [
    "f24.iloc[0,0]"
   ]
  },
  {
   "cell_type": "code",
   "execution_count": 25,
   "id": "586b287e",
   "metadata": {},
   "outputs": [
    {
     "data": {
      "text/html": [
       "<div>\n",
       "<style scoped>\n",
       "    .dataframe tbody tr th:only-of-type {\n",
       "        vertical-align: middle;\n",
       "    }\n",
       "\n",
       "    .dataframe tbody tr th {\n",
       "        vertical-align: top;\n",
       "    }\n",
       "\n",
       "    .dataframe thead th {\n",
       "        text-align: right;\n",
       "    }\n",
       "</style>\n",
       "<table border=\"1\" class=\"dataframe\">\n",
       "  <thead>\n",
       "    <tr style=\"text-align: right;\">\n",
       "      <th></th>\n",
       "      <th>Ссылка</th>\n",
       "      <th>Заголовок</th>\n",
       "      <th>Комнат</th>\n",
       "      <th>Площадь</th>\n",
       "      <th>Этаж</th>\n",
       "      <th>Цена</th>\n",
       "      <th>Цена за м2</th>\n",
       "      <th>Название жк</th>\n",
       "      <th>Район</th>\n",
       "      <th>Улица</th>\n",
       "      <th>Дата публикации</th>\n",
       "      <th>Тип продавца</th>\n",
       "      <th>Продавец</th>\n",
       "      <th>Ссылка на продавца</th>\n",
       "      <th>Завершённых объявлений</th>\n",
       "      <th>file_name</th>\n",
       "      <th>city</th>\n",
       "    </tr>\n",
       "  </thead>\n",
       "  <tbody>\n",
       "    <tr>\n",
       "      <th>5566</th>\n",
       "      <td>https://www.avito.ru/chelyabinsk/kvartiry/2-k....</td>\n",
       "      <td>2-к. квартира, 49 м², 7/23 эт.</td>\n",
       "      <td>2-к. квартира</td>\n",
       "      <td>49 м²</td>\n",
       "      <td>7/23 эт.</td>\n",
       "      <td>4600000</td>\n",
       "      <td>93878</td>\n",
       "      <td>NaN</td>\n",
       "      <td>р-н Советский</td>\n",
       "      <td>Челябинск, улица Елькина, 91</td>\n",
       "      <td>13 часов назад</td>\n",
       "      <td>Агентство</td>\n",
       "      <td>АН \"Парк квартир\"</td>\n",
       "      <td>https://www.avito.ru/user/0bff4d90b501dbe284bd...</td>\n",
       "      <td>NaN</td>\n",
       "      <td>26-02-23 (без дублей)</td>\n",
       "      <td>chelyabinsk</td>\n",
       "    </tr>\n",
       "    <tr>\n",
       "      <th>5567</th>\n",
       "      <td>https://www.avito.ru/chelyabinsk/kvartiry/2-k....</td>\n",
       "      <td>2-к. квартира, 44,2 м², 3/5 эт.</td>\n",
       "      <td>2-к. квартира</td>\n",
       "      <td>44,2 м²</td>\n",
       "      <td>3/5 эт.</td>\n",
       "      <td>2650000</td>\n",
       "      <td>59955</td>\n",
       "      <td>NaN</td>\n",
       "      <td>р-н Центральный</td>\n",
       "      <td>ул. Либкнехта, 22</td>\n",
       "      <td>2 дня назад</td>\n",
       "      <td>Частное лицо</td>\n",
       "      <td>NaN</td>\n",
       "      <td>NaN</td>\n",
       "      <td>NaN</td>\n",
       "      <td>26-02-23 (без дублей)</td>\n",
       "      <td>chelyabinsk</td>\n",
       "    </tr>\n",
       "    <tr>\n",
       "      <th>5568</th>\n",
       "      <td>https://www.avito.ru/chelyabinsk/kvartiry/2-k....</td>\n",
       "      <td>2-к. квартира, 53,5 м², 5/5 эт.</td>\n",
       "      <td>2-к. квартира</td>\n",
       "      <td>53,5 м²</td>\n",
       "      <td>5/5 эт.</td>\n",
       "      <td>3300000</td>\n",
       "      <td>61682</td>\n",
       "      <td>NaN</td>\n",
       "      <td>р-н Курчатовский</td>\n",
       "      <td>Комсомольский пр-т, 30А</td>\n",
       "      <td>1 час назад</td>\n",
       "      <td>Частное лицо</td>\n",
       "      <td>NaN</td>\n",
       "      <td>NaN</td>\n",
       "      <td>NaN</td>\n",
       "      <td>26-02-23 (без дублей)</td>\n",
       "      <td>chelyabinsk</td>\n",
       "    </tr>\n",
       "    <tr>\n",
       "      <th>5569</th>\n",
       "      <td>https://www.avito.ru/chelyabinsk/kvartiry/2-k....</td>\n",
       "      <td>2-к. квартира, 41,7 м², 1/5 эт.</td>\n",
       "      <td>2-к. квартира</td>\n",
       "      <td>41,7 м²</td>\n",
       "      <td>1/5 эт.</td>\n",
       "      <td>2300000</td>\n",
       "      <td>55156</td>\n",
       "      <td>NaN</td>\n",
       "      <td>р-н Ленинский</td>\n",
       "      <td>Новороссийская ул., 140А</td>\n",
       "      <td>1 день назад</td>\n",
       "      <td>Частное лицо</td>\n",
       "      <td>NaN</td>\n",
       "      <td>NaN</td>\n",
       "      <td>NaN</td>\n",
       "      <td>26-02-23 (без дублей)</td>\n",
       "      <td>chelyabinsk</td>\n",
       "    </tr>\n",
       "    <tr>\n",
       "      <th>5571</th>\n",
       "      <td>https://www.avito.ru/chelyabinsk/kvartiry/2-k....</td>\n",
       "      <td>2-к. квартира, 56,1 м², 3/20 эт.</td>\n",
       "      <td>2-к. квартира</td>\n",
       "      <td>56,1 м²</td>\n",
       "      <td>3/20 эт.</td>\n",
       "      <td>3999000</td>\n",
       "      <td>71283</td>\n",
       "      <td>NaN</td>\n",
       "      <td>Челябинск</td>\n",
       "      <td>ул. Братьев Кашириных, стр. 46</td>\n",
       "      <td>29 минут назад</td>\n",
       "      <td>Частное лицо</td>\n",
       "      <td>NaN</td>\n",
       "      <td>NaN</td>\n",
       "      <td>NaN</td>\n",
       "      <td>26-02-23 (без дублей)</td>\n",
       "      <td>chelyabinsk</td>\n",
       "    </tr>\n",
       "    <tr>\n",
       "      <th>...</th>\n",
       "      <td>...</td>\n",
       "      <td>...</td>\n",
       "      <td>...</td>\n",
       "      <td>...</td>\n",
       "      <td>...</td>\n",
       "      <td>...</td>\n",
       "      <td>...</td>\n",
       "      <td>...</td>\n",
       "      <td>...</td>\n",
       "      <td>...</td>\n",
       "      <td>...</td>\n",
       "      <td>...</td>\n",
       "      <td>...</td>\n",
       "      <td>...</td>\n",
       "      <td>...</td>\n",
       "      <td>...</td>\n",
       "      <td>...</td>\n",
       "    </tr>\n",
       "    <tr>\n",
       "      <th>115250</th>\n",
       "      <td>https://www.avito.ru/chelyabinsk/kvartiry/kvar...</td>\n",
       "      <td>Квартира-студия, 29 м², 6/16 эт.</td>\n",
       "      <td>Квартира-студия</td>\n",
       "      <td>29 м²</td>\n",
       "      <td>6/16 эт.</td>\n",
       "      <td>4159696</td>\n",
       "      <td>143438</td>\n",
       "      <td>Девелоперская компания «Весна»</td>\n",
       "      <td>р-н Центральный</td>\n",
       "      <td>ул. Тернопольская, д. 6</td>\n",
       "      <td>29 января 11:30</td>\n",
       "      <td>Застройщик</td>\n",
       "      <td>Девелоперская компания «Весна»</td>\n",
       "      <td>https://www.avito.ru/user/b6dce765b93454fcee0e...</td>\n",
       "      <td>NaN</td>\n",
       "      <td>26-02-23 (без дублей)</td>\n",
       "      <td>chelyabinsk</td>\n",
       "    </tr>\n",
       "    <tr>\n",
       "      <th>115251</th>\n",
       "      <td>https://www.avito.ru/chelyabinsk/kvartiry/kvar...</td>\n",
       "      <td>Квартира-студия, 29 м², 8/16 эт.</td>\n",
       "      <td>Квартира-студия</td>\n",
       "      <td>29 м²</td>\n",
       "      <td>8/16 эт.</td>\n",
       "      <td>4159696</td>\n",
       "      <td>143438</td>\n",
       "      <td>Девелоперская компания «Весна»</td>\n",
       "      <td>р-н Центральный</td>\n",
       "      <td>ул. Тернопольская, д. 6</td>\n",
       "      <td>3 недели назад</td>\n",
       "      <td>Застройщик</td>\n",
       "      <td>Девелоперская компания «Весна»</td>\n",
       "      <td>https://www.avito.ru/user/b6dce765b93454fcee0e...</td>\n",
       "      <td>NaN</td>\n",
       "      <td>26-02-23 (без дублей)</td>\n",
       "      <td>chelyabinsk</td>\n",
       "    </tr>\n",
       "    <tr>\n",
       "      <th>115252</th>\n",
       "      <td>https://www.avito.ru/chelyabinsk/kvartiry/kvar...</td>\n",
       "      <td>Квартира-студия, 30 м², 7/32 эт.</td>\n",
       "      <td>Квартира-студия</td>\n",
       "      <td>30 м²</td>\n",
       "      <td>7/32 эт.</td>\n",
       "      <td>4958300</td>\n",
       "      <td>165277</td>\n",
       "      <td>NaN</td>\n",
       "      <td>р-н Центральный</td>\n",
       "      <td>пр-т Ленина/Свердловского/ул. Володарского, д....</td>\n",
       "      <td>1 неделю назад</td>\n",
       "      <td>Агентство</td>\n",
       "      <td>АН \"Парк квартир\"</td>\n",
       "      <td>https://www.avito.ru/user/0bff4d90b501dbe284bd...</td>\n",
       "      <td>739</td>\n",
       "      <td>26-02-23 (без дублей)</td>\n",
       "      <td>chelyabinsk</td>\n",
       "    </tr>\n",
       "    <tr>\n",
       "      <th>115253</th>\n",
       "      <td>https://www.avito.ru/chelyabinsk/kvartiry/kvar...</td>\n",
       "      <td>Квартира-студия, 30 м², 13/29 эт.</td>\n",
       "      <td>Квартира-студия</td>\n",
       "      <td>30 м²</td>\n",
       "      <td>13/29 эт.</td>\n",
       "      <td>5096800</td>\n",
       "      <td>169893</td>\n",
       "      <td>NaN</td>\n",
       "      <td>р-н Центральный</td>\n",
       "      <td>пр-т Ленина/Свердловского/ул. Володарского, д....</td>\n",
       "      <td>2 недели назад</td>\n",
       "      <td>Агентство</td>\n",
       "      <td>АН \"Парк квартир\"</td>\n",
       "      <td>https://www.avito.ru/user/0bff4d90b501dbe284bd...</td>\n",
       "      <td>739</td>\n",
       "      <td>26-02-23 (без дублей)</td>\n",
       "      <td>chelyabinsk</td>\n",
       "    </tr>\n",
       "    <tr>\n",
       "      <th>115254</th>\n",
       "      <td>https://www.avito.ru/chelyabinsk/kvartiry/kvar...</td>\n",
       "      <td>Квартира-студия, 30 м², 15/29 эт.</td>\n",
       "      <td>Квартира-студия</td>\n",
       "      <td>30 м²</td>\n",
       "      <td>15/29 эт.</td>\n",
       "      <td>5096800</td>\n",
       "      <td>169893</td>\n",
       "      <td>NaN</td>\n",
       "      <td>р-н Центральный</td>\n",
       "      <td>пр-т Ленина/Свердловского/ул. Володарского, д....</td>\n",
       "      <td>2 недели назад</td>\n",
       "      <td>Агентство</td>\n",
       "      <td>АН \"Парк квартир\"</td>\n",
       "      <td>https://www.avito.ru/user/0bff4d90b501dbe284bd...</td>\n",
       "      <td>739</td>\n",
       "      <td>26-02-23 (без дублей)</td>\n",
       "      <td>chelyabinsk</td>\n",
       "    </tr>\n",
       "  </tbody>\n",
       "</table>\n",
       "<p>6339 rows × 17 columns</p>\n",
       "</div>"
      ],
      "text/plain": [
       "                                                   Ссылка  \\\n",
       "5566    https://www.avito.ru/chelyabinsk/kvartiry/2-k....   \n",
       "5567    https://www.avito.ru/chelyabinsk/kvartiry/2-k....   \n",
       "5568    https://www.avito.ru/chelyabinsk/kvartiry/2-k....   \n",
       "5569    https://www.avito.ru/chelyabinsk/kvartiry/2-k....   \n",
       "5571    https://www.avito.ru/chelyabinsk/kvartiry/2-k....   \n",
       "...                                                   ...   \n",
       "115250  https://www.avito.ru/chelyabinsk/kvartiry/kvar...   \n",
       "115251  https://www.avito.ru/chelyabinsk/kvartiry/kvar...   \n",
       "115252  https://www.avito.ru/chelyabinsk/kvartiry/kvar...   \n",
       "115253  https://www.avito.ru/chelyabinsk/kvartiry/kvar...   \n",
       "115254  https://www.avito.ru/chelyabinsk/kvartiry/kvar...   \n",
       "\n",
       "                                Заголовок           Комнат  Площадь  \\\n",
       "5566       2-к. квартира, 49 м², 7/23 эт.    2-к. квартира    49 м²   \n",
       "5567      2-к. квартира, 44,2 м², 3/5 эт.    2-к. квартира  44,2 м²   \n",
       "5568      2-к. квартира, 53,5 м², 5/5 эт.    2-к. квартира  53,5 м²   \n",
       "5569      2-к. квартира, 41,7 м², 1/5 эт.    2-к. квартира  41,7 м²   \n",
       "5571     2-к. квартира, 56,1 м², 3/20 эт.    2-к. квартира  56,1 м²   \n",
       "...                                   ...              ...      ...   \n",
       "115250   Квартира-студия, 29 м², 6/16 эт.  Квартира-студия    29 м²   \n",
       "115251   Квартира-студия, 29 м², 8/16 эт.  Квартира-студия    29 м²   \n",
       "115252   Квартира-студия, 30 м², 7/32 эт.  Квартира-студия    30 м²   \n",
       "115253  Квартира-студия, 30 м², 13/29 эт.  Квартира-студия    30 м²   \n",
       "115254  Квартира-студия, 30 м², 15/29 эт.  Квартира-студия    30 м²   \n",
       "\n",
       "             Этаж     Цена  Цена за м2                     Название жк  \\\n",
       "5566     7/23 эт.  4600000       93878                             NaN   \n",
       "5567      3/5 эт.  2650000       59955                             NaN   \n",
       "5568      5/5 эт.  3300000       61682                             NaN   \n",
       "5569      1/5 эт.  2300000       55156                             NaN   \n",
       "5571     3/20 эт.  3999000       71283                             NaN   \n",
       "...           ...      ...         ...                             ...   \n",
       "115250   6/16 эт.  4159696      143438  Девелоперская компания «Весна»   \n",
       "115251   8/16 эт.  4159696      143438  Девелоперская компания «Весна»   \n",
       "115252   7/32 эт.  4958300      165277                             NaN   \n",
       "115253  13/29 эт.  5096800      169893                             NaN   \n",
       "115254  15/29 эт.  5096800      169893                             NaN   \n",
       "\n",
       "                   Район                                              Улица  \\\n",
       "5566       р-н Советский                       Челябинск, улица Елькина, 91   \n",
       "5567     р-н Центральный                                  ул. Либкнехта, 22   \n",
       "5568    р-н Курчатовский                            Комсомольский пр-т, 30А   \n",
       "5569       р-н Ленинский                           Новороссийская ул., 140А   \n",
       "5571           Челябинск                     ул. Братьев Кашириных, стр. 46   \n",
       "...                  ...                                                ...   \n",
       "115250   р-н Центральный                            ул. Тернопольская, д. 6   \n",
       "115251   р-н Центральный                            ул. Тернопольская, д. 6   \n",
       "115252   р-н Центральный  пр-т Ленина/Свердловского/ул. Володарского, д....   \n",
       "115253   р-н Центральный  пр-т Ленина/Свердловского/ул. Володарского, д....   \n",
       "115254   р-н Центральный  пр-т Ленина/Свердловского/ул. Володарского, д....   \n",
       "\n",
       "        Дата публикации  Тип продавца                        Продавец  \\\n",
       "5566     13 часов назад     Агентство               АН \"Парк квартир\"   \n",
       "5567        2 дня назад  Частное лицо                             NaN   \n",
       "5568        1 час назад  Частное лицо                             NaN   \n",
       "5569       1 день назад  Частное лицо                             NaN   \n",
       "5571     29 минут назад  Частное лицо                             NaN   \n",
       "...                 ...           ...                             ...   \n",
       "115250  29 января 11:30    Застройщик  Девелоперская компания «Весна»   \n",
       "115251   3 недели назад    Застройщик  Девелоперская компания «Весна»   \n",
       "115252   1 неделю назад     Агентство               АН \"Парк квартир\"   \n",
       "115253   2 недели назад     Агентство               АН \"Парк квартир\"   \n",
       "115254   2 недели назад     Агентство               АН \"Парк квартир\"   \n",
       "\n",
       "                                       Ссылка на продавца  \\\n",
       "5566    https://www.avito.ru/user/0bff4d90b501dbe284bd...   \n",
       "5567                                                  NaN   \n",
       "5568                                                  NaN   \n",
       "5569                                                  NaN   \n",
       "5571                                                  NaN   \n",
       "...                                                   ...   \n",
       "115250  https://www.avito.ru/user/b6dce765b93454fcee0e...   \n",
       "115251  https://www.avito.ru/user/b6dce765b93454fcee0e...   \n",
       "115252  https://www.avito.ru/user/0bff4d90b501dbe284bd...   \n",
       "115253  https://www.avito.ru/user/0bff4d90b501dbe284bd...   \n",
       "115254  https://www.avito.ru/user/0bff4d90b501dbe284bd...   \n",
       "\n",
       "       Завершённых объявлений              file_name         city  \n",
       "5566                      NaN  26-02-23 (без дублей)  chelyabinsk  \n",
       "5567                      NaN  26-02-23 (без дублей)  chelyabinsk  \n",
       "5568                      NaN  26-02-23 (без дублей)  chelyabinsk  \n",
       "5569                      NaN  26-02-23 (без дублей)  chelyabinsk  \n",
       "5571                      NaN  26-02-23 (без дублей)  chelyabinsk  \n",
       "...                       ...                    ...          ...  \n",
       "115250                    NaN  26-02-23 (без дублей)  chelyabinsk  \n",
       "115251                    NaN  26-02-23 (без дублей)  chelyabinsk  \n",
       "115252                    739  26-02-23 (без дублей)  chelyabinsk  \n",
       "115253                    739  26-02-23 (без дублей)  chelyabinsk  \n",
       "115254                    739  26-02-23 (без дублей)  chelyabinsk  \n",
       "\n",
       "[6339 rows x 17 columns]"
      ]
     },
     "execution_count": 25,
     "metadata": {},
     "output_type": "execute_result"
    }
   ],
   "source": [
    "f24[(f24.city == 'chelyabinsk') & (~f24['Район'].isnull())]"
   ]
  },
  {
   "cell_type": "code",
   "execution_count": 21,
   "id": "911d9eb9",
   "metadata": {},
   "outputs": [
    {
     "data": {
      "text/plain": [
       "array(['р-н Советский', 'р-н Центральный', 'р-н Курчатовский',\n",
       "       'р-н Ленинский', nan, 'Челябинск', 'р-н Металлургический',\n",
       "       'р-н Калининский', 'р-н Тракторозаводский'], dtype=object)"
      ]
     },
     "execution_count": 21,
     "metadata": {},
     "output_type": "execute_result"
    }
   ],
   "source": [
    "f24[f24.city == 'chelyabinsk']['Район'].unique()"
   ]
  },
  {
   "cell_type": "code",
   "execution_count": null,
   "id": "8819bb62",
   "metadata": {},
   "outputs": [],
   "source": []
  },
  {
   "cell_type": "code",
   "execution_count": null,
   "id": "98af4b9c",
   "metadata": {},
   "outputs": [],
   "source": []
  },
  {
   "cell_type": "code",
   "execution_count": 75,
   "id": "281392b3",
   "metadata": {},
   "outputs": [
    {
     "data": {
      "text/plain": [
       "['https:', '', 'www.avito.ru', 'tomsk', 'kvartiry', '3-k._kvart']"
      ]
     },
     "execution_count": 75,
     "metadata": {},
     "output_type": "execute_result"
    }
   ],
   "source": [
    "'https://www.avito.ru/tomsk/kvartiry/3-k._kvart'.split('/')"
   ]
  },
  {
   "cell_type": "code",
   "execution_count": 73,
   "id": "d3f5ae8a",
   "metadata": {},
   "outputs": [
    {
     "data": {
      "text/html": [
       "<div>\n",
       "<style scoped>\n",
       "    .dataframe tbody tr th:only-of-type {\n",
       "        vertical-align: middle;\n",
       "    }\n",
       "\n",
       "    .dataframe tbody tr th {\n",
       "        vertical-align: top;\n",
       "    }\n",
       "\n",
       "    .dataframe thead th {\n",
       "        text-align: right;\n",
       "    }\n",
       "</style>\n",
       "<table border=\"1\" class=\"dataframe\">\n",
       "  <thead>\n",
       "    <tr style=\"text-align: right;\">\n",
       "      <th></th>\n",
       "      <th>Ссылка</th>\n",
       "      <th>Заголовок</th>\n",
       "      <th>Комнат</th>\n",
       "      <th>Площадь</th>\n",
       "      <th>Этаж</th>\n",
       "      <th>Цена</th>\n",
       "      <th>Цена за м2</th>\n",
       "      <th>Название жк</th>\n",
       "      <th>Район</th>\n",
       "      <th>Улица</th>\n",
       "      <th>Дата публикации</th>\n",
       "      <th>Тип продавца</th>\n",
       "      <th>Продавец</th>\n",
       "      <th>Ссылка на продавца</th>\n",
       "      <th>Завершённых объявлений</th>\n",
       "      <th>file_name</th>\n",
       "    </tr>\n",
       "  </thead>\n",
       "  <tbody>\n",
       "    <tr>\n",
       "      <th>0</th>\n",
       "      <td>https://www.avito.ru/tomsk/kvartiry/3-k._kvart...</td>\n",
       "      <td>3-к. квартира, 40,3 м², 2/2 эт.</td>\n",
       "      <td>3-к. квартира</td>\n",
       "      <td>40,3 м²</td>\n",
       "      <td>2/2 эт.</td>\n",
       "      <td>3300000</td>\n",
       "      <td>81886</td>\n",
       "      <td>NaN</td>\n",
       "      <td>р-н Кировский</td>\n",
       "      <td>Предвокзальная ул., 47</td>\n",
       "      <td>3 часа назад</td>\n",
       "      <td>Агентство</td>\n",
       "      <td>Агентство недвижимости \"NOVA\"</td>\n",
       "      <td>https://www.avito.ru/user/da36df070cc701954bbb...</td>\n",
       "      <td>848</td>\n",
       "      <td>24-02-23 (без дублей)</td>\n",
       "    </tr>\n",
       "    <tr>\n",
       "      <th>1</th>\n",
       "      <td>https://www.avito.ru/tomsk/kvartiry/1-k._kvart...</td>\n",
       "      <td>1-к. квартира, 40 м², 10/12 эт.</td>\n",
       "      <td>1-к. квартира</td>\n",
       "      <td>40 м²</td>\n",
       "      <td>10/12 эт.</td>\n",
       "      <td>3300000</td>\n",
       "      <td>82500</td>\n",
       "      <td>NaN</td>\n",
       "      <td>р-н Октябрьский</td>\n",
       "      <td>ул. Ивановского, 20</td>\n",
       "      <td>5 часов назад</td>\n",
       "      <td>Агентство</td>\n",
       "      <td>Агентство недвижимости \"NOVA\"</td>\n",
       "      <td>https://www.avito.ru/user/da36df070cc701954bbb...</td>\n",
       "      <td>848</td>\n",
       "      <td>24-02-23 (без дублей)</td>\n",
       "    </tr>\n",
       "    <tr>\n",
       "      <th>2</th>\n",
       "      <td>https://www.avito.ru/tomsk/kvartiry/2-k._kvart...</td>\n",
       "      <td>2-к. квартира, 25,3 м², 5/5 эт.</td>\n",
       "      <td>2-к. квартира</td>\n",
       "      <td>25,3 м²</td>\n",
       "      <td>5/5 эт.</td>\n",
       "      <td>2240000</td>\n",
       "      <td>88538</td>\n",
       "      <td>NaN</td>\n",
       "      <td>р-н Советский</td>\n",
       "      <td>Алтайская ул., 159</td>\n",
       "      <td>1 час назад</td>\n",
       "      <td>Агентство</td>\n",
       "      <td>гостинка</td>\n",
       "      <td>https://www.avito.ru/user/fb3b0446b79d3d597d1f...</td>\n",
       "      <td>47</td>\n",
       "      <td>24-02-23 (без дублей)</td>\n",
       "    </tr>\n",
       "    <tr>\n",
       "      <th>3</th>\n",
       "      <td>https://www.avito.ru/tomsk/kvartiry/1-k._kvart...</td>\n",
       "      <td>1-к. квартира, 38 м², 5/9 эт.</td>\n",
       "      <td>1-к. квартира</td>\n",
       "      <td>38 м²</td>\n",
       "      <td>5/9 эт.</td>\n",
       "      <td>4600000</td>\n",
       "      <td>121053</td>\n",
       "      <td>NaN</td>\n",
       "      <td>р-н Октябрьский</td>\n",
       "      <td>Томск, улица Северный Городок, 44</td>\n",
       "      <td>37 минут назад</td>\n",
       "      <td>Частное лицо</td>\n",
       "      <td>NaN</td>\n",
       "      <td>NaN</td>\n",
       "      <td>NaN</td>\n",
       "      <td>24-02-23 (без дублей)</td>\n",
       "    </tr>\n",
       "    <tr>\n",
       "      <th>4</th>\n",
       "      <td>https://www.avito.ru/tomsk/kvartiry/4-k._kvart...</td>\n",
       "      <td>4-к. квартира, 63 м², 2/5 эт.</td>\n",
       "      <td>4-к. квартира</td>\n",
       "      <td>63 м²</td>\n",
       "      <td>2/5 эт.</td>\n",
       "      <td>4600000</td>\n",
       "      <td>73016</td>\n",
       "      <td>NaN</td>\n",
       "      <td>р-н Октябрьский</td>\n",
       "      <td>ул. Сергея Лазо, 10</td>\n",
       "      <td>3 часа назад</td>\n",
       "      <td>Частное лицо</td>\n",
       "      <td>NaN</td>\n",
       "      <td>NaN</td>\n",
       "      <td>NaN</td>\n",
       "      <td>24-02-23 (без дублей)</td>\n",
       "    </tr>\n",
       "    <tr>\n",
       "      <th>...</th>\n",
       "      <td>...</td>\n",
       "      <td>...</td>\n",
       "      <td>...</td>\n",
       "      <td>...</td>\n",
       "      <td>...</td>\n",
       "      <td>...</td>\n",
       "      <td>...</td>\n",
       "      <td>...</td>\n",
       "      <td>...</td>\n",
       "      <td>...</td>\n",
       "      <td>...</td>\n",
       "      <td>...</td>\n",
       "      <td>...</td>\n",
       "      <td>...</td>\n",
       "      <td>...</td>\n",
       "      <td>...</td>\n",
       "    </tr>\n",
       "    <tr>\n",
       "      <th>119697</th>\n",
       "      <td>https://www.avito.ru/krasnodar/kvartiry/2-k._k...</td>\n",
       "      <td>2-к. квартира, 67 м², 5/24 эт.</td>\n",
       "      <td>2-к. квартира</td>\n",
       "      <td>67 м²</td>\n",
       "      <td>5/24 эт.</td>\n",
       "      <td>7099818</td>\n",
       "      <td>105967</td>\n",
       "      <td>NaN</td>\n",
       "      <td>Краснодар</td>\n",
       "      <td>ул. Григория Булгакова, стр. 17</td>\n",
       "      <td>3 недели назад</td>\n",
       "      <td>Частное лицо</td>\n",
       "      <td>NaN</td>\n",
       "      <td>NaN</td>\n",
       "      <td>NaN</td>\n",
       "      <td>24-02-23 (без дублей)</td>\n",
       "    </tr>\n",
       "    <tr>\n",
       "      <th>119698</th>\n",
       "      <td>https://www.avito.ru/krasnodar/kvartiry/1-k._k...</td>\n",
       "      <td>1-к. квартира, 47,1 м², 4/23 эт.</td>\n",
       "      <td>1-к. квартира</td>\n",
       "      <td>47,1 м²</td>\n",
       "      <td>4/23 эт.</td>\n",
       "      <td>7093660</td>\n",
       "      <td>150608</td>\n",
       "      <td>ГК ТОЧНО</td>\n",
       "      <td>р-н Карасунский</td>\n",
       "      <td>ул. им. Мачуги В.Н., д. 166/2, лит. 1</td>\n",
       "      <td>2 недели назад</td>\n",
       "      <td>Застройщик</td>\n",
       "      <td>ГК ТОЧНО</td>\n",
       "      <td>https://www.avito.ru/user/8649074e3be0296abbef...</td>\n",
       "      <td>6666</td>\n",
       "      <td>24-02-23 (без дублей)</td>\n",
       "    </tr>\n",
       "    <tr>\n",
       "      <th>119699</th>\n",
       "      <td>https://www.avito.ru/krasnodar/kvartiry/2-k._k...</td>\n",
       "      <td>2-к. квартира, 57,1 м², 13/23 эт.</td>\n",
       "      <td>2-к. квартира</td>\n",
       "      <td>57,1 м²</td>\n",
       "      <td>13/23 эт.</td>\n",
       "      <td>7091820</td>\n",
       "      <td>124200</td>\n",
       "      <td>Федеральный девелопер «Неометрия»</td>\n",
       "      <td>р-н Прикубанский</td>\n",
       "      <td>ул. Конгрессная, стр. 2.2</td>\n",
       "      <td>1 неделю назад</td>\n",
       "      <td>Застройщик</td>\n",
       "      <td>Федеральный девелопер «Неометрия»</td>\n",
       "      <td>https://www.avito.ru/user/058dd90196cb35239155...</td>\n",
       "      <td>4165</td>\n",
       "      <td>24-02-23 (без дублей)</td>\n",
       "    </tr>\n",
       "    <tr>\n",
       "      <th>119700</th>\n",
       "      <td>https://www.avito.ru/krasnodar/kvartiry/2-k._k...</td>\n",
       "      <td>2-к. квартира, 57,1 м², 10/23 эт.</td>\n",
       "      <td>2-к. квартира</td>\n",
       "      <td>57,1 м²</td>\n",
       "      <td>10/23 эт.</td>\n",
       "      <td>7091820</td>\n",
       "      <td>124200</td>\n",
       "      <td>Федеральный девелопер «Неометрия»</td>\n",
       "      <td>р-н Прикубанский</td>\n",
       "      <td>ул. Конгрессная, стр. 1.2</td>\n",
       "      <td>2 недели назад</td>\n",
       "      <td>Застройщик</td>\n",
       "      <td>Федеральный девелопер «Неометрия»</td>\n",
       "      <td>https://www.avito.ru/user/058dd90196cb35239155...</td>\n",
       "      <td>4165</td>\n",
       "      <td>24-02-23 (без дублей)</td>\n",
       "    </tr>\n",
       "    <tr>\n",
       "      <th>119701</th>\n",
       "      <td>https://www.avito.ru/krasnodar/kvartiry/1-k._k...</td>\n",
       "      <td>1-к. квартира, 37 м², 11/25 эт.</td>\n",
       "      <td>1-к. квартира</td>\n",
       "      <td>37 м²</td>\n",
       "      <td>11/25 эт.</td>\n",
       "      <td>7091245</td>\n",
       "      <td>191655</td>\n",
       "      <td>AVA Group Инвестиционно-строительный холдинг</td>\n",
       "      <td>р-н Карасунский</td>\n",
       "      <td>ул. Уральская, д. 87/7</td>\n",
       "      <td>2 дня назад</td>\n",
       "      <td>Застройщик</td>\n",
       "      <td>AVA Group Инвестиционно-строительный холдинг</td>\n",
       "      <td>https://www.avito.ru/user/d832b08fa25c8604e7e8...</td>\n",
       "      <td>34018</td>\n",
       "      <td>24-02-23 (без дублей)</td>\n",
       "    </tr>\n",
       "  </tbody>\n",
       "</table>\n",
       "<p>119702 rows × 16 columns</p>\n",
       "</div>"
      ],
      "text/plain": [
       "                                                   Ссылка  \\\n",
       "0       https://www.avito.ru/tomsk/kvartiry/3-k._kvart...   \n",
       "1       https://www.avito.ru/tomsk/kvartiry/1-k._kvart...   \n",
       "2       https://www.avito.ru/tomsk/kvartiry/2-k._kvart...   \n",
       "3       https://www.avito.ru/tomsk/kvartiry/1-k._kvart...   \n",
       "4       https://www.avito.ru/tomsk/kvartiry/4-k._kvart...   \n",
       "...                                                   ...   \n",
       "119697  https://www.avito.ru/krasnodar/kvartiry/2-k._k...   \n",
       "119698  https://www.avito.ru/krasnodar/kvartiry/1-k._k...   \n",
       "119699  https://www.avito.ru/krasnodar/kvartiry/2-k._k...   \n",
       "119700  https://www.avito.ru/krasnodar/kvartiry/2-k._k...   \n",
       "119701  https://www.avito.ru/krasnodar/kvartiry/1-k._k...   \n",
       "\n",
       "                                Заголовок         Комнат  Площадь       Этаж  \\\n",
       "0         3-к. квартира, 40,3 м², 2/2 эт.  3-к. квартира  40,3 м²    2/2 эт.   \n",
       "1         1-к. квартира, 40 м², 10/12 эт.  1-к. квартира    40 м²  10/12 эт.   \n",
       "2         2-к. квартира, 25,3 м², 5/5 эт.  2-к. квартира  25,3 м²    5/5 эт.   \n",
       "3           1-к. квартира, 38 м², 5/9 эт.  1-к. квартира    38 м²    5/9 эт.   \n",
       "4           4-к. квартира, 63 м², 2/5 эт.  4-к. квартира    63 м²    2/5 эт.   \n",
       "...                                   ...            ...      ...        ...   \n",
       "119697     2-к. квартира, 67 м², 5/24 эт.  2-к. квартира    67 м²   5/24 эт.   \n",
       "119698   1-к. квартира, 47,1 м², 4/23 эт.  1-к. квартира  47,1 м²   4/23 эт.   \n",
       "119699  2-к. квартира, 57,1 м², 13/23 эт.  2-к. квартира  57,1 м²  13/23 эт.   \n",
       "119700  2-к. квартира, 57,1 м², 10/23 эт.  2-к. квартира  57,1 м²  10/23 эт.   \n",
       "119701    1-к. квартира, 37 м², 11/25 эт.  1-к. квартира    37 м²  11/25 эт.   \n",
       "\n",
       "           Цена  Цена за м2                                   Название жк  \\\n",
       "0       3300000       81886                                           NaN   \n",
       "1       3300000       82500                                           NaN   \n",
       "2       2240000       88538                                           NaN   \n",
       "3       4600000      121053                                           NaN   \n",
       "4       4600000       73016                                           NaN   \n",
       "...         ...         ...                                           ...   \n",
       "119697  7099818      105967                                           NaN   \n",
       "119698  7093660      150608                                      ГК ТОЧНО   \n",
       "119699  7091820      124200             Федеральный девелопер «Неометрия»   \n",
       "119700  7091820      124200             Федеральный девелопер «Неометрия»   \n",
       "119701  7091245      191655  AVA Group Инвестиционно-строительный холдинг   \n",
       "\n",
       "                   Район                                  Улица  \\\n",
       "0          р-н Кировский                 Предвокзальная ул., 47   \n",
       "1        р-н Октябрьский                    ул. Ивановского, 20   \n",
       "2          р-н Советский                     Алтайская ул., 159   \n",
       "3        р-н Октябрьский      Томск, улица Северный Городок, 44   \n",
       "4        р-н Октябрьский                    ул. Сергея Лазо, 10   \n",
       "...                  ...                                    ...   \n",
       "119697         Краснодар        ул. Григория Булгакова, стр. 17   \n",
       "119698   р-н Карасунский  ул. им. Мачуги В.Н., д. 166/2, лит. 1   \n",
       "119699  р-н Прикубанский              ул. Конгрессная, стр. 2.2   \n",
       "119700  р-н Прикубанский              ул. Конгрессная, стр. 1.2   \n",
       "119701   р-н Карасунский                 ул. Уральская, д. 87/7   \n",
       "\n",
       "       Дата публикации  Тип продавца  \\\n",
       "0         3 часа назад     Агентство   \n",
       "1        5 часов назад     Агентство   \n",
       "2          1 час назад     Агентство   \n",
       "3       37 минут назад  Частное лицо   \n",
       "4         3 часа назад  Частное лицо   \n",
       "...                ...           ...   \n",
       "119697  3 недели назад  Частное лицо   \n",
       "119698  2 недели назад    Застройщик   \n",
       "119699  1 неделю назад    Застройщик   \n",
       "119700  2 недели назад    Застройщик   \n",
       "119701     2 дня назад    Застройщик   \n",
       "\n",
       "                                            Продавец  \\\n",
       "0                      Агентство недвижимости \"NOVA\"   \n",
       "1                      Агентство недвижимости \"NOVA\"   \n",
       "2                                           гостинка   \n",
       "3                                                NaN   \n",
       "4                                                NaN   \n",
       "...                                              ...   \n",
       "119697                                           NaN   \n",
       "119698                                      ГК ТОЧНО   \n",
       "119699             Федеральный девелопер «Неометрия»   \n",
       "119700             Федеральный девелопер «Неометрия»   \n",
       "119701  AVA Group Инвестиционно-строительный холдинг   \n",
       "\n",
       "                                       Ссылка на продавца  \\\n",
       "0       https://www.avito.ru/user/da36df070cc701954bbb...   \n",
       "1       https://www.avito.ru/user/da36df070cc701954bbb...   \n",
       "2       https://www.avito.ru/user/fb3b0446b79d3d597d1f...   \n",
       "3                                                     NaN   \n",
       "4                                                     NaN   \n",
       "...                                                   ...   \n",
       "119697                                                NaN   \n",
       "119698  https://www.avito.ru/user/8649074e3be0296abbef...   \n",
       "119699  https://www.avito.ru/user/058dd90196cb35239155...   \n",
       "119700  https://www.avito.ru/user/058dd90196cb35239155...   \n",
       "119701  https://www.avito.ru/user/d832b08fa25c8604e7e8...   \n",
       "\n",
       "       Завершённых объявлений              file_name  \n",
       "0                         848  24-02-23 (без дублей)  \n",
       "1                         848  24-02-23 (без дублей)  \n",
       "2                          47  24-02-23 (без дублей)  \n",
       "3                         NaN  24-02-23 (без дублей)  \n",
       "4                         NaN  24-02-23 (без дублей)  \n",
       "...                       ...                    ...  \n",
       "119697                    NaN  24-02-23 (без дублей)  \n",
       "119698                   6666  24-02-23 (без дублей)  \n",
       "119699                   4165  24-02-23 (без дублей)  \n",
       "119700                   4165  24-02-23 (без дублей)  \n",
       "119701                  34018  24-02-23 (без дублей)  \n",
       "\n",
       "[119702 rows x 16 columns]"
      ]
     },
     "execution_count": 73,
     "metadata": {},
     "output_type": "execute_result"
    }
   ],
   "source": [
    "['platform']  = f24['Ссылка'].apply(lambda x: x.split('/'))"
   ]
  },
  {
   "cell_type": "code",
   "execution_count": 83,
   "id": "2fdd225e",
   "metadata": {},
   "outputs": [
    {
     "ename": "ParserError",
     "evalue": "Unknown string format: 24-02-23 (без дублей)",
     "output_type": "error",
     "traceback": [
      "\u001b[1;31m---------------------------------------------------------------------------\u001b[0m",
      "\u001b[1;31mTypeError\u001b[0m                                 Traceback (most recent call last)",
      "File \u001b[1;32m~\\AppData\\Roaming\\Python\\Python310\\site-packages\\pandas\\core\\arrays\\datetimes.py:2236\u001b[0m, in \u001b[0;36mobjects_to_datetime64ns\u001b[1;34m(data, dayfirst, yearfirst, utc, errors, require_iso8601, allow_object, allow_mixed)\u001b[0m\n\u001b[0;32m   2235\u001b[0m \u001b[38;5;28;01mtry\u001b[39;00m:\n\u001b[1;32m-> 2236\u001b[0m     values, tz_parsed \u001b[38;5;241m=\u001b[39m \u001b[43mconversion\u001b[49m\u001b[38;5;241;43m.\u001b[39;49m\u001b[43mdatetime_to_datetime64\u001b[49m\u001b[43m(\u001b[49m\u001b[43mdata\u001b[49m\u001b[38;5;241;43m.\u001b[39;49m\u001b[43mravel\u001b[49m\u001b[43m(\u001b[49m\u001b[38;5;124;43m\"\u001b[39;49m\u001b[38;5;124;43mK\u001b[39;49m\u001b[38;5;124;43m\"\u001b[39;49m\u001b[43m)\u001b[49m\u001b[43m)\u001b[49m\n\u001b[0;32m   2237\u001b[0m     \u001b[38;5;66;03m# If tzaware, these values represent unix timestamps, so we\u001b[39;00m\n\u001b[0;32m   2238\u001b[0m     \u001b[38;5;66;03m#  return them as i8 to distinguish from wall times\u001b[39;00m\n",
      "File \u001b[1;32m~\\AppData\\Roaming\\Python\\Python310\\site-packages\\pandas\\_libs\\tslibs\\conversion.pyx:360\u001b[0m, in \u001b[0;36mpandas._libs.tslibs.conversion.datetime_to_datetime64\u001b[1;34m()\u001b[0m\n",
      "\u001b[1;31mTypeError\u001b[0m: Unrecognized value type: <class 'str'>",
      "\nDuring handling of the above exception, another exception occurred:\n",
      "\u001b[1;31mParserError\u001b[0m                               Traceback (most recent call last)",
      "Cell \u001b[1;32mIn [83], line 1\u001b[0m\n\u001b[1;32m----> 1\u001b[0m \u001b[43mpd\u001b[49m\u001b[38;5;241;43m.\u001b[39;49m\u001b[43mto_datetime\u001b[49m\u001b[43m(\u001b[49m\u001b[43mf24\u001b[49m\u001b[43m[\u001b[49m\u001b[38;5;124;43m'\u001b[39;49m\u001b[38;5;124;43mfile_name\u001b[39;49m\u001b[38;5;124;43m'\u001b[39;49m\u001b[43m]\u001b[49m\u001b[43m)\u001b[49m\n",
      "File \u001b[1;32m~\\AppData\\Roaming\\Python\\Python310\\site-packages\\pandas\\core\\tools\\datetimes.py:1047\u001b[0m, in \u001b[0;36mto_datetime\u001b[1;34m(arg, errors, dayfirst, yearfirst, utc, format, exact, unit, infer_datetime_format, origin, cache)\u001b[0m\n\u001b[0;32m   1045\u001b[0m             result \u001b[38;5;241m=\u001b[39m arg\u001b[38;5;241m.\u001b[39mtz_localize(tz)\n\u001b[0;32m   1046\u001b[0m \u001b[38;5;28;01melif\u001b[39;00m \u001b[38;5;28misinstance\u001b[39m(arg, ABCSeries):\n\u001b[1;32m-> 1047\u001b[0m     cache_array \u001b[38;5;241m=\u001b[39m \u001b[43m_maybe_cache\u001b[49m\u001b[43m(\u001b[49m\u001b[43marg\u001b[49m\u001b[43m,\u001b[49m\u001b[43m \u001b[49m\u001b[38;5;28;43mformat\u001b[39;49m\u001b[43m,\u001b[49m\u001b[43m \u001b[49m\u001b[43mcache\u001b[49m\u001b[43m,\u001b[49m\u001b[43m \u001b[49m\u001b[43mconvert_listlike\u001b[49m\u001b[43m)\u001b[49m\n\u001b[0;32m   1048\u001b[0m     \u001b[38;5;28;01mif\u001b[39;00m \u001b[38;5;129;01mnot\u001b[39;00m cache_array\u001b[38;5;241m.\u001b[39mempty:\n\u001b[0;32m   1049\u001b[0m         result \u001b[38;5;241m=\u001b[39m arg\u001b[38;5;241m.\u001b[39mmap(cache_array)\n",
      "File \u001b[1;32m~\\AppData\\Roaming\\Python\\Python310\\site-packages\\pandas\\core\\tools\\datetimes.py:197\u001b[0m, in \u001b[0;36m_maybe_cache\u001b[1;34m(arg, format, cache, convert_listlike)\u001b[0m\n\u001b[0;32m    195\u001b[0m unique_dates \u001b[38;5;241m=\u001b[39m unique(arg)\n\u001b[0;32m    196\u001b[0m \u001b[38;5;28;01mif\u001b[39;00m \u001b[38;5;28mlen\u001b[39m(unique_dates) \u001b[38;5;241m<\u001b[39m \u001b[38;5;28mlen\u001b[39m(arg):\n\u001b[1;32m--> 197\u001b[0m     cache_dates \u001b[38;5;241m=\u001b[39m \u001b[43mconvert_listlike\u001b[49m\u001b[43m(\u001b[49m\u001b[43munique_dates\u001b[49m\u001b[43m,\u001b[49m\u001b[43m \u001b[49m\u001b[38;5;28;43mformat\u001b[39;49m\u001b[43m)\u001b[49m\n\u001b[0;32m    198\u001b[0m     cache_array \u001b[38;5;241m=\u001b[39m Series(cache_dates, index\u001b[38;5;241m=\u001b[39munique_dates)\n\u001b[0;32m    199\u001b[0m     \u001b[38;5;66;03m# GH#39882 and GH#35888 in case of None and NaT we get duplicates\u001b[39;00m\n",
      "File \u001b[1;32m~\\AppData\\Roaming\\Python\\Python310\\site-packages\\pandas\\core\\tools\\datetimes.py:402\u001b[0m, in \u001b[0;36m_convert_listlike_datetimes\u001b[1;34m(arg, format, name, tz, unit, errors, infer_datetime_format, dayfirst, yearfirst, exact)\u001b[0m\n\u001b[0;32m    400\u001b[0m \u001b[38;5;28;01massert\u001b[39;00m \u001b[38;5;28mformat\u001b[39m \u001b[38;5;129;01mis\u001b[39;00m \u001b[38;5;28;01mNone\u001b[39;00m \u001b[38;5;129;01mor\u001b[39;00m infer_datetime_format\n\u001b[0;32m    401\u001b[0m utc \u001b[38;5;241m=\u001b[39m tz \u001b[38;5;241m==\u001b[39m \u001b[38;5;124m\"\u001b[39m\u001b[38;5;124mutc\u001b[39m\u001b[38;5;124m\"\u001b[39m\n\u001b[1;32m--> 402\u001b[0m result, tz_parsed \u001b[38;5;241m=\u001b[39m \u001b[43mobjects_to_datetime64ns\u001b[49m\u001b[43m(\u001b[49m\n\u001b[0;32m    403\u001b[0m \u001b[43m    \u001b[49m\u001b[43marg\u001b[49m\u001b[43m,\u001b[49m\n\u001b[0;32m    404\u001b[0m \u001b[43m    \u001b[49m\u001b[43mdayfirst\u001b[49m\u001b[38;5;241;43m=\u001b[39;49m\u001b[43mdayfirst\u001b[49m\u001b[43m,\u001b[49m\n\u001b[0;32m    405\u001b[0m \u001b[43m    \u001b[49m\u001b[43myearfirst\u001b[49m\u001b[38;5;241;43m=\u001b[39;49m\u001b[43myearfirst\u001b[49m\u001b[43m,\u001b[49m\n\u001b[0;32m    406\u001b[0m \u001b[43m    \u001b[49m\u001b[43mutc\u001b[49m\u001b[38;5;241;43m=\u001b[39;49m\u001b[43mutc\u001b[49m\u001b[43m,\u001b[49m\n\u001b[0;32m    407\u001b[0m \u001b[43m    \u001b[49m\u001b[43merrors\u001b[49m\u001b[38;5;241;43m=\u001b[39;49m\u001b[43merrors\u001b[49m\u001b[43m,\u001b[49m\n\u001b[0;32m    408\u001b[0m \u001b[43m    \u001b[49m\u001b[43mrequire_iso8601\u001b[49m\u001b[38;5;241;43m=\u001b[39;49m\u001b[43mrequire_iso8601\u001b[49m\u001b[43m,\u001b[49m\n\u001b[0;32m    409\u001b[0m \u001b[43m    \u001b[49m\u001b[43mallow_object\u001b[49m\u001b[38;5;241;43m=\u001b[39;49m\u001b[38;5;28;43;01mTrue\u001b[39;49;00m\u001b[43m,\u001b[49m\n\u001b[0;32m    410\u001b[0m \u001b[43m\u001b[49m\u001b[43m)\u001b[49m\n\u001b[0;32m    412\u001b[0m \u001b[38;5;28;01mif\u001b[39;00m tz_parsed \u001b[38;5;129;01mis\u001b[39;00m \u001b[38;5;129;01mnot\u001b[39;00m \u001b[38;5;28;01mNone\u001b[39;00m:\n\u001b[0;32m    413\u001b[0m     \u001b[38;5;66;03m# We can take a shortcut since the datetime64 numpy array\u001b[39;00m\n\u001b[0;32m    414\u001b[0m     \u001b[38;5;66;03m# is in UTC\u001b[39;00m\n\u001b[0;32m    415\u001b[0m     dta \u001b[38;5;241m=\u001b[39m DatetimeArray(result, dtype\u001b[38;5;241m=\u001b[39mtz_to_dtype(tz_parsed))\n",
      "File \u001b[1;32m~\\AppData\\Roaming\\Python\\Python310\\site-packages\\pandas\\core\\arrays\\datetimes.py:2242\u001b[0m, in \u001b[0;36mobjects_to_datetime64ns\u001b[1;34m(data, dayfirst, yearfirst, utc, errors, require_iso8601, allow_object, allow_mixed)\u001b[0m\n\u001b[0;32m   2240\u001b[0m         \u001b[38;5;28;01mreturn\u001b[39;00m values\u001b[38;5;241m.\u001b[39mview(\u001b[38;5;124m\"\u001b[39m\u001b[38;5;124mi8\u001b[39m\u001b[38;5;124m\"\u001b[39m), tz_parsed\n\u001b[0;32m   2241\u001b[0m     \u001b[38;5;28;01mexcept\u001b[39;00m (\u001b[38;5;167;01mValueError\u001b[39;00m, \u001b[38;5;167;01mTypeError\u001b[39;00m):\n\u001b[1;32m-> 2242\u001b[0m         \u001b[38;5;28;01mraise\u001b[39;00m err\n\u001b[0;32m   2244\u001b[0m \u001b[38;5;28;01mif\u001b[39;00m tz_parsed \u001b[38;5;129;01mis\u001b[39;00m \u001b[38;5;129;01mnot\u001b[39;00m \u001b[38;5;28;01mNone\u001b[39;00m:\n\u001b[0;32m   2245\u001b[0m     \u001b[38;5;66;03m# We can take a shortcut since the datetime64 numpy array\u001b[39;00m\n\u001b[0;32m   2246\u001b[0m     \u001b[38;5;66;03m#  is in UTC\u001b[39;00m\n\u001b[0;32m   2247\u001b[0m     \u001b[38;5;66;03m# Return i8 values to denote unix timestamps\u001b[39;00m\n\u001b[0;32m   2248\u001b[0m     \u001b[38;5;28;01mreturn\u001b[39;00m result\u001b[38;5;241m.\u001b[39mview(\u001b[38;5;124m\"\u001b[39m\u001b[38;5;124mi8\u001b[39m\u001b[38;5;124m\"\u001b[39m), tz_parsed\n",
      "File \u001b[1;32m~\\AppData\\Roaming\\Python\\Python310\\site-packages\\pandas\\core\\arrays\\datetimes.py:2224\u001b[0m, in \u001b[0;36mobjects_to_datetime64ns\u001b[1;34m(data, dayfirst, yearfirst, utc, errors, require_iso8601, allow_object, allow_mixed)\u001b[0m\n\u001b[0;32m   2222\u001b[0m order: Literal[\u001b[38;5;124m\"\u001b[39m\u001b[38;5;124mF\u001b[39m\u001b[38;5;124m\"\u001b[39m, \u001b[38;5;124m\"\u001b[39m\u001b[38;5;124mC\u001b[39m\u001b[38;5;124m\"\u001b[39m] \u001b[38;5;241m=\u001b[39m \u001b[38;5;124m\"\u001b[39m\u001b[38;5;124mF\u001b[39m\u001b[38;5;124m\"\u001b[39m \u001b[38;5;28;01mif\u001b[39;00m flags\u001b[38;5;241m.\u001b[39mf_contiguous \u001b[38;5;28;01melse\u001b[39;00m \u001b[38;5;124m\"\u001b[39m\u001b[38;5;124mC\u001b[39m\u001b[38;5;124m\"\u001b[39m\n\u001b[0;32m   2223\u001b[0m \u001b[38;5;28;01mtry\u001b[39;00m:\n\u001b[1;32m-> 2224\u001b[0m     result, tz_parsed \u001b[38;5;241m=\u001b[39m \u001b[43mtslib\u001b[49m\u001b[38;5;241;43m.\u001b[39;49m\u001b[43marray_to_datetime\u001b[49m\u001b[43m(\u001b[49m\n\u001b[0;32m   2225\u001b[0m \u001b[43m        \u001b[49m\u001b[43mdata\u001b[49m\u001b[38;5;241;43m.\u001b[39;49m\u001b[43mravel\u001b[49m\u001b[43m(\u001b[49m\u001b[38;5;124;43m\"\u001b[39;49m\u001b[38;5;124;43mK\u001b[39;49m\u001b[38;5;124;43m\"\u001b[39;49m\u001b[43m)\u001b[49m\u001b[43m,\u001b[49m\n\u001b[0;32m   2226\u001b[0m \u001b[43m        \u001b[49m\u001b[43merrors\u001b[49m\u001b[38;5;241;43m=\u001b[39;49m\u001b[43merrors\u001b[49m\u001b[43m,\u001b[49m\n\u001b[0;32m   2227\u001b[0m \u001b[43m        \u001b[49m\u001b[43mutc\u001b[49m\u001b[38;5;241;43m=\u001b[39;49m\u001b[43mutc\u001b[49m\u001b[43m,\u001b[49m\n\u001b[0;32m   2228\u001b[0m \u001b[43m        \u001b[49m\u001b[43mdayfirst\u001b[49m\u001b[38;5;241;43m=\u001b[39;49m\u001b[43mdayfirst\u001b[49m\u001b[43m,\u001b[49m\n\u001b[0;32m   2229\u001b[0m \u001b[43m        \u001b[49m\u001b[43myearfirst\u001b[49m\u001b[38;5;241;43m=\u001b[39;49m\u001b[43myearfirst\u001b[49m\u001b[43m,\u001b[49m\n\u001b[0;32m   2230\u001b[0m \u001b[43m        \u001b[49m\u001b[43mrequire_iso8601\u001b[49m\u001b[38;5;241;43m=\u001b[39;49m\u001b[43mrequire_iso8601\u001b[49m\u001b[43m,\u001b[49m\n\u001b[0;32m   2231\u001b[0m \u001b[43m        \u001b[49m\u001b[43mallow_mixed\u001b[49m\u001b[38;5;241;43m=\u001b[39;49m\u001b[43mallow_mixed\u001b[49m\u001b[43m,\u001b[49m\n\u001b[0;32m   2232\u001b[0m \u001b[43m    \u001b[49m\u001b[43m)\u001b[49m\n\u001b[0;32m   2233\u001b[0m     result \u001b[38;5;241m=\u001b[39m result\u001b[38;5;241m.\u001b[39mreshape(data\u001b[38;5;241m.\u001b[39mshape, order\u001b[38;5;241m=\u001b[39morder)\n\u001b[0;32m   2234\u001b[0m \u001b[38;5;28;01mexcept\u001b[39;00m \u001b[38;5;167;01mValueError\u001b[39;00m \u001b[38;5;28;01mas\u001b[39;00m err:\n",
      "File \u001b[1;32m~\\AppData\\Roaming\\Python\\Python310\\site-packages\\pandas\\_libs\\tslib.pyx:381\u001b[0m, in \u001b[0;36mpandas._libs.tslib.array_to_datetime\u001b[1;34m()\u001b[0m\n",
      "File \u001b[1;32m~\\AppData\\Roaming\\Python\\Python310\\site-packages\\pandas\\_libs\\tslib.pyx:613\u001b[0m, in \u001b[0;36mpandas._libs.tslib.array_to_datetime\u001b[1;34m()\u001b[0m\n",
      "File \u001b[1;32m~\\AppData\\Roaming\\Python\\Python310\\site-packages\\pandas\\_libs\\tslib.pyx:751\u001b[0m, in \u001b[0;36mpandas._libs.tslib._array_to_datetime_object\u001b[1;34m()\u001b[0m\n",
      "File \u001b[1;32m~\\AppData\\Roaming\\Python\\Python310\\site-packages\\pandas\\_libs\\tslib.pyx:742\u001b[0m, in \u001b[0;36mpandas._libs.tslib._array_to_datetime_object\u001b[1;34m()\u001b[0m\n",
      "File \u001b[1;32m~\\AppData\\Roaming\\Python\\Python310\\site-packages\\pandas\\_libs\\tslibs\\parsing.pyx:281\u001b[0m, in \u001b[0;36mpandas._libs.tslibs.parsing.parse_datetime_string\u001b[1;34m()\u001b[0m\n",
      "File \u001b[1;32m~\\AppData\\Roaming\\Python\\Python310\\site-packages\\dateutil\\parser\\_parser.py:1368\u001b[0m, in \u001b[0;36mparse\u001b[1;34m(timestr, parserinfo, **kwargs)\u001b[0m\n\u001b[0;32m   1366\u001b[0m     \u001b[38;5;28;01mreturn\u001b[39;00m parser(parserinfo)\u001b[38;5;241m.\u001b[39mparse(timestr, \u001b[38;5;241m*\u001b[39m\u001b[38;5;241m*\u001b[39mkwargs)\n\u001b[0;32m   1367\u001b[0m \u001b[38;5;28;01melse\u001b[39;00m:\n\u001b[1;32m-> 1368\u001b[0m     \u001b[38;5;28;01mreturn\u001b[39;00m DEFAULTPARSER\u001b[38;5;241m.\u001b[39mparse(timestr, \u001b[38;5;241m*\u001b[39m\u001b[38;5;241m*\u001b[39mkwargs)\n",
      "File \u001b[1;32m~\\AppData\\Roaming\\Python\\Python310\\site-packages\\dateutil\\parser\\_parser.py:643\u001b[0m, in \u001b[0;36mparser.parse\u001b[1;34m(self, timestr, default, ignoretz, tzinfos, **kwargs)\u001b[0m\n\u001b[0;32m    640\u001b[0m res, skipped_tokens \u001b[38;5;241m=\u001b[39m \u001b[38;5;28mself\u001b[39m\u001b[38;5;241m.\u001b[39m_parse(timestr, \u001b[38;5;241m*\u001b[39m\u001b[38;5;241m*\u001b[39mkwargs)\n\u001b[0;32m    642\u001b[0m \u001b[38;5;28;01mif\u001b[39;00m res \u001b[38;5;129;01mis\u001b[39;00m \u001b[38;5;28;01mNone\u001b[39;00m:\n\u001b[1;32m--> 643\u001b[0m     \u001b[38;5;28;01mraise\u001b[39;00m ParserError(\u001b[38;5;124m\"\u001b[39m\u001b[38;5;124mUnknown string format: \u001b[39m\u001b[38;5;132;01m%s\u001b[39;00m\u001b[38;5;124m\"\u001b[39m, timestr)\n\u001b[0;32m    645\u001b[0m \u001b[38;5;28;01mif\u001b[39;00m \u001b[38;5;28mlen\u001b[39m(res) \u001b[38;5;241m==\u001b[39m \u001b[38;5;241m0\u001b[39m:\n\u001b[0;32m    646\u001b[0m     \u001b[38;5;28;01mraise\u001b[39;00m ParserError(\u001b[38;5;124m\"\u001b[39m\u001b[38;5;124mString does not contain a date: \u001b[39m\u001b[38;5;132;01m%s\u001b[39;00m\u001b[38;5;124m\"\u001b[39m, timestr)\n",
      "\u001b[1;31mParserError\u001b[0m: Unknown string format: 24-02-23 (без дублей)"
     ]
    }
   ],
   "source": [
    "pd.to_datetime(f24['file_name'])"
   ]
  },
  {
   "cell_type": "code",
   "execution_count": 34,
   "id": "3915038e",
   "metadata": {},
   "outputs": [
    {
     "data": {
      "text/plain": [
       "datetime.datetime(2023, 7, 2, 0, 0)"
      ]
     },
     "execution_count": 34,
     "metadata": {},
     "output_type": "execute_result"
    }
   ],
   "source": [
    "datetime.strptime('07-02-2023', \"%m-%d-%Y\")"
   ]
  },
  {
   "cell_type": "code",
   "execution_count": 36,
   "id": "3a2e7341",
   "metadata": {},
   "outputs": [
    {
     "data": {
      "text/plain": [
       "datetime.datetime(2023, 7, 2, 0, 0)"
      ]
     },
     "execution_count": 36,
     "metadata": {},
     "output_type": "execute_result"
    }
   ],
   "source": [
    "datetime.strptime('07-02-23', \"%m-%d-%y\")"
   ]
  },
  {
   "cell_type": "code",
   "execution_count": 85,
   "id": "ca623a8c",
   "metadata": {},
   "outputs": [
    {
     "data": {
      "text/plain": [
       "datetime.datetime(2023, 9, 2, 0, 0)"
      ]
     },
     "execution_count": 85,
     "metadata": {},
     "output_type": "execute_result"
    }
   ],
   "source": [
    "datetime.strptime('09-02-23 (без дублей) 2'[:8], \"%m-%d-%y\")"
   ]
  },
  {
   "cell_type": "code",
   "execution_count": 28,
   "id": "edca2394",
   "metadata": {},
   "outputs": [
    {
     "name": "stdout",
     "output_type": "stream",
     "text": [
      "07-02-2023\n",
      "07-02-23 (без дублей)\n",
      "08-02-23 (без дублей)\n",
      "09-02-23 (без дублей) 2\n",
      "09-02-23 (без дублей)\n",
      "10-02-23 (без дублей)\n",
      "11-02-23 (без дублей)\n",
      "12-02-23 (без дублей)\n",
      "13-02-23 (без дублей)\n",
      "14-02-23 (без дублей)\n",
      "15-02-23 (без дублей)\n",
      "16-02-23 (без дублей)\n",
      "17-02-23 (без дублей)\n",
      "18-02-23 (без дублей)\n",
      "19-02-23 (без дублей)\n",
      "19-02-23\n",
      "20-02-23 (без дублей)\n",
      "21-02-23 (без дублей)\n",
      "22-02-23 (без дублей)\n",
      "23-02-23 (без дублей)\n",
      "24-02-23 (без дублей)\n",
      "25-02-23 (без дублей)\n",
      "26-02-23 (без дублей)\n"
     ]
    }
   ],
   "source": [
    "for i in flist:\n",
    "    print(Path(i).stem)"
   ]
  },
  {
   "cell_type": "code",
   "execution_count": 76,
   "id": "a193ab8c",
   "metadata": {},
   "outputs": [],
   "source": [
    "import re"
   ]
  },
  {
   "cell_type": "code",
   "execution_count": 77,
   "id": "2940d840",
   "metadata": {},
   "outputs": [],
   "source": [
    "namestr = '09-02-23 (без дублей) 2'"
   ]
  },
  {
   "cell_type": "code",
   "execution_count": 81,
   "id": "ff3c9a31",
   "metadata": {},
   "outputs": [
    {
     "ename": "ValueError",
     "evalue": "time data '09-02-23 (без дублей) 2' does not match format '%m/%d/%Y'",
     "output_type": "error",
     "traceback": [
      "\u001b[1;31m---------------------------------------------------------------------------\u001b[0m",
      "\u001b[1;31mValueError\u001b[0m                                Traceback (most recent call last)",
      "Cell \u001b[1;32mIn [81], line 1\u001b[0m\n\u001b[1;32m----> 1\u001b[0m \u001b[43mdatetime\u001b[49m\u001b[38;5;241;43m.\u001b[39;49m\u001b[43mstrptime\u001b[49m\u001b[43m(\u001b[49m\u001b[43mnamestr\u001b[49m\u001b[43m,\u001b[49m\u001b[43m \u001b[49m\u001b[38;5;124;43m'\u001b[39;49m\u001b[38;5;124;43m%\u001b[39;49m\u001b[38;5;124;43mm/\u001b[39;49m\u001b[38;5;132;43;01m%d\u001b[39;49;00m\u001b[38;5;124;43m/\u001b[39;49m\u001b[38;5;124;43m%\u001b[39;49m\u001b[38;5;124;43mY\u001b[39;49m\u001b[38;5;124;43m'\u001b[39;49m\u001b[43m)\u001b[49m\n",
      "File \u001b[1;32mC:\\Program Files\\Python310\\lib\\_strptime.py:568\u001b[0m, in \u001b[0;36m_strptime_datetime\u001b[1;34m(cls, data_string, format)\u001b[0m\n\u001b[0;32m    565\u001b[0m \u001b[38;5;28;01mdef\u001b[39;00m \u001b[38;5;21m_strptime_datetime\u001b[39m(\u001b[38;5;28mcls\u001b[39m, data_string, \u001b[38;5;28mformat\u001b[39m\u001b[38;5;241m=\u001b[39m\u001b[38;5;124m\"\u001b[39m\u001b[38;5;132;01m%a\u001b[39;00m\u001b[38;5;124m \u001b[39m\u001b[38;5;124m%\u001b[39m\u001b[38;5;124mb \u001b[39m\u001b[38;5;132;01m%d\u001b[39;00m\u001b[38;5;124m \u001b[39m\u001b[38;5;124m%\u001b[39m\u001b[38;5;124mH:\u001b[39m\u001b[38;5;124m%\u001b[39m\u001b[38;5;124mM:\u001b[39m\u001b[38;5;124m%\u001b[39m\u001b[38;5;124mS \u001b[39m\u001b[38;5;124m%\u001b[39m\u001b[38;5;124mY\u001b[39m\u001b[38;5;124m\"\u001b[39m):\n\u001b[0;32m    566\u001b[0m     \u001b[38;5;124;03m\"\"\"Return a class cls instance based on the input string and the\u001b[39;00m\n\u001b[0;32m    567\u001b[0m \u001b[38;5;124;03m    format string.\"\"\"\u001b[39;00m\n\u001b[1;32m--> 568\u001b[0m     tt, fraction, gmtoff_fraction \u001b[38;5;241m=\u001b[39m \u001b[43m_strptime\u001b[49m\u001b[43m(\u001b[49m\u001b[43mdata_string\u001b[49m\u001b[43m,\u001b[49m\u001b[43m \u001b[49m\u001b[38;5;28;43mformat\u001b[39;49m\u001b[43m)\u001b[49m\n\u001b[0;32m    569\u001b[0m     tzname, gmtoff \u001b[38;5;241m=\u001b[39m tt[\u001b[38;5;241m-\u001b[39m\u001b[38;5;241m2\u001b[39m:]\n\u001b[0;32m    570\u001b[0m     args \u001b[38;5;241m=\u001b[39m tt[:\u001b[38;5;241m6\u001b[39m] \u001b[38;5;241m+\u001b[39m (fraction,)\n",
      "File \u001b[1;32mC:\\Program Files\\Python310\\lib\\_strptime.py:349\u001b[0m, in \u001b[0;36m_strptime\u001b[1;34m(data_string, format)\u001b[0m\n\u001b[0;32m    347\u001b[0m found \u001b[38;5;241m=\u001b[39m format_regex\u001b[38;5;241m.\u001b[39mmatch(data_string)\n\u001b[0;32m    348\u001b[0m \u001b[38;5;28;01mif\u001b[39;00m \u001b[38;5;129;01mnot\u001b[39;00m found:\n\u001b[1;32m--> 349\u001b[0m     \u001b[38;5;28;01mraise\u001b[39;00m \u001b[38;5;167;01mValueError\u001b[39;00m(\u001b[38;5;124m\"\u001b[39m\u001b[38;5;124mtime data \u001b[39m\u001b[38;5;132;01m%r\u001b[39;00m\u001b[38;5;124m does not match format \u001b[39m\u001b[38;5;132;01m%r\u001b[39;00m\u001b[38;5;124m\"\u001b[39m \u001b[38;5;241m%\u001b[39m\n\u001b[0;32m    350\u001b[0m                      (data_string, \u001b[38;5;28mformat\u001b[39m))\n\u001b[0;32m    351\u001b[0m \u001b[38;5;28;01mif\u001b[39;00m \u001b[38;5;28mlen\u001b[39m(data_string) \u001b[38;5;241m!=\u001b[39m found\u001b[38;5;241m.\u001b[39mend():\n\u001b[0;32m    352\u001b[0m     \u001b[38;5;28;01mraise\u001b[39;00m \u001b[38;5;167;01mValueError\u001b[39;00m(\u001b[38;5;124m\"\u001b[39m\u001b[38;5;124munconverted data remains: \u001b[39m\u001b[38;5;132;01m%s\u001b[39;00m\u001b[38;5;124m\"\u001b[39m \u001b[38;5;241m%\u001b[39m\n\u001b[0;32m    353\u001b[0m                       data_string[found\u001b[38;5;241m.\u001b[39mend():])\n",
      "\u001b[1;31mValueError\u001b[0m: time data '09-02-23 (без дублей) 2' does not match format '%m/%d/%Y'"
     ]
    }
   ],
   "source": [
    "datetime.strptime(namestr, '%m/%d/%Y')"
   ]
  },
  {
   "cell_type": "code",
   "execution_count": null,
   "id": "02d8aad7",
   "metadata": {},
   "outputs": [],
   "source": [
    "re.search()"
   ]
  },
  {
   "cell_type": "code",
   "execution_count": null,
   "id": "6eedc771",
   "metadata": {},
   "outputs": [],
   "source": [
    "def create_csv(save_directory):\n",
    "    saved_files = get_local_files(save_directory)\n",
    "    cnt_files = 0\n",
    "    for f_ind in range(len(saved_files)):\n",
    "        try:\n",
    "            saved_files_new = pd.read_csv(saved_files[f_ind], delimiter=';', encoding='utf8')\n",
    "            saved_files_new['file_name'] = Path(saved_files[f_ind]).stem\n",
    "            parsed_csv = parsed_csv.append(saved_files_new)\n",
    "        except:\n",
    "            parsed_csv = pd.read_csv(saved_files[f_ind], delimiter=';', encoding='utf8')\n",
    "            parsed_csv['file_name'] = Path(saved_files[f_ind]).stem\n",
    "        cnt_files += 1\n",
    "        \n",
    "    parsed_csv.reset_index(drop=True, inplace=True)\n",
    "    print('Succesfully opened {} files'.format(cnt_files))\n"
   ]
  },
  {
   "cell_type": "code",
   "execution_count": 24,
   "id": "14eb10a7",
   "metadata": {
    "pycharm": {
     "name": "#%%\n"
    },
    "scrolled": false
   },
   "outputs": [
    {
     "name": "stdout",
     "output_type": "stream",
     "text": [
      "Succesfully opened 1 files\n"
     ]
    }
   ],
   "source": [
    "csv_upload = create_csv(local_save_dir)"
   ]
  },
  {
   "cell_type": "code",
   "execution_count": 25,
   "id": "14cb7452",
   "metadata": {
    "pycharm": {
     "name": "#%%\n"
    },
    "scrolled": false
   },
   "outputs": [
    {
     "data": {
      "text/plain": [
       "25375"
      ]
     },
     "execution_count": 25,
     "metadata": {},
     "output_type": "execute_result"
    }
   ],
   "source": [
    "csv_upload.to_sql(name='test_avito_parsed', con=sql_engine, if_exists='append', chunksize=7000, method='multi')"
   ]
  },
  {
   "cell_type": "markdown",
   "id": "7d05feb9",
   "metadata": {
    "pycharm": {
     "name": "#%% md\n"
    }
   },
   "source": [
    "# finish delete and close connection"
   ]
  },
  {
   "cell_type": "code",
   "execution_count": null,
   "id": "26bc6a2e",
   "metadata": {
    "pycharm": {
     "name": "#%%\n"
    }
   },
   "outputs": [],
   "source": [
    "dat"
   ]
  },
  {
   "cell_type": "code",
   "execution_count": 46,
   "id": "6a5892b4",
   "metadata": {
    "pycharm": {
     "name": "#%%\n"
    }
   },
   "outputs": [],
   "source": [
    "def delete_files(pth):\n",
    "    pth = Path(pth)\n",
    "    for child in pth.glob('*'):\n",
    "        if child.is_file():\n",
    "            child.unlink()\n",
    "        else:\n",
    "            delete_files(Path(pth)/child)\n",
    "\n",
    "def close_sql_connection(server, engine):\n",
    "    server.stop()\n",
    "    engine.dispose()"
   ]
  },
  {
   "cell_type": "code",
   "execution_count": 47,
   "id": "1067c45c",
   "metadata": {
    "pycharm": {
     "name": "#%%\n"
    }
   },
   "outputs": [],
   "source": [
    "delete_files(local_save_dir)"
   ]
  },
  {
   "cell_type": "code",
   "execution_count": 32,
   "id": "a442ec05",
   "metadata": {
    "pycharm": {
     "name": "#%%\n"
    }
   },
   "outputs": [],
   "source": [
    "close_sql_connection(sql_server, sql_engine)"
   ]
  },
  {
   "cell_type": "markdown",
   "id": "6afa87ba",
   "metadata": {
    "pycharm": {
     "name": "#%% md\n"
    }
   },
   "source": [
    "# dump"
   ]
  },
  {
   "cell_type": "code",
   "execution_count": null,
   "id": "6753b17d",
   "metadata": {
    "pycharm": {
     "name": "#%%\n"
    },
    "scrolled": false
   },
   "outputs": [],
   "source": [
    "import pandas as pd\n",
    "test_df = pd.DataFrame([[1, 2, '14-02-23 (без дублей)'], [2, 2, '14-02-23 (без дублей)'], [3, 2, '15-02-23 (без дублей)']], columns=['as', 'ad', 'file_name'])"
   ]
  },
  {
   "cell_type": "code",
   "execution_count": null,
   "id": "bc747d94",
   "metadata": {
    "pycharm": {
     "name": "#%%\n"
    },
    "scrolled": false
   },
   "outputs": [],
   "source": [
    "server = SSHTunnelForwarder(\n",
    "    (ssh_host, ssh_port),\n",
    "    ssh_username=ssh_username,\n",
    "    ssh_password=ssh_password,\n",
    "    remote_bind_address=(localhost, localhost_port)\n",
    "    )\n",
    "\n",
    "server.start()\n",
    "local_port = str(server.local_bind_port)\n",
    "engine = create_engine('mariadb+pymysql://{}:{}@{}:{}/{}'.format(database_username, database_password, \n",
    "                                                                 localhost, local_port, database_name))"
   ]
  },
  {
   "cell_type": "code",
   "execution_count": null,
   "id": "16bac97e",
   "metadata": {
    "pycharm": {
     "name": "#%%\n"
    },
    "scrolled": false
   },
   "outputs": [],
   "source": [
    "server.stop()"
   ]
  },
  {
   "cell_type": "code",
   "execution_count": null,
   "id": "e345f762",
   "metadata": {
    "pycharm": {
     "name": "#%%\n"
    },
    "scrolled": false
   },
   "outputs": [],
   "source": [
    "engine.dispose()"
   ]
  },
  {
   "cell_type": "code",
   "execution_count": null,
   "id": "6d762116",
   "metadata": {
    "pycharm": {
     "name": "#%%\n"
    },
    "scrolled": false
   },
   "outputs": [],
   "source": [
    "test_df"
   ]
  },
  {
   "cell_type": "code",
   "execution_count": null,
   "id": "31856f1f",
   "metadata": {
    "pycharm": {
     "name": "#%%\n"
    },
    "scrolled": false
   },
   "outputs": [],
   "source": [
    "test_df.to_sql(name='test_avito_parsed', con=sql_engine, if_exists='append', chunksize=5000, method='multi')"
   ]
  },
  {
   "cell_type": "code",
   "execution_count": null,
   "id": "928af899",
   "metadata": {
    "pycharm": {
     "name": "#%%\n"
    },
    "scrolled": false
   },
   "outputs": [],
   "source": [
    "filenames_query='SELECT DISTINCT file_name FROM test_avito_parsed'"
   ]
  },
  {
   "cell_type": "code",
   "execution_count": null,
   "id": "30d30120",
   "metadata": {
    "pycharm": {
     "name": "#%%\n"
    },
    "scrolled": false
   },
   "outputs": [],
   "source": [
    "test_distinct = pd.read_sql(sql=text(filenames_query), con=engine.connect())\n",
    "test_distinct = test_distinct.file_name.to_list()"
   ]
  },
  {
   "cell_type": "code",
   "execution_count": null,
   "id": "f7b8647c",
   "metadata": {
    "pycharm": {
     "name": "#%%\n"
    },
    "scrolled": false
   },
   "outputs": [],
   "source": [
    "test_distinct"
   ]
  },
  {
   "cell_type": "code",
   "execution_count": null,
   "id": "39cb5405",
   "metadata": {
    "pycharm": {
     "name": "#%%\n"
    },
    "scrolled": false
   },
   "outputs": [],
   "source": [
    "saved_files_csv.to_sql(name='test_avito_parsed', con=engine, if_exists='append', chunksize=5000, method='multi')"
   ]
  }
 ],
 "metadata": {
  "kernelspec": {
   "display_name": "Python 3 (ipykernel)",
   "language": "python",
   "name": "python3"
  },
  "language_info": {
   "codemirror_mode": {
    "name": "ipython",
    "version": 3
   },
   "file_extension": ".py",
   "mimetype": "text/x-python",
   "name": "python",
   "nbconvert_exporter": "python",
   "pygments_lexer": "ipython3",
   "version": "3.10.4"
  }
 },
 "nbformat": 4,
 "nbformat_minor": 5
}
