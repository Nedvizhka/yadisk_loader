{
 "cells": [
  {
   "cell_type": "code",
   "execution_count": 31,
   "id": "2b37f2f2",
   "metadata": {},
   "outputs": [],
   "source": [
    "def create_load_save_dir(source):\n",
    "    try:\n",
    "        Path.mkdir(Path.cwd() / f'saved_{source}_csv')\n",
    "    except:\n",
    "        pass\n",
    "    save_dir = (Path.cwd() / f'saved_{source}_csv').as_posix()\n",
    "    return save_dir"
   ]
  },
  {
   "cell_type": "code",
   "execution_count": 32,
   "id": "a72fbc86",
   "metadata": {},
   "outputs": [],
   "source": [
    "local_save_dir_cian = create_load_save_dir('cian')"
   ]
  },
  {
   "cell_type": "code",
   "execution_count": 33,
   "id": "53a17ffb",
   "metadata": {},
   "outputs": [],
   "source": [
    "def get_saved_files_names(source):\n",
    "    try:\n",
    "        with open(f'uploaded_files_{source}.txt', 'r') as uploaded_txt:\n",
    "            list_loaded_files = uploaded_txt.read()\n",
    "        uploaded_txt.close()\n",
    "        list_loaded_files = list_loaded_files.split('\\n')[:-1]\n",
    "    except:\n",
    "        list_loaded_files = []\n",
    "    return list_loaded_files"
   ]
  },
  {
   "cell_type": "code",
   "execution_count": 34,
   "id": "0bfa8f28",
   "metadata": {},
   "outputs": [],
   "source": [
    "handled_files_cian = get_saved_files_names('cian')"
   ]
  },
  {
   "cell_type": "code",
   "execution_count": 37,
   "id": "95239225",
   "metadata": {},
   "outputs": [],
   "source": [
    "def download_local_yadisk_files(yandex_api_token, handled_files, save_dir):\n",
    "    y = yadisk.YaDisk(token=yandex_api_token)\n",
    "    if y.check_token():\n",
    "        print('yandex token valid')\n",
    "        disk_files_info = list(y.listdir(\"/cian\"))\n",
    "        disk_files_routes = [disk_files_info[i].path for i in range(len(disk_files_info))]\n",
    "        saved_files = []\n",
    "        cnt = 0\n",
    "        for file in disk_files_routes:\n",
    "            if Path(file).stem not in handled_files:\n",
    "                y.download(file, save_dir + '/' + Path(file).name)\n",
    "                saved_files.append(Path(file).name)\n",
    "                cnt += 1\n",
    "        print('Успешно загружено {} файлов с личного диска: {}'.format(cnt, saved_files))\n",
    "        is_error = False\n",
    "        return saved_files, is_error\n",
    "    else:\n",
    "        print('yandex token invalid')\n",
    "        print(\n",
    "            'перейдите по ссылке: https://oauth.yandex.ru/authorize?response_type=token&client_id=<> вставив свой айди приложения')\n",
    "        print('id приложения можно получить в: https://oauth.yandex.ru/ - пользователь yanedvizhkatop')\n",
    "        print('мануал: https://ramziv.com/article/8')\n",
    "        saved_files = []\n",
    "        is_error = False\n",
    "        return saved_files, is_error"
   ]
  },
  {
   "cell_type": "code",
   "execution_count": 38,
   "id": "02784b08",
   "metadata": {},
   "outputs": [
    {
     "name": "stdout",
     "output_type": "stream",
     "text": [
      "yandex token valid\n",
      "Успешно загружено 3 файлов с личного диска: ['20-03-23.csv', '21-03-23.csv', '22-03-23.csv']\n"
     ]
    }
   ],
   "source": [
    "files_to_process_cian, error_file_loading_cian = download_local_yadisk_files(ya_token,handled_files_cian, local_save_dir_cian)"
   ]
  },
  {
   "cell_type": "code",
   "execution_count": 39,
   "id": "1875978c",
   "metadata": {},
   "outputs": [
    {
     "data": {
      "text/plain": [
       "['20-03-23.csv', '21-03-23.csv', '22-03-23.csv']"
      ]
     },
     "execution_count": 39,
     "metadata": {},
     "output_type": "execute_result"
    }
   ],
   "source": [
    "files_to_process_cian"
   ]
  },
  {
   "cell_type": "code",
   "execution_count": 40,
   "id": "469d786a",
   "metadata": {},
   "outputs": [],
   "source": [
    "def write_saved_file_names(filename, source):\n",
    "    with open(f'uploaded_files_{source}.txt', 'a+') as uploaded_txt:\n",
    "        uploaded_txt.write(f\"{filename}\\n\")\n",
    "    uploaded_txt.close()"
   ]
  },
  {
   "cell_type": "code",
   "execution_count": 42,
   "id": "29353315",
   "metadata": {},
   "outputs": [],
   "source": [
    "write_saved_file_names(Path(files_to_process_cian[1]).stem, 'cian')"
   ]
  },
  {
   "cell_type": "markdown",
   "id": "ee123e2c",
   "metadata": {},
   "source": [
    "# check"
   ]
  },
  {
   "cell_type": "code",
   "execution_count": 6,
   "id": "ea6697f5",
   "metadata": {
    "ExecuteTime": {
     "end_time": "2023-03-22T01:30:50.390885Z",
     "start_time": "2023-03-22T01:30:50.380941Z"
    }
   },
   "outputs": [],
   "source": [
    "def create_load_save_dir(source):\n",
    "    try:\n",
    "        Path.mkdir(Path.cwd() / f'saved_{source}_csv')\n",
    "    except:\n",
    "        pass\n",
    "    save_dir = (Path.cwd() / f'saved_{source}_csv').as_posix()\n",
    "    return save_dir"
   ]
  },
  {
   "cell_type": "code",
   "execution_count": 51,
   "id": "c09d347b",
   "metadata": {
    "ExecuteTime": {
     "end_time": "2023-03-22T02:35:38.993827Z",
     "start_time": "2023-03-22T02:35:38.987852Z"
    }
   },
   "outputs": [],
   "source": [
    "def get_local_files(save_dir):\n",
    "    p = Path(save_dir).glob('**/*')\n",
    "    saved_files_list = [x.as_posix() for x in p if x.is_file()]\n",
    "    return saved_files_list"
   ]
  },
  {
   "cell_type": "code",
   "execution_count": 7,
   "id": "36f3da24",
   "metadata": {
    "ExecuteTime": {
     "end_time": "2023-03-22T01:30:51.218426Z",
     "start_time": "2023-03-22T01:30:51.213813Z"
    }
   },
   "outputs": [],
   "source": [
    "def get_direct_link(yandex_api, sharing_link):\n",
    "    pk_request = requests.get(yandex_api.format(sharing_link))\n",
    "    # None если не удается преоброазовать ссылку\n",
    "    return pk_request.json().get('href')"
   ]
  },
  {
   "cell_type": "code",
   "execution_count": 8,
   "id": "ddfed979",
   "metadata": {
    "ExecuteTime": {
     "end_time": "2023-03-22T01:30:53.353622Z",
     "start_time": "2023-03-22T01:30:53.346532Z"
    }
   },
   "outputs": [],
   "source": [
    "def get_saved_files_names(source):\n",
    "    try:\n",
    "        with open(f'uploaded_files_{source}.txt', 'r') as uploaded_txt:\n",
    "            list_loaded_files = uploaded_txt.read()\n",
    "        uploaded_txt.close()\n",
    "        list_loaded_files = list_loaded_files.split('\\n')[:-1]\n",
    "    except:\n",
    "        list_loaded_files = []\n",
    "    return list_loaded_files"
   ]
  },
  {
   "cell_type": "code",
   "execution_count": 9,
   "id": "2dec9011",
   "metadata": {
    "ExecuteTime": {
     "end_time": "2023-03-22T01:30:53.727334Z",
     "start_time": "2023-03-22T01:30:53.717606Z"
    }
   },
   "outputs": [],
   "source": [
    "def download_yadisk_files(yandex_api, sharing_link, list_file_exist, save_dir):\n",
    "    direct_link = get_direct_link(yandex_api, sharing_link)\n",
    "    try:\n",
    "        saved_files = []\n",
    "        if direct_link:\n",
    "            download = requests.get(direct_link)\n",
    "            zips = zipfile.ZipFile(io.BytesIO(download.content))\n",
    "            cnt = 0\n",
    "            for member in zips.namelist():\n",
    "                filename = os.path.basename(member)\n",
    "                if not filename or Path(filename).stem in list_file_exist or 'циан' in filename:\n",
    "                    continue\n",
    "                src = zips.open(member)\n",
    "                target = open(os.path.join(save_dir, filename), 'wb')\n",
    "                with src, target:\n",
    "                    shutil.copyfileobj(src, target)\n",
    "                    cnt += 1\n",
    "                    saved_files.append(filename)\n",
    "                target.close()\n",
    "            print('Succesfully downloaded {} files from \"{}\"'.format(cnt, sharing_link))\n",
    "            is_error = False\n",
    "            return saved_files, is_error\n",
    "        else:\n",
    "            print('Failed to download files from \"{}\"'.format(sharing_link))\n",
    "            saved_files = []\n",
    "            is_error = True\n",
    "            return saved_files, is_error\n",
    "    except Exception as exc:\n",
    "        print(exc)\n",
    "        saved_files = []\n",
    "        is_error = True\n",
    "        return saved_files, is_error"
   ]
  },
  {
   "cell_type": "code",
   "execution_count": 12,
   "id": "a1fb3fae",
   "metadata": {
    "ExecuteTime": {
     "end_time": "2023-03-22T01:30:59.364154Z",
     "start_time": "2023-03-22T01:30:59.357799Z"
    }
   },
   "outputs": [],
   "source": [
    "local_save_dir_avito = create_load_save_dir('avito')"
   ]
  },
  {
   "cell_type": "code",
   "execution_count": 13,
   "id": "98eed87f",
   "metadata": {
    "ExecuteTime": {
     "end_time": "2023-03-22T01:31:03.281338Z",
     "start_time": "2023-03-22T01:31:03.276089Z"
    }
   },
   "outputs": [],
   "source": [
    "handled_files_avito = get_saved_files_names('avito')"
   ]
  },
  {
   "cell_type": "code",
   "execution_count": 475,
   "id": "288d6732",
   "metadata": {},
   "outputs": [
    {
     "name": "stdout",
     "output_type": "stream",
     "text": [
      "Succesfully downloaded 1 files from \"https://disk.yandex.ru/d/sVgz0GiqjhCsNg\"\n"
     ]
    }
   ],
   "source": [
    "files_to_process_avito, error_file_loading_avito = download_yadisk_files(ya_api, ya_link,\n",
    "                                                                                     handled_files_avito, \n",
    "                                                                                     local_save_dir_avito)"
   ]
  },
  {
   "cell_type": "code",
   "execution_count": 476,
   "id": "4c50db48",
   "metadata": {},
   "outputs": [
    {
     "data": {
      "text/plain": [
       "['20-03-23 (без дублей).csv']"
      ]
     },
     "execution_count": 476,
     "metadata": {},
     "output_type": "execute_result"
    }
   ],
   "source": [
    "files_to_process_avito"
   ]
  },
  {
   "cell_type": "code",
   "execution_count": 1,
   "id": "f490a5a3",
   "metadata": {
    "ExecuteTime": {
     "end_time": "2023-03-22T01:29:30.971405Z",
     "start_time": "2023-03-22T01:29:30.954780Z"
    }
   },
   "outputs": [],
   "source": [
    "files_to_process_avito = ['20-03-23 (без дублей).csv']"
   ]
  },
  {
   "cell_type": "code",
   "execution_count": 15,
   "id": "96de9231",
   "metadata": {
    "ExecuteTime": {
     "end_time": "2023-03-22T01:39:14.257781Z",
     "start_time": "2023-03-22T01:39:14.251932Z"
    }
   },
   "outputs": [
    {
     "data": {
      "text/plain": [
       "['20-03-23 (без дублей).csv']"
      ]
     },
     "execution_count": 15,
     "metadata": {},
     "output_type": "execute_result"
    }
   ],
   "source": [
    "files_to_process_avito"
   ]
  },
  {
   "cell_type": "code",
   "execution_count": 222,
   "id": "72add8c1",
   "metadata": {
    "ExecuteTime": {
     "end_time": "2023-03-22T05:48:40.438370Z",
     "start_time": "2023-03-22T05:48:40.426883Z"
    }
   },
   "outputs": [],
   "source": [
    "def get_tables_info(engine):\n",
    "    cities_query = 'SELECT * FROM city'\n",
    "    types_query = 'SELECT * FROM realty_types'\n",
    "    source_query = 'SELECT id, name FROM sources'\n",
    "    district_query = 'SELECT DISTINCT id, city_id, name FROM districts'\n",
    "    try:\n",
    "        con_obj = engine.connect()\n",
    "        city_db = pd.read_sql(text(cities_query), con=con_obj)\n",
    "        realty_type_db = pd.read_sql(text(types_query), con=con_obj)\n",
    "        source_db = pd.read_sql(text(source_query), con=con_obj)\n",
    "        district_db = pd.read_sql(text(district_query), con=con_obj)\n",
    "        con_obj.close()\n",
    "        exc_code = None\n",
    "    except Exception as exc:\n",
    "        print(exc)\n",
    "        city_db = None\n",
    "        realty_type_db = None\n",
    "        source_db = None\n",
    "        district_db = None\n",
    "        exc_code = exc.code\n",
    "    return city_db, realty_type_db, source_db, district_db, exc_code\n",
    "\n",
    "\n",
    "def get_version(engine, today_date, source_id):\n",
    "    last_version = f\"SELECT Max(version) FROM realty WHERE date < '{today_date}' AND source_id = {source_id}\"\n",
    "    try:\n",
    "        con_obj = engine.connect()\n",
    "        last_version_db = pd.read_sql(text(last_version), con=con_obj)\n",
    "        con_obj.close()\n",
    "        exc_code = None\n",
    "    except Exception as exc:\n",
    "        print(exc)\n",
    "        last_version_db = None\n",
    "        exc_code = exc.code\n",
    "    return last_version_db, exc_code\n",
    "\n",
    "\n",
    "def source_id_from_link(link_value, source_dict):\n",
    "    try:\n",
    "        return list(source_dict.keys())[list(source_dict.values()).index(link_value.split('.')[1])]\n",
    "    except:\n",
    "        return None\n",
    "\n",
    "\n",
    "def city_id_from_link(city_value, city_dict):\n",
    "    try:\n",
    "        return int(list(city_dict.keys())[list(city_dict.values()).index(city_value)])\n",
    "    except Exception as e:\n",
    "        return None\n",
    "\n",
    "\n",
    "def type_id_from_room(room_value, type_dict):\n",
    "    try:\n",
    "        for ind, values in type_dict.items():\n",
    "            if room_value in values:\n",
    "                tid = ind\n",
    "                return tid\n",
    "        if any(elem in room_value for elem in ['Доля', 'Аукцион']):\n",
    "            # tid = 9 # аукцион\n",
    "            return None\n",
    "        elif all(elem in room_value for elem in ['Комната ', ' в ', '-к']):\n",
    "            tid = 1  # комната в квартире\n",
    "            return tid\n",
    "        elif any(elem in room_value for elem in\n",
    "                 ['6-к.', '7-к.', '8-к.', '9-к.', '10 и более-к.', '10 комнат и больше']):\n",
    "            tid = 8  # 6 комнат и более\n",
    "            return tid\n",
    "        else:\n",
    "            return None  # none\n",
    "    except:\n",
    "        return None\n",
    "\n",
    "\n",
    "# создание поля addr из данных avito\n",
    "# поле должно совпасть с форматом cian\n",
    "# формат: Томская область; Томск; р-н Кировский; мкр. Преображенский; улица Дзержинского; 36\n",
    "def avito_addr_from_row(row, city_df):\n",
    "    # добавление города для совпадения форматов\n",
    "    try:\n",
    "        addr = city_df[city_df.url_avito == row['city']]['name'].values[0]\n",
    "        addr += '; '\n",
    "    except:\n",
    "        addr = ''\n",
    "    # добавляем район, в авито он может быть None\n",
    "    try:\n",
    "        if len(row['Район']) == 0:\n",
    "            pass\n",
    "        else:\n",
    "            addr += row['Район']\n",
    "            addr += '; '\n",
    "    except:\n",
    "        pass\n",
    "    # добавляем улицу, дом, пр. в авито он может быть None\n",
    "    try:\n",
    "        for value in row['Улица'].split(', '):\n",
    "            addr += value\n",
    "            addr += '; '\n",
    "    except:\n",
    "        pass\n",
    "    # drop duplicates\n",
    "    addr = addr[:-2]\n",
    "    if len(addr.split('; ')) != len(set(addr.split('; '))):\n",
    "        addr = '; '.join(list(dict.fromkeys(addr.split('; '))))\n",
    "    return addr\n",
    "\n",
    "\n",
    "def square_from_ploshad(square_value):\n",
    "    try:\n",
    "        return float(square_value[:-3].replace(',', '.'))\n",
    "    except:\n",
    "        return None\n",
    "\n",
    "\n",
    "def floor_floors_from_etazh(etazh_value):\n",
    "    try:\n",
    "        return [etazh_value.split('/')[0], etazh_value.split('/')[1].replace(' эт.', '')]\n",
    "    except:\n",
    "        return [None, None]\n",
    "\n",
    "\n",
    "def get_date_from_name(fname):\n",
    "    try:\n",
    "        return datetime.strptime(fname.replace(\"(без дублей)\", \"\").replace(\"циан\", \"\").replace(\" \", \"\"), \"%d-%m-%y\")\n",
    "    except:\n",
    "        return datetime.strptime(Path(fname).stem.replace(\"(без дублей)\", \"\").replace(\"циан\", \"\").replace(\" \", \"\"), \"%d-%m-%y\")"
   ]
  },
  {
   "cell_type": "code",
   "execution_count": 223,
   "id": "f1aca83b",
   "metadata": {
    "ExecuteTime": {
     "end_time": "2023-03-22T05:48:42.630609Z",
     "start_time": "2023-03-22T05:48:42.619079Z"
    }
   },
   "outputs": [],
   "source": [
    "def create_realty(df, fname, sql_engine, source):\n",
    "    if source == 'avito':\n",
    "        try:\n",
    "            # сбор данных из таблиц в бд\n",
    "            city_df, realty_type_df, source_df, district_df, exc_code = get_tables_info(sql_engine)\n",
    "\n",
    "            # удаление корявых данных, дубликатов\n",
    "            index_to_drop = df[\n",
    "                (df['Площадь'].isna()) | (df['Заголовок'] == df['Комнат']) | (df['Цена'].isna())].index.tolist()\n",
    "            if len(index_to_drop) != 0:\n",
    "                df.drop(index_to_drop, inplace=True)\n",
    "            df.drop_duplicates(subset=['Ссылка'], keep='last', inplace=True)\n",
    "            df.reset_index(drop=True, inplace=True)\n",
    "\n",
    "            # city\n",
    "            df['city'] = df['Ссылка'].apply(lambda x: x.split('/')[3])\n",
    "\n",
    "            # source_id\n",
    "            source_df_dict = source_df.set_index('id').to_dict()['name']\n",
    "            df['source_id'] = df['Ссылка'].apply(lambda x: source_id_from_link(x, source_df_dict))\n",
    "\n",
    "            # ad_id\n",
    "            df['ad_id'] = df['Ссылка'].apply(lambda x: x.split('_')[-1])\n",
    "\n",
    "            # city_id\n",
    "            city_df_dict = city_df.set_index('id').to_dict()['url_avito']\n",
    "            df['city_id'] = df['city'].apply(lambda x: city_id_from_link(x, city_df_dict))\n",
    "            df.dropna(subset=['city_id'], inplace=True)\n",
    "            df.reset_index(drop=True, inplace=True)\n",
    "            df.city_id = df.city_id.astype(int)\n",
    "\n",
    "            # district_id\n",
    "            df['district_id'] = None\n",
    "\n",
    "            # type_id\n",
    "            dict_realty_type = {\n",
    "                '1': ['Комната'],\n",
    "                '2': ['Квартира-студия', 'Апартаменты-студия', 'Гостинка', 'Студия'],\n",
    "                '3': ['1-к. квартира', '1-к. апартаменты', 'Своб. планировка', '1-комнатная', '1 комн',\n",
    "                      'Свободная планировка'],\n",
    "                '4': ['2-к. квартира', '2-к. апартаменты', '2-комнатная', '2 комн'],\n",
    "                '5': ['3-к. квартира', '3-к. апартаменты', '3-комнатная', '3 комн'],\n",
    "                '6': ['4-к. квартира', '4-к. апартаменты', '4-комнатная', '4 комн'],\n",
    "                '7': ['5-к. квартира', '5-к. апартаменты', '5-комнатная', '5 комн'],\n",
    "                '8': [\"6 комнат и более\", '6 комн']\n",
    "                # 9 аукцион, доля\n",
    "            }\n",
    "            df['type_id'] = df['Комнат'].apply(lambda x: type_id_from_room(x, dict_realty_type))\n",
    "            # удалить записи аукционов и других объяв где не опредлен type_id, преобразовать цены в int\n",
    "            df.dropna(subset=['type_id'], inplace=True)\n",
    "            df.reset_index(drop=True, inplace=True)\n",
    "            df['Цена'] = df['Цена'].astype(float)\n",
    "\n",
    "            # addr\n",
    "            df['addr'] = df.apply(lambda row: avito_addr_from_row(row, city_df), axis=1)\n",
    "\n",
    "            # square\n",
    "            df['square'] = df['Площадь'].apply(lambda x: square_from_ploshad(x))\n",
    "\n",
    "            # floor\n",
    "            df['floor'], df['house_floors'] = zip(*df['Этаж'].apply(floor_floors_from_etazh))\n",
    "\n",
    "            # link\n",
    "            df['link'] = df['Ссылка']\n",
    "\n",
    "            # date\n",
    "            df['date'] = get_date_from_name(fname)\n",
    "\n",
    "            # status\n",
    "            df['status'] = None\n",
    "\n",
    "            # version\n",
    "            current_source = df.source_id.unique()[0]\n",
    "            current_date = datetime.now().date()\n",
    "            last_version = get_version(sql_engine, current_date, current_source)[0].iloc[0, 0]\n",
    "            if last_version == None:\n",
    "                current_version = 1\n",
    "            else:\n",
    "                current_version = last_version + 1\n",
    "\n",
    "            df['version'] = current_version\n",
    "\n",
    "            # offer_from\n",
    "            df['offer_from'] = df['Тип продавца']\n",
    "\n",
    "            # status_newa\n",
    "            df['status_new'] = 1\n",
    "\n",
    "            realty_avito = df[['source_id', 'ad_id', 'city_id', 'district_id', 'type_id', 'addr', 'square', 'floor',\n",
    "                               'house_floors', 'link', 'date', 'status', 'version', 'offer_from', 'status_new', 'Цена', 'Цена за м2']]\n",
    "            error_process_realty = False\n",
    "        except Exception as ex:\n",
    "            print(traceback.format_exc())\n",
    "            realty_avito = pd.DataFrame()\n",
    "            error_process_realty = True\n",
    "        return realty_avito, error_process_realty"
   ]
  },
  {
   "cell_type": "code",
   "execution_count": 224,
   "id": "4ffae831",
   "metadata": {
    "ExecuteTime": {
     "end_time": "2023-03-22T05:48:43.011433Z",
     "start_time": "2023-03-22T05:48:43.006010Z"
    }
   },
   "outputs": [],
   "source": [
    "def process_realty(local_dir, file_to_process, sql_engine, source):\n",
    "    saved_files = get_local_files(local_dir)\n",
    "    realty_df = pd.DataFrame()\n",
    "    for f_ind in range(len(saved_files)):\n",
    "        if Path(saved_files[f_ind]).name == file_to_process:\n",
    "            try:\n",
    "                if source == 'avito':\n",
    "                    saved_file = pd.read_csv(saved_files[f_ind], delimiter=';', encoding='utf8')\n",
    "                    realty_df, error_realty_process = create_realty(saved_file, Path(saved_files[f_ind]).stem,\n",
    "                                                                    sql_engine, 'avito')\n",
    "                elif source == 'cian':\n",
    "                    saved_file = pd.read_csv(saved_files[f_ind], delimiter=',', encoding='cp1251')\n",
    "                    realty_df, error_realty_process = create_realty(saved_file, Path(saved_files[f_ind]).stem,\n",
    "                                                                    sql_engine, 'cian')\n",
    "            except Exception as ex:\n",
    "                print(traceback.format_exc())\n",
    "                print('Не удалось прочитать файл', Path(saved_files[f_ind]))\n",
    "        else:\n",
    "            pass\n",
    "    if len(realty_df) != 0:\n",
    "        print('Успешно обработан файл {}'.format(file_to_process))\n",
    "        return realty_df\n",
    "    else:\n",
    "        print('Файл {} не удалось обработать'.format(file_to_process))\n",
    "        return realty_df"
   ]
  },
  {
   "cell_type": "code",
   "execution_count": 187,
   "id": "441a4f26",
   "metadata": {
    "ExecuteTime": {
     "end_time": "2023-03-22T04:27:20.345774Z",
     "start_time": "2023-03-22T04:26:51.758730Z"
    }
   },
   "outputs": [
    {
     "name": "stdout",
     "output_type": "stream",
     "text": [
      "Успешно обработан файл 20-03-23 (без дублей).csv\n"
     ]
    }
   ],
   "source": [
    "test_1 = process_realty(local_save_dir_avito, files_to_process_avito[0], sql_engine, 'avito')"
   ]
  },
  {
   "cell_type": "code",
   "execution_count": 188,
   "id": "56cd7539",
   "metadata": {
    "ExecuteTime": {
     "end_time": "2023-03-22T04:27:28.524718Z",
     "start_time": "2023-03-22T04:27:28.510970Z"
    }
   },
   "outputs": [
    {
     "data": {
      "text/html": [
       "<div>\n",
       "<style scoped>\n",
       "    .dataframe tbody tr th:only-of-type {\n",
       "        vertical-align: middle;\n",
       "    }\n",
       "\n",
       "    .dataframe tbody tr th {\n",
       "        vertical-align: top;\n",
       "    }\n",
       "\n",
       "    .dataframe thead th {\n",
       "        text-align: right;\n",
       "    }\n",
       "</style>\n",
       "<table border=\"1\" class=\"dataframe\">\n",
       "  <thead>\n",
       "    <tr style=\"text-align: right;\">\n",
       "      <th></th>\n",
       "      <th>source_id</th>\n",
       "      <th>ad_id</th>\n",
       "      <th>city_id</th>\n",
       "      <th>district_id</th>\n",
       "      <th>type_id</th>\n",
       "      <th>addr</th>\n",
       "      <th>square</th>\n",
       "      <th>floor</th>\n",
       "      <th>house_floors</th>\n",
       "      <th>link</th>\n",
       "      <th>date</th>\n",
       "      <th>status</th>\n",
       "      <th>version</th>\n",
       "      <th>offer_from</th>\n",
       "      <th>status_new</th>\n",
       "      <th>Цена</th>\n",
       "      <th>Цена за м2</th>\n",
       "    </tr>\n",
       "  </thead>\n",
       "  <tbody>\n",
       "    <tr>\n",
       "      <th>0</th>\n",
       "      <td>3</td>\n",
       "      <td>2814505758</td>\n",
       "      <td>17</td>\n",
       "      <td>None</td>\n",
       "      <td>3</td>\n",
       "      <td>Томск; р-н Кировский; ул. Карпова; 23</td>\n",
       "      <td>17.4</td>\n",
       "      <td>5</td>\n",
       "      <td>5</td>\n",
       "      <td>https://www.avito.ru/tomsk/kvartiry/1-k._kvart...</td>\n",
       "      <td>2023-03-20</td>\n",
       "      <td>None</td>\n",
       "      <td>1</td>\n",
       "      <td>Частное лицо</td>\n",
       "      <td>1</td>\n",
       "      <td>2200000.0</td>\n",
       "      <td>126437</td>\n",
       "    </tr>\n",
       "    <tr>\n",
       "      <th>1</th>\n",
       "      <td>3</td>\n",
       "      <td>2856523926</td>\n",
       "      <td>17</td>\n",
       "      <td>None</td>\n",
       "      <td>4</td>\n",
       "      <td>Томск; р-н Октябрьский; ул. Дизайнеров; 3</td>\n",
       "      <td>53.5</td>\n",
       "      <td>4</td>\n",
       "      <td>10</td>\n",
       "      <td>https://www.avito.ru/tomsk/kvartiry/2-k._kvart...</td>\n",
       "      <td>2023-03-20</td>\n",
       "      <td>None</td>\n",
       "      <td>1</td>\n",
       "      <td>Частное лицо</td>\n",
       "      <td>1</td>\n",
       "      <td>6700000.0</td>\n",
       "      <td>125234</td>\n",
       "    </tr>\n",
       "    <tr>\n",
       "      <th>2</th>\n",
       "      <td>3</td>\n",
       "      <td>3010508456</td>\n",
       "      <td>17</td>\n",
       "      <td>None</td>\n",
       "      <td>4</td>\n",
       "      <td>Томск; р-н Октябрьский; микрорайон Солнечный; ...</td>\n",
       "      <td>63.0</td>\n",
       "      <td>17</td>\n",
       "      <td>18</td>\n",
       "      <td>https://www.avito.ru/tomsk/kvartiry/2-k._kvart...</td>\n",
       "      <td>2023-03-20</td>\n",
       "      <td>None</td>\n",
       "      <td>1</td>\n",
       "      <td>Агентство</td>\n",
       "      <td>1</td>\n",
       "      <td>6100000.0</td>\n",
       "      <td>96825</td>\n",
       "    </tr>\n",
       "    <tr>\n",
       "      <th>3</th>\n",
       "      <td>3</td>\n",
       "      <td>2884326186</td>\n",
       "      <td>17</td>\n",
       "      <td>None</td>\n",
       "      <td>5</td>\n",
       "      <td>Томск; р-н Советский; Сибирская ул.; 102/1</td>\n",
       "      <td>68.0</td>\n",
       "      <td>1</td>\n",
       "      <td>9</td>\n",
       "      <td>https://www.avito.ru/tomsk/kvartiry/3-k._kvart...</td>\n",
       "      <td>2023-03-20</td>\n",
       "      <td>None</td>\n",
       "      <td>1</td>\n",
       "      <td>Агентство</td>\n",
       "      <td>1</td>\n",
       "      <td>5100000.0</td>\n",
       "      <td>75000</td>\n",
       "    </tr>\n",
       "    <tr>\n",
       "      <th>4</th>\n",
       "      <td>3</td>\n",
       "      <td>2931555827</td>\n",
       "      <td>17</td>\n",
       "      <td>None</td>\n",
       "      <td>2</td>\n",
       "      <td>Томск; пос. Зональная Станция; микрорайон Южны...</td>\n",
       "      <td>20.7</td>\n",
       "      <td>9</td>\n",
       "      <td>10</td>\n",
       "      <td>https://www.avito.ru/tomsk/kvartiry/kvartira-s...</td>\n",
       "      <td>2023-03-20</td>\n",
       "      <td>None</td>\n",
       "      <td>1</td>\n",
       "      <td>Частное лицо</td>\n",
       "      <td>1</td>\n",
       "      <td>2650000.0</td>\n",
       "      <td>128019</td>\n",
       "    </tr>\n",
       "    <tr>\n",
       "      <th>...</th>\n",
       "      <td>...</td>\n",
       "      <td>...</td>\n",
       "      <td>...</td>\n",
       "      <td>...</td>\n",
       "      <td>...</td>\n",
       "      <td>...</td>\n",
       "      <td>...</td>\n",
       "      <td>...</td>\n",
       "      <td>...</td>\n",
       "      <td>...</td>\n",
       "      <td>...</td>\n",
       "      <td>...</td>\n",
       "      <td>...</td>\n",
       "      <td>...</td>\n",
       "      <td>...</td>\n",
       "      <td>...</td>\n",
       "      <td>...</td>\n",
       "    </tr>\n",
       "    <tr>\n",
       "      <th>114152</th>\n",
       "      <td>3</td>\n",
       "      <td>2326231151</td>\n",
       "      <td>2</td>\n",
       "      <td>None</td>\n",
       "      <td>4</td>\n",
       "      <td>Краснодар; р-н Прикубанский; б-р им. Адмирала ...</td>\n",
       "      <td>53.3</td>\n",
       "      <td>15</td>\n",
       "      <td>24</td>\n",
       "      <td>https://www.avito.ru/krasnodar/kvartiry/2-k._k...</td>\n",
       "      <td>2023-03-20</td>\n",
       "      <td>None</td>\n",
       "      <td>1</td>\n",
       "      <td>Застройщик</td>\n",
       "      <td>1</td>\n",
       "      <td>5882357.0</td>\n",
       "      <td>110363</td>\n",
       "    </tr>\n",
       "    <tr>\n",
       "      <th>114153</th>\n",
       "      <td>3</td>\n",
       "      <td>2358537090</td>\n",
       "      <td>2</td>\n",
       "      <td>None</td>\n",
       "      <td>4</td>\n",
       "      <td>Краснодар; р-н Прикубанский; б-р им. Адмирала ...</td>\n",
       "      <td>53.3</td>\n",
       "      <td>20</td>\n",
       "      <td>24</td>\n",
       "      <td>https://www.avito.ru/krasnodar/kvartiry/2-k._k...</td>\n",
       "      <td>2023-03-20</td>\n",
       "      <td>None</td>\n",
       "      <td>1</td>\n",
       "      <td>Застройщик</td>\n",
       "      <td>1</td>\n",
       "      <td>5882201.0</td>\n",
       "      <td>110360</td>\n",
       "    </tr>\n",
       "    <tr>\n",
       "      <th>114154</th>\n",
       "      <td>3</td>\n",
       "      <td>2326806083</td>\n",
       "      <td>2</td>\n",
       "      <td>None</td>\n",
       "      <td>4</td>\n",
       "      <td>Краснодар; р-н Прикубанский; ул. Адмирала Сере...</td>\n",
       "      <td>65.1</td>\n",
       "      <td>7</td>\n",
       "      <td>19</td>\n",
       "      <td>https://www.avito.ru/krasnodar/kvartiry/2-k._k...</td>\n",
       "      <td>2023-03-20</td>\n",
       "      <td>None</td>\n",
       "      <td>1</td>\n",
       "      <td>Застройщик</td>\n",
       "      <td>1</td>\n",
       "      <td>6184500.0</td>\n",
       "      <td>95000</td>\n",
       "    </tr>\n",
       "    <tr>\n",
       "      <th>114155</th>\n",
       "      <td>3</td>\n",
       "      <td>2816012211</td>\n",
       "      <td>2</td>\n",
       "      <td>None</td>\n",
       "      <td>4</td>\n",
       "      <td>Краснодар; р-н Прикубанский; ул. им. Кирилла Р...</td>\n",
       "      <td>64.2</td>\n",
       "      <td>15</td>\n",
       "      <td>16</td>\n",
       "      <td>https://www.avito.ru/krasnodar/kvartiry/2-k._k...</td>\n",
       "      <td>2023-03-20</td>\n",
       "      <td>None</td>\n",
       "      <td>1</td>\n",
       "      <td>Агентство</td>\n",
       "      <td>1</td>\n",
       "      <td>6169625.0</td>\n",
       "      <td>96100</td>\n",
       "    </tr>\n",
       "    <tr>\n",
       "      <th>114156</th>\n",
       "      <td>3</td>\n",
       "      <td>2815858552</td>\n",
       "      <td>2</td>\n",
       "      <td>None</td>\n",
       "      <td>4</td>\n",
       "      <td>Краснодар; р-н Прикубанский; ул. им. Кирилла Р...</td>\n",
       "      <td>64.2</td>\n",
       "      <td>13</td>\n",
       "      <td>16</td>\n",
       "      <td>https://www.avito.ru/krasnodar/kvartiry/2-k._k...</td>\n",
       "      <td>2023-03-20</td>\n",
       "      <td>None</td>\n",
       "      <td>1</td>\n",
       "      <td>Агентство</td>\n",
       "      <td>1</td>\n",
       "      <td>6169600.0</td>\n",
       "      <td>96100</td>\n",
       "    </tr>\n",
       "  </tbody>\n",
       "</table>\n",
       "<p>114157 rows × 17 columns</p>\n",
       "</div>"
      ],
      "text/plain": [
       "        source_id       ad_id  city_id district_id type_id  \\\n",
       "0               3  2814505758       17        None       3   \n",
       "1               3  2856523926       17        None       4   \n",
       "2               3  3010508456       17        None       4   \n",
       "3               3  2884326186       17        None       5   \n",
       "4               3  2931555827       17        None       2   \n",
       "...           ...         ...      ...         ...     ...   \n",
       "114152          3  2326231151        2        None       4   \n",
       "114153          3  2358537090        2        None       4   \n",
       "114154          3  2326806083        2        None       4   \n",
       "114155          3  2816012211        2        None       4   \n",
       "114156          3  2815858552        2        None       4   \n",
       "\n",
       "                                                     addr  square floor  \\\n",
       "0                   Томск; р-н Кировский; ул. Карпова; 23    17.4     5   \n",
       "1               Томск; р-н Октябрьский; ул. Дизайнеров; 3    53.5     4   \n",
       "2       Томск; р-н Октябрьский; микрорайон Солнечный; ...    63.0    17   \n",
       "3              Томск; р-н Советский; Сибирская ул.; 102/1    68.0     1   \n",
       "4       Томск; пос. Зональная Станция; микрорайон Южны...    20.7     9   \n",
       "...                                                   ...     ...   ...   \n",
       "114152  Краснодар; р-н Прикубанский; б-р им. Адмирала ...    53.3    15   \n",
       "114153  Краснодар; р-н Прикубанский; б-р им. Адмирала ...    53.3    20   \n",
       "114154  Краснодар; р-н Прикубанский; ул. Адмирала Сере...    65.1     7   \n",
       "114155  Краснодар; р-н Прикубанский; ул. им. Кирилла Р...    64.2    15   \n",
       "114156  Краснодар; р-н Прикубанский; ул. им. Кирилла Р...    64.2    13   \n",
       "\n",
       "       house_floors                                               link  \\\n",
       "0                 5  https://www.avito.ru/tomsk/kvartiry/1-k._kvart...   \n",
       "1                10  https://www.avito.ru/tomsk/kvartiry/2-k._kvart...   \n",
       "2                18  https://www.avito.ru/tomsk/kvartiry/2-k._kvart...   \n",
       "3                 9  https://www.avito.ru/tomsk/kvartiry/3-k._kvart...   \n",
       "4                10  https://www.avito.ru/tomsk/kvartiry/kvartira-s...   \n",
       "...             ...                                                ...   \n",
       "114152           24  https://www.avito.ru/krasnodar/kvartiry/2-k._k...   \n",
       "114153           24  https://www.avito.ru/krasnodar/kvartiry/2-k._k...   \n",
       "114154           19  https://www.avito.ru/krasnodar/kvartiry/2-k._k...   \n",
       "114155           16  https://www.avito.ru/krasnodar/kvartiry/2-k._k...   \n",
       "114156           16  https://www.avito.ru/krasnodar/kvartiry/2-k._k...   \n",
       "\n",
       "             date status  version    offer_from  status_new       Цена  \\\n",
       "0      2023-03-20   None        1  Частное лицо           1  2200000.0   \n",
       "1      2023-03-20   None        1  Частное лицо           1  6700000.0   \n",
       "2      2023-03-20   None        1     Агентство           1  6100000.0   \n",
       "3      2023-03-20   None        1     Агентство           1  5100000.0   \n",
       "4      2023-03-20   None        1  Частное лицо           1  2650000.0   \n",
       "...           ...    ...      ...           ...         ...        ...   \n",
       "114152 2023-03-20   None        1    Застройщик           1  5882357.0   \n",
       "114153 2023-03-20   None        1    Застройщик           1  5882201.0   \n",
       "114154 2023-03-20   None        1    Застройщик           1  6184500.0   \n",
       "114155 2023-03-20   None        1     Агентство           1  6169625.0   \n",
       "114156 2023-03-20   None        1     Агентство           1  6169600.0   \n",
       "\n",
       "        Цена за м2  \n",
       "0           126437  \n",
       "1           125234  \n",
       "2            96825  \n",
       "3            75000  \n",
       "4           128019  \n",
       "...            ...  \n",
       "114152      110363  \n",
       "114153      110360  \n",
       "114154       95000  \n",
       "114155       96100  \n",
       "114156       96100  \n",
       "\n",
       "[114157 rows x 17 columns]"
      ]
     },
     "execution_count": 188,
     "metadata": {},
     "output_type": "execute_result"
    }
   ],
   "source": [
    "test_1"
   ]
  },
  {
   "cell_type": "code",
   "execution_count": 225,
   "id": "051639ff",
   "metadata": {
    "ExecuteTime": {
     "end_time": "2023-03-22T05:51:05.984977Z",
     "start_time": "2023-03-22T05:51:05.978513Z"
    }
   },
   "outputs": [],
   "source": [
    "def get_realty_ids(engine, today_date, source_id):\n",
    "    id_query = f\"SELECT link,id FROM realty WHERE date = '{today_date}' AND source_id = {source_id}\"\n",
    "    try:\n",
    "        con_obj=engine.connect()\n",
    "        id_db = pd.read_sql(text(id_query), con=con_obj)\n",
    "        con_obj.close()\n",
    "        exc_code = None\n",
    "    except Exception as exc:\n",
    "        print(exc)\n",
    "        id_db = None\n",
    "        exc_code = exc.code\n",
    "    return id_db, exc_code\n",
    "\n",
    "\n",
    "def create_prices(df, filename, sql_engine, source):\n",
    "    try:\n",
    "        if source == 'avito':\n",
    "            prices_df = pd.DataFrame()\n",
    "\n",
    "            # add realty_id\n",
    "            current_source_id = a.source_id.unique()[0]\n",
    "            get_realty_ids(sql_engine, get_date_from_name(filename), current_source_id)\n",
    "            realty_id_df = get_realty_ids(sql_engine, current_date, current_source)[0]\n",
    "            prices_df['realty_id'] = df['link'].map(id_df.set_index('link')['id'])\n",
    "\n",
    "            # price\n",
    "            prices_df['price'] = df['Цена']\n",
    "\n",
    "            # price_sqrm\n",
    "            prices_df['price_sqrm'] = df['Цена за м2'].astype(float)\n",
    "\n",
    "            # date\n",
    "            file_date = get_date_from_name(filename)\n",
    "            prices_df['date'] = file_date\n",
    "        else: # source == 'cian':\n",
    "            prices_df = pd.DataFrame()\n",
    "            pass\n",
    "    except Exception as ex:\n",
    "        prices_df = pd.DataFrame()\n",
    "        print(traceback.format_exc())\n",
    "        print('Не удалось обработать для prices файл', Path(saved_files[f_ind]))\n",
    "\n",
    "\n",
    "    if len(prices_df) != 0:\n",
    "        print('Успешно обработан файл {} для prices'.format(filename))\n",
    "        error_status = False\n",
    "        return prices_df, error_status\n",
    "    else:\n",
    "        error_status = True\n",
    "        print('Файл {} не удалось обработать для prices'.format(filename))\n",
    "        return prices_df, error_status"
   ]
  },
  {
   "cell_type": "code",
   "execution_count": 226,
   "id": "ca886011",
   "metadata": {
    "ExecuteTime": {
     "end_time": "2023-03-22T05:51:06.702063Z",
     "start_time": "2023-03-22T05:51:06.697401Z"
    }
   },
   "outputs": [
    {
     "data": {
      "text/plain": [
       "'20-03-23 (без дублей).csv'"
      ]
     },
     "execution_count": 226,
     "metadata": {},
     "output_type": "execute_result"
    }
   ],
   "source": [
    "files_to_process_avito[0]"
   ]
  },
  {
   "cell_type": "code",
   "execution_count": 227,
   "id": "63f9de05",
   "metadata": {
    "ExecuteTime": {
     "end_time": "2023-03-22T05:51:12.179039Z",
     "start_time": "2023-03-22T05:51:07.121370Z"
    }
   },
   "outputs": [
    {
     "name": "stdout",
     "output_type": "stream",
     "text": [
      "Успешно обработан файл 20-03-23 (без дублей).csv для prices\n"
     ]
    }
   ],
   "source": [
    "df_avito_prices, error_file_processing = create_prices(test_1, files_to_process_avito[0], sql_engine, 'avito')"
   ]
  },
  {
   "cell_type": "code",
   "execution_count": 220,
   "id": "fd559a0d",
   "metadata": {
    "ExecuteTime": {
     "end_time": "2023-03-22T05:47:29.477306Z",
     "start_time": "2023-03-22T05:47:29.472686Z"
    }
   },
   "outputs": [
    {
     "data": {
      "text/plain": [
       "'20-03-23 (без дублей).csv'"
      ]
     },
     "execution_count": 220,
     "metadata": {},
     "output_type": "execute_result"
    }
   ],
   "source": [
    "files_to_process_avito[0]"
   ]
  },
  {
   "cell_type": "code",
   "execution_count": 228,
   "id": "49079769",
   "metadata": {
    "ExecuteTime": {
     "end_time": "2023-03-22T05:51:13.182249Z",
     "start_time": "2023-03-22T05:51:13.173307Z"
    }
   },
   "outputs": [
    {
     "data": {
      "text/html": [
       "<div>\n",
       "<style scoped>\n",
       "    .dataframe tbody tr th:only-of-type {\n",
       "        vertical-align: middle;\n",
       "    }\n",
       "\n",
       "    .dataframe tbody tr th {\n",
       "        vertical-align: top;\n",
       "    }\n",
       "\n",
       "    .dataframe thead th {\n",
       "        text-align: right;\n",
       "    }\n",
       "</style>\n",
       "<table border=\"1\" class=\"dataframe\">\n",
       "  <thead>\n",
       "    <tr style=\"text-align: right;\">\n",
       "      <th></th>\n",
       "      <th>realty_id</th>\n",
       "      <th>price</th>\n",
       "      <th>price_sqrm</th>\n",
       "      <th>date</th>\n",
       "    </tr>\n",
       "  </thead>\n",
       "  <tbody>\n",
       "    <tr>\n",
       "      <th>0</th>\n",
       "      <td>NaN</td>\n",
       "      <td>2200000.0</td>\n",
       "      <td>126437.0</td>\n",
       "      <td>2023-03-20</td>\n",
       "    </tr>\n",
       "    <tr>\n",
       "      <th>1</th>\n",
       "      <td>NaN</td>\n",
       "      <td>6700000.0</td>\n",
       "      <td>125234.0</td>\n",
       "      <td>2023-03-20</td>\n",
       "    </tr>\n",
       "    <tr>\n",
       "      <th>2</th>\n",
       "      <td>NaN</td>\n",
       "      <td>6100000.0</td>\n",
       "      <td>96825.0</td>\n",
       "      <td>2023-03-20</td>\n",
       "    </tr>\n",
       "    <tr>\n",
       "      <th>3</th>\n",
       "      <td>NaN</td>\n",
       "      <td>5100000.0</td>\n",
       "      <td>75000.0</td>\n",
       "      <td>2023-03-20</td>\n",
       "    </tr>\n",
       "    <tr>\n",
       "      <th>4</th>\n",
       "      <td>NaN</td>\n",
       "      <td>2650000.0</td>\n",
       "      <td>128019.0</td>\n",
       "      <td>2023-03-20</td>\n",
       "    </tr>\n",
       "    <tr>\n",
       "      <th>...</th>\n",
       "      <td>...</td>\n",
       "      <td>...</td>\n",
       "      <td>...</td>\n",
       "      <td>...</td>\n",
       "    </tr>\n",
       "    <tr>\n",
       "      <th>114152</th>\n",
       "      <td>NaN</td>\n",
       "      <td>5882357.0</td>\n",
       "      <td>110363.0</td>\n",
       "      <td>2023-03-20</td>\n",
       "    </tr>\n",
       "    <tr>\n",
       "      <th>114153</th>\n",
       "      <td>NaN</td>\n",
       "      <td>5882201.0</td>\n",
       "      <td>110360.0</td>\n",
       "      <td>2023-03-20</td>\n",
       "    </tr>\n",
       "    <tr>\n",
       "      <th>114154</th>\n",
       "      <td>NaN</td>\n",
       "      <td>6184500.0</td>\n",
       "      <td>95000.0</td>\n",
       "      <td>2023-03-20</td>\n",
       "    </tr>\n",
       "    <tr>\n",
       "      <th>114155</th>\n",
       "      <td>NaN</td>\n",
       "      <td>6169625.0</td>\n",
       "      <td>96100.0</td>\n",
       "      <td>2023-03-20</td>\n",
       "    </tr>\n",
       "    <tr>\n",
       "      <th>114156</th>\n",
       "      <td>NaN</td>\n",
       "      <td>6169600.0</td>\n",
       "      <td>96100.0</td>\n",
       "      <td>2023-03-20</td>\n",
       "    </tr>\n",
       "  </tbody>\n",
       "</table>\n",
       "<p>114157 rows × 4 columns</p>\n",
       "</div>"
      ],
      "text/plain": [
       "       realty_id      price  price_sqrm       date\n",
       "0            NaN  2200000.0    126437.0 2023-03-20\n",
       "1            NaN  6700000.0    125234.0 2023-03-20\n",
       "2            NaN  6100000.0     96825.0 2023-03-20\n",
       "3            NaN  5100000.0     75000.0 2023-03-20\n",
       "4            NaN  2650000.0    128019.0 2023-03-20\n",
       "...          ...        ...         ...        ...\n",
       "114152       NaN  5882357.0    110363.0 2023-03-20\n",
       "114153       NaN  5882201.0    110360.0 2023-03-20\n",
       "114154       NaN  6184500.0     95000.0 2023-03-20\n",
       "114155       NaN  6169625.0     96100.0 2023-03-20\n",
       "114156       NaN  6169600.0     96100.0 2023-03-20\n",
       "\n",
       "[114157 rows x 4 columns]"
      ]
     },
     "execution_count": 228,
     "metadata": {},
     "output_type": "execute_result"
    },
    {
     "name": "stderr",
     "output_type": "stream",
     "text": [
      "2023-03-22 16:00:17,720| ERROR   | Socket exception: Удаленный хост принудительно разорвал существующее подключение (10054)\n"
     ]
    }
   ],
   "source": [
    "df_avito_prices"
   ]
  },
  {
   "cell_type": "code",
   "execution_count": null,
   "id": "89ff1ab8",
   "metadata": {},
   "outputs": [],
   "source": []
  },
  {
   "cell_type": "code",
   "execution_count": null,
   "id": "6484e874",
   "metadata": {},
   "outputs": [],
   "source": []
  },
  {
   "cell_type": "code",
   "execution_count": null,
   "id": "d7f642a3",
   "metadata": {},
   "outputs": [],
   "source": []
  },
  {
   "cell_type": "code",
   "execution_count": null,
   "id": "d8117bf7",
   "metadata": {},
   "outputs": [],
   "source": []
  },
  {
   "cell_type": "code",
   "execution_count": 17,
   "id": "8f4d7795",
   "metadata": {
    "ExecuteTime": {
     "end_time": "2023-03-22T01:40:56.342211Z",
     "start_time": "2023-03-22T01:40:55.201190Z"
    }
   },
   "outputs": [
    {
     "data": {
      "text/html": [
       "<div>\n",
       "<style scoped>\n",
       "    .dataframe tbody tr th:only-of-type {\n",
       "        vertical-align: middle;\n",
       "    }\n",
       "\n",
       "    .dataframe tbody tr th {\n",
       "        vertical-align: top;\n",
       "    }\n",
       "\n",
       "    .dataframe thead th {\n",
       "        text-align: right;\n",
       "    }\n",
       "</style>\n",
       "<table border=\"1\" class=\"dataframe\">\n",
       "  <thead>\n",
       "    <tr style=\"text-align: right;\">\n",
       "      <th></th>\n",
       "      <th>Ссылка</th>\n",
       "      <th>Заголовок</th>\n",
       "      <th>Комнат</th>\n",
       "      <th>Площадь</th>\n",
       "      <th>Этаж</th>\n",
       "      <th>Цена</th>\n",
       "      <th>Цена за м2</th>\n",
       "      <th>Название жк</th>\n",
       "      <th>Район</th>\n",
       "      <th>Улица</th>\n",
       "      <th>Дата публикации</th>\n",
       "      <th>Тип продавца</th>\n",
       "      <th>Продавец</th>\n",
       "      <th>Ссылка на продавца</th>\n",
       "      <th>Завершённых объявлений</th>\n",
       "    </tr>\n",
       "  </thead>\n",
       "  <tbody>\n",
       "    <tr>\n",
       "      <th>0</th>\n",
       "      <td>https://www.avito.ru/tomsk/kvartiry/1-k._kvart...</td>\n",
       "      <td>1-к. квартира, 17,4 м², 5/5 эт.</td>\n",
       "      <td>1-к. квартира</td>\n",
       "      <td>17,4 м²</td>\n",
       "      <td>5/5 эт.</td>\n",
       "      <td>2200000</td>\n",
       "      <td>126437</td>\n",
       "      <td>NaN</td>\n",
       "      <td>р-н Кировский</td>\n",
       "      <td>ул. Карпова, 23</td>\n",
       "      <td>2 часа назад</td>\n",
       "      <td>Частное лицо</td>\n",
       "      <td>NaN</td>\n",
       "      <td>NaN</td>\n",
       "      <td>NaN</td>\n",
       "    </tr>\n",
       "    <tr>\n",
       "      <th>1</th>\n",
       "      <td>https://www.avito.ru/tomsk/kvartiry/2-k._kvart...</td>\n",
       "      <td>2-к. квартира, 53,5 м², 4/10 эт.</td>\n",
       "      <td>2-к. квартира</td>\n",
       "      <td>53,5 м²</td>\n",
       "      <td>4/10 эт.</td>\n",
       "      <td>6700000</td>\n",
       "      <td>125234</td>\n",
       "      <td>NaN</td>\n",
       "      <td>р-н Октябрьский</td>\n",
       "      <td>ул. Дизайнеров, 3</td>\n",
       "      <td>26 минут назад</td>\n",
       "      <td>Частное лицо</td>\n",
       "      <td>NaN</td>\n",
       "      <td>NaN</td>\n",
       "      <td>NaN</td>\n",
       "    </tr>\n",
       "    <tr>\n",
       "      <th>2</th>\n",
       "      <td>https://www.avito.ru/tomsk/kvartiry/2-k._kvart...</td>\n",
       "      <td>2-к. квартира, 63 м², 17/18 эт.</td>\n",
       "      <td>2-к. квартира</td>\n",
       "      <td>63 м²</td>\n",
       "      <td>17/18 эт.</td>\n",
       "      <td>6100000</td>\n",
       "      <td>96825</td>\n",
       "      <td>NaN</td>\n",
       "      <td>р-н Октябрьский</td>\n",
       "      <td>микрорайон Солнечный, ул. Герасименко, 3/16</td>\n",
       "      <td>1 час назад</td>\n",
       "      <td>Агентство</td>\n",
       "      <td>Алёна</td>\n",
       "      <td>https://www.avito.ru/user/a09c2534dd270499116e...</td>\n",
       "      <td>95</td>\n",
       "    </tr>\n",
       "    <tr>\n",
       "      <th>3</th>\n",
       "      <td>https://www.avito.ru/tomsk/kvartiry/3-k._kvart...</td>\n",
       "      <td>3-к. квартира, 68 м², 1/9 эт.</td>\n",
       "      <td>3-к. квартира</td>\n",
       "      <td>68 м²</td>\n",
       "      <td>1/9 эт.</td>\n",
       "      <td>5100000</td>\n",
       "      <td>75000</td>\n",
       "      <td>NaN</td>\n",
       "      <td>р-н Советский</td>\n",
       "      <td>Сибирская ул., 102/1</td>\n",
       "      <td>1 час назад</td>\n",
       "      <td>Агентство</td>\n",
       "      <td>Галина</td>\n",
       "      <td>https://www.avito.ru/user/e8f384adaa1ac950015f...</td>\n",
       "      <td>59</td>\n",
       "    </tr>\n",
       "    <tr>\n",
       "      <th>4</th>\n",
       "      <td>https://www.avito.ru/tomsk/kvartiry/kvartira-s...</td>\n",
       "      <td>Квартира-студия, 20,7 м², 9/10 эт.</td>\n",
       "      <td>Квартира-студия</td>\n",
       "      <td>20,7 м²</td>\n",
       "      <td>9/10 эт.</td>\n",
       "      <td>2650000</td>\n",
       "      <td>128019</td>\n",
       "      <td>NaN</td>\n",
       "      <td>NaN</td>\n",
       "      <td>пос. Зональная Станция, микрорайон Южные Ворот...</td>\n",
       "      <td>2 часа назад</td>\n",
       "      <td>Частное лицо</td>\n",
       "      <td>NaN</td>\n",
       "      <td>NaN</td>\n",
       "      <td>NaN</td>\n",
       "    </tr>\n",
       "    <tr>\n",
       "      <th>...</th>\n",
       "      <td>...</td>\n",
       "      <td>...</td>\n",
       "      <td>...</td>\n",
       "      <td>...</td>\n",
       "      <td>...</td>\n",
       "      <td>...</td>\n",
       "      <td>...</td>\n",
       "      <td>...</td>\n",
       "      <td>...</td>\n",
       "      <td>...</td>\n",
       "      <td>...</td>\n",
       "      <td>...</td>\n",
       "      <td>...</td>\n",
       "      <td>...</td>\n",
       "      <td>...</td>\n",
       "    </tr>\n",
       "    <tr>\n",
       "      <th>115810</th>\n",
       "      <td>https://www.avito.ru/krasnodar/kvartiry/2-k._k...</td>\n",
       "      <td>2-к. квартира, 65,1 м², 7/19 эт.</td>\n",
       "      <td>2-к. квартира</td>\n",
       "      <td>65,1 м²</td>\n",
       "      <td>7/19 эт.</td>\n",
       "      <td>6184500</td>\n",
       "      <td>95000</td>\n",
       "      <td>Группа компаний ИНСИТИ</td>\n",
       "      <td>р-н Прикубанский</td>\n",
       "      <td>ул. Адмирала Серебрякова, д. 3, корп. 1</td>\n",
       "      <td>5 дней назад</td>\n",
       "      <td>Застройщик</td>\n",
       "      <td>Группа компаний ИНСИТИ</td>\n",
       "      <td>https://www.avito.ru/user/d1aa4a721290dfdad727...</td>\n",
       "      <td>7916</td>\n",
       "    </tr>\n",
       "    <tr>\n",
       "      <th>115811</th>\n",
       "      <td>https://www.avito.ru/krasnodar/kvartiry/2-k._k...</td>\n",
       "      <td>2-к. квартира, 64,2 м², 15/16 эт.</td>\n",
       "      <td>2-к. квартира</td>\n",
       "      <td>64,2 м²</td>\n",
       "      <td>15/16 эт.</td>\n",
       "      <td>6169625</td>\n",
       "      <td>96100</td>\n",
       "      <td>Время Группа Компаний</td>\n",
       "      <td>р-н Прикубанский</td>\n",
       "      <td>ул. им. Кирилла Россинского, д. 3/1</td>\n",
       "      <td>1 час назад</td>\n",
       "      <td>Агентство</td>\n",
       "      <td>Время Группа Компаний</td>\n",
       "      <td>https://www.avito.ru/user/0c771d40b5f5e02cde46...</td>\n",
       "      <td>NaN</td>\n",
       "    </tr>\n",
       "    <tr>\n",
       "      <th>115812</th>\n",
       "      <td>https://www.avito.ru/krasnodar/kvartiry/2-k._k...</td>\n",
       "      <td>2-к. квартира, 64,2 м², 13/16 эт.</td>\n",
       "      <td>2-к. квартира</td>\n",
       "      <td>64,2 м²</td>\n",
       "      <td>13/16 эт.</td>\n",
       "      <td>6169600</td>\n",
       "      <td>96100</td>\n",
       "      <td>Время Группа Компаний</td>\n",
       "      <td>р-н Прикубанский</td>\n",
       "      <td>ул. им. Кирилла Россинского, д. 3/1</td>\n",
       "      <td>1 час назад</td>\n",
       "      <td>Агентство</td>\n",
       "      <td>Время Группа Компаний</td>\n",
       "      <td>https://www.avito.ru/user/0c771d40b5f5e02cde46...</td>\n",
       "      <td>NaN</td>\n",
       "    </tr>\n",
       "    <tr>\n",
       "      <th>115813</th>\n",
       "      <td>https://www.avito.ru/krasnodar/kvartiry/2-k._k...</td>\n",
       "      <td>2-к. квартира, 64,2 м², 15/16 эт.</td>\n",
       "      <td>2-к. квартира</td>\n",
       "      <td>64,2 м²</td>\n",
       "      <td>15/16 эт.</td>\n",
       "      <td>6169625</td>\n",
       "      <td>96100</td>\n",
       "      <td>Время Группа Компаний</td>\n",
       "      <td>р-н Прикубанский</td>\n",
       "      <td>ул. им. Кирилла Россинского, д. 3/1</td>\n",
       "      <td>1 час назад</td>\n",
       "      <td>Агентство</td>\n",
       "      <td>Время Группа Компаний</td>\n",
       "      <td>https://www.avito.ru/user/0c771d40b5f5e02cde46...</td>\n",
       "      <td>NaN</td>\n",
       "    </tr>\n",
       "    <tr>\n",
       "      <th>115814</th>\n",
       "      <td>https://www.avito.ru/krasnodar/kvartiry/2-k._k...</td>\n",
       "      <td>2-к. квартира, 64,2 м², 13/16 эт.</td>\n",
       "      <td>2-к. квартира</td>\n",
       "      <td>64,2 м²</td>\n",
       "      <td>13/16 эт.</td>\n",
       "      <td>6169600</td>\n",
       "      <td>96100</td>\n",
       "      <td>Время Группа Компаний</td>\n",
       "      <td>р-н Прикубанский</td>\n",
       "      <td>ул. им. Кирилла Россинского, д. 3/1</td>\n",
       "      <td>1 час назад</td>\n",
       "      <td>Агентство</td>\n",
       "      <td>Время Группа Компаний</td>\n",
       "      <td>https://www.avito.ru/user/0c771d40b5f5e02cde46...</td>\n",
       "      <td>NaN</td>\n",
       "    </tr>\n",
       "  </tbody>\n",
       "</table>\n",
       "<p>115815 rows × 15 columns</p>\n",
       "</div>"
      ],
      "text/plain": [
       "                                                   Ссылка  \\\n",
       "0       https://www.avito.ru/tomsk/kvartiry/1-k._kvart...   \n",
       "1       https://www.avito.ru/tomsk/kvartiry/2-k._kvart...   \n",
       "2       https://www.avito.ru/tomsk/kvartiry/2-k._kvart...   \n",
       "3       https://www.avito.ru/tomsk/kvartiry/3-k._kvart...   \n",
       "4       https://www.avito.ru/tomsk/kvartiry/kvartira-s...   \n",
       "...                                                   ...   \n",
       "115810  https://www.avito.ru/krasnodar/kvartiry/2-k._k...   \n",
       "115811  https://www.avito.ru/krasnodar/kvartiry/2-k._k...   \n",
       "115812  https://www.avito.ru/krasnodar/kvartiry/2-k._k...   \n",
       "115813  https://www.avito.ru/krasnodar/kvartiry/2-k._k...   \n",
       "115814  https://www.avito.ru/krasnodar/kvartiry/2-k._k...   \n",
       "\n",
       "                                 Заголовок           Комнат  Площадь  \\\n",
       "0          1-к. квартира, 17,4 м², 5/5 эт.    1-к. квартира  17,4 м²   \n",
       "1         2-к. квартира, 53,5 м², 4/10 эт.    2-к. квартира  53,5 м²   \n",
       "2          2-к. квартира, 63 м², 17/18 эт.    2-к. квартира    63 м²   \n",
       "3            3-к. квартира, 68 м², 1/9 эт.    3-к. квартира    68 м²   \n",
       "4       Квартира-студия, 20,7 м², 9/10 эт.  Квартира-студия  20,7 м²   \n",
       "...                                    ...              ...      ...   \n",
       "115810    2-к. квартира, 65,1 м², 7/19 эт.    2-к. квартира  65,1 м²   \n",
       "115811   2-к. квартира, 64,2 м², 15/16 эт.    2-к. квартира  64,2 м²   \n",
       "115812   2-к. квартира, 64,2 м², 13/16 эт.    2-к. квартира  64,2 м²   \n",
       "115813   2-к. квартира, 64,2 м², 15/16 эт.    2-к. квартира  64,2 м²   \n",
       "115814   2-к. квартира, 64,2 м², 13/16 эт.    2-к. квартира  64,2 м²   \n",
       "\n",
       "             Этаж     Цена  Цена за м2             Название жк  \\\n",
       "0         5/5 эт.  2200000      126437                     NaN   \n",
       "1        4/10 эт.  6700000      125234                     NaN   \n",
       "2       17/18 эт.  6100000       96825                     NaN   \n",
       "3         1/9 эт.  5100000       75000                     NaN   \n",
       "4        9/10 эт.  2650000      128019                     NaN   \n",
       "...           ...      ...         ...                     ...   \n",
       "115810   7/19 эт.  6184500       95000  Группа компаний ИНСИТИ   \n",
       "115811  15/16 эт.  6169625       96100   Время Группа Компаний   \n",
       "115812  13/16 эт.  6169600       96100   Время Группа Компаний   \n",
       "115813  15/16 эт.  6169625       96100   Время Группа Компаний   \n",
       "115814  13/16 эт.  6169600       96100   Время Группа Компаний   \n",
       "\n",
       "                   Район                                              Улица  \\\n",
       "0          р-н Кировский                                    ул. Карпова, 23   \n",
       "1        р-н Октябрьский                                  ул. Дизайнеров, 3   \n",
       "2        р-н Октябрьский        микрорайон Солнечный, ул. Герасименко, 3/16   \n",
       "3          р-н Советский                               Сибирская ул., 102/1   \n",
       "4                    NaN  пос. Зональная Станция, микрорайон Южные Ворот...   \n",
       "...                  ...                                                ...   \n",
       "115810  р-н Прикубанский            ул. Адмирала Серебрякова, д. 3, корп. 1   \n",
       "115811  р-н Прикубанский                ул. им. Кирилла Россинского, д. 3/1   \n",
       "115812  р-н Прикубанский                ул. им. Кирилла Россинского, д. 3/1   \n",
       "115813  р-н Прикубанский                ул. им. Кирилла Россинского, д. 3/1   \n",
       "115814  р-н Прикубанский                ул. им. Кирилла Россинского, д. 3/1   \n",
       "\n",
       "       Дата публикации  Тип продавца                Продавец  \\\n",
       "0         2 часа назад  Частное лицо                     NaN   \n",
       "1       26 минут назад  Частное лицо                     NaN   \n",
       "2          1 час назад     Агентство                   Алёна   \n",
       "3          1 час назад     Агентство                  Галина   \n",
       "4         2 часа назад  Частное лицо                     NaN   \n",
       "...                ...           ...                     ...   \n",
       "115810    5 дней назад    Застройщик  Группа компаний ИНСИТИ   \n",
       "115811     1 час назад     Агентство   Время Группа Компаний   \n",
       "115812     1 час назад     Агентство   Время Группа Компаний   \n",
       "115813     1 час назад     Агентство   Время Группа Компаний   \n",
       "115814     1 час назад     Агентство   Время Группа Компаний   \n",
       "\n",
       "                                       Ссылка на продавца  \\\n",
       "0                                                     NaN   \n",
       "1                                                     NaN   \n",
       "2       https://www.avito.ru/user/a09c2534dd270499116e...   \n",
       "3       https://www.avito.ru/user/e8f384adaa1ac950015f...   \n",
       "4                                                     NaN   \n",
       "...                                                   ...   \n",
       "115810  https://www.avito.ru/user/d1aa4a721290dfdad727...   \n",
       "115811  https://www.avito.ru/user/0c771d40b5f5e02cde46...   \n",
       "115812  https://www.avito.ru/user/0c771d40b5f5e02cde46...   \n",
       "115813  https://www.avito.ru/user/0c771d40b5f5e02cde46...   \n",
       "115814  https://www.avito.ru/user/0c771d40b5f5e02cde46...   \n",
       "\n",
       "       Завершённых объявлений  \n",
       "0                         NaN  \n",
       "1                         NaN  \n",
       "2                          95  \n",
       "3                          59  \n",
       "4                         NaN  \n",
       "...                       ...  \n",
       "115810                   7916  \n",
       "115811                    NaN  \n",
       "115812                    NaN  \n",
       "115813                    NaN  \n",
       "115814                    NaN  \n",
       "\n",
       "[115815 rows x 15 columns]"
      ]
     },
     "execution_count": 17,
     "metadata": {},
     "output_type": "execute_result"
    }
   ],
   "source": [
    "pd.read_csv('saved_avito_csv/20-03-23 (без дублей).csv', encoding='utf8', delimiter=';')"
   ]
  },
  {
   "cell_type": "code",
   "execution_count": null,
   "id": "7270da85",
   "metadata": {},
   "outputs": [],
   "source": []
  },
  {
   "cell_type": "code",
   "execution_count": null,
   "id": "0ba12bca",
   "metadata": {},
   "outputs": [],
   "source": []
  },
  {
   "cell_type": "code",
   "execution_count": null,
   "id": "874fdc0a",
   "metadata": {},
   "outputs": [],
   "source": []
  },
  {
   "cell_type": "markdown",
   "id": "704195c4",
   "metadata": {},
   "source": [
    "# import modules and values"
   ]
  },
  {
   "cell_type": "code",
   "execution_count": 1,
   "id": "ee53e4d7",
   "metadata": {
    "ExecuteTime": {
     "end_time": "2023-03-24T04:37:22.054094Z",
     "start_time": "2023-03-24T04:37:20.246611Z"
    }
   },
   "outputs": [],
   "source": [
    "import requests\n",
    "import zipfile\n",
    "import io\n",
    "import os \n",
    "import shutil\n",
    "import pandas as pd\n",
    "import logging\n",
    "import configparser\n",
    "import shutil\n",
    "import random\n",
    "import re\n",
    "import traceback\n",
    "import yadisk\n",
    "\n",
    "from pathlib import Path\n",
    "from datetime import datetime\n",
    "from sshtunnel import SSHTunnelForwarder\n",
    "from sqlalchemy import create_engine, text, NullPool\n",
    "\n",
    "import warnings\n",
    "warnings.filterwarnings(\"ignore\")"
   ]
  },
  {
   "cell_type": "code",
   "execution_count": 2,
   "id": "a6824a88",
   "metadata": {
    "ExecuteTime": {
     "end_time": "2023-03-24T04:45:56.756455Z",
     "start_time": "2023-03-24T04:45:56.748378Z"
    }
   },
   "outputs": [
    {
     "data": {
      "text/html": [
       "<style>.container { width:90% !important; }</style>"
      ],
      "text/plain": [
       "<IPython.core.display.HTML object>"
      ]
     },
     "metadata": {},
     "output_type": "display_data"
    }
   ],
   "source": [
    "from IPython.display import display, HTML\n",
    "display(HTML(\"<style>.container { width:90% !important; }</style>\"))"
   ]
  },
  {
   "cell_type": "code",
   "execution_count": 3,
   "id": "9b1fe54f",
   "metadata": {
    "ExecuteTime": {
     "end_time": "2023-03-24T04:37:23.029292Z",
     "start_time": "2023-03-24T04:37:23.020576Z"
    }
   },
   "outputs": [],
   "source": [
    "import configparser\n",
    "\n",
    "config = configparser.ConfigParser()\n",
    "config.read('config.ini')\n",
    "ssh_host = config['database']['ssh_host_test']\n",
    "ssh_port = int(config['database']['ssh_port'])\n",
    "ssh_username = config['database']['ssh_username']\n",
    "ssh_password = config['database']['ssh_password']\n",
    "database_username = config['database']['database_username']\n",
    "database_password = config['database']['database_password']\n",
    "database_name = config['database']['database_name']\n",
    "localhost = config['database']['localhost']\n",
    "localhost_port = int(config['database']['localhost_port'])\n",
    "table_name = config['database']['table_name']\n",
    "ya_api = config['yandex']['ya_api']\n",
    "ya_link = config['yandex']['ya_link']\n",
    "ya_token = config['yandex']['ya_token']"
   ]
  },
  {
   "cell_type": "markdown",
   "id": "c18eb373",
   "metadata": {
    "pycharm": {
     "name": "#%% md\n"
    }
   },
   "source": [
    "# define saving dir"
   ]
  },
  {
   "cell_type": "code",
   "execution_count": 5,
   "id": "90075d0a",
   "metadata": {
    "pycharm": {
     "name": "#%%\n"
    },
    "scrolled": false
   },
   "outputs": [],
   "source": [
    "def create_load_save_dir():\n",
    "    try:\n",
    "        Path.mkdir(Path.cwd()/'saved_csv')\n",
    "    except:\n",
    "        pass\n",
    "    save_dir = (Path.cwd()/'saved_csv').as_posix()\n",
    "    return save_dir"
   ]
  },
  {
   "cell_type": "code",
   "execution_count": 6,
   "id": "78d36b63",
   "metadata": {
    "pycharm": {
     "name": "#%%\n"
    },
    "scrolled": false
   },
   "outputs": [],
   "source": [
    "local_save_dir = create_load_save_dir()"
   ]
  },
  {
   "cell_type": "code",
   "execution_count": 7,
   "id": "f7338a25",
   "metadata": {
    "pycharm": {
     "name": "#%%\n"
    },
    "scrolled": false
   },
   "outputs": [
    {
     "data": {
      "text/plain": [
       "'C:/Users/pnknv/Documents/GitHub/yadisk_loader/saved_csv'"
      ]
     },
     "execution_count": 7,
     "metadata": {},
     "output_type": "execute_result"
    }
   ],
   "source": [
    "local_save_dir"
   ]
  },
  {
   "cell_type": "markdown",
   "id": "abe6b81c",
   "metadata": {
    "pycharm": {
     "name": "#%% md\n"
    }
   },
   "source": [
    "# get list of files already in database table test_avito_parsed"
   ]
  },
  {
   "cell_type": "code",
   "execution_count": 8,
   "id": "1800650f",
   "metadata": {
    "pycharm": {
     "name": "#%%\n"
    },
    "scrolled": false
   },
   "outputs": [],
   "source": [
    "def get_today_date():\n",
    "    return datetime.strftime(datetime.today(), format = \"%d/%m/%Y, %H:%M:%S\")"
   ]
  },
  {
   "cell_type": "code",
   "execution_count": 5,
   "id": "0278e730",
   "metadata": {
    "ExecuteTime": {
     "end_time": "2023-03-24T04:38:23.382190Z",
     "start_time": "2023-03-24T04:38:23.377477Z"
    },
    "pycharm": {
     "name": "#%%\n"
    },
    "scrolled": false
   },
   "outputs": [],
   "source": [
    "def get_sql_engine(ssh_host, ssh_port, ssh_username, ssh_password, localhost,\n",
    "                   localhost_port, database_username, database_password, database_name):\n",
    "    \n",
    "    sql_server = SSHTunnelForwarder(\n",
    "        (ssh_host, ssh_port),\n",
    "        ssh_username=ssh_username,\n",
    "        ssh_password=ssh_password,\n",
    "        remote_bind_address=(localhost, localhost_port)\n",
    "    )\n",
    "\n",
    "    sql_server.start()\n",
    "    local_port = str(sql_server.local_bind_port)\n",
    "    sql_engine = create_engine('mariadb+pymysql://{}:{}@{}:{}/{}'.format(database_username, database_password,\n",
    "                                                                         localhost, local_port, database_name), \n",
    "                               poolclass=NullPool)\n",
    "\n",
    "    return sql_server, sql_engine"
   ]
  },
  {
   "cell_type": "code",
   "execution_count": 6,
   "id": "8c7366a3",
   "metadata": {
    "ExecuteTime": {
     "end_time": "2023-03-24T07:35:33.763845Z",
     "start_time": "2023-03-24T07:35:32.218746Z"
    },
    "pycharm": {
     "name": "#%%\n"
    },
    "scrolled": false
   },
   "outputs": [],
   "source": [
    "sql_server, sql_engine = get_sql_engine(ssh_host, ssh_port, ssh_username, ssh_password, localhost, \n",
    "                                        localhost_port, database_username, database_password, database_name)"
   ]
  },
  {
   "cell_type": "markdown",
   "id": "2cb2e8a6",
   "metadata": {},
   "source": [
    "# get table of cities"
   ]
  },
  {
   "cell_type": "code",
   "execution_count": 11,
   "id": "dd55a0fe",
   "metadata": {
    "ExecuteTime": {
     "end_time": "2023-03-24T04:38:29.326411Z",
     "start_time": "2023-03-24T04:38:29.315703Z"
    }
   },
   "outputs": [],
   "source": [
    "def get_tables_info(engine):\n",
    "    cities_query='SELECT * FROM city'\n",
    "    types_query='SELECT * FROM realty_types'\n",
    "    source_query='SELECT id, name FROM sources'\n",
    "    district_query = 'SELECT DISTINCT id, city_id, name FROM districts'\n",
    "    try:\n",
    "        con_obj=engine.connect()\n",
    "        city_db = pd.read_sql(text(cities_query), con=con_obj)\n",
    "        realty_type_db = pd.read_sql(text(types_query), con=con_obj)\n",
    "        source_db = pd.read_sql(text(source_query), con=con_obj)\n",
    "        district_db = pd.read_sql(text(district_query), con=con_obj)\n",
    "        con_obj.close()\n",
    "        exc_code = None\n",
    "    except Exception as exc:\n",
    "        print(exc)\n",
    "        city_db = None\n",
    "        realty_type_db = None\n",
    "        source_db = None\n",
    "        district_db = None\n",
    "        exc_code = exc.code\n",
    "    return city_db, realty_type_db, source_db, district_db, exc_code"
   ]
  },
  {
   "cell_type": "code",
   "execution_count": 12,
   "id": "d4dbf263",
   "metadata": {
    "ExecuteTime": {
     "end_time": "2023-03-24T04:38:33.696642Z",
     "start_time": "2023-03-24T04:38:29.716967Z"
    }
   },
   "outputs": [],
   "source": [
    "city_df, realty_type_df, source_df, district_df, exc_code = get_tables_info(sql_engine)"
   ]
  },
  {
   "cell_type": "code",
   "execution_count": 97,
   "id": "e5f9db9f",
   "metadata": {
    "ExecuteTime": {
     "end_time": "2023-03-22T02:44:21.445699Z",
     "start_time": "2023-03-22T02:44:21.436846Z"
    }
   },
   "outputs": [
    {
     "data": {
      "text/plain": [
       "True"
      ]
     },
     "execution_count": 97,
     "metadata": {},
     "output_type": "execute_result"
    }
   ],
   "source": [
    "exc_code is None"
   ]
  },
  {
   "cell_type": "code",
   "execution_count": 14,
   "id": "cab369e7",
   "metadata": {},
   "outputs": [
    {
     "data": {
      "text/html": [
       "<div>\n",
       "<style scoped>\n",
       "    .dataframe tbody tr th:only-of-type {\n",
       "        vertical-align: middle;\n",
       "    }\n",
       "\n",
       "    .dataframe tbody tr th {\n",
       "        vertical-align: top;\n",
       "    }\n",
       "\n",
       "    .dataframe thead th {\n",
       "        text-align: right;\n",
       "    }\n",
       "</style>\n",
       "<table border=\"1\" class=\"dataframe\">\n",
       "  <thead>\n",
       "    <tr style=\"text-align: right;\">\n",
       "      <th></th>\n",
       "      <th>id</th>\n",
       "      <th>name</th>\n",
       "      <th>url_avito</th>\n",
       "      <th>population</th>\n",
       "    </tr>\n",
       "  </thead>\n",
       "  <tbody>\n",
       "    <tr>\n",
       "      <th>0</th>\n",
       "      <td>1</td>\n",
       "      <td>Владивосток</td>\n",
       "      <td>vladivostok</td>\n",
       "      <td>0</td>\n",
       "    </tr>\n",
       "    <tr>\n",
       "      <th>1</th>\n",
       "      <td>2</td>\n",
       "      <td>Краснодар</td>\n",
       "      <td>krasnodar</td>\n",
       "      <td>0</td>\n",
       "    </tr>\n",
       "  </tbody>\n",
       "</table>\n",
       "</div>"
      ],
      "text/plain": [
       "   id         name    url_avito  population\n",
       "0   1  Владивосток  vladivostok           0\n",
       "1   2    Краснодар    krasnodar           0"
      ]
     },
     "execution_count": 14,
     "metadata": {},
     "output_type": "execute_result"
    }
   ],
   "source": [
    "city_df.head(2)"
   ]
  },
  {
   "cell_type": "code",
   "execution_count": 15,
   "id": "cf635263",
   "metadata": {},
   "outputs": [
    {
     "data": {
      "text/html": [
       "<div>\n",
       "<style scoped>\n",
       "    .dataframe tbody tr th:only-of-type {\n",
       "        vertical-align: middle;\n",
       "    }\n",
       "\n",
       "    .dataframe tbody tr th {\n",
       "        vertical-align: top;\n",
       "    }\n",
       "\n",
       "    .dataframe thead th {\n",
       "        text-align: right;\n",
       "    }\n",
       "</style>\n",
       "<table border=\"1\" class=\"dataframe\">\n",
       "  <thead>\n",
       "    <tr style=\"text-align: right;\">\n",
       "      <th></th>\n",
       "      <th>id</th>\n",
       "      <th>name</th>\n",
       "      <th>rooms</th>\n",
       "    </tr>\n",
       "  </thead>\n",
       "  <tbody>\n",
       "    <tr>\n",
       "      <th>0</th>\n",
       "      <td>1</td>\n",
       "      <td>Комната</td>\n",
       "      <td>1</td>\n",
       "    </tr>\n",
       "    <tr>\n",
       "      <th>1</th>\n",
       "      <td>2</td>\n",
       "      <td>Гостинка</td>\n",
       "      <td>1</td>\n",
       "    </tr>\n",
       "    <tr>\n",
       "      <th>2</th>\n",
       "      <td>3</td>\n",
       "      <td>1-комнатная</td>\n",
       "      <td>1</td>\n",
       "    </tr>\n",
       "    <tr>\n",
       "      <th>3</th>\n",
       "      <td>4</td>\n",
       "      <td>2-комнатная</td>\n",
       "      <td>2</td>\n",
       "    </tr>\n",
       "    <tr>\n",
       "      <th>4</th>\n",
       "      <td>5</td>\n",
       "      <td>3-комнатная</td>\n",
       "      <td>3</td>\n",
       "    </tr>\n",
       "    <tr>\n",
       "      <th>5</th>\n",
       "      <td>6</td>\n",
       "      <td>4-комнатная</td>\n",
       "      <td>4</td>\n",
       "    </tr>\n",
       "    <tr>\n",
       "      <th>6</th>\n",
       "      <td>7</td>\n",
       "      <td>5-комнатная</td>\n",
       "      <td>5</td>\n",
       "    </tr>\n",
       "    <tr>\n",
       "      <th>7</th>\n",
       "      <td>8</td>\n",
       "      <td>6 комнат и более</td>\n",
       "      <td>6</td>\n",
       "    </tr>\n",
       "  </tbody>\n",
       "</table>\n",
       "</div>"
      ],
      "text/plain": [
       "   id              name  rooms\n",
       "0   1           Комната      1\n",
       "1   2          Гостинка      1\n",
       "2   3       1-комнатная      1\n",
       "3   4       2-комнатная      2\n",
       "4   5       3-комнатная      3\n",
       "5   6       4-комнатная      4\n",
       "6   7       5-комнатная      5\n",
       "7   8  6 комнат и более      6"
      ]
     },
     "execution_count": 15,
     "metadata": {},
     "output_type": "execute_result"
    }
   ],
   "source": [
    "realty_type_df"
   ]
  },
  {
   "cell_type": "code",
   "execution_count": 16,
   "id": "c93324e0",
   "metadata": {},
   "outputs": [
    {
     "data": {
      "text/html": [
       "<div>\n",
       "<style scoped>\n",
       "    .dataframe tbody tr th:only-of-type {\n",
       "        vertical-align: middle;\n",
       "    }\n",
       "\n",
       "    .dataframe tbody tr th {\n",
       "        vertical-align: top;\n",
       "    }\n",
       "\n",
       "    .dataframe thead th {\n",
       "        text-align: right;\n",
       "    }\n",
       "</style>\n",
       "<table border=\"1\" class=\"dataframe\">\n",
       "  <thead>\n",
       "    <tr style=\"text-align: right;\">\n",
       "      <th></th>\n",
       "      <th>id</th>\n",
       "      <th>name</th>\n",
       "    </tr>\n",
       "  </thead>\n",
       "  <tbody>\n",
       "    <tr>\n",
       "      <th>0</th>\n",
       "      <td>1</td>\n",
       "      <td>farpost</td>\n",
       "    </tr>\n",
       "    <tr>\n",
       "      <th>1</th>\n",
       "      <td>2</td>\n",
       "      <td>cian</td>\n",
       "    </tr>\n",
       "    <tr>\n",
       "      <th>2</th>\n",
       "      <td>3</td>\n",
       "      <td>avito</td>\n",
       "    </tr>\n",
       "  </tbody>\n",
       "</table>\n",
       "</div>"
      ],
      "text/plain": [
       "   id     name\n",
       "0   1  farpost\n",
       "1   2     cian\n",
       "2   3    avito"
      ]
     },
     "execution_count": 16,
     "metadata": {},
     "output_type": "execute_result"
    }
   ],
   "source": [
    "source_df"
   ]
  },
  {
   "cell_type": "code",
   "execution_count": 17,
   "id": "a54b0e41",
   "metadata": {},
   "outputs": [
    {
     "data": {
      "text/html": [
       "<div>\n",
       "<style scoped>\n",
       "    .dataframe tbody tr th:only-of-type {\n",
       "        vertical-align: middle;\n",
       "    }\n",
       "\n",
       "    .dataframe tbody tr th {\n",
       "        vertical-align: top;\n",
       "    }\n",
       "\n",
       "    .dataframe thead th {\n",
       "        text-align: right;\n",
       "    }\n",
       "</style>\n",
       "<table border=\"1\" class=\"dataframe\">\n",
       "  <thead>\n",
       "    <tr style=\"text-align: right;\">\n",
       "      <th></th>\n",
       "      <th>id</th>\n",
       "      <th>city_id</th>\n",
       "      <th>name</th>\n",
       "    </tr>\n",
       "  </thead>\n",
       "  <tbody>\n",
       "    <tr>\n",
       "      <th>0</th>\n",
       "      <td>1</td>\n",
       "      <td>1</td>\n",
       "      <td>64, 71 микрорайоны</td>\n",
       "    </tr>\n",
       "    <tr>\n",
       "      <th>1</th>\n",
       "      <td>2</td>\n",
       "      <td>1</td>\n",
       "      <td>Баляева</td>\n",
       "    </tr>\n",
       "    <tr>\n",
       "      <th>2</th>\n",
       "      <td>3</td>\n",
       "      <td>1</td>\n",
       "      <td>БАМ</td>\n",
       "    </tr>\n",
       "    <tr>\n",
       "      <th>3</th>\n",
       "      <td>4</td>\n",
       "      <td>1</td>\n",
       "      <td>Борисенко</td>\n",
       "    </tr>\n",
       "    <tr>\n",
       "      <th>4</th>\n",
       "      <td>5</td>\n",
       "      <td>1</td>\n",
       "      <td>Весенняя</td>\n",
       "    </tr>\n",
       "    <tr>\n",
       "      <th>...</th>\n",
       "      <td>...</td>\n",
       "      <td>...</td>\n",
       "      <td>...</td>\n",
       "    </tr>\n",
       "    <tr>\n",
       "      <th>498</th>\n",
       "      <td>499</td>\n",
       "      <td>18</td>\n",
       "      <td>Матвеевка</td>\n",
       "    </tr>\n",
       "    <tr>\n",
       "      <th>499</th>\n",
       "      <td>500</td>\n",
       "      <td>18</td>\n",
       "      <td>Южный</td>\n",
       "    </tr>\n",
       "    <tr>\n",
       "      <th>500</th>\n",
       "      <td>501</td>\n",
       "      <td>18</td>\n",
       "      <td>Акварельный</td>\n",
       "    </tr>\n",
       "    <tr>\n",
       "      <th>501</th>\n",
       "      <td>502</td>\n",
       "      <td>18</td>\n",
       "      <td>Огурцово</td>\n",
       "    </tr>\n",
       "    <tr>\n",
       "      <th>502</th>\n",
       "      <td>503</td>\n",
       "      <td>2</td>\n",
       "      <td>Березовый</td>\n",
       "    </tr>\n",
       "  </tbody>\n",
       "</table>\n",
       "<p>503 rows × 3 columns</p>\n",
       "</div>"
      ],
      "text/plain": [
       "      id  city_id                name\n",
       "0      1        1  64, 71 микрорайоны\n",
       "1      2        1             Баляева\n",
       "2      3        1                 БАМ\n",
       "3      4        1           Борисенко\n",
       "4      5        1            Весенняя\n",
       "..   ...      ...                 ...\n",
       "498  499       18           Матвеевка\n",
       "499  500       18               Южный\n",
       "500  501       18         Акварельный\n",
       "501  502       18            Огурцово\n",
       "502  503        2           Березовый\n",
       "\n",
       "[503 rows x 3 columns]"
      ]
     },
     "execution_count": 17,
     "metadata": {},
     "output_type": "execute_result"
    }
   ],
   "source": [
    "district_df"
   ]
  },
  {
   "cell_type": "markdown",
   "id": "da2c671f",
   "metadata": {
    "pycharm": {
     "name": "#%% md\n"
    }
   },
   "source": [
    "# load files"
   ]
  },
  {
   "cell_type": "code",
   "execution_count": 18,
   "id": "c18d25e4",
   "metadata": {
    "pycharm": {
     "name": "#%%\n"
    },
    "scrolled": false
   },
   "outputs": [],
   "source": [
    "def get_direct_link(sharing_link):\n",
    "    pk_request = requests.get(ya_api.format(sharing_link))\n",
    "    # None если не удается преоброазовать ссылку\n",
    "    return pk_request.json().get('href')\n",
    "\n",
    "def download_yadisk_files(sharing_link, list_file_exist, save_dir):\n",
    "    direct_link = get_direct_link(sharing_link)\n",
    "    if direct_link:\n",
    "        download = requests.get(direct_link)\n",
    "        zips = zipfile.ZipFile(io.BytesIO(download.content))\n",
    "        cnt = 0\n",
    "        print(\"files loaded\")\n",
    "        for member in zips.namelist():\n",
    "            filename = os.path.basename(member)\n",
    "            if not filename or Path(filename).stem in list_file_exist:\n",
    "                continue\n",
    "            src = zips.open(member)\n",
    "            target = open(os.path.join(save_dir, filename), 'wb')\n",
    "            with src, target:\n",
    "                shutil.copyfileobj(src, target)\n",
    "                cnt += 1\n",
    "            target.close()\n",
    "        print('Succesfully downloaded {} files from \"{}\"'.format(cnt, sharing_link))\n",
    "        return None\n",
    "    else:\n",
    "        print('Failed to download files from \"{}\"'.format(sharing_link))\n",
    "        return 'error loading files'"
   ]
  },
  {
   "cell_type": "code",
   "execution_count": 19,
   "id": "e5225720",
   "metadata": {
    "pycharm": {
     "name": "#%%\n"
    },
    "scrolled": false
   },
   "outputs": [
    {
     "name": "stdout",
     "output_type": "stream",
     "text": [
      "CPU times: total: 0 ns\n",
      "Wall time: 0 ns\n"
     ]
    }
   ],
   "source": [
    "%time\n",
    "# error_file_loading = download_yadisk_files(ya_link, files_in_db, local_save_dir)"
   ]
  },
  {
   "cell_type": "code",
   "execution_count": 20,
   "id": "607008b2",
   "metadata": {},
   "outputs": [],
   "source": [
    "# error_file_loading is None"
   ]
  },
  {
   "cell_type": "markdown",
   "id": "7a3c4925",
   "metadata": {
    "pycharm": {
     "name": "#%% md\n"
    }
   },
   "source": [
    "# upload files to database "
   ]
  },
  {
   "cell_type": "code",
   "execution_count": 21,
   "id": "afd8b553",
   "metadata": {
    "pycharm": {
     "name": "#%%\n"
    },
    "scrolled": false
   },
   "outputs": [],
   "source": [
    "def get_local_files(save_dir):\n",
    "    p = Path(save_dir).glob('**/*')\n",
    "    saved_files_list = [x.as_posix() for x in p if x.is_file()]\n",
    "    return saved_files_list\n",
    "\n",
    "def create_csv(save_directory):\n",
    "    saved_files = get_local_files(save_directory)\n",
    "    cnt_files = 0\n",
    "    for f_ind in range(len(saved_files)):\n",
    "        try:\n",
    "            saved_files_new = pd.read_csv(saved_files[f_ind], delimiter=';', encoding='utf8')\n",
    "            saved_files_new['file_name'] = Path(saved_files[f_ind]).stem\n",
    "            parsed_csv = parsed_csv.append(saved_files_new)\n",
    "        except:\n",
    "            parsed_csv = pd.read_csv(saved_files[f_ind], delimiter=';', encoding='utf8')\n",
    "            parsed_csv['file_name'] = Path(saved_files[f_ind]).stem\n",
    "        cnt_files += 1\n",
    "        \n",
    "    parsed_csv.reset_index(drop=True, inplace=True)\n",
    "    print('Succesfully opened {} files'.format(cnt_files))\n",
    "\n",
    "    return parsed_csv"
   ]
  },
  {
   "cell_type": "code",
   "execution_count": 22,
   "id": "24cec2b4",
   "metadata": {},
   "outputs": [
    {
     "name": "stdout",
     "output_type": "stream",
     "text": [
      "Succesfully opened 35 files\n"
     ]
    }
   ],
   "source": [
    "a_full = create_csv(local_save_dir)"
   ]
  },
  {
   "cell_type": "code",
   "execution_count": 23,
   "id": "fd1322dd",
   "metadata": {},
   "outputs": [
    {
     "data": {
      "text/html": [
       "<div>\n",
       "<style scoped>\n",
       "    .dataframe tbody tr th:only-of-type {\n",
       "        vertical-align: middle;\n",
       "    }\n",
       "\n",
       "    .dataframe tbody tr th {\n",
       "        vertical-align: top;\n",
       "    }\n",
       "\n",
       "    .dataframe thead th {\n",
       "        text-align: right;\n",
       "    }\n",
       "</style>\n",
       "<table border=\"1\" class=\"dataframe\">\n",
       "  <thead>\n",
       "    <tr style=\"text-align: right;\">\n",
       "      <th></th>\n",
       "      <th>Ссылка</th>\n",
       "      <th>Заголовок</th>\n",
       "      <th>Комнат</th>\n",
       "      <th>Площадь</th>\n",
       "      <th>Этаж</th>\n",
       "      <th>Цена</th>\n",
       "      <th>Цена за м2</th>\n",
       "      <th>Название жк</th>\n",
       "      <th>Район</th>\n",
       "      <th>Улица</th>\n",
       "      <th>Дата публикации</th>\n",
       "      <th>Тип продавца</th>\n",
       "      <th>Продавец</th>\n",
       "      <th>Ссылка на продавца</th>\n",
       "      <th>Завершённых объявлений</th>\n",
       "      <th>file_name</th>\n",
       "    </tr>\n",
       "  </thead>\n",
       "  <tbody>\n",
       "    <tr>\n",
       "      <th>0</th>\n",
       "      <td>https://www.avito.ru/tomsk/kvartiry/2-k._kvart...</td>\n",
       "      <td>2-к. квартира, 68 м², 16/17 эт.</td>\n",
       "      <td>2-к. квартира</td>\n",
       "      <td>68 м²</td>\n",
       "      <td>16/17 эт.</td>\n",
       "      <td>7999999</td>\n",
       "      <td>117647.0</td>\n",
       "      <td>NaN</td>\n",
       "      <td>р-н Советский</td>\n",
       "      <td>Сибирская ул., 9А</td>\n",
       "      <td>4 дня назад</td>\n",
       "      <td>Частное лицо</td>\n",
       "      <td>NaN</td>\n",
       "      <td>NaN</td>\n",
       "      <td>NaN</td>\n",
       "      <td>01-03-23 (без дублей)</td>\n",
       "    </tr>\n",
       "    <tr>\n",
       "      <th>1</th>\n",
       "      <td>https://www.avito.ru/tomsk/kvartiry/2-k._kvart...</td>\n",
       "      <td>2-к. квартира, 25,5 м², 1/4 эт.</td>\n",
       "      <td>2-к. квартира</td>\n",
       "      <td>25,5 м²</td>\n",
       "      <td>1/4 эт.</td>\n",
       "      <td>1950000</td>\n",
       "      <td>76471.0</td>\n",
       "      <td>NaN</td>\n",
       "      <td>р-н Октябрьский</td>\n",
       "      <td>Дальне-Ключевская ул., 66</td>\n",
       "      <td>56 минут назад</td>\n",
       "      <td>Агентство</td>\n",
       "      <td>Агентство недвижимости \"NOVA\"</td>\n",
       "      <td>https://www.avito.ru/user/da36df070cc701954bbb...</td>\n",
       "      <td>847</td>\n",
       "      <td>01-03-23 (без дублей)</td>\n",
       "    </tr>\n",
       "    <tr>\n",
       "      <th>2</th>\n",
       "      <td>https://www.avito.ru/tomsk/kvartiry/2-k._kvart...</td>\n",
       "      <td>2-к. квартира, 30 м², 1/5 эт.</td>\n",
       "      <td>2-к. квартира</td>\n",
       "      <td>30 м²</td>\n",
       "      <td>1/5 эт.</td>\n",
       "      <td>1870000</td>\n",
       "      <td>62333.0</td>\n",
       "      <td>АЖ GROUP</td>\n",
       "      <td>р-н Октябрьский</td>\n",
       "      <td>ул. Александра Угрюмова, 1/2</td>\n",
       "      <td>2 часа назад</td>\n",
       "      <td>Агентство</td>\n",
       "      <td>АЖ GROUP</td>\n",
       "      <td>https://www.avito.ru/user/e673859327eeaeee4e57...</td>\n",
       "      <td>NaN</td>\n",
       "      <td>01-03-23 (без дублей)</td>\n",
       "    </tr>\n",
       "    <tr>\n",
       "      <th>3</th>\n",
       "      <td>https://www.avito.ru/tomsk/kvartiry/2-k._kvart...</td>\n",
       "      <td>2-к. квартира, 48,8 м², 8/9 эт.</td>\n",
       "      <td>2-к. квартира</td>\n",
       "      <td>48,8 м²</td>\n",
       "      <td>8/9 эт.</td>\n",
       "      <td>5150000</td>\n",
       "      <td>105533.0</td>\n",
       "      <td>NaN</td>\n",
       "      <td>р-н Ленинский</td>\n",
       "      <td>Ленинский район, микрорайон Каштак, ул. Ференц...</td>\n",
       "      <td>1 час назад</td>\n",
       "      <td>Частное лицо</td>\n",
       "      <td>NaN</td>\n",
       "      <td>NaN</td>\n",
       "      <td>NaN</td>\n",
       "      <td>01-03-23 (без дублей)</td>\n",
       "    </tr>\n",
       "    <tr>\n",
       "      <th>4</th>\n",
       "      <td>https://www.avito.ru/tomsk/kvartiry/1-k._kvart...</td>\n",
       "      <td>1-к. квартира, 40 м², 10/12 эт.</td>\n",
       "      <td>1-к. квартира</td>\n",
       "      <td>40 м²</td>\n",
       "      <td>10/12 эт.</td>\n",
       "      <td>3300000</td>\n",
       "      <td>82500.0</td>\n",
       "      <td>NaN</td>\n",
       "      <td>р-н Октябрьский</td>\n",
       "      <td>ул. Ивановского, 20</td>\n",
       "      <td>2 часа назад</td>\n",
       "      <td>Агентство</td>\n",
       "      <td>Агентство недвижимости \"NOVA\"</td>\n",
       "      <td>https://www.avito.ru/user/da36df070cc701954bbb...</td>\n",
       "      <td>847</td>\n",
       "      <td>01-03-23 (без дублей)</td>\n",
       "    </tr>\n",
       "    <tr>\n",
       "      <th>...</th>\n",
       "      <td>...</td>\n",
       "      <td>...</td>\n",
       "      <td>...</td>\n",
       "      <td>...</td>\n",
       "      <td>...</td>\n",
       "      <td>...</td>\n",
       "      <td>...</td>\n",
       "      <td>...</td>\n",
       "      <td>...</td>\n",
       "      <td>...</td>\n",
       "      <td>...</td>\n",
       "      <td>...</td>\n",
       "      <td>...</td>\n",
       "      <td>...</td>\n",
       "      <td>...</td>\n",
       "      <td>...</td>\n",
       "    </tr>\n",
       "    <tr>\n",
       "      <th>2696381</th>\n",
       "      <td>https://www.avito.ru/krasnodar/kvartiry/kvarti...</td>\n",
       "      <td>Квартира-студия, 27,7 м², 13/15 эт.</td>\n",
       "      <td>Квартира-студия</td>\n",
       "      <td>27,7 м²</td>\n",
       "      <td>13/15 эт.</td>\n",
       "      <td>7077350</td>\n",
       "      <td>255500.0</td>\n",
       "      <td>АГАТ-Риэлт</td>\n",
       "      <td>р-н Карасунский</td>\n",
       "      <td>ул. Уральская, д. 75/6</td>\n",
       "      <td>2 недели назад</td>\n",
       "      <td>Агентство</td>\n",
       "      <td>АГАТ-Риэлт</td>\n",
       "      <td>https://www.avito.ru/user/22ac0a4489a5ad81c070...</td>\n",
       "      <td>NaN</td>\n",
       "      <td>28-02-23 (без дублей)</td>\n",
       "    </tr>\n",
       "    <tr>\n",
       "      <th>2696382</th>\n",
       "      <td>https://www.avito.ru/krasnodar/kvartiry/kvarti...</td>\n",
       "      <td>Квартира-студия, 22,1 м², 10/24 эт.</td>\n",
       "      <td>Квартира-студия</td>\n",
       "      <td>22,1 м²</td>\n",
       "      <td>10/24 эт.</td>\n",
       "      <td>4641000</td>\n",
       "      <td>210000.0</td>\n",
       "      <td>АГАТ-Риэлт</td>\n",
       "      <td>р-н Карасунский</td>\n",
       "      <td>ул. Новороссийская, лит. 2</td>\n",
       "      <td>1 день назад</td>\n",
       "      <td>Агентство</td>\n",
       "      <td>АГАТ-Риэлт</td>\n",
       "      <td>https://www.avito.ru/user/22ac0a4489a5ad81c070...</td>\n",
       "      <td>NaN</td>\n",
       "      <td>28-02-23 (без дублей)</td>\n",
       "    </tr>\n",
       "    <tr>\n",
       "      <th>2696383</th>\n",
       "      <td>https://www.avito.ru/krasnodar/kvartiry/kvarti...</td>\n",
       "      <td>Квартира-студия, 22,5 м², 2/24 эт.</td>\n",
       "      <td>Квартира-студия</td>\n",
       "      <td>22,5 м²</td>\n",
       "      <td>2/24 эт.</td>\n",
       "      <td>4612500</td>\n",
       "      <td>205000.0</td>\n",
       "      <td>АГАТ-Риэлт</td>\n",
       "      <td>р-н Карасунский</td>\n",
       "      <td>ул. Новороссийская, лит. 2</td>\n",
       "      <td>3 недели назад</td>\n",
       "      <td>Агентство</td>\n",
       "      <td>АГАТ-Риэлт</td>\n",
       "      <td>https://www.avito.ru/user/22ac0a4489a5ad81c070...</td>\n",
       "      <td>NaN</td>\n",
       "      <td>28-02-23 (без дублей)</td>\n",
       "    </tr>\n",
       "    <tr>\n",
       "      <th>2696384</th>\n",
       "      <td>https://www.avito.ru/krasnodar/kvartiry/2-k._k...</td>\n",
       "      <td>2-к. квартира, 45,4 м², 9/9 эт.</td>\n",
       "      <td>2-к. квартира</td>\n",
       "      <td>45,4 м²</td>\n",
       "      <td>9/9 эт.</td>\n",
       "      <td>5675000</td>\n",
       "      <td>125000.0</td>\n",
       "      <td>АГАТ-Риэлт</td>\n",
       "      <td>р-н Прикубанский</td>\n",
       "      <td>ул. Западный Обход, д. 42, корп. 2</td>\n",
       "      <td>3 недели назад</td>\n",
       "      <td>Агентство</td>\n",
       "      <td>АГАТ-Риэлт</td>\n",
       "      <td>https://www.avito.ru/user/22ac0a4489a5ad81c070...</td>\n",
       "      <td>NaN</td>\n",
       "      <td>28-02-23 (без дублей)</td>\n",
       "    </tr>\n",
       "    <tr>\n",
       "      <th>2696385</th>\n",
       "      <td>https://www.avito.ru/krasnodar/kvartiry/2-k._k...</td>\n",
       "      <td>2-к. квартира, 45,5 м², 9/9 эт.</td>\n",
       "      <td>2-к. квартира</td>\n",
       "      <td>45,5 м²</td>\n",
       "      <td>9/9 эт.</td>\n",
       "      <td>5915000</td>\n",
       "      <td>130000.0</td>\n",
       "      <td>АГАТ-Риэлт</td>\n",
       "      <td>р-н Прикубанский</td>\n",
       "      <td>ул. Западный Обход, д. 42, корп. 2</td>\n",
       "      <td>3 недели назад</td>\n",
       "      <td>Агентство</td>\n",
       "      <td>АГАТ-Риэлт</td>\n",
       "      <td>https://www.avito.ru/user/22ac0a4489a5ad81c070...</td>\n",
       "      <td>NaN</td>\n",
       "      <td>28-02-23 (без дублей)</td>\n",
       "    </tr>\n",
       "  </tbody>\n",
       "</table>\n",
       "<p>2696386 rows × 16 columns</p>\n",
       "</div>"
      ],
      "text/plain": [
       "                                                    Ссылка  \\\n",
       "0        https://www.avito.ru/tomsk/kvartiry/2-k._kvart...   \n",
       "1        https://www.avito.ru/tomsk/kvartiry/2-k._kvart...   \n",
       "2        https://www.avito.ru/tomsk/kvartiry/2-k._kvart...   \n",
       "3        https://www.avito.ru/tomsk/kvartiry/2-k._kvart...   \n",
       "4        https://www.avito.ru/tomsk/kvartiry/1-k._kvart...   \n",
       "...                                                    ...   \n",
       "2696381  https://www.avito.ru/krasnodar/kvartiry/kvarti...   \n",
       "2696382  https://www.avito.ru/krasnodar/kvartiry/kvarti...   \n",
       "2696383  https://www.avito.ru/krasnodar/kvartiry/kvarti...   \n",
       "2696384  https://www.avito.ru/krasnodar/kvartiry/2-k._k...   \n",
       "2696385  https://www.avito.ru/krasnodar/kvartiry/2-k._k...   \n",
       "\n",
       "                                   Заголовок           Комнат  Площадь  \\\n",
       "0            2-к. квартира, 68 м², 16/17 эт.    2-к. квартира    68 м²   \n",
       "1            2-к. квартира, 25,5 м², 1/4 эт.    2-к. квартира  25,5 м²   \n",
       "2              2-к. квартира, 30 м², 1/5 эт.    2-к. квартира    30 м²   \n",
       "3            2-к. квартира, 48,8 м², 8/9 эт.    2-к. квартира  48,8 м²   \n",
       "4            1-к. квартира, 40 м², 10/12 эт.    1-к. квартира    40 м²   \n",
       "...                                      ...              ...      ...   \n",
       "2696381  Квартира-студия, 27,7 м², 13/15 эт.  Квартира-студия  27,7 м²   \n",
       "2696382  Квартира-студия, 22,1 м², 10/24 эт.  Квартира-студия  22,1 м²   \n",
       "2696383   Квартира-студия, 22,5 м², 2/24 эт.  Квартира-студия  22,5 м²   \n",
       "2696384      2-к. квартира, 45,4 м², 9/9 эт.    2-к. квартира  45,4 м²   \n",
       "2696385      2-к. квартира, 45,5 м², 9/9 эт.    2-к. квартира  45,5 м²   \n",
       "\n",
       "              Этаж     Цена  Цена за м2 Название жк             Район  \\\n",
       "0        16/17 эт.  7999999    117647.0         NaN     р-н Советский   \n",
       "1          1/4 эт.  1950000     76471.0         NaN   р-н Октябрьский   \n",
       "2          1/5 эт.  1870000     62333.0    АЖ GROUP   р-н Октябрьский   \n",
       "3          8/9 эт.  5150000    105533.0         NaN     р-н Ленинский   \n",
       "4        10/12 эт.  3300000     82500.0         NaN   р-н Октябрьский   \n",
       "...            ...      ...         ...         ...               ...   \n",
       "2696381  13/15 эт.  7077350    255500.0  АГАТ-Риэлт   р-н Карасунский   \n",
       "2696382  10/24 эт.  4641000    210000.0  АГАТ-Риэлт   р-н Карасунский   \n",
       "2696383   2/24 эт.  4612500    205000.0  АГАТ-Риэлт   р-н Карасунский   \n",
       "2696384    9/9 эт.  5675000    125000.0  АГАТ-Риэлт  р-н Прикубанский   \n",
       "2696385    9/9 эт.  5915000    130000.0  АГАТ-Риэлт  р-н Прикубанский   \n",
       "\n",
       "                                                     Улица Дата публикации  \\\n",
       "0                                        Сибирская ул., 9А     4 дня назад   \n",
       "1                                Дальне-Ключевская ул., 66  56 минут назад   \n",
       "2                             ул. Александра Угрюмова, 1/2    2 часа назад   \n",
       "3        Ленинский район, микрорайон Каштак, ул. Ференц...     1 час назад   \n",
       "4                                      ул. Ивановского, 20    2 часа назад   \n",
       "...                                                    ...             ...   \n",
       "2696381                             ул. Уральская, д. 75/6  2 недели назад   \n",
       "2696382                         ул. Новороссийская, лит. 2    1 день назад   \n",
       "2696383                         ул. Новороссийская, лит. 2  3 недели назад   \n",
       "2696384                 ул. Западный Обход, д. 42, корп. 2  3 недели назад   \n",
       "2696385                 ул. Западный Обход, д. 42, корп. 2  3 недели назад   \n",
       "\n",
       "         Тип продавца                       Продавец  \\\n",
       "0        Частное лицо                            NaN   \n",
       "1           Агентство  Агентство недвижимости \"NOVA\"   \n",
       "2           Агентство                       АЖ GROUP   \n",
       "3        Частное лицо                            NaN   \n",
       "4           Агентство  Агентство недвижимости \"NOVA\"   \n",
       "...               ...                            ...   \n",
       "2696381     Агентство                     АГАТ-Риэлт   \n",
       "2696382     Агентство                     АГАТ-Риэлт   \n",
       "2696383     Агентство                     АГАТ-Риэлт   \n",
       "2696384     Агентство                     АГАТ-Риэлт   \n",
       "2696385     Агентство                     АГАТ-Риэлт   \n",
       "\n",
       "                                        Ссылка на продавца  \\\n",
       "0                                                      NaN   \n",
       "1        https://www.avito.ru/user/da36df070cc701954bbb...   \n",
       "2        https://www.avito.ru/user/e673859327eeaeee4e57...   \n",
       "3                                                      NaN   \n",
       "4        https://www.avito.ru/user/da36df070cc701954bbb...   \n",
       "...                                                    ...   \n",
       "2696381  https://www.avito.ru/user/22ac0a4489a5ad81c070...   \n",
       "2696382  https://www.avito.ru/user/22ac0a4489a5ad81c070...   \n",
       "2696383  https://www.avito.ru/user/22ac0a4489a5ad81c070...   \n",
       "2696384  https://www.avito.ru/user/22ac0a4489a5ad81c070...   \n",
       "2696385  https://www.avito.ru/user/22ac0a4489a5ad81c070...   \n",
       "\n",
       "        Завершённых объявлений              file_name  \n",
       "0                          NaN  01-03-23 (без дублей)  \n",
       "1                          847  01-03-23 (без дублей)  \n",
       "2                          NaN  01-03-23 (без дублей)  \n",
       "3                          NaN  01-03-23 (без дублей)  \n",
       "4                          847  01-03-23 (без дублей)  \n",
       "...                        ...                    ...  \n",
       "2696381                    NaN  28-02-23 (без дублей)  \n",
       "2696382                    NaN  28-02-23 (без дублей)  \n",
       "2696383                    NaN  28-02-23 (без дублей)  \n",
       "2696384                    NaN  28-02-23 (без дублей)  \n",
       "2696385                    NaN  28-02-23 (без дублей)  \n",
       "\n",
       "[2696386 rows x 16 columns]"
      ]
     },
     "execution_count": 23,
     "metadata": {},
     "output_type": "execute_result"
    }
   ],
   "source": [
    "a_full"
   ]
  },
  {
   "cell_type": "code",
   "execution_count": 38,
   "id": "139a9717",
   "metadata": {
    "ExecuteTime": {
     "end_time": "2023-03-22T02:25:40.139449Z",
     "start_time": "2023-03-22T02:25:40.073369Z"
    }
   },
   "outputs": [
    {
     "ename": "NameError",
     "evalue": "name 'get_local_files' is not defined",
     "output_type": "error",
     "traceback": [
      "\u001b[1;31m---------------------------------------------------------------------------\u001b[0m",
      "\u001b[1;31mNameError\u001b[0m                                 Traceback (most recent call last)",
      "Cell \u001b[1;32mIn[38], line 1\u001b[0m\n\u001b[1;32m----> 1\u001b[0m flist \u001b[38;5;241m=\u001b[39m \u001b[43mget_local_files\u001b[49m(local_save_dir)\n",
      "\u001b[1;31mNameError\u001b[0m: name 'get_local_files' is not defined"
     ]
    }
   ],
   "source": [
    "flist = get_local_files(local_save_dir)"
   ]
  },
  {
   "cell_type": "code",
   "execution_count": 25,
   "id": "375a3bf6",
   "metadata": {},
   "outputs": [
    {
     "data": {
      "text/plain": [
       "['C:/Users/pnknv/Documents/GitHub/yadisk_loader/saved_csv/01-03-23 (без дублей).csv',\n",
       " 'C:/Users/pnknv/Documents/GitHub/yadisk_loader/saved_csv/02-03-23 (без дублей).csv',\n",
       " 'C:/Users/pnknv/Documents/GitHub/yadisk_loader/saved_csv/04-03-23 (без дублей).csv',\n",
       " 'C:/Users/pnknv/Documents/GitHub/yadisk_loader/saved_csv/05-03-23 (без дублей).csv',\n",
       " 'C:/Users/pnknv/Documents/GitHub/yadisk_loader/saved_csv/06-03-23 (без дублей).csv',\n",
       " 'C:/Users/pnknv/Documents/GitHub/yadisk_loader/saved_csv/07-02-2023.csv',\n",
       " 'C:/Users/pnknv/Documents/GitHub/yadisk_loader/saved_csv/07-02-23 (без дублей).csv',\n",
       " 'C:/Users/pnknv/Documents/GitHub/yadisk_loader/saved_csv/07-03-23 (без дублей).csv',\n",
       " 'C:/Users/pnknv/Documents/GitHub/yadisk_loader/saved_csv/08-02-23 (без дублей).csv',\n",
       " 'C:/Users/pnknv/Documents/GitHub/yadisk_loader/saved_csv/08-03-23 (без дублей).csv',\n",
       " 'C:/Users/pnknv/Documents/GitHub/yadisk_loader/saved_csv/09-02-23 (без дублей) 2.csv',\n",
       " 'C:/Users/pnknv/Documents/GitHub/yadisk_loader/saved_csv/09-02-23 (без дублей).csv',\n",
       " 'C:/Users/pnknv/Documents/GitHub/yadisk_loader/saved_csv/09-03-23 (без дублей).csv',\n",
       " 'C:/Users/pnknv/Documents/GitHub/yadisk_loader/saved_csv/10-02-23 (без дублей).csv',\n",
       " 'C:/Users/pnknv/Documents/GitHub/yadisk_loader/saved_csv/10-03-23 (без дублей).csv',\n",
       " 'C:/Users/pnknv/Documents/GitHub/yadisk_loader/saved_csv/11-02-23 (без дублей).csv',\n",
       " 'C:/Users/pnknv/Documents/GitHub/yadisk_loader/saved_csv/11-03-23 (без дублей).csv',\n",
       " 'C:/Users/pnknv/Documents/GitHub/yadisk_loader/saved_csv/12-02-23 (без дублей).csv',\n",
       " 'C:/Users/pnknv/Documents/GitHub/yadisk_loader/saved_csv/13-02-23 (без дублей).csv',\n",
       " 'C:/Users/pnknv/Documents/GitHub/yadisk_loader/saved_csv/14-02-23 (без дублей).csv',\n",
       " 'C:/Users/pnknv/Documents/GitHub/yadisk_loader/saved_csv/15-02-23 (без дублей).csv',\n",
       " 'C:/Users/pnknv/Documents/GitHub/yadisk_loader/saved_csv/16-02-23 (без дублей).csv',\n",
       " 'C:/Users/pnknv/Documents/GitHub/yadisk_loader/saved_csv/17-02-23 (без дублей).csv',\n",
       " 'C:/Users/pnknv/Documents/GitHub/yadisk_loader/saved_csv/18-02-23 (без дублей).csv',\n",
       " 'C:/Users/pnknv/Documents/GitHub/yadisk_loader/saved_csv/19-02-23 (без дублей).csv',\n",
       " 'C:/Users/pnknv/Documents/GitHub/yadisk_loader/saved_csv/19-02-23.csv',\n",
       " 'C:/Users/pnknv/Documents/GitHub/yadisk_loader/saved_csv/20-02-23 (без дублей).csv',\n",
       " 'C:/Users/pnknv/Documents/GitHub/yadisk_loader/saved_csv/21-02-23 (без дублей).csv',\n",
       " 'C:/Users/pnknv/Documents/GitHub/yadisk_loader/saved_csv/22-02-23 (без дублей).csv',\n",
       " 'C:/Users/pnknv/Documents/GitHub/yadisk_loader/saved_csv/23-02-23 (без дублей).csv',\n",
       " 'C:/Users/pnknv/Documents/GitHub/yadisk_loader/saved_csv/24-02-23 (без дублей).csv',\n",
       " 'C:/Users/pnknv/Documents/GitHub/yadisk_loader/saved_csv/25-02-23 (без дублей).csv',\n",
       " 'C:/Users/pnknv/Documents/GitHub/yadisk_loader/saved_csv/26-02-23 (без дублей).csv',\n",
       " 'C:/Users/pnknv/Documents/GitHub/yadisk_loader/saved_csv/27-02-23 (без дублей).csv',\n",
       " 'C:/Users/pnknv/Documents/GitHub/yadisk_loader/saved_csv/28-02-23 (без дублей).csv']"
      ]
     },
     "execution_count": 25,
     "metadata": {},
     "output_type": "execute_result"
    }
   ],
   "source": [
    "flist"
   ]
  },
  {
   "cell_type": "markdown",
   "id": "9557bf45",
   "metadata": {},
   "source": [
    "# load table avito"
   ]
  },
  {
   "cell_type": "code",
   "execution_count": null,
   "id": "0b21b9e4",
   "metadata": {},
   "outputs": [],
   "source": [
    "a = pd.read_csv(flist[4], delimiter=';', encoding='utf8')"
   ]
  },
  {
   "cell_type": "code",
   "execution_count": 88,
   "id": "2b902c45",
   "metadata": {
    "ExecuteTime": {
     "end_time": "2023-03-22T02:44:05.182440Z",
     "start_time": "2023-03-22T02:44:04.131823Z"
    }
   },
   "outputs": [],
   "source": [
    "a = pd.read_csv('saved_avito_csv/20-03-23 (без дублей).csv', delimiter=';', encoding='utf8')"
   ]
  },
  {
   "cell_type": "code",
   "execution_count": 89,
   "id": "58903ae4",
   "metadata": {
    "ExecuteTime": {
     "end_time": "2023-03-22T02:44:06.022273Z",
     "start_time": "2023-03-22T02:44:05.901554Z"
    }
   },
   "outputs": [],
   "source": [
    "index_to_drop = a[(a['Площадь'].isna()) | (a['Заголовок'] == a['Комнат']) | (a['Цена'].isna())].index.tolist()\n",
    "if len(index_to_drop) != 0:\n",
    "    a.drop(index_to_drop, inplace=True)\n",
    "a.drop_duplicates(subset=['Ссылка'], keep='last', inplace=True)\n",
    "a.reset_index(drop=True, inplace=True)"
   ]
  },
  {
   "cell_type": "markdown",
   "id": "7a54e798",
   "metadata": {},
   "source": [
    "# dev realty avito"
   ]
  },
  {
   "cell_type": "code",
   "execution_count": 90,
   "id": "15cceee6",
   "metadata": {
    "ExecuteTime": {
     "end_time": "2023-03-22T02:44:06.975146Z",
     "start_time": "2023-03-22T02:44:06.971637Z"
    }
   },
   "outputs": [],
   "source": [
    "# add city"
   ]
  },
  {
   "cell_type": "code",
   "execution_count": 91,
   "id": "699439d2",
   "metadata": {
    "ExecuteTime": {
     "end_time": "2023-03-22T02:44:07.459124Z",
     "start_time": "2023-03-22T02:44:07.402313Z"
    }
   },
   "outputs": [],
   "source": [
    "a['city'] = a['Ссылка'].apply(lambda x: x.split('/')[3])"
   ]
  },
  {
   "cell_type": "code",
   "execution_count": 92,
   "id": "ff98be8d",
   "metadata": {
    "ExecuteTime": {
     "end_time": "2023-03-22T02:44:08.194599Z",
     "start_time": "2023-03-22T02:44:08.191316Z"
    }
   },
   "outputs": [],
   "source": [
    "# source_id"
   ]
  },
  {
   "cell_type": "code",
   "execution_count": 98,
   "id": "7c6b94ba",
   "metadata": {
    "ExecuteTime": {
     "end_time": "2023-03-22T02:44:28.602490Z",
     "start_time": "2023-03-22T02:44:28.596247Z"
    }
   },
   "outputs": [],
   "source": [
    "source_df_dict = source_df.set_index('id').to_dict()['name']"
   ]
  },
  {
   "cell_type": "code",
   "execution_count": 99,
   "id": "ba0b955e",
   "metadata": {
    "ExecuteTime": {
     "end_time": "2023-03-22T02:44:29.557627Z",
     "start_time": "2023-03-22T02:44:29.550392Z"
    }
   },
   "outputs": [],
   "source": [
    "def source_id_from_link(link_value, source_dict):\n",
    "    try:\n",
    "        return list(source_dict.keys())[list(source_dict.values()).index(link_value.split('.')[1])]\n",
    "    except:\n",
    "        return None"
   ]
  },
  {
   "cell_type": "code",
   "execution_count": 100,
   "id": "9471610f",
   "metadata": {
    "ExecuteTime": {
     "end_time": "2023-03-22T02:44:30.187572Z",
     "start_time": "2023-03-22T02:44:30.053935Z"
    }
   },
   "outputs": [],
   "source": [
    "a['source_id'] = a['Ссылка'].apply(lambda x: source_id_from_link(x, source_df_dict))"
   ]
  },
  {
   "cell_type": "code",
   "execution_count": 101,
   "id": "a2d3ae5a",
   "metadata": {
    "ExecuteTime": {
     "end_time": "2023-03-22T02:44:30.534045Z",
     "start_time": "2023-03-22T02:44:30.530904Z"
    }
   },
   "outputs": [],
   "source": [
    "# ad_id"
   ]
  },
  {
   "cell_type": "code",
   "execution_count": 102,
   "id": "794ea27a",
   "metadata": {
    "ExecuteTime": {
     "end_time": "2023-03-22T02:44:31.035280Z",
     "start_time": "2023-03-22T02:44:30.982354Z"
    }
   },
   "outputs": [],
   "source": [
    "a['ad_id'] = a['Ссылка'].apply(lambda x: x.split('_')[-1])"
   ]
  },
  {
   "cell_type": "code",
   "execution_count": 103,
   "id": "02c96446",
   "metadata": {
    "ExecuteTime": {
     "end_time": "2023-03-22T02:44:31.993597Z",
     "start_time": "2023-03-22T02:44:31.990392Z"
    }
   },
   "outputs": [],
   "source": [
    "# city_id"
   ]
  },
  {
   "cell_type": "code",
   "execution_count": 104,
   "id": "a37282eb",
   "metadata": {
    "ExecuteTime": {
     "end_time": "2023-03-22T02:44:32.354409Z",
     "start_time": "2023-03-22T02:44:32.349529Z"
    }
   },
   "outputs": [],
   "source": [
    "city_df_dict = city_df.set_index('id').to_dict()['url_avito']"
   ]
  },
  {
   "cell_type": "code",
   "execution_count": 105,
   "id": "976f34f0",
   "metadata": {
    "ExecuteTime": {
     "end_time": "2023-03-22T02:44:32.918430Z",
     "start_time": "2023-03-22T02:44:32.914091Z"
    }
   },
   "outputs": [],
   "source": [
    "def city_id_from_link(city_value, city_dict):\n",
    "    try:\n",
    "        return int(list(city_dict.keys())[list(city_dict.values()).index(city_value)])\n",
    "    except Exception as e:\n",
    "        return None"
   ]
  },
  {
   "cell_type": "code",
   "execution_count": 106,
   "id": "d41eb69f",
   "metadata": {
    "ExecuteTime": {
     "end_time": "2023-03-22T02:44:34.524911Z",
     "start_time": "2023-03-22T02:44:34.309810Z"
    }
   },
   "outputs": [],
   "source": [
    "a['city_id'] = a['city'].apply(lambda x: city_id_from_link(x, city_df_dict))\n",
    "# удалить записи с лишними городами и преобразовать в int\n",
    "a.dropna(subset=['city_id'], inplace=True)\n",
    "a.reset_index(drop=True, inplace=True)\n",
    "a.city_id = a.city_id.astype(int)"
   ]
  },
  {
   "cell_type": "code",
   "execution_count": 107,
   "id": "9f90ecb7",
   "metadata": {
    "ExecuteTime": {
     "end_time": "2023-03-22T02:44:35.334346Z",
     "start_time": "2023-03-22T02:44:35.330025Z"
    }
   },
   "outputs": [],
   "source": [
    "# district_id будет удален из таблицы"
   ]
  },
  {
   "cell_type": "code",
   "execution_count": 108,
   "id": "018a19c9",
   "metadata": {
    "ExecuteTime": {
     "end_time": "2023-03-22T02:44:35.646641Z",
     "start_time": "2023-03-22T02:44:35.641964Z"
    }
   },
   "outputs": [],
   "source": [
    "a['district_id'] = None"
   ]
  },
  {
   "cell_type": "code",
   "execution_count": 109,
   "id": "174dc4f9",
   "metadata": {
    "ExecuteTime": {
     "end_time": "2023-03-22T02:44:36.038904Z",
     "start_time": "2023-03-22T02:44:36.034472Z"
    }
   },
   "outputs": [],
   "source": [
    "# type_id"
   ]
  },
  {
   "cell_type": "code",
   "execution_count": 110,
   "id": "9be68a1d",
   "metadata": {
    "ExecuteTime": {
     "end_time": "2023-03-22T02:44:36.402880Z",
     "start_time": "2023-03-22T02:44:36.397827Z"
    }
   },
   "outputs": [],
   "source": [
    "dict_realty_type = {\n",
    "    '1': ['Комната'],\n",
    "    '2': ['Квартира-студия', 'Апартаменты-студия', 'Гостинка', 'Студия'],\n",
    "    '3': ['1-к. квартира', '1-к. апартаменты', 'Своб. планировка', '1-комнатная', '1 комн', 'Свободная планировка'],\n",
    "    '4': ['2-к. квартира', '2-к. апартаменты', '2-комнатная', '2 комн'],\n",
    "    '5': ['3-к. квартира', '3-к. апартаменты', '3-комнатная', '3 комн'],\n",
    "    '6': ['4-к. квартира', '4-к. апартаменты', '4-комнатная', '4 комн'],\n",
    "    '7': ['5-к. квартира', '5-к. апартаменты', '5-комнатная', '5 комн'],\n",
    "    '8': [\"6 комнат и более\", '6 комн'],\n",
    "}\n",
    "# 9 аукцион, доля"
   ]
  },
  {
   "cell_type": "code",
   "execution_count": 111,
   "id": "3fa720d2",
   "metadata": {
    "ExecuteTime": {
     "end_time": "2023-03-22T02:44:38.178454Z",
     "start_time": "2023-03-22T02:44:38.172204Z"
    }
   },
   "outputs": [],
   "source": [
    "def type_id_from_room(room_value, type_dict):\n",
    "    tid = None\n",
    "    try:\n",
    "        for ind, values in type_dict.items():\n",
    "            if room_value in values:\n",
    "                tid = ind\n",
    "                return tid\n",
    "        if any(elem in room_value for elem in ['Доля', 'Аукцион']):\n",
    "            # tid = 9 # аукцион\n",
    "            return None\n",
    "        elif all(elem in room_value for elem in ['Комната ', ' в ', '-к']):\n",
    "            tid = 1 # комната в квартире\n",
    "            return tid\n",
    "        elif any(elem in room_value for elem in ['6-к.', '7-к.', '8-к.', '9-к.', '10 и более-к.', '10 комнат и больше']):\n",
    "            tid = 8 # 6 комнат и более\n",
    "            return tid\n",
    "        else:\n",
    "            return None # none\n",
    "    except:\n",
    "        return None"
   ]
  },
  {
   "cell_type": "code",
   "execution_count": 129,
   "id": "5b145acf",
   "metadata": {
    "ExecuteTime": {
     "end_time": "2023-03-22T02:52:58.260896Z",
     "start_time": "2023-03-22T02:52:58.057793Z"
    }
   },
   "outputs": [],
   "source": [
    "a['type_id'] = a['Комнат'].apply(lambda x: type_id_from_room(x, dict_realty_type))\n",
    "# удалить записи аукционов и других объяв где не опредлен type_id, преобразовать цены в int\n",
    "a.dropna(subset=['type_id'], inplace=True)\n",
    "a.reset_index(drop=True, inplace=True)\n",
    "a['Цена'] = a['Цена'].astype(float)"
   ]
  },
  {
   "cell_type": "code",
   "execution_count": 130,
   "id": "d51b8107",
   "metadata": {
    "ExecuteTime": {
     "end_time": "2023-03-22T02:52:58.956211Z",
     "start_time": "2023-03-22T02:52:58.894857Z"
    }
   },
   "outputs": [],
   "source": [
    "a['asd'] = a['Цена'].apply(lambda x: empa(x))"
   ]
  },
  {
   "cell_type": "code",
   "execution_count": 131,
   "id": "bbbde191",
   "metadata": {
    "ExecuteTime": {
     "end_time": "2023-03-22T02:52:59.782530Z",
     "start_time": "2023-03-22T02:52:59.609273Z"
    }
   },
   "outputs": [
    {
     "data": {
      "text/html": [
       "<div>\n",
       "<style scoped>\n",
       "    .dataframe tbody tr th:only-of-type {\n",
       "        vertical-align: middle;\n",
       "    }\n",
       "\n",
       "    .dataframe tbody tr th {\n",
       "        vertical-align: top;\n",
       "    }\n",
       "\n",
       "    .dataframe thead th {\n",
       "        text-align: right;\n",
       "    }\n",
       "</style>\n",
       "<table border=\"1\" class=\"dataframe\">\n",
       "  <thead>\n",
       "    <tr style=\"text-align: right;\">\n",
       "      <th></th>\n",
       "      <th>Ссылка</th>\n",
       "      <th>Заголовок</th>\n",
       "      <th>Комнат</th>\n",
       "      <th>Площадь</th>\n",
       "      <th>Этаж</th>\n",
       "      <th>Цена</th>\n",
       "      <th>Цена за м2</th>\n",
       "      <th>Название жк</th>\n",
       "      <th>Район</th>\n",
       "      <th>Улица</th>\n",
       "      <th>...</th>\n",
       "      <th>Продавец</th>\n",
       "      <th>Ссылка на продавца</th>\n",
       "      <th>Завершённых объявлений</th>\n",
       "      <th>city</th>\n",
       "      <th>source_id</th>\n",
       "      <th>ad_id</th>\n",
       "      <th>city_id</th>\n",
       "      <th>district_id</th>\n",
       "      <th>type_id</th>\n",
       "      <th>asd</th>\n",
       "    </tr>\n",
       "  </thead>\n",
       "  <tbody>\n",
       "    <tr>\n",
       "      <th>0</th>\n",
       "      <td>https://www.avito.ru/tomsk/kvartiry/1-k._kvart...</td>\n",
       "      <td>1-к. квартира, 17,4 м², 5/5 эт.</td>\n",
       "      <td>1-к. квартира</td>\n",
       "      <td>17,4 м²</td>\n",
       "      <td>5/5 эт.</td>\n",
       "      <td>2200000.0</td>\n",
       "      <td>126437</td>\n",
       "      <td>NaN</td>\n",
       "      <td>р-н Кировский</td>\n",
       "      <td>ул. Карпова, 23</td>\n",
       "      <td>...</td>\n",
       "      <td>NaN</td>\n",
       "      <td>NaN</td>\n",
       "      <td>NaN</td>\n",
       "      <td>tomsk</td>\n",
       "      <td>3</td>\n",
       "      <td>2814505758</td>\n",
       "      <td>17</td>\n",
       "      <td>None</td>\n",
       "      <td>3</td>\n",
       "      <td>2200000</td>\n",
       "    </tr>\n",
       "    <tr>\n",
       "      <th>1</th>\n",
       "      <td>https://www.avito.ru/tomsk/kvartiry/2-k._kvart...</td>\n",
       "      <td>2-к. квартира, 53,5 м², 4/10 эт.</td>\n",
       "      <td>2-к. квартира</td>\n",
       "      <td>53,5 м²</td>\n",
       "      <td>4/10 эт.</td>\n",
       "      <td>6700000.0</td>\n",
       "      <td>125234</td>\n",
       "      <td>NaN</td>\n",
       "      <td>р-н Октябрьский</td>\n",
       "      <td>ул. Дизайнеров, 3</td>\n",
       "      <td>...</td>\n",
       "      <td>NaN</td>\n",
       "      <td>NaN</td>\n",
       "      <td>NaN</td>\n",
       "      <td>tomsk</td>\n",
       "      <td>3</td>\n",
       "      <td>2856523926</td>\n",
       "      <td>17</td>\n",
       "      <td>None</td>\n",
       "      <td>4</td>\n",
       "      <td>6700000</td>\n",
       "    </tr>\n",
       "    <tr>\n",
       "      <th>2</th>\n",
       "      <td>https://www.avito.ru/tomsk/kvartiry/2-k._kvart...</td>\n",
       "      <td>2-к. квартира, 63 м², 17/18 эт.</td>\n",
       "      <td>2-к. квартира</td>\n",
       "      <td>63 м²</td>\n",
       "      <td>17/18 эт.</td>\n",
       "      <td>6100000.0</td>\n",
       "      <td>96825</td>\n",
       "      <td>NaN</td>\n",
       "      <td>р-н Октябрьский</td>\n",
       "      <td>микрорайон Солнечный, ул. Герасименко, 3/16</td>\n",
       "      <td>...</td>\n",
       "      <td>Алёна</td>\n",
       "      <td>https://www.avito.ru/user/a09c2534dd270499116e...</td>\n",
       "      <td>95</td>\n",
       "      <td>tomsk</td>\n",
       "      <td>3</td>\n",
       "      <td>3010508456</td>\n",
       "      <td>17</td>\n",
       "      <td>None</td>\n",
       "      <td>4</td>\n",
       "      <td>6100000</td>\n",
       "    </tr>\n",
       "    <tr>\n",
       "      <th>3</th>\n",
       "      <td>https://www.avito.ru/tomsk/kvartiry/3-k._kvart...</td>\n",
       "      <td>3-к. квартира, 68 м², 1/9 эт.</td>\n",
       "      <td>3-к. квартира</td>\n",
       "      <td>68 м²</td>\n",
       "      <td>1/9 эт.</td>\n",
       "      <td>5100000.0</td>\n",
       "      <td>75000</td>\n",
       "      <td>NaN</td>\n",
       "      <td>р-н Советский</td>\n",
       "      <td>Сибирская ул., 102/1</td>\n",
       "      <td>...</td>\n",
       "      <td>Галина</td>\n",
       "      <td>https://www.avito.ru/user/e8f384adaa1ac950015f...</td>\n",
       "      <td>59</td>\n",
       "      <td>tomsk</td>\n",
       "      <td>3</td>\n",
       "      <td>2884326186</td>\n",
       "      <td>17</td>\n",
       "      <td>None</td>\n",
       "      <td>5</td>\n",
       "      <td>5100000</td>\n",
       "    </tr>\n",
       "    <tr>\n",
       "      <th>4</th>\n",
       "      <td>https://www.avito.ru/tomsk/kvartiry/kvartira-s...</td>\n",
       "      <td>Квартира-студия, 20,7 м², 9/10 эт.</td>\n",
       "      <td>Квартира-студия</td>\n",
       "      <td>20,7 м²</td>\n",
       "      <td>9/10 эт.</td>\n",
       "      <td>2650000.0</td>\n",
       "      <td>128019</td>\n",
       "      <td>NaN</td>\n",
       "      <td>NaN</td>\n",
       "      <td>пос. Зональная Станция, микрорайон Южные Ворот...</td>\n",
       "      <td>...</td>\n",
       "      <td>NaN</td>\n",
       "      <td>NaN</td>\n",
       "      <td>NaN</td>\n",
       "      <td>tomsk</td>\n",
       "      <td>3</td>\n",
       "      <td>2931555827</td>\n",
       "      <td>17</td>\n",
       "      <td>None</td>\n",
       "      <td>2</td>\n",
       "      <td>2650000</td>\n",
       "    </tr>\n",
       "    <tr>\n",
       "      <th>...</th>\n",
       "      <td>...</td>\n",
       "      <td>...</td>\n",
       "      <td>...</td>\n",
       "      <td>...</td>\n",
       "      <td>...</td>\n",
       "      <td>...</td>\n",
       "      <td>...</td>\n",
       "      <td>...</td>\n",
       "      <td>...</td>\n",
       "      <td>...</td>\n",
       "      <td>...</td>\n",
       "      <td>...</td>\n",
       "      <td>...</td>\n",
       "      <td>...</td>\n",
       "      <td>...</td>\n",
       "      <td>...</td>\n",
       "      <td>...</td>\n",
       "      <td>...</td>\n",
       "      <td>...</td>\n",
       "      <td>...</td>\n",
       "      <td>...</td>\n",
       "    </tr>\n",
       "    <tr>\n",
       "      <th>114152</th>\n",
       "      <td>https://www.avito.ru/krasnodar/kvartiry/2-k._k...</td>\n",
       "      <td>2-к. квартира, 53,3 м², 15/24 эт.</td>\n",
       "      <td>2-к. квартира</td>\n",
       "      <td>53,3 м²</td>\n",
       "      <td>15/24 эт.</td>\n",
       "      <td>5882357.0</td>\n",
       "      <td>110363</td>\n",
       "      <td>Группа компаний ИНСИТИ</td>\n",
       "      <td>р-н Прикубанский</td>\n",
       "      <td>б-р им. Адмирала Пустошкина, д. 11, корп. 1</td>\n",
       "      <td>...</td>\n",
       "      <td>Группа компаний ИНСИТИ</td>\n",
       "      <td>https://www.avito.ru/user/d1aa4a721290dfdad727...</td>\n",
       "      <td>7916</td>\n",
       "      <td>krasnodar</td>\n",
       "      <td>3</td>\n",
       "      <td>2326231151</td>\n",
       "      <td>2</td>\n",
       "      <td>None</td>\n",
       "      <td>4</td>\n",
       "      <td>5882357</td>\n",
       "    </tr>\n",
       "    <tr>\n",
       "      <th>114153</th>\n",
       "      <td>https://www.avito.ru/krasnodar/kvartiry/2-k._k...</td>\n",
       "      <td>2-к. квартира, 53,3 м², 20/24 эт.</td>\n",
       "      <td>2-к. квартира</td>\n",
       "      <td>53,3 м²</td>\n",
       "      <td>20/24 эт.</td>\n",
       "      <td>5882201.0</td>\n",
       "      <td>110360</td>\n",
       "      <td>Группа компаний ИНСИТИ</td>\n",
       "      <td>р-н Прикубанский</td>\n",
       "      <td>б-р им. Адмирала Пустошкина, д. 11, корп. 1</td>\n",
       "      <td>...</td>\n",
       "      <td>Группа компаний ИНСИТИ</td>\n",
       "      <td>https://www.avito.ru/user/d1aa4a721290dfdad727...</td>\n",
       "      <td>7916</td>\n",
       "      <td>krasnodar</td>\n",
       "      <td>3</td>\n",
       "      <td>2358537090</td>\n",
       "      <td>2</td>\n",
       "      <td>None</td>\n",
       "      <td>4</td>\n",
       "      <td>5882201</td>\n",
       "    </tr>\n",
       "    <tr>\n",
       "      <th>114154</th>\n",
       "      <td>https://www.avito.ru/krasnodar/kvartiry/2-k._k...</td>\n",
       "      <td>2-к. квартира, 65,1 м², 7/19 эт.</td>\n",
       "      <td>2-к. квартира</td>\n",
       "      <td>65,1 м²</td>\n",
       "      <td>7/19 эт.</td>\n",
       "      <td>6184500.0</td>\n",
       "      <td>95000</td>\n",
       "      <td>Группа компаний ИНСИТИ</td>\n",
       "      <td>р-н Прикубанский</td>\n",
       "      <td>ул. Адмирала Серебрякова, д. 3, корп. 1</td>\n",
       "      <td>...</td>\n",
       "      <td>Группа компаний ИНСИТИ</td>\n",
       "      <td>https://www.avito.ru/user/d1aa4a721290dfdad727...</td>\n",
       "      <td>7916</td>\n",
       "      <td>krasnodar</td>\n",
       "      <td>3</td>\n",
       "      <td>2326806083</td>\n",
       "      <td>2</td>\n",
       "      <td>None</td>\n",
       "      <td>4</td>\n",
       "      <td>6184500</td>\n",
       "    </tr>\n",
       "    <tr>\n",
       "      <th>114155</th>\n",
       "      <td>https://www.avito.ru/krasnodar/kvartiry/2-k._k...</td>\n",
       "      <td>2-к. квартира, 64,2 м², 15/16 эт.</td>\n",
       "      <td>2-к. квартира</td>\n",
       "      <td>64,2 м²</td>\n",
       "      <td>15/16 эт.</td>\n",
       "      <td>6169625.0</td>\n",
       "      <td>96100</td>\n",
       "      <td>Время Группа Компаний</td>\n",
       "      <td>р-н Прикубанский</td>\n",
       "      <td>ул. им. Кирилла Россинского, д. 3/1</td>\n",
       "      <td>...</td>\n",
       "      <td>Время Группа Компаний</td>\n",
       "      <td>https://www.avito.ru/user/0c771d40b5f5e02cde46...</td>\n",
       "      <td>NaN</td>\n",
       "      <td>krasnodar</td>\n",
       "      <td>3</td>\n",
       "      <td>2816012211</td>\n",
       "      <td>2</td>\n",
       "      <td>None</td>\n",
       "      <td>4</td>\n",
       "      <td>6169625</td>\n",
       "    </tr>\n",
       "    <tr>\n",
       "      <th>114156</th>\n",
       "      <td>https://www.avito.ru/krasnodar/kvartiry/2-k._k...</td>\n",
       "      <td>2-к. квартира, 64,2 м², 13/16 эт.</td>\n",
       "      <td>2-к. квартира</td>\n",
       "      <td>64,2 м²</td>\n",
       "      <td>13/16 эт.</td>\n",
       "      <td>6169600.0</td>\n",
       "      <td>96100</td>\n",
       "      <td>Время Группа Компаний</td>\n",
       "      <td>р-н Прикубанский</td>\n",
       "      <td>ул. им. Кирилла Россинского, д. 3/1</td>\n",
       "      <td>...</td>\n",
       "      <td>Время Группа Компаний</td>\n",
       "      <td>https://www.avito.ru/user/0c771d40b5f5e02cde46...</td>\n",
       "      <td>NaN</td>\n",
       "      <td>krasnodar</td>\n",
       "      <td>3</td>\n",
       "      <td>2815858552</td>\n",
       "      <td>2</td>\n",
       "      <td>None</td>\n",
       "      <td>4</td>\n",
       "      <td>6169600</td>\n",
       "    </tr>\n",
       "  </tbody>\n",
       "</table>\n",
       "<p>114157 rows × 22 columns</p>\n",
       "</div>"
      ],
      "text/plain": [
       "                                                   Ссылка  \\\n",
       "0       https://www.avito.ru/tomsk/kvartiry/1-k._kvart...   \n",
       "1       https://www.avito.ru/tomsk/kvartiry/2-k._kvart...   \n",
       "2       https://www.avito.ru/tomsk/kvartiry/2-k._kvart...   \n",
       "3       https://www.avito.ru/tomsk/kvartiry/3-k._kvart...   \n",
       "4       https://www.avito.ru/tomsk/kvartiry/kvartira-s...   \n",
       "...                                                   ...   \n",
       "114152  https://www.avito.ru/krasnodar/kvartiry/2-k._k...   \n",
       "114153  https://www.avito.ru/krasnodar/kvartiry/2-k._k...   \n",
       "114154  https://www.avito.ru/krasnodar/kvartiry/2-k._k...   \n",
       "114155  https://www.avito.ru/krasnodar/kvartiry/2-k._k...   \n",
       "114156  https://www.avito.ru/krasnodar/kvartiry/2-k._k...   \n",
       "\n",
       "                                 Заголовок           Комнат  Площадь  \\\n",
       "0          1-к. квартира, 17,4 м², 5/5 эт.    1-к. квартира  17,4 м²   \n",
       "1         2-к. квартира, 53,5 м², 4/10 эт.    2-к. квартира  53,5 м²   \n",
       "2          2-к. квартира, 63 м², 17/18 эт.    2-к. квартира    63 м²   \n",
       "3            3-к. квартира, 68 м², 1/9 эт.    3-к. квартира    68 м²   \n",
       "4       Квартира-студия, 20,7 м², 9/10 эт.  Квартира-студия  20,7 м²   \n",
       "...                                    ...              ...      ...   \n",
       "114152   2-к. квартира, 53,3 м², 15/24 эт.    2-к. квартира  53,3 м²   \n",
       "114153   2-к. квартира, 53,3 м², 20/24 эт.    2-к. квартира  53,3 м²   \n",
       "114154    2-к. квартира, 65,1 м², 7/19 эт.    2-к. квартира  65,1 м²   \n",
       "114155   2-к. квартира, 64,2 м², 15/16 эт.    2-к. квартира  64,2 м²   \n",
       "114156   2-к. квартира, 64,2 м², 13/16 эт.    2-к. квартира  64,2 м²   \n",
       "\n",
       "             Этаж       Цена  Цена за м2             Название жк  \\\n",
       "0         5/5 эт.  2200000.0      126437                     NaN   \n",
       "1        4/10 эт.  6700000.0      125234                     NaN   \n",
       "2       17/18 эт.  6100000.0       96825                     NaN   \n",
       "3         1/9 эт.  5100000.0       75000                     NaN   \n",
       "4        9/10 эт.  2650000.0      128019                     NaN   \n",
       "...           ...        ...         ...                     ...   \n",
       "114152  15/24 эт.  5882357.0      110363  Группа компаний ИНСИТИ   \n",
       "114153  20/24 эт.  5882201.0      110360  Группа компаний ИНСИТИ   \n",
       "114154   7/19 эт.  6184500.0       95000  Группа компаний ИНСИТИ   \n",
       "114155  15/16 эт.  6169625.0       96100   Время Группа Компаний   \n",
       "114156  13/16 эт.  6169600.0       96100   Время Группа Компаний   \n",
       "\n",
       "                   Район                                              Улица  \\\n",
       "0          р-н Кировский                                    ул. Карпова, 23   \n",
       "1        р-н Октябрьский                                  ул. Дизайнеров, 3   \n",
       "2        р-н Октябрьский        микрорайон Солнечный, ул. Герасименко, 3/16   \n",
       "3          р-н Советский                               Сибирская ул., 102/1   \n",
       "4                    NaN  пос. Зональная Станция, микрорайон Южные Ворот...   \n",
       "...                  ...                                                ...   \n",
       "114152  р-н Прикубанский        б-р им. Адмирала Пустошкина, д. 11, корп. 1   \n",
       "114153  р-н Прикубанский        б-р им. Адмирала Пустошкина, д. 11, корп. 1   \n",
       "114154  р-н Прикубанский            ул. Адмирала Серебрякова, д. 3, корп. 1   \n",
       "114155  р-н Прикубанский                ул. им. Кирилла Россинского, д. 3/1   \n",
       "114156  р-н Прикубанский                ул. им. Кирилла Россинского, д. 3/1   \n",
       "\n",
       "        ...                Продавец  \\\n",
       "0       ...                     NaN   \n",
       "1       ...                     NaN   \n",
       "2       ...                   Алёна   \n",
       "3       ...                  Галина   \n",
       "4       ...                     NaN   \n",
       "...     ...                     ...   \n",
       "114152  ...  Группа компаний ИНСИТИ   \n",
       "114153  ...  Группа компаний ИНСИТИ   \n",
       "114154  ...  Группа компаний ИНСИТИ   \n",
       "114155  ...   Время Группа Компаний   \n",
       "114156  ...   Время Группа Компаний   \n",
       "\n",
       "                                       Ссылка на продавца  \\\n",
       "0                                                     NaN   \n",
       "1                                                     NaN   \n",
       "2       https://www.avito.ru/user/a09c2534dd270499116e...   \n",
       "3       https://www.avito.ru/user/e8f384adaa1ac950015f...   \n",
       "4                                                     NaN   \n",
       "...                                                   ...   \n",
       "114152  https://www.avito.ru/user/d1aa4a721290dfdad727...   \n",
       "114153  https://www.avito.ru/user/d1aa4a721290dfdad727...   \n",
       "114154  https://www.avito.ru/user/d1aa4a721290dfdad727...   \n",
       "114155  https://www.avito.ru/user/0c771d40b5f5e02cde46...   \n",
       "114156  https://www.avito.ru/user/0c771d40b5f5e02cde46...   \n",
       "\n",
       "       Завершённых объявлений       city source_id       ad_id  city_id  \\\n",
       "0                         NaN      tomsk         3  2814505758       17   \n",
       "1                         NaN      tomsk         3  2856523926       17   \n",
       "2                          95      tomsk         3  3010508456       17   \n",
       "3                          59      tomsk         3  2884326186       17   \n",
       "4                         NaN      tomsk         3  2931555827       17   \n",
       "...                       ...        ...       ...         ...      ...   \n",
       "114152                   7916  krasnodar         3  2326231151        2   \n",
       "114153                   7916  krasnodar         3  2358537090        2   \n",
       "114154                   7916  krasnodar         3  2326806083        2   \n",
       "114155                    NaN  krasnodar         3  2816012211        2   \n",
       "114156                    NaN  krasnodar         3  2815858552        2   \n",
       "\n",
       "       district_id  type_id      asd  \n",
       "0             None        3  2200000  \n",
       "1             None        4  6700000  \n",
       "2             None        4  6100000  \n",
       "3             None        5  5100000  \n",
       "4             None        2  2650000  \n",
       "...            ...      ...      ...  \n",
       "114152        None        4  5882357  \n",
       "114153        None        4  5882201  \n",
       "114154        None        4  6184500  \n",
       "114155        None        4  6169625  \n",
       "114156        None        4  6169600  \n",
       "\n",
       "[114157 rows x 22 columns]"
      ]
     },
     "execution_count": 131,
     "metadata": {},
     "output_type": "execute_result"
    }
   ],
   "source": [
    "a"
   ]
  },
  {
   "cell_type": "code",
   "execution_count": 132,
   "id": "eb01136a",
   "metadata": {
    "ExecuteTime": {
     "end_time": "2023-03-22T02:53:00.219773Z",
     "start_time": "2023-03-22T02:53:00.202993Z"
    }
   },
   "outputs": [
    {
     "data": {
      "text/html": [
       "<div>\n",
       "<style scoped>\n",
       "    .dataframe tbody tr th:only-of-type {\n",
       "        vertical-align: middle;\n",
       "    }\n",
       "\n",
       "    .dataframe tbody tr th {\n",
       "        vertical-align: top;\n",
       "    }\n",
       "\n",
       "    .dataframe thead th {\n",
       "        text-align: right;\n",
       "    }\n",
       "</style>\n",
       "<table border=\"1\" class=\"dataframe\">\n",
       "  <thead>\n",
       "    <tr style=\"text-align: right;\">\n",
       "      <th></th>\n",
       "      <th>Ссылка</th>\n",
       "      <th>Заголовок</th>\n",
       "      <th>Комнат</th>\n",
       "      <th>Площадь</th>\n",
       "      <th>Этаж</th>\n",
       "      <th>Цена</th>\n",
       "      <th>Цена за м2</th>\n",
       "      <th>Название жк</th>\n",
       "      <th>Район</th>\n",
       "      <th>Улица</th>\n",
       "      <th>...</th>\n",
       "      <th>Продавец</th>\n",
       "      <th>Ссылка на продавца</th>\n",
       "      <th>Завершённых объявлений</th>\n",
       "      <th>city</th>\n",
       "      <th>source_id</th>\n",
       "      <th>ad_id</th>\n",
       "      <th>city_id</th>\n",
       "      <th>district_id</th>\n",
       "      <th>type_id</th>\n",
       "      <th>asd</th>\n",
       "    </tr>\n",
       "  </thead>\n",
       "  <tbody>\n",
       "  </tbody>\n",
       "</table>\n",
       "<p>0 rows × 22 columns</p>\n",
       "</div>"
      ],
      "text/plain": [
       "Empty DataFrame\n",
       "Columns: [Ссылка, Заголовок, Комнат, Площадь, Этаж, Цена, Цена за м2, Название жк, Район, Улица, Дата публикации, Тип продавца, Продавец, Ссылка на продавца, Завершённых объявлений, city, source_id, ad_id, city_id, district_id, type_id, asd]\n",
       "Index: []\n",
       "\n",
       "[0 rows x 22 columns]"
      ]
     },
     "execution_count": 132,
     "metadata": {},
     "output_type": "execute_result"
    }
   ],
   "source": [
    "a[a.asd.isna()]"
   ]
  },
  {
   "cell_type": "code",
   "execution_count": 133,
   "id": "2a8bd457",
   "metadata": {
    "ExecuteTime": {
     "end_time": "2023-03-22T02:53:00.974613Z",
     "start_time": "2023-03-22T02:53:00.811167Z"
    }
   },
   "outputs": [
    {
     "data": {
      "text/html": [
       "<div>\n",
       "<style scoped>\n",
       "    .dataframe tbody tr th:only-of-type {\n",
       "        vertical-align: middle;\n",
       "    }\n",
       "\n",
       "    .dataframe tbody tr th {\n",
       "        vertical-align: top;\n",
       "    }\n",
       "\n",
       "    .dataframe thead th {\n",
       "        text-align: right;\n",
       "    }\n",
       "</style>\n",
       "<table border=\"1\" class=\"dataframe\">\n",
       "  <thead>\n",
       "    <tr style=\"text-align: right;\">\n",
       "      <th></th>\n",
       "      <th>Ссылка</th>\n",
       "      <th>Заголовок</th>\n",
       "      <th>Комнат</th>\n",
       "      <th>Площадь</th>\n",
       "      <th>Этаж</th>\n",
       "      <th>Цена</th>\n",
       "      <th>Цена за м2</th>\n",
       "      <th>Название жк</th>\n",
       "      <th>Район</th>\n",
       "      <th>Улица</th>\n",
       "      <th>...</th>\n",
       "      <th>Продавец</th>\n",
       "      <th>Ссылка на продавца</th>\n",
       "      <th>Завершённых объявлений</th>\n",
       "      <th>city</th>\n",
       "      <th>source_id</th>\n",
       "      <th>ad_id</th>\n",
       "      <th>city_id</th>\n",
       "      <th>district_id</th>\n",
       "      <th>type_id</th>\n",
       "      <th>asd</th>\n",
       "    </tr>\n",
       "  </thead>\n",
       "  <tbody>\n",
       "    <tr>\n",
       "      <th>0</th>\n",
       "      <td>https://www.avito.ru/tomsk/kvartiry/1-k._kvart...</td>\n",
       "      <td>1-к. квартира, 17,4 м², 5/5 эт.</td>\n",
       "      <td>1-к. квартира</td>\n",
       "      <td>17,4 м²</td>\n",
       "      <td>5/5 эт.</td>\n",
       "      <td>2200000.0</td>\n",
       "      <td>126437</td>\n",
       "      <td>NaN</td>\n",
       "      <td>р-н Кировский</td>\n",
       "      <td>ул. Карпова, 23</td>\n",
       "      <td>...</td>\n",
       "      <td>NaN</td>\n",
       "      <td>NaN</td>\n",
       "      <td>NaN</td>\n",
       "      <td>tomsk</td>\n",
       "      <td>3</td>\n",
       "      <td>2814505758</td>\n",
       "      <td>17</td>\n",
       "      <td>None</td>\n",
       "      <td>3</td>\n",
       "      <td>2200000</td>\n",
       "    </tr>\n",
       "    <tr>\n",
       "      <th>1</th>\n",
       "      <td>https://www.avito.ru/tomsk/kvartiry/2-k._kvart...</td>\n",
       "      <td>2-к. квартира, 53,5 м², 4/10 эт.</td>\n",
       "      <td>2-к. квартира</td>\n",
       "      <td>53,5 м²</td>\n",
       "      <td>4/10 эт.</td>\n",
       "      <td>6700000.0</td>\n",
       "      <td>125234</td>\n",
       "      <td>NaN</td>\n",
       "      <td>р-н Октябрьский</td>\n",
       "      <td>ул. Дизайнеров, 3</td>\n",
       "      <td>...</td>\n",
       "      <td>NaN</td>\n",
       "      <td>NaN</td>\n",
       "      <td>NaN</td>\n",
       "      <td>tomsk</td>\n",
       "      <td>3</td>\n",
       "      <td>2856523926</td>\n",
       "      <td>17</td>\n",
       "      <td>None</td>\n",
       "      <td>4</td>\n",
       "      <td>6700000</td>\n",
       "    </tr>\n",
       "    <tr>\n",
       "      <th>2</th>\n",
       "      <td>https://www.avito.ru/tomsk/kvartiry/2-k._kvart...</td>\n",
       "      <td>2-к. квартира, 63 м², 17/18 эт.</td>\n",
       "      <td>2-к. квартира</td>\n",
       "      <td>63 м²</td>\n",
       "      <td>17/18 эт.</td>\n",
       "      <td>6100000.0</td>\n",
       "      <td>96825</td>\n",
       "      <td>NaN</td>\n",
       "      <td>р-н Октябрьский</td>\n",
       "      <td>микрорайон Солнечный, ул. Герасименко, 3/16</td>\n",
       "      <td>...</td>\n",
       "      <td>Алёна</td>\n",
       "      <td>https://www.avito.ru/user/a09c2534dd270499116e...</td>\n",
       "      <td>95</td>\n",
       "      <td>tomsk</td>\n",
       "      <td>3</td>\n",
       "      <td>3010508456</td>\n",
       "      <td>17</td>\n",
       "      <td>None</td>\n",
       "      <td>4</td>\n",
       "      <td>6100000</td>\n",
       "    </tr>\n",
       "    <tr>\n",
       "      <th>3</th>\n",
       "      <td>https://www.avito.ru/tomsk/kvartiry/3-k._kvart...</td>\n",
       "      <td>3-к. квартира, 68 м², 1/9 эт.</td>\n",
       "      <td>3-к. квартира</td>\n",
       "      <td>68 м²</td>\n",
       "      <td>1/9 эт.</td>\n",
       "      <td>5100000.0</td>\n",
       "      <td>75000</td>\n",
       "      <td>NaN</td>\n",
       "      <td>р-н Советский</td>\n",
       "      <td>Сибирская ул., 102/1</td>\n",
       "      <td>...</td>\n",
       "      <td>Галина</td>\n",
       "      <td>https://www.avito.ru/user/e8f384adaa1ac950015f...</td>\n",
       "      <td>59</td>\n",
       "      <td>tomsk</td>\n",
       "      <td>3</td>\n",
       "      <td>2884326186</td>\n",
       "      <td>17</td>\n",
       "      <td>None</td>\n",
       "      <td>5</td>\n",
       "      <td>5100000</td>\n",
       "    </tr>\n",
       "    <tr>\n",
       "      <th>4</th>\n",
       "      <td>https://www.avito.ru/tomsk/kvartiry/kvartira-s...</td>\n",
       "      <td>Квартира-студия, 20,7 м², 9/10 эт.</td>\n",
       "      <td>Квартира-студия</td>\n",
       "      <td>20,7 м²</td>\n",
       "      <td>9/10 эт.</td>\n",
       "      <td>2650000.0</td>\n",
       "      <td>128019</td>\n",
       "      <td>NaN</td>\n",
       "      <td>NaN</td>\n",
       "      <td>пос. Зональная Станция, микрорайон Южные Ворот...</td>\n",
       "      <td>...</td>\n",
       "      <td>NaN</td>\n",
       "      <td>NaN</td>\n",
       "      <td>NaN</td>\n",
       "      <td>tomsk</td>\n",
       "      <td>3</td>\n",
       "      <td>2931555827</td>\n",
       "      <td>17</td>\n",
       "      <td>None</td>\n",
       "      <td>2</td>\n",
       "      <td>2650000</td>\n",
       "    </tr>\n",
       "    <tr>\n",
       "      <th>...</th>\n",
       "      <td>...</td>\n",
       "      <td>...</td>\n",
       "      <td>...</td>\n",
       "      <td>...</td>\n",
       "      <td>...</td>\n",
       "      <td>...</td>\n",
       "      <td>...</td>\n",
       "      <td>...</td>\n",
       "      <td>...</td>\n",
       "      <td>...</td>\n",
       "      <td>...</td>\n",
       "      <td>...</td>\n",
       "      <td>...</td>\n",
       "      <td>...</td>\n",
       "      <td>...</td>\n",
       "      <td>...</td>\n",
       "      <td>...</td>\n",
       "      <td>...</td>\n",
       "      <td>...</td>\n",
       "      <td>...</td>\n",
       "      <td>...</td>\n",
       "    </tr>\n",
       "    <tr>\n",
       "      <th>114152</th>\n",
       "      <td>https://www.avito.ru/krasnodar/kvartiry/2-k._k...</td>\n",
       "      <td>2-к. квартира, 53,3 м², 15/24 эт.</td>\n",
       "      <td>2-к. квартира</td>\n",
       "      <td>53,3 м²</td>\n",
       "      <td>15/24 эт.</td>\n",
       "      <td>5882357.0</td>\n",
       "      <td>110363</td>\n",
       "      <td>Группа компаний ИНСИТИ</td>\n",
       "      <td>р-н Прикубанский</td>\n",
       "      <td>б-р им. Адмирала Пустошкина, д. 11, корп. 1</td>\n",
       "      <td>...</td>\n",
       "      <td>Группа компаний ИНСИТИ</td>\n",
       "      <td>https://www.avito.ru/user/d1aa4a721290dfdad727...</td>\n",
       "      <td>7916</td>\n",
       "      <td>krasnodar</td>\n",
       "      <td>3</td>\n",
       "      <td>2326231151</td>\n",
       "      <td>2</td>\n",
       "      <td>None</td>\n",
       "      <td>4</td>\n",
       "      <td>5882357</td>\n",
       "    </tr>\n",
       "    <tr>\n",
       "      <th>114153</th>\n",
       "      <td>https://www.avito.ru/krasnodar/kvartiry/2-k._k...</td>\n",
       "      <td>2-к. квартира, 53,3 м², 20/24 эт.</td>\n",
       "      <td>2-к. квартира</td>\n",
       "      <td>53,3 м²</td>\n",
       "      <td>20/24 эт.</td>\n",
       "      <td>5882201.0</td>\n",
       "      <td>110360</td>\n",
       "      <td>Группа компаний ИНСИТИ</td>\n",
       "      <td>р-н Прикубанский</td>\n",
       "      <td>б-р им. Адмирала Пустошкина, д. 11, корп. 1</td>\n",
       "      <td>...</td>\n",
       "      <td>Группа компаний ИНСИТИ</td>\n",
       "      <td>https://www.avito.ru/user/d1aa4a721290dfdad727...</td>\n",
       "      <td>7916</td>\n",
       "      <td>krasnodar</td>\n",
       "      <td>3</td>\n",
       "      <td>2358537090</td>\n",
       "      <td>2</td>\n",
       "      <td>None</td>\n",
       "      <td>4</td>\n",
       "      <td>5882201</td>\n",
       "    </tr>\n",
       "    <tr>\n",
       "      <th>114154</th>\n",
       "      <td>https://www.avito.ru/krasnodar/kvartiry/2-k._k...</td>\n",
       "      <td>2-к. квартира, 65,1 м², 7/19 эт.</td>\n",
       "      <td>2-к. квартира</td>\n",
       "      <td>65,1 м²</td>\n",
       "      <td>7/19 эт.</td>\n",
       "      <td>6184500.0</td>\n",
       "      <td>95000</td>\n",
       "      <td>Группа компаний ИНСИТИ</td>\n",
       "      <td>р-н Прикубанский</td>\n",
       "      <td>ул. Адмирала Серебрякова, д. 3, корп. 1</td>\n",
       "      <td>...</td>\n",
       "      <td>Группа компаний ИНСИТИ</td>\n",
       "      <td>https://www.avito.ru/user/d1aa4a721290dfdad727...</td>\n",
       "      <td>7916</td>\n",
       "      <td>krasnodar</td>\n",
       "      <td>3</td>\n",
       "      <td>2326806083</td>\n",
       "      <td>2</td>\n",
       "      <td>None</td>\n",
       "      <td>4</td>\n",
       "      <td>6184500</td>\n",
       "    </tr>\n",
       "    <tr>\n",
       "      <th>114155</th>\n",
       "      <td>https://www.avito.ru/krasnodar/kvartiry/2-k._k...</td>\n",
       "      <td>2-к. квартира, 64,2 м², 15/16 эт.</td>\n",
       "      <td>2-к. квартира</td>\n",
       "      <td>64,2 м²</td>\n",
       "      <td>15/16 эт.</td>\n",
       "      <td>6169625.0</td>\n",
       "      <td>96100</td>\n",
       "      <td>Время Группа Компаний</td>\n",
       "      <td>р-н Прикубанский</td>\n",
       "      <td>ул. им. Кирилла Россинского, д. 3/1</td>\n",
       "      <td>...</td>\n",
       "      <td>Время Группа Компаний</td>\n",
       "      <td>https://www.avito.ru/user/0c771d40b5f5e02cde46...</td>\n",
       "      <td>NaN</td>\n",
       "      <td>krasnodar</td>\n",
       "      <td>3</td>\n",
       "      <td>2816012211</td>\n",
       "      <td>2</td>\n",
       "      <td>None</td>\n",
       "      <td>4</td>\n",
       "      <td>6169625</td>\n",
       "    </tr>\n",
       "    <tr>\n",
       "      <th>114156</th>\n",
       "      <td>https://www.avito.ru/krasnodar/kvartiry/2-k._k...</td>\n",
       "      <td>2-к. квартира, 64,2 м², 13/16 эт.</td>\n",
       "      <td>2-к. квартира</td>\n",
       "      <td>64,2 м²</td>\n",
       "      <td>13/16 эт.</td>\n",
       "      <td>6169600.0</td>\n",
       "      <td>96100</td>\n",
       "      <td>Время Группа Компаний</td>\n",
       "      <td>р-н Прикубанский</td>\n",
       "      <td>ул. им. Кирилла Россинского, д. 3/1</td>\n",
       "      <td>...</td>\n",
       "      <td>Время Группа Компаний</td>\n",
       "      <td>https://www.avito.ru/user/0c771d40b5f5e02cde46...</td>\n",
       "      <td>NaN</td>\n",
       "      <td>krasnodar</td>\n",
       "      <td>3</td>\n",
       "      <td>2815858552</td>\n",
       "      <td>2</td>\n",
       "      <td>None</td>\n",
       "      <td>4</td>\n",
       "      <td>6169600</td>\n",
       "    </tr>\n",
       "  </tbody>\n",
       "</table>\n",
       "<p>114157 rows × 22 columns</p>\n",
       "</div>"
      ],
      "text/plain": [
       "                                                   Ссылка  \\\n",
       "0       https://www.avito.ru/tomsk/kvartiry/1-k._kvart...   \n",
       "1       https://www.avito.ru/tomsk/kvartiry/2-k._kvart...   \n",
       "2       https://www.avito.ru/tomsk/kvartiry/2-k._kvart...   \n",
       "3       https://www.avito.ru/tomsk/kvartiry/3-k._kvart...   \n",
       "4       https://www.avito.ru/tomsk/kvartiry/kvartira-s...   \n",
       "...                                                   ...   \n",
       "114152  https://www.avito.ru/krasnodar/kvartiry/2-k._k...   \n",
       "114153  https://www.avito.ru/krasnodar/kvartiry/2-k._k...   \n",
       "114154  https://www.avito.ru/krasnodar/kvartiry/2-k._k...   \n",
       "114155  https://www.avito.ru/krasnodar/kvartiry/2-k._k...   \n",
       "114156  https://www.avito.ru/krasnodar/kvartiry/2-k._k...   \n",
       "\n",
       "                                 Заголовок           Комнат  Площадь  \\\n",
       "0          1-к. квартира, 17,4 м², 5/5 эт.    1-к. квартира  17,4 м²   \n",
       "1         2-к. квартира, 53,5 м², 4/10 эт.    2-к. квартира  53,5 м²   \n",
       "2          2-к. квартира, 63 м², 17/18 эт.    2-к. квартира    63 м²   \n",
       "3            3-к. квартира, 68 м², 1/9 эт.    3-к. квартира    68 м²   \n",
       "4       Квартира-студия, 20,7 м², 9/10 эт.  Квартира-студия  20,7 м²   \n",
       "...                                    ...              ...      ...   \n",
       "114152   2-к. квартира, 53,3 м², 15/24 эт.    2-к. квартира  53,3 м²   \n",
       "114153   2-к. квартира, 53,3 м², 20/24 эт.    2-к. квартира  53,3 м²   \n",
       "114154    2-к. квартира, 65,1 м², 7/19 эт.    2-к. квартира  65,1 м²   \n",
       "114155   2-к. квартира, 64,2 м², 15/16 эт.    2-к. квартира  64,2 м²   \n",
       "114156   2-к. квартира, 64,2 м², 13/16 эт.    2-к. квартира  64,2 м²   \n",
       "\n",
       "             Этаж       Цена  Цена за м2             Название жк  \\\n",
       "0         5/5 эт.  2200000.0      126437                     NaN   \n",
       "1        4/10 эт.  6700000.0      125234                     NaN   \n",
       "2       17/18 эт.  6100000.0       96825                     NaN   \n",
       "3         1/9 эт.  5100000.0       75000                     NaN   \n",
       "4        9/10 эт.  2650000.0      128019                     NaN   \n",
       "...           ...        ...         ...                     ...   \n",
       "114152  15/24 эт.  5882357.0      110363  Группа компаний ИНСИТИ   \n",
       "114153  20/24 эт.  5882201.0      110360  Группа компаний ИНСИТИ   \n",
       "114154   7/19 эт.  6184500.0       95000  Группа компаний ИНСИТИ   \n",
       "114155  15/16 эт.  6169625.0       96100   Время Группа Компаний   \n",
       "114156  13/16 эт.  6169600.0       96100   Время Группа Компаний   \n",
       "\n",
       "                   Район                                              Улица  \\\n",
       "0          р-н Кировский                                    ул. Карпова, 23   \n",
       "1        р-н Октябрьский                                  ул. Дизайнеров, 3   \n",
       "2        р-н Октябрьский        микрорайон Солнечный, ул. Герасименко, 3/16   \n",
       "3          р-н Советский                               Сибирская ул., 102/1   \n",
       "4                    NaN  пос. Зональная Станция, микрорайон Южные Ворот...   \n",
       "...                  ...                                                ...   \n",
       "114152  р-н Прикубанский        б-р им. Адмирала Пустошкина, д. 11, корп. 1   \n",
       "114153  р-н Прикубанский        б-р им. Адмирала Пустошкина, д. 11, корп. 1   \n",
       "114154  р-н Прикубанский            ул. Адмирала Серебрякова, д. 3, корп. 1   \n",
       "114155  р-н Прикубанский                ул. им. Кирилла Россинского, д. 3/1   \n",
       "114156  р-н Прикубанский                ул. им. Кирилла Россинского, д. 3/1   \n",
       "\n",
       "        ...                Продавец  \\\n",
       "0       ...                     NaN   \n",
       "1       ...                     NaN   \n",
       "2       ...                   Алёна   \n",
       "3       ...                  Галина   \n",
       "4       ...                     NaN   \n",
       "...     ...                     ...   \n",
       "114152  ...  Группа компаний ИНСИТИ   \n",
       "114153  ...  Группа компаний ИНСИТИ   \n",
       "114154  ...  Группа компаний ИНСИТИ   \n",
       "114155  ...   Время Группа Компаний   \n",
       "114156  ...   Время Группа Компаний   \n",
       "\n",
       "                                       Ссылка на продавца  \\\n",
       "0                                                     NaN   \n",
       "1                                                     NaN   \n",
       "2       https://www.avito.ru/user/a09c2534dd270499116e...   \n",
       "3       https://www.avito.ru/user/e8f384adaa1ac950015f...   \n",
       "4                                                     NaN   \n",
       "...                                                   ...   \n",
       "114152  https://www.avito.ru/user/d1aa4a721290dfdad727...   \n",
       "114153  https://www.avito.ru/user/d1aa4a721290dfdad727...   \n",
       "114154  https://www.avito.ru/user/d1aa4a721290dfdad727...   \n",
       "114155  https://www.avito.ru/user/0c771d40b5f5e02cde46...   \n",
       "114156  https://www.avito.ru/user/0c771d40b5f5e02cde46...   \n",
       "\n",
       "       Завершённых объявлений       city source_id       ad_id  city_id  \\\n",
       "0                         NaN      tomsk         3  2814505758       17   \n",
       "1                         NaN      tomsk         3  2856523926       17   \n",
       "2                          95      tomsk         3  3010508456       17   \n",
       "3                          59      tomsk         3  2884326186       17   \n",
       "4                         NaN      tomsk         3  2931555827       17   \n",
       "...                       ...        ...       ...         ...      ...   \n",
       "114152                   7916  krasnodar         3  2326231151        2   \n",
       "114153                   7916  krasnodar         3  2358537090        2   \n",
       "114154                   7916  krasnodar         3  2326806083        2   \n",
       "114155                    NaN  krasnodar         3  2816012211        2   \n",
       "114156                    NaN  krasnodar         3  2815858552        2   \n",
       "\n",
       "       district_id  type_id      asd  \n",
       "0             None        3  2200000  \n",
       "1             None        4  6700000  \n",
       "2             None        4  6100000  \n",
       "3             None        5  5100000  \n",
       "4             None        2  2650000  \n",
       "...            ...      ...      ...  \n",
       "114152        None        4  5882357  \n",
       "114153        None        4  5882201  \n",
       "114154        None        4  6184500  \n",
       "114155        None        4  6169625  \n",
       "114156        None        4  6169600  \n",
       "\n",
       "[114157 rows x 22 columns]"
      ]
     },
     "execution_count": 133,
     "metadata": {},
     "output_type": "execute_result"
    }
   ],
   "source": [
    "a"
   ]
  },
  {
   "cell_type": "code",
   "execution_count": 134,
   "id": "730eb4d3",
   "metadata": {
    "ExecuteTime": {
     "end_time": "2023-03-22T02:53:04.057793Z",
     "start_time": "2023-03-22T02:53:04.054124Z"
    }
   },
   "outputs": [],
   "source": [
    "# addr"
   ]
  },
  {
   "cell_type": "code",
   "execution_count": 135,
   "id": "599e8f61",
   "metadata": {
    "ExecuteTime": {
     "end_time": "2023-03-22T02:53:04.776403Z",
     "start_time": "2023-03-22T02:53:04.767843Z"
    }
   },
   "outputs": [],
   "source": [
    "# создание поля addr из данных avito\n",
    "# поле должно совпасть с форматом cian\n",
    "# формат: Томская область; Томск; р-н Кировский; мкр. Преображенский; улица Дзержинского; 36\n",
    "def avito_addr_from_row(row, city_df):\n",
    "    # добавление города для совпадения форматов\n",
    "    try:\n",
    "        addr = city_df[city_df.url_avito == row['city']]['name'].values[0]\n",
    "        addr += '; '\n",
    "    except:\n",
    "        addr = ''\n",
    "    # добавляем район, в авито он может быть None\n",
    "    try:\n",
    "        if len(row['Район']) == 0:\n",
    "            pass\n",
    "        else:\n",
    "            addr += row['Район']\n",
    "            addr += '; '\n",
    "    except:\n",
    "        pass\n",
    "    # добавляем улицу, дом, пр. в авито он может быть None\n",
    "    try:\n",
    "        for value in row['Улица'].split(', '):\n",
    "            addr += value\n",
    "            addr += '; '\n",
    "    except:\n",
    "        pass\n",
    "    # drop duplicates\n",
    "    addr = addr[:-2]\n",
    "    if len(addr.split('; ')) != len(set(addr.split('; '))):\n",
    "        addr = '; '.join(list(dict.fromkeys(addr.split('; '))))\n",
    "    return addr"
   ]
  },
  {
   "cell_type": "code",
   "execution_count": 136,
   "id": "e775fc32",
   "metadata": {
    "ExecuteTime": {
     "end_time": "2023-03-22T02:53:32.902236Z",
     "start_time": "2023-03-22T02:53:05.613211Z"
    }
   },
   "outputs": [],
   "source": [
    "a['addr'] = a.apply(lambda row: avito_addr_from_row(row, city_df), axis=1)"
   ]
  },
  {
   "cell_type": "code",
   "execution_count": 137,
   "id": "ec1b879a",
   "metadata": {
    "ExecuteTime": {
     "end_time": "2023-03-22T02:53:32.907388Z",
     "start_time": "2023-03-22T02:53:32.904647Z"
    }
   },
   "outputs": [],
   "source": [
    "# square"
   ]
  },
  {
   "cell_type": "code",
   "execution_count": 138,
   "id": "775bf5a8",
   "metadata": {
    "ExecuteTime": {
     "end_time": "2023-03-22T02:53:32.913209Z",
     "start_time": "2023-03-22T02:53:32.907388Z"
    }
   },
   "outputs": [],
   "source": [
    "def square_from_ploshad(square_value):\n",
    "    try:\n",
    "        return float(square_value[:-3].replace(',', '.'))\n",
    "    except:\n",
    "        return None"
   ]
  },
  {
   "cell_type": "code",
   "execution_count": 139,
   "id": "e40ca498",
   "metadata": {
    "ExecuteTime": {
     "end_time": "2023-03-22T02:53:32.973406Z",
     "start_time": "2023-03-22T02:53:32.914214Z"
    }
   },
   "outputs": [],
   "source": [
    "a['square'] = a['Площадь'].apply(lambda x: square_from_ploshad(x))"
   ]
  },
  {
   "cell_type": "code",
   "execution_count": 140,
   "id": "4df41ea6",
   "metadata": {
    "ExecuteTime": {
     "end_time": "2023-03-22T02:53:32.978138Z",
     "start_time": "2023-03-22T02:53:32.974499Z"
    }
   },
   "outputs": [],
   "source": [
    "# floor and house_floors"
   ]
  },
  {
   "cell_type": "code",
   "execution_count": 141,
   "id": "8759ddc0",
   "metadata": {
    "ExecuteTime": {
     "end_time": "2023-03-22T02:53:32.984113Z",
     "start_time": "2023-03-22T02:53:32.978138Z"
    }
   },
   "outputs": [],
   "source": [
    "def floor_floors_from_etazh(etazh_value):\n",
    "    try:\n",
    "        return [etazh_value.split('/')[0], etazh_value.split('/')[1].replace(' эт.', '')]\n",
    "    except:\n",
    "        return [None, None]"
   ]
  },
  {
   "cell_type": "code",
   "execution_count": 142,
   "id": "5413f00d",
   "metadata": {
    "ExecuteTime": {
     "end_time": "2023-03-22T02:53:33.419202Z",
     "start_time": "2023-03-22T02:53:32.984113Z"
    }
   },
   "outputs": [],
   "source": [
    "a['floor'],  a['house_floors'] = zip(*a['Этаж'].apply(floor_floors_from_etazh))"
   ]
  },
  {
   "cell_type": "code",
   "execution_count": 143,
   "id": "e2d2c4cb",
   "metadata": {
    "ExecuteTime": {
     "end_time": "2023-03-22T02:53:33.424365Z",
     "start_time": "2023-03-22T02:53:33.420543Z"
    }
   },
   "outputs": [],
   "source": [
    "# link"
   ]
  },
  {
   "cell_type": "code",
   "execution_count": 144,
   "id": "ac6552ce",
   "metadata": {
    "ExecuteTime": {
     "end_time": "2023-03-22T02:53:33.464656Z",
     "start_time": "2023-03-22T02:53:33.425375Z"
    }
   },
   "outputs": [],
   "source": [
    "a['link'] = a['Ссылка']"
   ]
  },
  {
   "cell_type": "code",
   "execution_count": 145,
   "id": "9bfa616d",
   "metadata": {
    "ExecuteTime": {
     "end_time": "2023-03-22T02:53:33.470792Z",
     "start_time": "2023-03-22T02:53:33.466871Z"
    }
   },
   "outputs": [],
   "source": [
    "# date"
   ]
  },
  {
   "cell_type": "code",
   "execution_count": 146,
   "id": "5edfbc2b",
   "metadata": {
    "ExecuteTime": {
     "end_time": "2023-03-22T02:53:40.783402Z",
     "start_time": "2023-03-22T02:53:40.777172Z"
    }
   },
   "outputs": [
    {
     "data": {
      "text/plain": [
       "['20-03-23 (без дублей).csv']"
      ]
     },
     "execution_count": 146,
     "metadata": {},
     "output_type": "execute_result"
    }
   ],
   "source": [
    "files_to_process_avito"
   ]
  },
  {
   "cell_type": "code",
   "execution_count": 147,
   "id": "c3bf87f4",
   "metadata": {
    "ExecuteTime": {
     "end_time": "2023-03-22T02:53:54.374888Z",
     "start_time": "2023-03-22T02:53:54.366941Z"
    }
   },
   "outputs": [],
   "source": [
    "a['date'] = get_date_from_name(Path(files_to_process_avito[0]).stem)"
   ]
  },
  {
   "cell_type": "code",
   "execution_count": 148,
   "id": "95e2c97b",
   "metadata": {
    "ExecuteTime": {
     "end_time": "2023-03-22T02:53:56.515093Z",
     "start_time": "2023-03-22T02:53:56.509492Z"
    }
   },
   "outputs": [],
   "source": [
    "# status"
   ]
  },
  {
   "cell_type": "code",
   "execution_count": 149,
   "id": "2a1a84a2",
   "metadata": {
    "ExecuteTime": {
     "end_time": "2023-03-22T02:53:57.099039Z",
     "start_time": "2023-03-22T02:53:57.094236Z"
    }
   },
   "outputs": [],
   "source": [
    "a['status'] = None"
   ]
  },
  {
   "cell_type": "code",
   "execution_count": 150,
   "id": "ce06fc54",
   "metadata": {
    "ExecuteTime": {
     "end_time": "2023-03-22T02:53:57.567216Z",
     "start_time": "2023-03-22T02:53:57.563012Z"
    }
   },
   "outputs": [],
   "source": [
    "# version"
   ]
  },
  {
   "cell_type": "code",
   "execution_count": 151,
   "id": "448c00b6",
   "metadata": {
    "ExecuteTime": {
     "end_time": "2023-03-22T02:54:00.165787Z",
     "start_time": "2023-03-22T02:54:00.159858Z"
    }
   },
   "outputs": [],
   "source": [
    "def get_version(engine, today_date, source_id):\n",
    "    last_version = f\"SELECT Max(version) FROM realty WHERE date < '{today_date}' AND source_id = {source_id}\"\n",
    "    try:\n",
    "        con_obj=engine.connect()\n",
    "        last_version_db = pd.read_sql(text(last_version), con=con_obj)\n",
    "        con_obj.close()\n",
    "        exc_code = None\n",
    "    except Exception as exc:\n",
    "        print(exc)\n",
    "        city_db = None\n",
    "        exc_code = exc.code\n",
    "    return last_version_db, exc_code"
   ]
  },
  {
   "cell_type": "code",
   "execution_count": 152,
   "id": "73c0690d",
   "metadata": {
    "ExecuteTime": {
     "end_time": "2023-03-22T02:54:04.120645Z",
     "start_time": "2023-03-22T02:54:01.301064Z"
    }
   },
   "outputs": [],
   "source": [
    "current_source = a.source_id.unique()[0]\n",
    "current_date = datetime.now().date()\n",
    "last_version = get_version(sql_engine, current_date, current_source)[0].iloc[0,0]\n",
    "if last_version == None:\n",
    "    current_version = 1\n",
    "else:\n",
    "    current_version = last_version + 1"
   ]
  },
  {
   "cell_type": "code",
   "execution_count": 153,
   "id": "d1680a0b",
   "metadata": {
    "ExecuteTime": {
     "end_time": "2023-03-22T02:54:04.128721Z",
     "start_time": "2023-03-22T02:54:04.120645Z"
    }
   },
   "outputs": [],
   "source": [
    "a['version'] = current_version"
   ]
  },
  {
   "cell_type": "code",
   "execution_count": 154,
   "id": "3a32b590",
   "metadata": {
    "ExecuteTime": {
     "end_time": "2023-03-22T02:54:07.293693Z",
     "start_time": "2023-03-22T02:54:07.288013Z"
    }
   },
   "outputs": [],
   "source": [
    "# offer_from\n",
    "# ВОПРОС - надо ли преобразовать к одному виду с cian"
   ]
  },
  {
   "cell_type": "code",
   "execution_count": 155,
   "id": "48d3b471",
   "metadata": {
    "ExecuteTime": {
     "end_time": "2023-03-22T02:54:07.977404Z",
     "start_time": "2023-03-22T02:54:07.969165Z"
    }
   },
   "outputs": [],
   "source": [
    "a['offer_from'] = a['Тип продавца']"
   ]
  },
  {
   "cell_type": "code",
   "execution_count": 156,
   "id": "217c02af",
   "metadata": {
    "ExecuteTime": {
     "end_time": "2023-03-22T02:54:08.722590Z",
     "start_time": "2023-03-22T02:54:08.717499Z"
    }
   },
   "outputs": [],
   "source": [
    "# status_new"
   ]
  },
  {
   "cell_type": "code",
   "execution_count": 157,
   "id": "33cee975",
   "metadata": {
    "ExecuteTime": {
     "end_time": "2023-03-22T02:54:09.442585Z",
     "start_time": "2023-03-22T02:54:09.435245Z"
    }
   },
   "outputs": [],
   "source": [
    "a['status_new'] = 1"
   ]
  },
  {
   "cell_type": "code",
   "execution_count": 158,
   "id": "b12a3b7f",
   "metadata": {
    "ExecuteTime": {
     "end_time": "2023-03-22T02:54:10.771515Z",
     "start_time": "2023-03-22T02:54:10.767259Z"
    }
   },
   "outputs": [],
   "source": [
    "# house_id\n",
    "# нет в текущем алго, оставляю пустым"
   ]
  },
  {
   "cell_type": "code",
   "execution_count": 167,
   "id": "365e514b",
   "metadata": {
    "ExecuteTime": {
     "end_time": "2023-03-22T02:56:14.878958Z",
     "start_time": "2023-03-22T02:56:14.851897Z"
    }
   },
   "outputs": [],
   "source": [
    "realty_table = a[['source_id', 'ad_id', 'city_id', 'district_id', 'type_id', 'addr', 'square', 'floor', 'house_floors', 'link', 'date', 'status', 'version', 'offer_from', 'status_new']]"
   ]
  },
  {
   "cell_type": "code",
   "execution_count": 172,
   "id": "4af00091",
   "metadata": {
    "ExecuteTime": {
     "end_time": "2023-03-22T02:56:52.390328Z",
     "start_time": "2023-03-22T02:56:52.374299Z"
    }
   },
   "outputs": [
    {
     "data": {
      "text/html": [
       "<div>\n",
       "<style scoped>\n",
       "    .dataframe tbody tr th:only-of-type {\n",
       "        vertical-align: middle;\n",
       "    }\n",
       "\n",
       "    .dataframe tbody tr th {\n",
       "        vertical-align: top;\n",
       "    }\n",
       "\n",
       "    .dataframe thead th {\n",
       "        text-align: right;\n",
       "    }\n",
       "</style>\n",
       "<table border=\"1\" class=\"dataframe\">\n",
       "  <thead>\n",
       "    <tr style=\"text-align: right;\">\n",
       "      <th></th>\n",
       "      <th>source_id</th>\n",
       "      <th>ad_id</th>\n",
       "      <th>city_id</th>\n",
       "      <th>type_id</th>\n",
       "      <th>addr</th>\n",
       "      <th>square</th>\n",
       "      <th>floor</th>\n",
       "      <th>house_floors</th>\n",
       "      <th>link</th>\n",
       "      <th>date</th>\n",
       "      <th>version</th>\n",
       "      <th>offer_from</th>\n",
       "      <th>status_new</th>\n",
       "    </tr>\n",
       "  </thead>\n",
       "  <tbody>\n",
       "    <tr>\n",
       "      <th>0</th>\n",
       "      <td>3</td>\n",
       "      <td>2814505758</td>\n",
       "      <td>17.0</td>\n",
       "      <td>3</td>\n",
       "      <td>Томск; р-н Кировский; ул. Карпова; 23</td>\n",
       "      <td>17.4</td>\n",
       "      <td>5</td>\n",
       "      <td>5</td>\n",
       "      <td>https://www.avito.ru/tomsk/kvartiry/1-k._kvart...</td>\n",
       "      <td>2023-03-20</td>\n",
       "      <td>2</td>\n",
       "      <td>Частное лицо</td>\n",
       "      <td>1</td>\n",
       "    </tr>\n",
       "    <tr>\n",
       "      <th>1</th>\n",
       "      <td>3</td>\n",
       "      <td>2856523926</td>\n",
       "      <td>17.0</td>\n",
       "      <td>4</td>\n",
       "      <td>Томск; р-н Октябрьский; ул. Дизайнеров; 3</td>\n",
       "      <td>53.5</td>\n",
       "      <td>4</td>\n",
       "      <td>10</td>\n",
       "      <td>https://www.avito.ru/tomsk/kvartiry/2-k._kvart...</td>\n",
       "      <td>2023-03-20</td>\n",
       "      <td>2</td>\n",
       "      <td>Частное лицо</td>\n",
       "      <td>1</td>\n",
       "    </tr>\n",
       "    <tr>\n",
       "      <th>2</th>\n",
       "      <td>3</td>\n",
       "      <td>3010508456</td>\n",
       "      <td>17.0</td>\n",
       "      <td>4</td>\n",
       "      <td>Томск; р-н Октябрьский; микрорайон Солнечный; ...</td>\n",
       "      <td>63.0</td>\n",
       "      <td>17</td>\n",
       "      <td>18</td>\n",
       "      <td>https://www.avito.ru/tomsk/kvartiry/2-k._kvart...</td>\n",
       "      <td>2023-03-20</td>\n",
       "      <td>2</td>\n",
       "      <td>Агентство</td>\n",
       "      <td>1</td>\n",
       "    </tr>\n",
       "    <tr>\n",
       "      <th>3</th>\n",
       "      <td>3</td>\n",
       "      <td>2884326186</td>\n",
       "      <td>17.0</td>\n",
       "      <td>5</td>\n",
       "      <td>Томск; р-н Советский; Сибирская ул.; 102/1</td>\n",
       "      <td>68.0</td>\n",
       "      <td>1</td>\n",
       "      <td>9</td>\n",
       "      <td>https://www.avito.ru/tomsk/kvartiry/3-k._kvart...</td>\n",
       "      <td>2023-03-20</td>\n",
       "      <td>2</td>\n",
       "      <td>Агентство</td>\n",
       "      <td>1</td>\n",
       "    </tr>\n",
       "    <tr>\n",
       "      <th>4</th>\n",
       "      <td>3</td>\n",
       "      <td>2931555827</td>\n",
       "      <td>17.0</td>\n",
       "      <td>2</td>\n",
       "      <td>Томск; пос. Зональная Станция; микрорайон Южны...</td>\n",
       "      <td>20.7</td>\n",
       "      <td>9</td>\n",
       "      <td>10</td>\n",
       "      <td>https://www.avito.ru/tomsk/kvartiry/kvartira-s...</td>\n",
       "      <td>2023-03-20</td>\n",
       "      <td>2</td>\n",
       "      <td>Частное лицо</td>\n",
       "      <td>1</td>\n",
       "    </tr>\n",
       "    <tr>\n",
       "      <th>...</th>\n",
       "      <td>...</td>\n",
       "      <td>...</td>\n",
       "      <td>...</td>\n",
       "      <td>...</td>\n",
       "      <td>...</td>\n",
       "      <td>...</td>\n",
       "      <td>...</td>\n",
       "      <td>...</td>\n",
       "      <td>...</td>\n",
       "      <td>...</td>\n",
       "      <td>...</td>\n",
       "      <td>...</td>\n",
       "      <td>...</td>\n",
       "    </tr>\n",
       "    <tr>\n",
       "      <th>114152</th>\n",
       "      <td>3</td>\n",
       "      <td>2326231151</td>\n",
       "      <td>2.0</td>\n",
       "      <td>4</td>\n",
       "      <td>Краснодар; р-н Прикубанский; б-р им. Адмирала ...</td>\n",
       "      <td>53.3</td>\n",
       "      <td>15</td>\n",
       "      <td>24</td>\n",
       "      <td>https://www.avito.ru/krasnodar/kvartiry/2-k._k...</td>\n",
       "      <td>2023-03-20</td>\n",
       "      <td>2</td>\n",
       "      <td>Застройщик</td>\n",
       "      <td>1</td>\n",
       "    </tr>\n",
       "    <tr>\n",
       "      <th>114153</th>\n",
       "      <td>3</td>\n",
       "      <td>2358537090</td>\n",
       "      <td>2.0</td>\n",
       "      <td>4</td>\n",
       "      <td>Краснодар; р-н Прикубанский; б-р им. Адмирала ...</td>\n",
       "      <td>53.3</td>\n",
       "      <td>20</td>\n",
       "      <td>24</td>\n",
       "      <td>https://www.avito.ru/krasnodar/kvartiry/2-k._k...</td>\n",
       "      <td>2023-03-20</td>\n",
       "      <td>2</td>\n",
       "      <td>Застройщик</td>\n",
       "      <td>1</td>\n",
       "    </tr>\n",
       "    <tr>\n",
       "      <th>114154</th>\n",
       "      <td>3</td>\n",
       "      <td>2326806083</td>\n",
       "      <td>2.0</td>\n",
       "      <td>4</td>\n",
       "      <td>Краснодар; р-н Прикубанский; ул. Адмирала Сере...</td>\n",
       "      <td>65.1</td>\n",
       "      <td>7</td>\n",
       "      <td>19</td>\n",
       "      <td>https://www.avito.ru/krasnodar/kvartiry/2-k._k...</td>\n",
       "      <td>2023-03-20</td>\n",
       "      <td>2</td>\n",
       "      <td>Застройщик</td>\n",
       "      <td>1</td>\n",
       "    </tr>\n",
       "    <tr>\n",
       "      <th>114155</th>\n",
       "      <td>3</td>\n",
       "      <td>2816012211</td>\n",
       "      <td>2.0</td>\n",
       "      <td>4</td>\n",
       "      <td>Краснодар; р-н Прикубанский; ул. им. Кирилла Р...</td>\n",
       "      <td>64.2</td>\n",
       "      <td>15</td>\n",
       "      <td>16</td>\n",
       "      <td>https://www.avito.ru/krasnodar/kvartiry/2-k._k...</td>\n",
       "      <td>2023-03-20</td>\n",
       "      <td>2</td>\n",
       "      <td>Агентство</td>\n",
       "      <td>1</td>\n",
       "    </tr>\n",
       "    <tr>\n",
       "      <th>114156</th>\n",
       "      <td>3</td>\n",
       "      <td>2815858552</td>\n",
       "      <td>2.0</td>\n",
       "      <td>4</td>\n",
       "      <td>Краснодар; р-н Прикубанский; ул. им. Кирилла Р...</td>\n",
       "      <td>64.2</td>\n",
       "      <td>13</td>\n",
       "      <td>16</td>\n",
       "      <td>https://www.avito.ru/krasnodar/kvartiry/2-k._k...</td>\n",
       "      <td>2023-03-20</td>\n",
       "      <td>2</td>\n",
       "      <td>Агентство</td>\n",
       "      <td>1</td>\n",
       "    </tr>\n",
       "  </tbody>\n",
       "</table>\n",
       "<p>114157 rows × 13 columns</p>\n",
       "</div>"
      ],
      "text/plain": [
       "        source_id       ad_id  city_id type_id  \\\n",
       "0               3  2814505758     17.0       3   \n",
       "1               3  2856523926     17.0       4   \n",
       "2               3  3010508456     17.0       4   \n",
       "3               3  2884326186     17.0       5   \n",
       "4               3  2931555827     17.0       2   \n",
       "...           ...         ...      ...     ...   \n",
       "114152          3  2326231151      2.0       4   \n",
       "114153          3  2358537090      2.0       4   \n",
       "114154          3  2326806083      2.0       4   \n",
       "114155          3  2816012211      2.0       4   \n",
       "114156          3  2815858552      2.0       4   \n",
       "\n",
       "                                                     addr  square floor  \\\n",
       "0                   Томск; р-н Кировский; ул. Карпова; 23    17.4     5   \n",
       "1               Томск; р-н Октябрьский; ул. Дизайнеров; 3    53.5     4   \n",
       "2       Томск; р-н Октябрьский; микрорайон Солнечный; ...    63.0    17   \n",
       "3              Томск; р-н Советский; Сибирская ул.; 102/1    68.0     1   \n",
       "4       Томск; пос. Зональная Станция; микрорайон Южны...    20.7     9   \n",
       "...                                                   ...     ...   ...   \n",
       "114152  Краснодар; р-н Прикубанский; б-р им. Адмирала ...    53.3    15   \n",
       "114153  Краснодар; р-н Прикубанский; б-р им. Адмирала ...    53.3    20   \n",
       "114154  Краснодар; р-н Прикубанский; ул. Адмирала Сере...    65.1     7   \n",
       "114155  Краснодар; р-н Прикубанский; ул. им. Кирилла Р...    64.2    15   \n",
       "114156  Краснодар; р-н Прикубанский; ул. им. Кирилла Р...    64.2    13   \n",
       "\n",
       "       house_floors                                               link  \\\n",
       "0                 5  https://www.avito.ru/tomsk/kvartiry/1-k._kvart...   \n",
       "1                10  https://www.avito.ru/tomsk/kvartiry/2-k._kvart...   \n",
       "2                18  https://www.avito.ru/tomsk/kvartiry/2-k._kvart...   \n",
       "3                 9  https://www.avito.ru/tomsk/kvartiry/3-k._kvart...   \n",
       "4                10  https://www.avito.ru/tomsk/kvartiry/kvartira-s...   \n",
       "...             ...                                                ...   \n",
       "114152           24  https://www.avito.ru/krasnodar/kvartiry/2-k._k...   \n",
       "114153           24  https://www.avito.ru/krasnodar/kvartiry/2-k._k...   \n",
       "114154           19  https://www.avito.ru/krasnodar/kvartiry/2-k._k...   \n",
       "114155           16  https://www.avito.ru/krasnodar/kvartiry/2-k._k...   \n",
       "114156           16  https://www.avito.ru/krasnodar/kvartiry/2-k._k...   \n",
       "\n",
       "             date  version    offer_from  status_new  \n",
       "0      2023-03-20        2  Частное лицо           1  \n",
       "1      2023-03-20        2  Частное лицо           1  \n",
       "2      2023-03-20        2     Агентство           1  \n",
       "3      2023-03-20        2     Агентство           1  \n",
       "4      2023-03-20        2  Частное лицо           1  \n",
       "...           ...      ...           ...         ...  \n",
       "114152 2023-03-20        2    Застройщик           1  \n",
       "114153 2023-03-20        2    Застройщик           1  \n",
       "114154 2023-03-20        2    Застройщик           1  \n",
       "114155 2023-03-20        2     Агентство           1  \n",
       "114156 2023-03-20        2     Агентство           1  \n",
       "\n",
       "[114157 rows x 13 columns]"
      ]
     },
     "execution_count": 172,
     "metadata": {},
     "output_type": "execute_result"
    }
   ],
   "source": [
    "realty_table_1"
   ]
  },
  {
   "cell_type": "markdown",
   "id": "ab6cc521",
   "metadata": {},
   "source": [
    "# check and load dev realty"
   ]
  },
  {
   "cell_type": "code",
   "execution_count": 74,
   "id": "c7f452fb",
   "metadata": {},
   "outputs": [],
   "source": [
    "realty_table_check = a[['source_id', 'ad_id', 'city_id', 'type_id', 'addr', 'square', 'floor', 'house_floors', 'link', 'date', 'version', 'offer_from', 'status_new']]"
   ]
  },
  {
   "cell_type": "code",
   "execution_count": 75,
   "id": "18b36319",
   "metadata": {},
   "outputs": [
    {
     "data": {
      "text/html": [
       "<div>\n",
       "<style scoped>\n",
       "    .dataframe tbody tr th:only-of-type {\n",
       "        vertical-align: middle;\n",
       "    }\n",
       "\n",
       "    .dataframe tbody tr th {\n",
       "        vertical-align: top;\n",
       "    }\n",
       "\n",
       "    .dataframe thead th {\n",
       "        text-align: right;\n",
       "    }\n",
       "</style>\n",
       "<table border=\"1\" class=\"dataframe\">\n",
       "  <thead>\n",
       "    <tr style=\"text-align: right;\">\n",
       "      <th></th>\n",
       "      <th>Ссылка</th>\n",
       "      <th>Заголовок</th>\n",
       "      <th>Комнат</th>\n",
       "      <th>Площадь</th>\n",
       "      <th>Этаж</th>\n",
       "      <th>Цена</th>\n",
       "      <th>Цена за м2</th>\n",
       "      <th>Название жк</th>\n",
       "      <th>Район</th>\n",
       "      <th>Улица</th>\n",
       "      <th>...</th>\n",
       "      <th>square</th>\n",
       "      <th>floor</th>\n",
       "      <th>house_floors</th>\n",
       "      <th>link</th>\n",
       "      <th>date</th>\n",
       "      <th>status</th>\n",
       "      <th>version</th>\n",
       "      <th>offer_from</th>\n",
       "      <th>status_new</th>\n",
       "      <th>house_id</th>\n",
       "    </tr>\n",
       "  </thead>\n",
       "  <tbody>\n",
       "  </tbody>\n",
       "</table>\n",
       "<p>0 rows × 32 columns</p>\n",
       "</div>"
      ],
      "text/plain": [
       "Empty DataFrame\n",
       "Columns: [Ссылка, Заголовок, Комнат, Площадь, Этаж, Цена, Цена за м2, Название жк, Район, Улица, Дата публикации, Тип продавца, Продавец, Ссылка на продавца, Завершённых объявлений, city, source_id, ad_id, city_id, district_id, type_id, addr, square, floor, house_floors, link, date, status, version, offer_from, status_new, house_id]\n",
       "Index: []\n",
       "\n",
       "[0 rows x 32 columns]"
      ]
     },
     "execution_count": 75,
     "metadata": {},
     "output_type": "execute_result"
    }
   ],
   "source": [
    "a.iloc[realty_table_check[realty_table_check.isna().any(axis=1)].index, :]"
   ]
  },
  {
   "cell_type": "code",
   "execution_count": 347,
   "id": "76895ff7",
   "metadata": {
    "scrolled": false
   },
   "outputs": [
    {
     "name": "stdout",
     "output_type": "stream",
     "text": [
      "119493 0:01:45.546200\n"
     ]
    }
   ],
   "source": [
    "st_time = datetime.now()\n",
    "realty_table.to_sql(name='realty', con=sql_engine, if_exists='append', chunksize=7000, method='multi', index=False)\n",
    "print(len(realty_table), datetime.now() - st_time)"
   ]
  },
  {
   "cell_type": "markdown",
   "id": "c4937004",
   "metadata": {},
   "source": [
    "# dev prices"
   ]
  },
  {
   "cell_type": "code",
   "execution_count": 199,
   "id": "bc7947c8",
   "metadata": {
    "ExecuteTime": {
     "end_time": "2023-03-22T05:31:06.715499Z",
     "start_time": "2023-03-22T05:31:06.701490Z"
    }
   },
   "outputs": [
    {
     "data": {
      "text/html": [
       "<div>\n",
       "<style scoped>\n",
       "    .dataframe tbody tr th:only-of-type {\n",
       "        vertical-align: middle;\n",
       "    }\n",
       "\n",
       "    .dataframe tbody tr th {\n",
       "        vertical-align: top;\n",
       "    }\n",
       "\n",
       "    .dataframe thead th {\n",
       "        text-align: right;\n",
       "    }\n",
       "</style>\n",
       "<table border=\"1\" class=\"dataframe\">\n",
       "  <thead>\n",
       "    <tr style=\"text-align: right;\">\n",
       "      <th></th>\n",
       "      <th>source_id</th>\n",
       "      <th>ad_id</th>\n",
       "      <th>city_id</th>\n",
       "      <th>district_id</th>\n",
       "      <th>type_id</th>\n",
       "      <th>addr</th>\n",
       "      <th>square</th>\n",
       "      <th>floor</th>\n",
       "      <th>house_floors</th>\n",
       "      <th>link</th>\n",
       "      <th>date</th>\n",
       "      <th>status</th>\n",
       "      <th>version</th>\n",
       "      <th>offer_from</th>\n",
       "      <th>status_new</th>\n",
       "      <th>Цена</th>\n",
       "      <th>Цена за м2</th>\n",
       "    </tr>\n",
       "  </thead>\n",
       "  <tbody>\n",
       "    <tr>\n",
       "      <th>0</th>\n",
       "      <td>3</td>\n",
       "      <td>2814505758</td>\n",
       "      <td>17</td>\n",
       "      <td>None</td>\n",
       "      <td>3</td>\n",
       "      <td>Томск; р-н Кировский; ул. Карпова; 23</td>\n",
       "      <td>17.4</td>\n",
       "      <td>5</td>\n",
       "      <td>5</td>\n",
       "      <td>https://www.avito.ru/tomsk/kvartiry/1-k._kvart...</td>\n",
       "      <td>2023-03-20</td>\n",
       "      <td>None</td>\n",
       "      <td>1</td>\n",
       "      <td>Частное лицо</td>\n",
       "      <td>1</td>\n",
       "      <td>2200000.0</td>\n",
       "      <td>126437</td>\n",
       "    </tr>\n",
       "    <tr>\n",
       "      <th>1</th>\n",
       "      <td>3</td>\n",
       "      <td>2856523926</td>\n",
       "      <td>17</td>\n",
       "      <td>None</td>\n",
       "      <td>4</td>\n",
       "      <td>Томск; р-н Октябрьский; ул. Дизайнеров; 3</td>\n",
       "      <td>53.5</td>\n",
       "      <td>4</td>\n",
       "      <td>10</td>\n",
       "      <td>https://www.avito.ru/tomsk/kvartiry/2-k._kvart...</td>\n",
       "      <td>2023-03-20</td>\n",
       "      <td>None</td>\n",
       "      <td>1</td>\n",
       "      <td>Частное лицо</td>\n",
       "      <td>1</td>\n",
       "      <td>6700000.0</td>\n",
       "      <td>125234</td>\n",
       "    </tr>\n",
       "    <tr>\n",
       "      <th>2</th>\n",
       "      <td>3</td>\n",
       "      <td>3010508456</td>\n",
       "      <td>17</td>\n",
       "      <td>None</td>\n",
       "      <td>4</td>\n",
       "      <td>Томск; р-н Октябрьский; микрорайон Солнечный; ...</td>\n",
       "      <td>63.0</td>\n",
       "      <td>17</td>\n",
       "      <td>18</td>\n",
       "      <td>https://www.avito.ru/tomsk/kvartiry/2-k._kvart...</td>\n",
       "      <td>2023-03-20</td>\n",
       "      <td>None</td>\n",
       "      <td>1</td>\n",
       "      <td>Агентство</td>\n",
       "      <td>1</td>\n",
       "      <td>6100000.0</td>\n",
       "      <td>96825</td>\n",
       "    </tr>\n",
       "    <tr>\n",
       "      <th>3</th>\n",
       "      <td>3</td>\n",
       "      <td>2884326186</td>\n",
       "      <td>17</td>\n",
       "      <td>None</td>\n",
       "      <td>5</td>\n",
       "      <td>Томск; р-н Советский; Сибирская ул.; 102/1</td>\n",
       "      <td>68.0</td>\n",
       "      <td>1</td>\n",
       "      <td>9</td>\n",
       "      <td>https://www.avito.ru/tomsk/kvartiry/3-k._kvart...</td>\n",
       "      <td>2023-03-20</td>\n",
       "      <td>None</td>\n",
       "      <td>1</td>\n",
       "      <td>Агентство</td>\n",
       "      <td>1</td>\n",
       "      <td>5100000.0</td>\n",
       "      <td>75000</td>\n",
       "    </tr>\n",
       "    <tr>\n",
       "      <th>4</th>\n",
       "      <td>3</td>\n",
       "      <td>2931555827</td>\n",
       "      <td>17</td>\n",
       "      <td>None</td>\n",
       "      <td>2</td>\n",
       "      <td>Томск; пос. Зональная Станция; микрорайон Южны...</td>\n",
       "      <td>20.7</td>\n",
       "      <td>9</td>\n",
       "      <td>10</td>\n",
       "      <td>https://www.avito.ru/tomsk/kvartiry/kvartira-s...</td>\n",
       "      <td>2023-03-20</td>\n",
       "      <td>None</td>\n",
       "      <td>1</td>\n",
       "      <td>Частное лицо</td>\n",
       "      <td>1</td>\n",
       "      <td>2650000.0</td>\n",
       "      <td>128019</td>\n",
       "    </tr>\n",
       "    <tr>\n",
       "      <th>...</th>\n",
       "      <td>...</td>\n",
       "      <td>...</td>\n",
       "      <td>...</td>\n",
       "      <td>...</td>\n",
       "      <td>...</td>\n",
       "      <td>...</td>\n",
       "      <td>...</td>\n",
       "      <td>...</td>\n",
       "      <td>...</td>\n",
       "      <td>...</td>\n",
       "      <td>...</td>\n",
       "      <td>...</td>\n",
       "      <td>...</td>\n",
       "      <td>...</td>\n",
       "      <td>...</td>\n",
       "      <td>...</td>\n",
       "      <td>...</td>\n",
       "    </tr>\n",
       "    <tr>\n",
       "      <th>114152</th>\n",
       "      <td>3</td>\n",
       "      <td>2326231151</td>\n",
       "      <td>2</td>\n",
       "      <td>None</td>\n",
       "      <td>4</td>\n",
       "      <td>Краснодар; р-н Прикубанский; б-р им. Адмирала ...</td>\n",
       "      <td>53.3</td>\n",
       "      <td>15</td>\n",
       "      <td>24</td>\n",
       "      <td>https://www.avito.ru/krasnodar/kvartiry/2-k._k...</td>\n",
       "      <td>2023-03-20</td>\n",
       "      <td>None</td>\n",
       "      <td>1</td>\n",
       "      <td>Застройщик</td>\n",
       "      <td>1</td>\n",
       "      <td>5882357.0</td>\n",
       "      <td>110363</td>\n",
       "    </tr>\n",
       "    <tr>\n",
       "      <th>114153</th>\n",
       "      <td>3</td>\n",
       "      <td>2358537090</td>\n",
       "      <td>2</td>\n",
       "      <td>None</td>\n",
       "      <td>4</td>\n",
       "      <td>Краснодар; р-н Прикубанский; б-р им. Адмирала ...</td>\n",
       "      <td>53.3</td>\n",
       "      <td>20</td>\n",
       "      <td>24</td>\n",
       "      <td>https://www.avito.ru/krasnodar/kvartiry/2-k._k...</td>\n",
       "      <td>2023-03-20</td>\n",
       "      <td>None</td>\n",
       "      <td>1</td>\n",
       "      <td>Застройщик</td>\n",
       "      <td>1</td>\n",
       "      <td>5882201.0</td>\n",
       "      <td>110360</td>\n",
       "    </tr>\n",
       "    <tr>\n",
       "      <th>114154</th>\n",
       "      <td>3</td>\n",
       "      <td>2326806083</td>\n",
       "      <td>2</td>\n",
       "      <td>None</td>\n",
       "      <td>4</td>\n",
       "      <td>Краснодар; р-н Прикубанский; ул. Адмирала Сере...</td>\n",
       "      <td>65.1</td>\n",
       "      <td>7</td>\n",
       "      <td>19</td>\n",
       "      <td>https://www.avito.ru/krasnodar/kvartiry/2-k._k...</td>\n",
       "      <td>2023-03-20</td>\n",
       "      <td>None</td>\n",
       "      <td>1</td>\n",
       "      <td>Застройщик</td>\n",
       "      <td>1</td>\n",
       "      <td>6184500.0</td>\n",
       "      <td>95000</td>\n",
       "    </tr>\n",
       "    <tr>\n",
       "      <th>114155</th>\n",
       "      <td>3</td>\n",
       "      <td>2816012211</td>\n",
       "      <td>2</td>\n",
       "      <td>None</td>\n",
       "      <td>4</td>\n",
       "      <td>Краснодар; р-н Прикубанский; ул. им. Кирилла Р...</td>\n",
       "      <td>64.2</td>\n",
       "      <td>15</td>\n",
       "      <td>16</td>\n",
       "      <td>https://www.avito.ru/krasnodar/kvartiry/2-k._k...</td>\n",
       "      <td>2023-03-20</td>\n",
       "      <td>None</td>\n",
       "      <td>1</td>\n",
       "      <td>Агентство</td>\n",
       "      <td>1</td>\n",
       "      <td>6169625.0</td>\n",
       "      <td>96100</td>\n",
       "    </tr>\n",
       "    <tr>\n",
       "      <th>114156</th>\n",
       "      <td>3</td>\n",
       "      <td>2815858552</td>\n",
       "      <td>2</td>\n",
       "      <td>None</td>\n",
       "      <td>4</td>\n",
       "      <td>Краснодар; р-н Прикубанский; ул. им. Кирилла Р...</td>\n",
       "      <td>64.2</td>\n",
       "      <td>13</td>\n",
       "      <td>16</td>\n",
       "      <td>https://www.avito.ru/krasnodar/kvartiry/2-k._k...</td>\n",
       "      <td>2023-03-20</td>\n",
       "      <td>None</td>\n",
       "      <td>1</td>\n",
       "      <td>Агентство</td>\n",
       "      <td>1</td>\n",
       "      <td>6169600.0</td>\n",
       "      <td>96100</td>\n",
       "    </tr>\n",
       "  </tbody>\n",
       "</table>\n",
       "<p>114157 rows × 17 columns</p>\n",
       "</div>"
      ],
      "text/plain": [
       "        source_id       ad_id  city_id district_id type_id  \\\n",
       "0               3  2814505758       17        None       3   \n",
       "1               3  2856523926       17        None       4   \n",
       "2               3  3010508456       17        None       4   \n",
       "3               3  2884326186       17        None       5   \n",
       "4               3  2931555827       17        None       2   \n",
       "...           ...         ...      ...         ...     ...   \n",
       "114152          3  2326231151        2        None       4   \n",
       "114153          3  2358537090        2        None       4   \n",
       "114154          3  2326806083        2        None       4   \n",
       "114155          3  2816012211        2        None       4   \n",
       "114156          3  2815858552        2        None       4   \n",
       "\n",
       "                                                     addr  square floor  \\\n",
       "0                   Томск; р-н Кировский; ул. Карпова; 23    17.4     5   \n",
       "1               Томск; р-н Октябрьский; ул. Дизайнеров; 3    53.5     4   \n",
       "2       Томск; р-н Октябрьский; микрорайон Солнечный; ...    63.0    17   \n",
       "3              Томск; р-н Советский; Сибирская ул.; 102/1    68.0     1   \n",
       "4       Томск; пос. Зональная Станция; микрорайон Южны...    20.7     9   \n",
       "...                                                   ...     ...   ...   \n",
       "114152  Краснодар; р-н Прикубанский; б-р им. Адмирала ...    53.3    15   \n",
       "114153  Краснодар; р-н Прикубанский; б-р им. Адмирала ...    53.3    20   \n",
       "114154  Краснодар; р-н Прикубанский; ул. Адмирала Сере...    65.1     7   \n",
       "114155  Краснодар; р-н Прикубанский; ул. им. Кирилла Р...    64.2    15   \n",
       "114156  Краснодар; р-н Прикубанский; ул. им. Кирилла Р...    64.2    13   \n",
       "\n",
       "       house_floors                                               link  \\\n",
       "0                 5  https://www.avito.ru/tomsk/kvartiry/1-k._kvart...   \n",
       "1                10  https://www.avito.ru/tomsk/kvartiry/2-k._kvart...   \n",
       "2                18  https://www.avito.ru/tomsk/kvartiry/2-k._kvart...   \n",
       "3                 9  https://www.avito.ru/tomsk/kvartiry/3-k._kvart...   \n",
       "4                10  https://www.avito.ru/tomsk/kvartiry/kvartira-s...   \n",
       "...             ...                                                ...   \n",
       "114152           24  https://www.avito.ru/krasnodar/kvartiry/2-k._k...   \n",
       "114153           24  https://www.avito.ru/krasnodar/kvartiry/2-k._k...   \n",
       "114154           19  https://www.avito.ru/krasnodar/kvartiry/2-k._k...   \n",
       "114155           16  https://www.avito.ru/krasnodar/kvartiry/2-k._k...   \n",
       "114156           16  https://www.avito.ru/krasnodar/kvartiry/2-k._k...   \n",
       "\n",
       "             date status  version    offer_from  status_new       Цена  \\\n",
       "0      2023-03-20   None        1  Частное лицо           1  2200000.0   \n",
       "1      2023-03-20   None        1  Частное лицо           1  6700000.0   \n",
       "2      2023-03-20   None        1     Агентство           1  6100000.0   \n",
       "3      2023-03-20   None        1     Агентство           1  5100000.0   \n",
       "4      2023-03-20   None        1  Частное лицо           1  2650000.0   \n",
       "...           ...    ...      ...           ...         ...        ...   \n",
       "114152 2023-03-20   None        1    Застройщик           1  5882357.0   \n",
       "114153 2023-03-20   None        1    Застройщик           1  5882201.0   \n",
       "114154 2023-03-20   None        1    Застройщик           1  6184500.0   \n",
       "114155 2023-03-20   None        1     Агентство           1  6169625.0   \n",
       "114156 2023-03-20   None        1     Агентство           1  6169600.0   \n",
       "\n",
       "        Цена за м2  \n",
       "0           126437  \n",
       "1           125234  \n",
       "2            96825  \n",
       "3            75000  \n",
       "4           128019  \n",
       "...            ...  \n",
       "114152      110363  \n",
       "114153      110360  \n",
       "114154       95000  \n",
       "114155       96100  \n",
       "114156       96100  \n",
       "\n",
       "[114157 rows x 17 columns]"
      ]
     },
     "execution_count": 199,
     "metadata": {},
     "output_type": "execute_result"
    }
   ],
   "source": [
    "test_1"
   ]
  },
  {
   "cell_type": "code",
   "execution_count": 190,
   "id": "fca32e8c",
   "metadata": {
    "ExecuteTime": {
     "end_time": "2023-03-22T04:54:05.097537Z",
     "start_time": "2023-03-22T04:54:05.094227Z"
    }
   },
   "outputs": [],
   "source": [
    "# realty_id"
   ]
  },
  {
   "cell_type": "code",
   "execution_count": 191,
   "id": "f450fed9",
   "metadata": {
    "ExecuteTime": {
     "end_time": "2023-03-22T04:54:05.998099Z",
     "start_time": "2023-03-22T04:54:05.993488Z"
    }
   },
   "outputs": [],
   "source": [
    "def get_realty_ids(engine, today_date, source_id):\n",
    "    id_query = f\"SELECT link,id FROM realty WHERE date = '{today_date}' AND source_id = {source_id}\"\n",
    "    try:\n",
    "        con_obj=engine.connect()\n",
    "        id_db = pd.read_sql(text(id_query), con=con_obj)\n",
    "        con_obj.close()\n",
    "        exc_code = None\n",
    "    except Exception as exc:\n",
    "        print(exc)\n",
    "        id_db = None\n",
    "        exc_code = exc.code\n",
    "    return id_db, exc_code"
   ]
  },
  {
   "cell_type": "code",
   "execution_count": 192,
   "id": "41eca822",
   "metadata": {
    "ExecuteTime": {
     "end_time": "2023-03-22T04:54:09.539789Z",
     "start_time": "2023-03-22T04:54:06.867158Z"
    }
   },
   "outputs": [],
   "source": [
    "current_source = a.source_id.unique()[0]\n",
    "current_date = datetime.now().date()\n",
    "id_df = get_realty_ids(sql_engine, current_date, current_source)[0]"
   ]
  },
  {
   "cell_type": "code",
   "execution_count": 193,
   "id": "dc6eb380",
   "metadata": {
    "ExecuteTime": {
     "end_time": "2023-03-22T04:54:09.547748Z",
     "start_time": "2023-03-22T04:54:09.542046Z"
    }
   },
   "outputs": [
    {
     "data": {
      "text/html": [
       "<div>\n",
       "<style scoped>\n",
       "    .dataframe tbody tr th:only-of-type {\n",
       "        vertical-align: middle;\n",
       "    }\n",
       "\n",
       "    .dataframe tbody tr th {\n",
       "        vertical-align: top;\n",
       "    }\n",
       "\n",
       "    .dataframe thead th {\n",
       "        text-align: right;\n",
       "    }\n",
       "</style>\n",
       "<table border=\"1\" class=\"dataframe\">\n",
       "  <thead>\n",
       "    <tr style=\"text-align: right;\">\n",
       "      <th></th>\n",
       "      <th>link</th>\n",
       "      <th>id</th>\n",
       "    </tr>\n",
       "  </thead>\n",
       "  <tbody>\n",
       "  </tbody>\n",
       "</table>\n",
       "</div>"
      ],
      "text/plain": [
       "Empty DataFrame\n",
       "Columns: [link, id]\n",
       "Index: []"
      ]
     },
     "execution_count": 193,
     "metadata": {},
     "output_type": "execute_result"
    }
   ],
   "source": [
    "id_df"
   ]
  },
  {
   "cell_type": "code",
   "execution_count": 194,
   "id": "d1bbfd85",
   "metadata": {
    "ExecuteTime": {
     "end_time": "2023-03-22T04:54:09.557491Z",
     "start_time": "2023-03-22T04:54:09.549271Z"
    }
   },
   "outputs": [],
   "source": [
    "avito_prices = pd.DataFrame()"
   ]
  },
  {
   "cell_type": "code",
   "execution_count": 195,
   "id": "d3ab5dcc",
   "metadata": {
    "ExecuteTime": {
     "end_time": "2023-03-22T04:54:10.292467Z",
     "start_time": "2023-03-22T04:54:10.274932Z"
    }
   },
   "outputs": [],
   "source": [
    "avito_prices['realty_id'] = a['Ссылка'].map(id_df.set_index('link')['id'])"
   ]
  },
  {
   "cell_type": "code",
   "execution_count": 196,
   "id": "3d8c43d7",
   "metadata": {
    "ExecuteTime": {
     "end_time": "2023-03-22T04:54:11.551067Z",
     "start_time": "2023-03-22T04:54:11.547992Z"
    }
   },
   "outputs": [],
   "source": [
    "# price"
   ]
  },
  {
   "cell_type": "code",
   "execution_count": 197,
   "id": "97dcef24",
   "metadata": {
    "ExecuteTime": {
     "end_time": "2023-03-22T04:54:12.208230Z",
     "start_time": "2023-03-22T04:54:12.204410Z"
    }
   },
   "outputs": [],
   "source": [
    "avito_prices['price'] = a['Цена']"
   ]
  },
  {
   "cell_type": "code",
   "execution_count": 198,
   "id": "6e423863",
   "metadata": {
    "ExecuteTime": {
     "end_time": "2023-03-22T04:54:18.463042Z",
     "start_time": "2023-03-22T04:54:18.454472Z"
    }
   },
   "outputs": [
    {
     "data": {
      "text/html": [
       "<div>\n",
       "<style scoped>\n",
       "    .dataframe tbody tr th:only-of-type {\n",
       "        vertical-align: middle;\n",
       "    }\n",
       "\n",
       "    .dataframe tbody tr th {\n",
       "        vertical-align: top;\n",
       "    }\n",
       "\n",
       "    .dataframe thead th {\n",
       "        text-align: right;\n",
       "    }\n",
       "</style>\n",
       "<table border=\"1\" class=\"dataframe\">\n",
       "  <thead>\n",
       "    <tr style=\"text-align: right;\">\n",
       "      <th></th>\n",
       "      <th>realty_id</th>\n",
       "      <th>price</th>\n",
       "    </tr>\n",
       "  </thead>\n",
       "  <tbody>\n",
       "    <tr>\n",
       "      <th>0</th>\n",
       "      <td>NaN</td>\n",
       "      <td>2200000.0</td>\n",
       "    </tr>\n",
       "    <tr>\n",
       "      <th>1</th>\n",
       "      <td>NaN</td>\n",
       "      <td>6700000.0</td>\n",
       "    </tr>\n",
       "    <tr>\n",
       "      <th>2</th>\n",
       "      <td>NaN</td>\n",
       "      <td>6100000.0</td>\n",
       "    </tr>\n",
       "    <tr>\n",
       "      <th>3</th>\n",
       "      <td>NaN</td>\n",
       "      <td>5100000.0</td>\n",
       "    </tr>\n",
       "    <tr>\n",
       "      <th>4</th>\n",
       "      <td>NaN</td>\n",
       "      <td>2650000.0</td>\n",
       "    </tr>\n",
       "    <tr>\n",
       "      <th>...</th>\n",
       "      <td>...</td>\n",
       "      <td>...</td>\n",
       "    </tr>\n",
       "    <tr>\n",
       "      <th>114152</th>\n",
       "      <td>NaN</td>\n",
       "      <td>5882357.0</td>\n",
       "    </tr>\n",
       "    <tr>\n",
       "      <th>114153</th>\n",
       "      <td>NaN</td>\n",
       "      <td>5882201.0</td>\n",
       "    </tr>\n",
       "    <tr>\n",
       "      <th>114154</th>\n",
       "      <td>NaN</td>\n",
       "      <td>6184500.0</td>\n",
       "    </tr>\n",
       "    <tr>\n",
       "      <th>114155</th>\n",
       "      <td>NaN</td>\n",
       "      <td>6169625.0</td>\n",
       "    </tr>\n",
       "    <tr>\n",
       "      <th>114156</th>\n",
       "      <td>NaN</td>\n",
       "      <td>6169600.0</td>\n",
       "    </tr>\n",
       "  </tbody>\n",
       "</table>\n",
       "<p>114157 rows × 2 columns</p>\n",
       "</div>"
      ],
      "text/plain": [
       "       realty_id      price\n",
       "0            NaN  2200000.0\n",
       "1            NaN  6700000.0\n",
       "2            NaN  6100000.0\n",
       "3            NaN  5100000.0\n",
       "4            NaN  2650000.0\n",
       "...          ...        ...\n",
       "114152       NaN  5882357.0\n",
       "114153       NaN  5882201.0\n",
       "114154       NaN  6184500.0\n",
       "114155       NaN  6169625.0\n",
       "114156       NaN  6169600.0\n",
       "\n",
       "[114157 rows x 2 columns]"
      ]
     },
     "execution_count": 198,
     "metadata": {},
     "output_type": "execute_result"
    }
   ],
   "source": [
    "avito_prices"
   ]
  },
  {
   "cell_type": "code",
   "execution_count": 106,
   "id": "4a9b56c6",
   "metadata": {},
   "outputs": [],
   "source": [
    "# price_sqrm"
   ]
  },
  {
   "cell_type": "code",
   "execution_count": 107,
   "id": "1835d576",
   "metadata": {},
   "outputs": [],
   "source": [
    "avito_prices['price_sqrm'] = a['Цена за м2'].astype(float)"
   ]
  },
  {
   "cell_type": "code",
   "execution_count": 111,
   "id": "1cf51fb9",
   "metadata": {},
   "outputs": [],
   "source": [
    "# date"
   ]
  },
  {
   "cell_type": "code",
   "execution_count": 112,
   "id": "6b21f844",
   "metadata": {},
   "outputs": [],
   "source": [
    "avito_prices['date'] = datetime.now().date()"
   ]
  },
  {
   "cell_type": "code",
   "execution_count": 87,
   "id": "0c66f9e9",
   "metadata": {},
   "outputs": [],
   "source": [
    "# estimate_min estimate_max estimate_med estimate_sqrm diviation skip fill in default values of sql table"
   ]
  },
  {
   "cell_type": "code",
   "execution_count": 110,
   "id": "bf192b8e",
   "metadata": {},
   "outputs": [],
   "source": [
    "# avito_prices[['estimate_min', 'estimate_max', 'estimate_med', 'estimate_sqrm', 'diviation']] = None"
   ]
  },
  {
   "cell_type": "code",
   "execution_count": 113,
   "id": "7ef112b6",
   "metadata": {},
   "outputs": [],
   "source": [
    "# status skip fill in default values of sql table"
   ]
  },
  {
   "cell_type": "code",
   "execution_count": 92,
   "id": "77608330",
   "metadata": {},
   "outputs": [],
   "source": [
    "# avito_prices['status'] = None"
   ]
  },
  {
   "cell_type": "code",
   "execution_count": 108,
   "id": "b60b843d",
   "metadata": {},
   "outputs": [],
   "source": [
    "# same_cnt same_urls is_actual leftt empty to fill in default values"
   ]
  },
  {
   "cell_type": "code",
   "execution_count": 114,
   "id": "1629c9ac",
   "metadata": {},
   "outputs": [],
   "source": [
    "# avito_prices[['same_cnt', 'same_urls', 'is_actual']] = None"
   ]
  },
  {
   "cell_type": "markdown",
   "id": "3597291f",
   "metadata": {},
   "source": [
    "# check and load dev prices"
   ]
  },
  {
   "cell_type": "code",
   "execution_count": 115,
   "id": "e9766e6d",
   "metadata": {},
   "outputs": [
    {
     "data": {
      "text/html": [
       "<div>\n",
       "<style scoped>\n",
       "    .dataframe tbody tr th:only-of-type {\n",
       "        vertical-align: middle;\n",
       "    }\n",
       "\n",
       "    .dataframe tbody tr th {\n",
       "        vertical-align: top;\n",
       "    }\n",
       "\n",
       "    .dataframe thead th {\n",
       "        text-align: right;\n",
       "    }\n",
       "</style>\n",
       "<table border=\"1\" class=\"dataframe\">\n",
       "  <thead>\n",
       "    <tr style=\"text-align: right;\">\n",
       "      <th></th>\n",
       "      <th>realty_id</th>\n",
       "      <th>price</th>\n",
       "      <th>price_sqrm</th>\n",
       "      <th>date</th>\n",
       "    </tr>\n",
       "  </thead>\n",
       "  <tbody>\n",
       "    <tr>\n",
       "      <th>0</th>\n",
       "      <td>NaN</td>\n",
       "      <td>4800000</td>\n",
       "      <td>81633.0</td>\n",
       "      <td>2023-03-21</td>\n",
       "    </tr>\n",
       "    <tr>\n",
       "      <th>1</th>\n",
       "      <td>NaN</td>\n",
       "      <td>4650000</td>\n",
       "      <td>106651.0</td>\n",
       "      <td>2023-03-21</td>\n",
       "    </tr>\n",
       "    <tr>\n",
       "      <th>2</th>\n",
       "      <td>NaN</td>\n",
       "      <td>7700000</td>\n",
       "      <td>85842.0</td>\n",
       "      <td>2023-03-21</td>\n",
       "    </tr>\n",
       "    <tr>\n",
       "      <th>3</th>\n",
       "      <td>NaN</td>\n",
       "      <td>4600000</td>\n",
       "      <td>121053.0</td>\n",
       "      <td>2023-03-21</td>\n",
       "    </tr>\n",
       "    <tr>\n",
       "      <th>4</th>\n",
       "      <td>NaN</td>\n",
       "      <td>3690000</td>\n",
       "      <td>95596.0</td>\n",
       "      <td>2023-03-21</td>\n",
       "    </tr>\n",
       "    <tr>\n",
       "      <th>...</th>\n",
       "      <td>...</td>\n",
       "      <td>...</td>\n",
       "      <td>...</td>\n",
       "      <td>...</td>\n",
       "    </tr>\n",
       "    <tr>\n",
       "      <th>119488</th>\n",
       "      <td>NaN</td>\n",
       "      <td>7200000</td>\n",
       "      <td>101408.0</td>\n",
       "      <td>2023-03-21</td>\n",
       "    </tr>\n",
       "    <tr>\n",
       "      <th>119489</th>\n",
       "      <td>NaN</td>\n",
       "      <td>6400000</td>\n",
       "      <td>101587.0</td>\n",
       "      <td>2023-03-21</td>\n",
       "    </tr>\n",
       "    <tr>\n",
       "      <th>119490</th>\n",
       "      <td>NaN</td>\n",
       "      <td>19350500</td>\n",
       "      <td>236270.0</td>\n",
       "      <td>2023-03-21</td>\n",
       "    </tr>\n",
       "    <tr>\n",
       "      <th>119491</th>\n",
       "      <td>NaN</td>\n",
       "      <td>6097000</td>\n",
       "      <td>130000.0</td>\n",
       "      <td>2023-03-21</td>\n",
       "    </tr>\n",
       "    <tr>\n",
       "      <th>119492</th>\n",
       "      <td>NaN</td>\n",
       "      <td>7846000</td>\n",
       "      <td>130985.0</td>\n",
       "      <td>2023-03-21</td>\n",
       "    </tr>\n",
       "  </tbody>\n",
       "</table>\n",
       "<p>119493 rows × 4 columns</p>\n",
       "</div>"
      ],
      "text/plain": [
       "       realty_id     price  price_sqrm        date\n",
       "0            NaN   4800000     81633.0  2023-03-21\n",
       "1            NaN   4650000    106651.0  2023-03-21\n",
       "2            NaN   7700000     85842.0  2023-03-21\n",
       "3            NaN   4600000    121053.0  2023-03-21\n",
       "4            NaN   3690000     95596.0  2023-03-21\n",
       "...          ...       ...         ...         ...\n",
       "119488       NaN   7200000    101408.0  2023-03-21\n",
       "119489       NaN   6400000    101587.0  2023-03-21\n",
       "119490       NaN  19350500    236270.0  2023-03-21\n",
       "119491       NaN   6097000    130000.0  2023-03-21\n",
       "119492       NaN   7846000    130985.0  2023-03-21\n",
       "\n",
       "[119493 rows x 4 columns]"
      ]
     },
     "execution_count": 115,
     "metadata": {},
     "output_type": "execute_result"
    }
   ],
   "source": [
    "avito_prices"
   ]
  },
  {
   "cell_type": "code",
   "execution_count": 508,
   "id": "6af3f3ce",
   "metadata": {},
   "outputs": [
    {
     "name": "stdout",
     "output_type": "stream",
     "text": [
      "119493 0:00:24.363198\n"
     ]
    }
   ],
   "source": [
    "st_time = datetime.now()\n",
    "avito_prices.to_sql(name='prices', con=sql_engine, if_exists='append', chunksize=7000, method='multi', index=False)\n",
    "print(len(avito_prices), datetime.now() - st_time)"
   ]
  },
  {
   "cell_type": "markdown",
   "id": "51fac3d1",
   "metadata": {},
   "source": []
  },
  {
   "cell_type": "markdown",
   "id": "52cce3d4",
   "metadata": {},
   "source": [
    "# cian load"
   ]
  },
  {
   "cell_type": "code",
   "execution_count": 7,
   "id": "47481bb3",
   "metadata": {
    "ExecuteTime": {
     "end_time": "2023-03-24T04:39:52.241381Z",
     "start_time": "2023-03-24T04:39:51.518745Z"
    }
   },
   "outputs": [],
   "source": [
    "cian_all = pd.read_csv('21-03-23.csv', delimiter=',', encoding='cp1251')"
   ]
  },
  {
   "cell_type": "code",
   "execution_count": 8,
   "id": "a18260f0",
   "metadata": {
    "ExecuteTime": {
     "end_time": "2023-03-24T04:39:52.295120Z",
     "start_time": "2023-03-24T04:39:52.243939Z"
    }
   },
   "outputs": [],
   "source": [
    "cian_all.drop_duplicates(subset=['link'], keep='last', inplace=True)"
   ]
  },
  {
   "cell_type": "markdown",
   "id": "ed786093",
   "metadata": {},
   "source": [
    "# dev realty cian"
   ]
  },
  {
   "cell_type": "code",
   "execution_count": 9,
   "id": "e9904678",
   "metadata": {
    "ExecuteTime": {
     "end_time": "2023-03-24T04:39:53.012003Z",
     "start_time": "2023-03-24T04:39:53.008020Z"
    }
   },
   "outputs": [],
   "source": [
    "cian_realty = pd.DataFrame()"
   ]
  },
  {
   "cell_type": "code",
   "execution_count": 10,
   "id": "ea27dc25",
   "metadata": {
    "ExecuteTime": {
     "end_time": "2023-03-24T04:39:53.245568Z",
     "start_time": "2023-03-24T04:39:53.242741Z"
    }
   },
   "outputs": [],
   "source": [
    "# source_id"
   ]
  },
  {
   "cell_type": "code",
   "execution_count": 13,
   "id": "a7147f16",
   "metadata": {
    "ExecuteTime": {
     "end_time": "2023-03-24T04:39:53.457125Z",
     "start_time": "2023-03-24T04:39:53.451812Z"
    }
   },
   "outputs": [],
   "source": [
    "source_df_dict = source_df.set_index('id').to_dict()['name']"
   ]
  },
  {
   "cell_type": "code",
   "execution_count": 14,
   "id": "8dbacc81",
   "metadata": {
    "ExecuteTime": {
     "end_time": "2023-03-24T04:39:53.655248Z",
     "start_time": "2023-03-24T04:39:53.649636Z"
    }
   },
   "outputs": [],
   "source": [
    "def source_id_from_link_cian(link_value, source_dict):\n",
    "    try:\n",
    "        return list(source_dict.keys())[list(source_dict.values()).index(link_value)]\n",
    "    except:\n",
    "        return None"
   ]
  },
  {
   "cell_type": "code",
   "execution_count": 15,
   "id": "0226d068",
   "metadata": {
    "ExecuteTime": {
     "end_time": "2023-03-24T04:39:54.111293Z",
     "start_time": "2023-03-24T04:39:54.026379Z"
    }
   },
   "outputs": [],
   "source": [
    "cian_realty['source_id'] = cian_all['source'].apply(lambda x: source_id_from_link_cian(x, source_df_dict))"
   ]
  },
  {
   "cell_type": "code",
   "execution_count": 16,
   "id": "2a6d4ec8",
   "metadata": {
    "ExecuteTime": {
     "end_time": "2023-03-24T04:39:54.242770Z",
     "start_time": "2023-03-24T04:39:54.239663Z"
    }
   },
   "outputs": [],
   "source": [
    "# ad_id"
   ]
  },
  {
   "cell_type": "code",
   "execution_count": 17,
   "id": "d2060cc7",
   "metadata": {
    "ExecuteTime": {
     "end_time": "2023-03-24T04:39:54.459504Z",
     "start_time": "2023-03-24T04:39:54.455341Z"
    }
   },
   "outputs": [],
   "source": [
    "cian_realty['ad_id'] = cian_all['ad_id']"
   ]
  },
  {
   "cell_type": "code",
   "execution_count": 18,
   "id": "ecb28929",
   "metadata": {
    "ExecuteTime": {
     "end_time": "2023-03-24T04:39:54.707307Z",
     "start_time": "2023-03-24T04:39:54.704463Z"
    }
   },
   "outputs": [],
   "source": [
    "# city_id"
   ]
  },
  {
   "cell_type": "code",
   "execution_count": 19,
   "id": "bcf52f03",
   "metadata": {
    "ExecuteTime": {
     "end_time": "2023-03-24T04:39:54.937691Z",
     "start_time": "2023-03-24T04:39:54.933273Z"
    }
   },
   "outputs": [],
   "source": [
    "city_df_dict = city_df.set_index('id').to_dict()['name']"
   ]
  },
  {
   "cell_type": "code",
   "execution_count": 20,
   "id": "87414232",
   "metadata": {
    "ExecuteTime": {
     "end_time": "2023-03-24T04:39:55.163812Z",
     "start_time": "2023-03-24T04:39:55.158367Z"
    }
   },
   "outputs": [],
   "source": [
    "def city_id_from_link(city_value, city_dict):\n",
    "    try:\n",
    "        return int(list(city_dict.keys())[list(city_dict.values()).index(city_value)])\n",
    "    except Exception as e:\n",
    "        return None"
   ]
  },
  {
   "cell_type": "code",
   "execution_count": 21,
   "id": "34545584",
   "metadata": {
    "ExecuteTime": {
     "end_time": "2023-03-24T04:39:55.589254Z",
     "start_time": "2023-03-24T04:39:55.436312Z"
    }
   },
   "outputs": [],
   "source": [
    "cian_realty['city_id'] = cian_all['city'].apply(lambda x: city_id_from_link(x, city_df_dict))\n",
    "# удалить записи где city_id пустой (записи городов, которые не присутствуют в списке городов для парсинга)\n",
    "ind_to_drop = cian_realty[(cian_realty['city_id'].isna())].index.tolist()\n",
    "cian_realty.drop(ind_to_drop, inplace=True)\n",
    "cian_all.drop(ind_to_drop, inplace=True)\n",
    "cian_realty.city_id = cian_realty.city_id.astype(int)"
   ]
  },
  {
   "cell_type": "code",
   "execution_count": 22,
   "id": "4f52e925",
   "metadata": {
    "ExecuteTime": {
     "end_time": "2023-03-24T04:39:57.142554Z",
     "start_time": "2023-03-24T04:39:57.139508Z"
    }
   },
   "outputs": [],
   "source": [
    "# district_id пока None"
   ]
  },
  {
   "cell_type": "code",
   "execution_count": 23,
   "id": "827e1858",
   "metadata": {
    "ExecuteTime": {
     "end_time": "2023-03-24T04:39:57.619565Z",
     "start_time": "2023-03-24T04:39:57.614353Z"
    }
   },
   "outputs": [],
   "source": [
    "cian_realty['district_id'] = None"
   ]
  },
  {
   "cell_type": "code",
   "execution_count": 24,
   "id": "57bff649",
   "metadata": {
    "ExecuteTime": {
     "end_time": "2023-03-24T04:39:58.323731Z",
     "start_time": "2023-03-24T04:39:58.320630Z"
    }
   },
   "outputs": [],
   "source": [
    "# type_id"
   ]
  },
  {
   "cell_type": "code",
   "execution_count": 25,
   "id": "5883e84f",
   "metadata": {
    "ExecuteTime": {
     "end_time": "2023-03-24T04:39:58.731157Z",
     "start_time": "2023-03-24T04:39:58.725630Z"
    }
   },
   "outputs": [],
   "source": [
    "dict_realty_type = {\n",
    "    '1': ['Комната'],\n",
    "    '2': ['Квартира-студия', 'Апартаменты-студия', 'Гостинка', 'Студия'],\n",
    "    '3': ['1-к. квартира', '1-к. апартаменты', 'Своб. планировка', '1-комнатная', '1 комн', 'Свободная планировка'],\n",
    "    '4': ['2-к. квартира', '2-к. апартаменты', '2-комнатная', '2 комн'],\n",
    "    '5': ['3-к. квартира', '3-к. апартаменты', '3-комнатная', '3 комн'],\n",
    "    '6': ['4-к. квартира', '4-к. апартаменты', '4-комнатная', '4 комн'],\n",
    "    '7': ['5-к. квартира', '5-к. апартаменты', '5-комнатная', '5 комн'],\n",
    "    '8': [\"6 комнат и более\", '6 комн'],\n",
    "}\n",
    "# 9 аукцион, доля"
   ]
  },
  {
   "cell_type": "code",
   "execution_count": 26,
   "id": "fc32ae39",
   "metadata": {
    "ExecuteTime": {
     "end_time": "2023-03-24T04:40:00.030348Z",
     "start_time": "2023-03-24T04:40:00.024570Z"
    }
   },
   "outputs": [],
   "source": [
    "def type_id_from_room(room_value, type_dict):\n",
    "    tid = None\n",
    "    try:\n",
    "        for ind, values in type_dict.items():\n",
    "            if room_value in values:\n",
    "                tid = ind\n",
    "                return tid\n",
    "        if any(elem in room_value for elem in ['Доля', 'Аукцион']):\n",
    "            # tid = 9 # аукцион\n",
    "            return None\n",
    "        elif all(elem in room_value for elem in ['Комната ', ' в ', '-к']):\n",
    "            tid = 1 # комната в квартире\n",
    "            return tid\n",
    "        elif any(elem in room_value for elem in ['6-к.', '7-к.', '8-к.', '9-к.', '10 и более-к.', '10 комнат и больше']):\n",
    "            tid = 8 # 6 комнат и более\n",
    "            return tid\n",
    "        else:\n",
    "            return None # none\n",
    "    except:\n",
    "        return None"
   ]
  },
  {
   "cell_type": "code",
   "execution_count": 27,
   "id": "91753998",
   "metadata": {
    "ExecuteTime": {
     "end_time": "2023-03-24T04:40:01.021145Z",
     "start_time": "2023-03-24T04:40:00.920621Z"
    }
   },
   "outputs": [],
   "source": [
    "cian_realty['type_id'] = cian_all['type'].apply(lambda x: type_id_from_room(x, dict_realty_type))\n",
    "# удалить записи аукционов и других объяв где не опредлен type_id\n",
    "ind_to_drop = cian_realty[(cian_realty['type_id'].isna())].index.tolist()\n",
    "cian_realty.drop(ind_to_drop, inplace=True)\n",
    "cian_all.drop(ind_to_drop, inplace=True)\n",
    "cian_realty.city_id = cian_realty.city_id.astype(int)"
   ]
  },
  {
   "cell_type": "code",
   "execution_count": 28,
   "id": "0aed1624",
   "metadata": {
    "ExecuteTime": {
     "end_time": "2023-03-24T04:40:04.750939Z",
     "start_time": "2023-03-24T04:40:04.747555Z"
    }
   },
   "outputs": [],
   "source": [
    "# addr"
   ]
  },
  {
   "cell_type": "code",
   "execution_count": 29,
   "id": "6ae752c4",
   "metadata": {
    "ExecuteTime": {
     "end_time": "2023-03-24T04:40:04.988280Z",
     "start_time": "2023-03-24T04:40:04.976019Z"
    }
   },
   "outputs": [],
   "source": [
    "cian_realty['addr'] = cian_all['addr']"
   ]
  },
  {
   "cell_type": "code",
   "execution_count": 30,
   "id": "17290dcd",
   "metadata": {
    "ExecuteTime": {
     "end_time": "2023-03-24T04:40:05.892696Z",
     "start_time": "2023-03-24T04:40:05.883028Z"
    }
   },
   "outputs": [
    {
     "data": {
      "text/html": [
       "<div>\n",
       "<style scoped>\n",
       "    .dataframe tbody tr th:only-of-type {\n",
       "        vertical-align: middle;\n",
       "    }\n",
       "\n",
       "    .dataframe tbody tr th {\n",
       "        vertical-align: top;\n",
       "    }\n",
       "\n",
       "    .dataframe thead th {\n",
       "        text-align: right;\n",
       "    }\n",
       "</style>\n",
       "<table border=\"1\" class=\"dataframe\">\n",
       "  <thead>\n",
       "    <tr style=\"text-align: right;\">\n",
       "      <th></th>\n",
       "      <th>source_id</th>\n",
       "      <th>ad_id</th>\n",
       "      <th>city_id</th>\n",
       "      <th>district_id</th>\n",
       "      <th>type_id</th>\n",
       "      <th>addr</th>\n",
       "    </tr>\n",
       "  </thead>\n",
       "  <tbody>\n",
       "    <tr>\n",
       "      <th>0</th>\n",
       "      <td>2</td>\n",
       "      <td>210197059</td>\n",
       "      <td>5</td>\n",
       "      <td>None</td>\n",
       "      <td>5</td>\n",
       "      <td>Краснодарский край; Анапа; улица Горького; 2А</td>\n",
       "    </tr>\n",
       "    <tr>\n",
       "      <th>1</th>\n",
       "      <td>2</td>\n",
       "      <td>213575526</td>\n",
       "      <td>5</td>\n",
       "      <td>None</td>\n",
       "      <td>5</td>\n",
       "      <td>Краснодарский край; Анапа; улица Краснозеленых...</td>\n",
       "    </tr>\n",
       "    <tr>\n",
       "      <th>2</th>\n",
       "      <td>2</td>\n",
       "      <td>232012292</td>\n",
       "      <td>5</td>\n",
       "      <td>None</td>\n",
       "      <td>2</td>\n",
       "      <td>Краснодарский край; Анапа; улица Ленина; 194</td>\n",
       "    </tr>\n",
       "    <tr>\n",
       "      <th>3</th>\n",
       "      <td>2</td>\n",
       "      <td>233965925</td>\n",
       "      <td>5</td>\n",
       "      <td>None</td>\n",
       "      <td>3</td>\n",
       "      <td>Краснодарский край; Анапа; улица Толстого; 81</td>\n",
       "    </tr>\n",
       "    <tr>\n",
       "      <th>4</th>\n",
       "      <td>2</td>\n",
       "      <td>239179225</td>\n",
       "      <td>5</td>\n",
       "      <td>None</td>\n",
       "      <td>7</td>\n",
       "      <td>Краснодарский край; Анапа; Владимирская улица;...</td>\n",
       "    </tr>\n",
       "    <tr>\n",
       "      <th>...</th>\n",
       "      <td>...</td>\n",
       "      <td>...</td>\n",
       "      <td>...</td>\n",
       "      <td>...</td>\n",
       "      <td>...</td>\n",
       "      <td>...</td>\n",
       "    </tr>\n",
       "    <tr>\n",
       "      <th>101775</th>\n",
       "      <td>2</td>\n",
       "      <td>285075402</td>\n",
       "      <td>17</td>\n",
       "      <td>None</td>\n",
       "      <td>3</td>\n",
       "      <td>Томская область; Томск; р-н Советский; проспек...</td>\n",
       "    </tr>\n",
       "    <tr>\n",
       "      <th>101776</th>\n",
       "      <td>2</td>\n",
       "      <td>285075572</td>\n",
       "      <td>17</td>\n",
       "      <td>None</td>\n",
       "      <td>3</td>\n",
       "      <td>Томская область; Томск; р-н Советский; улица Ш...</td>\n",
       "    </tr>\n",
       "    <tr>\n",
       "      <th>101777</th>\n",
       "      <td>2</td>\n",
       "      <td>285076163</td>\n",
       "      <td>17</td>\n",
       "      <td>None</td>\n",
       "      <td>4</td>\n",
       "      <td>Томская область; Томск; р-н Ленинский; улица Р...</td>\n",
       "    </tr>\n",
       "    <tr>\n",
       "      <th>101778</th>\n",
       "      <td>2</td>\n",
       "      <td>285076291</td>\n",
       "      <td>17</td>\n",
       "      <td>None</td>\n",
       "      <td>3</td>\n",
       "      <td>Томская область; Томск; р-н Ленинский; Черемош...</td>\n",
       "    </tr>\n",
       "    <tr>\n",
       "      <th>101779</th>\n",
       "      <td>2</td>\n",
       "      <td>285076712</td>\n",
       "      <td>17</td>\n",
       "      <td>None</td>\n",
       "      <td>4</td>\n",
       "      <td>Томская область; Томск; р-н Советский; улица К...</td>\n",
       "    </tr>\n",
       "  </tbody>\n",
       "</table>\n",
       "<p>90223 rows × 6 columns</p>\n",
       "</div>"
      ],
      "text/plain": [
       "        source_id      ad_id  city_id district_id type_id  \\\n",
       "0               2  210197059        5        None       5   \n",
       "1               2  213575526        5        None       5   \n",
       "2               2  232012292        5        None       2   \n",
       "3               2  233965925        5        None       3   \n",
       "4               2  239179225        5        None       7   \n",
       "...           ...        ...      ...         ...     ...   \n",
       "101775          2  285075402       17        None       3   \n",
       "101776          2  285075572       17        None       3   \n",
       "101777          2  285076163       17        None       4   \n",
       "101778          2  285076291       17        None       3   \n",
       "101779          2  285076712       17        None       4   \n",
       "\n",
       "                                                     addr  \n",
       "0           Краснодарский край; Анапа; улица Горького; 2А  \n",
       "1       Краснодарский край; Анапа; улица Краснозеленых...  \n",
       "2            Краснодарский край; Анапа; улица Ленина; 194  \n",
       "3           Краснодарский край; Анапа; улица Толстого; 81  \n",
       "4       Краснодарский край; Анапа; Владимирская улица;...  \n",
       "...                                                   ...  \n",
       "101775  Томская область; Томск; р-н Советский; проспек...  \n",
       "101776  Томская область; Томск; р-н Советский; улица Ш...  \n",
       "101777  Томская область; Томск; р-н Ленинский; улица Р...  \n",
       "101778  Томская область; Томск; р-н Ленинский; Черемош...  \n",
       "101779  Томская область; Томск; р-н Советский; улица К...  \n",
       "\n",
       "[90223 rows x 6 columns]"
      ]
     },
     "execution_count": 30,
     "metadata": {},
     "output_type": "execute_result"
    }
   ],
   "source": [
    "cian_realty"
   ]
  },
  {
   "cell_type": "code",
   "execution_count": 31,
   "id": "309d3ee3",
   "metadata": {
    "ExecuteTime": {
     "end_time": "2023-03-24T04:40:11.024850Z",
     "start_time": "2023-03-24T04:40:11.018894Z"
    }
   },
   "outputs": [],
   "source": [
    "# square"
   ]
  },
  {
   "cell_type": "code",
   "execution_count": 32,
   "id": "03ebd1c7",
   "metadata": {
    "ExecuteTime": {
     "end_time": "2023-03-24T04:40:11.675073Z",
     "start_time": "2023-03-24T04:40:11.667622Z"
    }
   },
   "outputs": [],
   "source": [
    "cian_realty['square'] = cian_all['square']"
   ]
  },
  {
   "cell_type": "code",
   "execution_count": 33,
   "id": "08747a6a",
   "metadata": {
    "ExecuteTime": {
     "end_time": "2023-03-24T04:40:12.083398Z",
     "start_time": "2023-03-24T04:40:12.075821Z"
    }
   },
   "outputs": [],
   "source": [
    "# floor and house_floors"
   ]
  },
  {
   "cell_type": "code",
   "execution_count": 34,
   "id": "f02e965e",
   "metadata": {
    "ExecuteTime": {
     "end_time": "2023-03-24T04:40:12.501916Z",
     "start_time": "2023-03-24T04:40:12.494243Z"
    }
   },
   "outputs": [],
   "source": [
    "cian_realty['floor'],  cian_realty['house_floors'] = cian_all['floor'], cian_all['house_floors']"
   ]
  },
  {
   "cell_type": "code",
   "execution_count": 35,
   "id": "e9bcbf99",
   "metadata": {
    "ExecuteTime": {
     "end_time": "2023-03-24T04:40:13.327320Z",
     "start_time": "2023-03-24T04:40:13.323679Z"
    }
   },
   "outputs": [],
   "source": [
    "# link"
   ]
  },
  {
   "cell_type": "code",
   "execution_count": 36,
   "id": "908aabf0",
   "metadata": {
    "ExecuteTime": {
     "end_time": "2023-03-24T04:40:13.570891Z",
     "start_time": "2023-03-24T04:40:13.564031Z"
    }
   },
   "outputs": [],
   "source": [
    "cian_realty['link'] = cian_all['link']"
   ]
  },
  {
   "cell_type": "code",
   "execution_count": 37,
   "id": "e2ae44ba",
   "metadata": {
    "ExecuteTime": {
     "end_time": "2023-03-24T04:40:13.787899Z",
     "start_time": "2023-03-24T04:40:13.784108Z"
    }
   },
   "outputs": [],
   "source": [
    "# date"
   ]
  },
  {
   "cell_type": "code",
   "execution_count": 38,
   "id": "19cb169b",
   "metadata": {
    "ExecuteTime": {
     "end_time": "2023-03-24T04:40:14.018540Z",
     "start_time": "2023-03-24T04:40:14.013887Z"
    }
   },
   "outputs": [],
   "source": [
    "cian_realty['date'] = datetime.now().date() # make date from filename format 21-03-2023"
   ]
  },
  {
   "cell_type": "code",
   "execution_count": 39,
   "id": "13658497",
   "metadata": {
    "ExecuteTime": {
     "end_time": "2023-03-24T04:40:14.254472Z",
     "start_time": "2023-03-24T04:40:14.250893Z"
    }
   },
   "outputs": [],
   "source": [
    "# status"
   ]
  },
  {
   "cell_type": "code",
   "execution_count": 40,
   "id": "8cdb2cf0",
   "metadata": {
    "ExecuteTime": {
     "end_time": "2023-03-24T04:40:14.481248Z",
     "start_time": "2023-03-24T04:40:14.475031Z"
    }
   },
   "outputs": [],
   "source": [
    "cian_realty['status'] = None"
   ]
  },
  {
   "cell_type": "code",
   "execution_count": 41,
   "id": "b3f2474c",
   "metadata": {
    "ExecuteTime": {
     "end_time": "2023-03-24T04:40:14.698897Z",
     "start_time": "2023-03-24T04:40:14.695273Z"
    }
   },
   "outputs": [],
   "source": [
    "# version"
   ]
  },
  {
   "cell_type": "code",
   "execution_count": 42,
   "id": "e3699224",
   "metadata": {
    "ExecuteTime": {
     "end_time": "2023-03-24T04:40:15.016220Z",
     "start_time": "2023-03-24T04:40:15.009903Z"
    }
   },
   "outputs": [],
   "source": [
    "def get_version(engine, today_date, source_id):\n",
    "    last_version = f\"SELECT Max(version) FROM realty WHERE date < '{today_date}' AND source_id = {source_id}\"\n",
    "    try:\n",
    "        con_obj=engine.connect()\n",
    "        last_version_db = pd.read_sql(text(last_version), con=con_obj)\n",
    "        con_obj.close()\n",
    "        exc_code = None\n",
    "    except Exception as exc:\n",
    "        print(exc)\n",
    "        city_db = None\n",
    "        exc_code = exc.code\n",
    "    return last_version_db, exc_code"
   ]
  },
  {
   "cell_type": "code",
   "execution_count": 43,
   "id": "a00981e2",
   "metadata": {
    "ExecuteTime": {
     "end_time": "2023-03-24T04:40:19.884375Z",
     "start_time": "2023-03-24T04:40:16.615106Z"
    }
   },
   "outputs": [],
   "source": [
    "current_source = cian_realty.source_id.unique()[0]\n",
    "current_date = datetime.now().date()\n",
    "last_version = get_version(sql_engine, current_date, current_source)[0].iloc[0,0]\n",
    "if last_version == None:\n",
    "    current_version = 1\n",
    "else:\n",
    "    current_version = last_version + 1"
   ]
  },
  {
   "cell_type": "code",
   "execution_count": 44,
   "id": "02d6fb42",
   "metadata": {
    "ExecuteTime": {
     "end_time": "2023-03-24T04:40:19.893239Z",
     "start_time": "2023-03-24T04:40:19.885608Z"
    }
   },
   "outputs": [
    {
     "data": {
      "text/plain": [
       "270"
      ]
     },
     "execution_count": 44,
     "metadata": {},
     "output_type": "execute_result"
    }
   ],
   "source": [
    "current_version"
   ]
  },
  {
   "cell_type": "code",
   "execution_count": 45,
   "id": "3a858e7e",
   "metadata": {
    "ExecuteTime": {
     "end_time": "2023-03-24T04:40:27.587552Z",
     "start_time": "2023-03-24T04:40:27.583086Z"
    }
   },
   "outputs": [],
   "source": [
    "cian_realty['version'] = current_version"
   ]
  },
  {
   "cell_type": "code",
   "execution_count": 46,
   "id": "ee323687",
   "metadata": {
    "ExecuteTime": {
     "end_time": "2023-03-24T04:40:29.264538Z",
     "start_time": "2023-03-24T04:40:29.258448Z"
    }
   },
   "outputs": [],
   "source": [
    "# offer_from"
   ]
  },
  {
   "cell_type": "code",
   "execution_count": 47,
   "id": "05ceddba",
   "metadata": {
    "ExecuteTime": {
     "end_time": "2023-03-24T04:40:30.574565Z",
     "start_time": "2023-03-24T04:40:30.566387Z"
    }
   },
   "outputs": [],
   "source": [
    "cian_realty['offer_from'] = cian_all['offer_from']"
   ]
  },
  {
   "cell_type": "code",
   "execution_count": 48,
   "id": "09020510",
   "metadata": {
    "ExecuteTime": {
     "end_time": "2023-03-24T04:40:32.347670Z",
     "start_time": "2023-03-24T04:40:32.343008Z"
    }
   },
   "outputs": [],
   "source": [
    "# status_new"
   ]
  },
  {
   "cell_type": "code",
   "execution_count": 49,
   "id": "7cc6f5ce",
   "metadata": {
    "ExecuteTime": {
     "end_time": "2023-03-24T04:40:33.484190Z",
     "start_time": "2023-03-24T04:40:33.476829Z"
    }
   },
   "outputs": [],
   "source": [
    "cian_realty['status_new'] = 1"
   ]
  },
  {
   "cell_type": "code",
   "execution_count": 50,
   "id": "6209fa12",
   "metadata": {
    "ExecuteTime": {
     "end_time": "2023-03-24T04:40:34.165738Z",
     "start_time": "2023-03-24T04:40:34.159916Z"
    }
   },
   "outputs": [],
   "source": [
    "# house_id\n",
    "# нет в текущем алго, оставляю пустым"
   ]
  },
  {
   "cell_type": "code",
   "execution_count": 51,
   "id": "9fef3426",
   "metadata": {
    "ExecuteTime": {
     "end_time": "2023-03-24T04:40:35.242953Z",
     "start_time": "2023-03-24T04:40:35.225670Z"
    }
   },
   "outputs": [
    {
     "data": {
      "text/html": [
       "<div>\n",
       "<style scoped>\n",
       "    .dataframe tbody tr th:only-of-type {\n",
       "        vertical-align: middle;\n",
       "    }\n",
       "\n",
       "    .dataframe tbody tr th {\n",
       "        vertical-align: top;\n",
       "    }\n",
       "\n",
       "    .dataframe thead th {\n",
       "        text-align: right;\n",
       "    }\n",
       "</style>\n",
       "<table border=\"1\" class=\"dataframe\">\n",
       "  <thead>\n",
       "    <tr style=\"text-align: right;\">\n",
       "      <th></th>\n",
       "      <th>source_id</th>\n",
       "      <th>ad_id</th>\n",
       "      <th>city_id</th>\n",
       "      <th>district_id</th>\n",
       "      <th>type_id</th>\n",
       "      <th>addr</th>\n",
       "      <th>square</th>\n",
       "      <th>floor</th>\n",
       "      <th>house_floors</th>\n",
       "      <th>link</th>\n",
       "      <th>date</th>\n",
       "      <th>status</th>\n",
       "      <th>version</th>\n",
       "      <th>offer_from</th>\n",
       "      <th>status_new</th>\n",
       "    </tr>\n",
       "  </thead>\n",
       "  <tbody>\n",
       "    <tr>\n",
       "      <th>0</th>\n",
       "      <td>2</td>\n",
       "      <td>210197059</td>\n",
       "      <td>5</td>\n",
       "      <td>None</td>\n",
       "      <td>5</td>\n",
       "      <td>Краснодарский край; Анапа; улица Горького; 2А</td>\n",
       "      <td>107.0</td>\n",
       "      <td>7</td>\n",
       "      <td>12</td>\n",
       "      <td>https://anapa.cian.ru/sale/flat/210197059/</td>\n",
       "      <td>2023-03-24</td>\n",
       "      <td>None</td>\n",
       "      <td>270</td>\n",
       "      <td>Собственник</td>\n",
       "      <td>1</td>\n",
       "    </tr>\n",
       "    <tr>\n",
       "      <th>1</th>\n",
       "      <td>2</td>\n",
       "      <td>213575526</td>\n",
       "      <td>5</td>\n",
       "      <td>None</td>\n",
       "      <td>5</td>\n",
       "      <td>Краснодарский край; Анапа; улица Краснозеленых...</td>\n",
       "      <td>106.0</td>\n",
       "      <td>6</td>\n",
       "      <td>7</td>\n",
       "      <td>https://anapa.cian.ru/sale/flat/213575526/</td>\n",
       "      <td>2023-03-24</td>\n",
       "      <td>None</td>\n",
       "      <td>270</td>\n",
       "      <td>Риелтор</td>\n",
       "      <td>1</td>\n",
       "    </tr>\n",
       "    <tr>\n",
       "      <th>2</th>\n",
       "      <td>2</td>\n",
       "      <td>232012292</td>\n",
       "      <td>5</td>\n",
       "      <td>None</td>\n",
       "      <td>2</td>\n",
       "      <td>Краснодарский край; Анапа; улица Ленина; 194</td>\n",
       "      <td>20.0</td>\n",
       "      <td>1</td>\n",
       "      <td>9</td>\n",
       "      <td>https://anapa.cian.ru/sale/flat/232012292/</td>\n",
       "      <td>2023-03-24</td>\n",
       "      <td>None</td>\n",
       "      <td>270</td>\n",
       "      <td>Риелтор</td>\n",
       "      <td>1</td>\n",
       "    </tr>\n",
       "    <tr>\n",
       "      <th>3</th>\n",
       "      <td>2</td>\n",
       "      <td>233965925</td>\n",
       "      <td>5</td>\n",
       "      <td>None</td>\n",
       "      <td>3</td>\n",
       "      <td>Краснодарский край; Анапа; улица Толстого; 81</td>\n",
       "      <td>29.0</td>\n",
       "      <td>1</td>\n",
       "      <td>3</td>\n",
       "      <td>https://anapa.cian.ru/sale/flat/233965925/</td>\n",
       "      <td>2023-03-24</td>\n",
       "      <td>None</td>\n",
       "      <td>270</td>\n",
       "      <td>Агентство недвижимости</td>\n",
       "      <td>1</td>\n",
       "    </tr>\n",
       "    <tr>\n",
       "      <th>4</th>\n",
       "      <td>2</td>\n",
       "      <td>239179225</td>\n",
       "      <td>5</td>\n",
       "      <td>None</td>\n",
       "      <td>7</td>\n",
       "      <td>Краснодарский край; Анапа; Владимирская улица;...</td>\n",
       "      <td>140.0</td>\n",
       "      <td>13</td>\n",
       "      <td>13</td>\n",
       "      <td>https://anapa.cian.ru/sale/flat/239179225/</td>\n",
       "      <td>2023-03-24</td>\n",
       "      <td>None</td>\n",
       "      <td>270</td>\n",
       "      <td>Собственник</td>\n",
       "      <td>1</td>\n",
       "    </tr>\n",
       "    <tr>\n",
       "      <th>...</th>\n",
       "      <td>...</td>\n",
       "      <td>...</td>\n",
       "      <td>...</td>\n",
       "      <td>...</td>\n",
       "      <td>...</td>\n",
       "      <td>...</td>\n",
       "      <td>...</td>\n",
       "      <td>...</td>\n",
       "      <td>...</td>\n",
       "      <td>...</td>\n",
       "      <td>...</td>\n",
       "      <td>...</td>\n",
       "      <td>...</td>\n",
       "      <td>...</td>\n",
       "      <td>...</td>\n",
       "    </tr>\n",
       "    <tr>\n",
       "      <th>101775</th>\n",
       "      <td>2</td>\n",
       "      <td>285075402</td>\n",
       "      <td>17</td>\n",
       "      <td>None</td>\n",
       "      <td>3</td>\n",
       "      <td>Томская область; Томск; р-н Советский; проспек...</td>\n",
       "      <td>18.0</td>\n",
       "      <td>5</td>\n",
       "      <td>5</td>\n",
       "      <td>https://tomsk.cian.ru/sale/flat/285075402/</td>\n",
       "      <td>2023-03-24</td>\n",
       "      <td>None</td>\n",
       "      <td>270</td>\n",
       "      <td>Агентство недвижимости</td>\n",
       "      <td>1</td>\n",
       "    </tr>\n",
       "    <tr>\n",
       "      <th>101776</th>\n",
       "      <td>2</td>\n",
       "      <td>285075572</td>\n",
       "      <td>17</td>\n",
       "      <td>None</td>\n",
       "      <td>3</td>\n",
       "      <td>Томская область; Томск; р-н Советский; улица Ш...</td>\n",
       "      <td>16.5</td>\n",
       "      <td>2</td>\n",
       "      <td>5</td>\n",
       "      <td>https://tomsk.cian.ru/sale/flat/285075572/</td>\n",
       "      <td>2023-03-24</td>\n",
       "      <td>None</td>\n",
       "      <td>270</td>\n",
       "      <td>Агентство недвижимости</td>\n",
       "      <td>1</td>\n",
       "    </tr>\n",
       "    <tr>\n",
       "      <th>101777</th>\n",
       "      <td>2</td>\n",
       "      <td>285076163</td>\n",
       "      <td>17</td>\n",
       "      <td>None</td>\n",
       "      <td>4</td>\n",
       "      <td>Томская область; Томск; р-н Ленинский; улица Р...</td>\n",
       "      <td>48.0</td>\n",
       "      <td>5</td>\n",
       "      <td>6</td>\n",
       "      <td>https://tomsk.cian.ru/sale/flat/285076163/</td>\n",
       "      <td>2023-03-24</td>\n",
       "      <td>None</td>\n",
       "      <td>270</td>\n",
       "      <td>Агентство недвижимости</td>\n",
       "      <td>1</td>\n",
       "    </tr>\n",
       "    <tr>\n",
       "      <th>101778</th>\n",
       "      <td>2</td>\n",
       "      <td>285076291</td>\n",
       "      <td>17</td>\n",
       "      <td>None</td>\n",
       "      <td>3</td>\n",
       "      <td>Томская область; Томск; р-н Ленинский; Черемош...</td>\n",
       "      <td>39.0</td>\n",
       "      <td>4</td>\n",
       "      <td>10</td>\n",
       "      <td>https://tomsk.cian.ru/sale/flat/285076291/</td>\n",
       "      <td>2023-03-24</td>\n",
       "      <td>None</td>\n",
       "      <td>270</td>\n",
       "      <td>Агентство недвижимости</td>\n",
       "      <td>1</td>\n",
       "    </tr>\n",
       "    <tr>\n",
       "      <th>101779</th>\n",
       "      <td>2</td>\n",
       "      <td>285076712</td>\n",
       "      <td>17</td>\n",
       "      <td>None</td>\n",
       "      <td>4</td>\n",
       "      <td>Томская область; Томск; р-н Советский; улица К...</td>\n",
       "      <td>46.0</td>\n",
       "      <td>4</td>\n",
       "      <td>5</td>\n",
       "      <td>https://tomsk.cian.ru/sale/flat/285076712/</td>\n",
       "      <td>2023-03-24</td>\n",
       "      <td>None</td>\n",
       "      <td>270</td>\n",
       "      <td>Риелтор</td>\n",
       "      <td>1</td>\n",
       "    </tr>\n",
       "  </tbody>\n",
       "</table>\n",
       "<p>90223 rows × 15 columns</p>\n",
       "</div>"
      ],
      "text/plain": [
       "        source_id      ad_id  city_id district_id type_id  \\\n",
       "0               2  210197059        5        None       5   \n",
       "1               2  213575526        5        None       5   \n",
       "2               2  232012292        5        None       2   \n",
       "3               2  233965925        5        None       3   \n",
       "4               2  239179225        5        None       7   \n",
       "...           ...        ...      ...         ...     ...   \n",
       "101775          2  285075402       17        None       3   \n",
       "101776          2  285075572       17        None       3   \n",
       "101777          2  285076163       17        None       4   \n",
       "101778          2  285076291       17        None       3   \n",
       "101779          2  285076712       17        None       4   \n",
       "\n",
       "                                                     addr  square  floor  \\\n",
       "0           Краснодарский край; Анапа; улица Горького; 2А   107.0      7   \n",
       "1       Краснодарский край; Анапа; улица Краснозеленых...   106.0      6   \n",
       "2            Краснодарский край; Анапа; улица Ленина; 194    20.0      1   \n",
       "3           Краснодарский край; Анапа; улица Толстого; 81    29.0      1   \n",
       "4       Краснодарский край; Анапа; Владимирская улица;...   140.0     13   \n",
       "...                                                   ...     ...    ...   \n",
       "101775  Томская область; Томск; р-н Советский; проспек...    18.0      5   \n",
       "101776  Томская область; Томск; р-н Советский; улица Ш...    16.5      2   \n",
       "101777  Томская область; Томск; р-н Ленинский; улица Р...    48.0      5   \n",
       "101778  Томская область; Томск; р-н Ленинский; Черемош...    39.0      4   \n",
       "101779  Томская область; Томск; р-н Советский; улица К...    46.0      4   \n",
       "\n",
       "        house_floors                                        link        date  \\\n",
       "0                 12  https://anapa.cian.ru/sale/flat/210197059/  2023-03-24   \n",
       "1                  7  https://anapa.cian.ru/sale/flat/213575526/  2023-03-24   \n",
       "2                  9  https://anapa.cian.ru/sale/flat/232012292/  2023-03-24   \n",
       "3                  3  https://anapa.cian.ru/sale/flat/233965925/  2023-03-24   \n",
       "4                 13  https://anapa.cian.ru/sale/flat/239179225/  2023-03-24   \n",
       "...              ...                                         ...         ...   \n",
       "101775             5  https://tomsk.cian.ru/sale/flat/285075402/  2023-03-24   \n",
       "101776             5  https://tomsk.cian.ru/sale/flat/285075572/  2023-03-24   \n",
       "101777             6  https://tomsk.cian.ru/sale/flat/285076163/  2023-03-24   \n",
       "101778            10  https://tomsk.cian.ru/sale/flat/285076291/  2023-03-24   \n",
       "101779             5  https://tomsk.cian.ru/sale/flat/285076712/  2023-03-24   \n",
       "\n",
       "       status  version              offer_from  status_new  \n",
       "0        None      270             Собственник           1  \n",
       "1        None      270                 Риелтор           1  \n",
       "2        None      270                 Риелтор           1  \n",
       "3        None      270  Агентство недвижимости           1  \n",
       "4        None      270             Собственник           1  \n",
       "...       ...      ...                     ...         ...  \n",
       "101775   None      270  Агентство недвижимости           1  \n",
       "101776   None      270  Агентство недвижимости           1  \n",
       "101777   None      270  Агентство недвижимости           1  \n",
       "101778   None      270  Агентство недвижимости           1  \n",
       "101779   None      270                 Риелтор           1  \n",
       "\n",
       "[90223 rows x 15 columns]"
      ]
     },
     "execution_count": 51,
     "metadata": {},
     "output_type": "execute_result"
    }
   ],
   "source": [
    "cian_realty"
   ]
  },
  {
   "cell_type": "markdown",
   "id": "91527032",
   "metadata": {},
   "source": [
    "# districts"
   ]
  },
  {
   "cell_type": "code",
   "execution_count": 254,
   "id": "191fccf2",
   "metadata": {
    "ExecuteTime": {
     "end_time": "2023-03-24T07:42:41.926540Z",
     "start_time": "2023-03-24T07:42:41.910624Z"
    }
   },
   "outputs": [
    {
     "data": {
      "text/plain": [
       "True"
      ]
     },
     "execution_count": 254,
     "metadata": {},
     "output_type": "execute_result"
    }
   ],
   "source": [
    "cian_realty[cian_realty.index.isin(cian_rm.index)].addr.to_list() == cian_rm.addr.to_list()"
   ]
  },
  {
   "cell_type": "code",
   "execution_count": 54,
   "id": "f8513ed1",
   "metadata": {
    "ExecuteTime": {
     "end_time": "2023-03-24T07:43:01.148790Z",
     "start_time": "2023-03-24T07:43:01.144758Z"
    }
   },
   "outputs": [],
   "source": [
    "def get_districts(engine):\n",
    "    districts_query = f\"SELECT DISTINCT id, city_id, name FROM districts\"\n",
    "    try:\n",
    "        con_obj=engine.connect()\n",
    "        districts_query_db = pd.read_sql(text(districts_query), con=con_obj)\n",
    "        con_obj.close()\n",
    "    except Exception as exc:\n",
    "        print(exc)\n",
    "        districts_query_db = None\n",
    "    return districts_query_db"
   ]
  },
  {
   "cell_type": "code",
   "execution_count": 63,
   "id": "3179c4e4",
   "metadata": {
    "ExecuteTime": {
     "end_time": "2023-03-24T07:43:01.940238Z",
     "start_time": "2023-03-24T07:43:01.933827Z"
    }
   },
   "outputs": [],
   "source": [
    "def district_from_rn_mkrn(realty_row, all_districts, sql_engine):\n",
    "    # для записи новых районов создадим датафрейм и получим последний id района\n",
    "    add_districts_df = pd.DataFrame(columns=['city_id', 'name'])\n",
    "    current_max_id = all_districts.id.max()\n",
    "    # для работы функции создадим объекты текущего р-н и мкр\n",
    "    current_rn = None\n",
    "    current_mkrn = None\n",
    "    # создадим списо куда будем записывать значения\n",
    "    list_district_id = []\n",
    "    for addr_part in realty_row.addr.split(';')[:3]:\n",
    "        if 'мкр.' in addr_part:\n",
    "            current_mkrn = addr_part.replace(' мкр. ', '')\n",
    "        elif 'р-н' in addr_part:\n",
    "            current_rn = addr_part.replace(' р-н ', '')\n",
    "        else:\n",
    "            pass\n",
    "    if current_rn == None and current_mkrn == None:\n",
    "        return None\n",
    "    else:\n",
    "        district_name = current_mkrn if current_mkrn != None else current_rn\n",
    "        district_intersection = all_districts[(all_districts.city_id == realty_row.city_id) & (all_districts.name == district_name)]\n",
    "        if len(district_intersection) == 0:\n",
    "            print(district_name)\n",
    "            # обновление данных из districts на случай если дистрикт добавлялся во время исполнения скрипта \n",
    "            all_districts_upd = get_districts(sql_engine)\n",
    "            district_intersection_upd = all_districts_upd[(all_districts_upd.city_id == realty_row.city_id) & (all_districts_upd.name == district_name)]\n",
    "            current_max_id = int(all_districts_upd.id.max())\n",
    "            # если в обновленном districts нет данных о районе - добавляем\n",
    "            if len(district_intersection_upd) == 0: \n",
    "                add_districts_df.loc[len(add_districts_df)] = [realty_row.city_id, district_name]\n",
    "                add_districts_df.to_sql(name='districts', con=sql_engine, if_exists='append', chunksize=7000, method='multi', index=False)\n",
    "                return current_max_id + 1\n",
    "            # если данные о районе есть, возвращаем id\n",
    "            else:\n",
    "                return district_intersection_upd.iloc[0,0]\n",
    "        else:\n",
    "            return district_intersection.iloc[0,0]"
   ]
  },
  {
   "cell_type": "code",
   "execution_count": 79,
   "id": "a4dd394e",
   "metadata": {
    "ExecuteTime": {
     "end_time": "2023-03-24T07:43:05.361759Z",
     "start_time": "2023-03-24T07:43:03.728794Z"
    }
   },
   "outputs": [],
   "source": [
    "all_districts = get_districts(sql_engine)"
   ]
  },
  {
   "cell_type": "code",
   "execution_count": 80,
   "id": "683deb81",
   "metadata": {
    "ExecuteTime": {
     "end_time": "2023-03-24T07:44:09.280930Z",
     "start_time": "2023-03-24T07:43:07.078701Z"
    }
   },
   "outputs": [],
   "source": [
    "cian_realty.district_id = cian_realty.apply(lambda row: district_from_rn_mkrn(row, all_districts, sql_engine), axis=1)"
   ]
  },
  {
   "cell_type": "code",
   "execution_count": 82,
   "id": "883fd2db",
   "metadata": {},
   "outputs": [
    {
     "data": {
      "text/html": [
       "<div>\n",
       "<style scoped>\n",
       "    .dataframe tbody tr th:only-of-type {\n",
       "        vertical-align: middle;\n",
       "    }\n",
       "\n",
       "    .dataframe tbody tr th {\n",
       "        vertical-align: top;\n",
       "    }\n",
       "\n",
       "    .dataframe thead th {\n",
       "        text-align: right;\n",
       "    }\n",
       "</style>\n",
       "<table border=\"1\" class=\"dataframe\">\n",
       "  <thead>\n",
       "    <tr style=\"text-align: right;\">\n",
       "      <th></th>\n",
       "      <th>source_id</th>\n",
       "      <th>ad_id</th>\n",
       "      <th>city_id</th>\n",
       "      <th>district_id</th>\n",
       "      <th>type_id</th>\n",
       "      <th>addr</th>\n",
       "      <th>square</th>\n",
       "      <th>floor</th>\n",
       "      <th>house_floors</th>\n",
       "      <th>link</th>\n",
       "      <th>date</th>\n",
       "      <th>status</th>\n",
       "      <th>version</th>\n",
       "      <th>offer_from</th>\n",
       "      <th>status_new</th>\n",
       "    </tr>\n",
       "  </thead>\n",
       "  <tbody>\n",
       "    <tr>\n",
       "      <th>0</th>\n",
       "      <td>2</td>\n",
       "      <td>210197059</td>\n",
       "      <td>5</td>\n",
       "      <td>NaN</td>\n",
       "      <td>5</td>\n",
       "      <td>Краснодарский край; Анапа; улица Горького; 2А</td>\n",
       "      <td>107.0</td>\n",
       "      <td>7</td>\n",
       "      <td>12</td>\n",
       "      <td>https://anapa.cian.ru/sale/flat/210197059/</td>\n",
       "      <td>2023-03-24</td>\n",
       "      <td>None</td>\n",
       "      <td>270</td>\n",
       "      <td>Собственник</td>\n",
       "      <td>1</td>\n",
       "    </tr>\n",
       "    <tr>\n",
       "      <th>1</th>\n",
       "      <td>2</td>\n",
       "      <td>213575526</td>\n",
       "      <td>5</td>\n",
       "      <td>NaN</td>\n",
       "      <td>5</td>\n",
       "      <td>Краснодарский край; Анапа; улица Краснозеленых...</td>\n",
       "      <td>106.0</td>\n",
       "      <td>6</td>\n",
       "      <td>7</td>\n",
       "      <td>https://anapa.cian.ru/sale/flat/213575526/</td>\n",
       "      <td>2023-03-24</td>\n",
       "      <td>None</td>\n",
       "      <td>270</td>\n",
       "      <td>Риелтор</td>\n",
       "      <td>1</td>\n",
       "    </tr>\n",
       "    <tr>\n",
       "      <th>2</th>\n",
       "      <td>2</td>\n",
       "      <td>232012292</td>\n",
       "      <td>5</td>\n",
       "      <td>NaN</td>\n",
       "      <td>2</td>\n",
       "      <td>Краснодарский край; Анапа; улица Ленина; 194</td>\n",
       "      <td>20.0</td>\n",
       "      <td>1</td>\n",
       "      <td>9</td>\n",
       "      <td>https://anapa.cian.ru/sale/flat/232012292/</td>\n",
       "      <td>2023-03-24</td>\n",
       "      <td>None</td>\n",
       "      <td>270</td>\n",
       "      <td>Риелтор</td>\n",
       "      <td>1</td>\n",
       "    </tr>\n",
       "    <tr>\n",
       "      <th>3</th>\n",
       "      <td>2</td>\n",
       "      <td>233965925</td>\n",
       "      <td>5</td>\n",
       "      <td>NaN</td>\n",
       "      <td>3</td>\n",
       "      <td>Краснодарский край; Анапа; улица Толстого; 81</td>\n",
       "      <td>29.0</td>\n",
       "      <td>1</td>\n",
       "      <td>3</td>\n",
       "      <td>https://anapa.cian.ru/sale/flat/233965925/</td>\n",
       "      <td>2023-03-24</td>\n",
       "      <td>None</td>\n",
       "      <td>270</td>\n",
       "      <td>Агентство недвижимости</td>\n",
       "      <td>1</td>\n",
       "    </tr>\n",
       "    <tr>\n",
       "      <th>4</th>\n",
       "      <td>2</td>\n",
       "      <td>239179225</td>\n",
       "      <td>5</td>\n",
       "      <td>NaN</td>\n",
       "      <td>7</td>\n",
       "      <td>Краснодарский край; Анапа; Владимирская улица;...</td>\n",
       "      <td>140.0</td>\n",
       "      <td>13</td>\n",
       "      <td>13</td>\n",
       "      <td>https://anapa.cian.ru/sale/flat/239179225/</td>\n",
       "      <td>2023-03-24</td>\n",
       "      <td>None</td>\n",
       "      <td>270</td>\n",
       "      <td>Собственник</td>\n",
       "      <td>1</td>\n",
       "    </tr>\n",
       "    <tr>\n",
       "      <th>...</th>\n",
       "      <td>...</td>\n",
       "      <td>...</td>\n",
       "      <td>...</td>\n",
       "      <td>...</td>\n",
       "      <td>...</td>\n",
       "      <td>...</td>\n",
       "      <td>...</td>\n",
       "      <td>...</td>\n",
       "      <td>...</td>\n",
       "      <td>...</td>\n",
       "      <td>...</td>\n",
       "      <td>...</td>\n",
       "      <td>...</td>\n",
       "      <td>...</td>\n",
       "      <td>...</td>\n",
       "    </tr>\n",
       "    <tr>\n",
       "      <th>101775</th>\n",
       "      <td>2</td>\n",
       "      <td>285075402</td>\n",
       "      <td>17</td>\n",
       "      <td>384.0</td>\n",
       "      <td>3</td>\n",
       "      <td>Томская область; Томск; р-н Советский; проспек...</td>\n",
       "      <td>18.0</td>\n",
       "      <td>5</td>\n",
       "      <td>5</td>\n",
       "      <td>https://tomsk.cian.ru/sale/flat/285075402/</td>\n",
       "      <td>2023-03-24</td>\n",
       "      <td>None</td>\n",
       "      <td>270</td>\n",
       "      <td>Агентство недвижимости</td>\n",
       "      <td>1</td>\n",
       "    </tr>\n",
       "    <tr>\n",
       "      <th>101776</th>\n",
       "      <td>2</td>\n",
       "      <td>285075572</td>\n",
       "      <td>17</td>\n",
       "      <td>384.0</td>\n",
       "      <td>3</td>\n",
       "      <td>Томская область; Томск; р-н Советский; улица Ш...</td>\n",
       "      <td>16.5</td>\n",
       "      <td>2</td>\n",
       "      <td>5</td>\n",
       "      <td>https://tomsk.cian.ru/sale/flat/285075572/</td>\n",
       "      <td>2023-03-24</td>\n",
       "      <td>None</td>\n",
       "      <td>270</td>\n",
       "      <td>Агентство недвижимости</td>\n",
       "      <td>1</td>\n",
       "    </tr>\n",
       "    <tr>\n",
       "      <th>101777</th>\n",
       "      <td>2</td>\n",
       "      <td>285076163</td>\n",
       "      <td>17</td>\n",
       "      <td>394.0</td>\n",
       "      <td>4</td>\n",
       "      <td>Томская область; Томск; р-н Ленинский; улица Р...</td>\n",
       "      <td>48.0</td>\n",
       "      <td>5</td>\n",
       "      <td>6</td>\n",
       "      <td>https://tomsk.cian.ru/sale/flat/285076163/</td>\n",
       "      <td>2023-03-24</td>\n",
       "      <td>None</td>\n",
       "      <td>270</td>\n",
       "      <td>Агентство недвижимости</td>\n",
       "      <td>1</td>\n",
       "    </tr>\n",
       "    <tr>\n",
       "      <th>101778</th>\n",
       "      <td>2</td>\n",
       "      <td>285076291</td>\n",
       "      <td>17</td>\n",
       "      <td>506.0</td>\n",
       "      <td>3</td>\n",
       "      <td>Томская область; Томск; р-н Уебский лол; улица...</td>\n",
       "      <td>39.0</td>\n",
       "      <td>4</td>\n",
       "      <td>10</td>\n",
       "      <td>https://tomsk.cian.ru/sale/flat/285076291/</td>\n",
       "      <td>2023-03-24</td>\n",
       "      <td>None</td>\n",
       "      <td>270</td>\n",
       "      <td>Агентство недвижимости</td>\n",
       "      <td>1</td>\n",
       "    </tr>\n",
       "    <tr>\n",
       "      <th>101779</th>\n",
       "      <td>2</td>\n",
       "      <td>285076712</td>\n",
       "      <td>17</td>\n",
       "      <td>505.0</td>\n",
       "      <td>4</td>\n",
       "      <td>Томская область; Томск; р-н Соседский хаха; ул...</td>\n",
       "      <td>46.0</td>\n",
       "      <td>4</td>\n",
       "      <td>5</td>\n",
       "      <td>https://tomsk.cian.ru/sale/flat/285076712/</td>\n",
       "      <td>2023-03-24</td>\n",
       "      <td>None</td>\n",
       "      <td>270</td>\n",
       "      <td>Риелтор</td>\n",
       "      <td>1</td>\n",
       "    </tr>\n",
       "  </tbody>\n",
       "</table>\n",
       "<p>90223 rows × 15 columns</p>\n",
       "</div>"
      ],
      "text/plain": [
       "        source_id      ad_id  city_id  district_id type_id  \\\n",
       "0               2  210197059        5          NaN       5   \n",
       "1               2  213575526        5          NaN       5   \n",
       "2               2  232012292        5          NaN       2   \n",
       "3               2  233965925        5          NaN       3   \n",
       "4               2  239179225        5          NaN       7   \n",
       "...           ...        ...      ...          ...     ...   \n",
       "101775          2  285075402       17        384.0       3   \n",
       "101776          2  285075572       17        384.0       3   \n",
       "101777          2  285076163       17        394.0       4   \n",
       "101778          2  285076291       17        506.0       3   \n",
       "101779          2  285076712       17        505.0       4   \n",
       "\n",
       "                                                     addr  square  floor  \\\n",
       "0           Краснодарский край; Анапа; улица Горького; 2А   107.0      7   \n",
       "1       Краснодарский край; Анапа; улица Краснозеленых...   106.0      6   \n",
       "2            Краснодарский край; Анапа; улица Ленина; 194    20.0      1   \n",
       "3           Краснодарский край; Анапа; улица Толстого; 81    29.0      1   \n",
       "4       Краснодарский край; Анапа; Владимирская улица;...   140.0     13   \n",
       "...                                                   ...     ...    ...   \n",
       "101775  Томская область; Томск; р-н Советский; проспек...    18.0      5   \n",
       "101776  Томская область; Томск; р-н Советский; улица Ш...    16.5      2   \n",
       "101777  Томская область; Томск; р-н Ленинский; улица Р...    48.0      5   \n",
       "101778  Томская область; Томск; р-н Уебский лол; улица...    39.0      4   \n",
       "101779  Томская область; Томск; р-н Соседский хаха; ул...    46.0      4   \n",
       "\n",
       "        house_floors                                        link        date  \\\n",
       "0                 12  https://anapa.cian.ru/sale/flat/210197059/  2023-03-24   \n",
       "1                  7  https://anapa.cian.ru/sale/flat/213575526/  2023-03-24   \n",
       "2                  9  https://anapa.cian.ru/sale/flat/232012292/  2023-03-24   \n",
       "3                  3  https://anapa.cian.ru/sale/flat/233965925/  2023-03-24   \n",
       "4                 13  https://anapa.cian.ru/sale/flat/239179225/  2023-03-24   \n",
       "...              ...                                         ...         ...   \n",
       "101775             5  https://tomsk.cian.ru/sale/flat/285075402/  2023-03-24   \n",
       "101776             5  https://tomsk.cian.ru/sale/flat/285075572/  2023-03-24   \n",
       "101777             6  https://tomsk.cian.ru/sale/flat/285076163/  2023-03-24   \n",
       "101778            10  https://tomsk.cian.ru/sale/flat/285076291/  2023-03-24   \n",
       "101779             5  https://tomsk.cian.ru/sale/flat/285076712/  2023-03-24   \n",
       "\n",
       "       status  version              offer_from  status_new  \n",
       "0        None      270             Собственник           1  \n",
       "1        None      270                 Риелтор           1  \n",
       "2        None      270                 Риелтор           1  \n",
       "3        None      270  Агентство недвижимости           1  \n",
       "4        None      270             Собственник           1  \n",
       "...       ...      ...                     ...         ...  \n",
       "101775   None      270  Агентство недвижимости           1  \n",
       "101776   None      270  Агентство недвижимости           1  \n",
       "101777   None      270  Агентство недвижимости           1  \n",
       "101778   None      270  Агентство недвижимости           1  \n",
       "101779   None      270                 Риелтор           1  \n",
       "\n",
       "[90223 rows x 15 columns]"
      ]
     },
     "execution_count": 82,
     "metadata": {},
     "output_type": "execute_result"
    }
   ],
   "source": [
    "cian_realty"
   ]
  },
  {
   "cell_type": "code",
   "execution_count": null,
   "id": "e651b378",
   "metadata": {},
   "outputs": [],
   "source": [
    "# проверка если есть строковые значения в "
   ]
  },
  {
   "cell_type": "code",
   "execution_count": 252,
   "id": "0f71edb4",
   "metadata": {
    "ExecuteTime": {
     "end_time": "2023-03-24T07:38:59.953159Z",
     "start_time": "2023-03-24T07:38:59.949650Z"
    }
   },
   "outputs": [],
   "source": [
    "def find_str(x):\n",
    "    try:\n",
    "        _ = int(x)\n",
    "        return False\n",
    "    except:\n",
    "        return True"
   ]
  },
  {
   "cell_type": "code",
   "execution_count": 253,
   "id": "25e0018b",
   "metadata": {
    "ExecuteTime": {
     "end_time": "2023-03-24T07:39:00.798061Z",
     "start_time": "2023-03-24T07:39:00.764016Z"
    }
   },
   "outputs": [
    {
     "data": {
      "text/html": [
       "<div>\n",
       "<style scoped>\n",
       "    .dataframe tbody tr th:only-of-type {\n",
       "        vertical-align: middle;\n",
       "    }\n",
       "\n",
       "    .dataframe tbody tr th {\n",
       "        vertical-align: top;\n",
       "    }\n",
       "\n",
       "    .dataframe thead th {\n",
       "        text-align: right;\n",
       "    }\n",
       "</style>\n",
       "<table border=\"1\" class=\"dataframe\">\n",
       "  <thead>\n",
       "    <tr style=\"text-align: right;\">\n",
       "      <th></th>\n",
       "      <th>source_id</th>\n",
       "      <th>ad_id</th>\n",
       "      <th>city_id</th>\n",
       "      <th>district_id</th>\n",
       "      <th>type_id</th>\n",
       "      <th>addr</th>\n",
       "      <th>square</th>\n",
       "      <th>floor</th>\n",
       "      <th>house_floors</th>\n",
       "      <th>link</th>\n",
       "      <th>date</th>\n",
       "      <th>status</th>\n",
       "      <th>version</th>\n",
       "      <th>offer_from</th>\n",
       "      <th>status_new</th>\n",
       "    </tr>\n",
       "  </thead>\n",
       "  <tbody>\n",
       "  </tbody>\n",
       "</table>\n",
       "</div>"
      ],
      "text/plain": [
       "Empty DataFrame\n",
       "Columns: [source_id, ad_id, city_id, district_id, type_id, addr, square, floor, house_floors, link, date, status, version, offer_from, status_new]\n",
       "Index: []"
      ]
     },
     "execution_count": 253,
     "metadata": {},
     "output_type": "execute_result"
    }
   ],
   "source": [
    "cian_realty[(~cian_realty.district_id.isna()) & (cian_realty.district_id.apply(lambda x: tryx(x)))]"
   ]
  },
  {
   "cell_type": "code",
   "execution_count": 220,
   "id": "d0187325",
   "metadata": {
    "ExecuteTime": {
     "end_time": "2023-03-24T06:45:04.905661Z",
     "start_time": "2023-03-24T06:45:04.893097Z"
    }
   },
   "outputs": [
    {
     "data": {
      "text/html": [
       "<div>\n",
       "<style scoped>\n",
       "    .dataframe tbody tr th:only-of-type {\n",
       "        vertical-align: middle;\n",
       "    }\n",
       "\n",
       "    .dataframe tbody tr th {\n",
       "        vertical-align: top;\n",
       "    }\n",
       "\n",
       "    .dataframe thead th {\n",
       "        text-align: right;\n",
       "    }\n",
       "</style>\n",
       "<table border=\"1\" class=\"dataframe\">\n",
       "  <thead>\n",
       "    <tr style=\"text-align: right;\">\n",
       "      <th></th>\n",
       "      <th>source_id</th>\n",
       "      <th>ad_id</th>\n",
       "      <th>city_id</th>\n",
       "      <th>district_id</th>\n",
       "      <th>type_id</th>\n",
       "      <th>addr</th>\n",
       "      <th>square</th>\n",
       "      <th>floor</th>\n",
       "      <th>house_floors</th>\n",
       "      <th>link</th>\n",
       "      <th>date</th>\n",
       "      <th>status</th>\n",
       "      <th>version</th>\n",
       "      <th>offer_from</th>\n",
       "      <th>status_new</th>\n",
       "    </tr>\n",
       "  </thead>\n",
       "  <tbody>\n",
       "    <tr>\n",
       "      <th>0</th>\n",
       "      <td>2</td>\n",
       "      <td>210197059</td>\n",
       "      <td>5</td>\n",
       "      <td>NaN</td>\n",
       "      <td>5</td>\n",
       "      <td>Краснодарский край; Анапа; улица Горького; 2А</td>\n",
       "      <td>107.0</td>\n",
       "      <td>7</td>\n",
       "      <td>12</td>\n",
       "      <td>https://anapa.cian.ru/sale/flat/210197059/</td>\n",
       "      <td>2023-03-24</td>\n",
       "      <td>None</td>\n",
       "      <td>270</td>\n",
       "      <td>Собственник</td>\n",
       "      <td>1</td>\n",
       "    </tr>\n",
       "    <tr>\n",
       "      <th>1</th>\n",
       "      <td>2</td>\n",
       "      <td>213575526</td>\n",
       "      <td>5</td>\n",
       "      <td>NaN</td>\n",
       "      <td>5</td>\n",
       "      <td>Краснодарский край; Анапа; улица Краснозеленых...</td>\n",
       "      <td>106.0</td>\n",
       "      <td>6</td>\n",
       "      <td>7</td>\n",
       "      <td>https://anapa.cian.ru/sale/flat/213575526/</td>\n",
       "      <td>2023-03-24</td>\n",
       "      <td>None</td>\n",
       "      <td>270</td>\n",
       "      <td>Риелтор</td>\n",
       "      <td>1</td>\n",
       "    </tr>\n",
       "    <tr>\n",
       "      <th>2</th>\n",
       "      <td>2</td>\n",
       "      <td>232012292</td>\n",
       "      <td>5</td>\n",
       "      <td>NaN</td>\n",
       "      <td>2</td>\n",
       "      <td>Краснодарский край; Анапа; улица Ленина; 194</td>\n",
       "      <td>20.0</td>\n",
       "      <td>1</td>\n",
       "      <td>9</td>\n",
       "      <td>https://anapa.cian.ru/sale/flat/232012292/</td>\n",
       "      <td>2023-03-24</td>\n",
       "      <td>None</td>\n",
       "      <td>270</td>\n",
       "      <td>Риелтор</td>\n",
       "      <td>1</td>\n",
       "    </tr>\n",
       "    <tr>\n",
       "      <th>3</th>\n",
       "      <td>2</td>\n",
       "      <td>233965925</td>\n",
       "      <td>5</td>\n",
       "      <td>NaN</td>\n",
       "      <td>3</td>\n",
       "      <td>Краснодарский край; Анапа; улица Толстого; 81</td>\n",
       "      <td>29.0</td>\n",
       "      <td>1</td>\n",
       "      <td>3</td>\n",
       "      <td>https://anapa.cian.ru/sale/flat/233965925/</td>\n",
       "      <td>2023-03-24</td>\n",
       "      <td>None</td>\n",
       "      <td>270</td>\n",
       "      <td>Агентство недвижимости</td>\n",
       "      <td>1</td>\n",
       "    </tr>\n",
       "    <tr>\n",
       "      <th>4</th>\n",
       "      <td>2</td>\n",
       "      <td>239179225</td>\n",
       "      <td>5</td>\n",
       "      <td>NaN</td>\n",
       "      <td>7</td>\n",
       "      <td>Краснодарский край; Анапа; Владимирская улица;...</td>\n",
       "      <td>140.0</td>\n",
       "      <td>13</td>\n",
       "      <td>13</td>\n",
       "      <td>https://anapa.cian.ru/sale/flat/239179225/</td>\n",
       "      <td>2023-03-24</td>\n",
       "      <td>None</td>\n",
       "      <td>270</td>\n",
       "      <td>Собственник</td>\n",
       "      <td>1</td>\n",
       "    </tr>\n",
       "    <tr>\n",
       "      <th>...</th>\n",
       "      <td>...</td>\n",
       "      <td>...</td>\n",
       "      <td>...</td>\n",
       "      <td>...</td>\n",
       "      <td>...</td>\n",
       "      <td>...</td>\n",
       "      <td>...</td>\n",
       "      <td>...</td>\n",
       "      <td>...</td>\n",
       "      <td>...</td>\n",
       "      <td>...</td>\n",
       "      <td>...</td>\n",
       "      <td>...</td>\n",
       "      <td>...</td>\n",
       "      <td>...</td>\n",
       "    </tr>\n",
       "    <tr>\n",
       "      <th>101775</th>\n",
       "      <td>2</td>\n",
       "      <td>285075402</td>\n",
       "      <td>17</td>\n",
       "      <td>384.0</td>\n",
       "      <td>3</td>\n",
       "      <td>Томская область; Томск; р-н Советский; проспек...</td>\n",
       "      <td>18.0</td>\n",
       "      <td>5</td>\n",
       "      <td>5</td>\n",
       "      <td>https://tomsk.cian.ru/sale/flat/285075402/</td>\n",
       "      <td>2023-03-24</td>\n",
       "      <td>None</td>\n",
       "      <td>270</td>\n",
       "      <td>Агентство недвижимости</td>\n",
       "      <td>1</td>\n",
       "    </tr>\n",
       "    <tr>\n",
       "      <th>101776</th>\n",
       "      <td>2</td>\n",
       "      <td>285075572</td>\n",
       "      <td>17</td>\n",
       "      <td>384.0</td>\n",
       "      <td>3</td>\n",
       "      <td>Томская область; Томск; р-н Советский; улица Ш...</td>\n",
       "      <td>16.5</td>\n",
       "      <td>2</td>\n",
       "      <td>5</td>\n",
       "      <td>https://tomsk.cian.ru/sale/flat/285075572/</td>\n",
       "      <td>2023-03-24</td>\n",
       "      <td>None</td>\n",
       "      <td>270</td>\n",
       "      <td>Агентство недвижимости</td>\n",
       "      <td>1</td>\n",
       "    </tr>\n",
       "    <tr>\n",
       "      <th>101777</th>\n",
       "      <td>2</td>\n",
       "      <td>285076163</td>\n",
       "      <td>17</td>\n",
       "      <td>394.0</td>\n",
       "      <td>4</td>\n",
       "      <td>Томская область; Томск; р-н Ленинский; улица Р...</td>\n",
       "      <td>48.0</td>\n",
       "      <td>5</td>\n",
       "      <td>6</td>\n",
       "      <td>https://tomsk.cian.ru/sale/flat/285076163/</td>\n",
       "      <td>2023-03-24</td>\n",
       "      <td>None</td>\n",
       "      <td>270</td>\n",
       "      <td>Агентство недвижимости</td>\n",
       "      <td>1</td>\n",
       "    </tr>\n",
       "    <tr>\n",
       "      <th>101778</th>\n",
       "      <td>2</td>\n",
       "      <td>285076291</td>\n",
       "      <td>17</td>\n",
       "      <td>394.0</td>\n",
       "      <td>3</td>\n",
       "      <td>Томская область; Томск; р-н Ленинский; Черемош...</td>\n",
       "      <td>39.0</td>\n",
       "      <td>4</td>\n",
       "      <td>10</td>\n",
       "      <td>https://tomsk.cian.ru/sale/flat/285076291/</td>\n",
       "      <td>2023-03-24</td>\n",
       "      <td>None</td>\n",
       "      <td>270</td>\n",
       "      <td>Агентство недвижимости</td>\n",
       "      <td>1</td>\n",
       "    </tr>\n",
       "    <tr>\n",
       "      <th>101779</th>\n",
       "      <td>2</td>\n",
       "      <td>285076712</td>\n",
       "      <td>17</td>\n",
       "      <td>384.0</td>\n",
       "      <td>4</td>\n",
       "      <td>Томская область; Томск; р-н Советский; улица К...</td>\n",
       "      <td>46.0</td>\n",
       "      <td>4</td>\n",
       "      <td>5</td>\n",
       "      <td>https://tomsk.cian.ru/sale/flat/285076712/</td>\n",
       "      <td>2023-03-24</td>\n",
       "      <td>None</td>\n",
       "      <td>270</td>\n",
       "      <td>Риелтор</td>\n",
       "      <td>1</td>\n",
       "    </tr>\n",
       "  </tbody>\n",
       "</table>\n",
       "<p>90223 rows × 15 columns</p>\n",
       "</div>"
      ],
      "text/plain": [
       "        source_id      ad_id  city_id  district_id type_id  \\\n",
       "0               2  210197059        5          NaN       5   \n",
       "1               2  213575526        5          NaN       5   \n",
       "2               2  232012292        5          NaN       2   \n",
       "3               2  233965925        5          NaN       3   \n",
       "4               2  239179225        5          NaN       7   \n",
       "...           ...        ...      ...          ...     ...   \n",
       "101775          2  285075402       17        384.0       3   \n",
       "101776          2  285075572       17        384.0       3   \n",
       "101777          2  285076163       17        394.0       4   \n",
       "101778          2  285076291       17        394.0       3   \n",
       "101779          2  285076712       17        384.0       4   \n",
       "\n",
       "                                                     addr  square  floor  \\\n",
       "0           Краснодарский край; Анапа; улица Горького; 2А   107.0      7   \n",
       "1       Краснодарский край; Анапа; улица Краснозеленых...   106.0      6   \n",
       "2            Краснодарский край; Анапа; улица Ленина; 194    20.0      1   \n",
       "3           Краснодарский край; Анапа; улица Толстого; 81    29.0      1   \n",
       "4       Краснодарский край; Анапа; Владимирская улица;...   140.0     13   \n",
       "...                                                   ...     ...    ...   \n",
       "101775  Томская область; Томск; р-н Советский; проспек...    18.0      5   \n",
       "101776  Томская область; Томск; р-н Советский; улица Ш...    16.5      2   \n",
       "101777  Томская область; Томск; р-н Ленинский; улица Р...    48.0      5   \n",
       "101778  Томская область; Томск; р-н Ленинский; Черемош...    39.0      4   \n",
       "101779  Томская область; Томск; р-н Советский; улица К...    46.0      4   \n",
       "\n",
       "        house_floors                                        link        date  \\\n",
       "0                 12  https://anapa.cian.ru/sale/flat/210197059/  2023-03-24   \n",
       "1                  7  https://anapa.cian.ru/sale/flat/213575526/  2023-03-24   \n",
       "2                  9  https://anapa.cian.ru/sale/flat/232012292/  2023-03-24   \n",
       "3                  3  https://anapa.cian.ru/sale/flat/233965925/  2023-03-24   \n",
       "4                 13  https://anapa.cian.ru/sale/flat/239179225/  2023-03-24   \n",
       "...              ...                                         ...         ...   \n",
       "101775             5  https://tomsk.cian.ru/sale/flat/285075402/  2023-03-24   \n",
       "101776             5  https://tomsk.cian.ru/sale/flat/285075572/  2023-03-24   \n",
       "101777             6  https://tomsk.cian.ru/sale/flat/285076163/  2023-03-24   \n",
       "101778            10  https://tomsk.cian.ru/sale/flat/285076291/  2023-03-24   \n",
       "101779             5  https://tomsk.cian.ru/sale/flat/285076712/  2023-03-24   \n",
       "\n",
       "       status  version              offer_from  status_new  \n",
       "0        None      270             Собственник           1  \n",
       "1        None      270                 Риелтор           1  \n",
       "2        None      270                 Риелтор           1  \n",
       "3        None      270  Агентство недвижимости           1  \n",
       "4        None      270             Собственник           1  \n",
       "...       ...      ...                     ...         ...  \n",
       "101775   None      270  Агентство недвижимости           1  \n",
       "101776   None      270  Агентство недвижимости           1  \n",
       "101777   None      270  Агентство недвижимости           1  \n",
       "101778   None      270  Агентство недвижимости           1  \n",
       "101779   None      270                 Риелтор           1  \n",
       "\n",
       "[90223 rows x 15 columns]"
      ]
     },
     "execution_count": 220,
     "metadata": {},
     "output_type": "execute_result"
    },
    {
     "name": "stderr",
     "output_type": "stream",
     "text": [
      "2023-03-24 16:47:03,158| ERROR   | Socket exception: Удаленный хост принудительно разорвал существующее подключение (10054)\n"
     ]
    }
   ],
   "source": [
    "cian_realty"
   ]
  },
  {
   "cell_type": "code",
   "execution_count": null,
   "id": "02dc7ca1",
   "metadata": {},
   "outputs": [],
   "source": []
  },
  {
   "cell_type": "code",
   "execution_count": null,
   "id": "aff87828",
   "metadata": {},
   "outputs": [],
   "source": []
  },
  {
   "cell_type": "code",
   "execution_count": null,
   "id": "7bf11a17",
   "metadata": {},
   "outputs": [],
   "source": []
  },
  {
   "cell_type": "code",
   "execution_count": 203,
   "id": "cfbdb23d",
   "metadata": {
    "ExecuteTime": {
     "end_time": "2023-03-24T06:42:06.465434Z",
     "start_time": "2023-03-24T06:42:06.461408Z"
    }
   },
   "outputs": [],
   "source": [
    "def test_rn_mkrn(realty_row, all_districts):\n",
    "    current_rn = None\n",
    "    current_mkrn = None\n",
    "    for addr_part in realty_row.addr.split(';')[:3]:\n",
    "        if 'мкр.' in addr_part:\n",
    "            current_mkrn = addr_part.replace(' мкр. ', '')\n",
    "        elif 'р-н' in addr_part:\n",
    "            current_rn = addr_part.replace(' р-н ', '')\n",
    "        else:\n",
    "            pass\n",
    "    if current_rn == None and current_mkrn == None:\n",
    "        return None\n",
    "    else:\n",
    "        district_name = current_mkrn if current_mkrn != None else current_rn\n",
    "        print(current_rn)\n",
    "        print(current_mkrn)\n",
    "        print(district_name)\n",
    "        district_intersection = all_districts[(all_districts.city_id == realty_row.city_id) & (all_districts.name == district_name)]\n",
    "        if len(district_intersection) == 0:\n",
    "            return district_name\n",
    "            # add row to new_district_df\n",
    "        else:\n",
    "            print('asd')\n",
    "            return district_intersection.iloc[0,0]"
   ]
  },
  {
   "cell_type": "code",
   "execution_count": 206,
   "id": "bc686af3",
   "metadata": {
    "ExecuteTime": {
     "end_time": "2023-03-24T06:42:54.994253Z",
     "start_time": "2023-03-24T06:42:54.988123Z"
    }
   },
   "outputs": [
    {
     "data": {
      "text/plain": [
       "source_id                                                       2\n",
       "ad_id                                                   285076712\n",
       "city_id                                                        17\n",
       "district_id                                             Советский\n",
       "type_id                                                         4\n",
       "addr            Томская область; Томск; р-н Советский; улица К...\n",
       "square                                                       46.0\n",
       "floor                                                           4\n",
       "house_floors                                                    5\n",
       "link                   https://tomsk.cian.ru/sale/flat/285076712/\n",
       "date                                                   2023-03-24\n",
       "status                                                       None\n",
       "version                                                       270\n",
       "offer_from                                                Риелтор\n",
       "status_new                                                      1\n",
       "Name: 101779, dtype: object"
      ]
     },
     "execution_count": 206,
     "metadata": {},
     "output_type": "execute_result"
    }
   ],
   "source": [
    "cian_realty.iloc[-1,:]"
   ]
  },
  {
   "cell_type": "code",
   "execution_count": 204,
   "id": "cd7ec56d",
   "metadata": {
    "ExecuteTime": {
     "end_time": "2023-03-24T06:42:06.900145Z",
     "start_time": "2023-03-24T06:42:06.895963Z"
    }
   },
   "outputs": [
    {
     "name": "stdout",
     "output_type": "stream",
     "text": [
      " Советский\n",
      "None\n",
      " Советский\n",
      " Советский\n"
     ]
    }
   ],
   "source": [
    "print(test_rn_mkrn(cian_realty.iloc[-1,:], all_districts))"
   ]
  },
  {
   "cell_type": "code",
   "execution_count": 208,
   "id": "53fc88e2",
   "metadata": {
    "ExecuteTime": {
     "end_time": "2023-03-24T06:43:17.169571Z",
     "start_time": "2023-03-24T06:43:17.165043Z"
    }
   },
   "outputs": [
    {
     "data": {
      "text/plain": [
       "'Советский'"
      ]
     },
     "execution_count": 208,
     "metadata": {},
     "output_type": "execute_result"
    }
   ],
   "source": [
    "all_districts[all_districts.city_id == 17].iloc[2,2]"
   ]
  },
  {
   "cell_type": "code",
   "execution_count": 190,
   "id": "9a892e26",
   "metadata": {
    "ExecuteTime": {
     "end_time": "2023-03-24T06:37:15.262323Z",
     "start_time": "2023-03-24T06:37:15.259236Z"
    }
   },
   "outputs": [],
   "source": [
    "def tryx(x):\n",
    "    try:\n",
    "        _ = int(x)\n",
    "        return True\n",
    "    except:\n",
    "        return False"
   ]
  },
  {
   "cell_type": "code",
   "execution_count": 191,
   "id": "22cdbfc9",
   "metadata": {
    "ExecuteTime": {
     "end_time": "2023-03-24T06:37:22.431905Z",
     "start_time": "2023-03-24T06:37:22.341666Z"
    }
   },
   "outputs": [
    {
     "data": {
      "text/html": [
       "<div>\n",
       "<style scoped>\n",
       "    .dataframe tbody tr th:only-of-type {\n",
       "        vertical-align: middle;\n",
       "    }\n",
       "\n",
       "    .dataframe tbody tr th {\n",
       "        vertical-align: top;\n",
       "    }\n",
       "\n",
       "    .dataframe thead th {\n",
       "        text-align: right;\n",
       "    }\n",
       "</style>\n",
       "<table border=\"1\" class=\"dataframe\">\n",
       "  <thead>\n",
       "    <tr style=\"text-align: right;\">\n",
       "      <th></th>\n",
       "      <th>source_id</th>\n",
       "      <th>ad_id</th>\n",
       "      <th>city_id</th>\n",
       "      <th>district_id</th>\n",
       "      <th>type_id</th>\n",
       "      <th>addr</th>\n",
       "      <th>square</th>\n",
       "      <th>floor</th>\n",
       "      <th>house_floors</th>\n",
       "      <th>link</th>\n",
       "      <th>date</th>\n",
       "      <th>status</th>\n",
       "      <th>version</th>\n",
       "      <th>offer_from</th>\n",
       "      <th>status_new</th>\n",
       "    </tr>\n",
       "  </thead>\n",
       "  <tbody>\n",
       "  </tbody>\n",
       "</table>\n",
       "</div>"
      ],
      "text/plain": [
       "Empty DataFrame\n",
       "Columns: [source_id, ad_id, city_id, district_id, type_id, addr, square, floor, house_floors, link, date, status, version, offer_from, status_new]\n",
       "Index: []"
      ]
     },
     "execution_count": 191,
     "metadata": {},
     "output_type": "execute_result"
    }
   ],
   "source": [
    "cian_realty[cian_realty.district_id.apply(lambda x: tryx(x))]"
   ]
  },
  {
   "cell_type": "code",
   "execution_count": null,
   "id": "a73ccb60",
   "metadata": {},
   "outputs": [],
   "source": []
  },
  {
   "cell_type": "code",
   "execution_count": null,
   "id": "ea85140b",
   "metadata": {},
   "outputs": [],
   "source": []
  },
  {
   "cell_type": "code",
   "execution_count": null,
   "id": "98b84b7f",
   "metadata": {},
   "outputs": [],
   "source": []
  },
  {
   "cell_type": "code",
   "execution_count": null,
   "id": "442ab93d",
   "metadata": {},
   "outputs": [],
   "source": [
    "a['floor'],  a['house_floors'] = zip(*a['Этаж'].apply(floor_floors_from_etazh))"
   ]
  },
  {
   "cell_type": "code",
   "execution_count": null,
   "id": "af581c65",
   "metadata": {},
   "outputs": [],
   "source": []
  },
  {
   "cell_type": "code",
   "execution_count": null,
   "id": "20cd22be",
   "metadata": {},
   "outputs": [],
   "source": []
  },
  {
   "cell_type": "code",
   "execution_count": 89,
   "id": "fb638071",
   "metadata": {
    "ExecuteTime": {
     "end_time": "2023-03-24T05:05:02.157920Z",
     "start_time": "2023-03-24T05:05:02.103375Z"
    }
   },
   "outputs": [
    {
     "data": {
      "text/plain": [
       "8576      True\n",
       "8577      True\n",
       "8578      True\n",
       "8579      True\n",
       "8580      True\n",
       "          ... \n",
       "101775    True\n",
       "101776    True\n",
       "101777    True\n",
       "101778    True\n",
       "101779    True\n",
       "Name: addr, Length: 66956, dtype: bool"
      ]
     },
     "execution_count": 89,
     "metadata": {},
     "output_type": "execute_result"
    }
   ],
   "source": [
    "cian_rm.addr.apply(lambda x: 'р-н' in x.split(';')[2])"
   ]
  },
  {
   "cell_type": "code",
   "execution_count": 90,
   "id": "c14fc85a",
   "metadata": {
    "ExecuteTime": {
     "end_time": "2023-03-24T05:05:18.550323Z",
     "start_time": "2023-03-24T05:05:18.540893Z"
    }
   },
   "outputs": [
    {
     "data": {
      "text/plain": [
       "8576      True\n",
       "8577      True\n",
       "8578      True\n",
       "8579      True\n",
       "8580      True\n",
       "          ... \n",
       "101775    True\n",
       "101776    True\n",
       "101777    True\n",
       "101778    True\n",
       "101779    True\n",
       "Name: raion, Length: 66956, dtype: bool"
      ]
     },
     "execution_count": 90,
     "metadata": {},
     "output_type": "execute_result"
    }
   ],
   "source": [
    "~cian_rm.raion.isna()"
   ]
  },
  {
   "cell_type": "code",
   "execution_count": 94,
   "id": "0f90b5a9",
   "metadata": {
    "ExecuteTime": {
     "end_time": "2023-03-24T05:05:47.771405Z",
     "start_time": "2023-03-24T05:05:47.720231Z"
    }
   },
   "outputs": [
    {
     "data": {
      "text/html": [
       "<div>\n",
       "<style scoped>\n",
       "    .dataframe tbody tr th:only-of-type {\n",
       "        vertical-align: middle;\n",
       "    }\n",
       "\n",
       "    .dataframe tbody tr th {\n",
       "        vertical-align: top;\n",
       "    }\n",
       "\n",
       "    .dataframe thead th {\n",
       "        text-align: right;\n",
       "    }\n",
       "</style>\n",
       "<table border=\"1\" class=\"dataframe\">\n",
       "  <thead>\n",
       "    <tr style=\"text-align: right;\">\n",
       "      <th></th>\n",
       "      <th>city</th>\n",
       "      <th>raion</th>\n",
       "      <th>mikroraion</th>\n",
       "      <th>addr</th>\n",
       "    </tr>\n",
       "  </thead>\n",
       "  <tbody>\n",
       "  </tbody>\n",
       "</table>\n",
       "</div>"
      ],
      "text/plain": [
       "Empty DataFrame\n",
       "Columns: [city, raion, mikroraion, addr]\n",
       "Index: []"
      ]
     },
     "execution_count": 94,
     "metadata": {},
     "output_type": "execute_result"
    }
   ],
   "source": [
    "cian_rm[(cian_rm.raion.isna()) & (cian_rm.addr.apply(lambda x: 'р-н' in x.split(';')[2]))]"
   ]
  },
  {
   "cell_type": "code",
   "execution_count": 100,
   "id": "47394f3b",
   "metadata": {
    "ExecuteTime": {
     "end_time": "2023-03-24T05:07:32.198807Z",
     "start_time": "2023-03-24T05:07:32.139230Z"
    }
   },
   "outputs": [
    {
     "data": {
      "text/html": [
       "<div>\n",
       "<style scoped>\n",
       "    .dataframe tbody tr th:only-of-type {\n",
       "        vertical-align: middle;\n",
       "    }\n",
       "\n",
       "    .dataframe tbody tr th {\n",
       "        vertical-align: top;\n",
       "    }\n",
       "\n",
       "    .dataframe thead th {\n",
       "        text-align: right;\n",
       "    }\n",
       "</style>\n",
       "<table border=\"1\" class=\"dataframe\">\n",
       "  <thead>\n",
       "    <tr style=\"text-align: right;\">\n",
       "      <th></th>\n",
       "      <th>city</th>\n",
       "      <th>raion</th>\n",
       "      <th>mikroraion</th>\n",
       "      <th>addr</th>\n",
       "    </tr>\n",
       "  </thead>\n",
       "  <tbody>\n",
       "    <tr>\n",
       "      <th>63536</th>\n",
       "      <td>Новороссийск</td>\n",
       "      <td>NaN</td>\n",
       "      <td>Южный</td>\n",
       "      <td>Краснодарский край; Новороссийск; мкр. Южный; ...</td>\n",
       "    </tr>\n",
       "    <tr>\n",
       "      <th>63537</th>\n",
       "      <td>Новороссийск</td>\n",
       "      <td>NaN</td>\n",
       "      <td>Южный</td>\n",
       "      <td>Краснодарский край; Новороссийск; мкр. Южный; ...</td>\n",
       "    </tr>\n",
       "    <tr>\n",
       "      <th>63538</th>\n",
       "      <td>Новороссийск</td>\n",
       "      <td>NaN</td>\n",
       "      <td>Приморский</td>\n",
       "      <td>Краснодарский край; Новороссийск; мкр. Приморс...</td>\n",
       "    </tr>\n",
       "    <tr>\n",
       "      <th>63539</th>\n",
       "      <td>Новороссийск</td>\n",
       "      <td>NaN</td>\n",
       "      <td>Южный</td>\n",
       "      <td>Краснодарский край; Новороссийск; мкр. Южный; ...</td>\n",
       "    </tr>\n",
       "    <tr>\n",
       "      <th>63540</th>\n",
       "      <td>Новороссийск</td>\n",
       "      <td>NaN</td>\n",
       "      <td>Приморский</td>\n",
       "      <td>Краснодарский край; Новороссийск; мкр. Приморс...</td>\n",
       "    </tr>\n",
       "    <tr>\n",
       "      <th>...</th>\n",
       "      <td>...</td>\n",
       "      <td>...</td>\n",
       "      <td>...</td>\n",
       "      <td>...</td>\n",
       "    </tr>\n",
       "    <tr>\n",
       "      <th>68869</th>\n",
       "      <td>Новороссийск</td>\n",
       "      <td>NaN</td>\n",
       "      <td>Приморский</td>\n",
       "      <td>Краснодарский край; Новороссийск; мкр. Приморс...</td>\n",
       "    </tr>\n",
       "    <tr>\n",
       "      <th>68870</th>\n",
       "      <td>Новороссийск</td>\n",
       "      <td>NaN</td>\n",
       "      <td>Южный</td>\n",
       "      <td>Краснодарский край; Новороссийск; мкр. Южный; ...</td>\n",
       "    </tr>\n",
       "    <tr>\n",
       "      <th>68871</th>\n",
       "      <td>Новороссийск</td>\n",
       "      <td>NaN</td>\n",
       "      <td>Южный</td>\n",
       "      <td>Краснодарский край; Новороссийск; мкр. Южный; ...</td>\n",
       "    </tr>\n",
       "    <tr>\n",
       "      <th>68872</th>\n",
       "      <td>Новороссийск</td>\n",
       "      <td>NaN</td>\n",
       "      <td>Южный</td>\n",
       "      <td>Краснодарский край; Новороссийск; мкр. Южный; ...</td>\n",
       "    </tr>\n",
       "    <tr>\n",
       "      <th>68873</th>\n",
       "      <td>Новороссийск</td>\n",
       "      <td>NaN</td>\n",
       "      <td>Южный</td>\n",
       "      <td>Краснодарский край; Новороссийск; мкр. Южный; ...</td>\n",
       "    </tr>\n",
       "  </tbody>\n",
       "</table>\n",
       "<p>5329 rows × 4 columns</p>\n",
       "</div>"
      ],
      "text/plain": [
       "               city raion  mikroraion  \\\n",
       "63536  Новороссийск   NaN       Южный   \n",
       "63537  Новороссийск   NaN       Южный   \n",
       "63538  Новороссийск   NaN  Приморский   \n",
       "63539  Новороссийск   NaN       Южный   \n",
       "63540  Новороссийск   NaN  Приморский   \n",
       "...             ...   ...         ...   \n",
       "68869  Новороссийск   NaN  Приморский   \n",
       "68870  Новороссийск   NaN       Южный   \n",
       "68871  Новороссийск   NaN       Южный   \n",
       "68872  Новороссийск   NaN       Южный   \n",
       "68873  Новороссийск   NaN       Южный   \n",
       "\n",
       "                                                    addr  \n",
       "63536  Краснодарский край; Новороссийск; мкр. Южный; ...  \n",
       "63537  Краснодарский край; Новороссийск; мкр. Южный; ...  \n",
       "63538  Краснодарский край; Новороссийск; мкр. Приморс...  \n",
       "63539  Краснодарский край; Новороссийск; мкр. Южный; ...  \n",
       "63540  Краснодарский край; Новороссийск; мкр. Приморс...  \n",
       "...                                                  ...  \n",
       "68869  Краснодарский край; Новороссийск; мкр. Приморс...  \n",
       "68870  Краснодарский край; Новороссийск; мкр. Южный; ...  \n",
       "68871  Краснодарский край; Новороссийск; мкр. Южный; ...  \n",
       "68872  Краснодарский край; Новороссийск; мкр. Южный; ...  \n",
       "68873  Краснодарский край; Новороссийск; мкр. Южный; ...  \n",
       "\n",
       "[5329 rows x 4 columns]"
      ]
     },
     "execution_count": 100,
     "metadata": {},
     "output_type": "execute_result"
    }
   ],
   "source": [
    "cian_rm[(~cian_rm.mikroraion.isna()) & (cian_rm.addr.apply(lambda x: 'мкр' in x.split(';')[2]))]"
   ]
  },
  {
   "cell_type": "code",
   "execution_count": 120,
   "id": "1eaba7d5",
   "metadata": {
    "ExecuteTime": {
     "end_time": "2023-03-24T05:15:20.726029Z",
     "start_time": "2023-03-24T05:15:20.720163Z"
    }
   },
   "outputs": [],
   "source": [
    "def rn_mkrn(addr_str):\n",
    "    try:\n",
    "        if 'мкр' in addr_str.split(';')[3]:\n",
    "            return True\n",
    "        else:\n",
    "            return False\n",
    "    except:\n",
    "        if 'мкр' in addr_str.split(';')[2]:\n",
    "            return True\n",
    "        else:\n",
    "            return False"
   ]
  },
  {
   "cell_type": "code",
   "execution_count": 121,
   "id": "53c8a9a7",
   "metadata": {
    "ExecuteTime": {
     "end_time": "2023-03-24T05:15:24.113658Z",
     "start_time": "2023-03-24T05:15:24.049238Z"
    }
   },
   "outputs": [
    {
     "data": {
      "text/plain": [
       "True"
      ]
     },
     "execution_count": 121,
     "metadata": {},
     "output_type": "execute_result"
    }
   ],
   "source": [
    "'мкр' in cian_rm[(cian_rm.mikroraion.isna()) & (cian_rm.addr.apply(lambda x: mkr_3rd(x)))].iloc[100,-1].split(';')[3]"
   ]
  },
  {
   "cell_type": "code",
   "execution_count": 125,
   "id": "a79715e8",
   "metadata": {
    "ExecuteTime": {
     "end_time": "2023-03-24T05:23:12.119774Z",
     "start_time": "2023-03-24T05:23:12.042477Z"
    }
   },
   "outputs": [
    {
     "data": {
      "text/plain": [
       "'Краснодарский край; Сочи; р-н Хостинский; Бытха мкр; улица Ясногорская; 16/6к3'"
      ]
     },
     "execution_count": 125,
     "metadata": {},
     "output_type": "execute_result"
    },
    {
     "name": "stderr",
     "output_type": "stream",
     "text": [
      "2023-03-24 15:26:41,032| ERROR   | Socket exception: Удаленный хост принудительно разорвал существующее подключение (10054)\n"
     ]
    }
   ],
   "source": [
    "cian_rm[(cian_rm.mikroraion.isna()) & (cian_rm.addr.apply(lambda x: mkr_3rd(x)))].iloc[100,-1]"
   ]
  },
  {
   "cell_type": "code",
   "execution_count": null,
   "id": "13e7ed8e",
   "metadata": {},
   "outputs": [],
   "source": []
  },
  {
   "cell_type": "code",
   "execution_count": null,
   "id": "129b22e8",
   "metadata": {},
   "outputs": [],
   "source": []
  },
  {
   "cell_type": "code",
   "execution_count": null,
   "id": "1ae3f3f1",
   "metadata": {},
   "outputs": [],
   "source": []
  },
  {
   "cell_type": "code",
   "execution_count": null,
   "id": "9e2ea048",
   "metadata": {},
   "outputs": [],
   "source": []
  },
  {
   "cell_type": "code",
   "execution_count": 76,
   "id": "92369020",
   "metadata": {
    "ExecuteTime": {
     "end_time": "2023-03-24T04:45:39.691551Z",
     "start_time": "2023-03-24T04:45:39.679641Z"
    }
   },
   "outputs": [
    {
     "data": {
      "text/html": [
       "<div>\n",
       "<style scoped>\n",
       "    .dataframe tbody tr th:only-of-type {\n",
       "        vertical-align: middle;\n",
       "    }\n",
       "\n",
       "    .dataframe tbody tr th {\n",
       "        vertical-align: top;\n",
       "    }\n",
       "\n",
       "    .dataframe thead th {\n",
       "        text-align: right;\n",
       "    }\n",
       "</style>\n",
       "<table border=\"1\" class=\"dataframe\">\n",
       "  <thead>\n",
       "    <tr style=\"text-align: right;\">\n",
       "      <th></th>\n",
       "      <th>source_id</th>\n",
       "      <th>ad_id</th>\n",
       "      <th>city_id</th>\n",
       "      <th>district_id</th>\n",
       "      <th>type_id</th>\n",
       "      <th>addr</th>\n",
       "      <th>square</th>\n",
       "      <th>floor</th>\n",
       "      <th>house_floors</th>\n",
       "      <th>link</th>\n",
       "      <th>date</th>\n",
       "      <th>status</th>\n",
       "      <th>version</th>\n",
       "      <th>offer_from</th>\n",
       "      <th>status_new</th>\n",
       "    </tr>\n",
       "  </thead>\n",
       "  <tbody>\n",
       "    <tr>\n",
       "      <th>0</th>\n",
       "      <td>2</td>\n",
       "      <td>210197059</td>\n",
       "      <td>5</td>\n",
       "      <td>None</td>\n",
       "      <td>5</td>\n",
       "      <td>Краснодарский край; Анапа; улица Горького; 2А</td>\n",
       "      <td>107.0</td>\n",
       "      <td>7</td>\n",
       "      <td>12</td>\n",
       "      <td>https://anapa.cian.ru/sale/flat/210197059/</td>\n",
       "      <td>2023-03-24</td>\n",
       "      <td>None</td>\n",
       "      <td>270</td>\n",
       "      <td>Собственник</td>\n",
       "      <td>1</td>\n",
       "    </tr>\n",
       "    <tr>\n",
       "      <th>1</th>\n",
       "      <td>2</td>\n",
       "      <td>213575526</td>\n",
       "      <td>5</td>\n",
       "      <td>None</td>\n",
       "      <td>5</td>\n",
       "      <td>Краснодарский край; Анапа; улица Краснозеленых...</td>\n",
       "      <td>106.0</td>\n",
       "      <td>6</td>\n",
       "      <td>7</td>\n",
       "      <td>https://anapa.cian.ru/sale/flat/213575526/</td>\n",
       "      <td>2023-03-24</td>\n",
       "      <td>None</td>\n",
       "      <td>270</td>\n",
       "      <td>Риелтор</td>\n",
       "      <td>1</td>\n",
       "    </tr>\n",
       "    <tr>\n",
       "      <th>2</th>\n",
       "      <td>2</td>\n",
       "      <td>232012292</td>\n",
       "      <td>5</td>\n",
       "      <td>None</td>\n",
       "      <td>2</td>\n",
       "      <td>Краснодарский край; Анапа; улица Ленина; 194</td>\n",
       "      <td>20.0</td>\n",
       "      <td>1</td>\n",
       "      <td>9</td>\n",
       "      <td>https://anapa.cian.ru/sale/flat/232012292/</td>\n",
       "      <td>2023-03-24</td>\n",
       "      <td>None</td>\n",
       "      <td>270</td>\n",
       "      <td>Риелтор</td>\n",
       "      <td>1</td>\n",
       "    </tr>\n",
       "    <tr>\n",
       "      <th>3</th>\n",
       "      <td>2</td>\n",
       "      <td>233965925</td>\n",
       "      <td>5</td>\n",
       "      <td>None</td>\n",
       "      <td>3</td>\n",
       "      <td>Краснодарский край; Анапа; улица Толстого; 81</td>\n",
       "      <td>29.0</td>\n",
       "      <td>1</td>\n",
       "      <td>3</td>\n",
       "      <td>https://anapa.cian.ru/sale/flat/233965925/</td>\n",
       "      <td>2023-03-24</td>\n",
       "      <td>None</td>\n",
       "      <td>270</td>\n",
       "      <td>Агентство недвижимости</td>\n",
       "      <td>1</td>\n",
       "    </tr>\n",
       "    <tr>\n",
       "      <th>4</th>\n",
       "      <td>2</td>\n",
       "      <td>239179225</td>\n",
       "      <td>5</td>\n",
       "      <td>None</td>\n",
       "      <td>7</td>\n",
       "      <td>Краснодарский край; Анапа; Владимирская улица;...</td>\n",
       "      <td>140.0</td>\n",
       "      <td>13</td>\n",
       "      <td>13</td>\n",
       "      <td>https://anapa.cian.ru/sale/flat/239179225/</td>\n",
       "      <td>2023-03-24</td>\n",
       "      <td>None</td>\n",
       "      <td>270</td>\n",
       "      <td>Собственник</td>\n",
       "      <td>1</td>\n",
       "    </tr>\n",
       "  </tbody>\n",
       "</table>\n",
       "</div>"
      ],
      "text/plain": [
       "   source_id      ad_id  city_id district_id type_id  \\\n",
       "0          2  210197059        5        None       5   \n",
       "1          2  213575526        5        None       5   \n",
       "2          2  232012292        5        None       2   \n",
       "3          2  233965925        5        None       3   \n",
       "4          2  239179225        5        None       7   \n",
       "\n",
       "                                                addr  square  floor  \\\n",
       "0      Краснодарский край; Анапа; улица Горького; 2А   107.0      7   \n",
       "1  Краснодарский край; Анапа; улица Краснозеленых...   106.0      6   \n",
       "2       Краснодарский край; Анапа; улица Ленина; 194    20.0      1   \n",
       "3      Краснодарский край; Анапа; улица Толстого; 81    29.0      1   \n",
       "4  Краснодарский край; Анапа; Владимирская улица;...   140.0     13   \n",
       "\n",
       "   house_floors                                        link        date  \\\n",
       "0            12  https://anapa.cian.ru/sale/flat/210197059/  2023-03-24   \n",
       "1             7  https://anapa.cian.ru/sale/flat/213575526/  2023-03-24   \n",
       "2             9  https://anapa.cian.ru/sale/flat/232012292/  2023-03-24   \n",
       "3             3  https://anapa.cian.ru/sale/flat/233965925/  2023-03-24   \n",
       "4            13  https://anapa.cian.ru/sale/flat/239179225/  2023-03-24   \n",
       "\n",
       "  status  version              offer_from  status_new  \n",
       "0   None      270             Собственник           1  \n",
       "1   None      270                 Риелтор           1  \n",
       "2   None      270                 Риелтор           1  \n",
       "3   None      270  Агентство недвижимости           1  \n",
       "4   None      270             Собственник           1  "
      ]
     },
     "execution_count": 76,
     "metadata": {},
     "output_type": "execute_result"
    }
   ],
   "source": [
    "cian_realty.head(5)"
   ]
  },
  {
   "cell_type": "code",
   "execution_count": null,
   "id": "632b7cef",
   "metadata": {},
   "outputs": [],
   "source": []
  },
  {
   "cell_type": "code",
   "execution_count": null,
   "id": "c0300a3b",
   "metadata": {},
   "outputs": [],
   "source": []
  },
  {
   "cell_type": "code",
   "execution_count": null,
   "id": "218d1aea",
   "metadata": {},
   "outputs": [],
   "source": []
  },
  {
   "cell_type": "code",
   "execution_count": null,
   "id": "43a278db",
   "metadata": {},
   "outputs": [],
   "source": [
    "st_time = datetime.now()\n",
    "cian_realty.to_sql(name='realty', con=sql_engine, if_exists='append', chunksize=7000, method='multi', index=False)\n",
    "print(len(realty_table), datetime.now() - st_time)"
   ]
  },
  {
   "cell_type": "markdown",
   "id": "2be0216c",
   "metadata": {},
   "source": [
    "# dev prices cian"
   ]
  },
  {
   "cell_type": "code",
   "execution_count": 83,
   "id": "1e6fa590",
   "metadata": {},
   "outputs": [],
   "source": [
    "# realty_id"
   ]
  },
  {
   "cell_type": "code",
   "execution_count": 86,
   "id": "8fa31ac7",
   "metadata": {},
   "outputs": [
    {
     "data": {
      "text/html": [
       "<div>\n",
       "<style scoped>\n",
       "    .dataframe tbody tr th:only-of-type {\n",
       "        vertical-align: middle;\n",
       "    }\n",
       "\n",
       "    .dataframe tbody tr th {\n",
       "        vertical-align: top;\n",
       "    }\n",
       "\n",
       "    .dataframe thead th {\n",
       "        text-align: right;\n",
       "    }\n",
       "</style>\n",
       "<table border=\"1\" class=\"dataframe\">\n",
       "  <thead>\n",
       "    <tr style=\"text-align: right;\">\n",
       "      <th></th>\n",
       "      <th>source</th>\n",
       "      <th>ad_id</th>\n",
       "      <th>addr</th>\n",
       "      <th>city</th>\n",
       "      <th>raion</th>\n",
       "      <th>mikroraion</th>\n",
       "      <th>square</th>\n",
       "      <th>floor</th>\n",
       "      <th>house_floors</th>\n",
       "      <th>type</th>\n",
       "      <th>link</th>\n",
       "      <th>price</th>\n",
       "      <th>price_sqrm</th>\n",
       "      <th>offer_from</th>\n",
       "      <th>date</th>\n",
       "    </tr>\n",
       "  </thead>\n",
       "  <tbody>\n",
       "    <tr>\n",
       "      <th>0</th>\n",
       "      <td>cian</td>\n",
       "      <td>210197059</td>\n",
       "      <td>Краснодарский край; Анапа; улица Горького; 2А</td>\n",
       "      <td>Анапа</td>\n",
       "      <td>NaN</td>\n",
       "      <td>NaN</td>\n",
       "      <td>107.0</td>\n",
       "      <td>7</td>\n",
       "      <td>12</td>\n",
       "      <td>3 комн</td>\n",
       "      <td>https://anapa.cian.ru/sale/flat/210197059/</td>\n",
       "      <td>25000000</td>\n",
       "      <td>233645</td>\n",
       "      <td>Собственник</td>\n",
       "      <td>2019-06-16 19:18:17</td>\n",
       "    </tr>\n",
       "    <tr>\n",
       "      <th>1</th>\n",
       "      <td>cian</td>\n",
       "      <td>213575526</td>\n",
       "      <td>Краснодарский край; Анапа; улица Краснозеленых...</td>\n",
       "      <td>Анапа</td>\n",
       "      <td>NaN</td>\n",
       "      <td>NaN</td>\n",
       "      <td>106.0</td>\n",
       "      <td>6</td>\n",
       "      <td>7</td>\n",
       "      <td>3 комн</td>\n",
       "      <td>https://anapa.cian.ru/sale/flat/213575526/</td>\n",
       "      <td>10100000</td>\n",
       "      <td>95283</td>\n",
       "      <td>Риелтор</td>\n",
       "      <td>2019-07-26 11:52:55</td>\n",
       "    </tr>\n",
       "    <tr>\n",
       "      <th>2</th>\n",
       "      <td>cian</td>\n",
       "      <td>232012292</td>\n",
       "      <td>Краснодарский край; Анапа; улица Ленина; 194</td>\n",
       "      <td>Анапа</td>\n",
       "      <td>NaN</td>\n",
       "      <td>NaN</td>\n",
       "      <td>20.0</td>\n",
       "      <td>1</td>\n",
       "      <td>9</td>\n",
       "      <td>Студия</td>\n",
       "      <td>https://anapa.cian.ru/sale/flat/232012292/</td>\n",
       "      <td>2100000</td>\n",
       "      <td>105000</td>\n",
       "      <td>Риелтор</td>\n",
       "      <td>2020-05-14 15:01:50</td>\n",
       "    </tr>\n",
       "    <tr>\n",
       "      <th>3</th>\n",
       "      <td>cian</td>\n",
       "      <td>233965925</td>\n",
       "      <td>Краснодарский край; Анапа; улица Толстого; 81</td>\n",
       "      <td>Анапа</td>\n",
       "      <td>NaN</td>\n",
       "      <td>NaN</td>\n",
       "      <td>29.0</td>\n",
       "      <td>1</td>\n",
       "      <td>3</td>\n",
       "      <td>1 комн</td>\n",
       "      <td>https://anapa.cian.ru/sale/flat/233965925/</td>\n",
       "      <td>4500000</td>\n",
       "      <td>155172</td>\n",
       "      <td>Агентство недвижимости</td>\n",
       "      <td>2020-06-08 14:04:52</td>\n",
       "    </tr>\n",
       "    <tr>\n",
       "      <th>4</th>\n",
       "      <td>cian</td>\n",
       "      <td>239179225</td>\n",
       "      <td>Краснодарский край; Анапа; Владимирская улица;...</td>\n",
       "      <td>Анапа</td>\n",
       "      <td>NaN</td>\n",
       "      <td>NaN</td>\n",
       "      <td>140.0</td>\n",
       "      <td>13</td>\n",
       "      <td>13</td>\n",
       "      <td>5 комн</td>\n",
       "      <td>https://anapa.cian.ru/sale/flat/239179225/</td>\n",
       "      <td>15300000</td>\n",
       "      <td>109286</td>\n",
       "      <td>Собственник</td>\n",
       "      <td>2020-08-17 16:40:04</td>\n",
       "    </tr>\n",
       "    <tr>\n",
       "      <th>...</th>\n",
       "      <td>...</td>\n",
       "      <td>...</td>\n",
       "      <td>...</td>\n",
       "      <td>...</td>\n",
       "      <td>...</td>\n",
       "      <td>...</td>\n",
       "      <td>...</td>\n",
       "      <td>...</td>\n",
       "      <td>...</td>\n",
       "      <td>...</td>\n",
       "      <td>...</td>\n",
       "      <td>...</td>\n",
       "      <td>...</td>\n",
       "      <td>...</td>\n",
       "      <td>...</td>\n",
       "    </tr>\n",
       "    <tr>\n",
       "      <th>101775</th>\n",
       "      <td>cian</td>\n",
       "      <td>285075402</td>\n",
       "      <td>Томская область; Томск; р-н Советский; проспек...</td>\n",
       "      <td>Томск</td>\n",
       "      <td>Советский</td>\n",
       "      <td>NaN</td>\n",
       "      <td>18.0</td>\n",
       "      <td>5</td>\n",
       "      <td>5</td>\n",
       "      <td>1 комн</td>\n",
       "      <td>https://tomsk.cian.ru/sale/flat/285075402/</td>\n",
       "      <td>1950000</td>\n",
       "      <td>108333</td>\n",
       "      <td>Агентство недвижимости</td>\n",
       "      <td>2023-03-21 12:35:00</td>\n",
       "    </tr>\n",
       "    <tr>\n",
       "      <th>101776</th>\n",
       "      <td>cian</td>\n",
       "      <td>285075572</td>\n",
       "      <td>Томская область; Томск; р-н Советский; улица Ш...</td>\n",
       "      <td>Томск</td>\n",
       "      <td>Советский</td>\n",
       "      <td>NaN</td>\n",
       "      <td>16.5</td>\n",
       "      <td>2</td>\n",
       "      <td>5</td>\n",
       "      <td>1 комн</td>\n",
       "      <td>https://tomsk.cian.ru/sale/flat/285075572/</td>\n",
       "      <td>2000000</td>\n",
       "      <td>121212</td>\n",
       "      <td>Агентство недвижимости</td>\n",
       "      <td>2023-03-21 12:39:13</td>\n",
       "    </tr>\n",
       "    <tr>\n",
       "      <th>101777</th>\n",
       "      <td>cian</td>\n",
       "      <td>285076163</td>\n",
       "      <td>Томская область; Томск; р-н Ленинский; улица Р...</td>\n",
       "      <td>Томск</td>\n",
       "      <td>Ленинский</td>\n",
       "      <td>NaN</td>\n",
       "      <td>48.0</td>\n",
       "      <td>5</td>\n",
       "      <td>6</td>\n",
       "      <td>2 комн</td>\n",
       "      <td>https://tomsk.cian.ru/sale/flat/285076163/</td>\n",
       "      <td>4350000</td>\n",
       "      <td>90625</td>\n",
       "      <td>Агентство недвижимости</td>\n",
       "      <td>2023-03-21 12:48:54</td>\n",
       "    </tr>\n",
       "    <tr>\n",
       "      <th>101778</th>\n",
       "      <td>cian</td>\n",
       "      <td>285076291</td>\n",
       "      <td>Томская область; Томск; р-н Ленинский; Черемош...</td>\n",
       "      <td>Томск</td>\n",
       "      <td>Ленинский</td>\n",
       "      <td>NaN</td>\n",
       "      <td>39.0</td>\n",
       "      <td>4</td>\n",
       "      <td>10</td>\n",
       "      <td>1 комн</td>\n",
       "      <td>https://tomsk.cian.ru/sale/flat/285076291/</td>\n",
       "      <td>3680000</td>\n",
       "      <td>94359</td>\n",
       "      <td>Агентство недвижимости</td>\n",
       "      <td>2023-03-21 12:51:15</td>\n",
       "    </tr>\n",
       "    <tr>\n",
       "      <th>101779</th>\n",
       "      <td>cian</td>\n",
       "      <td>285076712</td>\n",
       "      <td>Томская область; Томск; р-н Советский; улица К...</td>\n",
       "      <td>Томск</td>\n",
       "      <td>Советский</td>\n",
       "      <td>NaN</td>\n",
       "      <td>46.0</td>\n",
       "      <td>4</td>\n",
       "      <td>5</td>\n",
       "      <td>2 комн</td>\n",
       "      <td>https://tomsk.cian.ru/sale/flat/285076712/</td>\n",
       "      <td>3500000</td>\n",
       "      <td>76087</td>\n",
       "      <td>Риелтор</td>\n",
       "      <td>2023-03-21 13:01:09</td>\n",
       "    </tr>\n",
       "  </tbody>\n",
       "</table>\n",
       "<p>101780 rows × 15 columns</p>\n",
       "</div>"
      ],
      "text/plain": [
       "       source      ad_id                                               addr  \\\n",
       "0        cian  210197059      Краснодарский край; Анапа; улица Горького; 2А   \n",
       "1        cian  213575526  Краснодарский край; Анапа; улица Краснозеленых...   \n",
       "2        cian  232012292       Краснодарский край; Анапа; улица Ленина; 194   \n",
       "3        cian  233965925      Краснодарский край; Анапа; улица Толстого; 81   \n",
       "4        cian  239179225  Краснодарский край; Анапа; Владимирская улица;...   \n",
       "...       ...        ...                                                ...   \n",
       "101775   cian  285075402  Томская область; Томск; р-н Советский; проспек...   \n",
       "101776   cian  285075572  Томская область; Томск; р-н Советский; улица Ш...   \n",
       "101777   cian  285076163  Томская область; Томск; р-н Ленинский; улица Р...   \n",
       "101778   cian  285076291  Томская область; Томск; р-н Ленинский; Черемош...   \n",
       "101779   cian  285076712  Томская область; Томск; р-н Советский; улица К...   \n",
       "\n",
       "         city      raion mikroraion  square  floor  house_floors    type  \\\n",
       "0       Анапа        NaN        NaN   107.0      7            12  3 комн   \n",
       "1       Анапа        NaN        NaN   106.0      6             7  3 комн   \n",
       "2       Анапа        NaN        NaN    20.0      1             9  Студия   \n",
       "3       Анапа        NaN        NaN    29.0      1             3  1 комн   \n",
       "4       Анапа        NaN        NaN   140.0     13            13  5 комн   \n",
       "...       ...        ...        ...     ...    ...           ...     ...   \n",
       "101775  Томск  Советский        NaN    18.0      5             5  1 комн   \n",
       "101776  Томск  Советский        NaN    16.5      2             5  1 комн   \n",
       "101777  Томск  Ленинский        NaN    48.0      5             6  2 комн   \n",
       "101778  Томск  Ленинский        NaN    39.0      4            10  1 комн   \n",
       "101779  Томск  Советский        NaN    46.0      4             5  2 комн   \n",
       "\n",
       "                                              link     price  price_sqrm  \\\n",
       "0       https://anapa.cian.ru/sale/flat/210197059/  25000000      233645   \n",
       "1       https://anapa.cian.ru/sale/flat/213575526/  10100000       95283   \n",
       "2       https://anapa.cian.ru/sale/flat/232012292/   2100000      105000   \n",
       "3       https://anapa.cian.ru/sale/flat/233965925/   4500000      155172   \n",
       "4       https://anapa.cian.ru/sale/flat/239179225/  15300000      109286   \n",
       "...                                            ...       ...         ...   \n",
       "101775  https://tomsk.cian.ru/sale/flat/285075402/   1950000      108333   \n",
       "101776  https://tomsk.cian.ru/sale/flat/285075572/   2000000      121212   \n",
       "101777  https://tomsk.cian.ru/sale/flat/285076163/   4350000       90625   \n",
       "101778  https://tomsk.cian.ru/sale/flat/285076291/   3680000       94359   \n",
       "101779  https://tomsk.cian.ru/sale/flat/285076712/   3500000       76087   \n",
       "\n",
       "                    offer_from                 date  \n",
       "0                  Собственник  2019-06-16 19:18:17  \n",
       "1                      Риелтор  2019-07-26 11:52:55  \n",
       "2                      Риелтор  2020-05-14 15:01:50  \n",
       "3       Агентство недвижимости  2020-06-08 14:04:52  \n",
       "4                  Собственник  2020-08-17 16:40:04  \n",
       "...                        ...                  ...  \n",
       "101775  Агентство недвижимости  2023-03-21 12:35:00  \n",
       "101776  Агентство недвижимости  2023-03-21 12:39:13  \n",
       "101777  Агентство недвижимости  2023-03-21 12:48:54  \n",
       "101778  Агентство недвижимости  2023-03-21 12:51:15  \n",
       "101779                 Риелтор  2023-03-21 13:01:09  \n",
       "\n",
       "[101780 rows x 15 columns]"
      ]
     },
     "execution_count": 86,
     "metadata": {},
     "output_type": "execute_result"
    }
   ],
   "source": [
    "cian_all"
   ]
  },
  {
   "cell_type": "code",
   "execution_count": 87,
   "id": "5d329134",
   "metadata": {},
   "outputs": [
    {
     "data": {
      "text/plain": [
       "2"
      ]
     },
     "execution_count": 87,
     "metadata": {},
     "output_type": "execute_result"
    }
   ],
   "source": [
    "cian_realty.source_id.unique()[0]"
   ]
  },
  {
   "cell_type": "code",
   "execution_count": 84,
   "id": "450a7fb8",
   "metadata": {
    "ExecuteTime": {
     "end_time": "2023-03-22T07:18:45.450397Z",
     "start_time": "2023-03-22T07:18:15.454466Z"
    }
   },
   "outputs": [
    {
     "ename": "NameError",
     "evalue": "name 'get_realty_ids' is not defined",
     "output_type": "error",
     "traceback": [
      "\u001b[1;31m---------------------------------------------------------------------------\u001b[0m",
      "\u001b[1;31mNameError\u001b[0m                                 Traceback (most recent call last)",
      "Cell \u001b[1;32mIn [84], line 3\u001b[0m\n\u001b[0;32m      1\u001b[0m current_source \u001b[38;5;241m=\u001b[39m cian_realty\u001b[38;5;241m.\u001b[39msource_id\u001b[38;5;241m.\u001b[39munique()[\u001b[38;5;241m0\u001b[39m]\n\u001b[0;32m      2\u001b[0m current_date \u001b[38;5;241m=\u001b[39m datetime\u001b[38;5;241m.\u001b[39mnow()\u001b[38;5;241m.\u001b[39mdate()\n\u001b[1;32m----> 3\u001b[0m id_df \u001b[38;5;241m=\u001b[39m \u001b[43mget_realty_ids\u001b[49m(sql_engine, current_date, current_source)[\u001b[38;5;241m0\u001b[39m]\n",
      "\u001b[1;31mNameError\u001b[0m: name 'get_realty_ids' is not defined"
     ]
    }
   ],
   "source": [
    "current_source = cian_realty.source_id.unique()[0]\n",
    "current_date = datetime.now().date()\n",
    "id_df = get_realty_ids(sql_engine, current_date, current_source)[0]"
   ]
  },
  {
   "cell_type": "code",
   "execution_count": 277,
   "id": "94c3f31b",
   "metadata": {
    "ExecuteTime": {
     "end_time": "2023-03-22T07:18:45.497929Z",
     "start_time": "2023-03-22T07:18:45.490733Z"
    }
   },
   "outputs": [
    {
     "data": {
      "text/html": [
       "<div>\n",
       "<style scoped>\n",
       "    .dataframe tbody tr th:only-of-type {\n",
       "        vertical-align: middle;\n",
       "    }\n",
       "\n",
       "    .dataframe tbody tr th {\n",
       "        vertical-align: top;\n",
       "    }\n",
       "\n",
       "    .dataframe thead th {\n",
       "        text-align: right;\n",
       "    }\n",
       "</style>\n",
       "<table border=\"1\" class=\"dataframe\">\n",
       "  <thead>\n",
       "    <tr style=\"text-align: right;\">\n",
       "      <th></th>\n",
       "      <th>link</th>\n",
       "      <th>id</th>\n",
       "    </tr>\n",
       "  </thead>\n",
       "  <tbody>\n",
       "    <tr>\n",
       "      <th>0</th>\n",
       "      <td>https://krasnodar.cian.ru/sale/flat/268501106/</td>\n",
       "      <td>32201</td>\n",
       "    </tr>\n",
       "    <tr>\n",
       "      <th>1</th>\n",
       "      <td>https://anapa.cian.ru/sale/flat/233965925/</td>\n",
       "      <td>32823</td>\n",
       "    </tr>\n",
       "    <tr>\n",
       "      <th>2</th>\n",
       "      <td>https://anapa.cian.ru/sale/flat/264443644/</td>\n",
       "      <td>33491</td>\n",
       "    </tr>\n",
       "    <tr>\n",
       "      <th>3</th>\n",
       "      <td>https://anapa.cian.ru/sale/flat/264569881/</td>\n",
       "      <td>33638</td>\n",
       "    </tr>\n",
       "    <tr>\n",
       "      <th>4</th>\n",
       "      <td>https://anapa.cian.ru/sale/flat/264931277/</td>\n",
       "      <td>33765</td>\n",
       "    </tr>\n",
       "    <tr>\n",
       "      <th>...</th>\n",
       "      <td>...</td>\n",
       "      <td>...</td>\n",
       "    </tr>\n",
       "    <tr>\n",
       "      <th>32579</th>\n",
       "      <td>https://krasnodar.cian.ru/sale/flat/274097524/</td>\n",
       "      <td>817839</td>\n",
       "    </tr>\n",
       "    <tr>\n",
       "      <th>32580</th>\n",
       "      <td>https://krasnodar.cian.ru/sale/flat/274097626/</td>\n",
       "      <td>817840</td>\n",
       "    </tr>\n",
       "    <tr>\n",
       "      <th>32581</th>\n",
       "      <td>https://krasnodar.cian.ru/sale/flat/274098241/</td>\n",
       "      <td>817841</td>\n",
       "    </tr>\n",
       "    <tr>\n",
       "      <th>32582</th>\n",
       "      <td>https://krasnodar.cian.ru/sale/flat/275302647/</td>\n",
       "      <td>817842</td>\n",
       "    </tr>\n",
       "    <tr>\n",
       "      <th>32583</th>\n",
       "      <td>https://krasnodar.cian.ru/sale/flat/275656135/</td>\n",
       "      <td>817843</td>\n",
       "    </tr>\n",
       "  </tbody>\n",
       "</table>\n",
       "<p>32584 rows × 2 columns</p>\n",
       "</div>"
      ],
      "text/plain": [
       "                                                 link      id\n",
       "0      https://krasnodar.cian.ru/sale/flat/268501106/   32201\n",
       "1          https://anapa.cian.ru/sale/flat/233965925/   32823\n",
       "2          https://anapa.cian.ru/sale/flat/264443644/   33491\n",
       "3          https://anapa.cian.ru/sale/flat/264569881/   33638\n",
       "4          https://anapa.cian.ru/sale/flat/264931277/   33765\n",
       "...                                               ...     ...\n",
       "32579  https://krasnodar.cian.ru/sale/flat/274097524/  817839\n",
       "32580  https://krasnodar.cian.ru/sale/flat/274097626/  817840\n",
       "32581  https://krasnodar.cian.ru/sale/flat/274098241/  817841\n",
       "32582  https://krasnodar.cian.ru/sale/flat/275302647/  817842\n",
       "32583  https://krasnodar.cian.ru/sale/flat/275656135/  817843\n",
       "\n",
       "[32584 rows x 2 columns]"
      ]
     },
     "execution_count": 277,
     "metadata": {},
     "output_type": "execute_result"
    }
   ],
   "source": [
    "id_df"
   ]
  },
  {
   "cell_type": "code",
   "execution_count": 350,
   "id": "39cbfac2",
   "metadata": {},
   "outputs": [],
   "source": [
    "cian_prices = pd.DataFrame()"
   ]
  },
  {
   "cell_type": "code",
   "execution_count": 351,
   "id": "f810bb8a",
   "metadata": {},
   "outputs": [],
   "source": [
    "cian_prices['realty_id'] = cian_realty['link'].map(id_df.set_index('link')['id'])"
   ]
  },
  {
   "cell_type": "code",
   "execution_count": 352,
   "id": "224d428d",
   "metadata": {},
   "outputs": [
    {
     "data": {
      "text/html": [
       "<div>\n",
       "<style scoped>\n",
       "    .dataframe tbody tr th:only-of-type {\n",
       "        vertical-align: middle;\n",
       "    }\n",
       "\n",
       "    .dataframe tbody tr th {\n",
       "        vertical-align: top;\n",
       "    }\n",
       "\n",
       "    .dataframe thead th {\n",
       "        text-align: right;\n",
       "    }\n",
       "</style>\n",
       "<table border=\"1\" class=\"dataframe\">\n",
       "  <thead>\n",
       "    <tr style=\"text-align: right;\">\n",
       "      <th></th>\n",
       "      <th>realty_id</th>\n",
       "    </tr>\n",
       "  </thead>\n",
       "  <tbody>\n",
       "    <tr>\n",
       "      <th>0</th>\n",
       "      <td>NaN</td>\n",
       "    </tr>\n",
       "    <tr>\n",
       "      <th>1</th>\n",
       "      <td>NaN</td>\n",
       "    </tr>\n",
       "    <tr>\n",
       "      <th>2</th>\n",
       "      <td>NaN</td>\n",
       "    </tr>\n",
       "    <tr>\n",
       "      <th>3</th>\n",
       "      <td>NaN</td>\n",
       "    </tr>\n",
       "    <tr>\n",
       "      <th>4</th>\n",
       "      <td>NaN</td>\n",
       "    </tr>\n",
       "    <tr>\n",
       "      <th>...</th>\n",
       "      <td>...</td>\n",
       "    </tr>\n",
       "    <tr>\n",
       "      <th>101775</th>\n",
       "      <td>NaN</td>\n",
       "    </tr>\n",
       "    <tr>\n",
       "      <th>101776</th>\n",
       "      <td>NaN</td>\n",
       "    </tr>\n",
       "    <tr>\n",
       "      <th>101777</th>\n",
       "      <td>NaN</td>\n",
       "    </tr>\n",
       "    <tr>\n",
       "      <th>101778</th>\n",
       "      <td>NaN</td>\n",
       "    </tr>\n",
       "    <tr>\n",
       "      <th>101779</th>\n",
       "      <td>NaN</td>\n",
       "    </tr>\n",
       "  </tbody>\n",
       "</table>\n",
       "<p>90223 rows × 1 columns</p>\n",
       "</div>"
      ],
      "text/plain": [
       "       realty_id\n",
       "0            NaN\n",
       "1            NaN\n",
       "2            NaN\n",
       "3            NaN\n",
       "4            NaN\n",
       "...          ...\n",
       "101775       NaN\n",
       "101776       NaN\n",
       "101777       NaN\n",
       "101778       NaN\n",
       "101779       NaN\n",
       "\n",
       "[90223 rows x 1 columns]"
      ]
     },
     "execution_count": 352,
     "metadata": {},
     "output_type": "execute_result"
    }
   ],
   "source": [
    "cian_prices"
   ]
  },
  {
   "cell_type": "code",
   "execution_count": 353,
   "id": "4db012d2",
   "metadata": {},
   "outputs": [],
   "source": [
    "# price"
   ]
  },
  {
   "cell_type": "code",
   "execution_count": 354,
   "id": "b109ce08",
   "metadata": {},
   "outputs": [],
   "source": [
    "cian_prices['price'] = cian_all['price']"
   ]
  },
  {
   "cell_type": "code",
   "execution_count": 358,
   "id": "84235349",
   "metadata": {},
   "outputs": [],
   "source": [
    "# price_sqrm"
   ]
  },
  {
   "cell_type": "code",
   "execution_count": 359,
   "id": "1bbd5873",
   "metadata": {},
   "outputs": [
    {
     "data": {
      "text/html": [
       "<div>\n",
       "<style scoped>\n",
       "    .dataframe tbody tr th:only-of-type {\n",
       "        vertical-align: middle;\n",
       "    }\n",
       "\n",
       "    .dataframe tbody tr th {\n",
       "        vertical-align: top;\n",
       "    }\n",
       "\n",
       "    .dataframe thead th {\n",
       "        text-align: right;\n",
       "    }\n",
       "</style>\n",
       "<table border=\"1\" class=\"dataframe\">\n",
       "  <thead>\n",
       "    <tr style=\"text-align: right;\">\n",
       "      <th></th>\n",
       "      <th>source</th>\n",
       "      <th>ad_id</th>\n",
       "      <th>addr</th>\n",
       "      <th>city</th>\n",
       "      <th>raion</th>\n",
       "      <th>mikroraion</th>\n",
       "      <th>square</th>\n",
       "      <th>floor</th>\n",
       "      <th>house_floors</th>\n",
       "      <th>type</th>\n",
       "      <th>link</th>\n",
       "      <th>price</th>\n",
       "      <th>price_sqrm</th>\n",
       "      <th>offer_from</th>\n",
       "      <th>date</th>\n",
       "    </tr>\n",
       "  </thead>\n",
       "  <tbody>\n",
       "    <tr>\n",
       "      <th>0</th>\n",
       "      <td>cian</td>\n",
       "      <td>210197059</td>\n",
       "      <td>Краснодарский край; Анапа; улица Горького; 2А</td>\n",
       "      <td>Анапа</td>\n",
       "      <td>NaN</td>\n",
       "      <td>NaN</td>\n",
       "      <td>107.0</td>\n",
       "      <td>7</td>\n",
       "      <td>12</td>\n",
       "      <td>3 комн</td>\n",
       "      <td>https://anapa.cian.ru/sale/flat/210197059/</td>\n",
       "      <td>25000000</td>\n",
       "      <td>233645</td>\n",
       "      <td>Собственник</td>\n",
       "      <td>2019-06-16 19:18:17</td>\n",
       "    </tr>\n",
       "    <tr>\n",
       "      <th>1</th>\n",
       "      <td>cian</td>\n",
       "      <td>213575526</td>\n",
       "      <td>Краснодарский край; Анапа; улица Краснозеленых...</td>\n",
       "      <td>Анапа</td>\n",
       "      <td>NaN</td>\n",
       "      <td>NaN</td>\n",
       "      <td>106.0</td>\n",
       "      <td>6</td>\n",
       "      <td>7</td>\n",
       "      <td>3 комн</td>\n",
       "      <td>https://anapa.cian.ru/sale/flat/213575526/</td>\n",
       "      <td>10100000</td>\n",
       "      <td>95283</td>\n",
       "      <td>Риелтор</td>\n",
       "      <td>2019-07-26 11:52:55</td>\n",
       "    </tr>\n",
       "    <tr>\n",
       "      <th>2</th>\n",
       "      <td>cian</td>\n",
       "      <td>232012292</td>\n",
       "      <td>Краснодарский край; Анапа; улица Ленина; 194</td>\n",
       "      <td>Анапа</td>\n",
       "      <td>NaN</td>\n",
       "      <td>NaN</td>\n",
       "      <td>20.0</td>\n",
       "      <td>1</td>\n",
       "      <td>9</td>\n",
       "      <td>Студия</td>\n",
       "      <td>https://anapa.cian.ru/sale/flat/232012292/</td>\n",
       "      <td>2100000</td>\n",
       "      <td>105000</td>\n",
       "      <td>Риелтор</td>\n",
       "      <td>2020-05-14 15:01:50</td>\n",
       "    </tr>\n",
       "    <tr>\n",
       "      <th>3</th>\n",
       "      <td>cian</td>\n",
       "      <td>233965925</td>\n",
       "      <td>Краснодарский край; Анапа; улица Толстого; 81</td>\n",
       "      <td>Анапа</td>\n",
       "      <td>NaN</td>\n",
       "      <td>NaN</td>\n",
       "      <td>29.0</td>\n",
       "      <td>1</td>\n",
       "      <td>3</td>\n",
       "      <td>1 комн</td>\n",
       "      <td>https://anapa.cian.ru/sale/flat/233965925/</td>\n",
       "      <td>4500000</td>\n",
       "      <td>155172</td>\n",
       "      <td>Агентство недвижимости</td>\n",
       "      <td>2020-06-08 14:04:52</td>\n",
       "    </tr>\n",
       "    <tr>\n",
       "      <th>4</th>\n",
       "      <td>cian</td>\n",
       "      <td>239179225</td>\n",
       "      <td>Краснодарский край; Анапа; Владимирская улица;...</td>\n",
       "      <td>Анапа</td>\n",
       "      <td>NaN</td>\n",
       "      <td>NaN</td>\n",
       "      <td>140.0</td>\n",
       "      <td>13</td>\n",
       "      <td>13</td>\n",
       "      <td>5 комн</td>\n",
       "      <td>https://anapa.cian.ru/sale/flat/239179225/</td>\n",
       "      <td>15300000</td>\n",
       "      <td>109286</td>\n",
       "      <td>Собственник</td>\n",
       "      <td>2020-08-17 16:40:04</td>\n",
       "    </tr>\n",
       "    <tr>\n",
       "      <th>...</th>\n",
       "      <td>...</td>\n",
       "      <td>...</td>\n",
       "      <td>...</td>\n",
       "      <td>...</td>\n",
       "      <td>...</td>\n",
       "      <td>...</td>\n",
       "      <td>...</td>\n",
       "      <td>...</td>\n",
       "      <td>...</td>\n",
       "      <td>...</td>\n",
       "      <td>...</td>\n",
       "      <td>...</td>\n",
       "      <td>...</td>\n",
       "      <td>...</td>\n",
       "      <td>...</td>\n",
       "    </tr>\n",
       "    <tr>\n",
       "      <th>101775</th>\n",
       "      <td>cian</td>\n",
       "      <td>285075402</td>\n",
       "      <td>Томская область; Томск; р-н Советский; проспек...</td>\n",
       "      <td>Томск</td>\n",
       "      <td>Советский</td>\n",
       "      <td>NaN</td>\n",
       "      <td>18.0</td>\n",
       "      <td>5</td>\n",
       "      <td>5</td>\n",
       "      <td>1 комн</td>\n",
       "      <td>https://tomsk.cian.ru/sale/flat/285075402/</td>\n",
       "      <td>1950000</td>\n",
       "      <td>108333</td>\n",
       "      <td>Агентство недвижимости</td>\n",
       "      <td>2023-03-21 12:35:00</td>\n",
       "    </tr>\n",
       "    <tr>\n",
       "      <th>101776</th>\n",
       "      <td>cian</td>\n",
       "      <td>285075572</td>\n",
       "      <td>Томская область; Томск; р-н Советский; улица Ш...</td>\n",
       "      <td>Томск</td>\n",
       "      <td>Советский</td>\n",
       "      <td>NaN</td>\n",
       "      <td>16.5</td>\n",
       "      <td>2</td>\n",
       "      <td>5</td>\n",
       "      <td>1 комн</td>\n",
       "      <td>https://tomsk.cian.ru/sale/flat/285075572/</td>\n",
       "      <td>2000000</td>\n",
       "      <td>121212</td>\n",
       "      <td>Агентство недвижимости</td>\n",
       "      <td>2023-03-21 12:39:13</td>\n",
       "    </tr>\n",
       "    <tr>\n",
       "      <th>101777</th>\n",
       "      <td>cian</td>\n",
       "      <td>285076163</td>\n",
       "      <td>Томская область; Томск; р-н Ленинский; улица Р...</td>\n",
       "      <td>Томск</td>\n",
       "      <td>Ленинский</td>\n",
       "      <td>NaN</td>\n",
       "      <td>48.0</td>\n",
       "      <td>5</td>\n",
       "      <td>6</td>\n",
       "      <td>2 комн</td>\n",
       "      <td>https://tomsk.cian.ru/sale/flat/285076163/</td>\n",
       "      <td>4350000</td>\n",
       "      <td>90625</td>\n",
       "      <td>Агентство недвижимости</td>\n",
       "      <td>2023-03-21 12:48:54</td>\n",
       "    </tr>\n",
       "    <tr>\n",
       "      <th>101778</th>\n",
       "      <td>cian</td>\n",
       "      <td>285076291</td>\n",
       "      <td>Томская область; Томск; р-н Ленинский; Черемош...</td>\n",
       "      <td>Томск</td>\n",
       "      <td>Ленинский</td>\n",
       "      <td>NaN</td>\n",
       "      <td>39.0</td>\n",
       "      <td>4</td>\n",
       "      <td>10</td>\n",
       "      <td>1 комн</td>\n",
       "      <td>https://tomsk.cian.ru/sale/flat/285076291/</td>\n",
       "      <td>3680000</td>\n",
       "      <td>94359</td>\n",
       "      <td>Агентство недвижимости</td>\n",
       "      <td>2023-03-21 12:51:15</td>\n",
       "    </tr>\n",
       "    <tr>\n",
       "      <th>101779</th>\n",
       "      <td>cian</td>\n",
       "      <td>285076712</td>\n",
       "      <td>Томская область; Томск; р-н Советский; улица К...</td>\n",
       "      <td>Томск</td>\n",
       "      <td>Советский</td>\n",
       "      <td>NaN</td>\n",
       "      <td>46.0</td>\n",
       "      <td>4</td>\n",
       "      <td>5</td>\n",
       "      <td>2 комн</td>\n",
       "      <td>https://tomsk.cian.ru/sale/flat/285076712/</td>\n",
       "      <td>3500000</td>\n",
       "      <td>76087</td>\n",
       "      <td>Риелтор</td>\n",
       "      <td>2023-03-21 13:01:09</td>\n",
       "    </tr>\n",
       "  </tbody>\n",
       "</table>\n",
       "<p>90223 rows × 15 columns</p>\n",
       "</div>"
      ],
      "text/plain": [
       "       source      ad_id                                               addr  \\\n",
       "0        cian  210197059      Краснодарский край; Анапа; улица Горького; 2А   \n",
       "1        cian  213575526  Краснодарский край; Анапа; улица Краснозеленых...   \n",
       "2        cian  232012292       Краснодарский край; Анапа; улица Ленина; 194   \n",
       "3        cian  233965925      Краснодарский край; Анапа; улица Толстого; 81   \n",
       "4        cian  239179225  Краснодарский край; Анапа; Владимирская улица;...   \n",
       "...       ...        ...                                                ...   \n",
       "101775   cian  285075402  Томская область; Томск; р-н Советский; проспек...   \n",
       "101776   cian  285075572  Томская область; Томск; р-н Советский; улица Ш...   \n",
       "101777   cian  285076163  Томская область; Томск; р-н Ленинский; улица Р...   \n",
       "101778   cian  285076291  Томская область; Томск; р-н Ленинский; Черемош...   \n",
       "101779   cian  285076712  Томская область; Томск; р-н Советский; улица К...   \n",
       "\n",
       "         city      raion mikroraion  square  floor  house_floors    type  \\\n",
       "0       Анапа        NaN        NaN   107.0      7            12  3 комн   \n",
       "1       Анапа        NaN        NaN   106.0      6             7  3 комн   \n",
       "2       Анапа        NaN        NaN    20.0      1             9  Студия   \n",
       "3       Анапа        NaN        NaN    29.0      1             3  1 комн   \n",
       "4       Анапа        NaN        NaN   140.0     13            13  5 комн   \n",
       "...       ...        ...        ...     ...    ...           ...     ...   \n",
       "101775  Томск  Советский        NaN    18.0      5             5  1 комн   \n",
       "101776  Томск  Советский        NaN    16.5      2             5  1 комн   \n",
       "101777  Томск  Ленинский        NaN    48.0      5             6  2 комн   \n",
       "101778  Томск  Ленинский        NaN    39.0      4            10  1 комн   \n",
       "101779  Томск  Советский        NaN    46.0      4             5  2 комн   \n",
       "\n",
       "                                              link     price  price_sqrm  \\\n",
       "0       https://anapa.cian.ru/sale/flat/210197059/  25000000      233645   \n",
       "1       https://anapa.cian.ru/sale/flat/213575526/  10100000       95283   \n",
       "2       https://anapa.cian.ru/sale/flat/232012292/   2100000      105000   \n",
       "3       https://anapa.cian.ru/sale/flat/233965925/   4500000      155172   \n",
       "4       https://anapa.cian.ru/sale/flat/239179225/  15300000      109286   \n",
       "...                                            ...       ...         ...   \n",
       "101775  https://tomsk.cian.ru/sale/flat/285075402/   1950000      108333   \n",
       "101776  https://tomsk.cian.ru/sale/flat/285075572/   2000000      121212   \n",
       "101777  https://tomsk.cian.ru/sale/flat/285076163/   4350000       90625   \n",
       "101778  https://tomsk.cian.ru/sale/flat/285076291/   3680000       94359   \n",
       "101779  https://tomsk.cian.ru/sale/flat/285076712/   3500000       76087   \n",
       "\n",
       "                    offer_from                 date  \n",
       "0                  Собственник  2019-06-16 19:18:17  \n",
       "1                      Риелтор  2019-07-26 11:52:55  \n",
       "2                      Риелтор  2020-05-14 15:01:50  \n",
       "3       Агентство недвижимости  2020-06-08 14:04:52  \n",
       "4                  Собственник  2020-08-17 16:40:04  \n",
       "...                        ...                  ...  \n",
       "101775  Агентство недвижимости  2023-03-21 12:35:00  \n",
       "101776  Агентство недвижимости  2023-03-21 12:39:13  \n",
       "101777  Агентство недвижимости  2023-03-21 12:48:54  \n",
       "101778  Агентство недвижимости  2023-03-21 12:51:15  \n",
       "101779                 Риелтор  2023-03-21 13:01:09  \n",
       "\n",
       "[90223 rows x 15 columns]"
      ]
     },
     "execution_count": 359,
     "metadata": {},
     "output_type": "execute_result"
    }
   ],
   "source": [
    "cian_all"
   ]
  },
  {
   "cell_type": "code",
   "execution_count": 360,
   "id": "804f58ac",
   "metadata": {},
   "outputs": [],
   "source": [
    "cian_prices['price_sqrm'] = cian_all['price_sqrm'].astype(float)"
   ]
  },
  {
   "cell_type": "code",
   "execution_count": 361,
   "id": "92f24d5b",
   "metadata": {},
   "outputs": [],
   "source": [
    "# date"
   ]
  },
  {
   "cell_type": "code",
   "execution_count": 362,
   "id": "3dc9907c",
   "metadata": {},
   "outputs": [],
   "source": [
    "cian_prices['date'] = datetime.now().date() # изменить на имя файла"
   ]
  },
  {
   "cell_type": "code",
   "execution_count": 363,
   "id": "d8b21d2a",
   "metadata": {},
   "outputs": [
    {
     "data": {
      "text/plain": [
       "datetime.date(2023, 3, 22)"
      ]
     },
     "execution_count": 363,
     "metadata": {},
     "output_type": "execute_result"
    }
   ],
   "source": [
    "datetime.now().date()"
   ]
  },
  {
   "cell_type": "code",
   "execution_count": 368,
   "id": "fa4e1f78",
   "metadata": {},
   "outputs": [
    {
     "data": {
      "text/plain": [
       "datetime.date(2023, 3, 17)"
      ]
     },
     "execution_count": 368,
     "metadata": {},
     "output_type": "execute_result"
    }
   ],
   "source": [
    "datetime.strptime('17-03-23', '%d-%m-%y').date()"
   ]
  },
  {
   "cell_type": "code",
   "execution_count": 372,
   "id": "2d0244e4",
   "metadata": {},
   "outputs": [
    {
     "data": {
      "text/html": [
       "<div>\n",
       "<style scoped>\n",
       "    .dataframe tbody tr th:only-of-type {\n",
       "        vertical-align: middle;\n",
       "    }\n",
       "\n",
       "    .dataframe tbody tr th {\n",
       "        vertical-align: top;\n",
       "    }\n",
       "\n",
       "    .dataframe thead th {\n",
       "        text-align: right;\n",
       "    }\n",
       "</style>\n",
       "<table border=\"1\" class=\"dataframe\">\n",
       "  <thead>\n",
       "    <tr style=\"text-align: right;\">\n",
       "      <th></th>\n",
       "      <th>realty_id</th>\n",
       "      <th>price</th>\n",
       "      <th>price_sqrm</th>\n",
       "      <th>date</th>\n",
       "    </tr>\n",
       "  </thead>\n",
       "  <tbody>\n",
       "    <tr>\n",
       "      <th>0</th>\n",
       "      <td>NaN</td>\n",
       "      <td>25000000</td>\n",
       "      <td>233645.0</td>\n",
       "      <td>2023-03-22</td>\n",
       "    </tr>\n",
       "    <tr>\n",
       "      <th>1</th>\n",
       "      <td>NaN</td>\n",
       "      <td>10100000</td>\n",
       "      <td>95283.0</td>\n",
       "      <td>2023-03-22</td>\n",
       "    </tr>\n",
       "    <tr>\n",
       "      <th>2</th>\n",
       "      <td>NaN</td>\n",
       "      <td>2100000</td>\n",
       "      <td>105000.0</td>\n",
       "      <td>2023-03-22</td>\n",
       "    </tr>\n",
       "    <tr>\n",
       "      <th>3</th>\n",
       "      <td>NaN</td>\n",
       "      <td>4500000</td>\n",
       "      <td>155172.0</td>\n",
       "      <td>2023-03-22</td>\n",
       "    </tr>\n",
       "    <tr>\n",
       "      <th>4</th>\n",
       "      <td>NaN</td>\n",
       "      <td>15300000</td>\n",
       "      <td>109286.0</td>\n",
       "      <td>2023-03-22</td>\n",
       "    </tr>\n",
       "    <tr>\n",
       "      <th>...</th>\n",
       "      <td>...</td>\n",
       "      <td>...</td>\n",
       "      <td>...</td>\n",
       "      <td>...</td>\n",
       "    </tr>\n",
       "    <tr>\n",
       "      <th>101775</th>\n",
       "      <td>NaN</td>\n",
       "      <td>1950000</td>\n",
       "      <td>108333.0</td>\n",
       "      <td>2023-03-22</td>\n",
       "    </tr>\n",
       "    <tr>\n",
       "      <th>101776</th>\n",
       "      <td>NaN</td>\n",
       "      <td>2000000</td>\n",
       "      <td>121212.0</td>\n",
       "      <td>2023-03-22</td>\n",
       "    </tr>\n",
       "    <tr>\n",
       "      <th>101777</th>\n",
       "      <td>NaN</td>\n",
       "      <td>4350000</td>\n",
       "      <td>90625.0</td>\n",
       "      <td>2023-03-22</td>\n",
       "    </tr>\n",
       "    <tr>\n",
       "      <th>101778</th>\n",
       "      <td>NaN</td>\n",
       "      <td>3680000</td>\n",
       "      <td>94359.0</td>\n",
       "      <td>2023-03-22</td>\n",
       "    </tr>\n",
       "    <tr>\n",
       "      <th>101779</th>\n",
       "      <td>NaN</td>\n",
       "      <td>3500000</td>\n",
       "      <td>76087.0</td>\n",
       "      <td>2023-03-22</td>\n",
       "    </tr>\n",
       "  </tbody>\n",
       "</table>\n",
       "<p>90223 rows × 4 columns</p>\n",
       "</div>"
      ],
      "text/plain": [
       "       realty_id     price  price_sqrm        date\n",
       "0            NaN  25000000    233645.0  2023-03-22\n",
       "1            NaN  10100000     95283.0  2023-03-22\n",
       "2            NaN   2100000    105000.0  2023-03-22\n",
       "3            NaN   4500000    155172.0  2023-03-22\n",
       "4            NaN  15300000    109286.0  2023-03-22\n",
       "...          ...       ...         ...         ...\n",
       "101775       NaN   1950000    108333.0  2023-03-22\n",
       "101776       NaN   2000000    121212.0  2023-03-22\n",
       "101777       NaN   4350000     90625.0  2023-03-22\n",
       "101778       NaN   3680000     94359.0  2023-03-22\n",
       "101779       NaN   3500000     76087.0  2023-03-22\n",
       "\n",
       "[90223 rows x 4 columns]"
      ]
     },
     "execution_count": 372,
     "metadata": {},
     "output_type": "execute_result"
    }
   ],
   "source": [
    "cian_prices"
   ]
  },
  {
   "cell_type": "markdown",
   "id": "7daea0c3",
   "metadata": {},
   "source": [
    "# write filename to txt"
   ]
  },
  {
   "cell_type": "code",
   "execution_count": 376,
   "id": "5d6ed905",
   "metadata": {},
   "outputs": [
    {
     "data": {
      "text/plain": [
       "['C:/Users/pnknv/Documents/GitHub/yadisk_loader/saved_csv/01-03-23 (без дублей).csv',\n",
       " 'C:/Users/pnknv/Documents/GitHub/yadisk_loader/saved_csv/02-03-23 (без дублей).csv',\n",
       " 'C:/Users/pnknv/Documents/GitHub/yadisk_loader/saved_csv/04-03-23 (без дублей).csv',\n",
       " 'C:/Users/pnknv/Documents/GitHub/yadisk_loader/saved_csv/05-03-23 (без дублей).csv']"
      ]
     },
     "execution_count": 376,
     "metadata": {},
     "output_type": "execute_result"
    }
   ],
   "source": [
    "flist[:4]"
   ]
  },
  {
   "cell_type": "code",
   "execution_count": 443,
   "id": "a6ea5298",
   "metadata": {},
   "outputs": [],
   "source": [
    "with open('uploaded_files.txt', 'a+') as uploaded_txt:\n",
    "    for line in flist[:3]:\n",
    "        uploaded_txt.write(f\"{line}\\n\")\n",
    "uploaded_txt.close()"
   ]
  },
  {
   "cell_type": "code",
   "execution_count": 447,
   "id": "26ec923f",
   "metadata": {},
   "outputs": [],
   "source": [
    "try:\n",
    "    with open('uploaded_files.txt', 'r') as uploaded_txt:\n",
    "        asd = uploaded_txt.read()\n",
    "    uploaded_txt.close()\n",
    "except:\n",
    "    asd = []"
   ]
  },
  {
   "cell_type": "code",
   "execution_count": 448,
   "id": "3fa701ce",
   "metadata": {},
   "outputs": [
    {
     "data": {
      "text/plain": [
       "'07-02-2023\\n07-02-23 (без дублей)\\n08-02-23 (без дублей)\\n09-02-23 (без дублей) 2\\n09-02-23 (без дублей)\\n10-02-23 (без дублей)\\n11-02-23 (без дублей)\\n12-02-23 (без дублей)\\n13-02-23 (без дублей)\\n14-02-23 (без дублей)\\n15-02-23 (без дублей)\\n16-02-23 (без дублей)\\n17-02-23 (без дублей)\\n18-02-23 (без дублей)\\n19-02-23 (без дублей)\\n19-02-23\\n20-02-23 (без дублей)\\n21-02-23 (без дублей)\\n22-02-23 (без дублей)\\n23-02-23 (без дублей)\\n24-02-23 (без дублей)\\n25-02-23 (без дублей)\\n26-02-23 (без дублей)\\n27-02-23 (без дублей)\\n28-02-23 (без дублей)\\n01-03-23 (без дублей)\\n02-03-23 (без дублей)\\n04-03-23 (без дублей)\\n05-03-23 (без дублей)\\n06-03-23 (без дублей)\\n07-03-23 (без дублей)\\n08-03-23 (без дублей)\\n09-03-23 (без дублей)\\n10-03-23 (без дублей)\\n11-03-23 (без дублей)\\n12-03-23 (без дублей)\\n13-03-23 (без дублей)\\n14-03-23 (без дублей)\\n15-03-23 (без дублей)\\n16-03-23 (без дублей)\\n17-03-23 (без дублей)\\n18-03-23 (без дублей)\\n19-03-23 (без дублей)\\n'"
      ]
     },
     "execution_count": 448,
     "metadata": {},
     "output_type": "execute_result"
    }
   ],
   "source": [
    "asd"
   ]
  },
  {
   "cell_type": "code",
   "execution_count": 449,
   "id": "3faf90b4",
   "metadata": {},
   "outputs": [
    {
     "data": {
      "text/plain": [
       "['07-02-2023',\n",
       " '07-02-23 (без дублей)',\n",
       " '08-02-23 (без дублей)',\n",
       " '09-02-23 (без дублей) 2',\n",
       " '09-02-23 (без дублей)',\n",
       " '10-02-23 (без дублей)',\n",
       " '11-02-23 (без дублей)',\n",
       " '12-02-23 (без дублей)',\n",
       " '13-02-23 (без дублей)',\n",
       " '14-02-23 (без дублей)',\n",
       " '15-02-23 (без дублей)',\n",
       " '16-02-23 (без дублей)',\n",
       " '17-02-23 (без дублей)',\n",
       " '18-02-23 (без дублей)',\n",
       " '19-02-23 (без дублей)',\n",
       " '19-02-23',\n",
       " '20-02-23 (без дублей)',\n",
       " '21-02-23 (без дублей)',\n",
       " '22-02-23 (без дублей)',\n",
       " '23-02-23 (без дублей)',\n",
       " '24-02-23 (без дублей)',\n",
       " '25-02-23 (без дублей)',\n",
       " '26-02-23 (без дублей)',\n",
       " '27-02-23 (без дублей)',\n",
       " '28-02-23 (без дублей)',\n",
       " '01-03-23 (без дублей)',\n",
       " '02-03-23 (без дублей)',\n",
       " '04-03-23 (без дублей)',\n",
       " '05-03-23 (без дублей)',\n",
       " '06-03-23 (без дублей)',\n",
       " '07-03-23 (без дублей)',\n",
       " '08-03-23 (без дублей)',\n",
       " '09-03-23 (без дублей)',\n",
       " '10-03-23 (без дублей)',\n",
       " '11-03-23 (без дублей)',\n",
       " '12-03-23 (без дублей)',\n",
       " '13-03-23 (без дублей)',\n",
       " '14-03-23 (без дублей)',\n",
       " '15-03-23 (без дублей)',\n",
       " '16-03-23 (без дублей)',\n",
       " '17-03-23 (без дублей)',\n",
       " '18-03-23 (без дублей)',\n",
       " '19-03-23 (без дублей)']"
      ]
     },
     "execution_count": 449,
     "metadata": {},
     "output_type": "execute_result"
    }
   ],
   "source": [
    "asd.split('\\n')[:-1]"
   ]
  },
  {
   "cell_type": "code",
   "execution_count": null,
   "id": "170422b0",
   "metadata": {},
   "outputs": [],
   "source": []
  },
  {
   "cell_type": "code",
   "execution_count": null,
   "id": "8f0f11e3",
   "metadata": {},
   "outputs": [],
   "source": []
  },
  {
   "cell_type": "code",
   "execution_count": null,
   "id": "84d0cce2",
   "metadata": {},
   "outputs": [],
   "source": []
  },
  {
   "cell_type": "code",
   "execution_count": null,
   "id": "4bc5a94b",
   "metadata": {},
   "outputs": [],
   "source": []
  },
  {
   "cell_type": "code",
   "execution_count": null,
   "id": "513e7a65",
   "metadata": {},
   "outputs": [],
   "source": []
  },
  {
   "cell_type": "code",
   "execution_count": null,
   "id": "189db403",
   "metadata": {},
   "outputs": [],
   "source": []
  },
  {
   "cell_type": "code",
   "execution_count": null,
   "id": "7d74a3dd",
   "metadata": {},
   "outputs": [],
   "source": []
  },
  {
   "cell_type": "code",
   "execution_count": null,
   "id": "98bdfc08",
   "metadata": {},
   "outputs": [],
   "source": []
  },
  {
   "cell_type": "code",
   "execution_count": null,
   "id": "0bbceafb",
   "metadata": {},
   "outputs": [],
   "source": []
  },
  {
   "cell_type": "code",
   "execution_count": null,
   "id": "77ca9e61",
   "metadata": {},
   "outputs": [],
   "source": []
  },
  {
   "cell_type": "code",
   "execution_count": null,
   "id": "29fb1fcf",
   "metadata": {},
   "outputs": [],
   "source": []
  },
  {
   "cell_type": "code",
   "execution_count": null,
   "id": "19bb3a4c",
   "metadata": {},
   "outputs": [],
   "source": []
  },
  {
   "cell_type": "code",
   "execution_count": null,
   "id": "79631aa3",
   "metadata": {},
   "outputs": [],
   "source": []
  },
  {
   "cell_type": "code",
   "execution_count": 166,
   "id": "65739585",
   "metadata": {},
   "outputs": [],
   "source": [
    "# district_id"
   ]
  },
  {
   "cell_type": "code",
   "execution_count": 173,
   "id": "64934153",
   "metadata": {},
   "outputs": [],
   "source": [
    "district_df['len_addr'] = district_df.addr.apply(lambda x: len(x.split(';')))"
   ]
  },
  {
   "cell_type": "code",
   "execution_count": 174,
   "id": "3017f08c",
   "metadata": {},
   "outputs": [],
   "source": [
    "district_df['len_addr_coma'] = district_df.addr.apply(lambda x: len(x.split(',')))"
   ]
  },
  {
   "cell_type": "code",
   "execution_count": 180,
   "id": "0d8217b2",
   "metadata": {},
   "outputs": [
    {
     "data": {
      "text/plain": [
       "6    20113\n",
       "5    10660\n",
       "7     6324\n",
       "1     3610\n",
       "4     1556\n",
       "3      135\n",
       "8      116\n",
       "2        1\n",
       "Name: len_addr, dtype: int64"
      ]
     },
     "execution_count": 180,
     "metadata": {},
     "output_type": "execute_result"
    }
   ],
   "source": [
    "district_df.len_addr.value_counts()"
   ]
  },
  {
   "cell_type": "code",
   "execution_count": 185,
   "id": "310403d0",
   "metadata": {},
   "outputs": [
    {
     "data": {
      "text/plain": [
       "1091"
      ]
     },
     "execution_count": 185,
     "metadata": {},
     "output_type": "execute_result"
    }
   ],
   "source": [
    "random.randint(0,3610)"
   ]
  },
  {
   "cell_type": "code",
   "execution_count": 190,
   "id": "60d208b5",
   "metadata": {},
   "outputs": [
    {
     "data": {
      "text/html": [
       "<div>\n",
       "<style scoped>\n",
       "    .dataframe tbody tr th:only-of-type {\n",
       "        vertical-align: middle;\n",
       "    }\n",
       "\n",
       "    .dataframe tbody tr th {\n",
       "        vertical-align: top;\n",
       "    }\n",
       "\n",
       "    .dataframe thead th {\n",
       "        text-align: right;\n",
       "    }\n",
       "</style>\n",
       "<table border=\"1\" class=\"dataframe\">\n",
       "  <thead>\n",
       "    <tr style=\"text-align: right;\">\n",
       "      <th></th>\n",
       "      <th>city_id</th>\n",
       "      <th>district_id</th>\n",
       "      <th>addr</th>\n",
       "      <th>len_addr</th>\n",
       "      <th>len_addr_coma</th>\n",
       "    </tr>\n",
       "  </thead>\n",
       "  <tbody>\n",
       "    <tr>\n",
       "      <th>15761</th>\n",
       "      <td>5</td>\n",
       "      <td>NaN</td>\n",
       "      <td>Краснодарский край; Анапа</td>\n",
       "      <td>2</td>\n",
       "      <td>1</td>\n",
       "    </tr>\n",
       "    <tr>\n",
       "      <th>15762</th>\n",
       "      <td>5</td>\n",
       "      <td>NaN</td>\n",
       "      <td>Краснодарский край; Анапа; 12-й мкр</td>\n",
       "      <td>3</td>\n",
       "      <td>1</td>\n",
       "    </tr>\n",
       "    <tr>\n",
       "      <th>15763</th>\n",
       "      <td>5</td>\n",
       "      <td>NaN</td>\n",
       "      <td>Краснодарский край; Анапа; 12-й мкр; 10</td>\n",
       "      <td>4</td>\n",
       "      <td>1</td>\n",
       "    </tr>\n",
       "    <tr>\n",
       "      <th>15764</th>\n",
       "      <td>5</td>\n",
       "      <td>NaN</td>\n",
       "      <td>Краснодарский край; Анапа; 12-й мкр; 11</td>\n",
       "      <td>4</td>\n",
       "      <td>1</td>\n",
       "    </tr>\n",
       "    <tr>\n",
       "      <th>15765</th>\n",
       "      <td>5</td>\n",
       "      <td>NaN</td>\n",
       "      <td>Краснодарский край; Анапа; 12-й мкр; 12</td>\n",
       "      <td>4</td>\n",
       "      <td>1</td>\n",
       "    </tr>\n",
       "    <tr>\n",
       "      <th>...</th>\n",
       "      <td>...</td>\n",
       "      <td>...</td>\n",
       "      <td>...</td>\n",
       "      <td>...</td>\n",
       "      <td>...</td>\n",
       "    </tr>\n",
       "    <tr>\n",
       "      <th>16837</th>\n",
       "      <td>5</td>\n",
       "      <td>NaN</td>\n",
       "      <td>Краснодарский край; Анапа; шоссе Супсехское; 47к3</td>\n",
       "      <td>4</td>\n",
       "      <td>1</td>\n",
       "    </tr>\n",
       "    <tr>\n",
       "      <th>16838</th>\n",
       "      <td>5</td>\n",
       "      <td>NaN</td>\n",
       "      <td>Краснодарский край; Анапа; шоссе Супсехское; 4к1</td>\n",
       "      <td>4</td>\n",
       "      <td>1</td>\n",
       "    </tr>\n",
       "    <tr>\n",
       "      <th>16839</th>\n",
       "      <td>5</td>\n",
       "      <td>NaN</td>\n",
       "      <td>Краснодарский край; Анапа; шоссе Супсехское; 4к2</td>\n",
       "      <td>4</td>\n",
       "      <td>1</td>\n",
       "    </tr>\n",
       "    <tr>\n",
       "      <th>16840</th>\n",
       "      <td>5</td>\n",
       "      <td>NaN</td>\n",
       "      <td>Краснодарский край; Анапа; шоссе Супсехское; 4к3</td>\n",
       "      <td>4</td>\n",
       "      <td>1</td>\n",
       "    </tr>\n",
       "    <tr>\n",
       "      <th>16841</th>\n",
       "      <td>5</td>\n",
       "      <td>NaN</td>\n",
       "      <td>Краснодарский край; Анапа; Южный квартал ЖК</td>\n",
       "      <td>3</td>\n",
       "      <td>1</td>\n",
       "    </tr>\n",
       "  </tbody>\n",
       "</table>\n",
       "<p>1081 rows × 5 columns</p>\n",
       "</div>"
      ],
      "text/plain": [
       "       city_id  district_id  \\\n",
       "15761        5          NaN   \n",
       "15762        5          NaN   \n",
       "15763        5          NaN   \n",
       "15764        5          NaN   \n",
       "15765        5          NaN   \n",
       "...        ...          ...   \n",
       "16837        5          NaN   \n",
       "16838        5          NaN   \n",
       "16839        5          NaN   \n",
       "16840        5          NaN   \n",
       "16841        5          NaN   \n",
       "\n",
       "                                                    addr  len_addr  \\\n",
       "15761                          Краснодарский край; Анапа         2   \n",
       "15762                Краснодарский край; Анапа; 12-й мкр         3   \n",
       "15763            Краснодарский край; Анапа; 12-й мкр; 10         4   \n",
       "15764            Краснодарский край; Анапа; 12-й мкр; 11         4   \n",
       "15765            Краснодарский край; Анапа; 12-й мкр; 12         4   \n",
       "...                                                  ...       ...   \n",
       "16837  Краснодарский край; Анапа; шоссе Супсехское; 47к3         4   \n",
       "16838   Краснодарский край; Анапа; шоссе Супсехское; 4к1         4   \n",
       "16839   Краснодарский край; Анапа; шоссе Супсехское; 4к2         4   \n",
       "16840   Краснодарский край; Анапа; шоссе Супсехское; 4к3         4   \n",
       "16841        Краснодарский край; Анапа; Южный квартал ЖК         3   \n",
       "\n",
       "       len_addr_coma  \n",
       "15761              1  \n",
       "15762              1  \n",
       "15763              1  \n",
       "15764              1  \n",
       "15765              1  \n",
       "...              ...  \n",
       "16837              1  \n",
       "16838              1  \n",
       "16839              1  \n",
       "16840              1  \n",
       "16841              1  \n",
       "\n",
       "[1081 rows x 5 columns]"
      ]
     },
     "execution_count": 190,
     "metadata": {},
     "output_type": "execute_result"
    }
   ],
   "source": [
    "district_df[(district_df.city_id == 5)]"
   ]
  },
  {
   "cell_type": "code",
   "execution_count": 345,
   "id": "520a44ee",
   "metadata": {},
   "outputs": [],
   "source": [
    "# district_df[district_df.len_addr == 1].iloc[[random.randint(0,3610) for i in range(50)],:]"
   ]
  }
 ],
 "metadata": {
  "kernelspec": {
   "display_name": "Python 3 (ipykernel)",
   "language": "python",
   "name": "python3"
  },
  "language_info": {
   "codemirror_mode": {
    "name": "ipython",
    "version": 3
   },
   "file_extension": ".py",
   "mimetype": "text/x-python",
   "name": "python",
   "nbconvert_exporter": "python",
   "pygments_lexer": "ipython3",
   "version": "3.10.4"
  }
 },
 "nbformat": 4,
 "nbformat_minor": 5
}
