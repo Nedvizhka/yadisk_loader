{
 "cells": [
  {
   "cell_type": "code",
   "execution_count": 1,
   "id": "870c2eb3",
   "metadata": {
    "ExecuteTime": {
     "end_time": "2023-04-11T06:50:07.508830Z",
     "start_time": "2023-04-11T06:50:07.485671Z"
    }
   },
   "outputs": [
    {
     "data": {
      "text/html": [
       "<style>.container { width:90% !important; }</style>"
      ],
      "text/plain": [
       "<IPython.core.display.HTML object>"
      ]
     },
     "metadata": {},
     "output_type": "display_data"
    }
   ],
   "source": [
    "from IPython.display import display, HTML\n",
    "display(HTML(\"<style>.container { width:90% !important; }</style>\"))"
   ]
  },
  {
   "cell_type": "code",
   "execution_count": 2,
   "id": "8bc3c310",
   "metadata": {
    "ExecuteTime": {
     "end_time": "2023-04-11T06:50:09.213527Z",
     "start_time": "2023-04-11T06:50:07.513758Z"
    }
   },
   "outputs": [],
   "source": [
    "import sys\n",
    "sys.path.insert(1, 'C:/Users/pnknv/Documents/GitHub/yadisk_loader')\n",
    "from main_utils import *"
   ]
  },
  {
   "cell_type": "code",
   "execution_count": 3,
   "id": "79f7059c",
   "metadata": {},
   "outputs": [
    {
     "name": "stdout",
     "output_type": "stream",
     "text": [
      "Скрипт запущен:  17/04/2023, 22:00:28\n"
     ]
    }
   ],
   "source": [
    "st_time = datetime.now()\n",
    "print('Скрипт запущен: ', get_today_date())"
   ]
  },
  {
   "cell_type": "markdown",
   "id": "e3877904",
   "metadata": {},
   "source": [
    "# чтение локальных файлов"
   ]
  },
  {
   "cell_type": "code",
   "execution_count": 11,
   "id": "54e99f5e",
   "metadata": {},
   "outputs": [],
   "source": [
    "ilya_c = pd.read_csv('циан 16-04-23 (без дублей) new.csv', delimiter=',', encoding='utf8')"
   ]
  },
  {
   "cell_type": "code",
   "execution_count": 12,
   "id": "e5583a7a",
   "metadata": {},
   "outputs": [
    {
     "data": {
      "text/html": [
       "<div>\n",
       "<style scoped>\n",
       "    .dataframe tbody tr th:only-of-type {\n",
       "        vertical-align: middle;\n",
       "    }\n",
       "\n",
       "    .dataframe tbody tr th {\n",
       "        vertical-align: top;\n",
       "    }\n",
       "\n",
       "    .dataframe thead th {\n",
       "        text-align: right;\n",
       "    }\n",
       "</style>\n",
       "<table border=\"1\" class=\"dataframe\">\n",
       "  <thead>\n",
       "    <tr style=\"text-align: right;\">\n",
       "      <th></th>\n",
       "      <th>Ссылка</th>\n",
       "      <th>Заголовок</th>\n",
       "      <th>Комнат</th>\n",
       "      <th>Площадь</th>\n",
       "      <th>Этаж</th>\n",
       "      <th>Цена</th>\n",
       "      <th>Цена за м2</th>\n",
       "      <th>Название жк</th>\n",
       "      <th>Адрес</th>\n",
       "      <th>Дата публикации</th>\n",
       "      <th>Тип продавца</th>\n",
       "      <th>Продавец</th>\n",
       "    </tr>\n",
       "  </thead>\n",
       "  <tbody>\n",
       "    <tr>\n",
       "      <th>0</th>\n",
       "      <td>https://kazan.cian.ru/sale/flat/286179179/</td>\n",
       "      <td>1-комн. кв., 44,7 м², 1/10 этаж</td>\n",
       "      <td>1-комн. кв.</td>\n",
       "      <td>44,7 м²</td>\n",
       "      <td>1/10 этаж</td>\n",
       "      <td>7700000</td>\n",
       "      <td>172260</td>\n",
       "      <td>NaN</td>\n",
       "      <td>Республика Татарстан;Казань;р-н Кировский;мкр....</td>\n",
       "      <td>вчера (вчера, 14:40)</td>\n",
       "      <td>Агентство недвижимости</td>\n",
       "      <td>Альтера</td>\n",
       "    </tr>\n",
       "    <tr>\n",
       "      <th>1</th>\n",
       "      <td>https://kazan.cian.ru/sale/flat/286178456/</td>\n",
       "      <td>1-комн. кв., 43,2 м², 3/24 этаж</td>\n",
       "      <td>1-комн. кв.</td>\n",
       "      <td>43,2 м²</td>\n",
       "      <td>3/24 этаж</td>\n",
       "      <td>7125000</td>\n",
       "      <td>164931</td>\n",
       "      <td>ЖК «Ракета»</td>\n",
       "      <td>Республика Татарстан;Казань;р-н Советский;улиц...</td>\n",
       "      <td>два дня назад (13 апр, 14:17)</td>\n",
       "      <td>Риелтор</td>\n",
       "      <td>ID 67064013</td>\n",
       "    </tr>\n",
       "    <tr>\n",
       "      <th>2</th>\n",
       "      <td>https://kazan.cian.ru/sale/flat/286176086/</td>\n",
       "      <td>1-комн. кв., 40,8 м², 4/19 этаж</td>\n",
       "      <td>1-комн. кв.</td>\n",
       "      <td>40,8 м²</td>\n",
       "      <td>4/19 этаж</td>\n",
       "      <td>7500000</td>\n",
       "      <td>183824</td>\n",
       "      <td>ЖК «Золотая середина»</td>\n",
       "      <td>Республика Татарстан;Казань;р-н Ново-Савиновск...</td>\n",
       "      <td>вчера (14 апр, 10:54)</td>\n",
       "      <td>Агентство недвижимости</td>\n",
       "      <td>Альтера</td>\n",
       "    </tr>\n",
       "    <tr>\n",
       "      <th>3</th>\n",
       "      <td>https://kazan.cian.ru/sale/flat/286172402/</td>\n",
       "      <td>2-комн. кв., 60 м², 4/7 этаж</td>\n",
       "      <td>2-комн. кв.</td>\n",
       "      <td>60 м²</td>\n",
       "      <td>4/7 этаж</td>\n",
       "      <td>7599000</td>\n",
       "      <td>126650</td>\n",
       "      <td>NaN</td>\n",
       "      <td>Республика Татарстан;Казань;р-н Приволжский;мк...</td>\n",
       "      <td>1 минуту назад (сегодня, 10:29)</td>\n",
       "      <td>Агентство недвижимости</td>\n",
       "      <td>Ключ</td>\n",
       "    </tr>\n",
       "    <tr>\n",
       "      <th>4</th>\n",
       "      <td>https://kazan.cian.ru/sale/flat/286167953/</td>\n",
       "      <td>2-комн. кв., 45 м², 5/12 этаж</td>\n",
       "      <td>2-комн. кв.</td>\n",
       "      <td>45 м²</td>\n",
       "      <td>5/12 этаж</td>\n",
       "      <td>7500000</td>\n",
       "      <td>166667</td>\n",
       "      <td>ЖК «ул. Максимова»</td>\n",
       "      <td>Республика Татарстан;Казань;р-н Авиастроительн...</td>\n",
       "      <td>два дня назад (13 апр, 11:34)</td>\n",
       "      <td>Агентство недвижимости</td>\n",
       "      <td>ID 63036280</td>\n",
       "    </tr>\n",
       "  </tbody>\n",
       "</table>\n",
       "</div>"
      ],
      "text/plain": [
       "                                       Ссылка  \\\n",
       "0  https://kazan.cian.ru/sale/flat/286179179/   \n",
       "1  https://kazan.cian.ru/sale/flat/286178456/   \n",
       "2  https://kazan.cian.ru/sale/flat/286176086/   \n",
       "3  https://kazan.cian.ru/sale/flat/286172402/   \n",
       "4  https://kazan.cian.ru/sale/flat/286167953/   \n",
       "\n",
       "                         Заголовок       Комнат  Площадь       Этаж     Цена  \\\n",
       "0  1-комн. кв., 44,7 м², 1/10 этаж  1-комн. кв.  44,7 м²  1/10 этаж  7700000   \n",
       "1  1-комн. кв., 43,2 м², 3/24 этаж  1-комн. кв.  43,2 м²  3/24 этаж  7125000   \n",
       "2  1-комн. кв., 40,8 м², 4/19 этаж  1-комн. кв.  40,8 м²  4/19 этаж  7500000   \n",
       "3     2-комн. кв., 60 м², 4/7 этаж  2-комн. кв.    60 м²   4/7 этаж  7599000   \n",
       "4    2-комн. кв., 45 м², 5/12 этаж  2-комн. кв.    45 м²  5/12 этаж  7500000   \n",
       "\n",
       "   Цена за м2            Название жк  \\\n",
       "0      172260                    NaN   \n",
       "1      164931            ЖК «Ракета»   \n",
       "2      183824  ЖК «Золотая середина»   \n",
       "3      126650                    NaN   \n",
       "4      166667     ЖК «ул. Максимова»   \n",
       "\n",
       "                                               Адрес  \\\n",
       "0  Республика Татарстан;Казань;р-н Кировский;мкр....   \n",
       "1  Республика Татарстан;Казань;р-н Советский;улиц...   \n",
       "2  Республика Татарстан;Казань;р-н Ново-Савиновск...   \n",
       "3  Республика Татарстан;Казань;р-н Приволжский;мк...   \n",
       "4  Республика Татарстан;Казань;р-н Авиастроительн...   \n",
       "\n",
       "                   Дата публикации            Тип продавца     Продавец  \n",
       "0             вчера (вчера, 14:40)  Агентство недвижимости      Альтера  \n",
       "1    два дня назад (13 апр, 14:17)                 Риелтор  ID 67064013  \n",
       "2            вчера (14 апр, 10:54)  Агентство недвижимости      Альтера  \n",
       "3  1 минуту назад (сегодня, 10:29)  Агентство недвижимости         Ключ  \n",
       "4    два дня назад (13 апр, 11:34)  Агентство недвижимости  ID 63036280  "
      ]
     },
     "execution_count": 12,
     "metadata": {},
     "output_type": "execute_result"
    }
   ],
   "source": [
    "ilya_c.head(5)"
   ]
  },
  {
   "cell_type": "code",
   "execution_count": 13,
   "id": "7b1e5b6e",
   "metadata": {},
   "outputs": [],
   "source": [
    "ilya_a = pd.read_csv('16-04-23 (без дублей).csv', delimiter=';', encoding='utf8')"
   ]
  },
  {
   "cell_type": "code",
   "execution_count": 14,
   "id": "572069c5",
   "metadata": {},
   "outputs": [
    {
     "data": {
      "text/html": [
       "<div>\n",
       "<style scoped>\n",
       "    .dataframe tbody tr th:only-of-type {\n",
       "        vertical-align: middle;\n",
       "    }\n",
       "\n",
       "    .dataframe tbody tr th {\n",
       "        vertical-align: top;\n",
       "    }\n",
       "\n",
       "    .dataframe thead th {\n",
       "        text-align: right;\n",
       "    }\n",
       "</style>\n",
       "<table border=\"1\" class=\"dataframe\">\n",
       "  <thead>\n",
       "    <tr style=\"text-align: right;\">\n",
       "      <th></th>\n",
       "      <th>Ссылка</th>\n",
       "      <th>Заголовок</th>\n",
       "      <th>Комнат</th>\n",
       "      <th>Площадь</th>\n",
       "      <th>Этаж</th>\n",
       "      <th>Цена</th>\n",
       "      <th>Цена за м2</th>\n",
       "      <th>Название жк</th>\n",
       "      <th>Район</th>\n",
       "      <th>Улица</th>\n",
       "      <th>Дата публикации</th>\n",
       "      <th>Тип продавца</th>\n",
       "      <th>Продавец</th>\n",
       "      <th>Ссылка на продавца</th>\n",
       "      <th>Завершённых объявлений</th>\n",
       "    </tr>\n",
       "  </thead>\n",
       "  <tbody>\n",
       "    <tr>\n",
       "      <th>0</th>\n",
       "      <td>https://www.avito.ru/tomsk/kvartiry/2-k._kvart...</td>\n",
       "      <td>2-к. квартира, 45 м², 5/5 эт.</td>\n",
       "      <td>2-к. квартира</td>\n",
       "      <td>45 м²</td>\n",
       "      <td>5/5 эт.</td>\n",
       "      <td>3500000</td>\n",
       "      <td>77778.0</td>\n",
       "      <td>NaN</td>\n",
       "      <td>р-н Октябрьский</td>\n",
       "      <td>ул. Мичурина, 61Б</td>\n",
       "      <td>4 дня назад</td>\n",
       "      <td>Агентство</td>\n",
       "      <td>Городской центр недвижимости</td>\n",
       "      <td>https://www.avito.ru/user/95e1bbf88375e37753b4...</td>\n",
       "      <td>190</td>\n",
       "    </tr>\n",
       "    <tr>\n",
       "      <th>1</th>\n",
       "      <td>https://www.avito.ru/tomsk/kvartiry/3-k._kvart...</td>\n",
       "      <td>3-к. квартира, 62,3 м², 1/17 эт.</td>\n",
       "      <td>3-к. квартира</td>\n",
       "      <td>62,3 м²</td>\n",
       "      <td>1/17 эт.</td>\n",
       "      <td>4980000</td>\n",
       "      <td>79936.0</td>\n",
       "      <td>NaN</td>\n",
       "      <td>NaN</td>\n",
       "      <td>ул. Титова , д. 12</td>\n",
       "      <td>1 день назад</td>\n",
       "      <td>Застройщик</td>\n",
       "      <td>ОАО ТДСК</td>\n",
       "      <td>https://www.avito.ru/user/aa5496618ee23df30923...</td>\n",
       "      <td>500</td>\n",
       "    </tr>\n",
       "    <tr>\n",
       "      <th>2</th>\n",
       "      <td>https://www.avito.ru/tomsk/kvartiry/2-k._kvart...</td>\n",
       "      <td>2-к. квартира, 61,3 м², 6/6 эт.</td>\n",
       "      <td>2-к. квартира</td>\n",
       "      <td>61,3 м²</td>\n",
       "      <td>6/6 эт.</td>\n",
       "      <td>6009360</td>\n",
       "      <td>98032.0</td>\n",
       "      <td>NaN</td>\n",
       "      <td>NaN</td>\n",
       "      <td>ул. Василия Кандинского, д. 8</td>\n",
       "      <td>1 день назад</td>\n",
       "      <td>Застройщик</td>\n",
       "      <td>\"СЗ\"Карьероуправление\"</td>\n",
       "      <td>https://www.avito.ru/user/4187eee51af74e5107d1...</td>\n",
       "      <td>129</td>\n",
       "    </tr>\n",
       "    <tr>\n",
       "      <th>3</th>\n",
       "      <td>https://www.avito.ru/tomsk/kvartiry/1-k._kvart...</td>\n",
       "      <td>1-к. квартира, 34,9 м², 7/9 эт.</td>\n",
       "      <td>1-к. квартира</td>\n",
       "      <td>34,9 м²</td>\n",
       "      <td>7/9 эт.</td>\n",
       "      <td>3300000</td>\n",
       "      <td>94556.0</td>\n",
       "      <td>NaN</td>\n",
       "      <td>р-н Советский</td>\n",
       "      <td>Сибирская ул., 104</td>\n",
       "      <td>6 часов назад</td>\n",
       "      <td>Агентство</td>\n",
       "      <td>Перспектива24-Томск</td>\n",
       "      <td>https://www.avito.ru/user/b1f3c879b3fd07d3d782...</td>\n",
       "      <td>NaN</td>\n",
       "    </tr>\n",
       "    <tr>\n",
       "      <th>4</th>\n",
       "      <td>https://www.avito.ru/tomsk/kvartiry/1-k._kvart...</td>\n",
       "      <td>1-к. квартира, 32 м², 9/9 эт.</td>\n",
       "      <td>1-к. квартира</td>\n",
       "      <td>32 м²</td>\n",
       "      <td>9/9 эт.</td>\n",
       "      <td>2430000</td>\n",
       "      <td>75938.0</td>\n",
       "      <td>NaN</td>\n",
       "      <td>р-н Октябрьский</td>\n",
       "      <td>ул. Мичурина, 6А</td>\n",
       "      <td>4 дня назад</td>\n",
       "      <td>Частное лицо</td>\n",
       "      <td>NaN</td>\n",
       "      <td>NaN</td>\n",
       "      <td>NaN</td>\n",
       "    </tr>\n",
       "  </tbody>\n",
       "</table>\n",
       "</div>"
      ],
      "text/plain": [
       "                                              Ссылка  \\\n",
       "0  https://www.avito.ru/tomsk/kvartiry/2-k._kvart...   \n",
       "1  https://www.avito.ru/tomsk/kvartiry/3-k._kvart...   \n",
       "2  https://www.avito.ru/tomsk/kvartiry/2-k._kvart...   \n",
       "3  https://www.avito.ru/tomsk/kvartiry/1-k._kvart...   \n",
       "4  https://www.avito.ru/tomsk/kvartiry/1-k._kvart...   \n",
       "\n",
       "                          Заголовок         Комнат  Площадь      Этаж  \\\n",
       "0     2-к. квартира, 45 м², 5/5 эт.  2-к. квартира    45 м²   5/5 эт.   \n",
       "1  3-к. квартира, 62,3 м², 1/17 эт.  3-к. квартира  62,3 м²  1/17 эт.   \n",
       "2   2-к. квартира, 61,3 м², 6/6 эт.  2-к. квартира  61,3 м²   6/6 эт.   \n",
       "3   1-к. квартира, 34,9 м², 7/9 эт.  1-к. квартира  34,9 м²   7/9 эт.   \n",
       "4     1-к. квартира, 32 м², 9/9 эт.  1-к. квартира    32 м²   9/9 эт.   \n",
       "\n",
       "      Цена  Цена за м2 Название жк            Район  \\\n",
       "0  3500000     77778.0         NaN  р-н Октябрьский   \n",
       "1  4980000     79936.0         NaN              NaN   \n",
       "2  6009360     98032.0         NaN              NaN   \n",
       "3  3300000     94556.0         NaN    р-н Советский   \n",
       "4  2430000     75938.0         NaN  р-н Октябрьский   \n",
       "\n",
       "                           Улица Дата публикации  Тип продавца  \\\n",
       "0              ул. Мичурина, 61Б     4 дня назад     Агентство   \n",
       "1             ул. Титова , д. 12    1 день назад    Застройщик   \n",
       "2  ул. Василия Кандинского, д. 8    1 день назад    Застройщик   \n",
       "3             Сибирская ул., 104   6 часов назад     Агентство   \n",
       "4               ул. Мичурина, 6А     4 дня назад  Частное лицо   \n",
       "\n",
       "                       Продавец  \\\n",
       "0  Городской центр недвижимости   \n",
       "1                      ОАО ТДСК   \n",
       "2        \"СЗ\"Карьероуправление\"   \n",
       "3           Перспектива24-Томск   \n",
       "4                           NaN   \n",
       "\n",
       "                                  Ссылка на продавца Завершённых объявлений  \n",
       "0  https://www.avito.ru/user/95e1bbf88375e37753b4...                    190  \n",
       "1  https://www.avito.ru/user/aa5496618ee23df30923...                    500  \n",
       "2  https://www.avito.ru/user/4187eee51af74e5107d1...                    129  \n",
       "3  https://www.avito.ru/user/b1f3c879b3fd07d3d782...                    NaN  \n",
       "4                                                NaN                    NaN  "
      ]
     },
     "execution_count": 14,
     "metadata": {},
     "output_type": "execute_result"
    }
   ],
   "source": [
    "ilya_a.head(5)"
   ]
  },
  {
   "cell_type": "markdown",
   "id": "33585b03",
   "metadata": {},
   "source": [
    "# процесс импорта"
   ]
  },
  {
   "cell_type": "code",
   "execution_count": 15,
   "id": "fb99fa7c",
   "metadata": {},
   "outputs": [],
   "source": [
    "ssh_host, ssh_port, ssh_username, ssh_password, \\\n",
    "database_username, database_password, database_name, \\\n",
    "localhost, localhost_port, table_name, ya_token, ya_api, ya_link = get_config()"
   ]
  },
  {
   "cell_type": "code",
   "execution_count": 16,
   "id": "81153bfe",
   "metadata": {},
   "outputs": [],
   "source": [
    "sql_server, sql_engine = get_sql_engine(ssh_host, ssh_port, ssh_username, ssh_password, localhost, \n",
    "                                        localhost_port, database_username, database_password, database_name)"
   ]
  },
  {
   "cell_type": "code",
   "execution_count": null,
   "id": "dd5be551",
   "metadata": {},
   "outputs": [],
   "source": []
  }
 ],
 "metadata": {
  "kernelspec": {
   "display_name": "Python 3 (ipykernel)",
   "language": "python",
   "name": "python3"
  },
  "language_info": {
   "codemirror_mode": {
    "name": "ipython",
    "version": 3
   },
   "file_extension": ".py",
   "mimetype": "text/x-python",
   "name": "python",
   "nbconvert_exporter": "python",
   "pygments_lexer": "ipython3",
   "version": "3.10.4"
  }
 },
 "nbformat": 4,
 "nbformat_minor": 5
}
