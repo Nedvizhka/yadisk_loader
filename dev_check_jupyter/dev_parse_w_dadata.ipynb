{
 "cells": [
  {
   "cell_type": "code",
   "execution_count": 1,
   "id": "870c2eb3",
   "metadata": {
    "ExecuteTime": {
     "end_time": "2023-04-11T06:50:07.508830Z",
     "start_time": "2023-04-11T06:50:07.485671Z"
    }
   },
   "outputs": [
    {
     "data": {
      "text/html": [
       "<style>.container { width:90% !important; }</style>"
      ],
      "text/plain": [
       "<IPython.core.display.HTML object>"
      ]
     },
     "metadata": {},
     "output_type": "display_data"
    }
   ],
   "source": [
    "from IPython.display import display, HTML\n",
    "display(HTML(\"<style>.container { width:90% !important; }</style>\"))"
   ]
  },
  {
   "cell_type": "code",
   "execution_count": 2,
   "id": "8bc3c310",
   "metadata": {
    "ExecuteTime": {
     "end_time": "2023-04-11T06:50:09.213527Z",
     "start_time": "2023-04-11T06:50:07.513758Z"
    }
   },
   "outputs": [],
   "source": [
    "import sys\n",
    "sys.path.insert(1, 'C:/Users/pnknv/Documents/GitHub/yadisk_loader')\n",
    "from main_utils import *"
   ]
  },
  {
   "cell_type": "code",
   "execution_count": 3,
   "id": "33324490",
   "metadata": {},
   "outputs": [
    {
     "name": "stdout",
     "output_type": "stream",
     "text": [
      "Скрипт запущен:  18/04/2023, 00:33:19\n"
     ]
    }
   ],
   "source": [
    "st_time = datetime.now()\n",
    "print('Скрипт запущен: ', get_today_date())"
   ]
  },
  {
   "cell_type": "markdown",
   "id": "9af63602",
   "metadata": {},
   "source": [
    "# чтение локальных файлов"
   ]
  },
  {
   "cell_type": "code",
   "execution_count": 4,
   "id": "55e20db3",
   "metadata": {},
   "outputs": [],
   "source": [
    "ilya_c = pd.read_csv('циан 16-04-23 (без дублей) new.csv', delimiter=',', encoding='utf8')"
   ]
  },
  {
   "cell_type": "code",
   "execution_count": 5,
   "id": "18343a8f",
   "metadata": {},
   "outputs": [
    {
     "data": {
      "text/html": [
       "<div>\n",
       "<style scoped>\n",
       "    .dataframe tbody tr th:only-of-type {\n",
       "        vertical-align: middle;\n",
       "    }\n",
       "\n",
       "    .dataframe tbody tr th {\n",
       "        vertical-align: top;\n",
       "    }\n",
       "\n",
       "    .dataframe thead th {\n",
       "        text-align: right;\n",
       "    }\n",
       "</style>\n",
       "<table border=\"1\" class=\"dataframe\">\n",
       "  <thead>\n",
       "    <tr style=\"text-align: right;\">\n",
       "      <th></th>\n",
       "      <th>Ссылка</th>\n",
       "      <th>Заголовок</th>\n",
       "      <th>Комнат</th>\n",
       "      <th>Площадь</th>\n",
       "      <th>Этаж</th>\n",
       "      <th>Цена</th>\n",
       "      <th>Цена за м2</th>\n",
       "      <th>Название жк</th>\n",
       "      <th>Адрес</th>\n",
       "      <th>Дата публикации</th>\n",
       "      <th>Тип продавца</th>\n",
       "      <th>Продавец</th>\n",
       "    </tr>\n",
       "  </thead>\n",
       "  <tbody>\n",
       "    <tr>\n",
       "      <th>0</th>\n",
       "      <td>https://kazan.cian.ru/sale/flat/286179179/</td>\n",
       "      <td>1-комн. кв., 44,7 м², 1/10 этаж</td>\n",
       "      <td>1-комн. кв.</td>\n",
       "      <td>44,7 м²</td>\n",
       "      <td>1/10 этаж</td>\n",
       "      <td>7700000</td>\n",
       "      <td>172260</td>\n",
       "      <td>NaN</td>\n",
       "      <td>Республика Татарстан;Казань;р-н Кировский;мкр....</td>\n",
       "      <td>вчера (вчера, 14:40)</td>\n",
       "      <td>Агентство недвижимости</td>\n",
       "      <td>Альтера</td>\n",
       "    </tr>\n",
       "    <tr>\n",
       "      <th>1</th>\n",
       "      <td>https://kazan.cian.ru/sale/flat/286178456/</td>\n",
       "      <td>1-комн. кв., 43,2 м², 3/24 этаж</td>\n",
       "      <td>1-комн. кв.</td>\n",
       "      <td>43,2 м²</td>\n",
       "      <td>3/24 этаж</td>\n",
       "      <td>7125000</td>\n",
       "      <td>164931</td>\n",
       "      <td>ЖК «Ракета»</td>\n",
       "      <td>Республика Татарстан;Казань;р-н Советский;улиц...</td>\n",
       "      <td>два дня назад (13 апр, 14:17)</td>\n",
       "      <td>Риелтор</td>\n",
       "      <td>ID 67064013</td>\n",
       "    </tr>\n",
       "    <tr>\n",
       "      <th>2</th>\n",
       "      <td>https://kazan.cian.ru/sale/flat/286176086/</td>\n",
       "      <td>1-комн. кв., 40,8 м², 4/19 этаж</td>\n",
       "      <td>1-комн. кв.</td>\n",
       "      <td>40,8 м²</td>\n",
       "      <td>4/19 этаж</td>\n",
       "      <td>7500000</td>\n",
       "      <td>183824</td>\n",
       "      <td>ЖК «Золотая середина»</td>\n",
       "      <td>Республика Татарстан;Казань;р-н Ново-Савиновск...</td>\n",
       "      <td>вчера (14 апр, 10:54)</td>\n",
       "      <td>Агентство недвижимости</td>\n",
       "      <td>Альтера</td>\n",
       "    </tr>\n",
       "    <tr>\n",
       "      <th>3</th>\n",
       "      <td>https://kazan.cian.ru/sale/flat/286172402/</td>\n",
       "      <td>2-комн. кв., 60 м², 4/7 этаж</td>\n",
       "      <td>2-комн. кв.</td>\n",
       "      <td>60 м²</td>\n",
       "      <td>4/7 этаж</td>\n",
       "      <td>7599000</td>\n",
       "      <td>126650</td>\n",
       "      <td>NaN</td>\n",
       "      <td>Республика Татарстан;Казань;р-н Приволжский;мк...</td>\n",
       "      <td>1 минуту назад (сегодня, 10:29)</td>\n",
       "      <td>Агентство недвижимости</td>\n",
       "      <td>Ключ</td>\n",
       "    </tr>\n",
       "    <tr>\n",
       "      <th>4</th>\n",
       "      <td>https://kazan.cian.ru/sale/flat/286167953/</td>\n",
       "      <td>2-комн. кв., 45 м², 5/12 этаж</td>\n",
       "      <td>2-комн. кв.</td>\n",
       "      <td>45 м²</td>\n",
       "      <td>5/12 этаж</td>\n",
       "      <td>7500000</td>\n",
       "      <td>166667</td>\n",
       "      <td>ЖК «ул. Максимова»</td>\n",
       "      <td>Республика Татарстан;Казань;р-н Авиастроительн...</td>\n",
       "      <td>два дня назад (13 апр, 11:34)</td>\n",
       "      <td>Агентство недвижимости</td>\n",
       "      <td>ID 63036280</td>\n",
       "    </tr>\n",
       "  </tbody>\n",
       "</table>\n",
       "</div>"
      ],
      "text/plain": [
       "                                       Ссылка  \\\n",
       "0  https://kazan.cian.ru/sale/flat/286179179/   \n",
       "1  https://kazan.cian.ru/sale/flat/286178456/   \n",
       "2  https://kazan.cian.ru/sale/flat/286176086/   \n",
       "3  https://kazan.cian.ru/sale/flat/286172402/   \n",
       "4  https://kazan.cian.ru/sale/flat/286167953/   \n",
       "\n",
       "                         Заголовок       Комнат  Площадь       Этаж     Цена  \\\n",
       "0  1-комн. кв., 44,7 м², 1/10 этаж  1-комн. кв.  44,7 м²  1/10 этаж  7700000   \n",
       "1  1-комн. кв., 43,2 м², 3/24 этаж  1-комн. кв.  43,2 м²  3/24 этаж  7125000   \n",
       "2  1-комн. кв., 40,8 м², 4/19 этаж  1-комн. кв.  40,8 м²  4/19 этаж  7500000   \n",
       "3     2-комн. кв., 60 м², 4/7 этаж  2-комн. кв.    60 м²   4/7 этаж  7599000   \n",
       "4    2-комн. кв., 45 м², 5/12 этаж  2-комн. кв.    45 м²  5/12 этаж  7500000   \n",
       "\n",
       "   Цена за м2            Название жк  \\\n",
       "0      172260                    NaN   \n",
       "1      164931            ЖК «Ракета»   \n",
       "2      183824  ЖК «Золотая середина»   \n",
       "3      126650                    NaN   \n",
       "4      166667     ЖК «ул. Максимова»   \n",
       "\n",
       "                                               Адрес  \\\n",
       "0  Республика Татарстан;Казань;р-н Кировский;мкр....   \n",
       "1  Республика Татарстан;Казань;р-н Советский;улиц...   \n",
       "2  Республика Татарстан;Казань;р-н Ново-Савиновск...   \n",
       "3  Республика Татарстан;Казань;р-н Приволжский;мк...   \n",
       "4  Республика Татарстан;Казань;р-н Авиастроительн...   \n",
       "\n",
       "                   Дата публикации            Тип продавца     Продавец  \n",
       "0             вчера (вчера, 14:40)  Агентство недвижимости      Альтера  \n",
       "1    два дня назад (13 апр, 14:17)                 Риелтор  ID 67064013  \n",
       "2            вчера (14 апр, 10:54)  Агентство недвижимости      Альтера  \n",
       "3  1 минуту назад (сегодня, 10:29)  Агентство недвижимости         Ключ  \n",
       "4    два дня назад (13 апр, 11:34)  Агентство недвижимости  ID 63036280  "
      ]
     },
     "execution_count": 5,
     "metadata": {},
     "output_type": "execute_result"
    }
   ],
   "source": [
    "ilya_c.head(5)"
   ]
  },
  {
   "cell_type": "code",
   "execution_count": 6,
   "id": "df5485a5",
   "metadata": {},
   "outputs": [],
   "source": [
    "ilya_a = pd.read_csv('16-04-23 (без дублей).csv', delimiter=';', encoding='utf8')"
   ]
  },
  {
   "cell_type": "code",
   "execution_count": 7,
   "id": "f2dbc958",
   "metadata": {},
   "outputs": [
    {
     "data": {
      "text/html": [
       "<div>\n",
       "<style scoped>\n",
       "    .dataframe tbody tr th:only-of-type {\n",
       "        vertical-align: middle;\n",
       "    }\n",
       "\n",
       "    .dataframe tbody tr th {\n",
       "        vertical-align: top;\n",
       "    }\n",
       "\n",
       "    .dataframe thead th {\n",
       "        text-align: right;\n",
       "    }\n",
       "</style>\n",
       "<table border=\"1\" class=\"dataframe\">\n",
       "  <thead>\n",
       "    <tr style=\"text-align: right;\">\n",
       "      <th></th>\n",
       "      <th>Ссылка</th>\n",
       "      <th>Заголовок</th>\n",
       "      <th>Комнат</th>\n",
       "      <th>Площадь</th>\n",
       "      <th>Этаж</th>\n",
       "      <th>Цена</th>\n",
       "      <th>Цена за м2</th>\n",
       "      <th>Название жк</th>\n",
       "      <th>Район</th>\n",
       "      <th>Улица</th>\n",
       "      <th>Дата публикации</th>\n",
       "      <th>Тип продавца</th>\n",
       "      <th>Продавец</th>\n",
       "      <th>Ссылка на продавца</th>\n",
       "      <th>Завершённых объявлений</th>\n",
       "    </tr>\n",
       "  </thead>\n",
       "  <tbody>\n",
       "    <tr>\n",
       "      <th>0</th>\n",
       "      <td>https://www.avito.ru/tomsk/kvartiry/2-k._kvart...</td>\n",
       "      <td>2-к. квартира, 45 м², 5/5 эт.</td>\n",
       "      <td>2-к. квартира</td>\n",
       "      <td>45 м²</td>\n",
       "      <td>5/5 эт.</td>\n",
       "      <td>3500000</td>\n",
       "      <td>77778.0</td>\n",
       "      <td>NaN</td>\n",
       "      <td>р-н Октябрьский</td>\n",
       "      <td>ул. Мичурина, 61Б</td>\n",
       "      <td>4 дня назад</td>\n",
       "      <td>Агентство</td>\n",
       "      <td>Городской центр недвижимости</td>\n",
       "      <td>https://www.avito.ru/user/95e1bbf88375e37753b4...</td>\n",
       "      <td>190</td>\n",
       "    </tr>\n",
       "    <tr>\n",
       "      <th>1</th>\n",
       "      <td>https://www.avito.ru/tomsk/kvartiry/3-k._kvart...</td>\n",
       "      <td>3-к. квартира, 62,3 м², 1/17 эт.</td>\n",
       "      <td>3-к. квартира</td>\n",
       "      <td>62,3 м²</td>\n",
       "      <td>1/17 эт.</td>\n",
       "      <td>4980000</td>\n",
       "      <td>79936.0</td>\n",
       "      <td>NaN</td>\n",
       "      <td>NaN</td>\n",
       "      <td>ул. Титова , д. 12</td>\n",
       "      <td>1 день назад</td>\n",
       "      <td>Застройщик</td>\n",
       "      <td>ОАО ТДСК</td>\n",
       "      <td>https://www.avito.ru/user/aa5496618ee23df30923...</td>\n",
       "      <td>500</td>\n",
       "    </tr>\n",
       "    <tr>\n",
       "      <th>2</th>\n",
       "      <td>https://www.avito.ru/tomsk/kvartiry/2-k._kvart...</td>\n",
       "      <td>2-к. квартира, 61,3 м², 6/6 эт.</td>\n",
       "      <td>2-к. квартира</td>\n",
       "      <td>61,3 м²</td>\n",
       "      <td>6/6 эт.</td>\n",
       "      <td>6009360</td>\n",
       "      <td>98032.0</td>\n",
       "      <td>NaN</td>\n",
       "      <td>NaN</td>\n",
       "      <td>ул. Василия Кандинского, д. 8</td>\n",
       "      <td>1 день назад</td>\n",
       "      <td>Застройщик</td>\n",
       "      <td>\"СЗ\"Карьероуправление\"</td>\n",
       "      <td>https://www.avito.ru/user/4187eee51af74e5107d1...</td>\n",
       "      <td>129</td>\n",
       "    </tr>\n",
       "    <tr>\n",
       "      <th>3</th>\n",
       "      <td>https://www.avito.ru/tomsk/kvartiry/1-k._kvart...</td>\n",
       "      <td>1-к. квартира, 34,9 м², 7/9 эт.</td>\n",
       "      <td>1-к. квартира</td>\n",
       "      <td>34,9 м²</td>\n",
       "      <td>7/9 эт.</td>\n",
       "      <td>3300000</td>\n",
       "      <td>94556.0</td>\n",
       "      <td>NaN</td>\n",
       "      <td>р-н Советский</td>\n",
       "      <td>Сибирская ул., 104</td>\n",
       "      <td>6 часов назад</td>\n",
       "      <td>Агентство</td>\n",
       "      <td>Перспектива24-Томск</td>\n",
       "      <td>https://www.avito.ru/user/b1f3c879b3fd07d3d782...</td>\n",
       "      <td>NaN</td>\n",
       "    </tr>\n",
       "    <tr>\n",
       "      <th>4</th>\n",
       "      <td>https://www.avito.ru/tomsk/kvartiry/1-k._kvart...</td>\n",
       "      <td>1-к. квартира, 32 м², 9/9 эт.</td>\n",
       "      <td>1-к. квартира</td>\n",
       "      <td>32 м²</td>\n",
       "      <td>9/9 эт.</td>\n",
       "      <td>2430000</td>\n",
       "      <td>75938.0</td>\n",
       "      <td>NaN</td>\n",
       "      <td>р-н Октябрьский</td>\n",
       "      <td>ул. Мичурина, 6А</td>\n",
       "      <td>4 дня назад</td>\n",
       "      <td>Частное лицо</td>\n",
       "      <td>NaN</td>\n",
       "      <td>NaN</td>\n",
       "      <td>NaN</td>\n",
       "    </tr>\n",
       "  </tbody>\n",
       "</table>\n",
       "</div>"
      ],
      "text/plain": [
       "                                              Ссылка  \\\n",
       "0  https://www.avito.ru/tomsk/kvartiry/2-k._kvart...   \n",
       "1  https://www.avito.ru/tomsk/kvartiry/3-k._kvart...   \n",
       "2  https://www.avito.ru/tomsk/kvartiry/2-k._kvart...   \n",
       "3  https://www.avito.ru/tomsk/kvartiry/1-k._kvart...   \n",
       "4  https://www.avito.ru/tomsk/kvartiry/1-k._kvart...   \n",
       "\n",
       "                          Заголовок         Комнат  Площадь      Этаж  \\\n",
       "0     2-к. квартира, 45 м², 5/5 эт.  2-к. квартира    45 м²   5/5 эт.   \n",
       "1  3-к. квартира, 62,3 м², 1/17 эт.  3-к. квартира  62,3 м²  1/17 эт.   \n",
       "2   2-к. квартира, 61,3 м², 6/6 эт.  2-к. квартира  61,3 м²   6/6 эт.   \n",
       "3   1-к. квартира, 34,9 м², 7/9 эт.  1-к. квартира  34,9 м²   7/9 эт.   \n",
       "4     1-к. квартира, 32 м², 9/9 эт.  1-к. квартира    32 м²   9/9 эт.   \n",
       "\n",
       "      Цена  Цена за м2 Название жк            Район  \\\n",
       "0  3500000     77778.0         NaN  р-н Октябрьский   \n",
       "1  4980000     79936.0         NaN              NaN   \n",
       "2  6009360     98032.0         NaN              NaN   \n",
       "3  3300000     94556.0         NaN    р-н Советский   \n",
       "4  2430000     75938.0         NaN  р-н Октябрьский   \n",
       "\n",
       "                           Улица Дата публикации  Тип продавца  \\\n",
       "0              ул. Мичурина, 61Б     4 дня назад     Агентство   \n",
       "1             ул. Титова , д. 12    1 день назад    Застройщик   \n",
       "2  ул. Василия Кандинского, д. 8    1 день назад    Застройщик   \n",
       "3             Сибирская ул., 104   6 часов назад     Агентство   \n",
       "4               ул. Мичурина, 6А     4 дня назад  Частное лицо   \n",
       "\n",
       "                       Продавец  \\\n",
       "0  Городской центр недвижимости   \n",
       "1                      ОАО ТДСК   \n",
       "2        \"СЗ\"Карьероуправление\"   \n",
       "3           Перспектива24-Томск   \n",
       "4                           NaN   \n",
       "\n",
       "                                  Ссылка на продавца Завершённых объявлений  \n",
       "0  https://www.avito.ru/user/95e1bbf88375e37753b4...                    190  \n",
       "1  https://www.avito.ru/user/aa5496618ee23df30923...                    500  \n",
       "2  https://www.avito.ru/user/4187eee51af74e5107d1...                    129  \n",
       "3  https://www.avito.ru/user/b1f3c879b3fd07d3d782...                    NaN  \n",
       "4                                                NaN                    NaN  "
      ]
     },
     "execution_count": 7,
     "metadata": {},
     "output_type": "execute_result"
    }
   ],
   "source": [
    "ilya_a.head(5)"
   ]
  },
  {
   "cell_type": "markdown",
   "id": "96ab1eeb",
   "metadata": {},
   "source": [
    "# процесс импорта"
   ]
  },
  {
   "cell_type": "code",
   "execution_count": 8,
   "id": "c15acb00",
   "metadata": {},
   "outputs": [],
   "source": [
    "ssh_host, ssh_port, ssh_username, ssh_password, \\\n",
    "database_username, database_password, database_name, \\\n",
    "localhost, localhost_port, table_name, ya_token, ya_api, ya_link = get_config()"
   ]
  },
  {
   "cell_type": "code",
   "execution_count": 9,
   "id": "c4c2af59",
   "metadata": {},
   "outputs": [],
   "source": [
    "sql_server, sql_engine = get_sql_engine(ssh_host, ssh_port, ssh_username, ssh_password, localhost, \n",
    "                                        localhost_port, database_username, database_password, database_name)"
   ]
  },
  {
   "cell_type": "code",
   "execution_count": 10,
   "id": "23927348",
   "metadata": {},
   "outputs": [],
   "source": [
    "local_save_dir_avito = create_load_save_dir('avito')\n",
    "local_save_dir_cian = create_load_save_dir('cian')"
   ]
  },
  {
   "cell_type": "code",
   "execution_count": 11,
   "id": "2e4f8d4e",
   "metadata": {},
   "outputs": [],
   "source": [
    "handled_files_avito = get_saved_files_names('avito')\n",
    "handled_files_cian = get_saved_files_names('cian')"
   ]
  },
  {
   "cell_type": "code",
   "execution_count": 12,
   "id": "d55c1c0a",
   "metadata": {},
   "outputs": [],
   "source": [
    "files_to_process_avito = ['16-04-23 (без дублей).csv']\n",
    "files_to_process_cian = ['циан 16-04-23 (без дублей) new.csv']"
   ]
  },
  {
   "cell_type": "markdown",
   "id": "acd450a8",
   "metadata": {},
   "source": [
    "### cian"
   ]
  },
  {
   "cell_type": "code",
   "execution_count": 14,
   "id": "cf888e1d",
   "metadata": {},
   "outputs": [
    {
     "name": "stdout",
     "output_type": "stream",
     "text": [
      "обработка файла циан 16-04-23 (без дублей) new.csv для cian\n",
      "добавлен новый район \"кварталы 68\" в districts функцией district_from_rn_mkrn\n",
      "добавлен новый район \"кварталы 38\" в districts функцией district_from_rn_mkrn\n",
      "добавлен новый район \"кварталы 25\" в districts функцией district_from_rn_mkrn\n",
      "Успешно обработан файл циан 16-04-23 (без дублей) new.csv для realty\n"
     ]
    }
   ],
   "source": [
    "# check cian from ilya\n",
    "for filename in files_to_process_cian:\n",
    "    # обработка realty циан\n",
    "    print('обработка файла {} для cian'.format(filename))\n",
    "    df_cian_realty, file_date, error_file_processing = process_realty(local_save_dir_cian, filename,\n",
    "                                                                      sql_engine, 'cian')"
   ]
  },
  {
   "cell_type": "code",
   "execution_count": 15,
   "id": "1cad27b4",
   "metadata": {},
   "outputs": [
    {
     "data": {
      "text/html": [
       "<div>\n",
       "<style scoped>\n",
       "    .dataframe tbody tr th:only-of-type {\n",
       "        vertical-align: middle;\n",
       "    }\n",
       "\n",
       "    .dataframe tbody tr th {\n",
       "        vertical-align: top;\n",
       "    }\n",
       "\n",
       "    .dataframe thead th {\n",
       "        text-align: right;\n",
       "    }\n",
       "</style>\n",
       "<table border=\"1\" class=\"dataframe\">\n",
       "  <thead>\n",
       "    <tr style=\"text-align: right;\">\n",
       "      <th></th>\n",
       "      <th>source_id</th>\n",
       "      <th>ad_id</th>\n",
       "      <th>city_id</th>\n",
       "      <th>district_id</th>\n",
       "      <th>type_id</th>\n",
       "      <th>addr</th>\n",
       "      <th>square</th>\n",
       "      <th>floor</th>\n",
       "      <th>house_floors</th>\n",
       "      <th>link</th>\n",
       "      <th>date</th>\n",
       "      <th>status</th>\n",
       "      <th>version</th>\n",
       "      <th>offer_from</th>\n",
       "      <th>status_new</th>\n",
       "      <th>price</th>\n",
       "      <th>price_sqrm</th>\n",
       "    </tr>\n",
       "  </thead>\n",
       "  <tbody>\n",
       "    <tr>\n",
       "      <th>0</th>\n",
       "      <td>2</td>\n",
       "      <td>286179179</td>\n",
       "      <td>12.0</td>\n",
       "      <td>179</td>\n",
       "      <td>3</td>\n",
       "      <td>Республика Татарстан; Казань; р-н Кировский; м...</td>\n",
       "      <td>44.7</td>\n",
       "      <td>1</td>\n",
       "      <td>10</td>\n",
       "      <td>https://kazan.cian.ru/sale/flat/286179179/</td>\n",
       "      <td>2023-04-16</td>\n",
       "      <td>0</td>\n",
       "      <td>292</td>\n",
       "      <td>Агентство недвижимости</td>\n",
       "      <td>1</td>\n",
       "      <td>7700000</td>\n",
       "      <td>172260</td>\n",
       "    </tr>\n",
       "    <tr>\n",
       "      <th>1</th>\n",
       "      <td>2</td>\n",
       "      <td>286178456</td>\n",
       "      <td>12.0</td>\n",
       "      <td>362</td>\n",
       "      <td>3</td>\n",
       "      <td>Республика Татарстан; Казань; р-н Советский; у...</td>\n",
       "      <td>43.2</td>\n",
       "      <td>3</td>\n",
       "      <td>24</td>\n",
       "      <td>https://kazan.cian.ru/sale/flat/286178456/</td>\n",
       "      <td>2023-04-16</td>\n",
       "      <td>0</td>\n",
       "      <td>292</td>\n",
       "      <td>Риелтор</td>\n",
       "      <td>1</td>\n",
       "      <td>7125000</td>\n",
       "      <td>164931</td>\n",
       "    </tr>\n",
       "  </tbody>\n",
       "</table>\n",
       "</div>"
      ],
      "text/plain": [
       "   source_id      ad_id  city_id district_id  type_id  \\\n",
       "0          2  286179179     12.0         179        3   \n",
       "1          2  286178456     12.0         362        3   \n",
       "\n",
       "                                                addr  square floor  \\\n",
       "0  Республика Татарстан; Казань; р-н Кировский; м...    44.7     1   \n",
       "1  Республика Татарстан; Казань; р-н Советский; у...    43.2     3   \n",
       "\n",
       "  house_floors                                        link       date  status  \\\n",
       "0           10  https://kazan.cian.ru/sale/flat/286179179/ 2023-04-16       0   \n",
       "1           24  https://kazan.cian.ru/sale/flat/286178456/ 2023-04-16       0   \n",
       "\n",
       "   version              offer_from  status_new    price  price_sqrm  \n",
       "0      292  Агентство недвижимости           1  7700000      172260  \n",
       "1      292                 Риелтор           1  7125000      164931  "
      ]
     },
     "execution_count": 15,
     "metadata": {},
     "output_type": "execute_result"
    }
   ],
   "source": [
    "df_cian_realty.head(2)"
   ]
  },
  {
   "cell_type": "code",
   "execution_count": 16,
   "id": "434e9d73",
   "metadata": {},
   "outputs": [],
   "source": [
    "exist_ad_id_cian, error_getting_ad_id = get_exist_ad_id(sql_engine, 'cian')\n",
    "exist_ad_id_cian = exist_ad_id_cian.ad_id.to_list()"
   ]
  },
  {
   "cell_type": "code",
   "execution_count": 17,
   "id": "1e6ff0b0",
   "metadata": {},
   "outputs": [],
   "source": [
    "cian_realty_exist = df_cian_realty[df_cian_realty.ad_id.isin(exist_ad_id_cian)][list_realty_cols]\n",
    "cian_realty_new = df_cian_realty[~df_cian_realty.ad_id.isin(exist_ad_id_cian)][list_realty_cols]"
   ]
  },
  {
   "cell_type": "code",
   "execution_count": 18,
   "id": "b6a88de2",
   "metadata": {},
   "outputs": [
    {
     "name": "stdout",
     "output_type": "stream",
     "text": [
      "80582\n",
      "0\n"
     ]
    },
    {
     "data": {
      "text/html": [
       "<div>\n",
       "<style scoped>\n",
       "    .dataframe tbody tr th:only-of-type {\n",
       "        vertical-align: middle;\n",
       "    }\n",
       "\n",
       "    .dataframe tbody tr th {\n",
       "        vertical-align: top;\n",
       "    }\n",
       "\n",
       "    .dataframe thead th {\n",
       "        text-align: right;\n",
       "    }\n",
       "</style>\n",
       "<table border=\"1\" class=\"dataframe\">\n",
       "  <thead>\n",
       "    <tr style=\"text-align: right;\">\n",
       "      <th></th>\n",
       "      <th>source_id</th>\n",
       "      <th>ad_id</th>\n",
       "      <th>city_id</th>\n",
       "      <th>district_id</th>\n",
       "      <th>type_id</th>\n",
       "      <th>addr</th>\n",
       "      <th>square</th>\n",
       "      <th>floor</th>\n",
       "      <th>house_floors</th>\n",
       "      <th>link</th>\n",
       "      <th>date</th>\n",
       "      <th>status</th>\n",
       "      <th>version</th>\n",
       "      <th>offer_from</th>\n",
       "      <th>status_new</th>\n",
       "    </tr>\n",
       "  </thead>\n",
       "  <tbody>\n",
       "    <tr>\n",
       "      <th>0</th>\n",
       "      <td>2</td>\n",
       "      <td>286179179</td>\n",
       "      <td>12.0</td>\n",
       "      <td>179</td>\n",
       "      <td>3</td>\n",
       "      <td>Республика Татарстан; Казань; р-н Кировский; м...</td>\n",
       "      <td>44.7</td>\n",
       "      <td>1</td>\n",
       "      <td>10</td>\n",
       "      <td>https://kazan.cian.ru/sale/flat/286179179/</td>\n",
       "      <td>2023-04-16</td>\n",
       "      <td>0</td>\n",
       "      <td>292</td>\n",
       "      <td>Агентство недвижимости</td>\n",
       "      <td>1</td>\n",
       "    </tr>\n",
       "    <tr>\n",
       "      <th>1</th>\n",
       "      <td>2</td>\n",
       "      <td>286178456</td>\n",
       "      <td>12.0</td>\n",
       "      <td>362</td>\n",
       "      <td>3</td>\n",
       "      <td>Республика Татарстан; Казань; р-н Советский; у...</td>\n",
       "      <td>43.2</td>\n",
       "      <td>3</td>\n",
       "      <td>24</td>\n",
       "      <td>https://kazan.cian.ru/sale/flat/286178456/</td>\n",
       "      <td>2023-04-16</td>\n",
       "      <td>0</td>\n",
       "      <td>292</td>\n",
       "      <td>Риелтор</td>\n",
       "      <td>1</td>\n",
       "    </tr>\n",
       "  </tbody>\n",
       "</table>\n",
       "</div>"
      ],
      "text/plain": [
       "   source_id      ad_id  city_id district_id  type_id  \\\n",
       "0          2  286179179     12.0         179        3   \n",
       "1          2  286178456     12.0         362        3   \n",
       "\n",
       "                                                addr  square floor  \\\n",
       "0  Республика Татарстан; Казань; р-н Кировский; м...    44.7     1   \n",
       "1  Республика Татарстан; Казань; р-н Советский; у...    43.2     3   \n",
       "\n",
       "  house_floors                                        link       date  status  \\\n",
       "0           10  https://kazan.cian.ru/sale/flat/286179179/ 2023-04-16       0   \n",
       "1           24  https://kazan.cian.ru/sale/flat/286178456/ 2023-04-16       0   \n",
       "\n",
       "   version              offer_from  status_new  \n",
       "0      292  Агентство недвижимости           1  \n",
       "1      292                 Риелтор           1  "
      ]
     },
     "execution_count": 18,
     "metadata": {},
     "output_type": "execute_result"
    }
   ],
   "source": [
    "print(len(cian_realty_new))\n",
    "print(len(cian_realty_exist))\n",
    "cian_realty_new.head(2)"
   ]
  },
  {
   "cell_type": "code",
   "execution_count": 19,
   "id": "19d9b501",
   "metadata": {},
   "outputs": [
    {
     "name": "stdout",
     "output_type": "stream",
     "text": [
      "81784\n",
      "64130\n"
     ]
    }
   ],
   "source": [
    "c_1day = pd.read_csv(\"циан 15-04-23 (без дублей) new.csv\", delimiter=',', encoding='utf8')\n",
    "c_1m = pd.read_csv(\"циан 16-03-23 (без дублей).csv\", delimiter=';', encoding='utf8')\n",
    "c_1day['ad_id'] = c_1day['Ссылка'].apply(lambda x: x.split('/')[-2])\n",
    "c_1m['ad_id'] = c_1m['Ссылка'].apply(lambda x: x.split('/')[-2])\n",
    "c_1day_adids = c_1day.ad_id.unique().tolist()\n",
    "c_1m_adids = c_1m.ad_id.unique().tolist()\n",
    "print(len(c_1day_adids))\n",
    "print(len(c_1m_adids))"
   ]
  },
  {
   "cell_type": "code",
   "execution_count": 20,
   "id": "b8590ec7",
   "metadata": {},
   "outputs": [
    {
     "name": "stdout",
     "output_type": "stream",
     "text": [
      "77680\n",
      "2902\n",
      "36167\n",
      "44415\n"
     ]
    }
   ],
   "source": [
    "print(len(df_cian_realty[df_cian_realty.ad_id.isin(c_1day_adids)][list_realty_cols]))\n",
    "print(len(df_cian_realty[~df_cian_realty.ad_id.isin(c_1day_adids)][list_realty_cols]))\n",
    "print(len(df_cian_realty[df_cian_realty.ad_id.isin(c_1m_adids)][list_realty_cols]))\n",
    "print(len(df_cian_realty[~df_cian_realty.ad_id.isin(c_1m_adids)][list_realty_cols]))"
   ]
  },
  {
   "cell_type": "code",
   "execution_count": 45,
   "id": "3d9eb9a5",
   "metadata": {},
   "outputs": [],
   "source": [
    "df_cian_realty.to_csv('processed_cian_16.csv')"
   ]
  },
  {
   "cell_type": "markdown",
   "id": "013a22d1",
   "metadata": {},
   "source": [
    "### avito"
   ]
  },
  {
   "cell_type": "code",
   "execution_count": 21,
   "id": "c1c620cb",
   "metadata": {},
   "outputs": [
    {
     "name": "stdout",
     "output_type": "stream",
     "text": [
      "обработка файла 16-04-23 (без дублей).csv для avito\n",
      "Успешно обработан файл 16-04-23 (без дублей).csv для realty\n"
     ]
    }
   ],
   "source": [
    "# check avito from ilya\n",
    "for filename in files_to_process_avito:\n",
    "    # обработка realty циан\n",
    "    print('обработка файла {} для avito'.format(filename))\n",
    "    df_avito_realty, file_date, error_file_processing = process_realty(local_save_dir_avito, filename,\n",
    "                                                                      sql_engine, 'avito')"
   ]
  },
  {
   "cell_type": "code",
   "execution_count": 40,
   "id": "b9947519",
   "metadata": {},
   "outputs": [
    {
     "name": "stdout",
     "output_type": "stream",
     "text": [
      "120188\n"
     ]
    },
    {
     "data": {
      "text/html": [
       "<div>\n",
       "<style scoped>\n",
       "    .dataframe tbody tr th:only-of-type {\n",
       "        vertical-align: middle;\n",
       "    }\n",
       "\n",
       "    .dataframe tbody tr th {\n",
       "        vertical-align: top;\n",
       "    }\n",
       "\n",
       "    .dataframe thead th {\n",
       "        text-align: right;\n",
       "    }\n",
       "</style>\n",
       "<table border=\"1\" class=\"dataframe\">\n",
       "  <thead>\n",
       "    <tr style=\"text-align: right;\">\n",
       "      <th></th>\n",
       "      <th>source_id</th>\n",
       "      <th>ad_id</th>\n",
       "      <th>city_id</th>\n",
       "      <th>district_id</th>\n",
       "      <th>type_id</th>\n",
       "      <th>addr</th>\n",
       "      <th>square</th>\n",
       "      <th>floor</th>\n",
       "      <th>house_floors</th>\n",
       "      <th>link</th>\n",
       "      <th>date</th>\n",
       "      <th>status</th>\n",
       "      <th>version</th>\n",
       "      <th>offer_from</th>\n",
       "      <th>status_new</th>\n",
       "      <th>Цена</th>\n",
       "      <th>Цена за м2</th>\n",
       "    </tr>\n",
       "  </thead>\n",
       "  <tbody>\n",
       "    <tr>\n",
       "      <th>0</th>\n",
       "      <td>3</td>\n",
       "      <td>2888300632</td>\n",
       "      <td>17</td>\n",
       "      <td>391</td>\n",
       "      <td>4</td>\n",
       "      <td>Томск; р-н Октябрьский; ул. Мичурина; 61Б</td>\n",
       "      <td>45.0</td>\n",
       "      <td>5</td>\n",
       "      <td>5</td>\n",
       "      <td>https://www.avito.ru/tomsk/kvartiry/2-k._kvart...</td>\n",
       "      <td>2023-04-16</td>\n",
       "      <td>0</td>\n",
       "      <td>1</td>\n",
       "      <td>Агентство</td>\n",
       "      <td>1</td>\n",
       "      <td>3500000.0</td>\n",
       "      <td>77778.0</td>\n",
       "    </tr>\n",
       "    <tr>\n",
       "      <th>1</th>\n",
       "      <td>3</td>\n",
       "      <td>2882533936</td>\n",
       "      <td>17</td>\n",
       "      <td>None</td>\n",
       "      <td>5</td>\n",
       "      <td>Томск; ул. Титова ; д. 12</td>\n",
       "      <td>62.3</td>\n",
       "      <td>1</td>\n",
       "      <td>17</td>\n",
       "      <td>https://www.avito.ru/tomsk/kvartiry/3-k._kvart...</td>\n",
       "      <td>2023-04-16</td>\n",
       "      <td>0</td>\n",
       "      <td>1</td>\n",
       "      <td>Застройщик</td>\n",
       "      <td>1</td>\n",
       "      <td>4980000.0</td>\n",
       "      <td>79936.0</td>\n",
       "    </tr>\n",
       "  </tbody>\n",
       "</table>\n",
       "</div>"
      ],
      "text/plain": [
       "   source_id       ad_id  city_id district_id type_id  \\\n",
       "0          3  2888300632       17         391       4   \n",
       "1          3  2882533936       17        None       5   \n",
       "\n",
       "                                        addr  square floor house_floors  \\\n",
       "0  Томск; р-н Октябрьский; ул. Мичурина; 61Б    45.0     5            5   \n",
       "1                  Томск; ул. Титова ; д. 12    62.3     1           17   \n",
       "\n",
       "                                                link       date  status  \\\n",
       "0  https://www.avito.ru/tomsk/kvartiry/2-k._kvart... 2023-04-16       0   \n",
       "1  https://www.avito.ru/tomsk/kvartiry/3-k._kvart... 2023-04-16       0   \n",
       "\n",
       "   version  offer_from  status_new       Цена  Цена за м2  \n",
       "0        1   Агентство           1  3500000.0     77778.0  \n",
       "1        1  Застройщик           1  4980000.0     79936.0  "
      ]
     },
     "execution_count": 40,
     "metadata": {},
     "output_type": "execute_result"
    }
   ],
   "source": [
    "print(len(df_avito_realty))\n",
    "df_avito_realty.head(2)"
   ]
  },
  {
   "cell_type": "code",
   "execution_count": 41,
   "id": "10f5591f",
   "metadata": {},
   "outputs": [
    {
     "name": "stdout",
     "output_type": "stream",
     "text": [
      "121829\n",
      "121053\n"
     ]
    }
   ],
   "source": [
    "a_1day = pd.read_csv(\"15-04-23 (без дублей).csv\", delimiter=';', encoding='utf8')\n",
    "a_1m = pd.read_csv(\"16-03-23 (без дублей).csv\", delimiter=';', encoding='utf8')\n",
    "a_1day['ad_id'] = a_1day['Ссылка'].apply(lambda x: x.split('_')[-1])\n",
    "a_1m['ad_id'] = a_1m['Ссылка'].apply(lambda x: x.split('_')[-1])\n",
    "a_1day_adids = a_1day.ad_id.unique().tolist()\n",
    "a_1m_adids = a_1m.ad_id.unique().tolist()\n",
    "print(len(a_1day_adids))\n",
    "print(len(a_1m_adids))"
   ]
  },
  {
   "cell_type": "code",
   "execution_count": 42,
   "id": "246db3d3",
   "metadata": {},
   "outputs": [
    {
     "name": "stdout",
     "output_type": "stream",
     "text": [
      "114448\n",
      "5740\n",
      "75569\n",
      "44619\n"
     ]
    }
   ],
   "source": [
    "print(len(df_avito_realty[df_avito_realty.ad_id.isin(a_1day_adids)][list_realty_cols]))\n",
    "print(len(df_avito_realty[~df_avito_realty.ad_id.isin(a_1day_adids)][list_realty_cols]))\n",
    "print(len(df_avito_realty[df_avito_realty.ad_id.isin(a_1m_adids)][list_realty_cols]))\n",
    "print(len(df_avito_realty[~df_avito_realty.ad_id.isin(a_1m_adids)][list_realty_cols]))"
   ]
  },
  {
   "cell_type": "code",
   "execution_count": 44,
   "id": "521b8c8e",
   "metadata": {},
   "outputs": [],
   "source": [
    "df_avito_realty.to_csv('processed_avito_16.csv')"
   ]
  },
  {
   "cell_type": "markdown",
   "id": "f9b811b4",
   "metadata": {},
   "source": [
    "# обновленный функционал для обращения к dadata и записи в иные таблицы"
   ]
  },
  {
   "cell_type": "code",
   "execution_count": 100,
   "id": "92729b65",
   "metadata": {},
   "outputs": [],
   "source": [
    "from dadata import Dadata\n",
    "token = \"f288b25edb6d05b5ceb4d957376104a181c4adee\"\n",
    "secret = \"9d337ae6b9901a6708802eaca6d7055ce2c64772\"\n",
    "dadata = Dadata(token, secret)"
   ]
  },
  {
   "cell_type": "code",
   "execution_count": 101,
   "id": "e807d7ce",
   "metadata": {},
   "outputs": [],
   "source": [
    "df_avito_realty = pd.read_csv('processed_avito_16.csv', index_col=0)\n",
    "df_cian_realty = pd.read_csv('processed_cian_16.csv', index_col=0)"
   ]
  },
  {
   "cell_type": "code",
   "execution_count": 102,
   "id": "452847b1",
   "metadata": {},
   "outputs": [],
   "source": [
    "df_avito_realty_sample = df_avito_realty.sample(500, random_state=111)\n",
    "df_cian_realty_sample = df_cian_realty.sample(500, random_state=111)"
   ]
  },
  {
   "cell_type": "code",
   "execution_count": 106,
   "id": "dc90a6ac",
   "metadata": {},
   "outputs": [
    {
     "data": {
      "text/plain": [
       "datetime.timedelta(seconds=174, microseconds=565384)"
      ]
     },
     "execution_count": 106,
     "metadata": {},
     "output_type": "execute_result"
    }
   ],
   "source": [
    "st_time = datetime.now()\n",
    "df_avito_realty_sample['data'] = None\n",
    "for i, row in df_avito_realty_sample.iterrows():\n",
    "    dadata_result = dadata.clean(\"address\", row.addr)\n",
    "    df_avito_realty_sample.at[i, 'data'] = dadata_result\n",
    "datetime.now() - st_time"
   ]
  },
  {
   "cell_type": "code",
   "execution_count": 107,
   "id": "417c5214",
   "metadata": {},
   "outputs": [],
   "source": [
    "# авито: \n",
    "# запрос к дадате 500 адресов - 3 минуты\n",
    "# за день приходит 5700 записей по 7 городам\n",
    "# в итоге время загрузки увеличивается на 5700/500 * 3 = 34 минуты"
   ]
  },
  {
   "cell_type": "code",
   "execution_count": 164,
   "id": "576b4d1c",
   "metadata": {},
   "outputs": [],
   "source": [
    "df_avito_realty_sample.to_csv('dadata_avito_16_sample.csv')"
   ]
  },
  {
   "cell_type": "code",
   "execution_count": 152,
   "id": "dd4a4c04",
   "metadata": {},
   "outputs": [
    {
     "data": {
      "text/plain": [
       "datetime.timedelta(seconds=151, microseconds=198536)"
      ]
     },
     "execution_count": 152,
     "metadata": {},
     "output_type": "execute_result"
    }
   ],
   "source": [
    "st_time = datetime.now()\n",
    "df_cian_realty_sample['data'] = None\n",
    "for i, row in df_cian_realty_sample.iterrows():\n",
    "    dadata_result = dadata.clean(\"address\", '; '.join([row.addr.split('; ')[index] for index in [0, 1, -2, -1]]))\n",
    "    df_cian_realty_sample.at[i, 'data'] = dadata_result\n",
    "datetime.now() - st_time"
   ]
  },
  {
   "cell_type": "code",
   "execution_count": 157,
   "id": "217f1896",
   "metadata": {},
   "outputs": [],
   "source": [
    "# циан: \n",
    "# запрос к дадате 500 адресов - 2.5 минуты\n",
    "# за день приходит 2700 записей по 7 городам\n",
    "# в итоге время загрузки увеличивается на 2902/500 * 3 = 17 минуты"
   ]
  },
  {
   "cell_type": "code",
   "execution_count": 163,
   "id": "cd04910e",
   "metadata": {},
   "outputs": [],
   "source": [
    "df_cian_realty_sample.to_csv('dadata_cian_16_sample.csv')"
   ]
  },
  {
   "cell_type": "code",
   "execution_count": null,
   "id": "80279d87",
   "metadata": {},
   "outputs": [],
   "source": []
  }
 ],
 "metadata": {
  "kernelspec": {
   "display_name": "Python 3 (ipykernel)",
   "language": "python",
   "name": "python3"
  },
  "language_info": {
   "codemirror_mode": {
    "name": "ipython",
    "version": 3
   },
   "file_extension": ".py",
   "mimetype": "text/x-python",
   "name": "python",
   "nbconvert_exporter": "python",
   "pygments_lexer": "ipython3",
   "version": "3.10.4"
  }
 },
 "nbformat": 4,
 "nbformat_minor": 5
}
