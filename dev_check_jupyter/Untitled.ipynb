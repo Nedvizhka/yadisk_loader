{
 "cells": [
  {
   "cell_type": "code",
   "execution_count": 1,
   "id": "870c2eb3",
   "metadata": {},
   "outputs": [
    {
     "data": {
      "text/html": [
       "<style>.container { width:90% !important; }</style>"
      ],
      "text/plain": [
       "<IPython.core.display.HTML object>"
      ]
     },
     "metadata": {},
     "output_type": "display_data"
    }
   ],
   "source": [
    "from IPython.display import display, HTML\n",
    "display(HTML(\"<style>.container { width:90% !important; }</style>\"))"
   ]
  },
  {
   "cell_type": "code",
   "execution_count": 2,
   "id": "8bc3c310",
   "metadata": {},
   "outputs": [],
   "source": [
    "import sys\n",
    "sys.path.insert(1, 'C:/Users/pnknv/Documents/GitHub/yadisk_loader')\n",
    "from main_utils import *"
   ]
  },
  {
   "cell_type": "markdown",
   "id": "c57cd317",
   "metadata": {},
   "source": [
    "Необходимо создать алгоритм обновления существующих и добавления несуществующих файлов в realty </br>\n",
    "В prices необходимо добавлять все пришедшие цены\n"
   ]
  },
  {
   "cell_type": "markdown",
   "id": "feee52c0",
   "metadata": {},
   "source": [
    "# вопросы \n",
    "### 0. ЧТО НУЖНО ДОБАВИТЬ\n",
    " <b>ad_id в realty и houses в bigint</b> </br> \n",
    " <b>добавить колонку с названиями городов из авито из ссылки</b> </br> \n",
    " <b>добавить индекс к ad_id realty</b> </br>\n",
    " <b>добавлять темповую таблицу для обновления realty</b> </br>\n",
    "\n",
    "### 1. Колонки \n",
    "Какие из колонок могут измениться? </br> \n",
    "Ключ: ад_айди + ссылка, все остальные на новые значения, STATUS = ? STATUS_NEW=? house_id=?\n",
    "### 2. Обновление тест базы\n",
    "Как часто происходи?"
   ]
  },
  {
   "cell_type": "code",
   "execution_count": 3,
   "id": "0cfbb863",
   "metadata": {},
   "outputs": [
    {
     "name": "stdout",
     "output_type": "stream",
     "text": [
      "Скрипт запущен:  04/04/2023, 21:08:01\n"
     ]
    }
   ],
   "source": [
    "st_time = datetime.now()\n",
    "print('Скрипт запущен: ', get_today_date())"
   ]
  },
  {
   "cell_type": "code",
   "execution_count": 4,
   "id": "3cb7dfc4",
   "metadata": {},
   "outputs": [],
   "source": [
    "ssh_host, ssh_port, ssh_username, ssh_password, \\\n",
    "database_username, database_password, database_name, \\\n",
    "localhost, localhost_port, table_name, ya_token, ya_api, ya_link = get_config()"
   ]
  },
  {
   "cell_type": "code",
   "execution_count": 5,
   "id": "912334cc",
   "metadata": {},
   "outputs": [],
   "source": [
    "local_save_dir_avito = create_load_save_dir('avito')\n",
    "local_save_dir_cian = create_load_save_dir('cian')"
   ]
  },
  {
   "cell_type": "code",
   "execution_count": 6,
   "id": "ea3998cd",
   "metadata": {},
   "outputs": [],
   "source": [
    "sql_server, sql_engine = get_sql_engine(ssh_host, ssh_port, ssh_username, ssh_password, localhost,\n",
    "                                        localhost_port, database_username, database_password, database_name)"
   ]
  },
  {
   "cell_type": "code",
   "execution_count": 7,
   "id": "d0c3c5f3",
   "metadata": {},
   "outputs": [],
   "source": [
    "handled_files_avito = get_saved_files_names('avito')\n",
    "handled_files_cian = get_saved_files_names('cian')"
   ]
  },
  {
   "cell_type": "code",
   "execution_count": 8,
   "id": "5d030a8c",
   "metadata": {},
   "outputs": [],
   "source": [
    "files_to_process_avito = ['27-03-23 (без дублей).csv']\n",
    "files_to_process_cian = ['27-03-23.csv']"
   ]
  },
  {
   "cell_type": "markdown",
   "id": "8bc73332",
   "metadata": {},
   "source": [
    "#### функции для новой таблицы"
   ]
  },
  {
   "cell_type": "code",
   "execution_count": 27,
   "id": "90ee7090",
   "metadata": {},
   "outputs": [],
   "source": [
    "create_table_query = \\\n",
    "    \"\"\"CREATE TABLE `temp_realty` (\n",
    "      `id` int(11) NOT NULL AUTO_INCREMENT,\n",
    "      `source_id` int(11) DEFAULT NULL,\n",
    "      `ad_id` BIGINT DEFAULT NULL,\n",
    "      `city_id` int(11) DEFAULT NULL,\n",
    "      `district_id` int(11) DEFAULT NULL,\n",
    "      `type_id` int(11) DEFAULT NULL,\n",
    "      `addr` varchar(255) DEFAULT NULL,\n",
    "      `square` float DEFAULT '0',\n",
    "      `floor` int(11) DEFAULT NULL,\n",
    "      `house_floors` int(11) DEFAULT NULL,\n",
    "      `link` varchar(512) DEFAULT NULL,\n",
    "      `date` timestamp NULL DEFAULT CURRENT_TIMESTAMP,\n",
    "      `status` int(11) DEFAULT '0',\n",
    "      `version` int(11) DEFAULT '0',\n",
    "      `offer_from` varchar(255) DEFAULT NULL,\n",
    "      `status_new` int(1) NOT NULL DEFAULT '0',\n",
    "      `house_id` int(11) DEFAULT NULL,\n",
    "      PRIMARY KEY (`id`)\n",
    "    ) ENGINE=InnoDB DEFAULT CHARSET=utf8 AVG_ROW_LENGTH=2048 ROW_FORMAT=DYNAMIC;\"\"\"\n",
    "\n",
    "index_show_query = \\\n",
    "f\"\"\"SHOW indexes FROM temp_realty\"\"\"\n",
    "\n",
    "index_create_query = \\\n",
    "f\"\"\"CREATE INDEX index_ad_id_temp\n",
    "    ON temp_realty (ad_id);\"\"\"\n",
    "\n",
    "clear_temp_table_query = \\\n",
    "    \"\"\"DELETE FROM temp_realty\"\"\""
   ]
  },
  {
   "cell_type": "code",
   "execution_count": 107,
   "id": "ac9aa9d9",
   "metadata": {},
   "outputs": [],
   "source": [
    "def get_exist_ad_id(engine, source):\n",
    "    source_id = 2 if source == 'cian' else 3\n",
    "    ad_id_query = f'SELECT ad_id FROM realty where source_id = {source_id}'\n",
    "    try:\n",
    "        con_obj = engine.connect()\n",
    "        ad_id_db = pd.read_sql(text(ad_id_query), con=con_obj)\n",
    "        con_obj.close()\n",
    "        exc_code = None\n",
    "    except Exception as exc:\n",
    "        print(traceback.format_exc())\n",
    "        ad_id_db = None\n",
    "        exc_code = exc.code\n",
    "    return ad_id_db, exc_code"
   ]
  },
  {
   "cell_type": "code",
   "execution_count": 108,
   "id": "f42790cc",
   "metadata": {},
   "outputs": [],
   "source": [
    "exist_ad_id, exc_code = get_exist_ad_id(sql_engine, 'avito')"
   ]
  },
  {
   "cell_type": "code",
   "execution_count": 109,
   "id": "94174014",
   "metadata": {},
   "outputs": [
    {
     "data": {
      "text/html": [
       "<div>\n",
       "<style scoped>\n",
       "    .dataframe tbody tr th:only-of-type {\n",
       "        vertical-align: middle;\n",
       "    }\n",
       "\n",
       "    .dataframe tbody tr th {\n",
       "        vertical-align: top;\n",
       "    }\n",
       "\n",
       "    .dataframe thead th {\n",
       "        text-align: right;\n",
       "    }\n",
       "</style>\n",
       "<table border=\"1\" class=\"dataframe\">\n",
       "  <thead>\n",
       "    <tr style=\"text-align: right;\">\n",
       "      <th></th>\n",
       "      <th>ad_id</th>\n",
       "    </tr>\n",
       "  </thead>\n",
       "  <tbody>\n",
       "  </tbody>\n",
       "</table>\n",
       "</div>"
      ],
      "text/plain": [
       "Empty DataFrame\n",
       "Columns: [ad_id]\n",
       "Index: []"
      ]
     },
     "execution_count": 109,
     "metadata": {},
     "output_type": "execute_result"
    }
   ],
   "source": [
    "exist_ad_id"
   ]
  },
  {
   "cell_type": "code",
   "execution_count": 114,
   "id": "cedfa6ed",
   "metadata": {},
   "outputs": [],
   "source": [
    "def get_date_from_name(fname):\n",
    "    try:\n",
    "        return datetime.strptime(fname.replace(\"(без дублей)\", \"\").replace(\"циан\", \"\").replace(\" \", \"\")[:8], \"%d-%m-%y\")\n",
    "    except:\n",
    "        return datetime.strptime(Path(fname).stem.replace(\"(без дублей)\", \"\").replace(\"циан\", \"\").replace(\" \", \"\")[:8],\n",
    "                                 \"%d-%m-%y\")"
   ]
  },
  {
   "cell_type": "code",
   "execution_count": 116,
   "id": "103bb293",
   "metadata": {},
   "outputs": [
    {
     "data": {
      "text/plain": [
       "'27-03-23'"
      ]
     },
     "execution_count": 116,
     "metadata": {},
     "output_type": "execute_result"
    }
   ],
   "source": [
    "'27-03-23 (без дублей) (1).csv'.replace(\"(без дублей)\", \"\").replace(\"циан\", \"\").replace(\" \", \"\")[:8]"
   ]
  },
  {
   "cell_type": "code",
   "execution_count": 117,
   "id": "09096283",
   "metadata": {},
   "outputs": [
    {
     "data": {
      "text/plain": [
       "56"
      ]
     },
     "execution_count": 117,
     "metadata": {},
     "output_type": "execute_result"
    }
   ],
   "source": [
    "len([\"https://krasnodar.cian.ru/sale/flat/268501106/\",\"https://krasnodar.cian.ru/sale/flat/283122800/\",\"https://krasnodar.cian.ru/sale/flat/268652963/\",\"https://krasnodar.cian.ru/sale/flat/269285250/\",\"https://krasnodar.cian.ru/sale/flat/271542659/\",\"https://krasnodar.cian.ru/sale/flat/272617108/\",\"https://krasnodar.cian.ru/sale/flat/274448884/\",\"https://krasnodar.cian.ru/sale/flat/274845706/\",\"https://krasnodar.cian.ru/sale/flat/275282872/\",\"https://krasnodar.cian.ru/sale/flat/275681690/\",\"https://krasnodar.cian.ru/sale/flat/275683266/\",\"https://krasnodar.cian.ru/sale/flat/275683299/\",\"https://krasnodar.cian.ru/sale/flat/276624685/\",\"https://krasnodar.cian.ru/sale/flat/276764488/\",\"https://krasnodar.cian.ru/sale/flat/276987150/\",\"https://krasnodar.cian.ru/sale/flat/277302326/\",\"https://krasnodar.cian.ru/sale/flat/277927684/\",\"https://krasnodar.cian.ru/sale/flat/278329463/\",\"https://krasnodar.cian.ru/sale/flat/278603161/\",\"https://krasnodar.cian.ru/sale/flat/279519245/\",\"https://krasnodar.cian.ru/sale/flat/279605237/\",\"https://krasnodar.cian.ru/sale/flat/279829358/\",\"https://krasnodar.cian.ru/sale/flat/279989436/\",\"https://krasnodar.cian.ru/sale/flat/280097662/\",\"https://krasnodar.cian.ru/sale/flat/280296242/\",\"https://krasnodar.cian.ru/sale/flat/280457302/\",\"https://krasnodar.cian.ru/sale/flat/280460442/\",\"https://krasnodar.cian.ru/sale/flat/280713746/\",\"https://krasnodar.cian.ru/sale/flat/280766006/\",\"https://krasnodar.cian.ru/sale/flat/281330536/\",\"https://krasnodar.cian.ru/sale/flat/281445988/\",\"https://krasnodar.cian.ru/sale/flat/282352991/\",\"https://krasnodar.cian.ru/sale/flat/282579269/\",\"https://krasnodar.cian.ru/sale/flat/282744947/\",\"https://krasnodar.cian.ru/sale/flat/282760988/\",\"https://krasnodar.cian.ru/sale/flat/282839211/\",\"https://krasnodar.cian.ru/sale/flat/283266808/\",\"https://krasnodar.cian.ru/sale/flat/283562495/\",\"https://krasnodar.cian.ru/sale/flat/283567314/\",\"https://krasnodar.cian.ru/sale/flat/283819748/\",\"https://krasnodar.cian.ru/sale/flat/284076018/\",\"https://krasnodar.cian.ru/sale/flat/284115904/\",\"https://krasnodar.cian.ru/sale/flat/284128488/\",\"https://krasnodar.cian.ru/sale/flat/284262813/\",\"https://krasnodar.cian.ru/sale/flat/284366625/\",\"https://krasnodar.cian.ru/sale/flat/284386276/\",\"https://krasnodar.cian.ru/sale/flat/284496690/\",\"https://krasnodar.cian.ru/sale/flat/284518734/\",\"https://krasnodar.cian.ru/sale/flat/284677180/\",\"https://krasnodar.cian.ru/sale/flat/284677421/\",\"https://krasnodar.cian.ru/sale/flat/284704508/\",\"https://krasnodar.cian.ru/sale/flat/275683652/\",\"https://krasnodar.cian.ru/sale/flat/284814448/\",\"https://krasnodar.cian.ru/sale/flat/284864849/\",\"https://krasnodar.cian.ru/sale/flat/285115336/\",\"https://krasnodar.cian.ru/sale/flat/285252354/\"])"
   ]
  },
  {
   "cell_type": "code",
   "execution_count": 115,
   "id": "66925697",
   "metadata": {},
   "outputs": [
    {
     "data": {
      "text/plain": [
       "datetime.datetime(2023, 3, 27, 0, 0)"
      ]
     },
     "execution_count": 115,
     "metadata": {},
     "output_type": "execute_result"
    }
   ],
   "source": [
    "get_date_from_name('27-03-23 (без дублей) (1).csv')"
   ]
  },
  {
   "cell_type": "code",
   "execution_count": 30,
   "id": "b3d4a0f4",
   "metadata": {},
   "outputs": [],
   "source": [
    "def get_index_temp(engine):\n",
    "    index_show_query = \\\n",
    "        f\"\"\"SHOW indexes FROM temp_realty\"\"\"\n",
    "    try:\n",
    "        con_obj = engine.connect()\n",
    "        index_db = pd.read_sql(text(index_show_query), con=con_obj)\n",
    "        con_obj.close()\n",
    "        exc_code = None\n",
    "    except Exception as exc:\n",
    "        print(traceback.format_exc())\n",
    "        index_db = None\n",
    "        exc_code = exc.code\n",
    "    return index_db, exc_code"
   ]
  },
  {
   "cell_type": "code",
   "execution_count": 110,
   "id": "4f112151",
   "metadata": {},
   "outputs": [
    {
     "name": "stdout",
     "output_type": "stream",
     "text": [
      "a\n"
     ]
    }
   ],
   "source": [
    "con_obj = sql_engine.connect()\n",
    "if 'index_ad_id_temp' in get_index_temp(sql_engine)[0].Key_name.to_list():\n",
    "        print('a')\n",
    "# else:\n",
    "#     con_obj.execute(text(index_create_query))"
   ]
  },
  {
   "cell_type": "code",
   "execution_count": 28,
   "id": "ca533643",
   "metadata": {},
   "outputs": [
    {
     "name": "stdout",
     "output_type": "stream",
     "text": [
      "Временная таблица создана\n"
     ]
    }
   ],
   "source": [
    "con_obj = sql_engine.connect()\n",
    "try:\n",
    "    con_obj.execute(text(create_table_query))\n",
    "    if 'index_ad_id_temp' in get_index_temp(sql_engine)[0].Key_name.to_list():\n",
    "        pass\n",
    "    else:\n",
    "        con_obj.execute(text(index_create_query))\n",
    "    con_obj.commit()\n",
    "    print('Временная таблица создана')\n",
    "except:\n",
    "    con_obj.execute(text(clear_table_query))\n",
    "    con_obj.commit()\n",
    "    print('Временная таблица очищена')\n",
    "con_obj.close()"
   ]
  },
  {
   "cell_type": "code",
   "execution_count": 16,
   "id": "95e33cdc",
   "metadata": {},
   "outputs": [
    {
     "name": "stdout",
     "output_type": "stream",
     "text": [
      "обработка файла 27-03-23.csv для cian\n",
      "Успешно обработан файл 27-03-23.csv для realty\n",
      "Выгрузка в таблицу realty обработанного файла из cian: 27-03-23.csv\n"
     ]
    }
   ],
   "source": [
    "for filename in files_to_process_cian:\n",
    "    # обработка realty циан\n",
    "    print('обработка файла {} для cian'.format(filename))\n",
    "    df_cian_realty, file_date, error_file_processing = process_realty(local_save_dir_cian, filename,\n",
    "                                                                      sql_engine, 'cian')\n",
    "\n",
    "    # проверка состояния\n",
    "    if error_file_processing:\n",
    "        print('Ошибка при обработке файлов из CIAN {}. Перезапуск скрипта...'.format(filename))\n",
    "        error_processing_files = True\n",
    "        break\n",
    "    else:\n",
    "        error_processing_files = False\n",
    "        print('Выгрузка в таблицу realty обработанного файла из cian:', filename)\n",
    "\n",
    "    # загрузка realty в таблицу\n",
    "    try:\n",
    "#         df_cian_realty[list_realty_cols].to_sql(name='realty', con=sql_engine, if_exists='append',\n",
    "#                                chunksize=7000, method='multi', index=False)\n",
    "        # df_cian_realty.to_csv(f'{filename}_test_cian_realty.csv')\n",
    "        error_writing_files = False\n",
    "    except Exception as exc:\n",
    "        print(exc)\n",
    "        print('Не удалось добавить данные в таблицу {}. Перезапуск скрипта...'.format('realty'))\n",
    "        error_writing_files = True\n",
    "        break"
   ]
  },
  {
   "cell_type": "markdown",
   "id": "ec06bca9",
   "metadata": {},
   "source": [
    "# апдейт"
   ]
  },
  {
   "cell_type": "code",
   "execution_count": 74,
   "id": "64b205f2",
   "metadata": {},
   "outputs": [],
   "source": [
    "def asd():\n",
    "    print('a')\n",
    "    return"
   ]
  },
  {
   "cell_type": "code",
   "execution_count": 75,
   "id": "2f4622c9",
   "metadata": {},
   "outputs": [
    {
     "name": "stdout",
     "output_type": "stream",
     "text": [
      "a\n"
     ]
    }
   ],
   "source": [
    "asd()"
   ]
  },
  {
   "cell_type": "code",
   "execution_count": 18,
   "id": "00c657c1",
   "metadata": {},
   "outputs": [],
   "source": [
    "exist_ad_id = get_exist_ad_id(sql_engine, 'cian')[0].ad_id.to_list()"
   ]
  },
  {
   "cell_type": "code",
   "execution_count": 36,
   "id": "e3f1b30c",
   "metadata": {},
   "outputs": [],
   "source": [
    "df_cian_realty_exist___ = df_cian_realty[df_cian_realty.ad_id.isin([])][list_realty_cols]"
   ]
  },
  {
   "cell_type": "code",
   "execution_count": 38,
   "id": "d2968b5a",
   "metadata": {},
   "outputs": [
    {
     "data": {
      "text/plain": [
       "0"
      ]
     },
     "execution_count": 38,
     "metadata": {},
     "output_type": "execute_result"
    }
   ],
   "source": [
    "len(df_cian_realty_exist___)"
   ]
  },
  {
   "cell_type": "code",
   "execution_count": 120,
   "id": "bdd6cf3d",
   "metadata": {},
   "outputs": [
    {
     "data": {
      "text/html": [
       "<div>\n",
       "<style scoped>\n",
       "    .dataframe tbody tr th:only-of-type {\n",
       "        vertical-align: middle;\n",
       "    }\n",
       "\n",
       "    .dataframe tbody tr th {\n",
       "        vertical-align: top;\n",
       "    }\n",
       "\n",
       "    .dataframe thead th {\n",
       "        text-align: right;\n",
       "    }\n",
       "</style>\n",
       "<table border=\"1\" class=\"dataframe\">\n",
       "  <thead>\n",
       "    <tr style=\"text-align: right;\">\n",
       "      <th></th>\n",
       "      <th>source_id</th>\n",
       "      <th>ad_id</th>\n",
       "      <th>city_id</th>\n",
       "      <th>district_id</th>\n",
       "      <th>type_id</th>\n",
       "      <th>addr</th>\n",
       "      <th>square</th>\n",
       "      <th>floor</th>\n",
       "      <th>house_floors</th>\n",
       "      <th>link</th>\n",
       "      <th>date</th>\n",
       "      <th>status</th>\n",
       "      <th>version</th>\n",
       "      <th>offer_from</th>\n",
       "      <th>status_new</th>\n",
       "    </tr>\n",
       "  </thead>\n",
       "  <tbody>\n",
       "    <tr>\n",
       "      <th>1189</th>\n",
       "      <td>2</td>\n",
       "      <td>270328443</td>\n",
       "      <td>5.0</td>\n",
       "      <td>NaN</td>\n",
       "      <td>6</td>\n",
       "      <td>Краснодарский край; Анапа; Владимирская улица;...</td>\n",
       "      <td>95.0</td>\n",
       "      <td>20</td>\n",
       "      <td>20</td>\n",
       "      <td>https://anapa.cian.ru/sale/flat/270328443/</td>\n",
       "      <td>2023-03-27</td>\n",
       "      <td>None</td>\n",
       "      <td>274</td>\n",
       "      <td>NaN</td>\n",
       "      <td>1</td>\n",
       "    </tr>\n",
       "    <tr>\n",
       "      <th>3306</th>\n",
       "      <td>2</td>\n",
       "      <td>278996199</td>\n",
       "      <td>5.0</td>\n",
       "      <td>NaN</td>\n",
       "      <td>3</td>\n",
       "      <td>Краснодарский край; Анапа; Алексеевка мкр; ули...</td>\n",
       "      <td>35.0</td>\n",
       "      <td>6</td>\n",
       "      <td>7</td>\n",
       "      <td>https://anapa.cian.ru/sale/flat/278996199/</td>\n",
       "      <td>2023-03-27</td>\n",
       "      <td>None</td>\n",
       "      <td>274</td>\n",
       "      <td>Собственник</td>\n",
       "      <td>1</td>\n",
       "    </tr>\n",
       "    <tr>\n",
       "      <th>3433</th>\n",
       "      <td>2</td>\n",
       "      <td>279241124</td>\n",
       "      <td>5.0</td>\n",
       "      <td>NaN</td>\n",
       "      <td>2</td>\n",
       "      <td>Краснодарский край; Анапа; Таманская улица; 12...</td>\n",
       "      <td>26.0</td>\n",
       "      <td>5</td>\n",
       "      <td>6</td>\n",
       "      <td>https://anapa.cian.ru/sale/flat/279241124/</td>\n",
       "      <td>2023-03-27</td>\n",
       "      <td>None</td>\n",
       "      <td>274</td>\n",
       "      <td>Агентство недвижимости</td>\n",
       "      <td>1</td>\n",
       "    </tr>\n",
       "    <tr>\n",
       "      <th>3622</th>\n",
       "      <td>2</td>\n",
       "      <td>279601823</td>\n",
       "      <td>5.0</td>\n",
       "      <td>NaN</td>\n",
       "      <td>3</td>\n",
       "      <td>Краснодарский край; Анапа; улица Толстого; 26</td>\n",
       "      <td>35.5</td>\n",
       "      <td>2</td>\n",
       "      <td>7</td>\n",
       "      <td>https://anapa.cian.ru/sale/flat/279601823/</td>\n",
       "      <td>2023-03-27</td>\n",
       "      <td>None</td>\n",
       "      <td>274</td>\n",
       "      <td>Представитель застройщика</td>\n",
       "      <td>1</td>\n",
       "    </tr>\n",
       "    <tr>\n",
       "      <th>4159</th>\n",
       "      <td>2</td>\n",
       "      <td>280802412</td>\n",
       "      <td>5.0</td>\n",
       "      <td>NaN</td>\n",
       "      <td>3</td>\n",
       "      <td>Краснодарский край; Анапа; 18/3 ЖК</td>\n",
       "      <td>44.7</td>\n",
       "      <td>7</td>\n",
       "      <td>15</td>\n",
       "      <td>https://anapa.cian.ru/sale/flat/280802412/</td>\n",
       "      <td>2023-03-27</td>\n",
       "      <td>None</td>\n",
       "      <td>274</td>\n",
       "      <td>Застройщик</td>\n",
       "      <td>1</td>\n",
       "    </tr>\n",
       "    <tr>\n",
       "      <th>...</th>\n",
       "      <td>...</td>\n",
       "      <td>...</td>\n",
       "      <td>...</td>\n",
       "      <td>...</td>\n",
       "      <td>...</td>\n",
       "      <td>...</td>\n",
       "      <td>...</td>\n",
       "      <td>...</td>\n",
       "      <td>...</td>\n",
       "      <td>...</td>\n",
       "      <td>...</td>\n",
       "      <td>...</td>\n",
       "      <td>...</td>\n",
       "      <td>...</td>\n",
       "      <td>...</td>\n",
       "    </tr>\n",
       "    <tr>\n",
       "      <th>103599</th>\n",
       "      <td>2</td>\n",
       "      <td>285370017</td>\n",
       "      <td>17.0</td>\n",
       "      <td>387.0</td>\n",
       "      <td>4</td>\n",
       "      <td>Томская область; Томск; р-н Кировский; д. Лоск...</td>\n",
       "      <td>57.1</td>\n",
       "      <td>2</td>\n",
       "      <td>4</td>\n",
       "      <td>https://tomsk.cian.ru/sale/flat/285370017/</td>\n",
       "      <td>2023-03-27</td>\n",
       "      <td>None</td>\n",
       "      <td>274</td>\n",
       "      <td>NaN</td>\n",
       "      <td>1</td>\n",
       "    </tr>\n",
       "    <tr>\n",
       "      <th>103600</th>\n",
       "      <td>2</td>\n",
       "      <td>285370096</td>\n",
       "      <td>17.0</td>\n",
       "      <td>405.0</td>\n",
       "      <td>4</td>\n",
       "      <td>Томская область; Томск; р-н Октябрьский; мкр. ...</td>\n",
       "      <td>53.0</td>\n",
       "      <td>8</td>\n",
       "      <td>10</td>\n",
       "      <td>https://tomsk.cian.ru/sale/flat/285370096/</td>\n",
       "      <td>2023-03-27</td>\n",
       "      <td>None</td>\n",
       "      <td>274</td>\n",
       "      <td>Агентство недвижимости</td>\n",
       "      <td>1</td>\n",
       "    </tr>\n",
       "    <tr>\n",
       "      <th>103601</th>\n",
       "      <td>2</td>\n",
       "      <td>285370463</td>\n",
       "      <td>17.0</td>\n",
       "      <td>417.0</td>\n",
       "      <td>4</td>\n",
       "      <td>Томская область; Томск; р-н Ленинский; мкр. Ра...</td>\n",
       "      <td>53.0</td>\n",
       "      <td>6</td>\n",
       "      <td>10</td>\n",
       "      <td>https://tomsk.cian.ru/sale/flat/285370463/</td>\n",
       "      <td>2023-03-27</td>\n",
       "      <td>None</td>\n",
       "      <td>274</td>\n",
       "      <td>Агентство недвижимости</td>\n",
       "      <td>1</td>\n",
       "    </tr>\n",
       "    <tr>\n",
       "      <th>103602</th>\n",
       "      <td>2</td>\n",
       "      <td>285373005</td>\n",
       "      <td>17.0</td>\n",
       "      <td>394.0</td>\n",
       "      <td>3</td>\n",
       "      <td>Томская область; Томск; р-н Ленинский; Черемош...</td>\n",
       "      <td>31.5</td>\n",
       "      <td>7</td>\n",
       "      <td>10</td>\n",
       "      <td>https://tomsk.cian.ru/sale/flat/285373005/</td>\n",
       "      <td>2023-03-27</td>\n",
       "      <td>None</td>\n",
       "      <td>274</td>\n",
       "      <td>Агентство недвижимости</td>\n",
       "      <td>1</td>\n",
       "    </tr>\n",
       "    <tr>\n",
       "      <th>103603</th>\n",
       "      <td>2</td>\n",
       "      <td>285373491</td>\n",
       "      <td>17.0</td>\n",
       "      <td>391.0</td>\n",
       "      <td>5</td>\n",
       "      <td>Томская область; Томск; р-н Октябрьский; улица...</td>\n",
       "      <td>56.0</td>\n",
       "      <td>2</td>\n",
       "      <td>5</td>\n",
       "      <td>https://tomsk.cian.ru/sale/flat/285373491/</td>\n",
       "      <td>2023-03-27</td>\n",
       "      <td>None</td>\n",
       "      <td>274</td>\n",
       "      <td>Риелтор</td>\n",
       "      <td>1</td>\n",
       "    </tr>\n",
       "  </tbody>\n",
       "</table>\n",
       "<p>4188 rows × 15 columns</p>\n",
       "</div>"
      ],
      "text/plain": [
       "        source_id      ad_id  city_id  district_id  type_id  \\\n",
       "1189            2  270328443      5.0          NaN        6   \n",
       "3306            2  278996199      5.0          NaN        3   \n",
       "3433            2  279241124      5.0          NaN        2   \n",
       "3622            2  279601823      5.0          NaN        3   \n",
       "4159            2  280802412      5.0          NaN        3   \n",
       "...           ...        ...      ...          ...      ...   \n",
       "103599          2  285370017     17.0        387.0        4   \n",
       "103600          2  285370096     17.0        405.0        4   \n",
       "103601          2  285370463     17.0        417.0        4   \n",
       "103602          2  285373005     17.0        394.0        3   \n",
       "103603          2  285373491     17.0        391.0        5   \n",
       "\n",
       "                                                     addr  square  floor  \\\n",
       "1189    Краснодарский край; Анапа; Владимирская улица;...    95.0     20   \n",
       "3306    Краснодарский край; Анапа; Алексеевка мкр; ули...    35.0      6   \n",
       "3433    Краснодарский край; Анапа; Таманская улица; 12...    26.0      5   \n",
       "3622        Краснодарский край; Анапа; улица Толстого; 26    35.5      2   \n",
       "4159                   Краснодарский край; Анапа; 18/3 ЖК    44.7      7   \n",
       "...                                                   ...     ...    ...   \n",
       "103599  Томская область; Томск; р-н Кировский; д. Лоск...    57.1      2   \n",
       "103600  Томская область; Томск; р-н Октябрьский; мкр. ...    53.0      8   \n",
       "103601  Томская область; Томск; р-н Ленинский; мкр. Ра...    53.0      6   \n",
       "103602  Томская область; Томск; р-н Ленинский; Черемош...    31.5      7   \n",
       "103603  Томская область; Томск; р-н Октябрьский; улица...    56.0      2   \n",
       "\n",
       "        house_floors                                        link       date  \\\n",
       "1189              20  https://anapa.cian.ru/sale/flat/270328443/ 2023-03-27   \n",
       "3306               7  https://anapa.cian.ru/sale/flat/278996199/ 2023-03-27   \n",
       "3433               6  https://anapa.cian.ru/sale/flat/279241124/ 2023-03-27   \n",
       "3622               7  https://anapa.cian.ru/sale/flat/279601823/ 2023-03-27   \n",
       "4159              15  https://anapa.cian.ru/sale/flat/280802412/ 2023-03-27   \n",
       "...              ...                                         ...        ...   \n",
       "103599             4  https://tomsk.cian.ru/sale/flat/285370017/ 2023-03-27   \n",
       "103600            10  https://tomsk.cian.ru/sale/flat/285370096/ 2023-03-27   \n",
       "103601            10  https://tomsk.cian.ru/sale/flat/285370463/ 2023-03-27   \n",
       "103602            10  https://tomsk.cian.ru/sale/flat/285373005/ 2023-03-27   \n",
       "103603             5  https://tomsk.cian.ru/sale/flat/285373491/ 2023-03-27   \n",
       "\n",
       "       status  version                 offer_from  status_new  \n",
       "1189     None      274                        NaN           1  \n",
       "3306     None      274                Собственник           1  \n",
       "3433     None      274     Агентство недвижимости           1  \n",
       "3622     None      274  Представитель застройщика           1  \n",
       "4159     None      274                 Застройщик           1  \n",
       "...       ...      ...                        ...         ...  \n",
       "103599   None      274                        NaN           1  \n",
       "103600   None      274     Агентство недвижимости           1  \n",
       "103601   None      274     Агентство недвижимости           1  \n",
       "103602   None      274     Агентство недвижимости           1  \n",
       "103603   None      274                    Риелтор           1  \n",
       "\n",
       "[4188 rows x 15 columns]"
      ]
     },
     "execution_count": 120,
     "metadata": {},
     "output_type": "execute_result"
    }
   ],
   "source": [
    "df_cian_realty_new"
   ]
  },
  {
   "cell_type": "code",
   "execution_count": 19,
   "id": "81f08167",
   "metadata": {},
   "outputs": [],
   "source": [
    "df_cian_realty_exist = df_cian_realty[df_cian_realty.ad_id.isin(exist_ad_id)][list_realty_cols]\n",
    "df_cian_realty_new = df_cian_realty[~df_cian_realty.ad_id.isin(exist_ad_id)][list_realty_cols]"
   ]
  },
  {
   "cell_type": "code",
   "execution_count": 24,
   "id": "dfe3030a",
   "metadata": {},
   "outputs": [
    {
     "data": {
      "text/html": [
       "<div>\n",
       "<style scoped>\n",
       "    .dataframe tbody tr th:only-of-type {\n",
       "        vertical-align: middle;\n",
       "    }\n",
       "\n",
       "    .dataframe tbody tr th {\n",
       "        vertical-align: top;\n",
       "    }\n",
       "\n",
       "    .dataframe thead th {\n",
       "        text-align: right;\n",
       "    }\n",
       "</style>\n",
       "<table border=\"1\" class=\"dataframe\">\n",
       "  <thead>\n",
       "    <tr style=\"text-align: right;\">\n",
       "      <th></th>\n",
       "      <th>source_id</th>\n",
       "      <th>ad_id</th>\n",
       "      <th>city_id</th>\n",
       "      <th>district_id</th>\n",
       "      <th>type_id</th>\n",
       "      <th>addr</th>\n",
       "      <th>square</th>\n",
       "      <th>floor</th>\n",
       "      <th>house_floors</th>\n",
       "      <th>link</th>\n",
       "      <th>date</th>\n",
       "      <th>status</th>\n",
       "      <th>version</th>\n",
       "      <th>offer_from</th>\n",
       "      <th>status_new</th>\n",
       "    </tr>\n",
       "  </thead>\n",
       "  <tbody>\n",
       "    <tr>\n",
       "      <th>0</th>\n",
       "      <td>2</td>\n",
       "      <td>210197059</td>\n",
       "      <td>5.0</td>\n",
       "      <td>NaN</td>\n",
       "      <td>5</td>\n",
       "      <td>Краснодарский край; Анапа; улица Горького; 2А</td>\n",
       "      <td>107.0</td>\n",
       "      <td>7</td>\n",
       "      <td>12</td>\n",
       "      <td>https://anapa.cian.ru/sale/flat/210197059/</td>\n",
       "      <td>2023-03-27</td>\n",
       "      <td>None</td>\n",
       "      <td>274</td>\n",
       "      <td>Собственник</td>\n",
       "      <td>1</td>\n",
       "    </tr>\n",
       "    <tr>\n",
       "      <th>1</th>\n",
       "      <td>2</td>\n",
       "      <td>213575526</td>\n",
       "      <td>5.0</td>\n",
       "      <td>NaN</td>\n",
       "      <td>5</td>\n",
       "      <td>Краснодарский край; Анапа; улица Краснозеленых...</td>\n",
       "      <td>106.0</td>\n",
       "      <td>6</td>\n",
       "      <td>7</td>\n",
       "      <td>https://anapa.cian.ru/sale/flat/213575526/</td>\n",
       "      <td>2023-03-27</td>\n",
       "      <td>None</td>\n",
       "      <td>274</td>\n",
       "      <td>Риелтор</td>\n",
       "      <td>1</td>\n",
       "    </tr>\n",
       "    <tr>\n",
       "      <th>2</th>\n",
       "      <td>2</td>\n",
       "      <td>232012292</td>\n",
       "      <td>5.0</td>\n",
       "      <td>NaN</td>\n",
       "      <td>2</td>\n",
       "      <td>Краснодарский край; Анапа; улица Ленина; 194</td>\n",
       "      <td>20.0</td>\n",
       "      <td>1</td>\n",
       "      <td>9</td>\n",
       "      <td>https://anapa.cian.ru/sale/flat/232012292/</td>\n",
       "      <td>2023-03-27</td>\n",
       "      <td>None</td>\n",
       "      <td>274</td>\n",
       "      <td>Риелтор</td>\n",
       "      <td>1</td>\n",
       "    </tr>\n",
       "  </tbody>\n",
       "</table>\n",
       "</div>"
      ],
      "text/plain": [
       "   source_id      ad_id  city_id  district_id  type_id  \\\n",
       "0          2  210197059      5.0          NaN        5   \n",
       "1          2  213575526      5.0          NaN        5   \n",
       "2          2  232012292      5.0          NaN        2   \n",
       "\n",
       "                                                addr  square  floor  \\\n",
       "0      Краснодарский край; Анапа; улица Горького; 2А   107.0      7   \n",
       "1  Краснодарский край; Анапа; улица Краснозеленых...   106.0      6   \n",
       "2       Краснодарский край; Анапа; улица Ленина; 194    20.0      1   \n",
       "\n",
       "   house_floors                                        link       date status  \\\n",
       "0            12  https://anapa.cian.ru/sale/flat/210197059/ 2023-03-27   None   \n",
       "1             7  https://anapa.cian.ru/sale/flat/213575526/ 2023-03-27   None   \n",
       "2             9  https://anapa.cian.ru/sale/flat/232012292/ 2023-03-27   None   \n",
       "\n",
       "   version   offer_from  status_new  \n",
       "0      274  Собственник           1  \n",
       "1      274      Риелтор           1  \n",
       "2      274      Риелтор           1  "
      ]
     },
     "execution_count": 24,
     "metadata": {},
     "output_type": "execute_result"
    }
   ],
   "source": [
    "df_cian_realty_exist.head(3)"
   ]
  },
  {
   "cell_type": "code",
   "execution_count": null,
   "id": "e4b8d55a",
   "metadata": {},
   "outputs": [],
   "source": [
    "# обновление данных\n",
    "df_cian_realty_exist.to_sql(name='temp_realty', con=sql_engine, if_exists='append', chunksize=7000, method='multi', index=False)\n",
    "\n",
    "con_obj = sql_engine.connect()\n",
    "common_ids = tuple(df_cian_realty_exist.ad_id)\n",
    "update_table_query = f\"\"\"update realty join temp_realty on realty.ad_id=temp_realty.ad_id\n",
    "                        set realty.source_id = temp_realty.source_id,\n",
    "                            realty.city_id = temp_realty.city_id,\n",
    "                            realty.district_id = temp_realty.district_id,\n",
    "                            realty.type_id = temp_realty.type_id,\n",
    "                            realty.addr = temp_realty.addr,\n",
    "                            realty.square = temp_realty.square,\n",
    "                            realty.floor = temp_realty.floor,\n",
    "                            realty.house_floors = temp_realty.house_floors,\n",
    "                            realty.link = temp_realty.link,\n",
    "                            realty.date = temp_realty.date,\n",
    "                            realty.status = temp_realty.status,\n",
    "                            realty.version = temp_realty.version,\n",
    "                            realty.offer_from = temp_realty.offer_from,\n",
    "                            realty.status_new = temp_realty.status_new,\n",
    "                            realty.house_id = temp_realty.house_id\n",
    "                         WHERE realty.ad_id in {common_ids}\"\"\"\n",
    "con_obj.execute(text(update_table_query))\n",
    "con_obj.commit()\n",
    "con_obj.close()"
   ]
  },
  {
   "cell_type": "code",
   "execution_count": null,
   "id": "8f61bfc6",
   "metadata": {},
   "outputs": [],
   "source": [
    "# очистка данных из temp_realty\n",
    "con_obj = sql_engine.connect()\n",
    "con_obj.execute(text(clear_temp_table_query))\n",
    "con_obj.commit()\n",
    "con_obj.close()"
   ]
  },
  {
   "cell_type": "code",
   "execution_count": null,
   "id": "061b12e7",
   "metadata": {},
   "outputs": [],
   "source": [
    "# добавление данных \n",
    "df_cian_realty_new.to_sql(name='realty', con=sql_engine, if_exists='append', chunksize=7000, method='multi', index=False)"
   ]
  },
  {
   "cell_type": "code",
   "execution_count": null,
   "id": "85185357",
   "metadata": {},
   "outputs": [],
   "source": []
  },
  {
   "cell_type": "code",
   "execution_count": null,
   "id": "2747b62a",
   "metadata": {},
   "outputs": [],
   "source": []
  },
  {
   "cell_type": "code",
   "execution_count": null,
   "id": "aab9540e",
   "metadata": {},
   "outputs": [],
   "source": []
  }
 ],
 "metadata": {
  "kernelspec": {
   "display_name": "Python 3 (ipykernel)",
   "language": "python",
   "name": "python3"
  },
  "language_info": {
   "codemirror_mode": {
    "name": "ipython",
    "version": 3
   },
   "file_extension": ".py",
   "mimetype": "text/x-python",
   "name": "python",
   "nbconvert_exporter": "python",
   "pygments_lexer": "ipython3",
   "version": "3.10.4"
  }
 },
 "nbformat": 4,
 "nbformat_minor": 5
}
