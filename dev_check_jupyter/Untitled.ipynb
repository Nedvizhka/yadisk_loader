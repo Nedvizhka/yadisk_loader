{
 "cells": [
  {
   "cell_type": "code",
   "execution_count": 1,
   "id": "1bd74a31",
   "metadata": {},
   "outputs": [
    {
     "data": {
      "text/html": [
       "<style>.container { width:90% !important; }</style>"
      ],
      "text/plain": [
       "<IPython.core.display.HTML object>"
      ]
     },
     "metadata": {},
     "output_type": "display_data"
    }
   ],
   "source": [
    "from IPython.display import display, HTML\n",
    "display(HTML(\"<style>.container { width:90% !important; }</style>\"))"
   ]
  },
  {
   "cell_type": "code",
   "execution_count": 2,
   "id": "fc4cae63",
   "metadata": {},
   "outputs": [],
   "source": [
    "import sys\n",
    "sys.path.insert(1, 'C:/Users/pnknv/Documents/GitHub/yadisk_loader')\n",
    "from main_utils import *"
   ]
  },
  {
   "cell_type": "code",
   "execution_count": 13,
   "id": "8821fa56",
   "metadata": {},
   "outputs": [],
   "source": [
    "import json"
   ]
  },
  {
   "cell_type": "code",
   "execution_count": 3,
   "id": "120f987d",
   "metadata": {},
   "outputs": [],
   "source": [
    "ssh_host, ssh_port, ssh_username, ssh_password, \\\n",
    "database_username, database_password, database_name, \\\n",
    "localhost, localhost_port, table_name, ya_token, ya_api, ya_link = get_config()"
   ]
  },
  {
   "cell_type": "code",
   "execution_count": 4,
   "id": "c46efdf6",
   "metadata": {},
   "outputs": [],
   "source": [
    "sql_server, sql_engine = get_sql_engine()"
   ]
  },
  {
   "cell_type": "code",
   "execution_count": 6,
   "id": "aeac8926",
   "metadata": {},
   "outputs": [],
   "source": [
    "def get_dadata(engine):\n",
    "    dadata_query = f'SELECT id, data FROM dadata_houses'\n",
    "    try:\n",
    "        con_obj = engine.connect()\n",
    "        dadata_db = pd.read_sql(text(dadata_query), con=con_obj)\n",
    "        con_obj.close()\n",
    "        exc_code = None\n",
    "    except Exception as exc:\n",
    "        print(traceback.format_exc())\n",
    "        dadata_db = None\n",
    "        exc_code = exc.code\n",
    "    return dadata_db, exc_code"
   ]
  },
  {
   "cell_type": "code",
   "execution_count": 7,
   "id": "09c2a6dd",
   "metadata": {},
   "outputs": [],
   "source": [
    "dadata = get_dadata(sql_engine)"
   ]
  },
  {
   "cell_type": "code",
   "execution_count": 10,
   "id": "9b585d77",
   "metadata": {},
   "outputs": [],
   "source": [
    "dadata = dadata[0]"
   ]
  },
  {
   "cell_type": "code",
   "execution_count": 47,
   "id": "62a23e82",
   "metadata": {},
   "outputs": [],
   "source": [
    "def get_json(json_str):\n",
    "    try:\n",
    "        return json.loads(json_str)\n",
    "    except:\n",
    "        try:\n",
    "            return json.loads(json_str.replace(\"'\", '\"').replace('None', 'null'))\n",
    "        except:\n",
    "            try:\n",
    "                return json.loads(json_str.replace('\\\\xa0', '').replace(\"'\", '\"').replace('None', 'null'))\n",
    "            except:\n",
    "                return None"
   ]
  },
  {
   "cell_type": "code",
   "execution_count": 48,
   "id": "6da74bb8",
   "metadata": {},
   "outputs": [],
   "source": [
    "dadata['json_data'] = dadata.data.apply(lambda x: get_json(x))"
   ]
  },
  {
   "cell_type": "code",
   "execution_count": 49,
   "id": "618d6d5b",
   "metadata": {},
   "outputs": [
    {
     "data": {
      "text/html": [
       "<div>\n",
       "<style scoped>\n",
       "    .dataframe tbody tr th:only-of-type {\n",
       "        vertical-align: middle;\n",
       "    }\n",
       "\n",
       "    .dataframe tbody tr th {\n",
       "        vertical-align: top;\n",
       "    }\n",
       "\n",
       "    .dataframe thead th {\n",
       "        text-align: right;\n",
       "    }\n",
       "</style>\n",
       "<table border=\"1\" class=\"dataframe\">\n",
       "  <thead>\n",
       "    <tr style=\"text-align: right;\">\n",
       "      <th></th>\n",
       "      <th>id</th>\n",
       "      <th>data</th>\n",
       "      <th>json_data</th>\n",
       "    </tr>\n",
       "  </thead>\n",
       "  <tbody>\n",
       "  </tbody>\n",
       "</table>\n",
       "</div>"
      ],
      "text/plain": [
       "Empty DataFrame\n",
       "Columns: [id, data, json_data]\n",
       "Index: []"
      ]
     },
     "execution_count": 49,
     "metadata": {},
     "output_type": "execute_result"
    }
   ],
   "source": [
    "dadata[dadata.json_data.isna()]"
   ]
  },
  {
   "cell_type": "code",
   "execution_count": 52,
   "id": "4d9b3997",
   "metadata": {},
   "outputs": [],
   "source": [
    "dadata['addr'] = dadata.json_data.apply(lambda x: x['source'])"
   ]
  },
  {
   "cell_type": "code",
   "execution_count": 53,
   "id": "5b92e0ad",
   "metadata": {},
   "outputs": [
    {
     "data": {
      "text/html": [
       "<div>\n",
       "<style scoped>\n",
       "    .dataframe tbody tr th:only-of-type {\n",
       "        vertical-align: middle;\n",
       "    }\n",
       "\n",
       "    .dataframe tbody tr th {\n",
       "        vertical-align: top;\n",
       "    }\n",
       "\n",
       "    .dataframe thead th {\n",
       "        text-align: right;\n",
       "    }\n",
       "</style>\n",
       "<table border=\"1\" class=\"dataframe\">\n",
       "  <thead>\n",
       "    <tr style=\"text-align: right;\">\n",
       "      <th></th>\n",
       "      <th>id</th>\n",
       "      <th>data</th>\n",
       "      <th>json_data</th>\n",
       "      <th>addr</th>\n",
       "    </tr>\n",
       "  </thead>\n",
       "  <tbody>\n",
       "    <tr>\n",
       "      <th>0</th>\n",
       "      <td>1</td>\n",
       "      <td>{\"source\":\"Челябинская область; Челябинск; р-н...</td>\n",
       "      <td>{'source': 'Челябинская область; Челябинск; р-...</td>\n",
       "      <td>Челябинская область; Челябинск; р-н Трактороза...</td>\n",
       "    </tr>\n",
       "    <tr>\n",
       "      <th>1</th>\n",
       "      <td>2</td>\n",
       "      <td>{\"source\":\"Челябинская область; Челябинск; р-н...</td>\n",
       "      <td>{'source': 'Челябинская область; Челябинск; р-...</td>\n",
       "      <td>Челябинская область; Челябинск; р-н Трактороза...</td>\n",
       "    </tr>\n",
       "    <tr>\n",
       "      <th>2</th>\n",
       "      <td>3</td>\n",
       "      <td>{\"source\":\"Челябинская область; Челябинск; р-н...</td>\n",
       "      <td>{'source': 'Челябинская область; Челябинск; р-...</td>\n",
       "      <td>Челябинская область; Челябинск; р-н Трактороза...</td>\n",
       "    </tr>\n",
       "    <tr>\n",
       "      <th>3</th>\n",
       "      <td>4</td>\n",
       "      <td>{\"source\":\"Челябинская область; Челябинск; р-н...</td>\n",
       "      <td>{'source': 'Челябинская область; Челябинск; р-...</td>\n",
       "      <td>Челябинская область; Челябинск; р-н Трактороза...</td>\n",
       "    </tr>\n",
       "    <tr>\n",
       "      <th>4</th>\n",
       "      <td>5</td>\n",
       "      <td>{\"source\":\"Челябинская область; Челябинск; р-н...</td>\n",
       "      <td>{'source': 'Челябинская область; Челябинск; р-...</td>\n",
       "      <td>Челябинская область; Челябинск; р-н Трактороза...</td>\n",
       "    </tr>\n",
       "    <tr>\n",
       "      <th>...</th>\n",
       "      <td>...</td>\n",
       "      <td>...</td>\n",
       "      <td>...</td>\n",
       "      <td>...</td>\n",
       "    </tr>\n",
       "    <tr>\n",
       "      <th>325006</th>\n",
       "      <td>379195</td>\n",
       "      <td>{'source': 'Новосибирск; ул. Большевистская; с...</td>\n",
       "      <td>{'source': 'Новосибирск; ул. Большевистская; с...</td>\n",
       "      <td>Новосибирск; ул. Большевистская; стр. 14</td>\n",
       "    </tr>\n",
       "    <tr>\n",
       "      <th>325007</th>\n",
       "      <td>379196</td>\n",
       "      <td>{'source': 'Новосибирск; ул. Большевистская; с...</td>\n",
       "      <td>{'source': 'Новосибирск; ул. Большевистская; с...</td>\n",
       "      <td>Новосибирск; ул. Большевистская; стр. 14</td>\n",
       "    </tr>\n",
       "    <tr>\n",
       "      <th>325008</th>\n",
       "      <td>379197</td>\n",
       "      <td>{'source': 'Новосибирск; пр-т Красный; стр. 23...</td>\n",
       "      <td>{'source': 'Новосибирск; пр-т Красный; стр. 23...</td>\n",
       "      <td>Новосибирск; пр-т Красный; стр. 236</td>\n",
       "    </tr>\n",
       "    <tr>\n",
       "      <th>325009</th>\n",
       "      <td>379198</td>\n",
       "      <td>{'source': 'Новосибирск; пр-т Красный; стр. 23...</td>\n",
       "      <td>{'source': 'Новосибирск; пр-т Красный; стр. 23...</td>\n",
       "      <td>Новосибирск; пр-т Красный; стр. 236</td>\n",
       "    </tr>\n",
       "    <tr>\n",
       "      <th>325010</th>\n",
       "      <td>379199</td>\n",
       "      <td>{'source': 'Новосибирск; ул. Никитина; стр. 4'...</td>\n",
       "      <td>{'source': 'Новосибирск; ул. Никитина; стр. 4'...</td>\n",
       "      <td>Новосибирск; ул. Никитина; стр. 4</td>\n",
       "    </tr>\n",
       "  </tbody>\n",
       "</table>\n",
       "<p>325011 rows × 4 columns</p>\n",
       "</div>"
      ],
      "text/plain": [
       "            id                                               data  \\\n",
       "0            1  {\"source\":\"Челябинская область; Челябинск; р-н...   \n",
       "1            2  {\"source\":\"Челябинская область; Челябинск; р-н...   \n",
       "2            3  {\"source\":\"Челябинская область; Челябинск; р-н...   \n",
       "3            4  {\"source\":\"Челябинская область; Челябинск; р-н...   \n",
       "4            5  {\"source\":\"Челябинская область; Челябинск; р-н...   \n",
       "...        ...                                                ...   \n",
       "325006  379195  {'source': 'Новосибирск; ул. Большевистская; с...   \n",
       "325007  379196  {'source': 'Новосибирск; ул. Большевистская; с...   \n",
       "325008  379197  {'source': 'Новосибирск; пр-т Красный; стр. 23...   \n",
       "325009  379198  {'source': 'Новосибирск; пр-т Красный; стр. 23...   \n",
       "325010  379199  {'source': 'Новосибирск; ул. Никитина; стр. 4'...   \n",
       "\n",
       "                                                json_data  \\\n",
       "0       {'source': 'Челябинская область; Челябинск; р-...   \n",
       "1       {'source': 'Челябинская область; Челябинск; р-...   \n",
       "2       {'source': 'Челябинская область; Челябинск; р-...   \n",
       "3       {'source': 'Челябинская область; Челябинск; р-...   \n",
       "4       {'source': 'Челябинская область; Челябинск; р-...   \n",
       "...                                                   ...   \n",
       "325006  {'source': 'Новосибирск; ул. Большевистская; с...   \n",
       "325007  {'source': 'Новосибирск; ул. Большевистская; с...   \n",
       "325008  {'source': 'Новосибирск; пр-т Красный; стр. 23...   \n",
       "325009  {'source': 'Новосибирск; пр-т Красный; стр. 23...   \n",
       "325010  {'source': 'Новосибирск; ул. Никитина; стр. 4'...   \n",
       "\n",
       "                                                     addr  \n",
       "0       Челябинская область; Челябинск; р-н Трактороза...  \n",
       "1       Челябинская область; Челябинск; р-н Трактороза...  \n",
       "2       Челябинская область; Челябинск; р-н Трактороза...  \n",
       "3       Челябинская область; Челябинск; р-н Трактороза...  \n",
       "4       Челябинская область; Челябинск; р-н Трактороза...  \n",
       "...                                                   ...  \n",
       "325006           Новосибирск; ул. Большевистская; стр. 14  \n",
       "325007           Новосибирск; ул. Большевистская; стр. 14  \n",
       "325008                Новосибирск; пр-т Красный; стр. 236  \n",
       "325009                Новосибирск; пр-т Красный; стр. 236  \n",
       "325010                  Новосибирск; ул. Никитина; стр. 4  \n",
       "\n",
       "[325011 rows x 4 columns]"
      ]
     },
     "execution_count": 53,
     "metadata": {},
     "output_type": "execute_result"
    }
   ],
   "source": [
    "dadata"
   ]
  },
  {
   "cell_type": "code",
   "execution_count": 67,
   "id": "501d6de4",
   "metadata": {},
   "outputs": [
    {
     "data": {
      "text/plain": [
       "addr\n",
       "Казань; 10-я Союзная ул.; 35             1\n",
       "Казань; 2-я Газовая ул.; 5к2             1\n",
       "Казань; 2-я Даурская ул.; 11             1\n",
       "Казань; 2-я Даурская ул.; 2              2\n",
       "Казань; 2-я Даурская ул.; 4к3            1\n",
       "                                        ..\n",
       "г. Челябинск, ш. Металлургов, д. 80А     1\n",
       "г. Челябинск, ш. Металлургов, д. 82      1\n",
       "г. Челябинск, ш. Металлургов, д. 82 А    1\n",
       "г. Челябинск, ш. Металлургов, д. 84      1\n",
       "г. Челябинск, ш. Металлургов, д. 84А     1\n",
       "Name: id, Length: 138311, dtype: int64"
      ]
     },
     "execution_count": 67,
     "metadata": {},
     "output_type": "execute_result"
    }
   ],
   "source": [
    "dadata.groupby(['addr'])['id'].count()"
   ]
  },
  {
   "cell_type": "code",
   "execution_count": 73,
   "id": "e84f52d3",
   "metadata": {},
   "outputs": [],
   "source": [
    "addr_group = pd.DataFrame(dadata.groupby(['addr'])['id'].count().sort_values().reset_index())"
   ]
  },
  {
   "cell_type": "code",
   "execution_count": 78,
   "id": "d7891997",
   "metadata": {},
   "outputs": [],
   "source": [
    "addr_group.sort_values('id', ascending=False).to_excel('addr_group_sorted.xlsx')"
   ]
  },
  {
   "cell_type": "code",
   "execution_count": 79,
   "id": "9f2267a9",
   "metadata": {},
   "outputs": [
    {
     "data": {
      "text/html": [
       "<div>\n",
       "<style scoped>\n",
       "    .dataframe tbody tr th:only-of-type {\n",
       "        vertical-align: middle;\n",
       "    }\n",
       "\n",
       "    .dataframe tbody tr th {\n",
       "        vertical-align: top;\n",
       "    }\n",
       "\n",
       "    .dataframe thead th {\n",
       "        text-align: right;\n",
       "    }\n",
       "</style>\n",
       "<table border=\"1\" class=\"dataframe\">\n",
       "  <thead>\n",
       "    <tr style=\"text-align: right;\">\n",
       "      <th></th>\n",
       "      <th>addr</th>\n",
       "      <th>id</th>\n",
       "    </tr>\n",
       "  </thead>\n",
       "  <tbody>\n",
       "    <tr>\n",
       "      <th>138310</th>\n",
       "      <td>Новосибирск; р-н Калининский; ул. Объединения;...</td>\n",
       "      <td>1159</td>\n",
       "    </tr>\n",
       "    <tr>\n",
       "      <th>138309</th>\n",
       "      <td>Новосибирск; пр-т Красный; стр. 236</td>\n",
       "      <td>1040</td>\n",
       "    </tr>\n",
       "    <tr>\n",
       "      <th>138308</th>\n",
       "      <td>Новороссийск; ул. Куникова; лит. 2</td>\n",
       "      <td>684</td>\n",
       "    </tr>\n",
       "    <tr>\n",
       "      <th>138307</th>\n",
       "      <td>Новосибирск; ул. Овражная; д. 2А</td>\n",
       "      <td>658</td>\n",
       "    </tr>\n",
       "    <tr>\n",
       "      <th>138306</th>\n",
       "      <td>Новосибирск; р-н Кировский; ул. Бородина; д. 2</td>\n",
       "      <td>509</td>\n",
       "    </tr>\n",
       "    <tr>\n",
       "      <th>...</th>\n",
       "      <td>...</td>\n",
       "      <td>...</td>\n",
       "    </tr>\n",
       "    <tr>\n",
       "      <th>46098</th>\n",
       "      <td>г. Челябинск, ул. Южная, д. 2А</td>\n",
       "      <td>1</td>\n",
       "    </tr>\n",
       "    <tr>\n",
       "      <th>46097</th>\n",
       "      <td>г. Челябинск, ул. Южная, д. 2Б</td>\n",
       "      <td>1</td>\n",
       "    </tr>\n",
       "    <tr>\n",
       "      <th>46096</th>\n",
       "      <td>г. Челябинск, ул. Южная, д. 2в</td>\n",
       "      <td>1</td>\n",
       "    </tr>\n",
       "    <tr>\n",
       "      <th>46095</th>\n",
       "      <td>г. Челябинск, ул. Южная, д. 3</td>\n",
       "      <td>1</td>\n",
       "    </tr>\n",
       "    <tr>\n",
       "      <th>69155</th>\n",
       "      <td>Краснодарский край; Сочи; р-н Центральный; ули...</td>\n",
       "      <td>1</td>\n",
       "    </tr>\n",
       "  </tbody>\n",
       "</table>\n",
       "<p>138311 rows × 2 columns</p>\n",
       "</div>"
      ],
      "text/plain": [
       "                                                     addr    id\n",
       "138310  Новосибирск; р-н Калининский; ул. Объединения;...  1159\n",
       "138309                Новосибирск; пр-т Красный; стр. 236  1040\n",
       "138308                 Новороссийск; ул. Куникова; лит. 2   684\n",
       "138307                   Новосибирск; ул. Овражная; д. 2А   658\n",
       "138306     Новосибирск; р-н Кировский; ул. Бородина; д. 2   509\n",
       "...                                                   ...   ...\n",
       "46098                      г. Челябинск, ул. Южная, д. 2А     1\n",
       "46097                      г. Челябинск, ул. Южная, д. 2Б     1\n",
       "46096                      г. Челябинск, ул. Южная, д. 2в     1\n",
       "46095                       г. Челябинск, ул. Южная, д. 3     1\n",
       "69155   Краснодарский край; Сочи; р-н Центральный; ули...     1\n",
       "\n",
       "[138311 rows x 2 columns]"
      ]
     },
     "execution_count": 79,
     "metadata": {},
     "output_type": "execute_result"
    }
   ],
   "source": [
    "addr_group.sort_values('id', ascending=False)"
   ]
  },
  {
   "cell_type": "code",
   "execution_count": 81,
   "id": "98818e45",
   "metadata": {},
   "outputs": [
    {
     "data": {
      "text/plain": [
       "'Новосибирск; р-н Калининский; ул. Объединения; д. 102/4'"
      ]
     },
     "execution_count": 81,
     "metadata": {},
     "output_type": "execute_result"
    }
   ],
   "source": [
    "addr_group.iloc[138310,0]"
   ]
  },
  {
   "cell_type": "code",
   "execution_count": null,
   "id": "d3b58c3f",
   "metadata": {},
   "outputs": [],
   "source": []
  }
 ],
 "metadata": {
  "kernelspec": {
   "display_name": "Python 3 (ipykernel)",
   "language": "python",
   "name": "python3"
  },
  "language_info": {
   "codemirror_mode": {
    "name": "ipython",
    "version": 3
   },
   "file_extension": ".py",
   "mimetype": "text/x-python",
   "name": "python",
   "nbconvert_exporter": "python",
   "pygments_lexer": "ipython3",
   "version": "3.10.4"
  }
 },
 "nbformat": 4,
 "nbformat_minor": 5
}
