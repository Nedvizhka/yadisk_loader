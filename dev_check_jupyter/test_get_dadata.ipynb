{
 "cells": [
  {
   "cell_type": "code",
   "execution_count": 1,
   "id": "1bd74a31",
   "metadata": {},
   "outputs": [
    {
     "data": {
      "text/html": [
       "<style>.container { width:90% !important; }</style>"
      ],
      "text/plain": [
       "<IPython.core.display.HTML object>"
      ]
     },
     "metadata": {},
     "output_type": "display_data"
    }
   ],
   "source": [
    "from IPython.display import display, HTML\n",
    "display(HTML(\"<style>.container { width:90% !important; }</style>\"))"
   ]
  },
  {
   "cell_type": "code",
   "execution_count": 2,
   "id": "fc4cae63",
   "metadata": {},
   "outputs": [],
   "source": [
    "import sys\n",
    "sys.path.insert(1, 'C:/Users/pnknv/Documents/GitHub/yadisk_loader')\n",
    "from main_utils import *"
   ]
  },
  {
   "cell_type": "markdown",
   "id": "b7a4480c",
   "metadata": {},
   "source": [
    "# dadata fix"
   ]
  },
  {
   "cell_type": "code",
   "execution_count": 27,
   "id": "e2788acf",
   "metadata": {},
   "outputs": [],
   "source": [
    "import random"
   ]
  },
  {
   "cell_type": "code",
   "execution_count": 28,
   "id": "56a59b6d",
   "metadata": {},
   "outputs": [],
   "source": [
    "a = pd.DataFrame(columns=['house_fias_id', 'data', 'geo_lat', 'geo_lon'])\n",
    "b = pd.DataFrame(columns=['house_fias_id', 'data', 'geo_lat', 'geo_lon'])"
   ]
  },
  {
   "cell_type": "code",
   "execution_count": 29,
   "id": "7adc5c68",
   "metadata": {},
   "outputs": [],
   "source": [
    "for i in range(3):\n",
    "    a.loc[len(a)] = [i, random.randint(0,1000), random.randint(0,1000), random.randint(0,1000)]"
   ]
  },
  {
   "cell_type": "code",
   "execution_count": 30,
   "id": "4070d791",
   "metadata": {},
   "outputs": [
    {
     "data": {
      "text/html": [
       "<div>\n",
       "<style scoped>\n",
       "    .dataframe tbody tr th:only-of-type {\n",
       "        vertical-align: middle;\n",
       "    }\n",
       "\n",
       "    .dataframe tbody tr th {\n",
       "        vertical-align: top;\n",
       "    }\n",
       "\n",
       "    .dataframe thead th {\n",
       "        text-align: right;\n",
       "    }\n",
       "</style>\n",
       "<table border=\"1\" class=\"dataframe\">\n",
       "  <thead>\n",
       "    <tr style=\"text-align: right;\">\n",
       "      <th></th>\n",
       "      <th>house_fias_id</th>\n",
       "      <th>data</th>\n",
       "      <th>geo_lat</th>\n",
       "      <th>geo_lon</th>\n",
       "    </tr>\n",
       "  </thead>\n",
       "  <tbody>\n",
       "    <tr>\n",
       "      <th>0</th>\n",
       "      <td>0</td>\n",
       "      <td>681</td>\n",
       "      <td>843</td>\n",
       "      <td>618</td>\n",
       "    </tr>\n",
       "    <tr>\n",
       "      <th>1</th>\n",
       "      <td>1</td>\n",
       "      <td>600</td>\n",
       "      <td>439</td>\n",
       "      <td>657</td>\n",
       "    </tr>\n",
       "    <tr>\n",
       "      <th>2</th>\n",
       "      <td>2</td>\n",
       "      <td>400</td>\n",
       "      <td>661</td>\n",
       "      <td>455</td>\n",
       "    </tr>\n",
       "  </tbody>\n",
       "</table>\n",
       "</div>"
      ],
      "text/plain": [
       "   house_fias_id  data  geo_lat  geo_lon\n",
       "0              0   681      843      618\n",
       "1              1   600      439      657\n",
       "2              2   400      661      455"
      ]
     },
     "execution_count": 30,
     "metadata": {},
     "output_type": "execute_result"
    }
   ],
   "source": [
    "a"
   ]
  },
  {
   "cell_type": "code",
   "execution_count": 31,
   "id": "8a8c689b",
   "metadata": {},
   "outputs": [],
   "source": [
    "for i in range(6):\n",
    "    if i in a.house_fias_id.unique().tolist():\n",
    "        b.loc[len(b)] = a.loc[a.house_fias_id == i].values.tolist()[0]\n",
    "    else:    \n",
    "        b.loc[len(b)] = [i, random.randint(0,1000), random.randint(0,1000), random.randint(0,1000)]"
   ]
  },
  {
   "cell_type": "code",
   "execution_count": 32,
   "id": "03793635",
   "metadata": {},
   "outputs": [
    {
     "data": {
      "text/html": [
       "<div>\n",
       "<style scoped>\n",
       "    .dataframe tbody tr th:only-of-type {\n",
       "        vertical-align: middle;\n",
       "    }\n",
       "\n",
       "    .dataframe tbody tr th {\n",
       "        vertical-align: top;\n",
       "    }\n",
       "\n",
       "    .dataframe thead th {\n",
       "        text-align: right;\n",
       "    }\n",
       "</style>\n",
       "<table border=\"1\" class=\"dataframe\">\n",
       "  <thead>\n",
       "    <tr style=\"text-align: right;\">\n",
       "      <th></th>\n",
       "      <th>house_fias_id</th>\n",
       "      <th>data</th>\n",
       "      <th>geo_lat</th>\n",
       "      <th>geo_lon</th>\n",
       "    </tr>\n",
       "  </thead>\n",
       "  <tbody>\n",
       "    <tr>\n",
       "      <th>0</th>\n",
       "      <td>0</td>\n",
       "      <td>681</td>\n",
       "      <td>843</td>\n",
       "      <td>618</td>\n",
       "    </tr>\n",
       "    <tr>\n",
       "      <th>1</th>\n",
       "      <td>1</td>\n",
       "      <td>600</td>\n",
       "      <td>439</td>\n",
       "      <td>657</td>\n",
       "    </tr>\n",
       "    <tr>\n",
       "      <th>2</th>\n",
       "      <td>2</td>\n",
       "      <td>400</td>\n",
       "      <td>661</td>\n",
       "      <td>455</td>\n",
       "    </tr>\n",
       "    <tr>\n",
       "      <th>3</th>\n",
       "      <td>3</td>\n",
       "      <td>382</td>\n",
       "      <td>734</td>\n",
       "      <td>334</td>\n",
       "    </tr>\n",
       "    <tr>\n",
       "      <th>4</th>\n",
       "      <td>4</td>\n",
       "      <td>477</td>\n",
       "      <td>211</td>\n",
       "      <td>102</td>\n",
       "    </tr>\n",
       "    <tr>\n",
       "      <th>5</th>\n",
       "      <td>5</td>\n",
       "      <td>516</td>\n",
       "      <td>747</td>\n",
       "      <td>559</td>\n",
       "    </tr>\n",
       "  </tbody>\n",
       "</table>\n",
       "</div>"
      ],
      "text/plain": [
       "   house_fias_id  data  geo_lat  geo_lon\n",
       "0              0   681      843      618\n",
       "1              1   600      439      657\n",
       "2              2   400      661      455\n",
       "3              3   382      734      334\n",
       "4              4   477      211      102\n",
       "5              5   516      747      559"
      ]
     },
     "execution_count": 32,
     "metadata": {},
     "output_type": "execute_result"
    }
   ],
   "source": [
    "b"
   ]
  },
  {
   "cell_type": "code",
   "execution_count": 34,
   "id": "4c13e6ef",
   "metadata": {},
   "outputs": [
    {
     "data": {
      "text/html": [
       "<div>\n",
       "<style scoped>\n",
       "    .dataframe tbody tr th:only-of-type {\n",
       "        vertical-align: middle;\n",
       "    }\n",
       "\n",
       "    .dataframe tbody tr th {\n",
       "        vertical-align: top;\n",
       "    }\n",
       "\n",
       "    .dataframe thead th {\n",
       "        text-align: right;\n",
       "    }\n",
       "</style>\n",
       "<table border=\"1\" class=\"dataframe\">\n",
       "  <thead>\n",
       "    <tr style=\"text-align: right;\">\n",
       "      <th></th>\n",
       "      <th>house_fias_id</th>\n",
       "      <th>data</th>\n",
       "      <th>geo_lat</th>\n",
       "      <th>geo_lon</th>\n",
       "    </tr>\n",
       "  </thead>\n",
       "  <tbody>\n",
       "    <tr>\n",
       "      <th>0</th>\n",
       "      <td>0</td>\n",
       "      <td>681</td>\n",
       "      <td>843</td>\n",
       "      <td>618</td>\n",
       "    </tr>\n",
       "    <tr>\n",
       "      <th>1</th>\n",
       "      <td>1</td>\n",
       "      <td>600</td>\n",
       "      <td>439</td>\n",
       "      <td>657</td>\n",
       "    </tr>\n",
       "    <tr>\n",
       "      <th>2</th>\n",
       "      <td>2</td>\n",
       "      <td>400</td>\n",
       "      <td>661</td>\n",
       "      <td>455</td>\n",
       "    </tr>\n",
       "    <tr>\n",
       "      <th>3</th>\n",
       "      <td>0</td>\n",
       "      <td>681</td>\n",
       "      <td>843</td>\n",
       "      <td>618</td>\n",
       "    </tr>\n",
       "    <tr>\n",
       "      <th>4</th>\n",
       "      <td>1</td>\n",
       "      <td>600</td>\n",
       "      <td>439</td>\n",
       "      <td>657</td>\n",
       "    </tr>\n",
       "    <tr>\n",
       "      <th>5</th>\n",
       "      <td>2</td>\n",
       "      <td>400</td>\n",
       "      <td>661</td>\n",
       "      <td>455</td>\n",
       "    </tr>\n",
       "    <tr>\n",
       "      <th>6</th>\n",
       "      <td>3</td>\n",
       "      <td>382</td>\n",
       "      <td>734</td>\n",
       "      <td>334</td>\n",
       "    </tr>\n",
       "    <tr>\n",
       "      <th>7</th>\n",
       "      <td>4</td>\n",
       "      <td>477</td>\n",
       "      <td>211</td>\n",
       "      <td>102</td>\n",
       "    </tr>\n",
       "    <tr>\n",
       "      <th>8</th>\n",
       "      <td>5</td>\n",
       "      <td>516</td>\n",
       "      <td>747</td>\n",
       "      <td>559</td>\n",
       "    </tr>\n",
       "  </tbody>\n",
       "</table>\n",
       "</div>"
      ],
      "text/plain": [
       "   house_fias_id  data  geo_lat  geo_lon\n",
       "0              0   681      843      618\n",
       "1              1   600      439      657\n",
       "2              2   400      661      455\n",
       "3              0   681      843      618\n",
       "4              1   600      439      657\n",
       "5              2   400      661      455\n",
       "6              3   382      734      334\n",
       "7              4   477      211      102\n",
       "8              5   516      747      559"
      ]
     },
     "execution_count": 34,
     "metadata": {},
     "output_type": "execute_result"
    }
   ],
   "source": [
    "pd.concat([a,b], ignore_index=True)"
   ]
  },
  {
   "cell_type": "code",
   "execution_count": null,
   "id": "9240f621",
   "metadata": {},
   "outputs": [],
   "source": []
  },
  {
   "cell_type": "code",
   "execution_count": null,
   "id": "b84bf85e",
   "metadata": {},
   "outputs": [],
   "source": []
  },
  {
   "cell_type": "code",
   "execution_count": 3,
   "id": "8821fa56",
   "metadata": {},
   "outputs": [],
   "source": [
    "import json"
   ]
  },
  {
   "cell_type": "code",
   "execution_count": 4,
   "id": "120f987d",
   "metadata": {},
   "outputs": [],
   "source": [
    "ssh_host, ssh_port, ssh_username, ssh_password, \\\n",
    "database_username, database_password, database_name, \\\n",
    "localhost, localhost_port, table_name, ya_token, ya_api, ya_link = get_config()"
   ]
  },
  {
   "cell_type": "code",
   "execution_count": 5,
   "id": "c46efdf6",
   "metadata": {},
   "outputs": [],
   "source": [
    "sql_server, sql_engine = get_sql_engine()"
   ]
  },
  {
   "cell_type": "code",
   "execution_count": 6,
   "id": "aeac8926",
   "metadata": {},
   "outputs": [],
   "source": [
    "def get_dadata(engine):\n",
    "    dadata_query = f'SELECT id, data FROM dadata_houses'\n",
    "    try:\n",
    "        con_obj = engine.connect()\n",
    "        dadata_db = pd.read_sql(text(dadata_query), con=con_obj)\n",
    "        con_obj.close()\n",
    "        exc_code = None\n",
    "    except Exception as exc:\n",
    "        print(traceback.format_exc())\n",
    "        dadata_db = None\n",
    "        exc_code = exc.code\n",
    "    return dadata_db, exc_code"
   ]
  },
  {
   "cell_type": "code",
   "execution_count": null,
   "id": "09c2a6dd",
   "metadata": {},
   "outputs": [],
   "source": [
    "dadata = get_dadata(sql_engine)"
   ]
  },
  {
   "cell_type": "code",
   "execution_count": null,
   "id": "9b585d77",
   "metadata": {},
   "outputs": [],
   "source": [
    "dadata = dadata[0]"
   ]
  },
  {
   "cell_type": "code",
   "execution_count": null,
   "id": "62a23e82",
   "metadata": {},
   "outputs": [],
   "source": [
    "def get_json(json_str):\n",
    "    try:\n",
    "        return json.loads(json_str)\n",
    "    except:\n",
    "        try:\n",
    "            return json.loads(json_str.replace(\"'\", '\"').replace('None', 'null'))\n",
    "        except:\n",
    "            try:\n",
    "                return json.loads(json_str.replace('\\\\xa0', '').replace(\"'\", '\"').replace('None', 'null'))\n",
    "            except:\n",
    "                return None"
   ]
  },
  {
   "cell_type": "code",
   "execution_count": null,
   "id": "6da74bb8",
   "metadata": {},
   "outputs": [],
   "source": [
    "dadata['json_data'] = dadata.data.apply(lambda x: get_json(x))"
   ]
  },
  {
   "cell_type": "code",
   "execution_count": null,
   "id": "618d6d5b",
   "metadata": {},
   "outputs": [],
   "source": [
    "dadata[dadata.json_data.isna()]"
   ]
  },
  {
   "cell_type": "code",
   "execution_count": null,
   "id": "4d9b3997",
   "metadata": {},
   "outputs": [],
   "source": [
    "dadata['addr'] = dadata.json_data.apply(lambda x: x['source'])"
   ]
  },
  {
   "cell_type": "code",
   "execution_count": null,
   "id": "5b92e0ad",
   "metadata": {},
   "outputs": [],
   "source": [
    "dadata"
   ]
  },
  {
   "cell_type": "code",
   "execution_count": 67,
   "id": "501d6de4",
   "metadata": {},
   "outputs": [
    {
     "data": {
      "text/plain": [
       "addr\n",
       "Казань; 10-я Союзная ул.; 35             1\n",
       "Казань; 2-я Газовая ул.; 5к2             1\n",
       "Казань; 2-я Даурская ул.; 11             1\n",
       "Казань; 2-я Даурская ул.; 2              2\n",
       "Казань; 2-я Даурская ул.; 4к3            1\n",
       "                                        ..\n",
       "г. Челябинск, ш. Металлургов, д. 80А     1\n",
       "г. Челябинск, ш. Металлургов, д. 82      1\n",
       "г. Челябинск, ш. Металлургов, д. 82 А    1\n",
       "г. Челябинск, ш. Металлургов, д. 84      1\n",
       "г. Челябинск, ш. Металлургов, д. 84А     1\n",
       "Name: id, Length: 138311, dtype: int64"
      ]
     },
     "execution_count": 67,
     "metadata": {},
     "output_type": "execute_result"
    }
   ],
   "source": [
    "dadata.groupby(['addr'])['id'].count()"
   ]
  },
  {
   "cell_type": "code",
   "execution_count": 73,
   "id": "e84f52d3",
   "metadata": {},
   "outputs": [],
   "source": [
    "addr_group = pd.DataFrame(dadata.groupby(['addr'])['id'].count().sort_values().reset_index())"
   ]
  },
  {
   "cell_type": "code",
   "execution_count": 78,
   "id": "d7891997",
   "metadata": {},
   "outputs": [],
   "source": [
    "addr_group.sort_values('id', ascending=False).to_excel('addr_group_sorted.xlsx')"
   ]
  },
  {
   "cell_type": "code",
   "execution_count": 79,
   "id": "9f2267a9",
   "metadata": {},
   "outputs": [
    {
     "data": {
      "text/html": [
       "<div>\n",
       "<style scoped>\n",
       "    .dataframe tbody tr th:only-of-type {\n",
       "        vertical-align: middle;\n",
       "    }\n",
       "\n",
       "    .dataframe tbody tr th {\n",
       "        vertical-align: top;\n",
       "    }\n",
       "\n",
       "    .dataframe thead th {\n",
       "        text-align: right;\n",
       "    }\n",
       "</style>\n",
       "<table border=\"1\" class=\"dataframe\">\n",
       "  <thead>\n",
       "    <tr style=\"text-align: right;\">\n",
       "      <th></th>\n",
       "      <th>addr</th>\n",
       "      <th>id</th>\n",
       "    </tr>\n",
       "  </thead>\n",
       "  <tbody>\n",
       "    <tr>\n",
       "      <th>138310</th>\n",
       "      <td>Новосибирск; р-н Калининский; ул. Объединения;...</td>\n",
       "      <td>1159</td>\n",
       "    </tr>\n",
       "    <tr>\n",
       "      <th>138309</th>\n",
       "      <td>Новосибирск; пр-т Красный; стр. 236</td>\n",
       "      <td>1040</td>\n",
       "    </tr>\n",
       "    <tr>\n",
       "      <th>138308</th>\n",
       "      <td>Новороссийск; ул. Куникова; лит. 2</td>\n",
       "      <td>684</td>\n",
       "    </tr>\n",
       "    <tr>\n",
       "      <th>138307</th>\n",
       "      <td>Новосибирск; ул. Овражная; д. 2А</td>\n",
       "      <td>658</td>\n",
       "    </tr>\n",
       "    <tr>\n",
       "      <th>138306</th>\n",
       "      <td>Новосибирск; р-н Кировский; ул. Бородина; д. 2</td>\n",
       "      <td>509</td>\n",
       "    </tr>\n",
       "    <tr>\n",
       "      <th>...</th>\n",
       "      <td>...</td>\n",
       "      <td>...</td>\n",
       "    </tr>\n",
       "    <tr>\n",
       "      <th>46098</th>\n",
       "      <td>г. Челябинск, ул. Южная, д. 2А</td>\n",
       "      <td>1</td>\n",
       "    </tr>\n",
       "    <tr>\n",
       "      <th>46097</th>\n",
       "      <td>г. Челябинск, ул. Южная, д. 2Б</td>\n",
       "      <td>1</td>\n",
       "    </tr>\n",
       "    <tr>\n",
       "      <th>46096</th>\n",
       "      <td>г. Челябинск, ул. Южная, д. 2в</td>\n",
       "      <td>1</td>\n",
       "    </tr>\n",
       "    <tr>\n",
       "      <th>46095</th>\n",
       "      <td>г. Челябинск, ул. Южная, д. 3</td>\n",
       "      <td>1</td>\n",
       "    </tr>\n",
       "    <tr>\n",
       "      <th>69155</th>\n",
       "      <td>Краснодарский край; Сочи; р-н Центральный; ули...</td>\n",
       "      <td>1</td>\n",
       "    </tr>\n",
       "  </tbody>\n",
       "</table>\n",
       "<p>138311 rows × 2 columns</p>\n",
       "</div>"
      ],
      "text/plain": [
       "                                                     addr    id\n",
       "138310  Новосибирск; р-н Калининский; ул. Объединения;...  1159\n",
       "138309                Новосибирск; пр-т Красный; стр. 236  1040\n",
       "138308                 Новороссийск; ул. Куникова; лит. 2   684\n",
       "138307                   Новосибирск; ул. Овражная; д. 2А   658\n",
       "138306     Новосибирск; р-н Кировский; ул. Бородина; д. 2   509\n",
       "...                                                   ...   ...\n",
       "46098                      г. Челябинск, ул. Южная, д. 2А     1\n",
       "46097                      г. Челябинск, ул. Южная, д. 2Б     1\n",
       "46096                      г. Челябинск, ул. Южная, д. 2в     1\n",
       "46095                       г. Челябинск, ул. Южная, д. 3     1\n",
       "69155   Краснодарский край; Сочи; р-н Центральный; ули...     1\n",
       "\n",
       "[138311 rows x 2 columns]"
      ]
     },
     "execution_count": 79,
     "metadata": {},
     "output_type": "execute_result"
    }
   ],
   "source": [
    "addr_group.sort_values('id', ascending=False)"
   ]
  },
  {
   "cell_type": "code",
   "execution_count": 81,
   "id": "98818e45",
   "metadata": {},
   "outputs": [
    {
     "data": {
      "text/plain": [
       "'Новосибирск; р-н Калининский; ул. Объединения; д. 102/4'"
      ]
     },
     "execution_count": 81,
     "metadata": {},
     "output_type": "execute_result"
    }
   ],
   "source": [
    "addr_group.iloc[138310,0]"
   ]
  },
  {
   "cell_type": "code",
   "execution_count": null,
   "id": "d3b58c3f",
   "metadata": {},
   "outputs": [],
   "source": []
  }
 ],
 "metadata": {
  "kernelspec": {
   "display_name": "Python 3 (ipykernel)",
   "language": "python",
   "name": "python3"
  },
  "language_info": {
   "codemirror_mode": {
    "name": "ipython",
    "version": 3
   },
   "file_extension": ".py",
   "mimetype": "text/x-python",
   "name": "python",
   "nbconvert_exporter": "python",
   "pygments_lexer": "ipython3",
   "version": "3.10.4"
  }
 },
 "nbformat": 4,
 "nbformat_minor": 5
}
