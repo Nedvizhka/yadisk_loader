{
 "cells": [
  {
   "cell_type": "code",
   "execution_count": 1,
   "id": "e8156368",
   "metadata": {},
   "outputs": [
    {
     "data": {
      "text/html": [
       "<style>.container { width:80% !important; }</style>"
      ],
      "text/plain": [
       "<IPython.core.display.HTML object>"
      ]
     },
     "metadata": {},
     "output_type": "display_data"
    }
   ],
   "source": [
    "from IPython.display import display, HTML\n",
    "display(HTML(\"<style>.container { width:80% !important; }</style>\"))"
   ]
  },
  {
   "cell_type": "code",
   "execution_count": 2,
   "id": "fc4cae63",
   "metadata": {},
   "outputs": [],
   "source": [
    "import sys\n",
    "sys.path.insert(1, 'C:/Users/pnknv/Documents/GitHub/yadisk_loader')\n",
    "from main_utils import *"
   ]
  },
  {
   "cell_type": "code",
   "execution_count": 3,
   "id": "120f987d",
   "metadata": {},
   "outputs": [],
   "source": [
    "ssh_host, ssh_port, ssh_username, ssh_password, \\\n",
    "database_username, database_password, database_name, \\\n",
    "localhost, localhost_port, table_name, ya_token, ya_api, ya_link = get_config()"
   ]
  },
  {
   "cell_type": "code",
   "execution_count": 4,
   "id": "b2d5cb90",
   "metadata": {},
   "outputs": [],
   "source": [
    "sql_server, sql_engine = get_sql_engine()"
   ]
  },
  {
   "cell_type": "code",
   "execution_count": 5,
   "id": "803cf619",
   "metadata": {},
   "outputs": [
    {
     "data": {
      "text/plain": [
       "<class 'sshtunnel.SSHTunnelForwarder'> object\n",
       "ssh gateway: 92.53.64.66:22\n",
       "proxy: no\n",
       "username: root\n",
       "authentication: {'password': '6hv66fhY3JF4HfwJ', 'pkeys': [('ssh-rsa', b'41789c651127e8b2874571444b75b184')]}\n",
       "hostkey: not checked\n",
       "status: started\n",
       "keepalive messages: every 5.0 sec\n",
       "tunnel connection check: disabled\n",
       "concurrent connections: allowed\n",
       "compression: not requested\n",
       "logging level: ERROR\n",
       "local binds: [('0.0.0.0', 0)]\n",
       "remote binds: [('127.0.0.1', 3306)]"
      ]
     },
     "execution_count": 5,
     "metadata": {},
     "output_type": "execute_result"
    }
   ],
   "source": [
    "sql_server"
   ]
  },
  {
   "cell_type": "markdown",
   "id": "b7e02f2a",
   "metadata": {},
   "source": [
    "# tg query"
   ]
  },
  {
   "cell_type": "code",
   "execution_count": 6,
   "id": "6a1dd32a",
   "metadata": {},
   "outputs": [],
   "source": [
    "import requests\n",
    "import json"
   ]
  },
  {
   "cell_type": "code",
   "execution_count": 7,
   "id": "8c62ef0f",
   "metadata": {},
   "outputs": [],
   "source": [
    "a = json.loads(\"\"\"{\"ok\":true,\"result\":{\"message_id\":4667,\"sender_chat\":{\"id\":-1001683557389,\"title\":\"\\u041d\\u0435\\u0434\\u0432\\u0438\\u0436\\u043a\\u0430.alarm\",\"type\":\"channel\"},\"chat\":{\"id\":-1001683557389,\"title\":\"\\u041d\\u0435\\u0434\\u0432\\u0438\\u0436\\u043a\\u0430.alarm\",\"type\":\"channel\"},\"date\":1687949230,\"text\":\"\\u0442\\u0435\\u043a\\u0441\"}}\"\"\")"
   ]
  },
  {
   "cell_type": "code",
   "execution_count": 8,
   "id": "4b7716b2",
   "metadata": {},
   "outputs": [
    {
     "ename": "InvalidSchema",
     "evalue": "No connection adapters were found for \"{'ok': True, 'result': {'message_id': 4667, 'sender_chat': {'id': -1001683557389, 'title': 'Недвижка.alarm', 'type': 'channel'}, 'chat': {'id': -1001683557389, 'title': 'Недвижка.alarm', 'type': 'channel'}, 'date': 1687949230, 'text': 'текс'}}\"",
     "output_type": "error",
     "traceback": [
      "\u001b[1;31m---------------------------------------------------------------------------\u001b[0m",
      "\u001b[1;31mInvalidSchema\u001b[0m                             Traceback (most recent call last)",
      "Cell \u001b[1;32mIn [8], line 1\u001b[0m\n\u001b[1;32m----> 1\u001b[0m \u001b[43mrequests\u001b[49m\u001b[38;5;241;43m.\u001b[39;49m\u001b[43mpost\u001b[49m\u001b[43m(\u001b[49m\u001b[43ma\u001b[49m\u001b[43m)\u001b[49m\n",
      "File \u001b[1;32m~\\AppData\\Roaming\\Python\\Python310\\site-packages\\requests\\api.py:115\u001b[0m, in \u001b[0;36mpost\u001b[1;34m(url, data, json, **kwargs)\u001b[0m\n\u001b[0;32m    103\u001b[0m \u001b[38;5;28;01mdef\u001b[39;00m \u001b[38;5;21mpost\u001b[39m(url, data\u001b[38;5;241m=\u001b[39m\u001b[38;5;28;01mNone\u001b[39;00m, json\u001b[38;5;241m=\u001b[39m\u001b[38;5;28;01mNone\u001b[39;00m, \u001b[38;5;241m*\u001b[39m\u001b[38;5;241m*\u001b[39mkwargs):\n\u001b[0;32m    104\u001b[0m     \u001b[38;5;124mr\u001b[39m\u001b[38;5;124;03m\"\"\"Sends a POST request.\u001b[39;00m\n\u001b[0;32m    105\u001b[0m \n\u001b[0;32m    106\u001b[0m \u001b[38;5;124;03m    :param url: URL for the new :class:`Request` object.\u001b[39;00m\n\u001b[1;32m   (...)\u001b[0m\n\u001b[0;32m    112\u001b[0m \u001b[38;5;124;03m    :rtype: requests.Response\u001b[39;00m\n\u001b[0;32m    113\u001b[0m \u001b[38;5;124;03m    \"\"\"\u001b[39;00m\n\u001b[1;32m--> 115\u001b[0m     \u001b[38;5;28;01mreturn\u001b[39;00m request(\u001b[38;5;124m\"\u001b[39m\u001b[38;5;124mpost\u001b[39m\u001b[38;5;124m\"\u001b[39m, url, data\u001b[38;5;241m=\u001b[39mdata, json\u001b[38;5;241m=\u001b[39mjson, \u001b[38;5;241m*\u001b[39m\u001b[38;5;241m*\u001b[39mkwargs)\n",
      "File \u001b[1;32m~\\AppData\\Roaming\\Python\\Python310\\site-packages\\requests\\api.py:59\u001b[0m, in \u001b[0;36mrequest\u001b[1;34m(method, url, **kwargs)\u001b[0m\n\u001b[0;32m     55\u001b[0m \u001b[38;5;66;03m# By using the 'with' statement we are sure the session is closed, thus we\u001b[39;00m\n\u001b[0;32m     56\u001b[0m \u001b[38;5;66;03m# avoid leaving sockets open which can trigger a ResourceWarning in some\u001b[39;00m\n\u001b[0;32m     57\u001b[0m \u001b[38;5;66;03m# cases, and look like a memory leak in others.\u001b[39;00m\n\u001b[0;32m     58\u001b[0m \u001b[38;5;28;01mwith\u001b[39;00m sessions\u001b[38;5;241m.\u001b[39mSession() \u001b[38;5;28;01mas\u001b[39;00m session:\n\u001b[1;32m---> 59\u001b[0m     \u001b[38;5;28;01mreturn\u001b[39;00m session\u001b[38;5;241m.\u001b[39mrequest(method\u001b[38;5;241m=\u001b[39mmethod, url\u001b[38;5;241m=\u001b[39murl, \u001b[38;5;241m*\u001b[39m\u001b[38;5;241m*\u001b[39mkwargs)\n",
      "File \u001b[1;32m~\\AppData\\Roaming\\Python\\Python310\\site-packages\\requests\\sessions.py:587\u001b[0m, in \u001b[0;36mSession.request\u001b[1;34m(self, method, url, params, data, headers, cookies, files, auth, timeout, allow_redirects, proxies, hooks, stream, verify, cert, json)\u001b[0m\n\u001b[0;32m    582\u001b[0m send_kwargs \u001b[38;5;241m=\u001b[39m {\n\u001b[0;32m    583\u001b[0m     \u001b[38;5;124m\"\u001b[39m\u001b[38;5;124mtimeout\u001b[39m\u001b[38;5;124m\"\u001b[39m: timeout,\n\u001b[0;32m    584\u001b[0m     \u001b[38;5;124m\"\u001b[39m\u001b[38;5;124mallow_redirects\u001b[39m\u001b[38;5;124m\"\u001b[39m: allow_redirects,\n\u001b[0;32m    585\u001b[0m }\n\u001b[0;32m    586\u001b[0m send_kwargs\u001b[38;5;241m.\u001b[39mupdate(settings)\n\u001b[1;32m--> 587\u001b[0m resp \u001b[38;5;241m=\u001b[39m \u001b[38;5;28mself\u001b[39m\u001b[38;5;241m.\u001b[39msend(prep, \u001b[38;5;241m*\u001b[39m\u001b[38;5;241m*\u001b[39msend_kwargs)\n\u001b[0;32m    589\u001b[0m \u001b[38;5;28;01mreturn\u001b[39;00m resp\n",
      "File \u001b[1;32m~\\AppData\\Roaming\\Python\\Python310\\site-packages\\requests\\sessions.py:695\u001b[0m, in \u001b[0;36mSession.send\u001b[1;34m(self, request, **kwargs)\u001b[0m\n\u001b[0;32m    692\u001b[0m hooks \u001b[38;5;241m=\u001b[39m request\u001b[38;5;241m.\u001b[39mhooks\n\u001b[0;32m    694\u001b[0m \u001b[38;5;66;03m# Get the appropriate adapter to use\u001b[39;00m\n\u001b[1;32m--> 695\u001b[0m adapter \u001b[38;5;241m=\u001b[39m \u001b[38;5;28;43mself\u001b[39;49m\u001b[38;5;241;43m.\u001b[39;49m\u001b[43mget_adapter\u001b[49m\u001b[43m(\u001b[49m\u001b[43murl\u001b[49m\u001b[38;5;241;43m=\u001b[39;49m\u001b[43mrequest\u001b[49m\u001b[38;5;241;43m.\u001b[39;49m\u001b[43murl\u001b[49m\u001b[43m)\u001b[49m\n\u001b[0;32m    697\u001b[0m \u001b[38;5;66;03m# Start time (approximately) of the request\u001b[39;00m\n\u001b[0;32m    698\u001b[0m start \u001b[38;5;241m=\u001b[39m preferred_clock()\n",
      "File \u001b[1;32m~\\AppData\\Roaming\\Python\\Python310\\site-packages\\requests\\sessions.py:792\u001b[0m, in \u001b[0;36mSession.get_adapter\u001b[1;34m(self, url)\u001b[0m\n\u001b[0;32m    789\u001b[0m         \u001b[38;5;28;01mreturn\u001b[39;00m adapter\n\u001b[0;32m    791\u001b[0m \u001b[38;5;66;03m# Nothing matches :-/\u001b[39;00m\n\u001b[1;32m--> 792\u001b[0m \u001b[38;5;28;01mraise\u001b[39;00m InvalidSchema(\u001b[38;5;124mf\u001b[39m\u001b[38;5;124m\"\u001b[39m\u001b[38;5;124mNo connection adapters were found for \u001b[39m\u001b[38;5;132;01m{\u001b[39;00murl\u001b[38;5;132;01m!r}\u001b[39;00m\u001b[38;5;124m\"\u001b[39m)\n",
      "\u001b[1;31mInvalidSchema\u001b[0m: No connection adapters were found for \"{'ok': True, 'result': {'message_id': 4667, 'sender_chat': {'id': -1001683557389, 'title': 'Недвижка.alarm', 'type': 'channel'}, 'chat': {'id': -1001683557389, 'title': 'Недвижка.alarm', 'type': 'channel'}, 'date': 1687949230, 'text': 'текс'}}\""
     ]
    }
   ],
   "source": [
    "# requests.post(a)"
   ]
  },
  {
   "cell_type": "code",
   "execution_count": null,
   "id": "7df0cde2",
   "metadata": {},
   "outputs": [],
   "source": [
    "def send_to_telegram(message):\n",
    "\n",
    "    apiToken = '5082654068:AAF7quCLZ4xuTq2FBdo3POssdJsM_FRHwTs'\n",
    "    chatID = '515382482'\n",
    "    apiURL = f'https://api.telegram.org/bot{apiToken}/sendMessage'\n",
    "\n",
    "    try:\n",
    "        response = requests.post(apiURL, json={'chat_id': chatID, 'text': message})\n",
    "        print(response.text)\n",
    "    except Exception as e:\n",
    "        print(e)\n",
    "\n",
    "send_to_telegram(\"Hello from Python!\")"
   ]
  },
  {
   "cell_type": "markdown",
   "id": "fb6ba362",
   "metadata": {},
   "source": [
    "# create stats"
   ]
  },
  {
   "cell_type": "code",
   "execution_count": 6,
   "id": "3bd7ef14",
   "metadata": {},
   "outputs": [],
   "source": [
    "dadata_rep_df, error_loading_files = create_dadata_rep(sql_engine)"
   ]
  },
  {
   "cell_type": "code",
   "execution_count": 7,
   "id": "4ba428b2",
   "metadata": {},
   "outputs": [
    {
     "data": {
      "text/html": [
       "<div>\n",
       "<style scoped>\n",
       "    .dataframe tbody tr th:only-of-type {\n",
       "        vertical-align: middle;\n",
       "    }\n",
       "\n",
       "    .dataframe tbody tr th {\n",
       "        vertical-align: top;\n",
       "    }\n",
       "\n",
       "    .dataframe thead th {\n",
       "        text-align: right;\n",
       "    }\n",
       "</style>\n",
       "<table border=\"1\" class=\"dataframe\">\n",
       "  <thead>\n",
       "    <tr style=\"text-align: right;\">\n",
       "      <th></th>\n",
       "      <th>id</th>\n",
       "      <th>name</th>\n",
       "      <th>ddt_total</th>\n",
       "      <th>ddt_cian</th>\n",
       "      <th>ddt_avito</th>\n",
       "    </tr>\n",
       "  </thead>\n",
       "  <tbody>\n",
       "    <tr>\n",
       "      <th>0</th>\n",
       "      <td>1</td>\n",
       "      <td>Владивосток</td>\n",
       "      <td>0</td>\n",
       "      <td>0</td>\n",
       "      <td>0</td>\n",
       "    </tr>\n",
       "    <tr>\n",
       "      <th>1</th>\n",
       "      <td>2</td>\n",
       "      <td>Краснодар</td>\n",
       "      <td>0</td>\n",
       "      <td>0</td>\n",
       "      <td>0</td>\n",
       "    </tr>\n",
       "    <tr>\n",
       "      <th>2</th>\n",
       "      <td>3</td>\n",
       "      <td>Сочи</td>\n",
       "      <td>0</td>\n",
       "      <td>0</td>\n",
       "      <td>0</td>\n",
       "    </tr>\n",
       "    <tr>\n",
       "      <th>3</th>\n",
       "      <td>4</td>\n",
       "      <td>Новороссийск</td>\n",
       "      <td>0</td>\n",
       "      <td>0</td>\n",
       "      <td>0</td>\n",
       "    </tr>\n",
       "    <tr>\n",
       "      <th>4</th>\n",
       "      <td>5</td>\n",
       "      <td>Анапа</td>\n",
       "      <td>0</td>\n",
       "      <td>0</td>\n",
       "      <td>0</td>\n",
       "    </tr>\n",
       "    <tr>\n",
       "      <th>5</th>\n",
       "      <td>6</td>\n",
       "      <td>Армавир</td>\n",
       "      <td>0</td>\n",
       "      <td>0</td>\n",
       "      <td>0</td>\n",
       "    </tr>\n",
       "    <tr>\n",
       "      <th>6</th>\n",
       "      <td>7</td>\n",
       "      <td>Челябинск</td>\n",
       "      <td>0</td>\n",
       "      <td>0</td>\n",
       "      <td>0</td>\n",
       "    </tr>\n",
       "    <tr>\n",
       "      <th>7</th>\n",
       "      <td>8</td>\n",
       "      <td>Магнитогорск</td>\n",
       "      <td>0</td>\n",
       "      <td>0</td>\n",
       "      <td>0</td>\n",
       "    </tr>\n",
       "    <tr>\n",
       "      <th>8</th>\n",
       "      <td>9</td>\n",
       "      <td>Миасс</td>\n",
       "      <td>0</td>\n",
       "      <td>0</td>\n",
       "      <td>0</td>\n",
       "    </tr>\n",
       "    <tr>\n",
       "      <th>9</th>\n",
       "      <td>10</td>\n",
       "      <td>Копейск</td>\n",
       "      <td>0</td>\n",
       "      <td>0</td>\n",
       "      <td>0</td>\n",
       "    </tr>\n",
       "    <tr>\n",
       "      <th>10</th>\n",
       "      <td>11</td>\n",
       "      <td>Златоуст</td>\n",
       "      <td>0</td>\n",
       "      <td>0</td>\n",
       "      <td>0</td>\n",
       "    </tr>\n",
       "    <tr>\n",
       "      <th>11</th>\n",
       "      <td>12</td>\n",
       "      <td>Казань</td>\n",
       "      <td>0</td>\n",
       "      <td>0</td>\n",
       "      <td>0</td>\n",
       "    </tr>\n",
       "    <tr>\n",
       "      <th>12</th>\n",
       "      <td>13</td>\n",
       "      <td>Набережные Челны</td>\n",
       "      <td>0</td>\n",
       "      <td>0</td>\n",
       "      <td>0</td>\n",
       "    </tr>\n",
       "    <tr>\n",
       "      <th>13</th>\n",
       "      <td>14</td>\n",
       "      <td>Нижнекамск</td>\n",
       "      <td>0</td>\n",
       "      <td>0</td>\n",
       "      <td>0</td>\n",
       "    </tr>\n",
       "    <tr>\n",
       "      <th>14</th>\n",
       "      <td>15</td>\n",
       "      <td>Альметьевск</td>\n",
       "      <td>0</td>\n",
       "      <td>0</td>\n",
       "      <td>0</td>\n",
       "    </tr>\n",
       "    <tr>\n",
       "      <th>15</th>\n",
       "      <td>16</td>\n",
       "      <td>Зеленодольск</td>\n",
       "      <td>0</td>\n",
       "      <td>0</td>\n",
       "      <td>0</td>\n",
       "    </tr>\n",
       "    <tr>\n",
       "      <th>16</th>\n",
       "      <td>17</td>\n",
       "      <td>Томск</td>\n",
       "      <td>0</td>\n",
       "      <td>0</td>\n",
       "      <td>0</td>\n",
       "    </tr>\n",
       "    <tr>\n",
       "      <th>17</th>\n",
       "      <td>18</td>\n",
       "      <td>Новосибирск</td>\n",
       "      <td>0</td>\n",
       "      <td>0</td>\n",
       "      <td>0</td>\n",
       "    </tr>\n",
       "    <tr>\n",
       "      <th>18</th>\n",
       "      <td>19</td>\n",
       "      <td>Саратов</td>\n",
       "      <td>0</td>\n",
       "      <td>0</td>\n",
       "      <td>0</td>\n",
       "    </tr>\n",
       "    <tr>\n",
       "      <th>19</th>\n",
       "      <td>20</td>\n",
       "      <td>Калининград</td>\n",
       "      <td>0</td>\n",
       "      <td>0</td>\n",
       "      <td>0</td>\n",
       "    </tr>\n",
       "    <tr>\n",
       "      <th>20</th>\n",
       "      <td>21</td>\n",
       "      <td>Тольятти</td>\n",
       "      <td>0</td>\n",
       "      <td>0</td>\n",
       "      <td>0</td>\n",
       "    </tr>\n",
       "    <tr>\n",
       "      <th>21</th>\n",
       "      <td>22</td>\n",
       "      <td>Самара</td>\n",
       "      <td>0</td>\n",
       "      <td>0</td>\n",
       "      <td>0</td>\n",
       "    </tr>\n",
       "  </tbody>\n",
       "</table>\n",
       "</div>"
      ],
      "text/plain": [
       "    id              name  ddt_total  ddt_cian  ddt_avito\n",
       "0    1       Владивосток          0         0          0\n",
       "1    2         Краснодар          0         0          0\n",
       "2    3              Сочи          0         0          0\n",
       "3    4      Новороссийск          0         0          0\n",
       "4    5             Анапа          0         0          0\n",
       "5    6           Армавир          0         0          0\n",
       "6    7         Челябинск          0         0          0\n",
       "7    8      Магнитогорск          0         0          0\n",
       "8    9             Миасс          0         0          0\n",
       "9   10           Копейск          0         0          0\n",
       "10  11          Златоуст          0         0          0\n",
       "11  12            Казань          0         0          0\n",
       "12  13  Набережные Челны          0         0          0\n",
       "13  14        Нижнекамск          0         0          0\n",
       "14  15       Альметьевск          0         0          0\n",
       "15  16      Зеленодольск          0         0          0\n",
       "16  17             Томск          0         0          0\n",
       "17  18       Новосибирск          0         0          0\n",
       "18  19           Саратов          0         0          0\n",
       "19  20       Калининград          0         0          0\n",
       "20  21          Тольятти          0         0          0\n",
       "21  22            Самара          0         0          0"
      ]
     },
     "execution_count": 7,
     "metadata": {},
     "output_type": "execute_result"
    }
   ],
   "source": [
    "dadata_rep_df"
   ]
  },
  {
   "cell_type": "code",
   "execution_count": 8,
   "id": "708aa7eb",
   "metadata": {},
   "outputs": [],
   "source": [
    "ddt_c = pd.read_csv(f'saved_data_csv/cian_dadata_request_2023_06_07.csv', encoding='cp1251', index_col=0)"
   ]
  },
  {
   "cell_type": "code",
   "execution_count": 9,
   "id": "091f3310",
   "metadata": {},
   "outputs": [],
   "source": [
    "ddt_av = pd.read_csv(f'saved_data_csv/avito_dadata_request_2023_06_07.csv', encoding='cp1251', index_col=0)"
   ]
  },
  {
   "cell_type": "code",
   "execution_count": 10,
   "id": "46fdc3ae",
   "metadata": {},
   "outputs": [],
   "source": [
    "fill_dadata_report(dadata_rep_df, ddt_av, 'avito')"
   ]
  },
  {
   "cell_type": "code",
   "execution_count": 11,
   "id": "32635005",
   "metadata": {},
   "outputs": [],
   "source": [
    "fill_dadata_report(dadata_rep_df, ddt_c, 'cian')"
   ]
  },
  {
   "cell_type": "code",
   "execution_count": 12,
   "id": "23557e67",
   "metadata": {},
   "outputs": [
    {
     "data": {
      "text/html": [
       "<div>\n",
       "<style scoped>\n",
       "    .dataframe tbody tr th:only-of-type {\n",
       "        vertical-align: middle;\n",
       "    }\n",
       "\n",
       "    .dataframe tbody tr th {\n",
       "        vertical-align: top;\n",
       "    }\n",
       "\n",
       "    .dataframe thead th {\n",
       "        text-align: right;\n",
       "    }\n",
       "</style>\n",
       "<table border=\"1\" class=\"dataframe\">\n",
       "  <thead>\n",
       "    <tr style=\"text-align: right;\">\n",
       "      <th></th>\n",
       "      <th>id</th>\n",
       "      <th>name</th>\n",
       "      <th>ddt_total</th>\n",
       "      <th>ddt_cian</th>\n",
       "      <th>ddt_avito</th>\n",
       "    </tr>\n",
       "  </thead>\n",
       "  <tbody>\n",
       "    <tr>\n",
       "      <th>0</th>\n",
       "      <td>1</td>\n",
       "      <td>Владивосток</td>\n",
       "      <td>0</td>\n",
       "      <td>0</td>\n",
       "      <td>0</td>\n",
       "    </tr>\n",
       "    <tr>\n",
       "      <th>1</th>\n",
       "      <td>2</td>\n",
       "      <td>Краснодар</td>\n",
       "      <td>0</td>\n",
       "      <td>136</td>\n",
       "      <td>0</td>\n",
       "    </tr>\n",
       "    <tr>\n",
       "      <th>2</th>\n",
       "      <td>3</td>\n",
       "      <td>Сочи</td>\n",
       "      <td>0</td>\n",
       "      <td>131</td>\n",
       "      <td>0</td>\n",
       "    </tr>\n",
       "    <tr>\n",
       "      <th>3</th>\n",
       "      <td>4</td>\n",
       "      <td>Новороссийск</td>\n",
       "      <td>0</td>\n",
       "      <td>17</td>\n",
       "      <td>44</td>\n",
       "    </tr>\n",
       "    <tr>\n",
       "      <th>4</th>\n",
       "      <td>5</td>\n",
       "      <td>Анапа</td>\n",
       "      <td>0</td>\n",
       "      <td>31</td>\n",
       "      <td>0</td>\n",
       "    </tr>\n",
       "    <tr>\n",
       "      <th>5</th>\n",
       "      <td>6</td>\n",
       "      <td>Армавир</td>\n",
       "      <td>0</td>\n",
       "      <td>1</td>\n",
       "      <td>0</td>\n",
       "    </tr>\n",
       "    <tr>\n",
       "      <th>6</th>\n",
       "      <td>7</td>\n",
       "      <td>Челябинск</td>\n",
       "      <td>0</td>\n",
       "      <td>16</td>\n",
       "      <td>0</td>\n",
       "    </tr>\n",
       "    <tr>\n",
       "      <th>7</th>\n",
       "      <td>8</td>\n",
       "      <td>Магнитогорск</td>\n",
       "      <td>0</td>\n",
       "      <td>0</td>\n",
       "      <td>0</td>\n",
       "    </tr>\n",
       "    <tr>\n",
       "      <th>8</th>\n",
       "      <td>9</td>\n",
       "      <td>Миасс</td>\n",
       "      <td>0</td>\n",
       "      <td>0</td>\n",
       "      <td>0</td>\n",
       "    </tr>\n",
       "    <tr>\n",
       "      <th>9</th>\n",
       "      <td>10</td>\n",
       "      <td>Копейск</td>\n",
       "      <td>0</td>\n",
       "      <td>0</td>\n",
       "      <td>0</td>\n",
       "    </tr>\n",
       "    <tr>\n",
       "      <th>10</th>\n",
       "      <td>11</td>\n",
       "      <td>Златоуст</td>\n",
       "      <td>0</td>\n",
       "      <td>0</td>\n",
       "      <td>0</td>\n",
       "    </tr>\n",
       "    <tr>\n",
       "      <th>11</th>\n",
       "      <td>12</td>\n",
       "      <td>Казань</td>\n",
       "      <td>0</td>\n",
       "      <td>52</td>\n",
       "      <td>124</td>\n",
       "    </tr>\n",
       "    <tr>\n",
       "      <th>12</th>\n",
       "      <td>13</td>\n",
       "      <td>Набережные Челны</td>\n",
       "      <td>0</td>\n",
       "      <td>0</td>\n",
       "      <td>0</td>\n",
       "    </tr>\n",
       "    <tr>\n",
       "      <th>13</th>\n",
       "      <td>14</td>\n",
       "      <td>Нижнекамск</td>\n",
       "      <td>0</td>\n",
       "      <td>0</td>\n",
       "      <td>0</td>\n",
       "    </tr>\n",
       "    <tr>\n",
       "      <th>14</th>\n",
       "      <td>15</td>\n",
       "      <td>Альметьевск</td>\n",
       "      <td>0</td>\n",
       "      <td>0</td>\n",
       "      <td>0</td>\n",
       "    </tr>\n",
       "    <tr>\n",
       "      <th>15</th>\n",
       "      <td>16</td>\n",
       "      <td>Зеленодольск</td>\n",
       "      <td>0</td>\n",
       "      <td>0</td>\n",
       "      <td>0</td>\n",
       "    </tr>\n",
       "    <tr>\n",
       "      <th>16</th>\n",
       "      <td>17</td>\n",
       "      <td>Томск</td>\n",
       "      <td>0</td>\n",
       "      <td>15</td>\n",
       "      <td>0</td>\n",
       "    </tr>\n",
       "    <tr>\n",
       "      <th>17</th>\n",
       "      <td>18</td>\n",
       "      <td>Новосибирск</td>\n",
       "      <td>0</td>\n",
       "      <td>167</td>\n",
       "      <td>154</td>\n",
       "    </tr>\n",
       "    <tr>\n",
       "      <th>18</th>\n",
       "      <td>19</td>\n",
       "      <td>Саратов</td>\n",
       "      <td>0</td>\n",
       "      <td>73</td>\n",
       "      <td>0</td>\n",
       "    </tr>\n",
       "    <tr>\n",
       "      <th>19</th>\n",
       "      <td>20</td>\n",
       "      <td>Калининград</td>\n",
       "      <td>0</td>\n",
       "      <td>51</td>\n",
       "      <td>0</td>\n",
       "    </tr>\n",
       "    <tr>\n",
       "      <th>20</th>\n",
       "      <td>21</td>\n",
       "      <td>Тольятти</td>\n",
       "      <td>0</td>\n",
       "      <td>0</td>\n",
       "      <td>0</td>\n",
       "    </tr>\n",
       "    <tr>\n",
       "      <th>21</th>\n",
       "      <td>22</td>\n",
       "      <td>Самара</td>\n",
       "      <td>0</td>\n",
       "      <td>0</td>\n",
       "      <td>0</td>\n",
       "    </tr>\n",
       "  </tbody>\n",
       "</table>\n",
       "</div>"
      ],
      "text/plain": [
       "    id              name  ddt_total  ddt_cian  ddt_avito\n",
       "0    1       Владивосток          0         0          0\n",
       "1    2         Краснодар          0       136          0\n",
       "2    3              Сочи          0       131          0\n",
       "3    4      Новороссийск          0        17         44\n",
       "4    5             Анапа          0        31          0\n",
       "5    6           Армавир          0         1          0\n",
       "6    7         Челябинск          0        16          0\n",
       "7    8      Магнитогорск          0         0          0\n",
       "8    9             Миасс          0         0          0\n",
       "9   10           Копейск          0         0          0\n",
       "10  11          Златоуст          0         0          0\n",
       "11  12            Казань          0        52        124\n",
       "12  13  Набережные Челны          0         0          0\n",
       "13  14        Нижнекамск          0         0          0\n",
       "14  15       Альметьевск          0         0          0\n",
       "15  16      Зеленодольск          0         0          0\n",
       "16  17             Томск          0        15          0\n",
       "17  18       Новосибирск          0       167        154\n",
       "18  19           Саратов          0        73          0\n",
       "19  20       Калининград          0        51          0\n",
       "20  21          Тольятти          0         0          0\n",
       "21  22            Самара          0         0          0"
      ]
     },
     "execution_count": 12,
     "metadata": {},
     "output_type": "execute_result"
    }
   ],
   "source": [
    "dadata_rep_df"
   ]
  },
  {
   "cell_type": "code",
   "execution_count": 13,
   "id": "b431363c",
   "metadata": {},
   "outputs": [],
   "source": [
    "common_rep_df = create_common_rep()"
   ]
  },
  {
   "cell_type": "code",
   "execution_count": 14,
   "id": "0978b64d",
   "metadata": {},
   "outputs": [],
   "source": [
    "report_df_append(common_rep_df, 'parse_date', '2023-28-06')\n",
    "report_df_append(common_rep_df, 'c_total', 115869)\n",
    "report_df_append(common_rep_df, 'av_total', 53462)\n",
    "report_df_append(common_rep_df, 'c_new', 2550)\n",
    "report_df_append(common_rep_df, 'av_new', 2473)\n",
    "report_df_append(common_rep_df, 'c_adr_total', 30000)\n",
    "report_df_append(common_rep_df, 'av_adr_total', 31000)\n",
    "report_df_append(common_rep_df, 'c_adr_new', 1000)\n",
    "report_df_append(common_rep_df, 'av_adr_new', 479)"
   ]
  },
  {
   "cell_type": "code",
   "execution_count": 15,
   "id": "04e1fe51",
   "metadata": {},
   "outputs": [
    {
     "data": {
      "text/html": [
       "<div>\n",
       "<style scoped>\n",
       "    .dataframe tbody tr th:only-of-type {\n",
       "        vertical-align: middle;\n",
       "    }\n",
       "\n",
       "    .dataframe tbody tr th {\n",
       "        vertical-align: top;\n",
       "    }\n",
       "\n",
       "    .dataframe thead th {\n",
       "        text-align: right;\n",
       "    }\n",
       "</style>\n",
       "<table border=\"1\" class=\"dataframe\">\n",
       "  <thead>\n",
       "    <tr style=\"text-align: right;\">\n",
       "      <th></th>\n",
       "      <th>parse_date</th>\n",
       "      <th>c_total</th>\n",
       "      <th>av_total</th>\n",
       "      <th>c_new</th>\n",
       "      <th>av_new</th>\n",
       "      <th>c_adr_total</th>\n",
       "      <th>av_adr_total</th>\n",
       "      <th>c_adr_new</th>\n",
       "      <th>av_adr_new</th>\n",
       "    </tr>\n",
       "  </thead>\n",
       "  <tbody>\n",
       "    <tr>\n",
       "      <th>0</th>\n",
       "      <td>2023-28-06</td>\n",
       "      <td>115869</td>\n",
       "      <td>53462</td>\n",
       "      <td>2550</td>\n",
       "      <td>2473</td>\n",
       "      <td>30000</td>\n",
       "      <td>31000</td>\n",
       "      <td>1000</td>\n",
       "      <td>479</td>\n",
       "    </tr>\n",
       "  </tbody>\n",
       "</table>\n",
       "</div>"
      ],
      "text/plain": [
       "   parse_date c_total av_total c_new av_new c_adr_total av_adr_total  \\\n",
       "0  2023-28-06  115869    53462  2550   2473       30000        31000   \n",
       "\n",
       "  c_adr_new av_adr_new  \n",
       "0      1000        479  "
      ]
     },
     "execution_count": 15,
     "metadata": {},
     "output_type": "execute_result"
    }
   ],
   "source": [
    "common_rep_df"
   ]
  },
  {
   "cell_type": "code",
   "execution_count": 17,
   "id": "365b520a",
   "metadata": {},
   "outputs": [],
   "source": [
    "report_txt = report_text(common_rep_df, dadata_rep_df)\n",
    "if report_txt:\n",
    "    run_bot_send_msg(report_txt)"
   ]
  },
  {
   "cell_type": "code",
   "execution_count": null,
   "id": "e1ce3555",
   "metadata": {},
   "outputs": [],
   "source": []
  },
  {
   "cell_type": "code",
   "execution_count": null,
   "id": "bdf3911e",
   "metadata": {},
   "outputs": [],
   "source": []
  },
  {
   "cell_type": "code",
   "execution_count": 17,
   "id": "687de5d8",
   "metadata": {},
   "outputs": [
    {
     "name": "stdout",
     "output_type": "stream",
     "text": [
      "Обработаны объявления от 2023-28-06\n",
      "   всего 169331  -  ( 115869 / 53462 )\n",
      "     new   5023  -  (   2550 /  2473 )\n",
      "    адр.  61000  -  (  30000 / 31000 )\n",
      "адр. new   1479  -  (   1000 /   479 )\n",
      "\n",
      "dadata\n",
      "2 Краснодар _______ 136 ( 136 / - )\n",
      "3 Сочи ____________ 131 ( 131 / - )\n",
      "4 Новороссийск ____ 61 ( 17 / 44 )\n",
      "5 Анапа ___________ 31 ( 31 / - )\n",
      "6 Армавир _________ 1 ( 1 / - )\n",
      "7 Челябинск _______ 16 ( 16 / - )\n",
      "12 Казань _________ 176 ( 52 / 124 )\n",
      "17 Томск __________ 15 ( 15 / - )\n",
      "18 Новосибирск ____ 321 ( 167 / 154 )\n",
      "19 Саратов ________ 73 ( 73 / - )\n",
      "20 Калининград ____ 51 ( 51 / - )\n",
      "\n"
     ]
    }
   ],
   "source": [
    "print(rrr)"
   ]
  },
  {
   "cell_type": "code",
   "execution_count": 18,
   "id": "62ceac68",
   "metadata": {},
   "outputs": [],
   "source": [
    "import telebot\n",
    "\n",
    "bot = telebot.TeleBot('5384767557:AAGBM487FW6lZq6D3z7ct44ADqyMjjjXpxc')\n",
    "chat_id = '-1001683557389'\n",
    "\n",
    "def send_tg(message):\n",
    "    bot.send_message(chat_id, message)\n",
    "\n",
    "@bot.message_handler(content_types=['text'])\n",
    "def get_text_messages(message):\n",
    "    if message.text == \"Привет\":\n",
    "        bot.send_message(message.from_user.id, \"Привет\")"
   ]
  },
  {
   "cell_type": "code",
   "execution_count": 19,
   "id": "89839111",
   "metadata": {},
   "outputs": [],
   "source": [
    "if rrr:\n",
    "    send_tg(rrr)\n",
    "else:\n",
    "    pass"
   ]
  },
  {
   "cell_type": "code",
   "execution_count": 20,
   "id": "335c92ee",
   "metadata": {},
   "outputs": [],
   "source": [
    "bot.stop_bot()"
   ]
  },
  {
   "cell_type": "code",
   "execution_count": null,
   "id": "c3dc408c",
   "metadata": {},
   "outputs": [],
   "source": []
  },
  {
   "cell_type": "code",
   "execution_count": null,
   "id": "3b65c421",
   "metadata": {},
   "outputs": [],
   "source": []
  },
  {
   "cell_type": "code",
   "execution_count": 41,
   "id": "3a8b6c97",
   "metadata": {},
   "outputs": [],
   "source": [
    "rep_text = str()\n",
    "rep_text += f'Обработаны объявления от {common_rep_df.iloc[0,0]}\\n'\n",
    "\n",
    "temp = pd.DataFrame(columns=['text', 'total', 'c', 'av'])\n",
    "c_r = common_rep_df.copy().to_dict('r')[0]\n",
    "temp.loc[len(temp)] = ['всего', c_r['c_total'] + c_r['av_total'], c_r['c_total'], c_r['av_total']]\n",
    "temp.loc[len(temp)] = ['new', c_r['c_new'] + c_r['av_new'], c_r['c_new'], c_r['av_new']]\n",
    "temp.loc[len(temp)] = ['адр.', c_r['c_adr_total'] + c_r['av_adr_total'], c_r['c_adr_total'], c_r['av_adr_total']]\n",
    "temp.loc[len(temp)] = ['адр. new', c_r['c_adr_new'] + c_r['av_adr_new'], c_r['c_adr_new'], c_r['av_adr_new']]\n",
    "temp['br1'] = '('\n",
    "temp['br2'] = ')'\n",
    "temp['sl'] = '/'\n",
    "temp['sp1'] =' - '\n",
    "temp['sp'] =' - '\n",
    "temp = temp[['text', 'sp1', 'total', 'sp', 'br1', 'c', 'sl', 'av', 'br2']]\n",
    "\n",
    "t_txt = temp.to_string(index=False, header=False)\n",
    "t_txt_1 = [i.split(' - ') for i in t_txt.split('\\n')]\n",
    "const = max([len(i[0]) for i in t_txt_1])\n",
    "const_2 = max([len(i[1]) for i in t_txt_1])\n",
    "for i in t_txt_1:\n",
    "    i[0] = \" \".join(i[0].split())\n",
    "    i[1] = \" \".join(i[1].split())\n",
    "    i.insert(1, \"\\xa0\"*(const - len(i[0])))\n",
    "    i.insert(3, \"\\xa0\"*(const_2 - 1 - len(i[2])))\n",
    "for j in [' '.join(ele) for ele in t_txt_1]:\n",
    "    rep_text += j + '\\n'"
   ]
  },
  {
   "cell_type": "code",
   "execution_count": 42,
   "id": "6dc0f351",
   "metadata": {},
   "outputs": [
    {
     "name": "stdout",
     "output_type": "stream",
     "text": [
      "Обработаны объявления от 2023-28-06\n",
      "всего      169331    ( 115869 / 53462 )\n",
      "new        5023      (   2550 /  2473 )\n",
      "адр.       61000     (  30000 / 31000 )\n",
      "адр. new   1479      (   1000 /   479 )\n",
      "\n"
     ]
    }
   ],
   "source": [
    "print(rep_text)"
   ]
  },
  {
   "cell_type": "code",
   "execution_count": 88,
   "id": "066c216b",
   "metadata": {},
   "outputs": [],
   "source": [
    "rep_text = str()\n",
    "rep_text += f'Обработаны объявления от {common_rep_df.iloc[0,0]}\\n'\n",
    "\n",
    "temp = pd.DataFrame(columns=['text', 'total', 'c', 'av'])\n",
    "c_r = common_rep_df.copy().to_dict('r')[0]\n",
    "temp.loc[len(temp)] = ['всего', c_r['c_total'] + c_r['av_total'], c_r['c_total'], c_r['av_total']]\n",
    "temp.loc[len(temp)] = ['new', c_r['c_new'] + c_r['av_new'], c_r['c_new'], c_r['av_new']]\n",
    "temp.loc[len(temp)] = ['адр.', c_r['c_adr_total'] + c_r['av_adr_total'], c_r['c_adr_total'], c_r['av_adr_total']]\n",
    "temp.loc[len(temp)] = ['адр. new', c_r['c_adr_new'] + c_r['av_adr_new'], c_r['c_adr_new'], c_r['av_adr_new']]\n",
    "temp['br1'] = '('\n",
    "temp['br2'] = ')'\n",
    "temp['sl'] = '/'\n",
    "temp['sp1'] =' - '\n",
    "temp['sp'] ='$'\n",
    "temp = temp[['text', 'sp1', 'total', 'sp', 'br1', 'c', 'sl', 'av', 'br2']]\n",
    "t_txt = temp.to_string(index=False, header=False)"
   ]
  },
  {
   "cell_type": "code",
   "execution_count": 90,
   "id": "84519710",
   "metadata": {},
   "outputs": [
    {
     "name": "stdout",
     "output_type": "stream",
     "text": [
      "   всего  -  169331   ( 115869 / 53462 )\n",
      "     new  -    5023   (   2550 /  2473 )\n",
      "    адр.  -   61000   (  30000 / 31000 )\n",
      "адр. new  -    1479   (   1000 /   479 )\n"
     ]
    }
   ],
   "source": [
    "print(t_txt)"
   ]
  },
  {
   "cell_type": "code",
   "execution_count": 95,
   "id": "f444be9d",
   "metadata": {},
   "outputs": [],
   "source": [
    "def report_text_dev(common_rep_df, dadata_rep_df):\n",
    "    try:\n",
    "        # полный кал\n",
    "        rep_text = str()\n",
    "        rep_text += f'Обработаны объявления от {common_rep_df.iloc[0,0]}\\n'\n",
    "\n",
    "        temp = pd.DataFrame(columns=['text', 'total', 'c', 'av'])\n",
    "        c_r = common_rep_df.copy().to_dict('r')[0]\n",
    "        temp.loc[len(temp)] = ['всего', c_r['c_total'] + c_r['av_total'], c_r['c_total'], c_r['av_total']]\n",
    "        temp.loc[len(temp)] = ['new', c_r['c_new'] + c_r['av_new'], c_r['c_new'], c_r['av_new']]\n",
    "        temp.loc[len(temp)] = ['адр.', c_r['c_adr_total'] + c_r['av_adr_total'], c_r['c_adr_total'], c_r['av_adr_total']]\n",
    "        temp.loc[len(temp)] = ['адр. new', c_r['c_adr_new'] + c_r['av_adr_new'], c_r['c_adr_new'], c_r['av_adr_new']]\n",
    "        temp['br1'] = '('\n",
    "        temp['br2'] = ')'\n",
    "        temp['sl'] = '/'\n",
    "        temp['sp1'] =' - '\n",
    "        temp['sp'] ='$'\n",
    "        temp = temp[['text', 'sp1', 'total', 'sp', 'br1', 'c', 'sl', 'av', 'br2']]\n",
    "        \n",
    "        t_txt = temp.to_string(index=False, header=False)\n",
    "        t_txt_1 = [i.split(' - ') for i in t_txt.split('\\n')]\n",
    "        const = max([len(i[0]) for i in t_txt_1])\n",
    "        const_2 = max([len(i[1]) for i in t_txt_1])\n",
    "        for i in t_txt_1:\n",
    "            i[0] = \"\".join(i[0].replace(' ', '').split())\n",
    "            i[1] = \" \".join(i[1].replace(' ', '').replace('$', ' ').split())\n",
    "            i.insert(1, \"\\xa0\"*(const - 2 - len(i[0])))\n",
    "            i.insert(3, \"\\xa0\")\n",
    "        for j in [' '.join(elele) for elele in t_txt_1]:\n",
    "            rep_text += j + '\\n'\n",
    "        \n",
    "        rep_text +=  '\\n'\n",
    "\n",
    "        temp_ddt = dadata_rep_df.copy()\n",
    "        temp_ddt['ddt_total'] = temp_ddt['ddt_cian'] + temp_ddt['ddt_avito']\n",
    "        temp_ddt = temp_ddt[temp_ddt.ddt_total != 0]\n",
    "        temp_ddt.replace(to_replace = 0, value = '-', inplace=True)\n",
    "    \n",
    "        temp_ddt['br1'] = '('\n",
    "        temp_ddt['br2'] = ')'\n",
    "        temp_ddt['sl'] = '/'\n",
    "        temp_ddt['sp'] =' '\n",
    "        temp_ddt['sp1'] ='$'\n",
    "        temp_ddt = temp_ddt[['id', 'name', 'sp1', 'ddt_total', 'sp', 'br1', 'ddt_cian', 'sl', 'ddt_avito', 'br2']]\n",
    "        \n",
    "        rep_text += 'dadata' + '\\n' \n",
    "        \n",
    "        t_ddt_txt = temp_ddt.to_string(index=False, header=False)\n",
    "        t_ddt_1 = [i.split('$') for i in t_ddt_txt.split('\\n')]\n",
    "        const = max([len(i[0]) for i in t_ddt_1])\n",
    "        for i in t_ddt_1:\n",
    "            i[0] = \" \".join(i[0].split())\n",
    "            i[1] = \" \".join(i[1].split())\n",
    "            i.insert(1, \"\\xa0\"*(const - 2 - len(i[0])))\n",
    "        t_ddt_2 = [' '.join(ele) for ele in t_ddt_1]\n",
    "        for j in t_ddt_2:\n",
    "            rep_text += j + '\\n'\n",
    "        \n",
    "\n",
    "        with open(f'saved_data_csv/tg_report_{c_r[\"parse_date\"]}.txt', 'w') as rep_file:\n",
    "            rep_file.write(rep_text)\n",
    "        rep_file.close()\n",
    "    \n",
    "        return rep_text\n",
    "    except:\n",
    "#         logging.error('Ошибка при создании отчета для tg')\n",
    "#         logging.error(traceback.format_exc())\n",
    "        return"
   ]
  },
  {
   "cell_type": "code",
   "execution_count": 96,
   "id": "ecc4d934",
   "metadata": {},
   "outputs": [],
   "source": [
    "rrr = report_text_dev(common_rep_df, dadata_rep_df)"
   ]
  },
  {
   "cell_type": "code",
   "execution_count": 97,
   "id": "a076f0bf",
   "metadata": {},
   "outputs": [
    {
     "data": {
      "text/plain": [
       "'Обработаны объявления от 2023-28-06\\nвсего \\xa0\\xa0 169331 (115869/53462) \\xa0\\nnew \\xa0\\xa0\\xa0\\xa0 5023 (2550/2473) \\xa0\\nадр. \\xa0\\xa0\\xa0 61000 (30000/31000) \\xa0\\nадр.new  1479 (1000/479) \\xa0\\n\\ndadata\\n2 Краснодар \\xa0\\xa0\\xa0 136 ( 136 / - )\\n3 Сочи \\xa0\\xa0\\xa0\\xa0\\xa0\\xa0\\xa0\\xa0 131 ( 131 / - )\\n4 Новороссийск  61 ( 17 / 44 )\\n5 Анапа \\xa0\\xa0\\xa0\\xa0\\xa0\\xa0\\xa0 31 ( 31 / - )\\n6 Армавир \\xa0\\xa0\\xa0\\xa0\\xa0 1 ( 1 / - )\\n7 Челябинск \\xa0\\xa0\\xa0 16 ( 16 / - )\\n12 Казань \\xa0\\xa0\\xa0\\xa0\\xa0 176 ( 52 / 124 )\\n17 Томск \\xa0\\xa0\\xa0\\xa0\\xa0\\xa0 15 ( 15 / - )\\n18 Новосибирск  321 ( 167 / 154 )\\n19 Саратов \\xa0\\xa0\\xa0\\xa0 73 ( 73 / - )\\n20 Калининград  51 ( 51 / - )\\n'"
      ]
     },
     "execution_count": 97,
     "metadata": {},
     "output_type": "execute_result"
    }
   ],
   "source": [
    "rrr"
   ]
  },
  {
   "cell_type": "code",
   "execution_count": 98,
   "id": "64848fc1",
   "metadata": {},
   "outputs": [
    {
     "name": "stdout",
     "output_type": "stream",
     "text": [
      "Обработаны объявления от 2023-28-06\n",
      "всего    169331 (115869/53462)  \n",
      "new      5023 (2550/2473)  \n",
      "адр.     61000 (30000/31000)  \n",
      "адр.new  1479 (1000/479)  \n",
      "\n",
      "dadata\n",
      "2 Краснодар     136 ( 136 / - )\n",
      "3 Сочи          131 ( 131 / - )\n",
      "4 Новороссийск  61 ( 17 / 44 )\n",
      "5 Анапа         31 ( 31 / - )\n",
      "6 Армавир       1 ( 1 / - )\n",
      "7 Челябинск     16 ( 16 / - )\n",
      "12 Казань       176 ( 52 / 124 )\n",
      "17 Томск        15 ( 15 / - )\n",
      "18 Новосибирск  321 ( 167 / 154 )\n",
      "19 Саратов      73 ( 73 / - )\n",
      "20 Калининград  51 ( 51 / - )\n",
      "\n"
     ]
    }
   ],
   "source": [
    "for i in rrr.split('\\n'):\n",
    "    print(i)"
   ]
  },
  {
   "cell_type": "code",
   "execution_count": 25,
   "id": "28440cc0",
   "metadata": {},
   "outputs": [
    {
     "name": "stdout",
     "output_type": "stream",
     "text": [
      "Обработаны объявления от 2023-28-06\n",
      "всего      169331    ( 115869 / 53462 )\n",
      "new        5023      (   2550 /  2473 )\n",
      "адр.       61000     (  30000 / 31000 )\n",
      "адр.new    1479      (   1000 /   479 )\n",
      "\n",
      "dadata\n",
      "2 Краснодар ______ 136 ( 136 / - )\n",
      "3 Сочи ___________ 131 ( 131 / - )\n",
      "4 Новороссийск ___ 61 ( 17 / 44 )\n",
      "5 Анапа __________ 31 ( 31 / - )\n",
      "6 Армавир ________ 1 ( 1 / - )\n",
      "7 Челябинск ______ 16 ( 16 / - )\n",
      "12 Казань ________ 176 ( 52 / 124 )\n",
      "17 Томск _________ 15 ( 15 / - )\n",
      "18 Новосибирск ___ 321 ( 167 / 154 )\n",
      "19 Саратов _______ 73 ( 73 / - )\n",
      "20 Калининград ___ 51 ( 51 / - )\n",
      "\n"
     ]
    }
   ],
   "source": [
    "print(rrr)"
   ]
  },
  {
   "cell_type": "code",
   "execution_count": null,
   "id": "31000379",
   "metadata": {},
   "outputs": [],
   "source": []
  },
  {
   "cell_type": "code",
   "execution_count": null,
   "id": "de900df7",
   "metadata": {},
   "outputs": [],
   "source": []
  },
  {
   "cell_type": "code",
   "execution_count": null,
   "id": "6cf96fb2",
   "metadata": {},
   "outputs": [],
   "source": []
  },
  {
   "cell_type": "code",
   "execution_count": null,
   "id": "d41e7ca4",
   "metadata": {},
   "outputs": [],
   "source": []
  },
  {
   "cell_type": "code",
   "execution_count": null,
   "id": "f110b99b",
   "metadata": {},
   "outputs": [],
   "source": []
  },
  {
   "cell_type": "code",
   "execution_count": 168,
   "id": "afb16de9",
   "metadata": {},
   "outputs": [],
   "source": [
    "import telebot\n",
    "\n",
    "bot = telebot.TeleBot('5384767557:AAGBM487FW6lZq6D3z7ct44ADqyMjjjXpxc')\n",
    "chat_id = '-1001683557389'\n",
    "\n",
    "def send_tg(message):\n",
    "    bot.send_message(chat_id, message)\n",
    "\n",
    "@bot.message_handler(content_types=['text'])\n",
    "def get_text_messages(message):\n",
    "    if message.text == \"Привет\":\n",
    "        bot.send_message(message.from_user.id, \"Привет\")"
   ]
  },
  {
   "cell_type": "code",
   "execution_count": 169,
   "id": "09cbded1",
   "metadata": {},
   "outputs": [],
   "source": [
    "if rrr:\n",
    "    send_tg(rrr)\n",
    "else:\n",
    "    pass"
   ]
  },
  {
   "cell_type": "code",
   "execution_count": 170,
   "id": "008ce5a1",
   "metadata": {},
   "outputs": [],
   "source": [
    "bot.stop_bot()"
   ]
  }
 ],
 "metadata": {
  "kernelspec": {
   "display_name": "Python 3 (ipykernel)",
   "language": "python",
   "name": "python3"
  },
  "language_info": {
   "codemirror_mode": {
    "name": "ipython",
    "version": 3
   },
   "file_extension": ".py",
   "mimetype": "text/x-python",
   "name": "python",
   "nbconvert_exporter": "python",
   "pygments_lexer": "ipython3",
   "version": "3.10.4"
  }
 },
 "nbformat": 4,
 "nbformat_minor": 5
}
