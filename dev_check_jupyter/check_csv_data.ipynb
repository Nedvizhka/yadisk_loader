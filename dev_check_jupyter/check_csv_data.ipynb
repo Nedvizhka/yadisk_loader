{
 "cells": [
  {
   "cell_type": "code",
   "execution_count": 2,
   "id": "ee53e4d7",
   "metadata": {},
   "outputs": [],
   "source": [
    "import requests\n",
    "import zipfile\n",
    "import io\n",
    "import os \n",
    "import shutil\n",
    "import pandas as pd\n",
    "import logging\n",
    "import configparser\n",
    "import shutil\n",
    "import random\n",
    "import re\n",
    "import yadisk\n",
    "\n",
    "\n",
    "from pathlib import Path\n",
    "from transliterate import translit\n",
    "from datetime import datetime\n",
    "from sshtunnel import SSHTunnelForwarder\n",
    "from sqlalchemy import create_engine, text, NullPool\n",
    "\n",
    "import warnings\n",
    "warnings.filterwarnings(\"ignore\")"
   ]
  },
  {
   "cell_type": "code",
   "execution_count": 3,
   "id": "a6824a88",
   "metadata": {},
   "outputs": [
    {
     "data": {
      "text/html": [
       "<style>.container { width:90% !important; }</style>"
      ],
      "text/plain": [
       "<IPython.core.display.HTML object>"
      ]
     },
     "metadata": {},
     "output_type": "display_data"
    }
   ],
   "source": [
    "from IPython.display import display, HTML\n",
    "display(HTML(\"<style>.container { width:90% !important; }</style>\"))"
   ]
  },
  {
   "cell_type": "code",
   "execution_count": 4,
   "id": "9b1fe54f",
   "metadata": {},
   "outputs": [],
   "source": [
    "import configparser\n",
    "\n",
    "config = configparser.ConfigParser()\n",
    "config.read('config.ini')\n",
    "ssh_host = config['database']['ssh_host_test']\n",
    "ssh_port = int(config['database']['ssh_port'])\n",
    "ssh_username = config['database']['ssh_username']\n",
    "ssh_password = config['database']['ssh_password']\n",
    "database_username = config['database']['database_username']\n",
    "database_password = config['database']['database_password']\n",
    "database_name = config['database']['database_name']\n",
    "localhost = config['database']['localhost']\n",
    "localhost_port = int(config['database']['localhost_port'])\n",
    "table_name = config['database']['table_name']\n",
    "ya_api = config['yandex']['ya_api']\n",
    "ya_link = config['yandex']['ya_link']\n",
    "ya_token = config['yandex']['ya_token']"
   ]
  },
  {
   "cell_type": "markdown",
   "id": "f3774fff",
   "metadata": {},
   "source": [
    "# create savedir"
   ]
  },
  {
   "cell_type": "code",
   "execution_count": 5,
   "id": "80c78417",
   "metadata": {},
   "outputs": [],
   "source": [
    "def create_save_dir_check():\n",
    "    try:\n",
    "        Path.mkdir(Path.cwd()/'check_csv')\n",
    "    except:\n",
    "        pass\n",
    "    save_dir = (Path.cwd()/'check_csv').as_posix()\n",
    "    return save_dir"
   ]
  },
  {
   "cell_type": "code",
   "execution_count": 6,
   "id": "ebf99a6b",
   "metadata": {},
   "outputs": [],
   "source": [
    "local_save_dir = create_save_dir_check()"
   ]
  },
  {
   "cell_type": "code",
   "execution_count": 7,
   "id": "93399ddf",
   "metadata": {},
   "outputs": [
    {
     "data": {
      "text/plain": [
       "'C:/Users/pnknv/Documents/GitHub/yadisk_loader/check_csv'"
      ]
     },
     "execution_count": 7,
     "metadata": {},
     "output_type": "execute_result"
    }
   ],
   "source": [
    "local_save_dir"
   ]
  },
  {
   "cell_type": "markdown",
   "id": "22b7943c",
   "metadata": {},
   "source": [
    "# load files"
   ]
  },
  {
   "cell_type": "markdown",
   "id": "b761da90",
   "metadata": {},
   "source": [
    "## load personal disk"
   ]
  },
  {
   "cell_type": "code",
   "execution_count": 8,
   "id": "13a49e92",
   "metadata": {},
   "outputs": [],
   "source": [
    "y = yadisk.YaDisk(token=ya_token)"
   ]
  },
  {
   "cell_type": "code",
   "execution_count": 9,
   "id": "bbcaf036",
   "metadata": {},
   "outputs": [
    {
     "name": "stdout",
     "output_type": "stream",
     "text": [
      "token valid\n"
     ]
    }
   ],
   "source": [
    "if y.check_token():\n",
    "    print('token valid')\n",
    "else:\n",
    "    print('token invalid')\n",
    "    print('перейдите по ссылке: https://oauth.yandex.ru/authorize?response_type=token&client_id=<> вставив свой айди приложения')\n",
    "    print('id приложения можно получить в: https://oauth.yandex.ru/ - пользователь yanedvizhkatop')\n",
    "    print('мануал: https://ramziv.com/article/8')"
   ]
  },
  {
   "cell_type": "code",
   "execution_count": 10,
   "id": "9bccae58",
   "metadata": {},
   "outputs": [],
   "source": [
    "disk_files_info = list(y.listdir(\"/cian\"))"
   ]
  },
  {
   "cell_type": "code",
   "execution_count": 11,
   "id": "13f80d51",
   "metadata": {},
   "outputs": [],
   "source": [
    "disk_files = [disk_files_info[i].path for i in range(len(disk_files_info))]"
   ]
  },
  {
   "cell_type": "code",
   "execution_count": 12,
   "id": "216c4542",
   "metadata": {},
   "outputs": [
    {
     "data": {
      "text/plain": [
       "['disk:/cian/17-03-23.csv',\n",
       " 'disk:/cian/18-03-23.csv',\n",
       " 'disk:/cian/20-03-23.csv',\n",
       " 'disk:/cian/21-03-23.csv']"
      ]
     },
     "execution_count": 12,
     "metadata": {},
     "output_type": "execute_result"
    }
   ],
   "source": [
    "disk_files"
   ]
  },
  {
   "cell_type": "code",
   "execution_count": 13,
   "id": "489b42b6",
   "metadata": {},
   "outputs": [
    {
     "data": {
      "text/plain": [
       "WindowsPath('C:/Users/pnknv/Documents/GitHub/yadisk_loader/check_csv/21-03-23.csv')"
      ]
     },
     "execution_count": 13,
     "metadata": {},
     "output_type": "execute_result"
    }
   ],
   "source": [
    "Path(local_save_dir)/Path(disk_files[-1]).name"
   ]
  },
  {
   "cell_type": "code",
   "execution_count": 14,
   "id": "3ff72ba0",
   "metadata": {},
   "outputs": [
    {
     "data": {
      "text/plain": [
       "<ResourceLinkObject{'href': 'https://cloud-api.yandex.net/v1/disk/resources?path=disk%3A%2Fcian%2F21-03-23.csv', 'method': 'GET', 'templated': False, 'path': 'disk:/cian/21-03-23.csv'}>"
      ]
     },
     "execution_count": 14,
     "metadata": {},
     "output_type": "execute_result"
    }
   ],
   "source": [
    "y.download(disk_files[-1], (Path(local_save_dir)/Path(disk_files[0]).name).as_posix())"
   ]
  },
  {
   "cell_type": "code",
   "execution_count": 15,
   "id": "d8b72810",
   "metadata": {},
   "outputs": [
    {
     "data": {
      "text/plain": [
       "'21-03-23.csv'"
      ]
     },
     "execution_count": 15,
     "metadata": {},
     "output_type": "execute_result"
    }
   ],
   "source": [
    "Path(disk_files[-1]).name"
   ]
  },
  {
   "cell_type": "code",
   "execution_count": 39,
   "id": "fe0bdd23",
   "metadata": {},
   "outputs": [
    {
     "data": {
      "text/plain": [
       "'C:/Users/pnknv/Documents/GitHub/yadisk_loader/check_csv/17-03-23.csv'"
      ]
     },
     "execution_count": 39,
     "metadata": {},
     "output_type": "execute_result"
    }
   ],
   "source": [
    "local_save_dir+'/'+Path(disk_files[0]).name"
   ]
  },
  {
   "cell_type": "code",
   "execution_count": 18,
   "id": "220d8998",
   "metadata": {},
   "outputs": [],
   "source": [
    "cian_dima = pd.read_csv(local_save_dir+'/'+Path(disk_files[0]).name, encoding='cp1251', delimiter=',')"
   ]
  },
  {
   "cell_type": "code",
   "execution_count": 19,
   "id": "89af774a",
   "metadata": {},
   "outputs": [],
   "source": [
    "cian_dima.drop_duplicates(subset=['link'], keep='last', inplace=True)\n",
    "cian_dima.reset_index(drop=True, inplace=True)"
   ]
  },
  {
   "cell_type": "code",
   "execution_count": 20,
   "id": "3968e40c",
   "metadata": {},
   "outputs": [
    {
     "data": {
      "text/html": [
       "<div>\n",
       "<style scoped>\n",
       "    .dataframe tbody tr th:only-of-type {\n",
       "        vertical-align: middle;\n",
       "    }\n",
       "\n",
       "    .dataframe tbody tr th {\n",
       "        vertical-align: top;\n",
       "    }\n",
       "\n",
       "    .dataframe thead th {\n",
       "        text-align: right;\n",
       "    }\n",
       "</style>\n",
       "<table border=\"1\" class=\"dataframe\">\n",
       "  <thead>\n",
       "    <tr style=\"text-align: right;\">\n",
       "      <th></th>\n",
       "      <th>source</th>\n",
       "      <th>ad_id</th>\n",
       "      <th>addr</th>\n",
       "      <th>city</th>\n",
       "      <th>raion</th>\n",
       "      <th>mikroraion</th>\n",
       "      <th>square</th>\n",
       "      <th>floor</th>\n",
       "      <th>house_floors</th>\n",
       "      <th>type</th>\n",
       "      <th>link</th>\n",
       "      <th>price</th>\n",
       "      <th>price_sqrm</th>\n",
       "      <th>offer_from</th>\n",
       "      <th>date</th>\n",
       "    </tr>\n",
       "  </thead>\n",
       "  <tbody>\n",
       "    <tr>\n",
       "      <th>0</th>\n",
       "      <td>cian</td>\n",
       "      <td>210197059</td>\n",
       "      <td>Краснодарский край; Анапа; улица Горького; 2А</td>\n",
       "      <td>Анапа</td>\n",
       "      <td>NaN</td>\n",
       "      <td>NaN</td>\n",
       "      <td>107.0</td>\n",
       "      <td>7</td>\n",
       "      <td>12</td>\n",
       "      <td>3 комн</td>\n",
       "      <td>https://anapa.cian.ru/sale/flat/210197059/</td>\n",
       "      <td>25000000</td>\n",
       "      <td>233645</td>\n",
       "      <td>Собственник</td>\n",
       "      <td>2019-06-16 19:18:17</td>\n",
       "    </tr>\n",
       "    <tr>\n",
       "      <th>1</th>\n",
       "      <td>cian</td>\n",
       "      <td>213575526</td>\n",
       "      <td>Краснодарский край; Анапа; улица Краснозеленых...</td>\n",
       "      <td>Анапа</td>\n",
       "      <td>NaN</td>\n",
       "      <td>NaN</td>\n",
       "      <td>106.0</td>\n",
       "      <td>6</td>\n",
       "      <td>7</td>\n",
       "      <td>3 комн</td>\n",
       "      <td>https://anapa.cian.ru/sale/flat/213575526/</td>\n",
       "      <td>10100000</td>\n",
       "      <td>95283</td>\n",
       "      <td>Риелтор</td>\n",
       "      <td>2019-07-26 11:52:55</td>\n",
       "    </tr>\n",
       "    <tr>\n",
       "      <th>2</th>\n",
       "      <td>cian</td>\n",
       "      <td>232012292</td>\n",
       "      <td>Краснодарский край; Анапа; улица Ленина; 194</td>\n",
       "      <td>Анапа</td>\n",
       "      <td>NaN</td>\n",
       "      <td>NaN</td>\n",
       "      <td>20.0</td>\n",
       "      <td>1</td>\n",
       "      <td>9</td>\n",
       "      <td>Студия</td>\n",
       "      <td>https://anapa.cian.ru/sale/flat/232012292/</td>\n",
       "      <td>2100000</td>\n",
       "      <td>105000</td>\n",
       "      <td>Риелтор</td>\n",
       "      <td>2020-05-14 15:01:50</td>\n",
       "    </tr>\n",
       "    <tr>\n",
       "      <th>3</th>\n",
       "      <td>cian</td>\n",
       "      <td>233965925</td>\n",
       "      <td>Краснодарский край; Анапа; улица Толстого; 81</td>\n",
       "      <td>Анапа</td>\n",
       "      <td>NaN</td>\n",
       "      <td>NaN</td>\n",
       "      <td>29.0</td>\n",
       "      <td>1</td>\n",
       "      <td>3</td>\n",
       "      <td>1 комн</td>\n",
       "      <td>https://anapa.cian.ru/sale/flat/233965925/</td>\n",
       "      <td>4500000</td>\n",
       "      <td>155172</td>\n",
       "      <td>Агентство недвижимости</td>\n",
       "      <td>2020-06-08 14:04:52</td>\n",
       "    </tr>\n",
       "    <tr>\n",
       "      <th>4</th>\n",
       "      <td>cian</td>\n",
       "      <td>239179225</td>\n",
       "      <td>Краснодарский край; Анапа; Владимирская улица;...</td>\n",
       "      <td>Анапа</td>\n",
       "      <td>NaN</td>\n",
       "      <td>NaN</td>\n",
       "      <td>140.0</td>\n",
       "      <td>13</td>\n",
       "      <td>13</td>\n",
       "      <td>5 комн</td>\n",
       "      <td>https://anapa.cian.ru/sale/flat/239179225/</td>\n",
       "      <td>15300000</td>\n",
       "      <td>109286</td>\n",
       "      <td>Собственник</td>\n",
       "      <td>2020-08-17 16:40:04</td>\n",
       "    </tr>\n",
       "    <tr>\n",
       "      <th>...</th>\n",
       "      <td>...</td>\n",
       "      <td>...</td>\n",
       "      <td>...</td>\n",
       "      <td>...</td>\n",
       "      <td>...</td>\n",
       "      <td>...</td>\n",
       "      <td>...</td>\n",
       "      <td>...</td>\n",
       "      <td>...</td>\n",
       "      <td>...</td>\n",
       "      <td>...</td>\n",
       "      <td>...</td>\n",
       "      <td>...</td>\n",
       "      <td>...</td>\n",
       "      <td>...</td>\n",
       "    </tr>\n",
       "    <tr>\n",
       "      <th>101775</th>\n",
       "      <td>cian</td>\n",
       "      <td>285075402</td>\n",
       "      <td>Томская область; Томск; р-н Советский; проспек...</td>\n",
       "      <td>Томск</td>\n",
       "      <td>Советский</td>\n",
       "      <td>NaN</td>\n",
       "      <td>18.0</td>\n",
       "      <td>5</td>\n",
       "      <td>5</td>\n",
       "      <td>1 комн</td>\n",
       "      <td>https://tomsk.cian.ru/sale/flat/285075402/</td>\n",
       "      <td>1950000</td>\n",
       "      <td>108333</td>\n",
       "      <td>Агентство недвижимости</td>\n",
       "      <td>2023-03-21 12:35:00</td>\n",
       "    </tr>\n",
       "    <tr>\n",
       "      <th>101776</th>\n",
       "      <td>cian</td>\n",
       "      <td>285075572</td>\n",
       "      <td>Томская область; Томск; р-н Советский; улица Ш...</td>\n",
       "      <td>Томск</td>\n",
       "      <td>Советский</td>\n",
       "      <td>NaN</td>\n",
       "      <td>16.5</td>\n",
       "      <td>2</td>\n",
       "      <td>5</td>\n",
       "      <td>1 комн</td>\n",
       "      <td>https://tomsk.cian.ru/sale/flat/285075572/</td>\n",
       "      <td>2000000</td>\n",
       "      <td>121212</td>\n",
       "      <td>Агентство недвижимости</td>\n",
       "      <td>2023-03-21 12:39:13</td>\n",
       "    </tr>\n",
       "    <tr>\n",
       "      <th>101777</th>\n",
       "      <td>cian</td>\n",
       "      <td>285076163</td>\n",
       "      <td>Томская область; Томск; р-н Ленинский; улица Р...</td>\n",
       "      <td>Томск</td>\n",
       "      <td>Ленинский</td>\n",
       "      <td>NaN</td>\n",
       "      <td>48.0</td>\n",
       "      <td>5</td>\n",
       "      <td>6</td>\n",
       "      <td>2 комн</td>\n",
       "      <td>https://tomsk.cian.ru/sale/flat/285076163/</td>\n",
       "      <td>4350000</td>\n",
       "      <td>90625</td>\n",
       "      <td>Агентство недвижимости</td>\n",
       "      <td>2023-03-21 12:48:54</td>\n",
       "    </tr>\n",
       "    <tr>\n",
       "      <th>101778</th>\n",
       "      <td>cian</td>\n",
       "      <td>285076291</td>\n",
       "      <td>Томская область; Томск; р-н Ленинский; Черемош...</td>\n",
       "      <td>Томск</td>\n",
       "      <td>Ленинский</td>\n",
       "      <td>NaN</td>\n",
       "      <td>39.0</td>\n",
       "      <td>4</td>\n",
       "      <td>10</td>\n",
       "      <td>1 комн</td>\n",
       "      <td>https://tomsk.cian.ru/sale/flat/285076291/</td>\n",
       "      <td>3680000</td>\n",
       "      <td>94359</td>\n",
       "      <td>Агентство недвижимости</td>\n",
       "      <td>2023-03-21 12:51:15</td>\n",
       "    </tr>\n",
       "    <tr>\n",
       "      <th>101779</th>\n",
       "      <td>cian</td>\n",
       "      <td>285076712</td>\n",
       "      <td>Томская область; Томск; р-н Советский; улица К...</td>\n",
       "      <td>Томск</td>\n",
       "      <td>Советский</td>\n",
       "      <td>NaN</td>\n",
       "      <td>46.0</td>\n",
       "      <td>4</td>\n",
       "      <td>5</td>\n",
       "      <td>2 комн</td>\n",
       "      <td>https://tomsk.cian.ru/sale/flat/285076712/</td>\n",
       "      <td>3500000</td>\n",
       "      <td>76087</td>\n",
       "      <td>Риелтор</td>\n",
       "      <td>2023-03-21 13:01:09</td>\n",
       "    </tr>\n",
       "  </tbody>\n",
       "</table>\n",
       "<p>101780 rows × 15 columns</p>\n",
       "</div>"
      ],
      "text/plain": [
       "       source      ad_id                                               addr  \\\n",
       "0        cian  210197059      Краснодарский край; Анапа; улица Горького; 2А   \n",
       "1        cian  213575526  Краснодарский край; Анапа; улица Краснозеленых...   \n",
       "2        cian  232012292       Краснодарский край; Анапа; улица Ленина; 194   \n",
       "3        cian  233965925      Краснодарский край; Анапа; улица Толстого; 81   \n",
       "4        cian  239179225  Краснодарский край; Анапа; Владимирская улица;...   \n",
       "...       ...        ...                                                ...   \n",
       "101775   cian  285075402  Томская область; Томск; р-н Советский; проспек...   \n",
       "101776   cian  285075572  Томская область; Томск; р-н Советский; улица Ш...   \n",
       "101777   cian  285076163  Томская область; Томск; р-н Ленинский; улица Р...   \n",
       "101778   cian  285076291  Томская область; Томск; р-н Ленинский; Черемош...   \n",
       "101779   cian  285076712  Томская область; Томск; р-н Советский; улица К...   \n",
       "\n",
       "         city      raion mikroraion  square  floor  house_floors    type  \\\n",
       "0       Анапа        NaN        NaN   107.0      7            12  3 комн   \n",
       "1       Анапа        NaN        NaN   106.0      6             7  3 комн   \n",
       "2       Анапа        NaN        NaN    20.0      1             9  Студия   \n",
       "3       Анапа        NaN        NaN    29.0      1             3  1 комн   \n",
       "4       Анапа        NaN        NaN   140.0     13            13  5 комн   \n",
       "...       ...        ...        ...     ...    ...           ...     ...   \n",
       "101775  Томск  Советский        NaN    18.0      5             5  1 комн   \n",
       "101776  Томск  Советский        NaN    16.5      2             5  1 комн   \n",
       "101777  Томск  Ленинский        NaN    48.0      5             6  2 комн   \n",
       "101778  Томск  Ленинский        NaN    39.0      4            10  1 комн   \n",
       "101779  Томск  Советский        NaN    46.0      4             5  2 комн   \n",
       "\n",
       "                                              link     price  price_sqrm  \\\n",
       "0       https://anapa.cian.ru/sale/flat/210197059/  25000000      233645   \n",
       "1       https://anapa.cian.ru/sale/flat/213575526/  10100000       95283   \n",
       "2       https://anapa.cian.ru/sale/flat/232012292/   2100000      105000   \n",
       "3       https://anapa.cian.ru/sale/flat/233965925/   4500000      155172   \n",
       "4       https://anapa.cian.ru/sale/flat/239179225/  15300000      109286   \n",
       "...                                            ...       ...         ...   \n",
       "101775  https://tomsk.cian.ru/sale/flat/285075402/   1950000      108333   \n",
       "101776  https://tomsk.cian.ru/sale/flat/285075572/   2000000      121212   \n",
       "101777  https://tomsk.cian.ru/sale/flat/285076163/   4350000       90625   \n",
       "101778  https://tomsk.cian.ru/sale/flat/285076291/   3680000       94359   \n",
       "101779  https://tomsk.cian.ru/sale/flat/285076712/   3500000       76087   \n",
       "\n",
       "                    offer_from                 date  \n",
       "0                  Собственник  2019-06-16 19:18:17  \n",
       "1                      Риелтор  2019-07-26 11:52:55  \n",
       "2                      Риелтор  2020-05-14 15:01:50  \n",
       "3       Агентство недвижимости  2020-06-08 14:04:52  \n",
       "4                  Собственник  2020-08-17 16:40:04  \n",
       "...                        ...                  ...  \n",
       "101775  Агентство недвижимости  2023-03-21 12:35:00  \n",
       "101776  Агентство недвижимости  2023-03-21 12:39:13  \n",
       "101777  Агентство недвижимости  2023-03-21 12:48:54  \n",
       "101778  Агентство недвижимости  2023-03-21 12:51:15  \n",
       "101779                 Риелтор  2023-03-21 13:01:09  \n",
       "\n",
       "[101780 rows x 15 columns]"
      ]
     },
     "execution_count": 20,
     "metadata": {},
     "output_type": "execute_result"
    }
   ],
   "source": [
    "cian_dima"
   ]
  },
  {
   "cell_type": "markdown",
   "id": "746b6b59",
   "metadata": {},
   "source": [
    "## load ilya disk"
   ]
  },
  {
   "cell_type": "code",
   "execution_count": 21,
   "id": "72420fd2",
   "metadata": {},
   "outputs": [],
   "source": [
    "# скачал файлы из яндекс диска https://disk.yandex.ru/d/sVgz0GiqjhCsNg без алгоритма"
   ]
  },
  {
   "cell_type": "code",
   "execution_count": 23,
   "id": "8ff5b439",
   "metadata": {},
   "outputs": [
    {
     "data": {
      "text/plain": [
       "'C:/Users/pnknv/Documents/GitHub/yadisk_loader/check_csv'"
      ]
     },
     "execution_count": 23,
     "metadata": {},
     "output_type": "execute_result"
    }
   ],
   "source": [
    "local_save_dir"
   ]
  },
  {
   "cell_type": "code",
   "execution_count": 24,
   "id": "7d9e15e1",
   "metadata": {},
   "outputs": [],
   "source": [
    "cian_ilya = pd.read_csv(local_save_dir+'/циан 20-03-23 (без дублей).csv', delimiter=';', encoding='utf8')"
   ]
  },
  {
   "cell_type": "code",
   "execution_count": 25,
   "id": "ef6eae6c",
   "metadata": {},
   "outputs": [],
   "source": [
    "cian_ilya.drop_duplicates(subset=['Ссылка'], keep='last', inplace=True)\n",
    "cian_ilya.reset_index(drop=True, inplace=True)"
   ]
  },
  {
   "cell_type": "code",
   "execution_count": 26,
   "id": "567a32cb",
   "metadata": {},
   "outputs": [],
   "source": [
    "cian_ilya['city'] = cian_ilya['Адрес'].apply(lambda x: x.split(', ')[1])"
   ]
  },
  {
   "cell_type": "markdown",
   "id": "3df4d6f6",
   "metadata": {},
   "source": [
    "# analyze"
   ]
  },
  {
   "cell_type": "code",
   "execution_count": 120,
   "id": "d9560a4d",
   "metadata": {},
   "outputs": [],
   "source": [
    "list_cities = ['Краснодар', 'Казань', 'Анапа', 'Челябинск', 'Новороссийск', 'Томск', 'Армавир']"
   ]
  },
  {
   "cell_type": "code",
   "execution_count": 131,
   "id": "6f19a90b",
   "metadata": {},
   "outputs": [
    {
     "data": {
      "text/plain": [
       "0.02458716714398879"
      ]
     },
     "execution_count": 131,
     "metadata": {},
     "output_type": "execute_result"
    }
   ],
   "source": [
    "(65644 - 64030) / 65644"
   ]
  },
  {
   "cell_type": "code",
   "execution_count": 121,
   "id": "4b7d4769",
   "metadata": {},
   "outputs": [
    {
     "data": {
      "text/plain": [
       "Краснодар                                 30651\n",
       "Казань                                    10853\n",
       "Анапа                                      8447\n",
       "Челябинск                                  4932\n",
       "Новороссийск                               4786\n",
       "Томск                                      4184\n",
       "Армавир                                     177\n",
       "Новороссийск муниципальное образование        6\n",
       "Анапа муниципальное образование               2\n",
       "Динской район                                 1\n",
       "Сосновский район                              1\n",
       "Сочи                                          1\n",
       "Краснодар муниципальное образование           1\n",
       "Name: city, dtype: int64"
      ]
     },
     "execution_count": 121,
     "metadata": {},
     "output_type": "execute_result"
    }
   ],
   "source": [
    "cian_ilya.city.value_counts().head(20)"
   ]
  },
  {
   "cell_type": "code",
   "execution_count": 122,
   "id": "f3af82d7",
   "metadata": {},
   "outputs": [
    {
     "name": "stdout",
     "output_type": "stream",
     "text": [
      "всего уникальных записей у Ильи: 64042\n"
     ]
    }
   ],
   "source": [
    "print('всего уникальных записей у Ильи:',len(cian_ilya))"
   ]
  },
  {
   "cell_type": "code",
   "execution_count": 123,
   "id": "861491d5",
   "metadata": {},
   "outputs": [
    {
     "name": "stdout",
     "output_type": "stream",
     "text": [
      "Из них в списке целевых городов: 64030\n"
     ]
    }
   ],
   "source": [
    "print('Из них в списке целевых городов:', len(cian_ilya[cian_ilya.city.isin(list_cities)]))"
   ]
  },
  {
   "cell_type": "code",
   "execution_count": 124,
   "id": "15f46141",
   "metadata": {},
   "outputs": [
    {
     "data": {
      "text/plain": [
       "Краснодар                            31194\n",
       "Сочи                                 23462\n",
       "Казань                               11243\n",
       "Анапа                                 8263\n",
       "Новороссийск                          5511\n",
       "                                     ...  \n",
       "Краснодарский                            1\n",
       "Железнодорожного разъезда Киндери        1\n",
       "Березовка                                1\n",
       "Полевой                                  1\n",
       "Барабинка                                1\n",
       "Name: city, Length: 134, dtype: int64"
      ]
     },
     "execution_count": 124,
     "metadata": {},
     "output_type": "execute_result"
    }
   ],
   "source": [
    "cian_dima.city.value_counts()"
   ]
  },
  {
   "cell_type": "code",
   "execution_count": 125,
   "id": "6459cffd",
   "metadata": {},
   "outputs": [
    {
     "data": {
      "text/plain": [
       "Краснодар       31194\n",
       "Казань          11243\n",
       "Анапа            8263\n",
       "Новороссийск     5511\n",
       "Челябинск        5018\n",
       "Томск            4308\n",
       "Армавир           107\n",
       "Name: city, dtype: int64"
      ]
     },
     "execution_count": 125,
     "metadata": {},
     "output_type": "execute_result"
    }
   ],
   "source": [
    "cian_dima[cian_dima.city.isin(list_cities)].city.value_counts()"
   ]
  },
  {
   "cell_type": "code",
   "execution_count": 126,
   "id": "b6d6c2f9",
   "metadata": {},
   "outputs": [
    {
     "name": "stdout",
     "output_type": "stream",
     "text": [
      "всего уникальных записей у Димы: 100830\n"
     ]
    }
   ],
   "source": [
    "print('всего уникальных записей у Димы:',len(cian_dima))"
   ]
  },
  {
   "cell_type": "code",
   "execution_count": 127,
   "id": "3c4d3a6f",
   "metadata": {},
   "outputs": [
    {
     "name": "stdout",
     "output_type": "stream",
     "text": [
      "Из них в списке целевых городов: 65644\n"
     ]
    }
   ],
   "source": [
    "print('Из них в списке целевых городов:', len(cian_dima[cian_dima.city.isin(list_cities)]))"
   ]
  },
  {
   "cell_type": "code",
   "execution_count": 144,
   "id": "075e97f4",
   "metadata": {},
   "outputs": [],
   "source": [
    "list_cities_dima = ['Краснодар', 'Казань', 'Анапа', 'Челябинск', 'Новороссийск', 'Томск', 'Армавир', 'Сочи']"
   ]
  },
  {
   "cell_type": "code",
   "execution_count": 145,
   "id": "a27a57e1",
   "metadata": {},
   "outputs": [
    {
     "data": {
      "text/plain": [
       "Краснодар       31194\n",
       "Сочи            23462\n",
       "Казань          11243\n",
       "Анапа            8263\n",
       "Новороссийск     5511\n",
       "Челябинск        5018\n",
       "Томск            4308\n",
       "Армавир           107\n",
       "Name: city, dtype: int64"
      ]
     },
     "execution_count": 145,
     "metadata": {},
     "output_type": "execute_result"
    }
   ],
   "source": [
    "cian_dima[cian_dima.city.isin(list_cities_dima)].city.value_counts()"
   ]
  },
  {
   "cell_type": "code",
   "execution_count": 126,
   "id": "e083aea4",
   "metadata": {},
   "outputs": [
    {
     "name": "stdout",
     "output_type": "stream",
     "text": [
      "всего уникальных записей у Димы: 100830\n"
     ]
    }
   ],
   "source": [
    "print('всего уникальных записей у Димы:',len(cian_dima))"
   ]
  },
  {
   "cell_type": "code",
   "execution_count": 146,
   "id": "698367ab",
   "metadata": {},
   "outputs": [
    {
     "name": "stdout",
     "output_type": "stream",
     "text": [
      "Из них в списке целевых городов + Сочи: 89106\n"
     ]
    }
   ],
   "source": [
    "print('Из них в списке целевых городов + Сочи:', len(cian_dima[cian_dima.city.isin(list_cities_dima)]))"
   ]
  },
  {
   "cell_type": "markdown",
   "id": "aff49f19",
   "metadata": {},
   "source": [
    "# районы"
   ]
  },
  {
   "cell_type": "code",
   "execution_count": 35,
   "id": "d38da34b",
   "metadata": {},
   "outputs": [
    {
     "data": {
      "text/plain": [
       "source                                                       cian\n",
       "ad_id                                                   280613941\n",
       "addr            Челябинская область; Челябинск; р-н Трактороза...\n",
       "city                                                    Челябинск\n",
       "raion                                           Тракторозаводский\n",
       "mikroraion                                               Чурилово\n",
       "square                                                       58.9\n",
       "floor                                                           6\n",
       "house_floors                                                    9\n",
       "type                                                       2 комн\n",
       "link             https://chelyabinsk.cian.ru/sale/flat/280613941/\n",
       "price                                                     3650000\n",
       "price_sqrm                                                  61969\n",
       "offer_from                                            Собственник\n",
       "date                                          2022-11-27 20:04:06\n",
       "Name: 10000, dtype: object"
      ]
     },
     "execution_count": 35,
     "metadata": {},
     "output_type": "execute_result"
    }
   ],
   "source": [
    "cian_dima.iloc[10000,:]"
   ]
  },
  {
   "cell_type": "code",
   "execution_count": 34,
   "id": "2dfcf847",
   "metadata": {},
   "outputs": [
    {
     "data": {
      "text/plain": [
       "'Челябинская область; Челябинск; р-н Тракторозаводский; мкр. Чурилово; улица Трашутина; 29'"
      ]
     },
     "execution_count": 34,
     "metadata": {},
     "output_type": "execute_result"
    }
   ],
   "source": [
    "cian_dima.iloc[10000,2]"
   ]
  },
  {
   "cell_type": "code",
   "execution_count": 28,
   "id": "f516f544",
   "metadata": {},
   "outputs": [
    {
     "data": {
      "text/html": [
       "<div>\n",
       "<style scoped>\n",
       "    .dataframe tbody tr th:only-of-type {\n",
       "        vertical-align: middle;\n",
       "    }\n",
       "\n",
       "    .dataframe tbody tr th {\n",
       "        vertical-align: top;\n",
       "    }\n",
       "\n",
       "    .dataframe thead th {\n",
       "        text-align: right;\n",
       "    }\n",
       "</style>\n",
       "<table border=\"1\" class=\"dataframe\">\n",
       "  <thead>\n",
       "    <tr style=\"text-align: right;\">\n",
       "      <th></th>\n",
       "      <th>source</th>\n",
       "      <th>ad_id</th>\n",
       "      <th>addr</th>\n",
       "      <th>city</th>\n",
       "      <th>raion</th>\n",
       "      <th>mikroraion</th>\n",
       "      <th>square</th>\n",
       "      <th>floor</th>\n",
       "      <th>house_floors</th>\n",
       "      <th>type</th>\n",
       "      <th>link</th>\n",
       "      <th>price</th>\n",
       "      <th>price_sqrm</th>\n",
       "      <th>offer_from</th>\n",
       "      <th>date</th>\n",
       "    </tr>\n",
       "  </thead>\n",
       "  <tbody>\n",
       "    <tr>\n",
       "      <th>0</th>\n",
       "      <td>cian</td>\n",
       "      <td>210197059</td>\n",
       "      <td>Краснодарский край; Анапа; улица Горького; 2А</td>\n",
       "      <td>Анапа</td>\n",
       "      <td>NaN</td>\n",
       "      <td>NaN</td>\n",
       "      <td>107.0</td>\n",
       "      <td>7</td>\n",
       "      <td>12</td>\n",
       "      <td>3 комн</td>\n",
       "      <td>https://anapa.cian.ru/sale/flat/210197059/</td>\n",
       "      <td>25000000</td>\n",
       "      <td>233645</td>\n",
       "      <td>Собственник</td>\n",
       "      <td>2019-06-16 19:18:17</td>\n",
       "    </tr>\n",
       "    <tr>\n",
       "      <th>1</th>\n",
       "      <td>cian</td>\n",
       "      <td>213575526</td>\n",
       "      <td>Краснодарский край; Анапа; улица Краснозеленых...</td>\n",
       "      <td>Анапа</td>\n",
       "      <td>NaN</td>\n",
       "      <td>NaN</td>\n",
       "      <td>106.0</td>\n",
       "      <td>6</td>\n",
       "      <td>7</td>\n",
       "      <td>3 комн</td>\n",
       "      <td>https://anapa.cian.ru/sale/flat/213575526/</td>\n",
       "      <td>10100000</td>\n",
       "      <td>95283</td>\n",
       "      <td>Риелтор</td>\n",
       "      <td>2019-07-26 11:52:55</td>\n",
       "    </tr>\n",
       "    <tr>\n",
       "      <th>2</th>\n",
       "      <td>cian</td>\n",
       "      <td>232012292</td>\n",
       "      <td>Краснодарский край; Анапа; улица Ленина; 194</td>\n",
       "      <td>Анапа</td>\n",
       "      <td>NaN</td>\n",
       "      <td>NaN</td>\n",
       "      <td>20.0</td>\n",
       "      <td>1</td>\n",
       "      <td>9</td>\n",
       "      <td>Студия</td>\n",
       "      <td>https://anapa.cian.ru/sale/flat/232012292/</td>\n",
       "      <td>2100000</td>\n",
       "      <td>105000</td>\n",
       "      <td>Риелтор</td>\n",
       "      <td>2020-05-14 15:01:50</td>\n",
       "    </tr>\n",
       "    <tr>\n",
       "      <th>3</th>\n",
       "      <td>cian</td>\n",
       "      <td>233965925</td>\n",
       "      <td>Краснодарский край; Анапа; улица Толстого; 81</td>\n",
       "      <td>Анапа</td>\n",
       "      <td>NaN</td>\n",
       "      <td>NaN</td>\n",
       "      <td>29.0</td>\n",
       "      <td>1</td>\n",
       "      <td>3</td>\n",
       "      <td>1 комн</td>\n",
       "      <td>https://anapa.cian.ru/sale/flat/233965925/</td>\n",
       "      <td>4500000</td>\n",
       "      <td>155172</td>\n",
       "      <td>Агентство недвижимости</td>\n",
       "      <td>2020-06-08 14:04:52</td>\n",
       "    </tr>\n",
       "    <tr>\n",
       "      <th>4</th>\n",
       "      <td>cian</td>\n",
       "      <td>239179225</td>\n",
       "      <td>Краснодарский край; Анапа; Владимирская улица;...</td>\n",
       "      <td>Анапа</td>\n",
       "      <td>NaN</td>\n",
       "      <td>NaN</td>\n",
       "      <td>140.0</td>\n",
       "      <td>13</td>\n",
       "      <td>13</td>\n",
       "      <td>5 комн</td>\n",
       "      <td>https://anapa.cian.ru/sale/flat/239179225/</td>\n",
       "      <td>15300000</td>\n",
       "      <td>109286</td>\n",
       "      <td>Собственник</td>\n",
       "      <td>2020-08-17 16:40:04</td>\n",
       "    </tr>\n",
       "    <tr>\n",
       "      <th>...</th>\n",
       "      <td>...</td>\n",
       "      <td>...</td>\n",
       "      <td>...</td>\n",
       "      <td>...</td>\n",
       "      <td>...</td>\n",
       "      <td>...</td>\n",
       "      <td>...</td>\n",
       "      <td>...</td>\n",
       "      <td>...</td>\n",
       "      <td>...</td>\n",
       "      <td>...</td>\n",
       "      <td>...</td>\n",
       "      <td>...</td>\n",
       "      <td>...</td>\n",
       "      <td>...</td>\n",
       "    </tr>\n",
       "    <tr>\n",
       "      <th>101775</th>\n",
       "      <td>cian</td>\n",
       "      <td>285075402</td>\n",
       "      <td>Томская область; Томск; р-н Советский; проспек...</td>\n",
       "      <td>Томск</td>\n",
       "      <td>Советский</td>\n",
       "      <td>NaN</td>\n",
       "      <td>18.0</td>\n",
       "      <td>5</td>\n",
       "      <td>5</td>\n",
       "      <td>1 комн</td>\n",
       "      <td>https://tomsk.cian.ru/sale/flat/285075402/</td>\n",
       "      <td>1950000</td>\n",
       "      <td>108333</td>\n",
       "      <td>Агентство недвижимости</td>\n",
       "      <td>2023-03-21 12:35:00</td>\n",
       "    </tr>\n",
       "    <tr>\n",
       "      <th>101776</th>\n",
       "      <td>cian</td>\n",
       "      <td>285075572</td>\n",
       "      <td>Томская область; Томск; р-н Советский; улица Ш...</td>\n",
       "      <td>Томск</td>\n",
       "      <td>Советский</td>\n",
       "      <td>NaN</td>\n",
       "      <td>16.5</td>\n",
       "      <td>2</td>\n",
       "      <td>5</td>\n",
       "      <td>1 комн</td>\n",
       "      <td>https://tomsk.cian.ru/sale/flat/285075572/</td>\n",
       "      <td>2000000</td>\n",
       "      <td>121212</td>\n",
       "      <td>Агентство недвижимости</td>\n",
       "      <td>2023-03-21 12:39:13</td>\n",
       "    </tr>\n",
       "    <tr>\n",
       "      <th>101777</th>\n",
       "      <td>cian</td>\n",
       "      <td>285076163</td>\n",
       "      <td>Томская область; Томск; р-н Ленинский; улица Р...</td>\n",
       "      <td>Томск</td>\n",
       "      <td>Ленинский</td>\n",
       "      <td>NaN</td>\n",
       "      <td>48.0</td>\n",
       "      <td>5</td>\n",
       "      <td>6</td>\n",
       "      <td>2 комн</td>\n",
       "      <td>https://tomsk.cian.ru/sale/flat/285076163/</td>\n",
       "      <td>4350000</td>\n",
       "      <td>90625</td>\n",
       "      <td>Агентство недвижимости</td>\n",
       "      <td>2023-03-21 12:48:54</td>\n",
       "    </tr>\n",
       "    <tr>\n",
       "      <th>101778</th>\n",
       "      <td>cian</td>\n",
       "      <td>285076291</td>\n",
       "      <td>Томская область; Томск; р-н Ленинский; Черемош...</td>\n",
       "      <td>Томск</td>\n",
       "      <td>Ленинский</td>\n",
       "      <td>NaN</td>\n",
       "      <td>39.0</td>\n",
       "      <td>4</td>\n",
       "      <td>10</td>\n",
       "      <td>1 комн</td>\n",
       "      <td>https://tomsk.cian.ru/sale/flat/285076291/</td>\n",
       "      <td>3680000</td>\n",
       "      <td>94359</td>\n",
       "      <td>Агентство недвижимости</td>\n",
       "      <td>2023-03-21 12:51:15</td>\n",
       "    </tr>\n",
       "    <tr>\n",
       "      <th>101779</th>\n",
       "      <td>cian</td>\n",
       "      <td>285076712</td>\n",
       "      <td>Томская область; Томск; р-н Советский; улица К...</td>\n",
       "      <td>Томск</td>\n",
       "      <td>Советский</td>\n",
       "      <td>NaN</td>\n",
       "      <td>46.0</td>\n",
       "      <td>4</td>\n",
       "      <td>5</td>\n",
       "      <td>2 комн</td>\n",
       "      <td>https://tomsk.cian.ru/sale/flat/285076712/</td>\n",
       "      <td>3500000</td>\n",
       "      <td>76087</td>\n",
       "      <td>Риелтор</td>\n",
       "      <td>2023-03-21 13:01:09</td>\n",
       "    </tr>\n",
       "  </tbody>\n",
       "</table>\n",
       "<p>101780 rows × 15 columns</p>\n",
       "</div>"
      ],
      "text/plain": [
       "       source      ad_id                                               addr  \\\n",
       "0        cian  210197059      Краснодарский край; Анапа; улица Горького; 2А   \n",
       "1        cian  213575526  Краснодарский край; Анапа; улица Краснозеленых...   \n",
       "2        cian  232012292       Краснодарский край; Анапа; улица Ленина; 194   \n",
       "3        cian  233965925      Краснодарский край; Анапа; улица Толстого; 81   \n",
       "4        cian  239179225  Краснодарский край; Анапа; Владимирская улица;...   \n",
       "...       ...        ...                                                ...   \n",
       "101775   cian  285075402  Томская область; Томск; р-н Советский; проспек...   \n",
       "101776   cian  285075572  Томская область; Томск; р-н Советский; улица Ш...   \n",
       "101777   cian  285076163  Томская область; Томск; р-н Ленинский; улица Р...   \n",
       "101778   cian  285076291  Томская область; Томск; р-н Ленинский; Черемош...   \n",
       "101779   cian  285076712  Томская область; Томск; р-н Советский; улица К...   \n",
       "\n",
       "         city      raion mikroraion  square  floor  house_floors    type  \\\n",
       "0       Анапа        NaN        NaN   107.0      7            12  3 комн   \n",
       "1       Анапа        NaN        NaN   106.0      6             7  3 комн   \n",
       "2       Анапа        NaN        NaN    20.0      1             9  Студия   \n",
       "3       Анапа        NaN        NaN    29.0      1             3  1 комн   \n",
       "4       Анапа        NaN        NaN   140.0     13            13  5 комн   \n",
       "...       ...        ...        ...     ...    ...           ...     ...   \n",
       "101775  Томск  Советский        NaN    18.0      5             5  1 комн   \n",
       "101776  Томск  Советский        NaN    16.5      2             5  1 комн   \n",
       "101777  Томск  Ленинский        NaN    48.0      5             6  2 комн   \n",
       "101778  Томск  Ленинский        NaN    39.0      4            10  1 комн   \n",
       "101779  Томск  Советский        NaN    46.0      4             5  2 комн   \n",
       "\n",
       "                                              link     price  price_sqrm  \\\n",
       "0       https://anapa.cian.ru/sale/flat/210197059/  25000000      233645   \n",
       "1       https://anapa.cian.ru/sale/flat/213575526/  10100000       95283   \n",
       "2       https://anapa.cian.ru/sale/flat/232012292/   2100000      105000   \n",
       "3       https://anapa.cian.ru/sale/flat/233965925/   4500000      155172   \n",
       "4       https://anapa.cian.ru/sale/flat/239179225/  15300000      109286   \n",
       "...                                            ...       ...         ...   \n",
       "101775  https://tomsk.cian.ru/sale/flat/285075402/   1950000      108333   \n",
       "101776  https://tomsk.cian.ru/sale/flat/285075572/   2000000      121212   \n",
       "101777  https://tomsk.cian.ru/sale/flat/285076163/   4350000       90625   \n",
       "101778  https://tomsk.cian.ru/sale/flat/285076291/   3680000       94359   \n",
       "101779  https://tomsk.cian.ru/sale/flat/285076712/   3500000       76087   \n",
       "\n",
       "                    offer_from                 date  \n",
       "0                  Собственник  2019-06-16 19:18:17  \n",
       "1                      Риелтор  2019-07-26 11:52:55  \n",
       "2                      Риелтор  2020-05-14 15:01:50  \n",
       "3       Агентство недвижимости  2020-06-08 14:04:52  \n",
       "4                  Собственник  2020-08-17 16:40:04  \n",
       "...                        ...                  ...  \n",
       "101775  Агентство недвижимости  2023-03-21 12:35:00  \n",
       "101776  Агентство недвижимости  2023-03-21 12:39:13  \n",
       "101777  Агентство недвижимости  2023-03-21 12:48:54  \n",
       "101778  Агентство недвижимости  2023-03-21 12:51:15  \n",
       "101779                 Риелтор  2023-03-21 13:01:09  \n",
       "\n",
       "[101780 rows x 15 columns]"
      ]
     },
     "execution_count": 28,
     "metadata": {},
     "output_type": "execute_result"
    }
   ],
   "source": [
    "cian_dima['raion'] = cian_dima.addr.apply(lambda x: x.split(';'))"
   ]
  },
  {
   "cell_type": "code",
   "execution_count": null,
   "id": "a68d33ba",
   "metadata": {},
   "outputs": [],
   "source": []
  }
 ],
 "metadata": {
  "kernelspec": {
   "display_name": "Python 3 (ipykernel)",
   "language": "python",
   "name": "python3"
  },
  "language_info": {
   "codemirror_mode": {
    "name": "ipython",
    "version": 3
   },
   "file_extension": ".py",
   "mimetype": "text/x-python",
   "name": "python",
   "nbconvert_exporter": "python",
   "pygments_lexer": "ipython3",
   "version": "3.10.4"
  }
 },
 "nbformat": 4,
 "nbformat_minor": 5
}
