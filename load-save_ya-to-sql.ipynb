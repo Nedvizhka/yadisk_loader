{
 "cells": [
  {
   "cell_type": "markdown",
   "id": "470fed18",
   "metadata": {},
   "source": [
    "# imports"
   ]
  },
  {
   "cell_type": "code",
   "execution_count": 7,
   "id": "a721ab80",
   "metadata": {
    "ExecuteTime": {
     "end_time": "2023-02-15T05:15:22.196581Z",
     "start_time": "2023-02-15T05:15:22.076142Z"
    },
    "scrolled": false
   },
   "outputs": [],
   "source": [
    "import requests\n",
    "import zipfile\n",
    "import io\n",
    "import os \n",
    "import shutil\n",
    "import pandas as pd\n",
    "import logging\n",
    "import configparser\n",
    "import shutil\n",
    "\n",
    "\n",
    "from pathlib import Path\n",
    "from datetime import datetime\n",
    "from sshtunnel import SSHTunnelForwarder\n",
    "from sqlalchemy import create_engine, text, NullPool\n",
    "\n",
    "import warnings\n",
    "warnings.filterwarnings(\"ignore\")"
   ]
  },
  {
   "cell_type": "code",
   "execution_count": 16,
   "id": "2b02eac1",
   "metadata": {
    "ExecuteTime": {
     "end_time": "2023-02-15T05:19:47.269431Z",
     "start_time": "2023-02-15T05:19:47.263804Z"
    },
    "scrolled": false
   },
   "outputs": [],
   "source": [
    "import configparser\n",
    "\n",
    "config = configparser.ConfigParser()\n",
    "config.read('config.ini')\n",
    "ssh_host = config['database']['ssh_host']\n",
    "ssh_port = int(config['database']['ssh_port'])\n",
    "ssh_username = config['database']['ssh_username']\n",
    "ssh_password = config['database']['ssh_password']\n",
    "database_username = config['database']['database_username']\n",
    "database_password = config['database']['database_password']\n",
    "database_name = config['database']['database_name']\n",
    "localhost = config['database']['localhost']\n",
    "localhost_port = int(config['database']['localhost_port'])\n",
    "table_name = config['database']['table_name']\n",
    "ya_api = config['yandex']['ya_api']\n",
    "ya_link = config['yandex']['ya_link']"
   ]
  },
  {
   "cell_type": "markdown",
   "id": "c18eb373",
   "metadata": {},
   "source": [
    "# define saving dir"
   ]
  },
  {
   "cell_type": "code",
   "execution_count": 42,
   "id": "90075d0a",
   "metadata": {
    "scrolled": false
   },
   "outputs": [],
   "source": [
    "def create_load_save_dir():\n",
    "    try:\n",
    "        Path.mkdir(Path.cwd()/'saved_csv')\n",
    "    except:\n",
    "        pass\n",
    "    save_dir = (Path.cwd()/'saved_csv').as_posix()\n",
    "    return save_dir"
   ]
  },
  {
   "cell_type": "code",
   "execution_count": 43,
   "id": "78d36b63",
   "metadata": {
    "scrolled": false
   },
   "outputs": [],
   "source": [
    "local_save_dir = create_load_save_dir()"
   ]
  },
  {
   "cell_type": "code",
   "execution_count": 36,
   "id": "f7338a25",
   "metadata": {
    "scrolled": false
   },
   "outputs": [
    {
     "data": {
      "text/plain": [
       "'C:/Users/pnknv/Documents/GitHub/yadisk_loader/saved_csv'"
      ]
     },
     "execution_count": 36,
     "metadata": {},
     "output_type": "execute_result"
    }
   ],
   "source": [
    "local_save_dir"
   ]
  },
  {
   "cell_type": "markdown",
   "id": "abe6b81c",
   "metadata": {},
   "source": [
    "# get list of files already in database table test_avito_parsed"
   ]
  },
  {
   "cell_type": "code",
   "execution_count": 6,
   "id": "1800650f",
   "metadata": {
    "scrolled": false
   },
   "outputs": [],
   "source": [
    "def get_today_date():\n",
    "    return datetime.strftime(datetime.today(), format = \"%d/%m/%Y, %H:%M:%S\")"
   ]
  },
  {
   "cell_type": "code",
   "execution_count": 7,
   "id": "0278e730",
   "metadata": {
    "scrolled": false
   },
   "outputs": [],
   "source": [
    "def get_sql_engine(ssh_host, ssh_port, ssh_username, ssh_password, localhost,\n",
    "                   localhost_port, database_username, database_password, database_name):\n",
    "    \n",
    "    sql_server = SSHTunnelForwarder(\n",
    "        (ssh_host, ssh_port),\n",
    "        ssh_username=ssh_username,\n",
    "        ssh_password=ssh_password,\n",
    "        remote_bind_address=(localhost, localhost_port)\n",
    "    )\n",
    "\n",
    "    sql_server.start()\n",
    "    local_port = str(sql_server.local_bind_port)\n",
    "    sql_engine = create_engine('mariadb+pymysql://{}:{}@{}:{}/{}'.format(database_username, database_password,\n",
    "                                                                         localhost, local_port, database_name), \n",
    "                               poolclass=NullPool)\n",
    "\n",
    "    return sql_server, sql_engine"
   ]
  },
  {
   "cell_type": "code",
   "execution_count": 8,
   "id": "8c7366a3",
   "metadata": {
    "scrolled": false
   },
   "outputs": [],
   "source": [
    "sql_server, sql_engine = get_sql_engine(ssh_host, ssh_port, ssh_username, ssh_password, localhost, \n",
    "                                        localhost_port, database_username, database_password, database_name)"
   ]
  },
  {
   "cell_type": "code",
   "execution_count": 11,
   "id": "2221ec1e",
   "metadata": {
    "scrolled": false
   },
   "outputs": [],
   "source": [
    "def get_db_saved_files(engine):\n",
    "    filenames_query='SELECT DISTINCT file_name FROM test_avito_parsed'\n",
    "    try:\n",
    "        con_obj=engine.connect()\n",
    "        filenames_list = pd.read_sql(sql=text(filenames_query), con=con_obj)\n",
    "        filenames_list = filenames_list.file_name.to_list()\n",
    "        con_obj.close()\n",
    "        exc_code = None\n",
    "    except Exception as exc:\n",
    "        if exc.code == 'f405':\n",
    "            print(exc)\n",
    "            print('\\nТаблица не существует и это нормально, она создастся при записи csv-файла!')\n",
    "            filenames_list = []\n",
    "            exc_code = None\n",
    "        else:\n",
    "            print(exc)\n",
    "            filenames_list = []\n",
    "            exc_code = exc.code\n",
    "    return filenames_list, exc_code"
   ]
  },
  {
   "cell_type": "code",
   "execution_count": 12,
   "id": "d2afa1a2",
   "metadata": {
    "scrolled": false
   },
   "outputs": [],
   "source": [
    "files_in_db, error_with_db_con = get_db_saved_files(sql_engine)"
   ]
  },
  {
   "cell_type": "code",
   "execution_count": 13,
   "id": "c3c996d9",
   "metadata": {
    "scrolled": false
   },
   "outputs": [
    {
     "data": {
      "text/plain": [
       "True"
      ]
     },
     "execution_count": 13,
     "metadata": {},
     "output_type": "execute_result"
    }
   ],
   "source": [
    "error_with_db_con is None"
   ]
  },
  {
   "cell_type": "code",
   "execution_count": 15,
   "id": "e0ae641b",
   "metadata": {
    "scrolled": false
   },
   "outputs": [],
   "source": [
    "# sql_server.stop()\n",
    "# sql_engine.dispose()"
   ]
  },
  {
   "cell_type": "markdown",
   "id": "da2c671f",
   "metadata": {},
   "source": [
    "# load files"
   ]
  },
  {
   "cell_type": "code",
   "execution_count": 37,
   "id": "c18d25e4",
   "metadata": {
    "scrolled": false
   },
   "outputs": [],
   "source": [
    "def get_direct_link(sharing_link):\n",
    "    pk_request = requests.get(ya_api.format(sharing_link))\n",
    "    # None если не удается преоброазовать ссылку\n",
    "    return pk_request.json().get('href')\n",
    "\n",
    "def download_yadisk_files(sharing_link, list_file_exist, save_dir):\n",
    "    direct_link = get_direct_link(sharing_link)\n",
    "    if direct_link:\n",
    "        download = requests.get(direct_link)\n",
    "        zips = zipfile.ZipFile(io.BytesIO(download.content))\n",
    "        cnt = 0\n",
    "        for member in zips.namelist():\n",
    "            filename = os.path.basename(member)\n",
    "            if not filename or Path(filename).stem in list_file_exist:\n",
    "                continue\n",
    "            src = zips.open(member)\n",
    "            target = open(os.path.join(save_dir, filename), 'wb')\n",
    "            with src, target:\n",
    "                shutil.copyfileobj(src, target)\n",
    "                cnt += 1\n",
    "            target.close()\n",
    "        print('Succesfully downloaded {} files from \"{}\"'.format(cnt, sharing_link))\n",
    "        return None\n",
    "    else:\n",
    "        print('Failed to download files from \"{}\"'.format(sharing_link))\n",
    "        return 'error loading files'"
   ]
  },
  {
   "cell_type": "code",
   "execution_count": 44,
   "id": "e5225720",
   "metadata": {
    "scrolled": false
   },
   "outputs": [
    {
     "name": "stdout",
     "output_type": "stream",
     "text": [
      "Succesfully downloaded 1 files from \"https://disk.yandex.ru/d/sVgz0GiqjhCsNg\"\n"
     ]
    }
   ],
   "source": [
    "error_file_loading = download_yadisk_files(ya_link, files_in_db, local_save_dir)"
   ]
  },
  {
   "cell_type": "code",
   "execution_count": 22,
   "id": "4e16c303",
   "metadata": {
    "scrolled": false
   },
   "outputs": [
    {
     "data": {
      "text/plain": [
       "True"
      ]
     },
     "execution_count": 22,
     "metadata": {},
     "output_type": "execute_result"
    }
   ],
   "source": [
    "error_file_loading is None"
   ]
  },
  {
   "cell_type": "markdown",
   "id": "7a3c4925",
   "metadata": {},
   "source": [
    "# upload files to database "
   ]
  },
  {
   "cell_type": "code",
   "execution_count": 23,
   "id": "afd8b553",
   "metadata": {
    "scrolled": false
   },
   "outputs": [],
   "source": [
    "def get_local_files(save_dir):\n",
    "    p = Path(save_dir).glob('**/*')\n",
    "    saved_files_list = [x.as_posix() for x in p if x.is_file()]\n",
    "    return saved_files_list\n",
    "\n",
    "def create_csv(save_directory):\n",
    "    saved_files = get_local_files(save_directory)\n",
    "    cnt_files = 0\n",
    "    for f_ind in range(len(saved_files)):\n",
    "        try:\n",
    "            saved_files_new = pd.read_csv(saved_files[f_ind], delimiter=';', encoding='utf8')\n",
    "            saved_files_new['file_name'] = Path(saved_files[f_ind]).stem\n",
    "            parsed_csv = parsed_csv.append(saved_files_new)\n",
    "        except:\n",
    "            parsed_csv = pd.read_csv(saved_files[f_ind], delimiter=';', encoding='utf8')\n",
    "            parsed_csv['file_name'] = Path(saved_files[f_ind]).stem\n",
    "        cnt_files += 1\n",
    "        \n",
    "    parsed_csv.reset_index(drop=True, inplace=True)\n",
    "    print('Succesfully opened {} files'.format(cnt_files))\n",
    "\n",
    "    return parsed_csv"
   ]
  },
  {
   "cell_type": "code",
   "execution_count": 24,
   "id": "14eb10a7",
   "metadata": {
    "scrolled": false
   },
   "outputs": [
    {
     "name": "stdout",
     "output_type": "stream",
     "text": [
      "Succesfully opened 1 files\n"
     ]
    }
   ],
   "source": [
    "csv_upload = create_csv(local_save_dir)"
   ]
  },
  {
   "cell_type": "code",
   "execution_count": 25,
   "id": "14cb7452",
   "metadata": {
    "scrolled": false
   },
   "outputs": [
    {
     "data": {
      "text/plain": [
       "25375"
      ]
     },
     "execution_count": 25,
     "metadata": {},
     "output_type": "execute_result"
    }
   ],
   "source": [
    "csv_upload.to_sql(name='test_avito_parsed', con=sql_engine, if_exists='append', chunksize=7000, method='multi')"
   ]
  },
  {
   "cell_type": "markdown",
   "id": "7d05feb9",
   "metadata": {},
   "source": [
    "# finish delete and close connection"
   ]
  },
  {
   "cell_type": "code",
   "execution_count": null,
   "id": "26bc6a2e",
   "metadata": {},
   "outputs": [],
   "source": [
    "dat"
   ]
  },
  {
   "cell_type": "code",
   "execution_count": 46,
   "id": "6a5892b4",
   "metadata": {},
   "outputs": [],
   "source": [
    "def delete_files(pth):\n",
    "    pth = Path(pth)\n",
    "    for child in pth.glob('*'):\n",
    "        if child.is_file():\n",
    "            child.unlink()\n",
    "        else:\n",
    "            delete_files(Path(pth)/child)\n",
    "\n",
    "def close_sql_connection(server, engine):\n",
    "    server.stop()\n",
    "    engine.dispose()"
   ]
  },
  {
   "cell_type": "code",
   "execution_count": 47,
   "id": "1067c45c",
   "metadata": {},
   "outputs": [],
   "source": [
    "delete_files(local_save_dir)"
   ]
  },
  {
   "cell_type": "code",
   "execution_count": 32,
   "id": "a442ec05",
   "metadata": {},
   "outputs": [],
   "source": [
    "close_sql_connection(sql_server, sql_engine)"
   ]
  },
  {
   "cell_type": "markdown",
   "id": "6afa87ba",
   "metadata": {},
   "source": [
    "# dump"
   ]
  },
  {
   "cell_type": "code",
   "execution_count": null,
   "id": "6753b17d",
   "metadata": {
    "scrolled": false
   },
   "outputs": [],
   "source": [
    "import pandas as pd\n",
    "test_df = pd.DataFrame([[1, 2, '14-02-23 (без дублей)'], [2, 2, '14-02-23 (без дублей)'], [3, 2, '15-02-23 (без дублей)']], columns=['as', 'ad', 'file_name'])"
   ]
  },
  {
   "cell_type": "code",
   "execution_count": null,
   "id": "bc747d94",
   "metadata": {
    "scrolled": false
   },
   "outputs": [],
   "source": [
    "server = SSHTunnelForwarder(\n",
    "    (ssh_host, ssh_port),\n",
    "    ssh_username=ssh_username,\n",
    "    ssh_password=ssh_password,\n",
    "    remote_bind_address=(localhost, localhost_port)\n",
    "    )\n",
    "\n",
    "server.start()\n",
    "local_port = str(server.local_bind_port)\n",
    "engine = create_engine('mariadb+pymysql://{}:{}@{}:{}/{}'.format(database_username, database_password, \n",
    "                                                                 localhost, local_port, database_name))"
   ]
  },
  {
   "cell_type": "code",
   "execution_count": null,
   "id": "16bac97e",
   "metadata": {
    "scrolled": false
   },
   "outputs": [],
   "source": [
    "server.stop()"
   ]
  },
  {
   "cell_type": "code",
   "execution_count": null,
   "id": "e345f762",
   "metadata": {
    "scrolled": false
   },
   "outputs": [],
   "source": [
    "engine.dispose()"
   ]
  },
  {
   "cell_type": "code",
   "execution_count": null,
   "id": "6d762116",
   "metadata": {
    "scrolled": false
   },
   "outputs": [],
   "source": [
    "test_df"
   ]
  },
  {
   "cell_type": "code",
   "execution_count": null,
   "id": "31856f1f",
   "metadata": {
    "scrolled": false
   },
   "outputs": [],
   "source": [
    "test_df.to_sql(name='test_avito_parsed', con=sql_engine, if_exists='append', chunksize=5000, method='multi')"
   ]
  },
  {
   "cell_type": "code",
   "execution_count": null,
   "id": "928af899",
   "metadata": {
    "scrolled": false
   },
   "outputs": [],
   "source": [
    "filenames_query='SELECT DISTINCT file_name FROM test_avito_parsed'"
   ]
  },
  {
   "cell_type": "code",
   "execution_count": null,
   "id": "30d30120",
   "metadata": {
    "scrolled": false
   },
   "outputs": [],
   "source": [
    "test_distinct = pd.read_sql(sql=text(filenames_query), con=engine.connect())\n",
    "test_distinct = test_distinct.file_name.to_list()"
   ]
  },
  {
   "cell_type": "code",
   "execution_count": null,
   "id": "f7b8647c",
   "metadata": {
    "scrolled": false
   },
   "outputs": [],
   "source": [
    "test_distinct"
   ]
  },
  {
   "cell_type": "code",
   "execution_count": null,
   "id": "39cb5405",
   "metadata": {
    "scrolled": false
   },
   "outputs": [],
   "source": [
    "saved_files_csv.to_sql(name='test_avito_parsed', con=engine, if_exists='append', chunksize=5000, method='multi')"
   ]
  }
 ],
 "metadata": {
  "kernelspec": {
   "display_name": "Python 3 (ipykernel)",
   "language": "python",
   "name": "python3"
  },
  "language_info": {
   "codemirror_mode": {
    "name": "ipython",
    "version": 3
   },
   "file_extension": ".py",
   "mimetype": "text/x-python",
   "name": "python",
   "nbconvert_exporter": "python",
   "pygments_lexer": "ipython3",
   "version": "3.11.1"
  }
 },
 "nbformat": 4,
 "nbformat_minor": 5
}
