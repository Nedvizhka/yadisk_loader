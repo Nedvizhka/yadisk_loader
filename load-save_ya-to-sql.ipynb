{
 "cells": [
  {
   "cell_type": "code",
   "execution_count": 24,
   "id": "a721ab80",
   "metadata": {},
   "outputs": [],
   "source": [
    "import requests\n",
    "import zipfile\n",
    "import io\n",
    "import os \n",
    "import shutil\n",
    "import pandas as pd\n",
    "import mariadb\n",
    "import pymysql\n",
    "import logging\n",
    "import sshtunnel\n",
    "\n",
    "\n",
    "from pathlib import Path\n",
    "from sshtunnel import SSHTunnelForwarder\n",
    "from sqlalchemy import create_engine\n",
    "\n",
    "import warnings\n",
    "warnings.filterwarnings(\"ignore\")\n",
    "\n",
    "ya_api = 'https://cloud-api.yandex.net/v1/disk/public/resources/download?public_key={}'\n",
    "ya_link = 'https://disk.yandex.ru/d/sVgz0GiqjhCsNg'"
   ]
  },
  {
   "cell_type": "code",
   "execution_count": 17,
   "id": "90075d0a",
   "metadata": {},
   "outputs": [],
   "source": [
    "try:\n",
    "    Path.mkdir(Path.cwd()/'saved_csv')\n",
    "except:\n",
    "    pass\n",
    "\n",
    "save_dir = (Path.cwd()/'saved_csv').as_posix()\n",
    "list_file_exist = os.listdir(save_dir)"
   ]
  },
  {
   "cell_type": "code",
   "execution_count": 18,
   "id": "3b7e2df9",
   "metadata": {},
   "outputs": [],
   "source": [
    "list_file_exist = []"
   ]
  },
  {
   "cell_type": "code",
   "execution_count": 3,
   "id": "106b66e8",
   "metadata": {},
   "outputs": [],
   "source": [
    "def get_direct_link(sharing_link):\n",
    "    pk_request = requests.get(ya_api.format(sharing_link))\n",
    "    # None если не удается преоброазовать ссылку\n",
    "    return pk_request.json().get('href')\n",
    "\n",
    "def download_yadisk_files(sharing_link):\n",
    "    direct_link = get_direct_link(sharing_link)\n",
    "    if direct_link:\n",
    "        download = requests.get(direct_link)\n",
    "        zips = zipfile.ZipFile(io.BytesIO(download.content))\n",
    "        cnt = 0\n",
    "        for member in zips.namelist():\n",
    "            filename = os.path.basename(member)\n",
    "            if not filename or filename in list_file_exist:\n",
    "                continue\n",
    "            src = zips.open(member)\n",
    "            target = open(os.path.join(save_dir, filename), 'wb')\n",
    "            with src, target:\n",
    "                shutil.copyfileobj(src, target)\n",
    "                cnt += 1\n",
    "            target.close()\n",
    "        print('Succesfully downloaded {} files from \"{}\"'.format(cnt, sharing_link))\n",
    "    else:\n",
    "        print('Failed to download files from \"{}\"'.format(sharing_link))"
   ]
  },
  {
   "cell_type": "code",
   "execution_count": 4,
   "id": "859c6044",
   "metadata": {},
   "outputs": [
    {
     "name": "stdout",
     "output_type": "stream",
     "text": [
      "Succesfully downloaded 9 files from \"https://disk.yandex.ru/d/sVgz0GiqjhCsNg\"\n"
     ]
    }
   ],
   "source": [
    "download_yadisk_files(ya_link)"
   ]
  },
  {
   "cell_type": "code",
   "execution_count": null,
   "id": "aac944a4",
   "metadata": {},
   "outputs": [],
   "source": []
  },
  {
   "cell_type": "code",
   "execution_count": null,
   "id": "c2a7e58c",
   "metadata": {},
   "outputs": [],
   "source": []
  },
  {
   "cell_type": "code",
   "execution_count": 19,
   "id": "c8922bc4",
   "metadata": {},
   "outputs": [],
   "source": [
    "p = Path(save_dir).glob('**/*')\n",
    "saved_files = [x.as_posix() for x in p if x.is_file() and x.name not in list_file_exist]"
   ]
  },
  {
   "cell_type": "code",
   "execution_count": 20,
   "id": "b7bc8c4e",
   "metadata": {},
   "outputs": [
    {
     "data": {
      "text/plain": [
       "['C:/Users/pnknv/Documents/GitHub/yadisk_loader/saved_csv/07-02-2023.csv',\n",
       " 'C:/Users/pnknv/Documents/GitHub/yadisk_loader/saved_csv/07-02-23 (без дублей).csv',\n",
       " 'C:/Users/pnknv/Documents/GitHub/yadisk_loader/saved_csv/08-02-23 (без дублей).csv',\n",
       " 'C:/Users/pnknv/Documents/GitHub/yadisk_loader/saved_csv/09-02-23 (без дублей) 2.csv',\n",
       " 'C:/Users/pnknv/Documents/GitHub/yadisk_loader/saved_csv/09-02-23 (без дублей).csv',\n",
       " 'C:/Users/pnknv/Documents/GitHub/yadisk_loader/saved_csv/10-02-23 (без дублей).csv',\n",
       " 'C:/Users/pnknv/Documents/GitHub/yadisk_loader/saved_csv/11-02-23 (без дублей).csv',\n",
       " 'C:/Users/pnknv/Documents/GitHub/yadisk_loader/saved_csv/12-02-23 (без дублей).csv',\n",
       " 'C:/Users/pnknv/Documents/GitHub/yadisk_loader/saved_csv/13-02-23 (без дублей).csv']"
      ]
     },
     "execution_count": 20,
     "metadata": {},
     "output_type": "execute_result"
    }
   ],
   "source": [
    "saved_files"
   ]
  },
  {
   "cell_type": "code",
   "execution_count": 21,
   "id": "53692a10",
   "metadata": {},
   "outputs": [],
   "source": [
    "for f_ind in range(len(saved_files)):\n",
    "    if f_ind == 0:\n",
    "        saved_files_csv = pd.read_csv(saved_files[f_ind], delimiter=';', encoding='utf8')\n",
    "    else:\n",
    "        saved_files_csv = saved_files_csv.append(pd.read_csv(saved_files[f_ind], delimiter=';', encoding='utf8'))\n",
    "    saved_files_csv.reset_index(drop=True, inplace=True)"
   ]
  },
  {
   "cell_type": "code",
   "execution_count": 22,
   "id": "a24f2063",
   "metadata": {},
   "outputs": [
    {
     "data": {
      "text/html": [
       "<div>\n",
       "<style scoped>\n",
       "    .dataframe tbody tr th:only-of-type {\n",
       "        vertical-align: middle;\n",
       "    }\n",
       "\n",
       "    .dataframe tbody tr th {\n",
       "        vertical-align: top;\n",
       "    }\n",
       "\n",
       "    .dataframe thead th {\n",
       "        text-align: right;\n",
       "    }\n",
       "</style>\n",
       "<table border=\"1\" class=\"dataframe\">\n",
       "  <thead>\n",
       "    <tr style=\"text-align: right;\">\n",
       "      <th></th>\n",
       "      <th>Ссылка</th>\n",
       "      <th>Заголовок</th>\n",
       "      <th>Комнат</th>\n",
       "      <th>Площадь</th>\n",
       "      <th>Этаж</th>\n",
       "      <th>Цена</th>\n",
       "      <th>Цена за м2</th>\n",
       "      <th>Название жк</th>\n",
       "      <th>Район</th>\n",
       "      <th>Улица</th>\n",
       "      <th>Дата публикации</th>\n",
       "      <th>Тип продавца</th>\n",
       "      <th>Продавец</th>\n",
       "      <th>Ссылка на продавца</th>\n",
       "      <th>Завершённых объявлений</th>\n",
       "    </tr>\n",
       "  </thead>\n",
       "  <tbody>\n",
       "    <tr>\n",
       "      <th>0</th>\n",
       "      <td>https://www.avito.ru/chelyabinsk/kvartiry/2-k....</td>\n",
       "      <td>2-к. квартира, 44,1 м², 2/10 эт.</td>\n",
       "      <td>2-к. квартира</td>\n",
       "      <td>44,1 м²</td>\n",
       "      <td>2/10 эт.</td>\n",
       "      <td>2641000</td>\n",
       "      <td>59887</td>\n",
       "      <td>NaN</td>\n",
       "      <td>NaN</td>\n",
       "      <td>ул. им. Генерала Костицына, д. 11</td>\n",
       "      <td>1 день назад</td>\n",
       "      <td>Застройщик</td>\n",
       "      <td>ООО \"СЗ Атлант-Строй\"</td>\n",
       "      <td>https://www.avito.ru/user/58f18e333b0e5cf1677e...</td>\n",
       "      <td>NaN</td>\n",
       "    </tr>\n",
       "    <tr>\n",
       "      <th>1</th>\n",
       "      <td>https://www.avito.ru/chelyabinsk/kvartiry/1-k....</td>\n",
       "      <td>1-к. квартира, 41 м², 1/10 эт.</td>\n",
       "      <td>1-к. квартира</td>\n",
       "      <td>41 м²</td>\n",
       "      <td>1/10 эт.</td>\n",
       "      <td>2850000</td>\n",
       "      <td>69512</td>\n",
       "      <td>NaN</td>\n",
       "      <td>р-н Курчатовский</td>\n",
       "      <td>ул. Бейвеля, 73</td>\n",
       "      <td>1 час назад</td>\n",
       "      <td>Агентство</td>\n",
       "      <td>АН Ника-Дом</td>\n",
       "      <td>https://www.avito.ru/user/5d5a6a6aecbf4100c49f...</td>\n",
       "      <td>NaN</td>\n",
       "    </tr>\n",
       "    <tr>\n",
       "      <th>2</th>\n",
       "      <td>https://www.avito.ru/chelyabinsk/kvartiry/3-k....</td>\n",
       "      <td>3-к. квартира, 60,8 м², 9/11 эт.</td>\n",
       "      <td>3-к. квартира</td>\n",
       "      <td>60,8 м²</td>\n",
       "      <td>9/11 эт.</td>\n",
       "      <td>3675238</td>\n",
       "      <td>60448</td>\n",
       "      <td>NaN</td>\n",
       "      <td>NaN</td>\n",
       "      <td>пос. Западный, д. 15</td>\n",
       "      <td>7 часов назад</td>\n",
       "      <td>Застройщик</td>\n",
       "      <td>Экорайон \"Вишневая горка\"</td>\n",
       "      <td>https://www.avito.ru/user/e033ce494357a96bc703...</td>\n",
       "      <td>NaN</td>\n",
       "    </tr>\n",
       "    <tr>\n",
       "      <th>3</th>\n",
       "      <td>https://www.avito.ru/chelyabinsk/kvartiry/3-k....</td>\n",
       "      <td>3-к. квартира, 66 м², 6/10 эт.</td>\n",
       "      <td>3-к. квартира</td>\n",
       "      <td>66 м²</td>\n",
       "      <td>6/10 эт.</td>\n",
       "      <td>4400000</td>\n",
       "      <td>66667</td>\n",
       "      <td>NaN</td>\n",
       "      <td>р-н Калининский</td>\n",
       "      <td>ул. 250-летия Челябинска, 9</td>\n",
       "      <td>5 дней назад</td>\n",
       "      <td>Частное лицо</td>\n",
       "      <td>NaN</td>\n",
       "      <td>NaN</td>\n",
       "      <td>NaN</td>\n",
       "    </tr>\n",
       "    <tr>\n",
       "      <th>4</th>\n",
       "      <td>https://www.avito.ru/chelyabinsk/kvartiry/1-k....</td>\n",
       "      <td>1-к. квартира, 28,7 м², 3/11 эт.</td>\n",
       "      <td>1-к. квартира</td>\n",
       "      <td>28,7 м²</td>\n",
       "      <td>3/11 эт.</td>\n",
       "      <td>1622586</td>\n",
       "      <td>56536</td>\n",
       "      <td>NaN</td>\n",
       "      <td>NaN</td>\n",
       "      <td>пос. Западный, д. 17</td>\n",
       "      <td>7 часов назад</td>\n",
       "      <td>Застройщик</td>\n",
       "      <td>Экорайон \"Вишневая горка\"</td>\n",
       "      <td>https://www.avito.ru/user/e033ce494357a96bc703...</td>\n",
       "      <td>NaN</td>\n",
       "    </tr>\n",
       "  </tbody>\n",
       "</table>\n",
       "</div>"
      ],
      "text/plain": [
       "                                              Ссылка  \\\n",
       "0  https://www.avito.ru/chelyabinsk/kvartiry/2-k....   \n",
       "1  https://www.avito.ru/chelyabinsk/kvartiry/1-k....   \n",
       "2  https://www.avito.ru/chelyabinsk/kvartiry/3-k....   \n",
       "3  https://www.avito.ru/chelyabinsk/kvartiry/3-k....   \n",
       "4  https://www.avito.ru/chelyabinsk/kvartiry/1-k....   \n",
       "\n",
       "                          Заголовок         Комнат  Площадь      Этаж  \\\n",
       "0  2-к. квартира, 44,1 м², 2/10 эт.  2-к. квартира  44,1 м²  2/10 эт.   \n",
       "1    1-к. квартира, 41 м², 1/10 эт.  1-к. квартира    41 м²  1/10 эт.   \n",
       "2  3-к. квартира, 60,8 м², 9/11 эт.  3-к. квартира  60,8 м²  9/11 эт.   \n",
       "3    3-к. квартира, 66 м², 6/10 эт.  3-к. квартира    66 м²  6/10 эт.   \n",
       "4  1-к. квартира, 28,7 м², 3/11 эт.  1-к. квартира  28,7 м²  3/11 эт.   \n",
       "\n",
       "      Цена  Цена за м2 Название жк             Район  \\\n",
       "0  2641000       59887         NaN               NaN   \n",
       "1  2850000       69512         NaN  р-н Курчатовский   \n",
       "2  3675238       60448         NaN               NaN   \n",
       "3  4400000       66667         NaN   р-н Калининский   \n",
       "4  1622586       56536         NaN               NaN   \n",
       "\n",
       "                               Улица Дата публикации  Тип продавца  \\\n",
       "0  ул. им. Генерала Костицына, д. 11    1 день назад    Застройщик   \n",
       "1                    ул. Бейвеля, 73     1 час назад     Агентство   \n",
       "2               пос. Западный, д. 15   7 часов назад    Застройщик   \n",
       "3        ул. 250-летия Челябинска, 9    5 дней назад  Частное лицо   \n",
       "4               пос. Западный, д. 17   7 часов назад    Застройщик   \n",
       "\n",
       "                    Продавец  \\\n",
       "0      ООО \"СЗ Атлант-Строй\"   \n",
       "1                АН Ника-Дом   \n",
       "2  Экорайон \"Вишневая горка\"   \n",
       "3                        NaN   \n",
       "4  Экорайон \"Вишневая горка\"   \n",
       "\n",
       "                                  Ссылка на продавца Завершённых объявлений  \n",
       "0  https://www.avito.ru/user/58f18e333b0e5cf1677e...                    NaN  \n",
       "1  https://www.avito.ru/user/5d5a6a6aecbf4100c49f...                    NaN  \n",
       "2  https://www.avito.ru/user/e033ce494357a96bc703...                    NaN  \n",
       "3                                                NaN                    NaN  \n",
       "4  https://www.avito.ru/user/e033ce494357a96bc703...                    NaN  "
      ]
     },
     "execution_count": 22,
     "metadata": {},
     "output_type": "execute_result"
    }
   ],
   "source": [
    "saved_files_csv.head(5)"
   ]
  },
  {
   "cell_type": "code",
   "execution_count": 7,
   "id": "a7fadb62",
   "metadata": {},
   "outputs": [],
   "source": [
    "ssh_host = '92.53.64.66'\n",
    "ssh_username = 'root'\n",
    "ssh_password = '6hv66fhY3JF4HfwJ'\n",
    "database_username = 'app_nedvizhk_usr'\n",
    "database_password = 'n8vBDh6NDOKylwDn'\n",
    "database_name = 'app_nedvizhka_db'\n",
    "localhost = '127.0.0.1'"
   ]
  },
  {
   "cell_type": "code",
   "execution_count": 8,
   "id": "d0a68a92",
   "metadata": {},
   "outputs": [],
   "source": [
    "def open_ssh_tunnel(verbose=False):\n",
    "\n",
    "    if verbose:\n",
    "        sshtunnel.DEFAULT_LOGLEVEL = logging.DEBUG\n",
    "    \n",
    "#     global tunnel\n",
    "    tunnel = SSHTunnelForwarder(\n",
    "        (ssh_host, 22),\n",
    "        ssh_username = ssh_username,\n",
    "        ssh_password = ssh_password,\n",
    "        remote_bind_address = ('127.0.0.1', 3306)\n",
    "    )\n",
    "    \n",
    "    tunnel.start()\n",
    "    return tunnel"
   ]
  },
  {
   "cell_type": "code",
   "execution_count": 9,
   "id": "e2419bd1",
   "metadata": {},
   "outputs": [],
   "source": [
    "def mysql_connect(tunnel):\n",
    "    \n",
    "#     global connection\n",
    "    \n",
    "    connection = pymysql.connect(\n",
    "        host=localhost,\n",
    "        user=database_username,\n",
    "        passwd=database_password,\n",
    "        db=database_name,\n",
    "        port=tunnel.local_bind_port\n",
    "    )\n",
    "    \n",
    "    return connection"
   ]
  },
  {
   "cell_type": "code",
   "execution_count": 10,
   "id": "132c6328",
   "metadata": {},
   "outputs": [],
   "source": [
    "def run_query(sql):\n",
    "    \n",
    "    return pd.read_sql_query(sql, connection)"
   ]
  },
  {
   "cell_type": "code",
   "execution_count": 11,
   "id": "cdd74584",
   "metadata": {},
   "outputs": [],
   "source": [
    "def mysql_disconnect(connection):\n",
    "    \n",
    "    connection.close()"
   ]
  },
  {
   "cell_type": "code",
   "execution_count": 12,
   "id": "a51d4aad",
   "metadata": {},
   "outputs": [],
   "source": [
    "def close_ssh_tunnel(tunnel):\n",
    "    \n",
    "    tunnel.close"
   ]
  },
  {
   "cell_type": "code",
   "execution_count": 13,
   "id": "2e46a9f5",
   "metadata": {},
   "outputs": [],
   "source": [
    "tunnel = open_ssh_tunnel(verbose=False)"
   ]
  },
  {
   "cell_type": "code",
   "execution_count": 14,
   "id": "d9b65448",
   "metadata": {},
   "outputs": [],
   "source": [
    "connection = mysql_connect(tunnel)"
   ]
  },
  {
   "cell_type": "code",
   "execution_count": 15,
   "id": "1b4c35a3",
   "metadata": {},
   "outputs": [],
   "source": [
    "cursor = connection.cursor()"
   ]
  },
  {
   "cell_type": "code",
   "execution_count": 16,
   "id": "54e44e68",
   "metadata": {},
   "outputs": [
    {
     "data": {
      "text/plain": [
       "0"
      ]
     },
     "execution_count": 16,
     "metadata": {},
     "output_type": "execute_result"
    }
   ],
   "source": [
    "cursor.execute(\"\"\"DROP table test_avito_parsed\"\"\")"
   ]
  },
  {
   "cell_type": "code",
   "execution_count": null,
   "id": "6753b17d",
   "metadata": {},
   "outputs": [],
   "source": []
  },
  {
   "cell_type": "code",
   "execution_count": 25,
   "id": "bfa89f04",
   "metadata": {},
   "outputs": [],
   "source": [
    "ssh_host = '92.53.64.66'\n",
    "ssh_username = 'root'\n",
    "ssh_password = '6hv66fhY3JF4HfwJ'\n",
    "database_username = 'app_nedvizhk_usr'\n",
    "database_password = 'n8vBDh6NDOKylwDn'\n",
    "database_name = 'app_nedvizhka_db'\n",
    "localhost = '127.0.0.1'"
   ]
  },
  {
   "cell_type": "code",
   "execution_count": 26,
   "id": "bc747d94",
   "metadata": {},
   "outputs": [],
   "source": [
    "server = SSHTunnelForwarder(\n",
    "    ('92.53.64.66', 22),\n",
    "    ssh_username=\"root\",\n",
    "    ssh_password=\"6hv66fhY3JF4HfwJ\",\n",
    "    remote_bind_address=('127.0.0.1', 3306)\n",
    "    )\n",
    "\n",
    "server.start()\n",
    "local_port = str(server.local_bind_port)\n",
    "engine = create_engine('mariadb+pymysql://{}:{}@{}:{}/{}'.format(\"app_nedvizhk_usr\", \"n8vBDh6NDOKylwDn\", \"127.0.0.1\", local_port, \"app_nedvizhka_db\"))"
   ]
  },
  {
   "cell_type": "code",
   "execution_count": 23,
   "id": "16bac97e",
   "metadata": {},
   "outputs": [],
   "source": [
    "server.stop()"
   ]
  },
  {
   "cell_type": "code",
   "execution_count": 2,
   "id": "b97d2db9",
   "metadata": {},
   "outputs": [],
   "source": [
    "import pandas as pd\n",
    "test_df = pd.DataFrame([[1, 2, 3]], columns=['as', 'ad', 'asd'])"
   ]
  },
  {
   "cell_type": "code",
   "execution_count": 3,
   "id": "6d762116",
   "metadata": {},
   "outputs": [
    {
     "data": {
      "text/html": [
       "<div>\n",
       "<style scoped>\n",
       "    .dataframe tbody tr th:only-of-type {\n",
       "        vertical-align: middle;\n",
       "    }\n",
       "\n",
       "    .dataframe tbody tr th {\n",
       "        vertical-align: top;\n",
       "    }\n",
       "\n",
       "    .dataframe thead th {\n",
       "        text-align: right;\n",
       "    }\n",
       "</style>\n",
       "<table border=\"1\" class=\"dataframe\">\n",
       "  <thead>\n",
       "    <tr style=\"text-align: right;\">\n",
       "      <th></th>\n",
       "      <th>as</th>\n",
       "      <th>ad</th>\n",
       "      <th>asd</th>\n",
       "    </tr>\n",
       "  </thead>\n",
       "  <tbody>\n",
       "    <tr>\n",
       "      <th>0</th>\n",
       "      <td>1</td>\n",
       "      <td>2</td>\n",
       "      <td>3</td>\n",
       "    </tr>\n",
       "  </tbody>\n",
       "</table>\n",
       "</div>"
      ],
      "text/plain": [
       "   as  ad  asd\n",
       "0   1   2    3"
      ]
     },
     "execution_count": 3,
     "metadata": {},
     "output_type": "execute_result"
    }
   ],
   "source": [
    "test_df"
   ]
  },
  {
   "cell_type": "code",
   "execution_count": 27,
   "id": "39cb5405",
   "metadata": {},
   "outputs": [
    {
     "data": {
      "text/plain": [
       "207270"
      ]
     },
     "execution_count": 27,
     "metadata": {},
     "output_type": "execute_result"
    }
   ],
   "source": [
    "saved_files_csv.to_sql(name='test_avito_parsed', con=engine, if_exists='append', chunksize=5000, method='multi')"
   ]
  },
  {
   "cell_type": "code",
   "execution_count": null,
   "id": "eef5db4f",
   "metadata": {},
   "outputs": [],
   "source": []
  }
 ],
 "metadata": {
  "kernelspec": {
   "display_name": "Python 3 (ipykernel)",
   "language": "python",
   "name": "python3"
  },
  "language_info": {
   "codemirror_mode": {
    "name": "ipython",
    "version": 3
   },
   "file_extension": ".py",
   "mimetype": "text/x-python",
   "name": "python",
   "nbconvert_exporter": "python",
   "pygments_lexer": "ipython3",
   "version": "3.10.4"
  }
 },
 "nbformat": 4,
 "nbformat_minor": 5
}
